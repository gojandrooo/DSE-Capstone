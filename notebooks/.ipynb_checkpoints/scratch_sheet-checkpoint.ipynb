{
 "cells": [
  {
   "cell_type": "code",
   "execution_count": 1,
   "id": "2daf9aa5-463f-4feb-abc7-8a8c2ee0020a",
   "metadata": {
    "tags": []
   },
   "outputs": [],
   "source": [
    "from dask.distributed import Client"
   ]
  },
  {
   "cell_type": "code",
   "execution_count": 1,
   "id": "39412817",
   "metadata": {},
   "outputs": [],
   "source": [
    "import pandas as pd"
   ]
  },
  {
   "cell_type": "code",
   "execution_count": 13,
   "id": "7c9a2fb1",
   "metadata": {},
   "outputs": [
    {
     "data": {
      "text/plain": [
       "'2.6.0'"
      ]
     },
     "execution_count": 13,
     "metadata": {},
     "output_type": "execute_result"
    }
   ],
   "source": [
    "tabula.__version__"
   ]
  },
  {
   "cell_type": "code",
   "execution_count": 7,
   "id": "b7048cbc",
   "metadata": {},
   "outputs": [],
   "source": [
    "import tabula"
   ]
  },
  {
   "cell_type": "code",
   "execution_count": 2,
   "id": "df6fc0f9",
   "metadata": {},
   "outputs": [],
   "source": [
    "# file = \"../data/[file_name].xlsx\"\n",
    "# xl = pd.ExcelFile(file)\n",
    "# sheets = xl.sheet_names  # see all sheet names\n",
    "# sheets"
   ]
  },
  {
   "cell_type": "code",
   "execution_count": 9,
   "id": "08111050",
   "metadata": {},
   "outputs": [],
   "source": [
    "tabula.io.read_pdf?"
   ]
  },
  {
   "cell_type": "code",
   "execution_count": 11,
   "id": "edaf9067",
   "metadata": {},
   "outputs": [
    {
     "name": "stderr",
     "output_type": "stream",
     "text": [
      "Got stderr: Feb 02, 2023 2:09:47 PM org.apache.pdfbox.pdmodel.font.FileSystemFontProvider loadDiskCache\n",
      "WARNING: New fonts found, font cache will be re-built\n",
      "Feb 02, 2023 2:09:47 PM org.apache.pdfbox.pdmodel.font.FileSystemFontProvider <init>\n",
      "WARNING: Building on-disk font cache, this may take a while\n",
      "Feb 02, 2023 2:09:48 PM org.apache.pdfbox.pdmodel.font.FileSystemFontProvider <init>\n",
      "WARNING: Finished building on-disk font cache, found 784 fonts\n",
      "\n"
     ]
    },
    {
     "data": {
      "text/plain": [
       "[   LANDFIRE Fire Behavior Fuel Model 40 Attribute Data Dictionary  \\\n",
       " 0                                                 NaN               \n",
       " 1                                           Attribute               \n",
       " 2                                                 NaN               \n",
       " 3                                               VALUE               \n",
       " 4                                               -9999               \n",
       " 5                                                  91               \n",
       " 6                                                  92               \n",
       " 7                                                  93               \n",
       " 8                                                  98               \n",
       " 9                                                  99               \n",
       " 10                                                101               \n",
       " 11                                                102               \n",
       " 12                                                103               \n",
       " 13                                                104               \n",
       " 14                                                105               \n",
       " 15                                                106               \n",
       " 16                                                107               \n",
       " 17                                                108               \n",
       " 18                                                109               \n",
       " 19                                                121               \n",
       " 20                                                122               \n",
       " 21                                                123               \n",
       " 22                                                124               \n",
       " 23                                                141               \n",
       " 24                                                142               \n",
       " 25                                                143               \n",
       " 26                                                144               \n",
       " 27                                                145               \n",
       " 28                                                146               \n",
       " 29                                                147               \n",
       " 30                                                148               \n",
       " 31                                                149               \n",
       " 32                                                161               \n",
       " 33                                                162               \n",
       " 34                                                163               \n",
       " 35                                                164               \n",
       " 36                                                165               \n",
       " 37                                                181               \n",
       " 38                                                182               \n",
       " 39                                                183               \n",
       " 40                                                184               \n",
       " 41                                                185               \n",
       " 42                                                186               \n",
       " 43                                                187               \n",
       " 44                                                188               \n",
       " 45                                                189               \n",
       " 46                                                201               \n",
       " \n",
       "                                            Unnamed: 0  \n",
       " 0                                                 NaN  \n",
       " 1                                         Description  \n",
       " 2                                                 NaN  \n",
       " 3   These fire behavior fuel models represent dist...  \n",
       " 4                                       Fill - NoData  \n",
       " 5                                                 NB1  \n",
       " 6                                                 NB2  \n",
       " 7                                                 NB3  \n",
       " 8                                                 NB8  \n",
       " 9                                                 NB9  \n",
       " 10                                                GR1  \n",
       " 11                                                GR2  \n",
       " 12                                                GR3  \n",
       " 13                                                GR4  \n",
       " 14                                                GR5  \n",
       " 15                                                GR6  \n",
       " 16                                                GR7  \n",
       " 17                                                GR8  \n",
       " 18                                                GR9  \n",
       " 19                                                GS1  \n",
       " 20                                                GS2  \n",
       " 21                                                GS3  \n",
       " 22                                                GS4  \n",
       " 23                                                SH1  \n",
       " 24                                                SH2  \n",
       " 25                                                SH3  \n",
       " 26                                                SH4  \n",
       " 27                                                SH5  \n",
       " 28                                                SH6  \n",
       " 29                                                SH7  \n",
       " 30                                                SH8  \n",
       " 31                                                SH9  \n",
       " 32                                                TU1  \n",
       " 33                                                TU2  \n",
       " 34                                                TU3  \n",
       " 35                                                TU4  \n",
       " 36                                                TU5  \n",
       " 37                                                TL1  \n",
       " 38                                                TL2  \n",
       " 39                                                TL3  \n",
       " 40                                                TL4  \n",
       " 41                                                TL5  \n",
       " 42                                                TL6  \n",
       " 43                                                TL7  \n",
       " 44                                                TL8  \n",
       " 45                                                TL9  \n",
       " 46                                                SB1  ,\n",
       "       202                                                SB2\n",
       " 0     203                                                SB3\n",
       " 1     204                                                SB4\n",
       " 2     NaN                                                NaN\n",
       " 3   Count       number of pixels for the corresponding value\n",
       " 4     NaN                                                NaN\n",
       " 5    FBFM                Display attribute. FBFM Description\n",
       " 6     NB1                                    Urban/Developed\n",
       " 7     NB2                                           Snow/Ice\n",
       " 8     NB3                                       Agricultural\n",
       " 9     NB8                                         Open Water\n",
       " 10    NB9                                             Barren\n",
       " 11    GR1  Short, sparse dry climate grass is short, natu...\n",
       " 12    GR2  Low load, dry climate grass primarily grass wi...\n",
       " 13    GR3  Low load, very coarse, humid climate grass con...\n",
       " 14    GR4  Moderate load, dry climate grass, continuous, ...\n",
       " 15    GR5  Low load, humid climate grass, fuelbed depth i...\n",
       " 16    GR6  Moderate load, continuous humid climate grass,...\n",
       " 17    GR7  High load, continuous dry climate grass, grass...\n",
       " 18    GR8  High load, very coarse, continuous, humid clim...\n",
       " 19    GR9  Very high load, dense, tall, humid climate gra...\n",
       " 20    GS1  Low load, dry climate grass-shrub shrub about ...\n",
       " 21    GS2  Moderate load, dry climate grass-shrub, shrubs...\n",
       " 22    GS3  Moderate load, humid climate grass-shrub, mode...\n",
       " 23    GS4  High load, humid climate grass-shrub, heavy gr...\n",
       " 24    SH1  Low load dry climate shrub, woody shrubs and s...\n",
       " 25    SH2  Moderate load dry climate shrub, woody shrubs ...\n",
       " 26    SH3  Moderate load, humid climate shrub, woody shru...\n",
       " 27    SH4  Low load, humid climate timber shrub, woody sh...\n",
       " 28    SH5  High load, dry climate shrub litter and woody ...\n",
       " 29    SH6  Low load, humid climate shrub, woody shrubs an...\n",
       " 30    SH7  Very high load, dry climate shrub, woody shrub...\n",
       " 31    SH8  High load, humid climate shrub, woody shrubs a...,\n",
       "                                                   SH9  \\\n",
       " 0                                                 TU1   \n",
       " 1                                                 TU2   \n",
       " 2                                                 TU3   \n",
       " 3                                                 TU4   \n",
       " 4                                                 TU5   \n",
       " 5                                                 TL1   \n",
       " 6                                                 TL2   \n",
       " 7                                                 TL3   \n",
       " 8                                                 TL4   \n",
       " 9                                                 TL5   \n",
       " 10                                                TL6   \n",
       " 11                                                TL7   \n",
       " 12                                                TL8   \n",
       " 13                                                TL9   \n",
       " 14                                                SB1   \n",
       " 15                                                SB2   \n",
       " 16                                                SB3   \n",
       " 17                                                SB4   \n",
       " 18                                                NaN   \n",
       " 19                                                  R   \n",
       " 20                                                  G   \n",
       " 21                                                  B   \n",
       " 22                                                RED   \n",
       " 23                                              GREEN   \n",
       " 24                                               BLUE   \n",
       " 25                                                NaN   \n",
       " 26  For more information, refer to: https://www.fs...   \n",
       " 27                                                NaN   \n",
       " \n",
       "    Very high load, humid climate shrub, woody shrubs and shrub litter, dense finely branched shrubs with fine\\rdead fuel, 4-6 feet tall, herbaceous may be present, spread rate and flame high  \n",
       " 0   Low load dry climate timber grass shrub, low l...                                                                                                                                           \n",
       " 1   Moderate load, humid climate timber-shrub, mod...                                                                                                                                           \n",
       " 2   Moderate load, humid climate timber grass shru...                                                                                                                                           \n",
       " 3   Dwarf conifer with understory, short conifer t...                                                                                                                                           \n",
       " 4   Very high load, dry climate timber shrub, heav...                                                                                                                                           \n",
       " 5   Low load compact conifer litter, compact fores...                                                                                                                                           \n",
       " 6   Low load broadleaf litter, broadleaf, hardwood...                                                                                                                                           \n",
       " 7   Moderate load conifer litter, moderate load co...                                                                                                                                           \n",
       " 8   Small downed logs moderate load of fine litter...                                                                                                                                           \n",
       " 9   High load conifer litter, light slash or dead ...                                                                                                                                           \n",
       " 10  Moderate load broadleaf litter, spread rate an...                                                                                                                                           \n",
       " 11  Large downed logs, heavy load forest litter, l...                                                                                                                                           \n",
       " 12  Long needle litter, moderate load long needle ...                                                                                                                                           \n",
       " 13  Very high load broadleaf litter, may be heavy ...                                                                                                                                           \n",
       " 14  Low load activity fuel, light dead and down ac...                                                                                                                                           \n",
       " 15  Moderate load activity fuel or low load blowdo...                                                                                                                                           \n",
       " 16  High load activity fuel or moderate load blowd...                                                                                                                                           \n",
       " 17  High load blowdown, heavy blowdown fuel, blowd...                                                                                                                                           \n",
       " 18                                                NaN                                                                                                                                           \n",
       " 19                      Red color value range 0 - 255                                                                                                                                           \n",
       " 20                    Green color value range 0 - 255                                                                                                                                           \n",
       " 21                     Blue color value range 0 - 255                                                                                                                                           \n",
       " 22                        Red color value range 0 - 1                                                                                                                                           \n",
       " 23                      Green color value range 0 - 1                                                                                                                                           \n",
       " 24                       Blue color value range 0 - 1                                                                                                                                           \n",
       " 25                                                NaN                                                                                                                                           \n",
       " 26                                                NaN                                                                                                                                           \n",
       " 27                                                NaN                                                                                                                                           ]"
      ]
     },
     "execution_count": 11,
     "metadata": {},
     "output_type": "execute_result"
    }
   ],
   "source": [
    "file = \"../data/LF20_F40ADD_220.pdf\"\n",
    "data_dict = tabula.io.read_pdf(file, pages='all')\n",
    "data_dict"
   ]
  },
  {
   "cell_type": "code",
   "execution_count": 3,
   "id": "cd6507ff",
   "metadata": {},
   "outputs": [
    {
     "data": {
      "text/html": [
       "<div>\n",
       "<style scoped>\n",
       "    .dataframe tbody tr th:only-of-type {\n",
       "        vertical-align: middle;\n",
       "    }\n",
       "\n",
       "    .dataframe tbody tr th {\n",
       "        vertical-align: top;\n",
       "    }\n",
       "\n",
       "    .dataframe thead th {\n",
       "        text-align: right;\n",
       "    }\n",
       "</style>\n",
       "<table border=\"1\" class=\"dataframe\">\n",
       "  <thead>\n",
       "    <tr style=\"text-align: right;\">\n",
       "      <th></th>\n",
       "      <th>VALUE</th>\n",
       "      <th>FBFM40</th>\n",
       "      <th>R</th>\n",
       "      <th>G</th>\n",
       "      <th>B</th>\n",
       "      <th>RED</th>\n",
       "      <th>GREEN</th>\n",
       "      <th>BLUE</th>\n",
       "    </tr>\n",
       "  </thead>\n",
       "  <tbody>\n",
       "    <tr>\n",
       "      <th>0</th>\n",
       "      <td>91</td>\n",
       "      <td>NB1</td>\n",
       "      <td>104</td>\n",
       "      <td>104</td>\n",
       "      <td>104</td>\n",
       "      <td>0.407843</td>\n",
       "      <td>0.407843</td>\n",
       "      <td>0.407843</td>\n",
       "    </tr>\n",
       "    <tr>\n",
       "      <th>1</th>\n",
       "      <td>92</td>\n",
       "      <td>NB2</td>\n",
       "      <td>225</td>\n",
       "      <td>225</td>\n",
       "      <td>225</td>\n",
       "      <td>0.882353</td>\n",
       "      <td>0.882353</td>\n",
       "      <td>0.882353</td>\n",
       "    </tr>\n",
       "    <tr>\n",
       "      <th>2</th>\n",
       "      <td>93</td>\n",
       "      <td>NB3</td>\n",
       "      <td>255</td>\n",
       "      <td>237</td>\n",
       "      <td>237</td>\n",
       "      <td>1.000000</td>\n",
       "      <td>0.929412</td>\n",
       "      <td>0.929412</td>\n",
       "    </tr>\n",
       "    <tr>\n",
       "      <th>3</th>\n",
       "      <td>98</td>\n",
       "      <td>NB8</td>\n",
       "      <td>0</td>\n",
       "      <td>14</td>\n",
       "      <td>214</td>\n",
       "      <td>0.000000</td>\n",
       "      <td>0.054902</td>\n",
       "      <td>0.839216</td>\n",
       "    </tr>\n",
       "    <tr>\n",
       "      <th>4</th>\n",
       "      <td>99</td>\n",
       "      <td>NB9</td>\n",
       "      <td>77</td>\n",
       "      <td>110</td>\n",
       "      <td>112</td>\n",
       "      <td>0.301961</td>\n",
       "      <td>0.431373</td>\n",
       "      <td>0.439216</td>\n",
       "    </tr>\n",
       "  </tbody>\n",
       "</table>\n",
       "</div>"
      ],
      "text/plain": [
       "   VALUE FBFM40    R    G    B       RED     GREEN      BLUE\n",
       "0     91    NB1  104  104  104  0.407843  0.407843  0.407843\n",
       "1     92    NB2  225  225  225  0.882353  0.882353  0.882353\n",
       "2     93    NB3  255  237  237  1.000000  0.929412  0.929412\n",
       "3     98    NB8    0   14  214  0.000000  0.054902  0.839216\n",
       "4     99    NB9   77  110  112  0.301961  0.431373  0.439216"
      ]
     },
     "execution_count": 3,
     "metadata": {},
     "output_type": "execute_result"
    }
   ],
   "source": [
    "file = \"../data/LF20_F40_220.csv\"\n",
    "raw_data = pd.read_csv(file)\n",
    "raw_data.head()"
   ]
  },
  {
   "cell_type": "code",
   "execution_count": 16,
   "id": "b39cc891",
   "metadata": {},
   "outputs": [
    {
     "data": {
      "text/plain": [
       "(46, 8)"
      ]
     },
     "execution_count": 16,
     "metadata": {},
     "output_type": "execute_result"
    }
   ],
   "source": [
    "raw_data.shape"
   ]
  },
  {
   "cell_type": "code",
   "execution_count": 14,
   "id": "53e08058",
   "metadata": {},
   "outputs": [
    {
     "name": "stdout",
     "output_type": "stream",
     "text": [
      "<class 'pandas.core.frame.DataFrame'>\n",
      "RangeIndex: 46 entries, 0 to 45\n",
      "Data columns (total 8 columns):\n",
      " #   Column  Non-Null Count  Dtype  \n",
      "---  ------  --------------  -----  \n",
      " 0   VALUE   46 non-null     int64  \n",
      " 1   FBFM40  46 non-null     object \n",
      " 2   R       46 non-null     int64  \n",
      " 3   G       46 non-null     int64  \n",
      " 4   B       46 non-null     int64  \n",
      " 5   RED     46 non-null     float64\n",
      " 6   GREEN   46 non-null     float64\n",
      " 7   BLUE    46 non-null     float64\n",
      "dtypes: float64(3), int64(4), object(1)\n",
      "memory usage: 3.0+ KB\n"
     ]
    }
   ],
   "source": [
    "raw_data.info()"
   ]
  },
  {
   "cell_type": "code",
   "execution_count": null,
   "id": "c44a1838-8a23-47d5-9b3f-d10ca187e557",
   "metadata": {},
   "outputs": [],
   "source": []
  },
  {
   "cell_type": "code",
   "execution_count": null,
   "id": "c5ca4131-eccd-4f60-b386-65de44844dc9",
   "metadata": {},
   "outputs": [],
   "source": []
  },
  {
   "cell_type": "code",
   "execution_count": null,
   "id": "05381321-23b6-4e7c-a8b8-2bff03f0be76",
   "metadata": {},
   "outputs": [],
   "source": []
  },
  {
   "cell_type": "code",
   "execution_count": null,
   "id": "9b39ce1b-8f03-4892-9da0-21eefdde7106",
   "metadata": {},
   "outputs": [],
   "source": []
  },
  {
   "cell_type": "code",
   "execution_count": 9,
   "id": "579d3b4b-3c74-4e20-942c-06683335481f",
   "metadata": {
    "tags": []
   },
   "outputs": [
    {
     "data": {
      "text/plain": [
       "['b', 'a']"
      ]
     },
     "execution_count": 9,
     "metadata": {},
     "output_type": "execute_result"
    }
   ],
   "source": [
    "list(set(blah).difference(del_15))"
   ]
  }
 ],
 "metadata": {
  "kernelspec": {
   "display_name": "Python 3 (ipykernel)",
   "language": "python",
   "name": "python3"
  },
  "language_info": {
   "codemirror_mode": {
    "name": "ipython",
    "version": 3
   },
   "file_extension": ".py",
   "mimetype": "text/x-python",
   "name": "python",
   "nbconvert_exporter": "python",
   "pygments_lexer": "ipython3",
   "version": "3.10.10"
  }
 },
 "nbformat": 4,
 "nbformat_minor": 5
}
