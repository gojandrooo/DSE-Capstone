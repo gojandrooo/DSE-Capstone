{
 "cells": [
  {
   "cell_type": "markdown",
   "id": "bcac2fa9",
   "metadata": {
    "tags": []
   },
   "source": [
    "# Debris Flow Contributing Region\n",
    "\n",
    "This notebook computes the contributing region (catchment, basin) for the debris flow locations in the [Staley *et al.* (2016)](https://pubs.er.usgs.gov/publication/ofr20161106) dataset.  It also adds the additional fuel-related features defined [by Roten *et al.*, 2022](https://ieeexplore.ieee.org/abstract/document/10020574).\n",
    "\n",
    "This notebook follows the pysheds example shown in https://github.com/mdbartos/pysheds\n",
    "\n",
    "It uses the 1/3 arc second data from the USGS:\n",
    "\n",
    "https://tjwebb.medium.com/working-with-usgs-elevation-ned-3dep-data-and-postgis-c0fac3cd6c1b\n",
    "\n",
    "The notebook uses Dask and may be deployed on a single workstation or node with running one or several dask threads, as well as on a cluster (e.g., Kubernetes)"
   ]
  },
  {
   "cell_type": "code",
   "execution_count": 1,
   "id": "b98e1d40",
   "metadata": {},
   "outputs": [],
   "source": [
    "import pandas as pd\n",
    "from shapely.geometry import Point\n",
    "#import sqlalchemy as sal\n",
    "import geopandas as gpd\n",
    "import numpy as np"
   ]
  },
  {
   "cell_type": "code",
   "execution_count": 2,
   "id": "ce8c1e69-ad62-4b95-9e8c-ca40fa73e3ca",
   "metadata": {},
   "outputs": [],
   "source": [
    "import matplotlib.pyplot as plt\n",
    "plt.style.use('dark_background')"
   ]
  },
  {
   "cell_type": "code",
   "execution_count": 3,
   "id": "7f1ab111",
   "metadata": {},
   "outputs": [
    {
     "name": "stdout",
     "output_type": "stream",
     "text": [
      "Collecting pyarrow\n",
      "  Downloading pyarrow-11.0.0-cp39-cp39-macosx_10_14_x86_64.whl (24.5 MB)\n",
      "\u001b[K     |████████████████████████████████| 24.5 MB 4.0 MB/s eta 0:00:01\n",
      "\u001b[?25hRequirement already satisfied: numpy>=1.16.6 in /Users/ah/opt/anaconda3/lib/python3.9/site-packages (from pyarrow) (1.21.5)\n",
      "Installing collected packages: pyarrow\n",
      "Successfully installed pyarrow-11.0.0\n"
     ]
    }
   ],
   "source": [
    "!pip install pyarrow"
   ]
  },
  {
   "cell_type": "code",
   "execution_count": 3,
   "id": "e6e7e70f",
   "metadata": {},
   "outputs": [],
   "source": [
    "modelDataI=gpd.read_parquet(\"staley16_debrisflow.parquet\")\n",
    "#modelDataI.head()"
   ]
  },
  {
   "cell_type": "code",
   "execution_count": 4,
   "id": "a05453bb",
   "metadata": {},
   "outputs": [
    {
     "data": {
      "text/plain": [
       "fire_name                                                    Buckweed\n",
       "year                                                             2007\n",
       "fire_id                                                           bck\n",
       "fire_segid                                                   bck_1035\n",
       "database                                                     Training\n",
       "state                                                              CA\n",
       "response                                                            0\n",
       "stormdate                                                          22\n",
       "gaugedist_m                                                   1998.67\n",
       "stormstart                                        2008-01-21 16:27:00\n",
       "stormend                                          2008-01-22 19:20:00\n",
       "stormdur_h                                                     26.883\n",
       "stormaccum_mm                                                     5.4\n",
       "stormavgi_mmh                                                     0.2\n",
       "peak_i15_mmh                                                      3.2\n",
       "peak_i30_mmh                                                      2.0\n",
       "peak_i60_mmh                                                      2.0\n",
       "contributingarea_km2                                         0.378767\n",
       "prophm23                                                     0.217933\n",
       "dnbr1000                                                     0.297853\n",
       "kf                                                               0.25\n",
       "acc015_mm                                                         0.8\n",
       "acc030_mm                                                         1.0\n",
       "acc060_mm                                                         2.0\n",
       "geom                    POINT (-118.43707630192644 34.54235771812746)\n",
       "lon                                                       -118.437076\n",
       "lat                                                         34.542358\n",
       "SiteID                                                              0\n",
       "Name: 0, dtype: object"
      ]
     },
     "execution_count": 4,
     "metadata": {},
     "output_type": "execute_result"
    }
   ],
   "source": [
    "modelDataI.loc[0,:]"
   ]
  },
  {
   "cell_type": "code",
   "execution_count": 5,
   "id": "4ae6fa44",
   "metadata": {},
   "outputs": [],
   "source": [
    "# each site should have the same contributing area regardless of event\n",
    "assert(len(modelDataI[\"SiteID\"].unique()) == len(modelDataI[\"contributingarea_km2\"].unique()))"
   ]
  },
  {
   "cell_type": "code",
   "execution_count": 6,
   "id": "72e415ed",
   "metadata": {},
   "outputs": [
    {
     "data": {
      "text/plain": [
       "'3.9.12 (main, Apr  5 2022, 01:53:17) \\n[Clang 12.0.0 ]'"
      ]
     },
     "execution_count": 6,
     "metadata": {},
     "output_type": "execute_result"
    }
   ],
   "source": [
    "import sys\n",
    "sys.version"
   ]
  },
  {
   "cell_type": "code",
   "execution_count": 9,
   "id": "f5d6a267",
   "metadata": {},
   "outputs": [
    {
     "name": "stdout",
     "output_type": "stream",
     "text": [
      "Collecting pysheds\n",
      "  Downloading pysheds-0.3.3-py3-none-any.whl (88 kB)\n",
      "\u001b[K     |████████████████████████████████| 88 kB 2.9 MB/s eta 0:00:01\n",
      "\u001b[?25hRequirement already satisfied: pyproj in /Users/ah/opt/anaconda3/lib/python3.9/site-packages (from pysheds) (3.4.1)\n",
      "Requirement already satisfied: numpy in /Users/ah/opt/anaconda3/lib/python3.9/site-packages (from pysheds) (1.21.5)\n",
      "Requirement already satisfied: scikit-image in /Users/ah/opt/anaconda3/lib/python3.9/site-packages (from pysheds) (0.19.2)\n",
      "Requirement already satisfied: pandas in /Users/ah/opt/anaconda3/lib/python3.9/site-packages (from pysheds) (1.4.2)\n",
      "Collecting geojson\n",
      "  Downloading geojson-3.0.1-py3-none-any.whl (15 kB)\n",
      "Collecting affine\n",
      "  Downloading affine-2.4.0-py3-none-any.whl (15 kB)\n",
      "Collecting rasterio>=1\n",
      "  Downloading rasterio-1.3.6-cp39-cp39-macosx_10_15_x86_64.whl (20.8 MB)\n",
      "\u001b[K     |████████████████████████████████| 20.8 MB 10.7 MB/s eta 0:00:01   |█████████▎                      | 6.0 MB 6.7 MB/s eta 0:00:03\n",
      "\u001b[?25hRequirement already satisfied: scipy in /Users/ah/opt/anaconda3/lib/python3.9/site-packages (from pysheds) (1.9.3)\n",
      "Requirement already satisfied: numba in /Users/ah/opt/anaconda3/lib/python3.9/site-packages (from pysheds) (0.55.1)\n",
      "Requirement already satisfied: click-plugins in /Users/ah/opt/anaconda3/lib/python3.9/site-packages (from rasterio>=1->pysheds) (1.1.1)\n",
      "Requirement already satisfied: click>=4.0 in /Users/ah/opt/anaconda3/lib/python3.9/site-packages (from rasterio>=1->pysheds) (8.0.4)\n",
      "Requirement already satisfied: certifi in /Users/ah/opt/anaconda3/lib/python3.9/site-packages (from rasterio>=1->pysheds) (2021.10.8)\n",
      "Requirement already satisfied: setuptools in /Users/ah/opt/anaconda3/lib/python3.9/site-packages (from rasterio>=1->pysheds) (61.2.0)\n",
      "Collecting snuggs>=1.4.1\n",
      "  Downloading snuggs-1.4.7-py3-none-any.whl (5.4 kB)\n",
      "Requirement already satisfied: attrs in /Users/ah/opt/anaconda3/lib/python3.9/site-packages (from rasterio>=1->pysheds) (21.4.0)\n",
      "Requirement already satisfied: cligj>=0.5 in /Users/ah/opt/anaconda3/lib/python3.9/site-packages (from rasterio>=1->pysheds) (0.7.2)\n",
      "Requirement already satisfied: pyparsing>=2.1.6 in /Users/ah/opt/anaconda3/lib/python3.9/site-packages (from snuggs>=1.4.1->rasterio>=1->pysheds) (3.0.4)\n",
      "Requirement already satisfied: llvmlite<0.39,>=0.38.0rc1 in /Users/ah/opt/anaconda3/lib/python3.9/site-packages (from numba->pysheds) (0.38.0)\n",
      "Requirement already satisfied: python-dateutil>=2.8.1 in /Users/ah/opt/anaconda3/lib/python3.9/site-packages (from pandas->pysheds) (2.8.2)\n",
      "Requirement already satisfied: pytz>=2020.1 in /Users/ah/opt/anaconda3/lib/python3.9/site-packages (from pandas->pysheds) (2021.3)\n",
      "Requirement already satisfied: six>=1.5 in /Users/ah/opt/anaconda3/lib/python3.9/site-packages (from python-dateutil>=2.8.1->pandas->pysheds) (1.16.0)\n",
      "Requirement already satisfied: tifffile>=2019.7.26 in /Users/ah/opt/anaconda3/lib/python3.9/site-packages (from scikit-image->pysheds) (2021.7.2)\n",
      "Requirement already satisfied: imageio>=2.4.1 in /Users/ah/opt/anaconda3/lib/python3.9/site-packages (from scikit-image->pysheds) (2.9.0)\n",
      "Requirement already satisfied: pillow!=7.1.0,!=7.1.1,!=8.3.0,>=6.1.0 in /Users/ah/opt/anaconda3/lib/python3.9/site-packages (from scikit-image->pysheds) (9.0.1)\n",
      "Requirement already satisfied: packaging>=20.0 in /Users/ah/opt/anaconda3/lib/python3.9/site-packages (from scikit-image->pysheds) (21.3)\n",
      "Requirement already satisfied: networkx>=2.2 in /Users/ah/opt/anaconda3/lib/python3.9/site-packages (from scikit-image->pysheds) (2.7.1)\n",
      "Requirement already satisfied: PyWavelets>=1.1.1 in /Users/ah/opt/anaconda3/lib/python3.9/site-packages (from scikit-image->pysheds) (1.3.0)\n",
      "Installing collected packages: snuggs, affine, rasterio, geojson, pysheds\n",
      "Successfully installed affine-2.4.0 geojson-3.0.1 pysheds-0.3.3 rasterio-1.3.6 snuggs-1.4.7\n",
      "Note: you may need to restart the kernel to use updated packages.\n"
     ]
    }
   ],
   "source": [
    "%pip install pysheds"
   ]
  },
  {
   "cell_type": "code",
   "execution_count": 7,
   "id": "9abc7f7f",
   "metadata": {},
   "outputs": [
    {
     "data": {
      "text/plain": [
       "'0.3.3'"
      ]
     },
     "execution_count": 7,
     "metadata": {},
     "output_type": "execute_result"
    }
   ],
   "source": [
    "import pysheds\n",
    "pysheds.__version__"
   ]
  },
  {
   "cell_type": "code",
   "execution_count": 8,
   "id": "62ba3612",
   "metadata": {},
   "outputs": [],
   "source": [
    "import pysheds\n",
    "from pysheds.grid import Grid\n",
    "from os import getpid\n",
    "from posix import unlink"
   ]
  },
  {
   "cell_type": "markdown",
   "id": "0d82f524-e5e4-4fd5-ac59-07d8f8497b53",
   "metadata": {},
   "source": [
    "Adding directory of fuel transformer module to path:"
   ]
  },
  {
   "cell_type": "code",
   "execution_count": 9,
   "id": "fd2197ec-a1d4-49b7-8f92-f80ec28673a6",
   "metadata": {},
   "outputs": [],
   "source": [
    "sys.path.append(\"../Landfire/\")"
   ]
  },
  {
   "cell_type": "markdown",
   "id": "31f46f15-6be0-4e79-a8c2-c47b62fa504c",
   "metadata": {},
   "source": [
    "The warning about Fastfuels can be ignored."
   ]
  },
  {
   "cell_type": "code",
   "execution_count": 10,
   "id": "afeab947",
   "metadata": {},
   "outputs": [
    {
     "name": "stdout",
     "output_type": "stream",
     "text": [
      "Requirement already satisfied: fastfuels in /Users/ah/opt/anaconda3/lib/python3.9/site-packages (1.0.4)\n",
      "Collecting colorcet==2.0.6\n",
      "  Downloading colorcet-2.0.6-py2.py3-none-any.whl (1.6 MB)\n",
      "\u001b[2K     \u001b[90m━━━━━━━━━━━━━━━━━━━━━━━━━━━━━━━━━━━━━━━━\u001b[0m \u001b[32m1.6/1.6 MB\u001b[0m \u001b[31m25.4 MB/s\u001b[0m eta \u001b[36m0:00:00\u001b[0ma \u001b[36m0:00:01\u001b[0m\n",
      "\u001b[?25hCollecting msgpack==1.0.2\n",
      "  Downloading msgpack-1.0.2-cp39-cp39-macosx_10_14_x86_64.whl (74 kB)\n",
      "\u001b[2K     \u001b[90m━━━━━━━━━━━━━━━━━━━━━━━━━━━━━━━━━━━━━━━━\u001b[0m \u001b[32m74.6/74.6 kB\u001b[0m \u001b[31m9.3 MB/s\u001b[0m eta \u001b[36m0:00:00\u001b[0m\n",
      "\u001b[?25hRequirement already satisfied: zarr==2.8.3 in /Users/ah/opt/anaconda3/lib/python3.9/site-packages (from fastfuels) (2.8.3)\n",
      "Requirement already satisfied: pyvista==0.28.1 in /Users/ah/opt/anaconda3/lib/python3.9/site-packages (from fastfuels) (0.28.1)\n",
      "Requirement already satisfied: s3fs==2021.11.0 in /Users/ah/opt/anaconda3/lib/python3.9/site-packages (from fastfuels) (2021.11.0)\n",
      "Collecting fsspec==2021.11.0\n",
      "  Using cached fsspec-2021.11.0-py3-none-any.whl (132 kB)\n",
      "Collecting numpy==1.21.4\n",
      "  Using cached numpy-1.21.4-cp39-cp39-macosx_10_9_x86_64.whl (17.0 MB)\n",
      "Requirement already satisfied: shapely<2 in /Users/ah/opt/anaconda3/lib/python3.9/site-packages (from fastfuels) (1.8.5.post1)\n",
      "Collecting scipy==1.7.2\n",
      "  Using cached scipy-1.7.2-cp39-cp39-macosx_10_9_x86_64.whl (33.2 MB)\n",
      "Requirement already satisfied: param>=1.7.0 in /Users/ah/opt/anaconda3/lib/python3.9/site-packages (from colorcet==2.0.6->fastfuels) (1.12.3)\n",
      "Requirement already satisfied: pyct>=0.4.4 in /Users/ah/opt/anaconda3/lib/python3.9/site-packages (from colorcet==2.0.6->fastfuels) (0.5.0)\n",
      "Requirement already satisfied: transforms3d==0.3.1 in /Users/ah/opt/anaconda3/lib/python3.9/site-packages (from pyvista==0.28.1->fastfuels) (0.3.1)\n",
      "Requirement already satisfied: meshio<5.0,>=4.0.3 in /Users/ah/opt/anaconda3/lib/python3.9/site-packages (from pyvista==0.28.1->fastfuels) (4.4.6)\n",
      "Requirement already satisfied: vtk in /Users/ah/opt/anaconda3/lib/python3.9/site-packages (from pyvista==0.28.1->fastfuels) (9.2.6)\n",
      "Requirement already satisfied: appdirs in /Users/ah/opt/anaconda3/lib/python3.9/site-packages (from pyvista==0.28.1->fastfuels) (1.4.4)\n",
      "Requirement already satisfied: imageio in /Users/ah/opt/anaconda3/lib/python3.9/site-packages (from pyvista==0.28.1->fastfuels) (2.9.0)\n",
      "Requirement already satisfied: pillow in /Users/ah/opt/anaconda3/lib/python3.9/site-packages (from pyvista==0.28.1->fastfuels) (9.4.0)\n",
      "Requirement already satisfied: scooby>=0.5.1 in /Users/ah/opt/anaconda3/lib/python3.9/site-packages (from pyvista==0.28.1->fastfuels) (0.7.1)\n",
      "Requirement already satisfied: aiobotocore~=1.4.1 in /Users/ah/opt/anaconda3/lib/python3.9/site-packages (from s3fs==2021.11.0->fastfuels) (1.4.2)\n",
      "Requirement already satisfied: aiohttp>=3.7.1 in /Users/ah/opt/anaconda3/lib/python3.9/site-packages (from s3fs==2021.11.0->fastfuels) (3.8.1)\n",
      "Requirement already satisfied: fasteners in /Users/ah/opt/anaconda3/lib/python3.9/site-packages (from zarr==2.8.3->fastfuels) (0.18)\n",
      "Requirement already satisfied: asciitree in /Users/ah/opt/anaconda3/lib/python3.9/site-packages (from zarr==2.8.3->fastfuels) (0.3.3)\n",
      "Requirement already satisfied: numcodecs>=0.6.4 in /Users/ah/opt/anaconda3/lib/python3.9/site-packages (from zarr==2.8.3->fastfuels) (0.11.0)\n",
      "Requirement already satisfied: wrapt>=1.10.10 in /Users/ah/opt/anaconda3/lib/python3.9/site-packages (from aiobotocore~=1.4.1->s3fs==2021.11.0->fastfuels) (1.14.1)\n",
      "Requirement already satisfied: aioitertools>=0.5.1 in /Users/ah/opt/anaconda3/lib/python3.9/site-packages (from aiobotocore~=1.4.1->s3fs==2021.11.0->fastfuels) (0.11.0)\n",
      "Collecting botocore<1.20.107,>=1.20.106\n",
      "  Using cached botocore-1.20.106-py2.py3-none-any.whl (7.7 MB)\n",
      "Requirement already satisfied: aiosignal>=1.1.2 in /Users/ah/opt/anaconda3/lib/python3.9/site-packages (from aiohttp>=3.7.1->s3fs==2021.11.0->fastfuels) (1.2.0)\n",
      "Requirement already satisfied: yarl<2.0,>=1.0 in /Users/ah/opt/anaconda3/lib/python3.9/site-packages (from aiohttp>=3.7.1->s3fs==2021.11.0->fastfuels) (1.6.3)\n",
      "Requirement already satisfied: charset-normalizer<3.0,>=2.0 in /Users/ah/opt/anaconda3/lib/python3.9/site-packages (from aiohttp>=3.7.1->s3fs==2021.11.0->fastfuels) (2.0.4)\n",
      "Requirement already satisfied: attrs>=17.3.0 in /Users/ah/opt/anaconda3/lib/python3.9/site-packages (from aiohttp>=3.7.1->s3fs==2021.11.0->fastfuels) (22.1.0)\n",
      "Requirement already satisfied: multidict<7.0,>=4.5 in /Users/ah/opt/anaconda3/lib/python3.9/site-packages (from aiohttp>=3.7.1->s3fs==2021.11.0->fastfuels) (5.2.0)\n",
      "Requirement already satisfied: frozenlist>=1.1.1 in /Users/ah/opt/anaconda3/lib/python3.9/site-packages (from aiohttp>=3.7.1->s3fs==2021.11.0->fastfuels) (1.2.0)\n",
      "Requirement already satisfied: async-timeout<5.0,>=4.0.0a3 in /Users/ah/opt/anaconda3/lib/python3.9/site-packages (from aiohttp>=3.7.1->s3fs==2021.11.0->fastfuels) (4.0.1)\n",
      "Requirement already satisfied: entrypoints in /Users/ah/opt/anaconda3/lib/python3.9/site-packages (from numcodecs>=0.6.4->zarr==2.8.3->fastfuels) (0.4)\n",
      "Requirement already satisfied: matplotlib>=2.0.0 in /Users/ah/opt/anaconda3/lib/python3.9/site-packages (from vtk->pyvista==0.28.1->fastfuels) (3.5.1)\n",
      "Requirement already satisfied: typing_extensions>=4.0 in /Users/ah/opt/anaconda3/lib/python3.9/site-packages (from aioitertools>=0.5.1->aiobotocore~=1.4.1->s3fs==2021.11.0->fastfuels) (4.4.0)\n",
      "Requirement already satisfied: jmespath<1.0.0,>=0.7.1 in /Users/ah/opt/anaconda3/lib/python3.9/site-packages (from botocore<1.20.107,>=1.20.106->aiobotocore~=1.4.1->s3fs==2021.11.0->fastfuels) (0.10.0)\n",
      "Requirement already satisfied: python-dateutil<3.0.0,>=2.1 in /Users/ah/opt/anaconda3/lib/python3.9/site-packages (from botocore<1.20.107,>=1.20.106->aiobotocore~=1.4.1->s3fs==2021.11.0->fastfuels) (2.8.2)\n",
      "Requirement already satisfied: urllib3<1.27,>=1.25.4 in /Users/ah/opt/anaconda3/lib/python3.9/site-packages (from botocore<1.20.107,>=1.20.106->aiobotocore~=1.4.1->s3fs==2021.11.0->fastfuels) (1.26.14)\n",
      "Requirement already satisfied: cycler>=0.10 in /Users/ah/opt/anaconda3/lib/python3.9/site-packages (from matplotlib>=2.0.0->vtk->pyvista==0.28.1->fastfuels) (0.11.0)\n",
      "Requirement already satisfied: kiwisolver>=1.0.1 in /Users/ah/opt/anaconda3/lib/python3.9/site-packages (from matplotlib>=2.0.0->vtk->pyvista==0.28.1->fastfuels) (1.4.4)\n",
      "Requirement already satisfied: pyparsing>=2.2.1 in /Users/ah/opt/anaconda3/lib/python3.9/site-packages (from matplotlib>=2.0.0->vtk->pyvista==0.28.1->fastfuels) (3.0.9)\n",
      "Requirement already satisfied: fonttools>=4.22.0 in /Users/ah/opt/anaconda3/lib/python3.9/site-packages (from matplotlib>=2.0.0->vtk->pyvista==0.28.1->fastfuels) (4.25.0)\n",
      "Requirement already satisfied: packaging>=20.0 in /Users/ah/opt/anaconda3/lib/python3.9/site-packages (from matplotlib>=2.0.0->vtk->pyvista==0.28.1->fastfuels) (22.0)\n",
      "Requirement already satisfied: idna>=2.0 in /Users/ah/opt/anaconda3/lib/python3.9/site-packages (from yarl<2.0,>=1.0->aiohttp>=3.7.1->s3fs==2021.11.0->fastfuels) (3.4)\n",
      "Requirement already satisfied: six>=1.5 in /Users/ah/opt/anaconda3/lib/python3.9/site-packages (from python-dateutil<3.0.0,>=2.1->botocore<1.20.107,>=1.20.106->aiobotocore~=1.4.1->s3fs==2021.11.0->fastfuels) (1.16.0)\n",
      "Installing collected packages: msgpack, numpy, fsspec, scipy, colorcet, botocore\n",
      "  Attempting uninstall: msgpack\n",
      "    Found existing installation: msgpack 1.0.3\n",
      "    Uninstalling msgpack-1.0.3:\n",
      "      Successfully uninstalled msgpack-1.0.3\n",
      "  Attempting uninstall: numpy\n",
      "    Found existing installation: numpy 1.21.5\n",
      "    Uninstalling numpy-1.21.5:\n",
      "      Successfully uninstalled numpy-1.21.5\n",
      "  Attempting uninstall: fsspec\n",
      "    Found existing installation: fsspec 2022.11.0\n",
      "    Uninstalling fsspec-2022.11.0:\n",
      "      Successfully uninstalled fsspec-2022.11.0\n",
      "  Attempting uninstall: scipy\n",
      "    Found existing installation: scipy 1.7.3\n",
      "    Uninstalling scipy-1.7.3:\n",
      "      Successfully uninstalled scipy-1.7.3\n",
      "  Attempting uninstall: colorcet\n",
      "    Found existing installation: colorcet 3.0.1\n",
      "    Uninstalling colorcet-3.0.1:\n",
      "      Successfully uninstalled colorcet-3.0.1\n",
      "  Attempting uninstall: botocore\n",
      "    Found existing installation: botocore 1.24.32\n",
      "    Uninstalling botocore-1.24.32:\n",
      "      Successfully uninstalled botocore-1.24.32\n"
     ]
    },
    {
     "name": "stdout",
     "output_type": "stream",
     "text": [
      "\u001b[31mERROR: pip's dependency resolver does not currently take into account all the packages that are installed. This behaviour is the source of the following dependency conflicts.\n",
      "daal4py 2021.5.0 requires daal==2021.4.0, which is not installed.\n",
      "boto3 1.21.32 requires botocore<1.25.0,>=1.24.32, but you have botocore 1.20.106 which is incompatible.\u001b[0m\u001b[31m\n",
      "\u001b[0mSuccessfully installed botocore-1.20.106 colorcet-2.0.6 fsspec-2021.11.0 msgpack-1.0.2 numpy-1.21.4 scipy-1.7.2\n",
      "Note: you may need to restart the kernel to use updated packages.\n"
     ]
    }
   ],
   "source": [
    "%pip install fastfuels"
   ]
  },
  {
   "cell_type": "code",
   "execution_count": 11,
   "id": "4e40153a",
   "metadata": {},
   "outputs": [],
   "source": [
    "from WifireFT import LandFire"
   ]
  },
  {
   "cell_type": "code",
   "execution_count": 17,
   "id": "f06ea1c6",
   "metadata": {},
   "outputs": [
    {
     "name": "stdout",
     "output_type": "stream",
     "text": [
      "Collecting rioxarray\n",
      "  Downloading rioxarray-0.13.4-py3-none-any.whl (53 kB)\n",
      "\u001b[K     |████████████████████████████████| 53 kB 3.2 MB/s eta 0:00:011\n",
      "\u001b[?25hRequirement already satisfied: rasterio>=1.1.1 in /Users/ah/opt/anaconda3/lib/python3.9/site-packages (from rioxarray) (1.3.6)\n",
      "Requirement already satisfied: numpy>=1.21 in /Users/ah/opt/anaconda3/lib/python3.9/site-packages (from rioxarray) (1.21.4)\n",
      "Requirement already satisfied: xarray>=0.17 in /Users/ah/opt/anaconda3/lib/python3.9/site-packages (from rioxarray) (0.20.1)\n",
      "Requirement already satisfied: packaging in /Users/ah/opt/anaconda3/lib/python3.9/site-packages (from rioxarray) (21.3)\n",
      "Requirement already satisfied: pyproj>=2.2 in /Users/ah/opt/anaconda3/lib/python3.9/site-packages (from rioxarray) (3.4.1)\n",
      "Requirement already satisfied: certifi in /Users/ah/opt/anaconda3/lib/python3.9/site-packages (from pyproj>=2.2->rioxarray) (2021.10.8)\n",
      "Requirement already satisfied: click>=4.0 in /Users/ah/opt/anaconda3/lib/python3.9/site-packages (from rasterio>=1.1.1->rioxarray) (8.0.4)\n",
      "Requirement already satisfied: attrs in /Users/ah/opt/anaconda3/lib/python3.9/site-packages (from rasterio>=1.1.1->rioxarray) (21.4.0)\n",
      "Requirement already satisfied: snuggs>=1.4.1 in /Users/ah/opt/anaconda3/lib/python3.9/site-packages (from rasterio>=1.1.1->rioxarray) (1.4.7)\n",
      "Requirement already satisfied: cligj>=0.5 in /Users/ah/opt/anaconda3/lib/python3.9/site-packages (from rasterio>=1.1.1->rioxarray) (0.7.2)\n",
      "Requirement already satisfied: affine in /Users/ah/opt/anaconda3/lib/python3.9/site-packages (from rasterio>=1.1.1->rioxarray) (2.4.0)\n",
      "Requirement already satisfied: setuptools in /Users/ah/opt/anaconda3/lib/python3.9/site-packages (from rasterio>=1.1.1->rioxarray) (61.2.0)\n",
      "Requirement already satisfied: click-plugins in /Users/ah/opt/anaconda3/lib/python3.9/site-packages (from rasterio>=1.1.1->rioxarray) (1.1.1)\n",
      "Requirement already satisfied: pyparsing>=2.1.6 in /Users/ah/opt/anaconda3/lib/python3.9/site-packages (from snuggs>=1.4.1->rasterio>=1.1.1->rioxarray) (3.0.4)\n",
      "Requirement already satisfied: pandas>=1.1 in /Users/ah/opt/anaconda3/lib/python3.9/site-packages (from xarray>=0.17->rioxarray) (1.4.2)\n",
      "Requirement already satisfied: python-dateutil>=2.8.1 in /Users/ah/opt/anaconda3/lib/python3.9/site-packages (from pandas>=1.1->xarray>=0.17->rioxarray) (2.8.2)\n",
      "Requirement already satisfied: pytz>=2020.1 in /Users/ah/opt/anaconda3/lib/python3.9/site-packages (from pandas>=1.1->xarray>=0.17->rioxarray) (2021.3)\n",
      "Requirement already satisfied: six>=1.5 in /Users/ah/opt/anaconda3/lib/python3.9/site-packages (from python-dateutil>=2.8.1->pandas>=1.1->xarray>=0.17->rioxarray) (1.16.0)\n",
      "Installing collected packages: rioxarray\n",
      "Successfully installed rioxarray-0.13.4\n",
      "Note: you may need to restart the kernel to use updated packages.\n"
     ]
    }
   ],
   "source": [
    "%pip install rioxarray"
   ]
  },
  {
   "cell_type": "code",
   "execution_count": 12,
   "id": "e942e393",
   "metadata": {},
   "outputs": [],
   "source": [
    "import posix\n",
    "import math\n",
    "import rioxarray as rxr"
   ]
  },
  {
   "cell_type": "code",
   "execution_count": 13,
   "id": "e730f856",
   "metadata": {},
   "outputs": [
    {
     "data": {
      "text/plain": [
       "'0.13.4'"
      ]
     },
     "execution_count": 13,
     "metadata": {},
     "output_type": "execute_result"
    }
   ],
   "source": [
    "rxr.__version__"
   ]
  },
  {
   "cell_type": "code",
   "execution_count": 14,
   "id": "788158b9",
   "metadata": {},
   "outputs": [],
   "source": [
    "bpath=\"https://wifire-data.sdsc.edu/data/landfire/\"\n",
    "mylf=LandFire(bpath=bpath, bpath_type=\"http\")\n",
    "#mylf=LandFire(bpath=\"/home/jovyan/pysheds//COG\", bpath_type=\"local\")"
   ]
  },
  {
   "cell_type": "code",
   "execution_count": 15,
   "id": "91b015e6",
   "metadata": {},
   "outputs": [],
   "source": [
    "mylf?"
   ]
  },
  {
   "cell_type": "markdown",
   "id": "aa456454-157a-4838-8809-af896d204b7d",
   "metadata": {},
   "source": [
    "This displays the cloud-optimized GeoTiff files that are available from the link in `bpath`.  Here only `FBFM40` will be used; the elevation is not read from the `Elev` geotiffs but directly from the USGS in higher resolution."
   ]
  },
  {
   "cell_type": "code",
   "execution_count": 16,
   "id": "c5096f60",
   "metadata": {},
   "outputs": [
    {
     "data": {
      "text/plain": [
       "{'CH': [210, 200, 140, 130, 120, 110, 105],\n",
       " 'CC': [210, 200, 140, 130, 120, 110, 105],\n",
       " 'CBD': [210, 200, 140, 130, 120, 110, 105],\n",
       " 'CBH': [210, 200, 140, 130, 120, 110, 105],\n",
       " 'FBFM40': [210, 200, 140, 130, 120, 110, 105],\n",
       " 'FBFM13': [120, 110, 105],\n",
       " 'EVT': [120, 110, 105],\n",
       " 'Elev': [200]}"
      ]
     },
     "execution_count": 16,
     "metadata": {},
     "output_type": "execute_result"
    }
   ],
   "source": [
    "mylf.avail_cog"
   ]
  },
  {
   "cell_type": "markdown",
   "id": "6d9829c7-52ab-4c5c-bc44-23a33974f8af",
   "metadata": {},
   "source": [
    "This function retrieves the DEM in 1/3 arc second (~10 m) resolution from the USGS."
   ]
  },
  {
   "cell_type": "code",
   "execution_count": 17,
   "id": "8673547d-407f-40c8-a714-fd831d207a26",
   "metadata": {},
   "outputs": [
    {
     "data": {
      "text/plain": [
       "111.0"
      ]
     },
     "execution_count": 17,
     "metadata": {},
     "output_type": "execute_result"
    }
   ],
   "source": [
    "math.pi * 6371*2 // 360."
   ]
  },
  {
   "cell_type": "code",
   "execution_count": 18,
   "id": "12b58433-ba10-4754-87c6-e0ebd378cc1c",
   "metadata": {},
   "outputs": [],
   "source": [
    "def retrieve_usgs_13_topo(lon, lat, radius, verbose=False):\n",
    "    if lon < 0:\n",
    "        lonp=int(math.ceil(-lon))\n",
    "        eow=\"w\"\n",
    "    else:\n",
    "        lonp=int(math.ceil(lon))\n",
    "        eow=\"e\"\n",
    "\n",
    "    latp=int(math.ceil(lat))\n",
    "    \n",
    "    urlmask=\"https://prd-tnm.s3.amazonaws.com/StagedProducts/Elevation/13/TIFF/current/n%02d%c%03d/USGS_13_n%02d%c%03d.tif\"\n",
    "    url=urlmask % (latp, eow, lonp, latp, eow, lonp)\n",
    "    if verbose:\n",
    "        print(f\"Retrieving DEM from {url}\")\n",
    "    \n",
    "    asrc=rxr.open_rasterio(url)\n",
    "    \n",
    "    # The USGS DEM is provided in a different CRS (coordinate reference system) than the Landfire data \n",
    "    # (used for the fuel model).\n",
    "    # The function `query` below extracts a rectangular mesh of a given radius around the provided point.\n",
    "    # In order to obtain a reprojected mesh with the same CRS and region as the Landfire data, \n",
    "    # 3 steps are carried out.\n",
    "    # 1. extract a subset that is larger (1.5x) than the intended area of interest from the Landfire DEM dataset.\n",
    "    # 2. reproject the USGS DEM to this CRS\n",
    "    # 3. extract a square region with the radius provided as positional argument from this DEM\n",
    "              \n",
    "    earths_radius = 6.371e6\n",
    "    meters_per_deg=earths_radius * math.pi * 2 / 360.\n",
    "    rad_deg=radius/meters_per_deg * 1.5\n",
    "              \n",
    "    if verbose:\n",
    "        print(f\"Quering USGS dataset for a radius of {rad_deg} degrees\")\n",
    "              \n",
    "    outelev=mylf.query(asrc, lon, lat, rad_deg, verbose=verbose)\n",
    "    \n",
    "    outelev_utm=outelev.rio.reproject(outelev.rio.estimate_utm_crs())\n",
    "    \n",
    "    elev=mylf.query(outelev_utm, lon, lat, radius, verbose=verbose)\n",
    "    \n",
    "    return elev"
   ]
  },
  {
   "cell_type": "markdown",
   "id": "37a2de5c-b0fd-408e-ab1d-a078dac85034",
   "metadata": {},
   "source": [
    "Testing this function for the location of the first debris flow site:"
   ]
  },
  {
   "cell_type": "code",
   "execution_count": 19,
   "id": "79f4dc58",
   "metadata": {},
   "outputs": [],
   "source": [
    "import geopandas as gpd"
   ]
  },
  {
   "cell_type": "code",
   "execution_count": 20,
   "id": "f41231fe-012e-4022-a806-79fc8bceb7fb",
   "metadata": {},
   "outputs": [
    {
     "name": "stdout",
     "output_type": "stream",
     "text": [
      "Retrieving DEM from https://prd-tnm.s3.amazonaws.com/StagedProducts/Elevation/13/TIFF/current/n35w119/USGS_13_n35w119.tif\n",
      "Quering USGS dataset for a radius of 0.01348982408878096 degrees\n",
      "[-118.45056612601522, 34.55584754221624, -118.42358647783766, 34.52886789403868]\n",
      "[367133.5165000012, 3824231.988999999, 369133.5165000012, 3822231.988999999]\n"
     ]
    }
   ],
   "source": [
    "elev=retrieve_usgs_13_topo(modelDataI.loc[0,\"lon\"], modelDataI.loc[0,\"lat\"], 1000, verbose=True)"
   ]
  },
  {
   "cell_type": "markdown",
   "id": "07961d95-b89a-4543-91f1-c6984ea47ce2",
   "metadata": {},
   "source": [
    "Verifying resolution is correct:"
   ]
  },
  {
   "cell_type": "code",
   "execution_count": 21,
   "id": "cc799b84-2af5-4fa8-a39e-302336888982",
   "metadata": {},
   "outputs": [
    {
     "data": {
      "text/plain": [
       "9.4254316832521"
      ]
     },
     "execution_count": 21,
     "metadata": {},
     "output_type": "execute_result"
    }
   ],
   "source": [
    "elev.x[1].data-elev.x[0].data"
   ]
  },
  {
   "cell_type": "markdown",
   "id": "037e91d9-1539-4751-9eff-1135fe3495e9",
   "metadata": {},
   "source": [
    "Reading FBFM40 fuel model and existing vegetation type (EVT) from Landfire data:"
   ]
  },
  {
   "cell_type": "code",
   "execution_count": 22,
   "id": "b163658d",
   "metadata": {},
   "outputs": [],
   "source": [
    "#src=mylf.read_dataset(200, 'Elev', chunks=None)\n",
    "fbfm40=mylf.read_dataset(210, 'FBFM40', chunks=None)\n",
    "evt=mylf.read_dataset(120, 'EVT', chunks=None)"
   ]
  },
  {
   "cell_type": "code",
   "execution_count": 23,
   "id": "8c53b1f0",
   "metadata": {},
   "outputs": [
    {
     "data": {
      "text/html": [
       "<div><svg style=\"position: absolute; width: 0; height: 0; overflow: hidden\">\n",
       "<defs>\n",
       "<symbol id=\"icon-database\" viewBox=\"0 0 32 32\">\n",
       "<path d=\"M16 0c-8.837 0-16 2.239-16 5v4c0 2.761 7.163 5 16 5s16-2.239 16-5v-4c0-2.761-7.163-5-16-5z\"></path>\n",
       "<path d=\"M16 17c-8.837 0-16-2.239-16-5v6c0 2.761 7.163 5 16 5s16-2.239 16-5v-6c0 2.761-7.163 5-16 5z\"></path>\n",
       "<path d=\"M16 26c-8.837 0-16-2.239-16-5v6c0 2.761 7.163 5 16 5s16-2.239 16-5v-6c0 2.761-7.163 5-16 5z\"></path>\n",
       "</symbol>\n",
       "<symbol id=\"icon-file-text2\" viewBox=\"0 0 32 32\">\n",
       "<path d=\"M28.681 7.159c-0.694-0.947-1.662-2.053-2.724-3.116s-2.169-2.030-3.116-2.724c-1.612-1.182-2.393-1.319-2.841-1.319h-15.5c-1.378 0-2.5 1.121-2.5 2.5v27c0 1.378 1.122 2.5 2.5 2.5h23c1.378 0 2.5-1.122 2.5-2.5v-19.5c0-0.448-0.137-1.23-1.319-2.841zM24.543 5.457c0.959 0.959 1.712 1.825 2.268 2.543h-4.811v-4.811c0.718 0.556 1.584 1.309 2.543 2.268zM28 29.5c0 0.271-0.229 0.5-0.5 0.5h-23c-0.271 0-0.5-0.229-0.5-0.5v-27c0-0.271 0.229-0.5 0.5-0.5 0 0 15.499-0 15.5 0v7c0 0.552 0.448 1 1 1h7v19.5z\"></path>\n",
       "<path d=\"M23 26h-14c-0.552 0-1-0.448-1-1s0.448-1 1-1h14c0.552 0 1 0.448 1 1s-0.448 1-1 1z\"></path>\n",
       "<path d=\"M23 22h-14c-0.552 0-1-0.448-1-1s0.448-1 1-1h14c0.552 0 1 0.448 1 1s-0.448 1-1 1z\"></path>\n",
       "<path d=\"M23 18h-14c-0.552 0-1-0.448-1-1s0.448-1 1-1h14c0.552 0 1 0.448 1 1s-0.448 1-1 1z\"></path>\n",
       "</symbol>\n",
       "</defs>\n",
       "</svg>\n",
       "<style>/* CSS stylesheet for displaying xarray objects in jupyterlab.\n",
       " *\n",
       " */\n",
       "\n",
       ":root {\n",
       "  --xr-font-color0: var(--jp-content-font-color0, rgba(0, 0, 0, 1));\n",
       "  --xr-font-color2: var(--jp-content-font-color2, rgba(0, 0, 0, 0.54));\n",
       "  --xr-font-color3: var(--jp-content-font-color3, rgba(0, 0, 0, 0.38));\n",
       "  --xr-border-color: var(--jp-border-color2, #e0e0e0);\n",
       "  --xr-disabled-color: var(--jp-layout-color3, #bdbdbd);\n",
       "  --xr-background-color: var(--jp-layout-color0, white);\n",
       "  --xr-background-color-row-even: var(--jp-layout-color1, white);\n",
       "  --xr-background-color-row-odd: var(--jp-layout-color2, #eeeeee);\n",
       "}\n",
       "\n",
       "html[theme=dark],\n",
       "body.vscode-dark {\n",
       "  --xr-font-color0: rgba(255, 255, 255, 1);\n",
       "  --xr-font-color2: rgba(255, 255, 255, 0.54);\n",
       "  --xr-font-color3: rgba(255, 255, 255, 0.38);\n",
       "  --xr-border-color: #1F1F1F;\n",
       "  --xr-disabled-color: #515151;\n",
       "  --xr-background-color: #111111;\n",
       "  --xr-background-color-row-even: #111111;\n",
       "  --xr-background-color-row-odd: #313131;\n",
       "}\n",
       "\n",
       ".xr-wrap {\n",
       "  display: block;\n",
       "  min-width: 300px;\n",
       "  max-width: 700px;\n",
       "}\n",
       "\n",
       ".xr-text-repr-fallback {\n",
       "  /* fallback to plain text repr when CSS is not injected (untrusted notebook) */\n",
       "  display: none;\n",
       "}\n",
       "\n",
       ".xr-header {\n",
       "  padding-top: 6px;\n",
       "  padding-bottom: 6px;\n",
       "  margin-bottom: 4px;\n",
       "  border-bottom: solid 1px var(--xr-border-color);\n",
       "}\n",
       "\n",
       ".xr-header > div,\n",
       ".xr-header > ul {\n",
       "  display: inline;\n",
       "  margin-top: 0;\n",
       "  margin-bottom: 0;\n",
       "}\n",
       "\n",
       ".xr-obj-type,\n",
       ".xr-array-name {\n",
       "  margin-left: 2px;\n",
       "  margin-right: 10px;\n",
       "}\n",
       "\n",
       ".xr-obj-type {\n",
       "  color: var(--xr-font-color2);\n",
       "}\n",
       "\n",
       ".xr-sections {\n",
       "  padding-left: 0 !important;\n",
       "  display: grid;\n",
       "  grid-template-columns: 150px auto auto 1fr 20px 20px;\n",
       "}\n",
       "\n",
       ".xr-section-item {\n",
       "  display: contents;\n",
       "}\n",
       "\n",
       ".xr-section-item input {\n",
       "  display: none;\n",
       "}\n",
       "\n",
       ".xr-section-item input + label {\n",
       "  color: var(--xr-disabled-color);\n",
       "}\n",
       "\n",
       ".xr-section-item input:enabled + label {\n",
       "  cursor: pointer;\n",
       "  color: var(--xr-font-color2);\n",
       "}\n",
       "\n",
       ".xr-section-item input:enabled + label:hover {\n",
       "  color: var(--xr-font-color0);\n",
       "}\n",
       "\n",
       ".xr-section-summary {\n",
       "  grid-column: 1;\n",
       "  color: var(--xr-font-color2);\n",
       "  font-weight: 500;\n",
       "}\n",
       "\n",
       ".xr-section-summary > span {\n",
       "  display: inline-block;\n",
       "  padding-left: 0.5em;\n",
       "}\n",
       "\n",
       ".xr-section-summary-in:disabled + label {\n",
       "  color: var(--xr-font-color2);\n",
       "}\n",
       "\n",
       ".xr-section-summary-in + label:before {\n",
       "  display: inline-block;\n",
       "  content: '►';\n",
       "  font-size: 11px;\n",
       "  width: 15px;\n",
       "  text-align: center;\n",
       "}\n",
       "\n",
       ".xr-section-summary-in:disabled + label:before {\n",
       "  color: var(--xr-disabled-color);\n",
       "}\n",
       "\n",
       ".xr-section-summary-in:checked + label:before {\n",
       "  content: '▼';\n",
       "}\n",
       "\n",
       ".xr-section-summary-in:checked + label > span {\n",
       "  display: none;\n",
       "}\n",
       "\n",
       ".xr-section-summary,\n",
       ".xr-section-inline-details {\n",
       "  padding-top: 4px;\n",
       "  padding-bottom: 4px;\n",
       "}\n",
       "\n",
       ".xr-section-inline-details {\n",
       "  grid-column: 2 / -1;\n",
       "}\n",
       "\n",
       ".xr-section-details {\n",
       "  display: none;\n",
       "  grid-column: 1 / -1;\n",
       "  margin-bottom: 5px;\n",
       "}\n",
       "\n",
       ".xr-section-summary-in:checked ~ .xr-section-details {\n",
       "  display: contents;\n",
       "}\n",
       "\n",
       ".xr-array-wrap {\n",
       "  grid-column: 1 / -1;\n",
       "  display: grid;\n",
       "  grid-template-columns: 20px auto;\n",
       "}\n",
       "\n",
       ".xr-array-wrap > label {\n",
       "  grid-column: 1;\n",
       "  vertical-align: top;\n",
       "}\n",
       "\n",
       ".xr-preview {\n",
       "  color: var(--xr-font-color3);\n",
       "}\n",
       "\n",
       ".xr-array-preview,\n",
       ".xr-array-data {\n",
       "  padding: 0 5px !important;\n",
       "  grid-column: 2;\n",
       "}\n",
       "\n",
       ".xr-array-data,\n",
       ".xr-array-in:checked ~ .xr-array-preview {\n",
       "  display: none;\n",
       "}\n",
       "\n",
       ".xr-array-in:checked ~ .xr-array-data,\n",
       ".xr-array-preview {\n",
       "  display: inline-block;\n",
       "}\n",
       "\n",
       ".xr-dim-list {\n",
       "  display: inline-block !important;\n",
       "  list-style: none;\n",
       "  padding: 0 !important;\n",
       "  margin: 0;\n",
       "}\n",
       "\n",
       ".xr-dim-list li {\n",
       "  display: inline-block;\n",
       "  padding: 0;\n",
       "  margin: 0;\n",
       "}\n",
       "\n",
       ".xr-dim-list:before {\n",
       "  content: '(';\n",
       "}\n",
       "\n",
       ".xr-dim-list:after {\n",
       "  content: ')';\n",
       "}\n",
       "\n",
       ".xr-dim-list li:not(:last-child):after {\n",
       "  content: ',';\n",
       "  padding-right: 5px;\n",
       "}\n",
       "\n",
       ".xr-has-index {\n",
       "  font-weight: bold;\n",
       "}\n",
       "\n",
       ".xr-var-list,\n",
       ".xr-var-item {\n",
       "  display: contents;\n",
       "}\n",
       "\n",
       ".xr-var-item > div,\n",
       ".xr-var-item label,\n",
       ".xr-var-item > .xr-var-name span {\n",
       "  background-color: var(--xr-background-color-row-even);\n",
       "  margin-bottom: 0;\n",
       "}\n",
       "\n",
       ".xr-var-item > .xr-var-name:hover span {\n",
       "  padding-right: 5px;\n",
       "}\n",
       "\n",
       ".xr-var-list > li:nth-child(odd) > div,\n",
       ".xr-var-list > li:nth-child(odd) > label,\n",
       ".xr-var-list > li:nth-child(odd) > .xr-var-name span {\n",
       "  background-color: var(--xr-background-color-row-odd);\n",
       "}\n",
       "\n",
       ".xr-var-name {\n",
       "  grid-column: 1;\n",
       "}\n",
       "\n",
       ".xr-var-dims {\n",
       "  grid-column: 2;\n",
       "}\n",
       "\n",
       ".xr-var-dtype {\n",
       "  grid-column: 3;\n",
       "  text-align: right;\n",
       "  color: var(--xr-font-color2);\n",
       "}\n",
       "\n",
       ".xr-var-preview {\n",
       "  grid-column: 4;\n",
       "}\n",
       "\n",
       ".xr-var-name,\n",
       ".xr-var-dims,\n",
       ".xr-var-dtype,\n",
       ".xr-preview,\n",
       ".xr-attrs dt {\n",
       "  white-space: nowrap;\n",
       "  overflow: hidden;\n",
       "  text-overflow: ellipsis;\n",
       "  padding-right: 10px;\n",
       "}\n",
       "\n",
       ".xr-var-name:hover,\n",
       ".xr-var-dims:hover,\n",
       ".xr-var-dtype:hover,\n",
       ".xr-attrs dt:hover {\n",
       "  overflow: visible;\n",
       "  width: auto;\n",
       "  z-index: 1;\n",
       "}\n",
       "\n",
       ".xr-var-attrs,\n",
       ".xr-var-data {\n",
       "  display: none;\n",
       "  background-color: var(--xr-background-color) !important;\n",
       "  padding-bottom: 5px !important;\n",
       "}\n",
       "\n",
       ".xr-var-attrs-in:checked ~ .xr-var-attrs,\n",
       ".xr-var-data-in:checked ~ .xr-var-data {\n",
       "  display: block;\n",
       "}\n",
       "\n",
       ".xr-var-data > table {\n",
       "  float: right;\n",
       "}\n",
       "\n",
       ".xr-var-name span,\n",
       ".xr-var-data,\n",
       ".xr-attrs {\n",
       "  padding-left: 25px !important;\n",
       "}\n",
       "\n",
       ".xr-attrs,\n",
       ".xr-var-attrs,\n",
       ".xr-var-data {\n",
       "  grid-column: 1 / -1;\n",
       "}\n",
       "\n",
       "dl.xr-attrs {\n",
       "  padding: 0;\n",
       "  margin: 0;\n",
       "  display: grid;\n",
       "  grid-template-columns: 125px auto;\n",
       "}\n",
       "\n",
       ".xr-attrs dt,\n",
       ".xr-attrs dd {\n",
       "  padding: 0;\n",
       "  margin: 0;\n",
       "  float: left;\n",
       "  padding-right: 10px;\n",
       "  width: auto;\n",
       "}\n",
       "\n",
       ".xr-attrs dt {\n",
       "  font-weight: normal;\n",
       "  grid-column: 1;\n",
       "}\n",
       "\n",
       ".xr-attrs dt:hover span {\n",
       "  display: inline-block;\n",
       "  background: var(--xr-background-color);\n",
       "  padding-right: 10px;\n",
       "}\n",
       "\n",
       ".xr-attrs dd {\n",
       "  grid-column: 2;\n",
       "  white-space: pre-wrap;\n",
       "  word-break: break-all;\n",
       "}\n",
       "\n",
       ".xr-icon-database,\n",
       ".xr-icon-file-text2 {\n",
       "  display: inline-block;\n",
       "  vertical-align: middle;\n",
       "  width: 1em;\n",
       "  height: 1.5em !important;\n",
       "  stroke-width: 0;\n",
       "  stroke: currentColor;\n",
       "  fill: currentColor;\n",
       "}\n",
       "</style><pre class='xr-text-repr-fallback'>&lt;xarray.DataArray (band: 1, y: 97284, x: 154208)&gt;\n",
       "[15001971072 values with dtype=int16]\n",
       "Coordinates:\n",
       "  * band         (band) int64 1\n",
       "  * x            (x) float64 -2.362e+06 -2.362e+06 ... 2.264e+06 2.264e+06\n",
       "  * y            (y) float64 3.177e+06 3.177e+06 ... 2.59e+05 2.589e+05\n",
       "    spatial_ref  int64 0\n",
       "Attributes:\n",
       "    DataSouce:      LandFire\n",
       "    DataVersion:    L120 (2010, 2007-2011)\n",
       "    FuelType:       EVT\n",
       "    FuelDesc:       Existing Vegetation Type\n",
       "    Units:          not yet implemented.\n",
       "    AREA_OR_POINT:  Area\n",
       "    LAYER_TYPE:     thematic\n",
       "    _FillValue:     -32768\n",
       "    scale_factor:   1.0\n",
       "    add_offset:     0.0\n",
       "    long_name:      us_120evt</pre><div class='xr-wrap' hidden><div class='xr-header'><div class='xr-obj-type'>xarray.DataArray</div><div class='xr-array-name'></div><ul class='xr-dim-list'><li><span class='xr-has-index'>band</span>: 1</li><li><span class='xr-has-index'>y</span>: 97284</li><li><span class='xr-has-index'>x</span>: 154208</li></ul></div><ul class='xr-sections'><li class='xr-section-item'><div class='xr-array-wrap'><input id='section-b2bfa55b-df01-498d-b2bd-e8e81130606e' class='xr-array-in' type='checkbox' checked><label for='section-b2bfa55b-df01-498d-b2bd-e8e81130606e' title='Show/hide data repr'><svg class='icon xr-icon-database'><use xlink:href='#icon-database'></use></svg></label><div class='xr-array-preview xr-preview'><span>...</span></div><div class='xr-array-data'><pre>[15001971072 values with dtype=int16]</pre></div></div></li><li class='xr-section-item'><input id='section-a56f5f43-4587-4e4e-9be8-b53ab89e3614' class='xr-section-summary-in' type='checkbox'  checked><label for='section-a56f5f43-4587-4e4e-9be8-b53ab89e3614' class='xr-section-summary' >Coordinates: <span>(4)</span></label><div class='xr-section-inline-details'></div><div class='xr-section-details'><ul class='xr-var-list'><li class='xr-var-item'><div class='xr-var-name'><span class='xr-has-index'>band</span></div><div class='xr-var-dims'>(band)</div><div class='xr-var-dtype'>int64</div><div class='xr-var-preview xr-preview'>1</div><input id='attrs-e64a43d2-f2f7-40f7-a21a-d5a9cd032cbf' class='xr-var-attrs-in' type='checkbox' disabled><label for='attrs-e64a43d2-f2f7-40f7-a21a-d5a9cd032cbf' title='Show/Hide attributes'><svg class='icon xr-icon-file-text2'><use xlink:href='#icon-file-text2'></use></svg></label><input id='data-75d12411-fd68-495a-93bd-6c95bbe7e7d4' class='xr-var-data-in' type='checkbox'><label for='data-75d12411-fd68-495a-93bd-6c95bbe7e7d4' title='Show/Hide data repr'><svg class='icon xr-icon-database'><use xlink:href='#icon-database'></use></svg></label><div class='xr-var-attrs'><dl class='xr-attrs'></dl></div><div class='xr-var-data'><pre>array([1])</pre></div></li><li class='xr-var-item'><div class='xr-var-name'><span class='xr-has-index'>x</span></div><div class='xr-var-dims'>(x)</div><div class='xr-var-dtype'>float64</div><div class='xr-var-preview xr-preview'>-2.362e+06 -2.362e+06 ... 2.264e+06</div><input id='attrs-c80eaa08-b148-4597-a3d6-30cdde6854ec' class='xr-var-attrs-in' type='checkbox' disabled><label for='attrs-c80eaa08-b148-4597-a3d6-30cdde6854ec' title='Show/Hide attributes'><svg class='icon xr-icon-file-text2'><use xlink:href='#icon-file-text2'></use></svg></label><input id='data-f8190938-250c-4632-9bb7-552d2cfb3158' class='xr-var-data-in' type='checkbox'><label for='data-f8190938-250c-4632-9bb7-552d2cfb3158' title='Show/Hide data repr'><svg class='icon xr-icon-database'><use xlink:href='#icon-database'></use></svg></label><div class='xr-var-attrs'><dl class='xr-attrs'></dl></div><div class='xr-var-data'><pre>array([-2362410., -2362380., -2362350., ...,  2263740.,  2263770.,  2263800.])</pre></div></li><li class='xr-var-item'><div class='xr-var-name'><span class='xr-has-index'>y</span></div><div class='xr-var-dims'>(y)</div><div class='xr-var-dtype'>float64</div><div class='xr-var-preview xr-preview'>3.177e+06 3.177e+06 ... 2.589e+05</div><input id='attrs-21c05c12-dfa3-4f8b-82fa-9b01a4f519e2' class='xr-var-attrs-in' type='checkbox' disabled><label for='attrs-21c05c12-dfa3-4f8b-82fa-9b01a4f519e2' title='Show/Hide attributes'><svg class='icon xr-icon-file-text2'><use xlink:href='#icon-file-text2'></use></svg></label><input id='data-7b2eaeca-0d88-469a-bbc7-d895bb5df9d5' class='xr-var-data-in' type='checkbox'><label for='data-7b2eaeca-0d88-469a-bbc7-d895bb5df9d5' title='Show/Hide data repr'><svg class='icon xr-icon-database'><use xlink:href='#icon-database'></use></svg></label><div class='xr-var-attrs'><dl class='xr-attrs'></dl></div><div class='xr-var-data'><pre>array([3177420., 3177390., 3177360., ...,  258990.,  258960.,  258930.])</pre></div></li><li class='xr-var-item'><div class='xr-var-name'><span>spatial_ref</span></div><div class='xr-var-dims'>()</div><div class='xr-var-dtype'>int64</div><div class='xr-var-preview xr-preview'>0</div><input id='attrs-79336dde-a4d3-4ee3-9e13-64d74c458242' class='xr-var-attrs-in' type='checkbox' ><label for='attrs-79336dde-a4d3-4ee3-9e13-64d74c458242' title='Show/Hide attributes'><svg class='icon xr-icon-file-text2'><use xlink:href='#icon-file-text2'></use></svg></label><input id='data-895b0328-2149-47c4-be71-e2f2e08e6a44' class='xr-var-data-in' type='checkbox'><label for='data-895b0328-2149-47c4-be71-e2f2e08e6a44' title='Show/Hide data repr'><svg class='icon xr-icon-database'><use xlink:href='#icon-database'></use></svg></label><div class='xr-var-attrs'><dl class='xr-attrs'><dt><span>crs_wkt :</span></dt><dd>PROJCS[&quot;unnamed&quot;,GEOGCS[&quot;NAD83&quot;,DATUM[&quot;North_American_Datum_1983&quot;,SPHEROID[&quot;GRS 1980&quot;,6378137,298.257222101004,AUTHORITY[&quot;EPSG&quot;,&quot;7019&quot;]],AUTHORITY[&quot;EPSG&quot;,&quot;6269&quot;]],PRIMEM[&quot;Greenwich&quot;,0],UNIT[&quot;degree&quot;,0.0174532925199433,AUTHORITY[&quot;EPSG&quot;,&quot;9122&quot;]],AUTHORITY[&quot;EPSG&quot;,&quot;4269&quot;]],PROJECTION[&quot;Albers_Conic_Equal_Area&quot;],PARAMETER[&quot;latitude_of_center&quot;,23],PARAMETER[&quot;longitude_of_center&quot;,-96],PARAMETER[&quot;standard_parallel_1&quot;,29.5],PARAMETER[&quot;standard_parallel_2&quot;,45.5],PARAMETER[&quot;false_easting&quot;,0],PARAMETER[&quot;false_northing&quot;,0],UNIT[&quot;metre&quot;,1,AUTHORITY[&quot;EPSG&quot;,&quot;9001&quot;]],AXIS[&quot;Easting&quot;,EAST],AXIS[&quot;Northing&quot;,NORTH]]</dd><dt><span>semi_major_axis :</span></dt><dd>6378137.0</dd><dt><span>semi_minor_axis :</span></dt><dd>6356752.314140356</dd><dt><span>inverse_flattening :</span></dt><dd>298.257222101004</dd><dt><span>reference_ellipsoid_name :</span></dt><dd>GRS 1980</dd><dt><span>longitude_of_prime_meridian :</span></dt><dd>0.0</dd><dt><span>prime_meridian_name :</span></dt><dd>Greenwich</dd><dt><span>geographic_crs_name :</span></dt><dd>NAD83</dd><dt><span>horizontal_datum_name :</span></dt><dd>North American Datum 1983</dd><dt><span>projected_crs_name :</span></dt><dd>unnamed</dd><dt><span>grid_mapping_name :</span></dt><dd>albers_conical_equal_area</dd><dt><span>standard_parallel :</span></dt><dd>(29.5, 45.5)</dd><dt><span>latitude_of_projection_origin :</span></dt><dd>23.0</dd><dt><span>longitude_of_central_meridian :</span></dt><dd>-96.0</dd><dt><span>false_easting :</span></dt><dd>0.0</dd><dt><span>false_northing :</span></dt><dd>0.0</dd><dt><span>spatial_ref :</span></dt><dd>PROJCS[&quot;unnamed&quot;,GEOGCS[&quot;NAD83&quot;,DATUM[&quot;North_American_Datum_1983&quot;,SPHEROID[&quot;GRS 1980&quot;,6378137,298.257222101004,AUTHORITY[&quot;EPSG&quot;,&quot;7019&quot;]],AUTHORITY[&quot;EPSG&quot;,&quot;6269&quot;]],PRIMEM[&quot;Greenwich&quot;,0],UNIT[&quot;degree&quot;,0.0174532925199433,AUTHORITY[&quot;EPSG&quot;,&quot;9122&quot;]],AUTHORITY[&quot;EPSG&quot;,&quot;4269&quot;]],PROJECTION[&quot;Albers_Conic_Equal_Area&quot;],PARAMETER[&quot;latitude_of_center&quot;,23],PARAMETER[&quot;longitude_of_center&quot;,-96],PARAMETER[&quot;standard_parallel_1&quot;,29.5],PARAMETER[&quot;standard_parallel_2&quot;,45.5],PARAMETER[&quot;false_easting&quot;,0],PARAMETER[&quot;false_northing&quot;,0],UNIT[&quot;metre&quot;,1,AUTHORITY[&quot;EPSG&quot;,&quot;9001&quot;]],AXIS[&quot;Easting&quot;,EAST],AXIS[&quot;Northing&quot;,NORTH]]</dd><dt><span>GeoTransform :</span></dt><dd>-2362425.0 30.0 0.0 3177435.0 0.0 -30.0</dd></dl></div><div class='xr-var-data'><pre>array(0)</pre></div></li></ul></div></li><li class='xr-section-item'><input id='section-13e48768-a922-4a7e-97bd-ed3e055536bb' class='xr-section-summary-in' type='checkbox'  ><label for='section-13e48768-a922-4a7e-97bd-ed3e055536bb' class='xr-section-summary' >Attributes: <span>(11)</span></label><div class='xr-section-inline-details'></div><div class='xr-section-details'><dl class='xr-attrs'><dt><span>DataSouce :</span></dt><dd>LandFire</dd><dt><span>DataVersion :</span></dt><dd>L120 (2010, 2007-2011)</dd><dt><span>FuelType :</span></dt><dd>EVT</dd><dt><span>FuelDesc :</span></dt><dd>Existing Vegetation Type</dd><dt><span>Units :</span></dt><dd>not yet implemented.</dd><dt><span>AREA_OR_POINT :</span></dt><dd>Area</dd><dt><span>LAYER_TYPE :</span></dt><dd>thematic</dd><dt><span>_FillValue :</span></dt><dd>-32768</dd><dt><span>scale_factor :</span></dt><dd>1.0</dd><dt><span>add_offset :</span></dt><dd>0.0</dd><dt><span>long_name :</span></dt><dd>us_120evt</dd></dl></div></li></ul></div></div>"
      ],
      "text/plain": [
       "<xarray.DataArray (band: 1, y: 97284, x: 154208)>\n",
       "[15001971072 values with dtype=int16]\n",
       "Coordinates:\n",
       "  * band         (band) int64 1\n",
       "  * x            (x) float64 -2.362e+06 -2.362e+06 ... 2.264e+06 2.264e+06\n",
       "  * y            (y) float64 3.177e+06 3.177e+06 ... 2.59e+05 2.589e+05\n",
       "    spatial_ref  int64 0\n",
       "Attributes:\n",
       "    DataSouce:      LandFire\n",
       "    DataVersion:    L120 (2010, 2007-2011)\n",
       "    FuelType:       EVT\n",
       "    FuelDesc:       Existing Vegetation Type\n",
       "    Units:          not yet implemented.\n",
       "    AREA_OR_POINT:  Area\n",
       "    LAYER_TYPE:     thematic\n",
       "    _FillValue:     -32768\n",
       "    scale_factor:   1.0\n",
       "    add_offset:     0.0\n",
       "    long_name:      us_120evt"
      ]
     },
     "execution_count": 23,
     "metadata": {},
     "output_type": "execute_result"
    }
   ],
   "source": [
    "evt"
   ]
  },
  {
   "cell_type": "markdown",
   "id": "e1068a80-9e4d-43ef-bb08-5158e914bb57",
   "metadata": {},
   "source": [
    "FBFM40 fuel model attributes.  Integer data values in this model are mapped to these layers:"
   ]
  },
  {
   "cell_type": "code",
   "execution_count": 24,
   "id": "c92eed10",
   "metadata": {},
   "outputs": [],
   "source": [
    "fmattr=mylf.get_fbfm40_attributes(datatype='FBFM40')"
   ]
  },
  {
   "cell_type": "code",
   "execution_count": 25,
   "id": "75a22952-0b15-4dbb-9ef6-0dbf85ad6522",
   "metadata": {},
   "outputs": [
    {
     "data": {
      "text/plain": [
       "(('GR1',\n",
       "  ' Short, sparse dry climate grass is short, naturally or heavy grazing, predicted rate of fire spread and flame length low'),\n",
       " ('GR2',\n",
       "  ' Low load, dry climate grass primarily grass with some small amounts of fine, dead fuel, any shrubs do not affect fire behavior'))"
      ]
     },
     "execution_count": 25,
     "metadata": {},
     "output_type": "execute_result"
    }
   ],
   "source": [
    "fmattr[101],fmattr[102]"
   ]
  },
  {
   "cell_type": "markdown",
   "id": "af59519a-c752-4dfb-8b8a-42800db200f8",
   "metadata": {},
   "source": [
    "Reducing data to a table with one row per site:"
   ]
  },
  {
   "cell_type": "code",
   "execution_count": 26,
   "id": "c53810c8",
   "metadata": {},
   "outputs": [
    {
     "data": {
      "text/html": [
       "<div>\n",
       "<style scoped>\n",
       "    .dataframe tbody tr th:only-of-type {\n",
       "        vertical-align: middle;\n",
       "    }\n",
       "\n",
       "    .dataframe tbody tr th {\n",
       "        vertical-align: top;\n",
       "    }\n",
       "\n",
       "    .dataframe thead th {\n",
       "        text-align: right;\n",
       "    }\n",
       "</style>\n",
       "<table border=\"1\" class=\"dataframe\">\n",
       "  <thead>\n",
       "    <tr style=\"text-align: right;\">\n",
       "      <th></th>\n",
       "      <th>lon</th>\n",
       "      <th>lat</th>\n",
       "      <th>geom</th>\n",
       "      <th>contributingarea_km2</th>\n",
       "    </tr>\n",
       "    <tr>\n",
       "      <th>SiteID</th>\n",
       "      <th></th>\n",
       "      <th></th>\n",
       "      <th></th>\n",
       "      <th></th>\n",
       "    </tr>\n",
       "  </thead>\n",
       "  <tbody>\n",
       "    <tr>\n",
       "      <th>711</th>\n",
       "      <td>-109.270364</td>\n",
       "      <td>33.674955</td>\n",
       "      <td>POINT (-109.27036 33.67496)</td>\n",
       "      <td>1.819213</td>\n",
       "    </tr>\n",
       "    <tr>\n",
       "      <th>712</th>\n",
       "      <td>-109.269682</td>\n",
       "      <td>33.674044</td>\n",
       "      <td>POINT (-109.26968 33.67404)</td>\n",
       "      <td>2.325559</td>\n",
       "    </tr>\n",
       "    <tr>\n",
       "      <th>713</th>\n",
       "      <td>-109.261972</td>\n",
       "      <td>33.676641</td>\n",
       "      <td>POINT (-109.26197 33.67664)</td>\n",
       "      <td>0.715387</td>\n",
       "    </tr>\n",
       "    <tr>\n",
       "      <th>714</th>\n",
       "      <td>-109.266936</td>\n",
       "      <td>33.654978</td>\n",
       "      <td>POINT (-109.26694 33.65498)</td>\n",
       "      <td>1.554356</td>\n",
       "    </tr>\n",
       "    <tr>\n",
       "      <th>715</th>\n",
       "      <td>-109.272564</td>\n",
       "      <td>33.653975</td>\n",
       "      <td>POINT (-109.27256 33.65397)</td>\n",
       "      <td>0.683425</td>\n",
       "    </tr>\n",
       "  </tbody>\n",
       "</table>\n",
       "</div>"
      ],
      "text/plain": [
       "               lon        lat                         geom  \\\n",
       "SiteID                                                       \n",
       "711    -109.270364  33.674955  POINT (-109.27036 33.67496)   \n",
       "712    -109.269682  33.674044  POINT (-109.26968 33.67404)   \n",
       "713    -109.261972  33.676641  POINT (-109.26197 33.67664)   \n",
       "714    -109.266936  33.654978  POINT (-109.26694 33.65498)   \n",
       "715    -109.272564  33.653975  POINT (-109.27256 33.65397)   \n",
       "\n",
       "        contributingarea_km2  \n",
       "SiteID                        \n",
       "711                 1.819213  \n",
       "712                 2.325559  \n",
       "713                 0.715387  \n",
       "714                 1.554356  \n",
       "715                 0.683425  "
      ]
     },
     "execution_count": 26,
     "metadata": {},
     "output_type": "execute_result"
    }
   ],
   "source": [
    "SiteProps=modelDataI[[\"lon\",\"lat\",\"geom\",\"contributingarea_km2\",\"SiteID\"]].drop_duplicates().set_index(\"SiteID\")\n",
    "SiteProps.tail()"
   ]
  },
  {
   "cell_type": "markdown",
   "id": "875d9ea7",
   "metadata": {},
   "source": [
    "This function takes an input array, which is the FBFM40 fuel type for the region around the debris flow, and has been multiplied with the catchment array.  Values outside of the catchment are zero.\n",
    "The output is a dictionary with the relative contribution of each fuel category, and a categorical output with the dominant fuel type in the catchment."
   ]
  },
  {
   "cell_type": "code",
   "execution_count": 27,
   "id": "610a95e5",
   "metadata": {},
   "outputs": [],
   "source": [
    "def get_cat_contribs(clparr):\n",
    "    fnums,cnt=np.unique(clparr, return_counts=True)\n",
    "    \n",
    "    #out={}\n",
    "    odf=pd.DataFrame({\"count\": cnt, \"fnum\":fnums}).query(\"fnum > 0\")\n",
    "    \n",
    "    #nft=len(ftypes)\n",
    "    \n",
    "    try:\n",
    "        #ftypes=[fmattr[ft][0] for ft in fnums if ft != 0]\n",
    "        odf[\"ftype\"] = odf[\"fnum\"].apply(lambda x: fmattr[x][0])\n",
    "        odf[\"cat\"] = odf[\"ftype\"].str[0:2]\n",
    "\n",
    "        cats=odf.groupby(\"cat\")[\"count\"].sum()\n",
    "        cats = cats / cats.sum()\n",
    "\n",
    "        #catd=cats.to_dict()\n",
    "\n",
    "        allcats=[\"NB\",\"GR\",\"GS\",\"SH\",\"TU\",\"TL\"]\n",
    "\n",
    "        for ca in allcats:\n",
    "            if ca not in cats.index:\n",
    "                cats[ca] = 0.\n",
    "\n",
    "        # code of dominant fuel\n",
    "        dfuel=odf.set_index(\"ftype\")[\"count\"].sort_values(ascending=False).index[0]\n",
    "        \n",
    "        cdict=cats.sort_index().to_dict()\n",
    "    \n",
    "    # if query region is empty\n",
    "    except AttributeError:\n",
    "        cdict={}\n",
    "        dfuel='ER'\n",
    "    \n",
    "    return cdict, dfuel"
   ]
  },
  {
   "cell_type": "code",
   "execution_count": 28,
   "id": "b34dc461-8da0-43e0-a246-522b36802671",
   "metadata": {},
   "outputs": [],
   "source": [
    "def slope_from_elev(elv, dx, dy):\n",
    "    px,py=np.gradient(elv, dx, dy)\n",
    "    slope = np.sqrt(px**2 + py**2)\n",
    "    return slope"
   ]
  },
  {
   "cell_type": "code",
   "execution_count": 29,
   "id": "7963de9f-1255-4409-92ba-eed19413d4fd",
   "metadata": {},
   "outputs": [],
   "source": [
    "# try:\n",
    "#     import geojsoncontour\n",
    "# except ModuleNotFoundError:\n",
    "#     # you may need to change this to your version of python\n",
    "#     !python3.8 -m pip install geojsoncontour\n",
    "# import json"
   ]
  },
  {
   "cell_type": "code",
   "execution_count": 30,
   "id": "e3e9b07c",
   "metadata": {},
   "outputs": [],
   "source": [
    "try:\n",
    "    import geojsoncontour\n",
    "except ModuleNotFoundError:\n",
    "    # you may need to change this to your version of python\n",
    "    !python3.9 -m pip install geojsoncontour\n",
    "import json"
   ]
  },
  {
   "cell_type": "markdown",
   "id": "f5a071f9-e3f0-4deb-8d7e-58d206528d2c",
   "metadata": {},
   "source": [
    "Load a table that maps FBFM40 classes to fuel characteristics.  This should be included in the Landfire module as well."
   ]
  },
  {
   "cell_type": "code",
   "execution_count": 35,
   "id": "233b62bf-54b2-4ef1-9288-afc9415a83aa",
   "metadata": {
    "scrolled": true
   },
   "outputs": [
    {
     "data": {
      "text/html": [
       "<div>\n",
       "<style scoped>\n",
       "    .dataframe tbody tr th:only-of-type {\n",
       "        vertical-align: middle;\n",
       "    }\n",
       "\n",
       "    .dataframe tbody tr th {\n",
       "        vertical-align: top;\n",
       "    }\n",
       "\n",
       "    .dataframe thead th {\n",
       "        text-align: right;\n",
       "    }\n",
       "</style>\n",
       "<table border=\"1\" class=\"dataframe\">\n",
       "  <thead>\n",
       "    <tr style=\"text-align: right;\">\n",
       "      <th></th>\n",
       "      <th>Fine fuel load</th>\n",
       "      <th>SAV</th>\n",
       "      <th>Packing ratio</th>\n",
       "      <th>Extinction moisture content</th>\n",
       "    </tr>\n",
       "    <tr>\n",
       "      <th>Num</th>\n",
       "      <th></th>\n",
       "      <th></th>\n",
       "      <th></th>\n",
       "      <th></th>\n",
       "    </tr>\n",
       "  </thead>\n",
       "  <tbody>\n",
       "    <tr>\n",
       "      <th>101</th>\n",
       "      <td>0.40</td>\n",
       "      <td>2054.0</td>\n",
       "      <td>0.00143</td>\n",
       "      <td>15.0</td>\n",
       "    </tr>\n",
       "    <tr>\n",
       "      <th>102</th>\n",
       "      <td>1.10</td>\n",
       "      <td>1820.0</td>\n",
       "      <td>0.00158</td>\n",
       "      <td>15.0</td>\n",
       "    </tr>\n",
       "    <tr>\n",
       "      <th>103</th>\n",
       "      <td>1.60</td>\n",
       "      <td>1290.0</td>\n",
       "      <td>0.00143</td>\n",
       "      <td>30.0</td>\n",
       "    </tr>\n",
       "    <tr>\n",
       "      <th>104</th>\n",
       "      <td>2.15</td>\n",
       "      <td>1826.0</td>\n",
       "      <td>0.00154</td>\n",
       "      <td>15.0</td>\n",
       "    </tr>\n",
       "    <tr>\n",
       "      <th>105</th>\n",
       "      <td>2.90</td>\n",
       "      <td>1631.0</td>\n",
       "      <td>0.00277</td>\n",
       "      <td>40.0</td>\n",
       "    </tr>\n",
       "  </tbody>\n",
       "</table>\n",
       "</div>"
      ],
      "text/plain": [
       "     Fine fuel load     SAV  Packing ratio  Extinction moisture content\n",
       "Num                                                                    \n",
       "101            0.40  2054.0        0.00143                         15.0\n",
       "102            1.10  1820.0        0.00158                         15.0\n",
       "103            1.60  1290.0        0.00143                         30.0\n",
       "104            2.15  1826.0        0.00154                         15.0\n",
       "105            2.90  1631.0        0.00277                         40.0"
      ]
     },
     "execution_count": 35,
     "metadata": {},
     "output_type": "execute_result"
    }
   ],
   "source": [
    "fbpars=pd.read_pickle(\"../Landfire/FBFM40_fuel_parameters.pkl\").set_index(\"Num\")\n",
    "fbpars.head()"
   ]
  },
  {
   "cell_type": "code",
   "execution_count": 36,
   "id": "130e24a2-8045-48d7-84fa-6540e7560a3d",
   "metadata": {},
   "outputs": [],
   "source": [
    "# map categorical numbers in matrix to numerical value corresponding to column col in dataframe valdf\n",
    "def map_matrix(nummat, valdf, col):\n",
    "    assert col in valdf.columns\n",
    "    \n",
    "    newmat=nummat.astype(float).copy()\n",
    "    \n",
    "    for cc in np.unique(newmat):\n",
    "        idx = newmat == cc\n",
    "        if cc in valdf.index:\n",
    "            newmat[idx] = valdf.loc[cc,col]\n",
    "        # use  value of zero for non-burnable fuels\n",
    "        else:\n",
    "            # these non-burnable fuels are not in the dataframe\n",
    "            #assert cc in [91, 92, 93, 98, 99], f'unknown fuel {cc}'\n",
    "            newmat[idx] = 0.\n",
    "        \n",
    "    return newmat"
   ]
  },
  {
   "cell_type": "code",
   "execution_count": 37,
   "id": "17bf77dd-bb59-4159-8aef-dfd445a3081f",
   "metadata": {},
   "outputs": [],
   "source": [
    "# retrieve average fuel parameters from FBFM40 fuel model for catchment area\n",
    "\n",
    "def retrieve_avg_fuel_pars(catch, fmm):\n",
    "    # first replace cat numbers with fuel type values\n",
    "    fuelchar={}\n",
    "    for fuel_par in fbpars.columns:\n",
    "        fmat=map_matrix(fmm, fbpars, fuel_par) * np.array(catch)\n",
    "        fuelchar[fuel_par] = fmat[fmat > 0].mean()\n",
    "    return fuelchar"
   ]
  },
  {
   "cell_type": "markdown",
   "id": "4480619a",
   "metadata": {},
   "source": [
    "Function to extract contributing region (as polygon) given the coordinates of the debris flow base.\n",
    "The contributing area is provided to estimate the size of the elevation extraction region needed.\n",
    "\n",
    "Only one positional argument `tid` is provided, which is the id of the side in `SiteProps` table.  The catchment area is computed using the [pysheds](https://github.com/mdbartos/pysheds) library.\n",
    "\n",
    "### Notes:\n",
    "\n",
    "- The output is a matrix with zeros (outside catchment area) and ones (inside catchment area).  The polygon of the catchment area is then retrieved by making a contour plot (with a single contour at level 0.5), and transforming that contour into geojson format).  An alternative approach would be to keep coordinates of points inside the catchment as a list, and running the alphashape algorithm or concave hull on them.\n",
    "\n",
    "- Because the reported debris flow location does not always coincide with the true location, the location is `clipped` to a place where the catchment area is at least a fraction of that reported by Staley.  In addition, the distance by which the catchment can be offset is limited using an iterative procedure (explained below)."
   ]
  },
  {
   "cell_type": "code",
   "execution_count": 38,
   "id": "cffae360",
   "metadata": {},
   "outputs": [],
   "source": [
    "def get_contributing_region(tid, acc_clip='range', slope_thres=25., verbose=False, debug_output=False, steep_only=False):\n",
    "    lon=SiteProps.loc[tid,\"lon\"]\n",
    "    lat=SiteProps.loc[tid,\"lat\"]\n",
    "    carea=SiteProps.loc[tid, \"contributingarea_km2\"]\n",
    "    \n",
    "    #radius of DEM extraction is estimated based on catchment radius provided in Staley dataset\n",
    "    radius = 6.*np.sqrt(carea) * 1.e3\n",
    "    \n",
    "    elev=retrieve_usgs_13_topo(lon, lat, radius, verbose=False)\n",
    "\n",
    "    dx=abs(elev.x.data[1]-elev.x.data[0])\n",
    "    dy=abs(elev.y.data[1]-elev.y.data[0])\n",
    "    \n",
    "    cell_area=dx*dy\n",
    "    \n",
    "    if verbose:\n",
    "        print(\"cell_area:\", cell_area)\n",
    "    \n",
    "    # write elevation to temporary tiff file that pysheds can read\n",
    "    tmptifffile=\"/tmp/tmp-{}.tiff\".format(getpid())\n",
    "    elev.rio.to_raster(tmptifffile, dtype='float32')\n",
    "    #print(tmptifffile)\n",
    "    \n",
    "    grid=Grid.from_raster(tmptifffile)\n",
    "    dem=grid.read_raster(tmptifffile)\n",
    "    pit_filled_dem = grid.fill_pits(dem)\n",
    "    \n",
    "    # Fill depressions in DEM\n",
    "    flooded_dem = grid.fill_depressions(pit_filled_dem)\n",
    "    \n",
    "    # Resolve flats in DEM\n",
    "    inflated_dem = grid.resolve_flats(flooded_dem)\n",
    "    \n",
    "    # flow direction\n",
    "    fdir = grid.flowdir(inflated_dem)\n",
    "    \n",
    "    # compute flow accumulation over grid\n",
    "    acc = grid.accumulation(fdir)#, dirmap=dirmap)\n",
    "    \n",
    "    # find nearby location with sufficiently high accumulation\n",
    "\n",
    "    SiteProps_reproj=SiteProps.to_crs(elev.rio.crs)\n",
    "    xp, yp = SiteProps_reproj.loc[tid,\"geom\"].x, SiteProps_reproj.loc[tid,\"geom\"].y \n",
    "    \n",
    "    if verbose:\n",
    "        print(xp,yp,elev.x.data[0],elev.x.data[-1],elev.y.data[0],elev.y.data[-1])\n",
    "        \n",
    "    # trying new approach\n",
    "    # 1. snap to any value with area > 90% of target area\n",
    "    #    if resulting area close to expected and\n",
    "    #.   snap distance within threshold, keep\n",
    "    \n",
    "    # if snap distance > threshold:\n",
    "    #    try clipping to smaller than expected area (50% or so?)\n",
    "    #.   if this results in smaller snap distance, keep\n",
    "    # \n",
    "    # if new area much greater than target area:\n",
    "    #.   try clipping to range (50 - 150 % of target area)\n",
    "    #.   if snap distance is within threshold, keep\n",
    "    # \n",
    "    #.   otherwise, keep solution with smallest snap area\n",
    "        \n",
    "    \n",
    "    snapmask = acc > (carea*1.e6 / cell_area * 0.9)\n",
    "    xysnap, snap_dist1 = grid.snap_to_mask(snapmask, (xp, yp), return_dist=True)\n",
    "    x_snap1, y_snap1 = xysnap\n",
    "    catch1 = grid.catchment(x=x_snap1, y=y_snap1, fdir=fdir, xytype='coordinate')\n",
    "    area1=catch1.sum() * cell_area * 1.e-6\n",
    "    \n",
    "    if (area1 > (carea * 3.)) | (snap_dist1 > 200.): \n",
    "        if verbose:\n",
    "            print(f\"area1 ({area1}) >> carea({carea}), trying range ...\")\n",
    "        lowthres  = carea*1.e6 / cell_area * 0.5\n",
    "        highthres = carea*1.e6 / cell_area * 1.6\n",
    "        snapmask = (acc > lowthres) & (acc < highthres)\n",
    "        \n",
    "        xysnap, snap_dist2 = grid.snap_to_mask(snapmask, (xp, yp), return_dist=True)\n",
    "        x_snap2, y_snap2 = xysnap\n",
    "        catch2 = grid.catchment(x=x_snap2, y=y_snap2, fdir=fdir, xytype='coordinate')\n",
    "        area2=catch2.sum() * cell_area * 1.e-6\n",
    "        \n",
    "        if snap_dist2 < 200.:\n",
    "            if verbose:\n",
    "                print(f\"    > new snap_dist2={snap_dist2}, keeping ....\")\n",
    "            catch=catch2\n",
    "            area=area2\n",
    "            snap_dist=snap_dist2\n",
    "            \n",
    "        else:\n",
    "            if verbose:\n",
    "                print(f\"    > new snap_dist2={snap_dist2} (area2={area2}), rejecting ....\")\n",
    "            catch=catch1\n",
    "            area=area1\n",
    "            snap_dist=snap_dist1\n",
    "            \n",
    "    else:\n",
    "        catch=catch1\n",
    "        area=area1\n",
    "        snap_dist=snap_dist1\n",
    "    \n",
    "  \n",
    "    if verbose:\n",
    "        print(\"Snap distance: {} m\".format(snap_dist))\n",
    "    \n",
    "    # compute catchment area  \n",
    "    \n",
    "    if verbose:\n",
    "        print(\"Area = \" + str(area))\n",
    "    \n",
    "    slope = slope_from_elev(elev.data[0,:,:], dx, dy)\n",
    "    slope_deg = np.degrees(np.arctan(slope))\n",
    "    \n",
    "    steepslope = slope_deg > slope_thres\n",
    "    \n",
    "    steepcatch = catch * steepslope\n",
    "    \n",
    "    steeparea = steepcatch.sum() * cell_area * 1.e-6\n",
    "    \n",
    "    if verbose:\n",
    "        print(catch.shape, slope.shape, steeparea.shape)\n",
    "    \n",
    "    # retrieving a slightly larger area for the fuel models to avoid\n",
    "    # gaps after reprojection\n",
    "    fm=mylf.query(fbfm40, lon, lat, radius*1.5)\n",
    "    fmr=fm.rio.reproject_match(elev)\n",
    "\n",
    "    #ev=mylf.query(evt, lon, lat, radius*1.5)\n",
    "    \n",
    "    \n",
    "    #unlink(tmptifffile)\n",
    "    \n",
    "    if steep_only:\n",
    "        cats,dfuel=get_cat_contribs(fmr.data*steepcatch)\n",
    "    else:\n",
    "        cats,dfuel=get_cat_contribs(fmr.data*catch)\n",
    "    \n",
    "    # convert catchment area into shapely polyton, by creating a contour plot,\n",
    "    # converting contours to geojson and then to a geodataframe,\n",
    "    # and keeping the contour delineating the catchment\n",
    "    \n",
    "    fig,ax=plt.subplots()\n",
    "    contourf=ax.contourf(elev.x.data, elev.y.data, catch, levels=[-0.5, 0.5, 1.5])\n",
    "    \n",
    "    geojson = geojsoncontour.contourf_to_geojson(\n",
    "        contourf=contourf, ndigits=3, unit='m')\n",
    "    \n",
    "    catchgdf=gpd.GeoDataFrame.from_features(json.loads(geojson)).set_crs(elev.rio.crs)\n",
    "    catchgdf=catchgdf.to_crs('epsg:4326')\n",
    "    \n",
    "    mask=catchgdf[\"title\"] == \"0.50-1.50 m\"\n",
    "    catchshape=catchgdf.loc[mask,\"geometry\"].iat[0]\n",
    "    \n",
    "    fuelpars=retrieve_avg_fuel_pars(catch, fmr.data)\n",
    "    \n",
    "    if not debug_output:\n",
    "        return tid, cats, dfuel, area, snap_dist, catchshape,fuelpars\n",
    "\n",
    "    else:\n",
    "        return tid, elev, area, catch, snap_dist, slope_deg, steepslope, steepcatch, steeparea, fmr.data, cats, dfuel, catchshape, fuelpars"
   ]
  },
  {
   "cell_type": "markdown",
   "id": "4bff17ae-cc50-4157-9030-4bfc206bf4f3",
   "metadata": {},
   "source": [
    "Testing the function on a list of random points:"
   ]
  },
  {
   "cell_type": "code",
   "execution_count": 39,
   "id": "4fd070f2-ffda-4d45-a532-2d8efe60bef4",
   "metadata": {},
   "outputs": [
    {
     "ename": "NameError",
     "evalue": "name 'ns' is not defined",
     "output_type": "error",
     "traceback": [
      "\u001b[0;31m---------------------------------------------------------------------------\u001b[0m",
      "\u001b[0;31mNameError\u001b[0m                                 Traceback (most recent call last)",
      "Cell \u001b[0;32mIn[39], line 1\u001b[0m\n\u001b[0;32m----> 1\u001b[0m \u001b[38;5;28;01mdel\u001b[39;00m ns\n",
      "\u001b[0;31mNameError\u001b[0m: name 'ns' is not defined"
     ]
    }
   ],
   "source": [
    "del ns\n",
    "#ns=[94]"
   ]
  },
  {
   "cell_type": "code",
   "execution_count": 101,
   "id": "6b3414c3",
   "metadata": {},
   "outputs": [
    {
     "name": "stdout",
     "output_type": "stream",
     "text": [
      "[273]\n"
     ]
    }
   ],
   "source": [
    "if \"ns\" not in locals():\n",
    "    ns=np.random.choice(SiteProps.index, size=1)\n",
    "print(ns)"
   ]
  },
  {
   "cell_type": "code",
   "execution_count": 102,
   "id": "88a255e7",
   "metadata": {
    "tags": []
   },
   "outputs": [
    {
     "name": "stdout",
     "output_type": "stream",
     "text": [
      "cell_area: 90.36209965872622\n",
      "537182.4454000002 3616079.501 527476.6156754048 546887.6596999794 3625782.433836237 3606380.8957098136\n",
      "Snap distance: 4.943889523817895 m\n",
      "Area = 2.652940883880543\n",
      "(2042, 2043) (2042, 2043) ()\n",
      "273 273 2.652940883880543 2.6142001\n"
     ]
    },
    {
     "data": {
      "image/png": "[encoded data removed]",
      "text/plain": [
       "<Figure size 432x288 with 1 Axes>"
      ]
     },
     "metadata": {
      "needs_background": "dark"
     },
     "output_type": "display_data"
    }
   ],
   "source": [
    "areas=[]\n",
    "\n",
    "for n in ns:\n",
    "    tid,elev,area,catch,snap_dist,slope,steepslope,steepcatch,steeparea,fm,cats,dfuel,catchshape,fuelpars = \\\n",
    "        get_contributing_region(n, acc_clip='range', debug_output=True, verbose=True)\n",
    "    print(n, tid, area, SiteProps.loc[n,\"contributingarea_km2\"])\n",
    "    areas.append(area)"
   ]
  },
  {
   "cell_type": "code",
   "execution_count": 103,
   "id": "a25a2ae0-58f0-49b1-b737-6f13a2f6c30a",
   "metadata": {},
   "outputs": [
    {
     "data": {
      "text/plain": [
       "{'Fine fuel load': 1.7649875515841893,\n",
       " 'SAV': 1821.8705023703149,\n",
       " 'Packing ratio': 0.0022717393676886873,\n",
       " 'Extinction moisture content': 15.0}"
      ]
     },
     "execution_count": 103,
     "metadata": {},
     "output_type": "execute_result"
    }
   ],
   "source": [
    "fuelpars"
   ]
  },
  {
   "cell_type": "code",
   "execution_count": 108,
   "id": "c74edc54-230c-4e8e-86c7-62325bfdd944",
   "metadata": {},
   "outputs": [
    {
     "data": {
      "text/plain": [
       "(Raster(2.65294088), Raster(0.47512392))"
      ]
     },
     "execution_count": 108,
     "metadata": {},
     "output_type": "execute_result"
    }
   ],
   "source": [
    "area,steeparea"
   ]
  },
  {
   "cell_type": "code",
   "execution_count": 109,
   "id": "2829a262-2469-4ce4-b7ee-206dc297f614",
   "metadata": {},
   "outputs": [
    {
     "data": {
      "text/plain": [
       "xarray.core.dataarray.DataArray"
      ]
     },
     "execution_count": 109,
     "metadata": {},
     "output_type": "execute_result"
    }
   ],
   "source": [
    "type(elev)"
   ]
  },
  {
   "cell_type": "markdown",
   "id": "ece12f31-594d-44d4-829e-4da9055fa8ce",
   "metadata": {},
   "source": [
    "Creating plots with: \n",
    "1. debris flow location over elevation map\n",
    "1. catchment area as raster (1: inside, 0: outside catchment)\n",
    "1. slope of terrain and site location\n",
    "1. steep ($>$23$^\\circ$) areas within catchment"
   ]
  },
  {
   "cell_type": "code",
   "execution_count": 110,
   "id": "7a0bb7ca-eb98-4760-9439-433ba2b96660",
   "metadata": {},
   "outputs": [
    {
     "data": {
      "image/png": "[encoded data removed]",
      "text/plain": [
       "<Figure size 1080x216 with 5 Axes>"
      ]
     },
     "metadata": {
      "needs_background": "dark"
     },
     "output_type": "display_data"
    }
   ],
   "source": [
    "SiteProps_reproj=SiteProps.to_crs(elev.rio.crs)\n",
    "\n",
    "\n",
    "fig,ax=plt.subplots(ncols=4, figsize=(15,3))\n",
    "extent=[elev.x.min(), elev.x.max(), elev.y.min(), elev.y.max()]\n",
    "ax[0].imshow(elev[0,:,:], origin='lower', extent=extent)\n",
    "\n",
    "ax[1].imshow(catch, origin='lower', extent=extent)\n",
    "h2=ax[2].imshow(slope, origin='lower', extent=extent)#, vmin=0, vmax=25.)\n",
    "fig.colorbar(h2, ax=ax[2], shrink=0.25)\n",
    "h3=ax[3].imshow(steepcatch, origin='lower', extent=extent)#, vmin=0, vmax=25.)\n",
    "\n",
    "for p in range(4):\n",
    "    ax[p].plot(SiteProps_reproj.loc[n,\"geom\"].x, SiteProps_reproj.loc[n,\"geom\"].y, marker='^',\n",
    "          markerfacecolor='red')"
   ]
  },
  {
   "cell_type": "markdown",
   "id": "556a0442-030a-4546-98d9-7db903cc09bd",
   "metadata": {},
   "source": [
    "Initiate dask client and distribute computation of features for all sites over several nodes:"
   ]
  },
  {
   "cell_type": "code",
   "execution_count": 112,
   "id": "3f892948-0b0f-4cb9-9d6f-3b34083096b4",
   "metadata": {},
   "outputs": [],
   "source": [
    "from dask.distributed import Client\n",
    "import dask.bag as db"
   ]
  },
  {
   "cell_type": "code",
   "execution_count": 158,
   "id": "7eef7455",
   "metadata": {},
   "outputs": [
    {
     "name": "stderr",
     "output_type": "stream",
     "text": [
      "/usr/local/lib/python3.8/dist-packages/distributed/node.py:177: UserWarning: Port 8787 is already in use.\n",
      "Perhaps you already have a cluster running?\n",
      "Hosting the HTTP server on port 44421 instead\n",
      "  warnings.warn(\n"
     ]
    }
   ],
   "source": [
    "c=Client(n_workers=12)"
   ]
  },
  {
   "cell_type": "code",
   "execution_count": null,
   "id": "578f3bcd",
   "metadata": {},
   "outputs": [],
   "source": [
    "\n"
   ]
  },
  {
   "cell_type": "code",
   "execution_count": 159,
   "id": "351d9bbf",
   "metadata": {},
   "outputs": [
    {
     "data": {
      "text/html": [
       "<div>\n",
       "    <div style=\"width: 24px; height: 24px; background-color: #e1e1e1; border: 3px solid #9D9D9D; border-radius: 5px; position: absolute;\"> </div>\n",
       "    <div style=\"margin-left: 48px;\">\n",
       "        <h3 style=\"margin-bottom: 0px;\">Client</h3>\n",
       "        <p style=\"color: #9D9D9D; margin-bottom: 0px;\">Client-98bda67e-a7df-11ed-9afc-0242ac150003</p>\n",
       "        <table style=\"width: 100%; text-align: left;\">\n",
       "\n",
       "        <tr>\n",
       "        \n",
       "            <td style=\"text-align: left;\"><strong>Connection method:</strong> Cluster object</td>\n",
       "            <td style=\"text-align: left;\"><strong>Cluster type:</strong> distributed.LocalCluster</td>\n",
       "        \n",
       "        </tr>\n",
       "\n",
       "        \n",
       "            <tr>\n",
       "                <td style=\"text-align: left;\">\n",
       "                    <strong>Dashboard: </strong> <a href=\"http://127.0.0.1:44421/status\" target=\"_blank\">http://127.0.0.1:44421/status</a>\n",
       "                </td>\n",
       "                <td style=\"text-align: left;\"></td>\n",
       "            </tr>\n",
       "        \n",
       "\n",
       "        </table>\n",
       "\n",
       "        \n",
       "            <details>\n",
       "            <summary style=\"margin-bottom: 20px;\"><h3 style=\"display: inline;\">Cluster Info</h3></summary>\n",
       "            <div class=\"jp-RenderedHTMLCommon jp-RenderedHTML jp-mod-trusted jp-OutputArea-output\">\n",
       "    <div style=\"width: 24px; height: 24px; background-color: #e1e1e1; border: 3px solid #9D9D9D; border-radius: 5px; position: absolute;\">\n",
       "    </div>\n",
       "    <div style=\"margin-left: 48px;\">\n",
       "        <h3 style=\"margin-bottom: 0px; margin-top: 0px;\">LocalCluster</h3>\n",
       "        <p style=\"color: #9D9D9D; margin-bottom: 0px;\">3aa974c5</p>\n",
       "        <table style=\"width: 100%; text-align: left;\">\n",
       "            <tr>\n",
       "                <td style=\"text-align: left;\">\n",
       "                    <strong>Dashboard:</strong> <a href=\"http://127.0.0.1:44421/status\" target=\"_blank\">http://127.0.0.1:44421/status</a>\n",
       "                </td>\n",
       "                <td style=\"text-align: left;\">\n",
       "                    <strong>Workers:</strong> 12\n",
       "                </td>\n",
       "            </tr>\n",
       "            <tr>\n",
       "                <td style=\"text-align: left;\">\n",
       "                    <strong>Total threads:</strong> 24\n",
       "                </td>\n",
       "                <td style=\"text-align: left;\">\n",
       "                    <strong>Total memory:</strong> 62.86 GiB\n",
       "                </td>\n",
       "            </tr>\n",
       "            \n",
       "            <tr>\n",
       "    <td style=\"text-align: left;\"><strong>Status:</strong> running</td>\n",
       "    <td style=\"text-align: left;\"><strong>Using processes:</strong> True</td>\n",
       "</tr>\n",
       "\n",
       "            \n",
       "        </table>\n",
       "\n",
       "        <details>\n",
       "            <summary style=\"margin-bottom: 20px;\">\n",
       "                <h3 style=\"display: inline;\">Scheduler Info</h3>\n",
       "            </summary>\n",
       "\n",
       "            <div style=\"\">\n",
       "    <div>\n",
       "        <div style=\"width: 24px; height: 24px; background-color: #FFF7E5; border: 3px solid #FF6132; border-radius: 5px; position: absolute;\"> </div>\n",
       "        <div style=\"margin-left: 48px;\">\n",
       "            <h3 style=\"margin-bottom: 0px;\">Scheduler</h3>\n",
       "            <p style=\"color: #9D9D9D; margin-bottom: 0px;\">Scheduler-0c157bdc-b195-478b-8c14-1c84f2a807f5</p>\n",
       "            <table style=\"width: 100%; text-align: left;\">\n",
       "                <tr>\n",
       "                    <td style=\"text-align: left;\">\n",
       "                        <strong>Comm:</strong> tcp://127.0.0.1:45489\n",
       "                    </td>\n",
       "                    <td style=\"text-align: left;\">\n",
       "                        <strong>Workers:</strong> 12\n",
       "                    </td>\n",
       "                </tr>\n",
       "                <tr>\n",
       "                    <td style=\"text-align: left;\">\n",
       "                        <strong>Dashboard:</strong> <a href=\"http://127.0.0.1:44421/status\" target=\"_blank\">http://127.0.0.1:44421/status</a>\n",
       "                    </td>\n",
       "                    <td style=\"text-align: left;\">\n",
       "                        <strong>Total threads:</strong> 24\n",
       "                    </td>\n",
       "                </tr>\n",
       "                <tr>\n",
       "                    <td style=\"text-align: left;\">\n",
       "                        <strong>Started:</strong> Just now\n",
       "                    </td>\n",
       "                    <td style=\"text-align: left;\">\n",
       "                        <strong>Total memory:</strong> 62.86 GiB\n",
       "                    </td>\n",
       "                </tr>\n",
       "            </table>\n",
       "        </div>\n",
       "    </div>\n",
       "\n",
       "    <details style=\"margin-left: 48px;\">\n",
       "        <summary style=\"margin-bottom: 20px;\">\n",
       "            <h3 style=\"display: inline;\">Workers</h3>\n",
       "        </summary>\n",
       "\n",
       "        \n",
       "        <div style=\"margin-bottom: 20px;\">\n",
       "            <div style=\"width: 24px; height: 24px; background-color: #DBF5FF; border: 3px solid #4CC9FF; border-radius: 5px; position: absolute;\"> </div>\n",
       "            <div style=\"margin-left: 48px;\">\n",
       "            <details>\n",
       "                <summary>\n",
       "                    <h4 style=\"margin-bottom: 0px; display: inline;\">Worker: 0</h4>\n",
       "                </summary>\n",
       "                <table style=\"width: 100%; text-align: left;\">\n",
       "                    <tr>\n",
       "                        <td style=\"text-align: left;\">\n",
       "                            <strong>Comm: </strong> tcp://127.0.0.1:36037\n",
       "                        </td>\n",
       "                        <td style=\"text-align: left;\">\n",
       "                            <strong>Total threads: </strong> 2\n",
       "                        </td>\n",
       "                    </tr>\n",
       "                    <tr>\n",
       "                        <td style=\"text-align: left;\">\n",
       "                            <strong>Dashboard: </strong> <a href=\"http://127.0.0.1:39881/status\" target=\"_blank\">http://127.0.0.1:39881/status</a>\n",
       "                        </td>\n",
       "                        <td style=\"text-align: left;\">\n",
       "                            <strong>Memory: </strong> 5.24 GiB\n",
       "                        </td>\n",
       "                    </tr>\n",
       "                    <tr>\n",
       "                        <td style=\"text-align: left;\">\n",
       "                            <strong>Nanny: </strong> tcp://127.0.0.1:39197\n",
       "                        </td>\n",
       "                        <td style=\"text-align: left;\"></td>\n",
       "                    </tr>\n",
       "                    <tr>\n",
       "                        <td colspan=\"2\" style=\"text-align: left;\">\n",
       "                            <strong>Local directory: </strong> /home/droten/firis/PostFireDebrisFlow/data_preparation/dask-worker-space/worker-9y6716nd\n",
       "                        </td>\n",
       "                    </tr>\n",
       "\n",
       "                    \n",
       "\n",
       "                    \n",
       "\n",
       "                </table>\n",
       "            </details>\n",
       "            </div>\n",
       "        </div>\n",
       "        \n",
       "        <div style=\"margin-bottom: 20px;\">\n",
       "            <div style=\"width: 24px; height: 24px; background-color: #DBF5FF; border: 3px solid #4CC9FF; border-radius: 5px; position: absolute;\"> </div>\n",
       "            <div style=\"margin-left: 48px;\">\n",
       "            <details>\n",
       "                <summary>\n",
       "                    <h4 style=\"margin-bottom: 0px; display: inline;\">Worker: 1</h4>\n",
       "                </summary>\n",
       "                <table style=\"width: 100%; text-align: left;\">\n",
       "                    <tr>\n",
       "                        <td style=\"text-align: left;\">\n",
       "                            <strong>Comm: </strong> tcp://127.0.0.1:45435\n",
       "                        </td>\n",
       "                        <td style=\"text-align: left;\">\n",
       "                            <strong>Total threads: </strong> 2\n",
       "                        </td>\n",
       "                    </tr>\n",
       "                    <tr>\n",
       "                        <td style=\"text-align: left;\">\n",
       "                            <strong>Dashboard: </strong> <a href=\"http://127.0.0.1:40419/status\" target=\"_blank\">http://127.0.0.1:40419/status</a>\n",
       "                        </td>\n",
       "                        <td style=\"text-align: left;\">\n",
       "                            <strong>Memory: </strong> 5.24 GiB\n",
       "                        </td>\n",
       "                    </tr>\n",
       "                    <tr>\n",
       "                        <td style=\"text-align: left;\">\n",
       "                            <strong>Nanny: </strong> tcp://127.0.0.1:37007\n",
       "                        </td>\n",
       "                        <td style=\"text-align: left;\"></td>\n",
       "                    </tr>\n",
       "                    <tr>\n",
       "                        <td colspan=\"2\" style=\"text-align: left;\">\n",
       "                            <strong>Local directory: </strong> /home/droten/firis/PostFireDebrisFlow/data_preparation/dask-worker-space/worker-9dl1pksl\n",
       "                        </td>\n",
       "                    </tr>\n",
       "\n",
       "                    \n",
       "\n",
       "                    \n",
       "\n",
       "                </table>\n",
       "            </details>\n",
       "            </div>\n",
       "        </div>\n",
       "        \n",
       "        <div style=\"margin-bottom: 20px;\">\n",
       "            <div style=\"width: 24px; height: 24px; background-color: #DBF5FF; border: 3px solid #4CC9FF; border-radius: 5px; position: absolute;\"> </div>\n",
       "            <div style=\"margin-left: 48px;\">\n",
       "            <details>\n",
       "                <summary>\n",
       "                    <h4 style=\"margin-bottom: 0px; display: inline;\">Worker: 2</h4>\n",
       "                </summary>\n",
       "                <table style=\"width: 100%; text-align: left;\">\n",
       "                    <tr>\n",
       "                        <td style=\"text-align: left;\">\n",
       "                            <strong>Comm: </strong> tcp://127.0.0.1:43551\n",
       "                        </td>\n",
       "                        <td style=\"text-align: left;\">\n",
       "                            <strong>Total threads: </strong> 2\n",
       "                        </td>\n",
       "                    </tr>\n",
       "                    <tr>\n",
       "                        <td style=\"text-align: left;\">\n",
       "                            <strong>Dashboard: </strong> <a href=\"http://127.0.0.1:33155/status\" target=\"_blank\">http://127.0.0.1:33155/status</a>\n",
       "                        </td>\n",
       "                        <td style=\"text-align: left;\">\n",
       "                            <strong>Memory: </strong> 5.24 GiB\n",
       "                        </td>\n",
       "                    </tr>\n",
       "                    <tr>\n",
       "                        <td style=\"text-align: left;\">\n",
       "                            <strong>Nanny: </strong> tcp://127.0.0.1:46085\n",
       "                        </td>\n",
       "                        <td style=\"text-align: left;\"></td>\n",
       "                    </tr>\n",
       "                    <tr>\n",
       "                        <td colspan=\"2\" style=\"text-align: left;\">\n",
       "                            <strong>Local directory: </strong> /home/droten/firis/PostFireDebrisFlow/data_preparation/dask-worker-space/worker-drtog2b5\n",
       "                        </td>\n",
       "                    </tr>\n",
       "\n",
       "                    \n",
       "\n",
       "                    \n",
       "\n",
       "                </table>\n",
       "            </details>\n",
       "            </div>\n",
       "        </div>\n",
       "        \n",
       "        <div style=\"margin-bottom: 20px;\">\n",
       "            <div style=\"width: 24px; height: 24px; background-color: #DBF5FF; border: 3px solid #4CC9FF; border-radius: 5px; position: absolute;\"> </div>\n",
       "            <div style=\"margin-left: 48px;\">\n",
       "            <details>\n",
       "                <summary>\n",
       "                    <h4 style=\"margin-bottom: 0px; display: inline;\">Worker: 3</h4>\n",
       "                </summary>\n",
       "                <table style=\"width: 100%; text-align: left;\">\n",
       "                    <tr>\n",
       "                        <td style=\"text-align: left;\">\n",
       "                            <strong>Comm: </strong> tcp://127.0.0.1:39821\n",
       "                        </td>\n",
       "                        <td style=\"text-align: left;\">\n",
       "                            <strong>Total threads: </strong> 2\n",
       "                        </td>\n",
       "                    </tr>\n",
       "                    <tr>\n",
       "                        <td style=\"text-align: left;\">\n",
       "                            <strong>Dashboard: </strong> <a href=\"http://127.0.0.1:39327/status\" target=\"_blank\">http://127.0.0.1:39327/status</a>\n",
       "                        </td>\n",
       "                        <td style=\"text-align: left;\">\n",
       "                            <strong>Memory: </strong> 5.24 GiB\n",
       "                        </td>\n",
       "                    </tr>\n",
       "                    <tr>\n",
       "                        <td style=\"text-align: left;\">\n",
       "                            <strong>Nanny: </strong> tcp://127.0.0.1:42629\n",
       "                        </td>\n",
       "                        <td style=\"text-align: left;\"></td>\n",
       "                    </tr>\n",
       "                    <tr>\n",
       "                        <td colspan=\"2\" style=\"text-align: left;\">\n",
       "                            <strong>Local directory: </strong> /home/droten/firis/PostFireDebrisFlow/data_preparation/dask-worker-space/worker-x0cu2mpi\n",
       "                        </td>\n",
       "                    </tr>\n",
       "\n",
       "                    \n",
       "\n",
       "                    \n",
       "\n",
       "                </table>\n",
       "            </details>\n",
       "            </div>\n",
       "        </div>\n",
       "        \n",
       "        <div style=\"margin-bottom: 20px;\">\n",
       "            <div style=\"width: 24px; height: 24px; background-color: #DBF5FF; border: 3px solid #4CC9FF; border-radius: 5px; position: absolute;\"> </div>\n",
       "            <div style=\"margin-left: 48px;\">\n",
       "            <details>\n",
       "                <summary>\n",
       "                    <h4 style=\"margin-bottom: 0px; display: inline;\">Worker: 4</h4>\n",
       "                </summary>\n",
       "                <table style=\"width: 100%; text-align: left;\">\n",
       "                    <tr>\n",
       "                        <td style=\"text-align: left;\">\n",
       "                            <strong>Comm: </strong> tcp://127.0.0.1:37929\n",
       "                        </td>\n",
       "                        <td style=\"text-align: left;\">\n",
       "                            <strong>Total threads: </strong> 2\n",
       "                        </td>\n",
       "                    </tr>\n",
       "                    <tr>\n",
       "                        <td style=\"text-align: left;\">\n",
       "                            <strong>Dashboard: </strong> <a href=\"http://127.0.0.1:37479/status\" target=\"_blank\">http://127.0.0.1:37479/status</a>\n",
       "                        </td>\n",
       "                        <td style=\"text-align: left;\">\n",
       "                            <strong>Memory: </strong> 5.24 GiB\n",
       "                        </td>\n",
       "                    </tr>\n",
       "                    <tr>\n",
       "                        <td style=\"text-align: left;\">\n",
       "                            <strong>Nanny: </strong> tcp://127.0.0.1:44671\n",
       "                        </td>\n",
       "                        <td style=\"text-align: left;\"></td>\n",
       "                    </tr>\n",
       "                    <tr>\n",
       "                        <td colspan=\"2\" style=\"text-align: left;\">\n",
       "                            <strong>Local directory: </strong> /home/droten/firis/PostFireDebrisFlow/data_preparation/dask-worker-space/worker-jbtqxa9t\n",
       "                        </td>\n",
       "                    </tr>\n",
       "\n",
       "                    \n",
       "\n",
       "                    \n",
       "\n",
       "                </table>\n",
       "            </details>\n",
       "            </div>\n",
       "        </div>\n",
       "        \n",
       "        <div style=\"margin-bottom: 20px;\">\n",
       "            <div style=\"width: 24px; height: 24px; background-color: #DBF5FF; border: 3px solid #4CC9FF; border-radius: 5px; position: absolute;\"> </div>\n",
       "            <div style=\"margin-left: 48px;\">\n",
       "            <details>\n",
       "                <summary>\n",
       "                    <h4 style=\"margin-bottom: 0px; display: inline;\">Worker: 5</h4>\n",
       "                </summary>\n",
       "                <table style=\"width: 100%; text-align: left;\">\n",
       "                    <tr>\n",
       "                        <td style=\"text-align: left;\">\n",
       "                            <strong>Comm: </strong> tcp://127.0.0.1:40845\n",
       "                        </td>\n",
       "                        <td style=\"text-align: left;\">\n",
       "                            <strong>Total threads: </strong> 2\n",
       "                        </td>\n",
       "                    </tr>\n",
       "                    <tr>\n",
       "                        <td style=\"text-align: left;\">\n",
       "                            <strong>Dashboard: </strong> <a href=\"http://127.0.0.1:40449/status\" target=\"_blank\">http://127.0.0.1:40449/status</a>\n",
       "                        </td>\n",
       "                        <td style=\"text-align: left;\">\n",
       "                            <strong>Memory: </strong> 5.24 GiB\n",
       "                        </td>\n",
       "                    </tr>\n",
       "                    <tr>\n",
       "                        <td style=\"text-align: left;\">\n",
       "                            <strong>Nanny: </strong> tcp://127.0.0.1:45839\n",
       "                        </td>\n",
       "                        <td style=\"text-align: left;\"></td>\n",
       "                    </tr>\n",
       "                    <tr>\n",
       "                        <td colspan=\"2\" style=\"text-align: left;\">\n",
       "                            <strong>Local directory: </strong> /home/droten/firis/PostFireDebrisFlow/data_preparation/dask-worker-space/worker-e5pwpirj\n",
       "                        </td>\n",
       "                    </tr>\n",
       "\n",
       "                    \n",
       "\n",
       "                    \n",
       "\n",
       "                </table>\n",
       "            </details>\n",
       "            </div>\n",
       "        </div>\n",
       "        \n",
       "        <div style=\"margin-bottom: 20px;\">\n",
       "            <div style=\"width: 24px; height: 24px; background-color: #DBF5FF; border: 3px solid #4CC9FF; border-radius: 5px; position: absolute;\"> </div>\n",
       "            <div style=\"margin-left: 48px;\">\n",
       "            <details>\n",
       "                <summary>\n",
       "                    <h4 style=\"margin-bottom: 0px; display: inline;\">Worker: 6</h4>\n",
       "                </summary>\n",
       "                <table style=\"width: 100%; text-align: left;\">\n",
       "                    <tr>\n",
       "                        <td style=\"text-align: left;\">\n",
       "                            <strong>Comm: </strong> tcp://127.0.0.1:38175\n",
       "                        </td>\n",
       "                        <td style=\"text-align: left;\">\n",
       "                            <strong>Total threads: </strong> 2\n",
       "                        </td>\n",
       "                    </tr>\n",
       "                    <tr>\n",
       "                        <td style=\"text-align: left;\">\n",
       "                            <strong>Dashboard: </strong> <a href=\"http://127.0.0.1:33877/status\" target=\"_blank\">http://127.0.0.1:33877/status</a>\n",
       "                        </td>\n",
       "                        <td style=\"text-align: left;\">\n",
       "                            <strong>Memory: </strong> 5.24 GiB\n",
       "                        </td>\n",
       "                    </tr>\n",
       "                    <tr>\n",
       "                        <td style=\"text-align: left;\">\n",
       "                            <strong>Nanny: </strong> tcp://127.0.0.1:33539\n",
       "                        </td>\n",
       "                        <td style=\"text-align: left;\"></td>\n",
       "                    </tr>\n",
       "                    <tr>\n",
       "                        <td colspan=\"2\" style=\"text-align: left;\">\n",
       "                            <strong>Local directory: </strong> /home/droten/firis/PostFireDebrisFlow/data_preparation/dask-worker-space/worker-xicvpnns\n",
       "                        </td>\n",
       "                    </tr>\n",
       "\n",
       "                    \n",
       "\n",
       "                    \n",
       "\n",
       "                </table>\n",
       "            </details>\n",
       "            </div>\n",
       "        </div>\n",
       "        \n",
       "        <div style=\"margin-bottom: 20px;\">\n",
       "            <div style=\"width: 24px; height: 24px; background-color: #DBF5FF; border: 3px solid #4CC9FF; border-radius: 5px; position: absolute;\"> </div>\n",
       "            <div style=\"margin-left: 48px;\">\n",
       "            <details>\n",
       "                <summary>\n",
       "                    <h4 style=\"margin-bottom: 0px; display: inline;\">Worker: 7</h4>\n",
       "                </summary>\n",
       "                <table style=\"width: 100%; text-align: left;\">\n",
       "                    <tr>\n",
       "                        <td style=\"text-align: left;\">\n",
       "                            <strong>Comm: </strong> tcp://127.0.0.1:40773\n",
       "                        </td>\n",
       "                        <td style=\"text-align: left;\">\n",
       "                            <strong>Total threads: </strong> 2\n",
       "                        </td>\n",
       "                    </tr>\n",
       "                    <tr>\n",
       "                        <td style=\"text-align: left;\">\n",
       "                            <strong>Dashboard: </strong> <a href=\"http://127.0.0.1:37837/status\" target=\"_blank\">http://127.0.0.1:37837/status</a>\n",
       "                        </td>\n",
       "                        <td style=\"text-align: left;\">\n",
       "                            <strong>Memory: </strong> 5.24 GiB\n",
       "                        </td>\n",
       "                    </tr>\n",
       "                    <tr>\n",
       "                        <td style=\"text-align: left;\">\n",
       "                            <strong>Nanny: </strong> tcp://127.0.0.1:42059\n",
       "                        </td>\n",
       "                        <td style=\"text-align: left;\"></td>\n",
       "                    </tr>\n",
       "                    <tr>\n",
       "                        <td colspan=\"2\" style=\"text-align: left;\">\n",
       "                            <strong>Local directory: </strong> /home/droten/firis/PostFireDebrisFlow/data_preparation/dask-worker-space/worker-03tazilz\n",
       "                        </td>\n",
       "                    </tr>\n",
       "\n",
       "                    \n",
       "\n",
       "                    \n",
       "\n",
       "                </table>\n",
       "            </details>\n",
       "            </div>\n",
       "        </div>\n",
       "        \n",
       "        <div style=\"margin-bottom: 20px;\">\n",
       "            <div style=\"width: 24px; height: 24px; background-color: #DBF5FF; border: 3px solid #4CC9FF; border-radius: 5px; position: absolute;\"> </div>\n",
       "            <div style=\"margin-left: 48px;\">\n",
       "            <details>\n",
       "                <summary>\n",
       "                    <h4 style=\"margin-bottom: 0px; display: inline;\">Worker: 8</h4>\n",
       "                </summary>\n",
       "                <table style=\"width: 100%; text-align: left;\">\n",
       "                    <tr>\n",
       "                        <td style=\"text-align: left;\">\n",
       "                            <strong>Comm: </strong> tcp://127.0.0.1:34235\n",
       "                        </td>\n",
       "                        <td style=\"text-align: left;\">\n",
       "                            <strong>Total threads: </strong> 2\n",
       "                        </td>\n",
       "                    </tr>\n",
       "                    <tr>\n",
       "                        <td style=\"text-align: left;\">\n",
       "                            <strong>Dashboard: </strong> <a href=\"http://127.0.0.1:38029/status\" target=\"_blank\">http://127.0.0.1:38029/status</a>\n",
       "                        </td>\n",
       "                        <td style=\"text-align: left;\">\n",
       "                            <strong>Memory: </strong> 5.24 GiB\n",
       "                        </td>\n",
       "                    </tr>\n",
       "                    <tr>\n",
       "                        <td style=\"text-align: left;\">\n",
       "                            <strong>Nanny: </strong> tcp://127.0.0.1:40203\n",
       "                        </td>\n",
       "                        <td style=\"text-align: left;\"></td>\n",
       "                    </tr>\n",
       "                    <tr>\n",
       "                        <td colspan=\"2\" style=\"text-align: left;\">\n",
       "                            <strong>Local directory: </strong> /home/droten/firis/PostFireDebrisFlow/data_preparation/dask-worker-space/worker-u3a5r9re\n",
       "                        </td>\n",
       "                    </tr>\n",
       "\n",
       "                    \n",
       "\n",
       "                    \n",
       "\n",
       "                </table>\n",
       "            </details>\n",
       "            </div>\n",
       "        </div>\n",
       "        \n",
       "        <div style=\"margin-bottom: 20px;\">\n",
       "            <div style=\"width: 24px; height: 24px; background-color: #DBF5FF; border: 3px solid #4CC9FF; border-radius: 5px; position: absolute;\"> </div>\n",
       "            <div style=\"margin-left: 48px;\">\n",
       "            <details>\n",
       "                <summary>\n",
       "                    <h4 style=\"margin-bottom: 0px; display: inline;\">Worker: 9</h4>\n",
       "                </summary>\n",
       "                <table style=\"width: 100%; text-align: left;\">\n",
       "                    <tr>\n",
       "                        <td style=\"text-align: left;\">\n",
       "                            <strong>Comm: </strong> tcp://127.0.0.1:42463\n",
       "                        </td>\n",
       "                        <td style=\"text-align: left;\">\n",
       "                            <strong>Total threads: </strong> 2\n",
       "                        </td>\n",
       "                    </tr>\n",
       "                    <tr>\n",
       "                        <td style=\"text-align: left;\">\n",
       "                            <strong>Dashboard: </strong> <a href=\"http://127.0.0.1:33929/status\" target=\"_blank\">http://127.0.0.1:33929/status</a>\n",
       "                        </td>\n",
       "                        <td style=\"text-align: left;\">\n",
       "                            <strong>Memory: </strong> 5.24 GiB\n",
       "                        </td>\n",
       "                    </tr>\n",
       "                    <tr>\n",
       "                        <td style=\"text-align: left;\">\n",
       "                            <strong>Nanny: </strong> tcp://127.0.0.1:43259\n",
       "                        </td>\n",
       "                        <td style=\"text-align: left;\"></td>\n",
       "                    </tr>\n",
       "                    <tr>\n",
       "                        <td colspan=\"2\" style=\"text-align: left;\">\n",
       "                            <strong>Local directory: </strong> /home/droten/firis/PostFireDebrisFlow/data_preparation/dask-worker-space/worker-6fqz7il5\n",
       "                        </td>\n",
       "                    </tr>\n",
       "\n",
       "                    \n",
       "\n",
       "                    \n",
       "\n",
       "                </table>\n",
       "            </details>\n",
       "            </div>\n",
       "        </div>\n",
       "        \n",
       "        <div style=\"margin-bottom: 20px;\">\n",
       "            <div style=\"width: 24px; height: 24px; background-color: #DBF5FF; border: 3px solid #4CC9FF; border-radius: 5px; position: absolute;\"> </div>\n",
       "            <div style=\"margin-left: 48px;\">\n",
       "            <details>\n",
       "                <summary>\n",
       "                    <h4 style=\"margin-bottom: 0px; display: inline;\">Worker: 10</h4>\n",
       "                </summary>\n",
       "                <table style=\"width: 100%; text-align: left;\">\n",
       "                    <tr>\n",
       "                        <td style=\"text-align: left;\">\n",
       "                            <strong>Comm: </strong> tcp://127.0.0.1:42971\n",
       "                        </td>\n",
       "                        <td style=\"text-align: left;\">\n",
       "                            <strong>Total threads: </strong> 2\n",
       "                        </td>\n",
       "                    </tr>\n",
       "                    <tr>\n",
       "                        <td style=\"text-align: left;\">\n",
       "                            <strong>Dashboard: </strong> <a href=\"http://127.0.0.1:42687/status\" target=\"_blank\">http://127.0.0.1:42687/status</a>\n",
       "                        </td>\n",
       "                        <td style=\"text-align: left;\">\n",
       "                            <strong>Memory: </strong> 5.24 GiB\n",
       "                        </td>\n",
       "                    </tr>\n",
       "                    <tr>\n",
       "                        <td style=\"text-align: left;\">\n",
       "                            <strong>Nanny: </strong> tcp://127.0.0.1:33935\n",
       "                        </td>\n",
       "                        <td style=\"text-align: left;\"></td>\n",
       "                    </tr>\n",
       "                    <tr>\n",
       "                        <td colspan=\"2\" style=\"text-align: left;\">\n",
       "                            <strong>Local directory: </strong> /home/droten/firis/PostFireDebrisFlow/data_preparation/dask-worker-space/worker-ag_yes4j\n",
       "                        </td>\n",
       "                    </tr>\n",
       "\n",
       "                    \n",
       "\n",
       "                    \n",
       "\n",
       "                </table>\n",
       "            </details>\n",
       "            </div>\n",
       "        </div>\n",
       "        \n",
       "        <div style=\"margin-bottom: 20px;\">\n",
       "            <div style=\"width: 24px; height: 24px; background-color: #DBF5FF; border: 3px solid #4CC9FF; border-radius: 5px; position: absolute;\"> </div>\n",
       "            <div style=\"margin-left: 48px;\">\n",
       "            <details>\n",
       "                <summary>\n",
       "                    <h4 style=\"margin-bottom: 0px; display: inline;\">Worker: 11</h4>\n",
       "                </summary>\n",
       "                <table style=\"width: 100%; text-align: left;\">\n",
       "                    <tr>\n",
       "                        <td style=\"text-align: left;\">\n",
       "                            <strong>Comm: </strong> tcp://127.0.0.1:41687\n",
       "                        </td>\n",
       "                        <td style=\"text-align: left;\">\n",
       "                            <strong>Total threads: </strong> 2\n",
       "                        </td>\n",
       "                    </tr>\n",
       "                    <tr>\n",
       "                        <td style=\"text-align: left;\">\n",
       "                            <strong>Dashboard: </strong> <a href=\"http://127.0.0.1:46193/status\" target=\"_blank\">http://127.0.0.1:46193/status</a>\n",
       "                        </td>\n",
       "                        <td style=\"text-align: left;\">\n",
       "                            <strong>Memory: </strong> 5.24 GiB\n",
       "                        </td>\n",
       "                    </tr>\n",
       "                    <tr>\n",
       "                        <td style=\"text-align: left;\">\n",
       "                            <strong>Nanny: </strong> tcp://127.0.0.1:41363\n",
       "                        </td>\n",
       "                        <td style=\"text-align: left;\"></td>\n",
       "                    </tr>\n",
       "                    <tr>\n",
       "                        <td colspan=\"2\" style=\"text-align: left;\">\n",
       "                            <strong>Local directory: </strong> /home/droten/firis/PostFireDebrisFlow/data_preparation/dask-worker-space/worker-6usf5bz_\n",
       "                        </td>\n",
       "                    </tr>\n",
       "\n",
       "                    \n",
       "\n",
       "                    \n",
       "\n",
       "                </table>\n",
       "            </details>\n",
       "            </div>\n",
       "        </div>\n",
       "        \n",
       "\n",
       "    </details>\n",
       "</div>\n",
       "\n",
       "        </details>\n",
       "    </div>\n",
       "</div>\n",
       "            </details>\n",
       "        \n",
       "\n",
       "    </div>\n",
       "</div>"
      ],
      "text/plain": [
       "<Client: 'tcp://127.0.0.1:45489' processes=12 threads=24, memory=62.86 GiB>"
      ]
     },
     "execution_count": 159,
     "metadata": {},
     "output_type": "execute_result"
    }
   ],
   "source": [
    "c"
   ]
  },
  {
   "cell_type": "code",
   "execution_count": 160,
   "id": "c2ce1924",
   "metadata": {},
   "outputs": [
    {
     "data": {
      "text/plain": [
       "12"
      ]
     },
     "execution_count": 160,
     "metadata": {},
     "output_type": "execute_result"
    }
   ],
   "source": [
    "nworkers=len(c.get_worker_logs().keys())\n",
    "nworkers"
   ]
  },
  {
   "cell_type": "markdown",
   "id": "d47df50d-d5f0-4921-a68e-daf0c425b67a",
   "metadata": {},
   "source": [
    "Function to get information about each node:"
   ]
  },
  {
   "cell_type": "code",
   "execution_count": 161,
   "id": "4245f3f3",
   "metadata": {},
   "outputs": [],
   "source": [
    "def nodeinfo(foo):\n",
    "    import subprocess\n",
    "    node=str(subprocess.run(\"hostname\", capture_output=True).stdout).lstrip(\"b'\").rstrip(\"\\\\n'\")\n",
    "    \n",
    "    with open(\"/proc/cpuinfo\",\"r\") as fid:\n",
    "        for n in range(5):\n",
    "            nl=fid.readline()\n",
    "    procname=nl.split(\":\")[1].rstrip(\"\\n\").lstrip()\n",
    "    \n",
    "    return (node,procname)"
   ]
  },
  {
   "cell_type": "code",
   "execution_count": 162,
   "id": "27656e97",
   "metadata": {},
   "outputs": [
    {
     "data": {
      "text/plain": [
       "dask.bag<from_sequence, npartitions=12>"
      ]
     },
     "execution_count": 162,
     "metadata": {},
     "output_type": "execute_result"
    }
   ],
   "source": [
    "a=db.from_sequence(range(nworkers), npartitions=nworkers)\n",
    "a"
   ]
  },
  {
   "cell_type": "code",
   "execution_count": 163,
   "id": "bd808731-bfc5-4bf1-9ead-a6330c2ae70d",
   "metadata": {},
   "outputs": [
    {
     "data": {
      "text/plain": [
       "[('83422072b6d9', 'Intel(R) Xeon(R) CPU E5-2670 0 @ 2.60GHz'),\n",
       " ('83422072b6d9', 'Intel(R) Xeon(R) CPU E5-2670 0 @ 2.60GHz'),\n",
       " ('83422072b6d9', 'Intel(R) Xeon(R) CPU E5-2670 0 @ 2.60GHz'),\n",
       " ('83422072b6d9', 'Intel(R) Xeon(R) CPU E5-2670 0 @ 2.60GHz'),\n",
       " ('83422072b6d9', 'Intel(R) Xeon(R) CPU E5-2670 0 @ 2.60GHz'),\n",
       " ('83422072b6d9', 'Intel(R) Xeon(R) CPU E5-2670 0 @ 2.60GHz'),\n",
       " ('83422072b6d9', 'Intel(R) Xeon(R) CPU E5-2670 0 @ 2.60GHz'),\n",
       " ('83422072b6d9', 'Intel(R) Xeon(R) CPU E5-2670 0 @ 2.60GHz'),\n",
       " ('83422072b6d9', 'Intel(R) Xeon(R) CPU E5-2670 0 @ 2.60GHz'),\n",
       " ('83422072b6d9', 'Intel(R) Xeon(R) CPU E5-2670 0 @ 2.60GHz'),\n",
       " ('83422072b6d9', 'Intel(R) Xeon(R) CPU E5-2670 0 @ 2.60GHz'),\n",
       " ('83422072b6d9', 'Intel(R) Xeon(R) CPU E5-2670 0 @ 2.60GHz')]"
      ]
     },
     "execution_count": 163,
     "metadata": {},
     "output_type": "execute_result"
    }
   ],
   "source": [
    "a.map(nodeinfo).compute()"
   ]
  },
  {
   "cell_type": "markdown",
   "id": "7b8ef9d5-a21c-48cf-bb22-5e0a87803d72",
   "metadata": {},
   "source": [
    "Total number of sites:"
   ]
  },
  {
   "cell_type": "code",
   "execution_count": 164,
   "id": "9b8a09e9",
   "metadata": {},
   "outputs": [
    {
     "name": "stdout",
     "output_type": "stream",
     "text": [
      "716\n"
     ]
    }
   ],
   "source": [
    "SiteIDs=SiteProps.index\n",
    "print(len(SiteIDs))"
   ]
  },
  {
   "cell_type": "code",
   "execution_count": 165,
   "id": "b26c6d5d",
   "metadata": {},
   "outputs": [],
   "source": [
    "b=db.from_sequence(SiteIDs, npartitions=12)"
   ]
  },
  {
   "cell_type": "code",
   "execution_count": 166,
   "id": "b954b4da",
   "metadata": {},
   "outputs": [
    {
     "data": {
      "text/plain": [
       "dask.bag<from_sequence, npartitions=12>"
      ]
     },
     "execution_count": 166,
     "metadata": {},
     "output_type": "execute_result"
    }
   ],
   "source": [
    "b"
   ]
  },
  {
   "cell_type": "code",
   "execution_count": 167,
   "id": "9733d929",
   "metadata": {},
   "outputs": [
    {
     "name": "stdout",
     "output_type": "stream",
     "text": [
      "CPU times: user 1min 32s, sys: 27.8 s, total: 2min\n",
      "Wall time: 10min 16s\n"
     ]
    }
   ],
   "source": [
    "%%time\n",
    "out=b.map(get_contributing_region).compute()"
   ]
  },
  {
   "cell_type": "code",
   "execution_count": 168,
   "id": "2b04998b",
   "metadata": {},
   "outputs": [
    {
     "data": {
      "text/plain": [
       "716"
      ]
     },
     "execution_count": 168,
     "metadata": {},
     "output_type": "execute_result"
    }
   ],
   "source": [
    "len(out)"
   ]
  },
  {
   "cell_type": "markdown",
   "id": "a7ca9bd8-297a-4d82-b1fb-5fde805d553c",
   "metadata": {},
   "source": [
    "The output dictionary contains a list for every site id with:\n",
    "1. site id\n",
    "1. dictionary with fractions vegetation types making out catchmnet\n",
    "1. dominant vegetation type\n",
    "1. area of catchment\n",
    "1. distance debris flow location was shifted from original point (clip distance)\n",
    "1. catchment polygon\n",
    "1. dictionary with fuel parameters"
   ]
  },
  {
   "cell_type": "code",
   "execution_count": 169,
   "id": "c96049e0-750b-4579-acaa-41a4eb2c01af",
   "metadata": {},
   "outputs": [
    {
     "data": {
      "text/plain": [
       "(715,\n",
       " {'GR': 0.02894943673041656,\n",
       "  'GS': 0.46528687450877654,\n",
       "  'NB': 0.0,\n",
       "  'SH': 0.08593135970657584,\n",
       "  'TL': 0.32957820277705,\n",
       "  'TU': 0.09025412627718103},\n",
       " 'GS1',\n",
       " Raster(0.68403884),\n",
       " 5.360731082556474,\n",
       " <shapely.geometry.multipolygon.MultiPolygon at 0x7f6f966c20d0>,\n",
       " {'Fine fuel load': 1.8316478910138856,\n",
       "  'SAV': 1709.367304165575,\n",
       "  'Packing ratio': 0.012260784647629027,\n",
       "  'Extinction moisture content': 18.278097982708935})"
      ]
     },
     "execution_count": 169,
     "metadata": {},
     "output_type": "execute_result"
    }
   ],
   "source": [
    "out[-1]"
   ]
  },
  {
   "cell_type": "code",
   "execution_count": 170,
   "id": "aea983b9",
   "metadata": {},
   "outputs": [
    {
     "data": {
      "image/svg+xml": [
       "<svg xmlns=\"http://www.w3.org/2000/svg\" xmlns:xlink=\"http://www.w3.org/1999/xlink\" width=\"100.0\" height=\"100.0\" viewBox=\"-109.28939168066013 33.652923597868465 0.018139192712368413 0.008607400285185918\" preserveAspectRatio=\"xMinYMin meet\"><g transform=\"matrix(1,0,0,-1,0,67.31445459602212)\"><g><path fill-rule=\"evenodd\" fill=\"#66cc99\" stroke=\"#555555\" stroke-width=\"0.00036278385424736825\" opacity=\"0.6\" d=\"M -109.27347115134356,33.66085917620134 L -109.27336909804903,33.66085775036407 L -109.27326704476168,33.66085632444259 L -109.27316499148151,33.66085489843693 L -109.27311481754425,33.66081151595155 L -109.27306464365732,33.66076813344712 L -109.27301446982074,33.660724750923606 L -109.27296429603446,33.66068136838101 L -109.27291412211835,33.660637994834666 L -109.27286394843274,33.660594612253924 L -109.27281377479746,33.660551229654104 L -109.27281548047277,33.660465890761216 L -109.27276530693456,33.66042250814398 L -109.27271513344668,33.660379125507696 L -109.27266496000912,33.660335742852304 L -109.2726147866219,33.660292360177856 L -109.27256461328501,33.660248977484336 L -109.27251443999845,33.66020559477174 L -109.27246426676221,33.66016221204007 L -109.2724140935763,33.66011882928933 L -109.27236392044072,33.660075446519514 L -109.27231374735547,33.66003206373061 L -109.27231545349098,33.659946724853086 L -109.27231715961929,33.6598613859743 L -109.27231886574042,33.65977604709423 L -109.27232057185437,33.659690708212956 L -109.27232227796114,33.65960536933038 L -109.27232398406072,33.65952003044657 L -109.27232569015311,33.65943469156149 L -109.27232739623831,33.659349352675164 L -109.27227722357728,33.65930596988049 L -109.27217517218078,33.659304543115276 L -109.27212499962398,33.65926116026172 L -109.2720748271175,33.65921777738912 L -109.27202465466138,33.65917439449741 L -109.27197448225556,33.65913101158666 L -109.27192430990007,33.65908762865681 L -109.27192601635916,33.659002289783785 L -109.27192772281104,33.65891695090949 L -109.2719294290755,33.65883162104925 L -109.27193113551301,33.65874628217244 L -109.27193284194335,33.65866094329438 L -109.27193454836649,33.65857560441507 L -109.27193625478246,33.658490265534496 L -109.27193796119124,33.658404926652665 L -109.27198983952773,33.658362970684465 L -109.2720417178139,33.658321014692596 L -109.27204342410765,33.65823567580369 L -109.27209530228959,33.65819371978525 L -109.27219735237045,33.65819514657512 L -109.27224923045533,33.658153190488655 L -109.27225093653342,33.658067851588065 L -109.27225264260433,33.6579825126862 L -109.27225434866804,33.65789717378309 L -109.27225605472458,33.657811834878736 L -109.27225776077394,33.6577264959731 L -109.27225946681611,33.65764115706623 L -109.27226117285109,33.6575558181581 L -109.27231305050823,33.65751386202756 L -109.27236492811505,33.65747190587335 L -109.27236663403501,33.65738656695813 L -109.2723683399478,33.657301228041646 L -109.27237004585339,33.6572158891239 L -109.27231987436068,33.65717250637078 L -109.27226970291825,33.65712912359858 L -109.27227140872989,33.657043793698215 L -109.2722731147146,33.65695845478129 L -109.2722748206921,33.6568731158631 L -109.27227652666244,33.65678777694366 L -109.27227823262558,33.65670243802296 L -109.27227993858153,33.656617099101 L -109.27228164453031,33.656531760177785 L -109.2722833504719,33.65644642125333 L -109.2722850564063,33.65636108232759 L -109.27228676233354,33.65627574340061 L -109.27228846825356,33.656190404472376 L -109.27229017416641,33.65610506554288 L -109.27224000333506,33.65606168277155 L -109.272189832554,33.65601829998115 L -109.27219153855313,33.655932961053736 L -109.27219324454506,33.655847622125044 L -109.27219495052982,33.6557622831951 L -109.27219665650739,33.65567694426391 L -109.27219836247778,33.65559160533146 L -109.27220006844098,33.655506266397744 L -109.272201774397,33.655420927462785 L -109.27220348034584,33.65533558852656 L -109.27220518610727,33.6552502586044 L -109.27220689204172,33.65516491966565 L -109.27220859796901,33.655079580725676 L -109.27221030388912,33.65499424178442 L -109.27226217997566,33.65495228561071 L -109.27236422623942,33.65495371214236 L -109.2724161022289,33.65491175590062 L -109.27241780793337,33.6548264169477 L -109.27241951363065,33.654741077993535 L -109.27242121932076,33.6546557390381 L -109.27242292500368,33.65457040008141 L -109.27242463067941,33.654485061123474 L -109.27242633634796,33.654399722164264 L -109.27242804200932,33.6543143832038 L -109.27242974766352,33.6542290442421 L -109.27243145331052,33.654143705279125 L -109.27243315895035,33.65405836631489 L -109.27243486458298,33.653973027349416 L -109.27248673992919,33.65393107105193 L -109.27253861522509,33.653889114730795 L -109.27259049047069,33.653847158386036 L -109.27264236566596,33.653805202017615 L -109.27269424081092,33.65376324562553 L -109.27274611590556,33.65372128920982 L -109.2727979909499,33.65367933277046 L -109.27284986594393,33.65363737630744 L -109.27290174088763,33.653595419820775 L -109.27300378558441,33.65359684577408 L -109.27310583028839,33.65359827164322 L -109.273156000196,33.65364165404797 L -109.2732061701539,33.653685036433664 L -109.27330821497286,33.65368646213903 L -109.273358385035,33.65372984446583 L -109.27340855514744,33.65377322677357 L -109.27351060008137,33.653774652315164 L -109.27361264502248,33.65377607777257 L -109.27371468997077,33.653777503145804 L -109.27376486029524,33.653820885315085 L -109.27381503067002,33.65386426746528 L -109.2739170757333,33.65386569267473 L -109.27401912080374,33.65386711780001 L -109.27406929133664,33.653910499851534 L -109.27411945113967,33.65395388173345 L -109.2742214963251,33.65395530669496 L -109.27432354151769,33.653956731572286 L -109.27442558671748,33.65395815636545 L -109.27452763192443,33.653959581074425 L -109.27462967713856,33.653961005699216 L -109.27473172235986,33.65396243023984 L -109.27483376758833,33.653963854696286 L -109.27493581282397,33.65396527906855 L -109.2750378580668,33.653966703356645 L -109.27513990331678,33.653968127560546 L -109.27524194857394,33.653969551680284 L -109.27534399383828,33.65397097571584 L -109.2753941651186,33.65401435725161 L -109.27544433644924,33.6540577387683 L -109.27554638182855,33.654059162640074 L -109.27564842721502,33.65406058642766 L -109.27575047260865,33.654062010131085 L -109.2758006441513,33.6541053915093 L -109.27585081574428,33.65414877286843 L -109.27595286125288,33.654150196408075 L -109.27605490676865,33.65415161986352 L -109.27610507851973,33.65419500112397 L -109.27615525032111,33.65423838236536 L -109.27625728517162,33.65423980550667 L -109.27630745707722,33.65428318668918 L -109.27635762903314,33.654326567852614 L -109.27640780103937,33.65436994899697 L -109.2764579730959,33.65441333012226 L -109.27656001894941,33.65441475317053 L -109.27666206481007,33.654416176134625 L -109.2767641106779,33.65441759901455 L -109.27686615655288,33.65441902181029 L -109.27691632887533,33.65446240275727 L -109.2769665012481,33.65450578368518 L -109.27706854723806,33.65450720631713 L -109.27717059323518,33.654508628864896 L -109.27727263923946,33.65451005132849 L -109.27732281182422,33.654553432117915 L -109.27737298445932,33.65459681288825 L -109.27747503057856,33.65459823518805 L -109.27757707670494,33.65459965740366 L -109.2776791228385,33.6546010795351 L -109.27778116897923,33.65460250158235 L -109.27783304222255,33.65456054297413 L -109.27788491541554,33.654518584342256 L -109.27798696146996,33.65452000621658 L -109.2780388345659,33.6544780475167 L -109.27809070761154,33.65443608879318 L -109.27819275357965,33.65443751049459 L -109.2782947995549,33.654438932111816 L -109.27839683475705,33.65444035349469 L -109.27849888074662,33.65444177494358 L -109.27860092674337,33.65444319630827 L -109.27870297274724,33.6544446175888 L -109.27875484546215,33.6544026585754 L -109.27880671812675,33.654360699538366 L -109.27885689142647,33.65440407972737 L -109.2789070647765,33.6544474598973 L -109.27900911080185,33.65444888092529 L -109.27911115683438,33.65445030186908 L -109.27921320287405,33.6544517227287 L -109.27926507535526,33.654409763493454 L -109.27931694778616,33.65436780423457 L -109.27941899373951,33.65436922492127 L -109.27952103970001,33.654370645523805 L -109.27962308566768,33.654372066042136 L -109.27972513164248,33.654373486476295 L -109.27982717762444,33.65437490682629 L -109.27992922361355,33.654376327092095 L -109.2799793975061,33.65441970684319 L -109.28002957144895,33.65446308657521 L -109.280131617553,33.65446450667722 L -109.28023366366419,33.65446592669505 L -109.28033570978255,33.65446734662871 L -109.28043775590804,33.65446876647816 L -109.28053979126041,33.65447018609347 L -109.28059166313402,33.65442822628141 L -109.2806435349573,33.654386266445734 L -109.28074558100361,33.65438768603812 L -109.28084762705708,33.654389105546315 L -109.28094967311769,33.654390524970324 L -109.28100154475044,33.65434856497791 L -109.28105341633288,33.654306604961846 L -109.28115546230715,33.654308024212945 L -109.28125750828859,33.654309443379866 L -109.28135955427715,33.654310862462616 L -109.28146160027286,33.65431228146118 L -109.28156364627571,33.65431370037556 L -109.28166569228571,33.65431511920576 L -109.28176773830288,33.65431653795179 L -109.28186978432716,33.65431795661364 L -109.2819718303586,33.65431937519131 L -109.28207387639719,33.6543207936848 L -109.28212574746186,33.654278833201424 L -109.28217761847624,33.654236872694426 L -109.28227966442849,33.654238291015 L -109.28238171038785,33.6542397092514 L -109.28248375635437,33.65424112740361 L -109.2825356271782,33.65419916673986 L -109.28258749795171,33.65415720605248 L -109.28268953305164,33.65415862388199 L -109.28279157893894,33.654160041777125 L -109.28289362483339,33.65416145958809 L -109.28299567073498,33.65416287731487 L -109.28309771664371,33.654164294957454 L -109.28314789206652,33.65420767346944 L -109.28319806753966,33.65425105196235 L -109.28330011356329,33.65425246944114 L -109.28340215959406,33.654253886835754 L -109.28350420563198,33.654255304146176 L -109.28355607598834,33.65421334303878 L -109.2836079462944,33.65417138190775 L -109.28365812198665,33.65421476022066 L -109.28370829772919,33.6542581385145 L -109.28381034378852,33.654259555572395 L -109.28391238985498,33.6542609725461 L -109.28396256575562,33.65430435074121 L -109.28401274170656,33.65434772891724 L -109.28411478788793,33.65434914572714 L -109.2842168340764,33.65435056245286 L -109.28431888027204,33.6543519790944 L -109.28436905643495,33.654395357131904 L -109.28441923264819,33.65443873515031 L -109.2845212789587,33.65444015162803 L -109.28457145527615,33.65448352958754 L -109.2846216316439,33.654526907527966 L -109.28467180806197,33.654570285449296 L -109.28472198453035,33.65461366335155 L -109.28482402028321,33.65461507943623 L -109.28487419685578,33.65465845727958 L -109.28492437347867,33.65470183510385 L -109.28497455015189,33.65474521290903 L -109.2850247268754,33.65478859069513 L -109.28507490364926,33.65483196846214 L -109.2851250804734,33.654875346210055 L -109.28517525734789,33.65491872393889 L -109.28522543427269,33.65496210164865 L -109.2852756112478,33.65500547933931 L -109.28532578827324,33.65504885701088 L -109.28542783535237,33.655050272762814 L -109.28552988243862,33.655051688430554 L -109.28563192953203,33.65505310401411 L -109.28568210676943,33.655096481547154 L -109.28573228405713,33.6551398590611 L -109.28583433126542,33.65514127448085 L -109.28593637848084,33.655142689816394 L -109.28603842570338,33.655144105067784 L -109.28614047293306,33.655145520234974 L -109.28619065048659,33.655188897570554 L -109.28618895835335,33.65527423713672 L -109.28618726621298,33.65535957670161 L -109.28618557406547,33.65544491626526 L -109.28618388208962,33.65553024681228 L -109.28618218992787,33.65561558637343 L -109.28618049775899,33.65570092593332 L -109.2862306756434,33.655744303259674 L -109.28633272359177,33.6557457182903 L -109.28638290158038,33.65578909555774 L -109.2864330796193,33.655832472806104 L -109.28653512768255,33.65583388767289 L -109.28658530582568,33.655877264862355 L -109.28658361403798,33.65596260443663 L -109.2866337922782,33.656005981608644 L -109.28668397056872,33.65604935876155 L -109.28673414890956,33.65609273589536 L -109.28678432730072,33.6561361130101 L -109.28683449496168,33.6561794899563 L -109.28688467345347,33.65622286703285 L -109.2869348519956,33.656266244090325 L -109.28698503058804,33.656309621128706 L -109.28703520923081,33.65635299814799 L -109.2870853879239,33.656396375148184 L -109.28713556666729,33.656439752129295 L -109.28723761548491,33.65644116643859 L -109.28733966430964,33.6564425806637 L -109.28744171314149,33.65644399480461 L -109.28754376198047,33.65644540886135 L -109.28764581082658,33.6564468228339 L -109.28774785967978,33.65644823672226 L -109.28784990854012,33.656449650526426 L -109.28790177823312,33.656407687583894 L -109.2879536478758,33.65636572461774 L -109.28805569664974,33.656367138249 L -109.28810756619532,33.656325175214846 L -109.2881594356906,33.656283212157064 L -109.28820961492961,33.65632658871755 L -109.28825979421894,33.65636996525895 L -109.28836184301424,33.65637137863765 L -109.28846389181665,33.656372791932164 L -109.28856594062617,33.65637420514249 L -109.28861612012747,33.65641758154532 L -109.28856425076181,33.6564595447984 L -109.28851238134583,33.65650150802782 L -109.28846051187952,33.65654347123364 L -109.2884086423629,33.656585434415824 L -109.28835677279595,33.656627397574375 L -109.28825472369873,33.656625984182064 L -109.28815267460863,33.65662457070557 L -109.28805062552566,33.65662315714487 L -109.28794857644978,33.656621743500004 L -109.28784652738105,33.65662032977095 L -109.28779465752996,33.656662292684054 L -109.28774278762855,33.65670425557353 L -109.28769091767683,33.65674621843938 L -109.28763904767479,33.6567881812816 L -109.2875369984261,33.65678676729089 L -109.28748512832698,33.65682873006511 L -109.28743325817751,33.65687069281571 L -109.28733120884245,33.65686927865209 L -109.2872291595145,33.656867864404276 L -109.28712711019367,33.656866450072286 L -109.28702506087996,33.6568650356561 L -109.28692301157336,33.65686362115573 L -109.28682096227391,33.656862206571155 L -109.2867691025742,33.65690416918139 L -109.28671723204353,33.656946131618525 L -109.28661518265766,33.65694471686105 L -109.28651313327893,33.65694330201939 L -109.28641108390732,33.656941887093545 L -109.28635921318606,33.65698384937397 L -109.28630734241447,33.65702581163075 L -109.28625547159255,33.657067773863915 L -109.28620360072033,33.657109736073444 L -109.2861015511688,33.65710832088594 L -109.28604968019948,33.657150283027455 L -109.28599780917986,33.657192245145346 L -109.2859459381099,33.65723420723961 L -109.28589406698961,33.65727616931023 L -109.28579201725819,33.65727475386108 L -109.28574014621964,33.657316706848334 L -109.28579032477688,33.6573600843652 L -109.28584050338446,33.65740346186299 L -109.285838810764,33.657488801382904 L -109.2857869394353,33.65753076340044 L -109.28573506805628,33.65757272539438 L -109.28568319662693,33.65761468736467 L -109.28558114650717,33.65761327172896 L -109.28552927498075,33.65765523363124 L -109.28547740340399,33.65769719550992 L -109.28542553177691,33.65773915736494 L -109.2853736600995,33.65778111919632 L -109.28527160979984,33.65777970329895 L -109.28521973802536,33.65782166506233 L -109.28516786620054,33.65786362680208 L -109.28511768768607,33.6578202490364 L -109.28506750922192,33.65777687125163 L -109.28501563735391,33.657818832926274 L -109.28496376543558,33.6578607945773 L -109.28491189346691,33.65790275620466 L -109.28486002144793,33.65794471780843 L -109.28475797098264,33.657943301481 L -109.2846559313052,33.65794188521902 L -109.28455388085416,33.65794046872322 L -109.28445183041025,33.65793905214323 L -109.28434977997347,33.657937635479044 L -109.28424772954385,33.657936218730676 L -109.28414567912134,33.65793480189812 L -109.28404362870597,33.657933384981355 L -109.28394157829773,33.65793196798042 L -109.28383952789665,33.65793055089528 L -109.28378765535976,33.657972512031705 L -109.28373578277257,33.658014473144476 L -109.2836337322851,33.6580130558864 L -109.28353168180476,33.65801163854415 L -109.28342963133156,33.65801022111769 L -109.2833275808655,33.65800880360705 L -109.28322553040658,33.658007386012216 L -109.28317365753527,33.65804934687951 L -109.28312178461366,33.65809130772316 L -109.28301973406836,33.6580898899554 L -109.2829176835302,33.65808847210344 L -109.28281563299919,33.65808705416728 L -109.28271358247532,33.65808563614694 L -109.2826115319586,33.6580842180424 L -109.28250949222975,33.6580828000035 L -109.28240744172729,33.65808138173059 L -109.28235556842807,33.658123342239996 L -109.28230369507851,33.658165302725784 L -109.2822016444897,33.65816388427992 L -109.28209959390803,33.65816246574988 L -109.2819975433335,33.65816104713566 L -109.28189549276613,33.65815962843724 L -109.28179344220588,33.65815820965462 L -109.2816913916528,33.65815679078782 L -109.28158934110685,33.65815537183682 L -109.2815374673797,33.65819733198836 L -109.28148559360223,33.658239292116235 L -109.28138354296992,33.65823787299231 L -109.28133166909537,33.658279833052184 L -109.28127979517049,33.65832179308842 L -109.28122792119528,33.65836375310101 L -109.28117604716977,33.65840571308996 L -109.2811241730939,33.65844767305528 L -109.28107229896773,33.658489632996954 L -109.28102042479122,33.658531592914976 L -109.2809685505644,33.65857355280937 L -109.28091667628723,33.65861551268013 L -109.28086480195975,33.65865747252724 L -109.28081292758195,33.65869943235071 L -109.28076105315381,33.65874139215055 L -109.28070917867535,33.65878335192673 L -109.28065730414657,33.65882531167927 L -109.28060542956746,33.658867271408184 L -109.28055355493801,33.65890923111345 L -109.28045150356483,33.65890781119532 L -109.28034946297963,33.65890639134301 L -109.28029758820637,33.65894835093589 L -109.28024571338278,33.658990310505125 L -109.28014366193038,33.658988890329866 L -109.28009178718914,33.65903084081574 L -109.28003991221814,33.659072800293316 L -109.27993786067942,33.659071379945104 L -109.27988598561136,33.65911333935466 L -109.27983411049296,33.65915529874058 L -109.27978393403303,33.659111918877876 L -109.27973375762343,33.65906853899612 L -109.27963170610617,33.65906711839533 L -109.27952965459608,33.65906569771034 L -109.27942760309311,33.659064276941166 L -109.27932555159731,33.659062856087786 L -109.27922350010867,33.659061435150214 L -109.27912144862718,33.65906001412846 L -109.27901939715287,33.6590585930225 L -109.27891734568568,33.65905717183235 L -109.27886547015011,33.65909913079813 L -109.27881359456423,33.659141089740274 L -109.27876171892801,33.65918304865875 L -109.27870984324146,33.6592250075536 L -109.27865966732774,33.65918162725128 L -109.27860949146437,33.65913824692988 L -109.2785593156513,33.659094866589385 L -109.27850913988856,33.659051486229814 L -109.27840708845717,33.6590500646187 L -109.27830503703295,33.65904864292338 L -109.27825486142835,33.6590052624651 L -109.2782046964753,33.658961891153275 L -109.27810264516604,33.65896046929415 L -109.27800059386394,33.65895904735083 L -109.27789854256899,33.6589576253233 L -109.27779649128121,33.658956203211595 L -109.27769444000059,33.658954781015694 L -109.27759238872713,33.658953358735594 L -109.27754051281747,33.658995308112026 L -109.27748863667777,33.659037266480155 L -109.27738658531798,33.659035844027095 L -109.27728453396539,33.65903442148986 L -109.27718248261993,33.65903299886842 L -109.27708043128166,33.65903157616278 L -109.27697837995055,33.65903015337296 L -109.27687632862659,33.65902873049894 L -109.2767742773098,33.65902730754072 L -109.27667222600019,33.65902588449832 L -109.27662034943623,33.65906784248775 L -109.27656847282192,33.65910980045353 L -109.27651659615731,33.65915175839566 L -109.27646471944236,33.65919371631416 L -109.27641284267708,33.65923567420899 L -109.27636096586147,33.65927763208018 L -109.27630908899555,33.659319589927726 L -109.27625721207929,33.65936154775163 L -109.2762053351127,33.65940350555187 L -109.2761534580958,33.65944546332849 L -109.27610159180944,33.65948742123184 L -109.27604971469188,33.65952937896115 L -109.27599783752399,33.659571336666815 L -109.27594596030578,33.65961329434883 L -109.27589408303723,33.6596552520072 L -109.27584220571835,33.65969720964192 L -109.27579032834915,33.659739167253 L -109.27573845092962,33.65978112484043 L -109.27568657345977,33.659823082404195 L -109.27563469593957,33.65986503994433 L -109.27553264370226,33.65986361593009 L -109.27543059147212,33.65986219183165 L -109.27532853924913,33.65986076764902 L -109.27522648703334,33.659859343382195 L -109.27512443482472,33.65985791903116 L -109.27507255702048,33.659899876325724 L -109.27502067916592,33.659941833596626 L -109.27496880126104,33.6599837908439 L -109.27491692330582,33.660025748067504 L -109.27481487091741,33.66002432345475 L -109.2747629928651,33.66006628061032 L -109.27476128913821,33.66015161959645 L -109.27475958540413,33.6602369585813 L -109.27470770719368,33.6602789157074 L -109.2746558289329,33.66032087280985 L -109.2746039506218,33.66036282988863 L -109.27455207226036,33.66040478694379 L -109.2745001938486,33.660446743975285 L -109.27439814098558,33.66044531900286 L -109.27434626247674,33.66048727596632 L -109.27429438391758,33.66052923290614 L -109.27419233096825,33.66052780776075 L -109.27414045231201,33.66056976463251 L -109.27408857360544,33.660611721480635 L -109.27398652056982,33.66061029616228 L -109.27388447832237,33.66060887091031 L -109.273832599472,33.66065082764601 L -109.27378072075138,33.66069277534273 L -109.27367866763663,33.66069134976721 L -109.27362678863886,33.66073330641123 L -109.27357490959076,33.66077526303157 L -109.27352303049231,33.66081721962828 L -109.27347115134356,33.66085917620134 z\" /><path fill-rule=\"evenodd\" fill=\"#66cc99\" stroke=\"#555555\" stroke-width=\"0.00036278385424736825\" opacity=\"0.6\" d=\"M -109.2886679894428,33.656375618268626 L -109.28861780993796,33.656332241886524 L -109.28866967919942,33.65629027860693 L -109.28871985870782,33.65633365496829 L -109.2886679894428,33.656375618268626 z\" /></g></g></svg>"
      ],
      "text/plain": [
       "<shapely.geometry.multipolygon.MultiPolygon at 0x7f6f966c20d0>"
      ]
     },
     "execution_count": 170,
     "metadata": {},
     "output_type": "execute_result"
    }
   ],
   "source": [
    "out[-1][5]"
   ]
  },
  {
   "cell_type": "code",
   "execution_count": 171,
   "id": "2235891a-9a49-483c-bb14-e8a1afba5a27",
   "metadata": {},
   "outputs": [
    {
     "data": {
      "text/plain": [
       "0.3356328032688056"
      ]
     },
     "execution_count": 171,
     "metadata": {},
     "output_type": "execute_result"
    }
   ],
   "source": [
    "float(out[0][3])"
   ]
  },
  {
   "cell_type": "markdown",
   "id": "76c15e2a-93d7-46a0-b9ad-086bba19038c",
   "metadata": {},
   "source": [
    "Checking for error in vegetation type:"
   ]
  },
  {
   "cell_type": "code",
   "execution_count": 172,
   "id": "8d6f6d62-7445-4f59-b77c-3848695e3c80",
   "metadata": {
    "tags": []
   },
   "outputs": [
    {
     "data": {
      "text/plain": [
       "[]"
      ]
     },
     "execution_count": 172,
     "metadata": {},
     "output_type": "execute_result"
    }
   ],
   "source": [
    "[out[n][0] for n in range(len(out)) if out[n][2]=='ER']"
   ]
  },
  {
   "cell_type": "markdown",
   "id": "2a0c021f-2b93-47ed-87ca-28c23c4a8910",
   "metadata": {},
   "source": [
    "Save raw dask output to pickle:"
   ]
  },
  {
   "cell_type": "code",
   "execution_count": 185,
   "id": "9b5a91c4-1ae3-4c1c-bc90-586f103e6980",
   "metadata": {},
   "outputs": [],
   "source": [
    "pickle.dump(out, open(\"dask_output_v3.pkl\",\"wb\"), protocol=0)"
   ]
  },
  {
   "cell_type": "code",
   "execution_count": 186,
   "id": "13e91b8b-1484-475b-b662-7e241e26f396",
   "metadata": {},
   "outputs": [],
   "source": [
    "from shapely.ops import unary_union"
   ]
  },
  {
   "cell_type": "markdown",
   "id": "02b87bc0",
   "metadata": {},
   "source": [
    "Convert output given in list form to pandas dataframe"
   ]
  },
  {
   "cell_type": "code",
   "execution_count": 187,
   "id": "9a1039f5",
   "metadata": {
    "tags": []
   },
   "outputs": [
    {
     "data": {
      "text/html": [
       "<div>\n",
       "<style scoped>\n",
       "    .dataframe tbody tr th:only-of-type {\n",
       "        vertical-align: middle;\n",
       "    }\n",
       "\n",
       "    .dataframe tbody tr th {\n",
       "        vertical-align: top;\n",
       "    }\n",
       "\n",
       "    .dataframe thead th {\n",
       "        text-align: right;\n",
       "    }\n",
       "</style>\n",
       "<table border=\"1\" class=\"dataframe\">\n",
       "  <thead>\n",
       "    <tr style=\"text-align: right;\">\n",
       "      <th></th>\n",
       "      <th>NB</th>\n",
       "      <th>GR</th>\n",
       "      <th>GS</th>\n",
       "      <th>SH</th>\n",
       "      <th>TU</th>\n",
       "      <th>TL</th>\n",
       "      <th>dom</th>\n",
       "      <th>newarea</th>\n",
       "      <th>snapdist</th>\n",
       "      <th>geometry</th>\n",
       "      <th>Fine fuel load</th>\n",
       "      <th>SAV</th>\n",
       "      <th>Packing ratio</th>\n",
       "      <th>Extinction moisture content</th>\n",
       "    </tr>\n",
       "    <tr>\n",
       "      <th>SiteID</th>\n",
       "      <th></th>\n",
       "      <th></th>\n",
       "      <th></th>\n",
       "      <th></th>\n",
       "      <th></th>\n",
       "      <th></th>\n",
       "      <th></th>\n",
       "      <th></th>\n",
       "      <th></th>\n",
       "      <th></th>\n",
       "      <th></th>\n",
       "      <th></th>\n",
       "      <th></th>\n",
       "      <th></th>\n",
       "    </tr>\n",
       "  </thead>\n",
       "  <tbody>\n",
       "    <tr>\n",
       "      <th>714</th>\n",
       "      <td>0.0</td>\n",
       "      <td>0.177774</td>\n",
       "      <td>0.041012</td>\n",
       "      <td>0.009879</td>\n",
       "      <td>0.156307</td>\n",
       "      <td>0.615027</td>\n",
       "      <td>TL3</td>\n",
       "      <td>1.678057</td>\n",
       "      <td>5.732975</td>\n",
       "      <td>POLYGON ((-109.26120 33.65589, -109.26115 33.6...</td>\n",
       "      <td>0.98505</td>\n",
       "      <td>1616.534444</td>\n",
       "      <td>0.01807</td>\n",
       "      <td>19.422728</td>\n",
       "    </tr>\n",
       "    <tr>\n",
       "      <th>715</th>\n",
       "      <td>0.0</td>\n",
       "      <td>0.028949</td>\n",
       "      <td>0.465287</td>\n",
       "      <td>0.085931</td>\n",
       "      <td>0.090254</td>\n",
       "      <td>0.329578</td>\n",
       "      <td>GS1</td>\n",
       "      <td>0.684039</td>\n",
       "      <td>5.360731</td>\n",
       "      <td>POLYGON ((-109.27347 33.66086, -109.27337 33.6...</td>\n",
       "      <td>1.831648</td>\n",
       "      <td>1709.367304</td>\n",
       "      <td>0.012261</td>\n",
       "      <td>18.278098</td>\n",
       "    </tr>\n",
       "  </tbody>\n",
       "</table>\n",
       "</div>"
      ],
      "text/plain": [
       "         NB        GR        GS        SH        TU        TL  dom   newarea  \\\n",
       "SiteID                                                                         \n",
       "714     0.0  0.177774  0.041012  0.009879  0.156307  0.615027  TL3  1.678057   \n",
       "715     0.0  0.028949  0.465287  0.085931  0.090254  0.329578  GS1  0.684039   \n",
       "\n",
       "        snapdist                                           geometry  \\\n",
       "SiteID                                                                \n",
       "714     5.732975  POLYGON ((-109.26120 33.65589, -109.26115 33.6...   \n",
       "715     5.360731  POLYGON ((-109.27347 33.66086, -109.27337 33.6...   \n",
       "\n",
       "       Fine fuel load          SAV Packing ratio Extinction moisture content  \n",
       "SiteID                                                                        \n",
       "714           0.98505  1616.534444       0.01807                   19.422728  \n",
       "715          1.831648  1709.367304      0.012261                   18.278098  "
      ]
     },
     "execution_count": 187,
     "metadata": {},
     "output_type": "execute_result"
    }
   ],
   "source": [
    "def out2df(out):\n",
    "    \n",
    "    allcats=[\"NB\",\"GR\",\"GS\",\"SH\",\"TU\",\"TL\"]\n",
    "    fuelcats=[\"Fine fuel load\", \"SAV\", \"Packing ratio\", \"Extinction moisture content\"]\n",
    "    odf=gpd.GeoDataFrame(index=SiteIDs, columns=allcats + ['dom', 'newarea', 'snapdist','geometry'] + fuelcats)\n",
    "    \n",
    "    for n,ot in enumerate(out):\n",
    "        idx=ot[0]\n",
    "        for key in allcats:\n",
    "            if key in ot[1].keys():\n",
    "                odf.loc[idx,key] = ot[1][key]\n",
    "            else:\n",
    "                odf.loc[idx,key] = 0.\n",
    "        odf.loc[idx,'dom'] = ot[2]\n",
    "        odf.loc[idx,'newarea'] = float(ot[3])\n",
    "        odf.loc[idx,'snapdist'] = float(ot[4])\n",
    "        try:\n",
    "            gidx=np.argmax([geom.area for geom in ot[5].geoms])\n",
    "            odf.loc[idx,'geometry'] = ot[5].geoms[gidx]\n",
    "        except:\n",
    "            print(\"skipping entry %d\" % n)\n",
    "\n",
    "            \n",
    "        for fc in fuelcats:\n",
    "            odf.loc[idx,fc] = ot[6][fc]\n",
    "\n",
    "    return odf\n",
    "\n",
    "catsbysite=out2df(out)\n",
    "catsbysite.tail(n=2)"
   ]
  },
  {
   "cell_type": "code",
   "execution_count": 189,
   "id": "9b67d60f-8353-4cb9-bb6e-852606a79c0b",
   "metadata": {
    "tags": []
   },
   "outputs": [
    {
     "data": {
      "text/html": [
       "<div>\n",
       "<style scoped>\n",
       "    .dataframe tbody tr th:only-of-type {\n",
       "        vertical-align: middle;\n",
       "    }\n",
       "\n",
       "    .dataframe tbody tr th {\n",
       "        vertical-align: top;\n",
       "    }\n",
       "\n",
       "    .dataframe thead th {\n",
       "        text-align: right;\n",
       "    }\n",
       "</style>\n",
       "<table border=\"1\" class=\"dataframe\">\n",
       "  <thead>\n",
       "    <tr style=\"text-align: right;\">\n",
       "      <th></th>\n",
       "      <th>NB</th>\n",
       "      <th>GR</th>\n",
       "      <th>GS</th>\n",
       "      <th>SH</th>\n",
       "      <th>TU</th>\n",
       "      <th>TL</th>\n",
       "      <th>dom</th>\n",
       "      <th>newarea</th>\n",
       "      <th>snapdist</th>\n",
       "      <th>geometry</th>\n",
       "      <th>Fine fuel load</th>\n",
       "      <th>SAV</th>\n",
       "      <th>Packing ratio</th>\n",
       "      <th>Extinction moisture content</th>\n",
       "    </tr>\n",
       "    <tr>\n",
       "      <th>SiteID</th>\n",
       "      <th></th>\n",
       "      <th></th>\n",
       "      <th></th>\n",
       "      <th></th>\n",
       "      <th></th>\n",
       "      <th></th>\n",
       "      <th></th>\n",
       "      <th></th>\n",
       "      <th></th>\n",
       "      <th></th>\n",
       "      <th></th>\n",
       "      <th></th>\n",
       "      <th></th>\n",
       "      <th></th>\n",
       "    </tr>\n",
       "  </thead>\n",
       "  <tbody>\n",
       "  </tbody>\n",
       "</table>\n",
       "</div>"
      ],
      "text/plain": [
       "Empty GeoDataFrame\n",
       "Columns: [NB, GR, GS, SH, TU, TL, dom, newarea, snapdist, geometry, Fine fuel load, SAV, Packing ratio, Extinction moisture content]\n",
       "Index: []"
      ]
     },
     "execution_count": 189,
     "metadata": {},
     "output_type": "execute_result"
    }
   ],
   "source": [
    "catsbysite[catsbysite[\"geometry\"] == None]"
   ]
  },
  {
   "cell_type": "code",
   "execution_count": 193,
   "id": "931ee0b3-6b8b-41b8-8fa7-b23d27d617d2",
   "metadata": {},
   "outputs": [
    {
     "name": "stderr",
     "output_type": "stream",
     "text": [
      "/tmp/ipykernel_6908/1322835389.py:1: UserWarning: this is an initial implementation of Parquet/Feather file support and associated metadata.  This is tracking version 0.1.0 of the metadata specification at https://github.com/geopandas/geo-arrow-spec\n",
      "\n",
      "This metadata specification does not yet make stability promises.  We do not yet recommend using this in a production setting unless you are able to rewrite your Parquet/Feather files.\n",
      "\n",
      "To further ignore this warning, you can do: \n",
      "import warnings; warnings.filterwarnings('ignore', message='.*initial implementation of Parquet.*')\n",
      "  catsbysite.to_parquet(\"staley16_sites_catchment_fuelpars_v3.parquet\")\n"
     ]
    }
   ],
   "source": [
    "catsbysite.to_parquet(\"staley16_sites_catchment_fuelpars_v3.parquet\")"
   ]
  },
  {
   "cell_type": "markdown",
   "id": "1e4e8b30-f6b0-48a0-9182-78b8bc166d4b",
   "metadata": {},
   "source": [
    "Join this dataframe with the original dataframe with site parameters:"
   ]
  },
  {
   "cell_type": "code",
   "execution_count": 192,
   "id": "3d4e168b",
   "metadata": {},
   "outputs": [],
   "source": [
    "modelDataIF=modelDataI.join(catsbysite, on='SiteID')"
   ]
  },
  {
   "cell_type": "code",
   "execution_count": 194,
   "id": "a0864d87",
   "metadata": {},
   "outputs": [
    {
     "name": "stderr",
     "output_type": "stream",
     "text": [
      "/tmp/ipykernel_6908/1014665245.py:1: UserWarning: this is an initial implementation of Parquet/Feather file support and associated metadata.  This is tracking version 0.1.0 of the metadata specification at https://github.com/geopandas/geo-arrow-spec\n",
      "\n",
      "This metadata specification does not yet make stability promises.  We do not yet recommend using this in a production setting unless you are able to rewrite your Parquet/Feather files.\n",
      "\n",
      "To further ignore this warning, you can do: \n",
      "import warnings; warnings.filterwarnings('ignore', message='.*initial implementation of Parquet.*')\n",
      "  modelDataIF.to_parquet(\"staley16_observations_catchment_fuelpars_v3.parquet\")\n"
     ]
    }
   ],
   "source": [
    "modelDataIF.to_parquet(\"staley16_observations_catchment_fuelpars_v3.parquet\")"
   ]
  }
 ],
 "metadata": {
  "kernelspec": {
   "display_name": "Python 3 (ipykernel)",
   "language": "python",
   "name": "python3"
  },
  "language_info": {
   "codemirror_mode": {
    "name": "ipython",
    "version": 3
   },
   "file_extension": ".py",
   "mimetype": "text/x-python",
   "name": "python",
   "nbconvert_exporter": "python",
   "pygments_lexer": "ipython3",
   "version": "3.9.12"
  }
 },
 "nbformat": 4,
 "nbformat_minor": 5
}
