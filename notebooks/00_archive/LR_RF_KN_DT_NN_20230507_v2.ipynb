{
 "cells": [
  {
   "cell_type": "markdown",
   "id": "33ed39db-8181-4200-ae07-a6f747e4688e",
   "metadata": {},
   "source": [
    "# AUC of LR, RF, KN, DT, NN using old features versus using new features\n",
    "\n",
    "- Alejandro Hohmann\n",
    "- Bhanu Muvva\n",
    "- Chunxia Tong\n",
    "\n",
    "The purpose of this notebook is to train new models with new features."
   ]
  },
  {
   "cell_type": "markdown",
   "id": "09d71031-e34e-461d-9504-0d1076b661ae",
   "metadata": {},
   "source": [
    "## Suggested changes:\n",
    "\n",
    "- Do train-test split on SiteID, not observations.  That is, all observations made at the same site go either in the train or test dataset.  This helps the classifier figure out the decision boundary for rainfall (observations made a the the same site, with same slope and KF, but different precipitation and different response).\n",
    "- Use less features. I have tested the logistic regression with the features in `use_feats`.  This improves the scores.\n",
    "- In order to plot the ROC curve, predict the debris flow probability (using `predict_proba`), not a boolean.  The ROC can only be computed from probabilities."
   ]
  },
  {
   "cell_type": "code",
   "execution_count": 1,
   "id": "15358735-9b19-47a7-927d-7673481319b1",
   "metadata": {
    "tags": []
   },
   "outputs": [],
   "source": [
    "# %pip install openpyxl==3.1.2"
   ]
  },
  {
   "cell_type": "code",
   "execution_count": 2,
   "id": "9fa1bdb9-8f8d-427a-a0a0-cd219051aa48",
   "metadata": {
    "tags": []
   },
   "outputs": [],
   "source": [
    "# %pip install torch==1.13.1"
   ]
  },
  {
   "cell_type": "code",
   "execution_count": 1,
   "id": "70ca1e17",
   "metadata": {},
   "outputs": [],
   "source": [
    "# assign seed now for consistency any time it needs to be used\n",
    "seed=27"
   ]
  },
  {
   "cell_type": "code",
   "execution_count": 3,
   "id": "2600c294-8757-4337-bb33-082c50c274d5",
   "metadata": {
    "tags": []
   },
   "outputs": [],
   "source": [
    "# file structure libraries\n",
    "import numpy as np\n",
    "import pandas as pd\n",
    "import geopandas as gpd\n",
    "import os\n",
    "\n",
    "# # visualization libraries\n",
    "from matplotlib import pyplot as plt\n",
    "# plt.style.use('bmh')\n",
    "plt.style.use('dark_background')\n",
    "# plt.style.use('fivethirtyeight')\n",
    "# Have plots display in notebook\n",
    "%matplotlib inline\n",
    "# import seaborn as sns\n",
    "\n",
    "# # ML libraries\n",
    "# from sklearn.preprocessing import StandardScaler\n",
    "# from sklearn.linear_model import LogisticRegression\n",
    "from sklearn.model_selection import train_test_split\n",
    "from sklearn.metrics import f1_score, roc_auc_score, RocCurveDisplay#, roc_curve\n",
    "# from sklearn.metrics import confusion_matrix\n",
    "from sklearn.preprocessing import StandardScaler\n",
    "\n",
    "# # for sigmoid function, in case we need to manually implement in LR\n",
    "# from scipy.stats import logistic\n",
    "\n",
    "#import torch\n",
    "#import torch.nn as nn\n",
    "#import torch.optim as optim"
   ]
  },
  {
   "cell_type": "code",
   "execution_count": 4,
   "id": "366d96a0-13c2-4510-8888-bc9c60e1523c",
   "metadata": {},
   "outputs": [],
   "source": [
    "from sklearn.neighbors import KNeighborsClassifier, DistanceMetric\n",
    "from sklearn.metrics import accuracy_score, f1_score, jaccard_score, roc_auc_score\n",
    "from sklearn.model_selection import train_test_split\n",
    "from sklearn.tree import DecisionTreeClassifier, export_graphviz\n",
    "from sklearn.linear_model import LogisticRegression\n",
    "from sklearn.ensemble import RandomForestClassifier\n",
    "from sklearn.neighbors import KNeighborsClassifier, DistanceMetric\n",
    "from sklearn.neural_network import MLPClassifier\n",
    "\n",
    "from sklearn.metrics import accuracy_score, roc_curve, auc"
   ]
  },
  {
   "cell_type": "code",
   "execution_count": 6,
   "id": "4c4cc830-d502-4eed-a23c-6fe64dba9ac2",
   "metadata": {
    "tags": []
   },
   "outputs": [],
   "source": [
    "#torch.cuda.is_available()"
   ]
  },
  {
   "cell_type": "code",
   "execution_count": 8,
   "id": "17e44f2b-13b5-4dd7-869d-833160272afc",
   "metadata": {
    "tags": []
   },
   "outputs": [],
   "source": [
    "#torch.cuda.device_count()"
   ]
  },
  {
   "cell_type": "code",
   "execution_count": 10,
   "id": "0e7cae7e-39ae-405d-88a1-e876e117750d",
   "metadata": {
    "tags": []
   },
   "outputs": [],
   "source": [
    "#torch.device('cuda')"
   ]
  },
  {
   "cell_type": "markdown",
   "id": "656e8b35-1e91-49ad-90f1-580da98957bd",
   "metadata": {},
   "source": [
    "## Read in and Examine Staley Raw Data <a id=\"EDA\">"
   ]
  },
  {
   "cell_type": "markdown",
   "id": "321e4d7a-2fed-475b-9a8c-4bc072f5077e",
   "metadata": {},
   "source": [
    "## Explore by Data Types\n",
    "- aggregate peak rainfall feature to three different time amounts\n",
    "    - 15 min\n",
    "    - 30 min\n",
    "    - 60 min"
   ]
  },
  {
   "cell_type": "markdown",
   "id": "b485c145-430c-4fd6-8259-4557883eb558",
   "metadata": {},
   "source": [
    "### Data with old features"
   ]
  },
  {
   "cell_type": "code",
   "execution_count": 11,
   "id": "b3b868fd-d06b-445a-a87c-11c14c3e58b4",
   "metadata": {},
   "outputs": [],
   "source": [
    "pd.set_option(\"max_colwidth\", None)"
   ]
  },
  {
   "cell_type": "code",
   "execution_count": 13,
   "id": "584be827-7b59-4b7d-a43d-b09fcc0aefc9",
   "metadata": {},
   "outputs": [],
   "source": [
    "xl=pd.ExcelFile(\"ofr20161106_appx-1.xlsx\")\n",
    "desc=xl.parse(xl.sheet_names[0])\n",
    "modelData=xl.parse(xl.sheet_names[1])"
   ]
  },
  {
   "cell_type": "code",
   "execution_count": 62,
   "id": "ceaf3195-c774-477a-bfd5-1cb22ddd8895",
   "metadata": {},
   "outputs": [],
   "source": [
    "usecols=[\"Acc015_mm\",\n",
    "         \"PropHM23\",\n",
    "         \"dNBR/1000\",\n",
    "         \"KF\",\n",
    "         \"Response\",\n",
    "         \"Database\"]\n",
    "\n",
    "usecols = usecols + [\"Database\"]"
   ]
  },
  {
   "cell_type": "code",
   "execution_count": 15,
   "id": "c719ff66-3d96-4d4e-aac2-6732139c0272",
   "metadata": {},
   "outputs": [
    {
     "data": {
      "text/plain": [
       "1243"
      ]
     },
     "execution_count": 15,
     "metadata": {},
     "output_type": "execute_result"
    }
   ],
   "source": [
    "cdata=modelData[usecols].copy()\n",
    "cdata=cdata.dropna()\n",
    "len(cdata)\n"
   ]
  },
  {
   "cell_type": "code",
   "execution_count": 16,
   "id": "9e9a705a-082a-4239-b6e3-97add7664f52",
   "metadata": {},
   "outputs": [
    {
     "data": {
      "text/plain": [
       "(1243, 6)"
      ]
     },
     "execution_count": 16,
     "metadata": {},
     "output_type": "execute_result"
    }
   ],
   "source": [
    "cdata.shape"
   ]
  },
  {
   "cell_type": "code",
   "execution_count": 63,
   "id": "ed87894b-6c0e-47db-8ddb-1be004496dc7",
   "metadata": {},
   "outputs": [],
   "source": [
    "#computing input data just as in Staley'16\n",
    "\n",
    "cdata[\"PropHM23_x_i15\"] = cdata[\"PropHM23\"] * cdata[\"Acc015_mm\"]\n",
    "cdata[\"dNBR_x_i15\"] = cdata[\"dNBR/1000\"] * cdata[\"Acc015_mm\"]\n",
    "cdata[\"KF_x_i15\"] = cdata[\"KF\"] * cdata[\"Acc015_mm\"]"
   ]
  },
  {
   "cell_type": "code",
   "execution_count": 69,
   "id": "4931fdb4-96f0-4522-9db6-fce171696feb",
   "metadata": {},
   "outputs": [],
   "source": [
    "usecols2=[\"PropHM23_x_i15\",\"dNBR_x_i15\", \"KF_x_i15\"]"
   ]
  },
  {
   "cell_type": "code",
   "execution_count": 66,
   "id": "52d114ba-7fdb-4f4c-94c2-4a3bf625e764",
   "metadata": {},
   "outputs": [
    {
     "data": {
      "text/html": [
       "<div>\n",
       "<style scoped>\n",
       "    .dataframe tbody tr th:only-of-type {\n",
       "        vertical-align: middle;\n",
       "    }\n",
       "\n",
       "    .dataframe tbody tr th {\n",
       "        vertical-align: top;\n",
       "    }\n",
       "\n",
       "    .dataframe thead th {\n",
       "        text-align: right;\n",
       "    }\n",
       "</style>\n",
       "<table border=\"1\" class=\"dataframe\">\n",
       "  <thead>\n",
       "    <tr style=\"text-align: right;\">\n",
       "      <th></th>\n",
       "      <th>Acc015_mm</th>\n",
       "      <th>PropHM23</th>\n",
       "      <th>dNBR/1000</th>\n",
       "      <th>KF</th>\n",
       "      <th>Response</th>\n",
       "      <th>Database</th>\n",
       "      <th>PropHM23_x_i15</th>\n",
       "      <th>dNBR_x_i15</th>\n",
       "      <th>KF_x_i15</th>\n",
       "    </tr>\n",
       "  </thead>\n",
       "  <tbody>\n",
       "    <tr>\n",
       "      <th>0</th>\n",
       "      <td>0.80</td>\n",
       "      <td>0.217933</td>\n",
       "      <td>0.297853</td>\n",
       "      <td>0.250000</td>\n",
       "      <td>0</td>\n",
       "      <td>Training</td>\n",
       "      <td>0.174346</td>\n",
       "      <td>0.238282</td>\n",
       "      <td>0.200000</td>\n",
       "    </tr>\n",
       "    <tr>\n",
       "      <th>1</th>\n",
       "      <td>0.80</td>\n",
       "      <td>0.061249</td>\n",
       "      <td>0.224896</td>\n",
       "      <td>0.250000</td>\n",
       "      <td>0</td>\n",
       "      <td>Training</td>\n",
       "      <td>0.048999</td>\n",
       "      <td>0.179916</td>\n",
       "      <td>0.200000</td>\n",
       "    </tr>\n",
       "    <tr>\n",
       "      <th>2</th>\n",
       "      <td>0.80</td>\n",
       "      <td>0.042968</td>\n",
       "      <td>0.065537</td>\n",
       "      <td>0.248541</td>\n",
       "      <td>0</td>\n",
       "      <td>Training</td>\n",
       "      <td>0.034374</td>\n",
       "      <td>0.052430</td>\n",
       "      <td>0.198832</td>\n",
       "    </tr>\n",
       "    <tr>\n",
       "      <th>3</th>\n",
       "      <td>0.40</td>\n",
       "      <td>0.092164</td>\n",
       "      <td>0.141711</td>\n",
       "      <td>0.250000</td>\n",
       "      <td>0</td>\n",
       "      <td>Training</td>\n",
       "      <td>0.036866</td>\n",
       "      <td>0.056684</td>\n",
       "      <td>0.100000</td>\n",
       "    </tr>\n",
       "    <tr>\n",
       "      <th>4</th>\n",
       "      <td>0.40</td>\n",
       "      <td>0.058353</td>\n",
       "      <td>0.210158</td>\n",
       "      <td>0.250000</td>\n",
       "      <td>0</td>\n",
       "      <td>Training</td>\n",
       "      <td>0.023341</td>\n",
       "      <td>0.084063</td>\n",
       "      <td>0.100000</td>\n",
       "    </tr>\n",
       "    <tr>\n",
       "      <th>...</th>\n",
       "      <td>...</td>\n",
       "      <td>...</td>\n",
       "      <td>...</td>\n",
       "      <td>...</td>\n",
       "      <td>...</td>\n",
       "      <td>...</td>\n",
       "      <td>...</td>\n",
       "      <td>...</td>\n",
       "      <td>...</td>\n",
       "    </tr>\n",
       "    <tr>\n",
       "      <th>1545</th>\n",
       "      <td>3.50</td>\n",
       "      <td>0.009801</td>\n",
       "      <td>0.187053</td>\n",
       "      <td>0.000000</td>\n",
       "      <td>0</td>\n",
       "      <td>Test</td>\n",
       "      <td>0.034302</td>\n",
       "      <td>0.654684</td>\n",
       "      <td>0.000000</td>\n",
       "    </tr>\n",
       "    <tr>\n",
       "      <th>1546</th>\n",
       "      <td>15.75</td>\n",
       "      <td>0.001571</td>\n",
       "      <td>0.500223</td>\n",
       "      <td>0.000000</td>\n",
       "      <td>0</td>\n",
       "      <td>Test</td>\n",
       "      <td>0.024740</td>\n",
       "      <td>7.878512</td>\n",
       "      <td>0.000000</td>\n",
       "    </tr>\n",
       "    <tr>\n",
       "      <th>1547</th>\n",
       "      <td>7.25</td>\n",
       "      <td>0.001571</td>\n",
       "      <td>0.500223</td>\n",
       "      <td>0.000000</td>\n",
       "      <td>0</td>\n",
       "      <td>Test</td>\n",
       "      <td>0.011388</td>\n",
       "      <td>3.626616</td>\n",
       "      <td>0.000000</td>\n",
       "    </tr>\n",
       "    <tr>\n",
       "      <th>1548</th>\n",
       "      <td>6.25</td>\n",
       "      <td>0.001571</td>\n",
       "      <td>0.500223</td>\n",
       "      <td>0.000000</td>\n",
       "      <td>0</td>\n",
       "      <td>Test</td>\n",
       "      <td>0.009817</td>\n",
       "      <td>3.126394</td>\n",
       "      <td>0.000000</td>\n",
       "    </tr>\n",
       "    <tr>\n",
       "      <th>1549</th>\n",
       "      <td>3.50</td>\n",
       "      <td>0.001571</td>\n",
       "      <td>0.500223</td>\n",
       "      <td>0.000000</td>\n",
       "      <td>0</td>\n",
       "      <td>Test</td>\n",
       "      <td>0.005498</td>\n",
       "      <td>1.750780</td>\n",
       "      <td>0.000000</td>\n",
       "    </tr>\n",
       "  </tbody>\n",
       "</table>\n",
       "<p>1243 rows × 9 columns</p>\n",
       "</div>"
      ],
      "text/plain": [
       "      Acc015_mm  PropHM23  dNBR/1000        KF  Response  Database  \\\n",
       "0          0.80  0.217933   0.297853  0.250000         0  Training   \n",
       "1          0.80  0.061249   0.224896  0.250000         0  Training   \n",
       "2          0.80  0.042968   0.065537  0.248541         0  Training   \n",
       "3          0.40  0.092164   0.141711  0.250000         0  Training   \n",
       "4          0.40  0.058353   0.210158  0.250000         0  Training   \n",
       "...         ...       ...        ...       ...       ...       ...   \n",
       "1545       3.50  0.009801   0.187053  0.000000         0      Test   \n",
       "1546      15.75  0.001571   0.500223  0.000000         0      Test   \n",
       "1547       7.25  0.001571   0.500223  0.000000         0      Test   \n",
       "1548       6.25  0.001571   0.500223  0.000000         0      Test   \n",
       "1549       3.50  0.001571   0.500223  0.000000         0      Test   \n",
       "\n",
       "      PropHM23_x_i15  dNBR_x_i15  KF_x_i15  \n",
       "0           0.174346    0.238282  0.200000  \n",
       "1           0.048999    0.179916  0.200000  \n",
       "2           0.034374    0.052430  0.198832  \n",
       "3           0.036866    0.056684  0.100000  \n",
       "4           0.023341    0.084063  0.100000  \n",
       "...              ...         ...       ...  \n",
       "1545        0.034302    0.654684  0.000000  \n",
       "1546        0.024740    7.878512  0.000000  \n",
       "1547        0.011388    3.626616  0.000000  \n",
       "1548        0.009817    3.126394  0.000000  \n",
       "1549        0.005498    1.750780  0.000000  \n",
       "\n",
       "[1243 rows x 9 columns]"
      ]
     },
     "execution_count": 66,
     "metadata": {},
     "output_type": "execute_result"
    }
   ],
   "source": [
    "cdata"
   ]
  },
  {
   "cell_type": "code",
   "execution_count": 67,
   "id": "870640fc-f7c1-4073-847d-d7c6495fb550",
   "metadata": {},
   "outputs": [],
   "source": [
    "# random split training and test data\n",
    "\n",
    "feat_data_1 = cdata[usecols2]\n",
    "target_data_1 = cdata[\"Response\"]\n",
    "\n",
    "X_train_1, X_test_1, y_train_1, y_test_1 = train_test_split(feat_data_1, \n",
    "                                                    target_data_1,\n",
    "                                                    test_size=.34, # corresponds to staley proportion\n",
    "                                                    random_state=seed\n",
    "                                                   )"
   ]
  },
  {
   "cell_type": "markdown",
   "id": "168de169-35a9-4a4b-9d59-bb4843798759",
   "metadata": {},
   "source": [
    "Reproducing Staley's train-test split:"
   ]
  },
  {
   "cell_type": "code",
   "execution_count": 81,
   "id": "9be3472e-1f35-41c7-812b-78d34459c074",
   "metadata": {},
   "outputs": [
    {
     "data": {
      "text/plain": [
       "((428, 3), (428,))"
      ]
     },
     "execution_count": 81,
     "metadata": {},
     "output_type": "execute_result"
    }
   ],
   "source": [
    "trainsites = cdata[\"Database\"] == \"Training\"\n",
    "X_train_1 = cdata.loc[trainsites,usecols2]\n",
    "y_train_1 = cdata.loc[trainsites,\"Response\"]\n",
    "\n",
    "testsites = cdata[\"Database\"] == \"Test\"\n",
    "X_test_1 = cdata.loc[testsites,usecols2]\n",
    "y_test_1 = cdata.loc[testsites,\"Response\"]\n",
    "\n",
    "X_test_1.shape, y_test_1.shape"
   ]
  },
  {
   "cell_type": "markdown",
   "id": "c883b31e-5292-467e-a1f1-e949a3cce8c8",
   "metadata": {},
   "source": [
    "### Data with new features"
   ]
  },
  {
   "cell_type": "code",
   "execution_count": 21,
   "id": "da7ac251-cf02-4cfa-9efe-309c41931776",
   "metadata": {
    "tags": []
   },
   "outputs": [
    {
     "name": "stdout",
     "output_type": "stream",
     "text": [
      "raw data - (1550, 44)\n",
      "after nulls removed - (1089, 44)\n"
     ]
    }
   ],
   "source": [
    "df = modelDataI=gpd.read_parquet(\"staley16_observations_catchment_fuelpars_rocktype_randn_v3.parquet\")\n",
    "print('raw data -',df.shape)\n",
    "\n",
    "df=df.dropna()\n",
    "print('after nulls removed -',df.shape)\n",
    "\n",
    "#store clean data to file, this will be used as input to model\n",
    "df.to_csv(\"ST16-observations-new-features-v3-na-omit.csv\", index=False)"
   ]
  },
  {
   "cell_type": "code",
   "execution_count": 22,
   "id": "c6812175-e80f-4228-b1b8-3b48047d68c1",
   "metadata": {
    "tags": []
   },
   "outputs": [],
   "source": [
    "# try with one peak* feature and acc* feature \n",
    "features = [\n",
    "    'peak_i15_mmh',\n",
    "    'peak_i30_mmh', \n",
    "    'peak_i60_mmh', \n",
    "    'contributingarea_km2', \n",
    "    'prophm23',\n",
    "    'dnbr1000', \n",
    "    'kf', \n",
    "    'acc015_mm', \n",
    "    'acc030_mm', \n",
    "    'acc060_mm', \n",
    "    'NB', \n",
    "    'GR', \n",
    "    'GS', \n",
    "    'SH', \n",
    "    'TU', \n",
    "    'TL', \n",
    "    'Fine fuel load', \n",
    "    'SAV', \n",
    "    'Packing ratio', \n",
    "    'Extinction moisture content',\n",
    "    'Igneous', \n",
    "    'Metamorphic', \n",
    "    'Sedimentary', \n",
    "    'Unconsolidated', \n",
    "    # 'dom', # need to encode\n",
    "    # 'domrt', # need to encode\n",
    "]\n",
    "\n",
    "features_15 = [\n",
    "    'peak_i15_mmh', \n",
    "    'contributingarea_km2', \n",
    "    'prophm23',\n",
    "    'dnbr1000', \n",
    "    'kf', \n",
    "    'acc015_mm', \n",
    "    'NB', \n",
    "    'GR', \n",
    "    'GS', \n",
    "    'SH', \n",
    "    'TU', \n",
    "    'TL',\n",
    "    'Fine fuel load', \n",
    "    'SAV', \n",
    "    'Packing ratio', \n",
    "    'Extinction moisture content',\n",
    "    'Igneous', \n",
    "    'Metamorphic', \n",
    "    'Sedimentary', \n",
    "    'Unconsolidated',\n",
    "    # 'dom', # need to encode\n",
    "    # 'domrt', # need to encode\n",
    "]\n",
    "\n",
    "features_30 = [\n",
    "    'peak_i30_mmh', \n",
    "    'contributingarea_km2', \n",
    "    'prophm23',\n",
    "    'dnbr1000', \n",
    "    'kf',\n",
    "    'acc030_mm', \n",
    "    'NB', \n",
    "    'GR', \n",
    "    'GS', \n",
    "    'SH', \n",
    "    'TU', \n",
    "    'TL', \n",
    "    'Fine fuel load', \n",
    "    'SAV', \n",
    "    'Packing ratio', \n",
    "    'Extinction moisture content',\n",
    "    'Igneous', \n",
    "    'Metamorphic', \n",
    "    'Sedimentary', \n",
    "    'Unconsolidated', \n",
    "    # 'dom', # need to encode\n",
    "    # 'domrt', # need to encode\n",
    "]\n",
    "\n",
    "features_60 = [\n",
    "    'peak_i60_mmh', \n",
    "    'contributingarea_km2', \n",
    "    'prophm23',\n",
    "    'dnbr1000', \n",
    "    'kf',\n",
    "    'acc060_mm', \n",
    "    'NB', \n",
    "    'GR', \n",
    "    'GS', \n",
    "    'SH', \n",
    "    'TU', \n",
    "    'TL', \n",
    "    'Fine fuel load', \n",
    "    'SAV', \n",
    "    'Packing ratio', \n",
    "    'Extinction moisture content',\n",
    "    'Igneous', \n",
    "    'Metamorphic', \n",
    "    'Sedimentary', \n",
    "    'Unconsolidated',\n",
    "    # 'dom', # need to encode\n",
    "    # 'domrt', # need to encode\n",
    "]\n",
    "\n",
    "\n",
    "y = df['response']"
   ]
  },
  {
   "cell_type": "code",
   "execution_count": 23,
   "id": "0a11e2d3-601d-4e34-a939-2ad860720c2d",
   "metadata": {},
   "outputs": [
    {
     "data": {
      "text/plain": [
       "(1089, 44)"
      ]
     },
     "execution_count": 23,
     "metadata": {},
     "output_type": "execute_result"
    }
   ],
   "source": [
    "df.shape"
   ]
  },
  {
   "cell_type": "code",
   "execution_count": 108,
   "id": "9944b0cf-e777-4023-ad7e-d908d0990dac",
   "metadata": {},
   "outputs": [
    {
     "data": {
      "text/plain": [
       "405     194\n",
       "1473    673\n",
       "Name: SiteID, dtype: int64"
      ]
     },
     "execution_count": 108,
     "metadata": {},
     "output_type": "execute_result"
    }
   ],
   "source": [
    "df[\"SiteID\"].sample(n=2)"
   ]
  },
  {
   "cell_type": "code",
   "execution_count": 89,
   "id": "8ad141c1-93e3-4758-aa7a-0747d639e5c9",
   "metadata": {},
   "outputs": [
    {
     "data": {
      "text/plain": [
       "(205, 397)"
      ]
     },
     "execution_count": 89,
     "metadata": {},
     "output_type": "execute_result"
    }
   ],
   "source": [
    "trainsites,testsites = train_test_split(df[\"SiteID\"].unique(), test_size=0.34)\n",
    "len(testsites), len(trainsites)"
   ]
  },
  {
   "cell_type": "code",
   "execution_count": 114,
   "id": "6572d0f0",
   "metadata": {},
   "outputs": [],
   "source": [
    "# random split training and test data\n",
    "\"\"\"\n",
    "feat_data_2 = df[features_15]\n",
    "target_data_2 = df['response']\n",
    "\n",
    "X_train_2, X_test_2, y_train_2, y_test_2 = train_test_split(feat_data_2, \n",
    "                                                    target_data_2,\n",
    "                                                    test_size=.34,     # corresponds to staley proportion\n",
    "                                                    random_state=seed\n",
    "                                                   )\n",
    "\"\"\";"
   ]
  },
  {
   "cell_type": "code",
   "execution_count": 109,
   "id": "76ba6302-1991-4312-963d-0fe63074b0a9",
   "metadata": {},
   "outputs": [],
   "source": [
    "use_feats = [\n",
    "    \"stormdur_h\",\n",
    "    \"stormaccum_mm\",\n",
    "    \"peak_i15_mmh\",\n",
    "    \"contributingarea_km2\",\n",
    "    \"prophm23\",\n",
    "    \"dnbr1000\",\n",
    "    \"kf\"]"
   ]
  },
  {
   "cell_type": "code",
   "execution_count": 110,
   "id": "df3767e0-4cb8-406e-aa61-dd10aa62d8c6",
   "metadata": {},
   "outputs": [],
   "source": [
    "trainsel = df[\"SiteID\"].apply(lambda x: x in trainsites)\n",
    "X_train_2 = df.loc[trainsel,use_feats]\n",
    "y_train_2 = df.loc[trainsel,\"response\"]\n",
    "\n",
    "testsel = df[\"SiteID\"].apply(lambda x: x in testsites)\n",
    "X_test_2 = df.loc[testsel,use_feats]\n",
    "y_test_2 = df.loc[testsel,\"response\"]"
   ]
  },
  {
   "cell_type": "markdown",
   "id": "a364da95-f3f7-479c-bec5-295015ee2fd6",
   "metadata": {},
   "source": [
    "### score"
   ]
  },
  {
   "cell_type": "code",
   "execution_count": 102,
   "id": "17c27cc6",
   "metadata": {},
   "outputs": [],
   "source": [
    "def get_scores(trues, preds):\n",
    "    scores=[func(trues, np.round(preds[:,1])) for func in [accuracy_score, jaccard_score, f1_score, roc_auc_score]]\n",
    "    return scores\n",
    "\n",
    "def get_scoredf(TrTr, TrPr, TeTr, TePr):\n",
    "    train_scores=get_scores(TrTr, TrPr)\n",
    "    test_scores=get_scores(TeTr, TePr)\n",
    "    \n",
    "    scoredf=pd.DataFrame({\"Training\": train_scores, \"Test\": test_scores}, index=[\"Accurary\", \"Jaccard\", \"F1\", \"AUC\"])\n",
    "    return scoredf"
   ]
  },
  {
   "cell_type": "markdown",
   "id": "4792673d-8ca7-49fe-9b39-8f593591bb5e",
   "metadata": {},
   "source": [
    "### 1. Logistic Regression"
   ]
  },
  {
   "cell_type": "markdown",
   "id": "141f2085-861f-4980-9715-4edea9f33431",
   "metadata": {},
   "source": [
    "#### Old features"
   ]
  },
  {
   "cell_type": "code",
   "execution_count": 94,
   "id": "6ca2f7ac-8b4f-43ed-bef6-384438438049",
   "metadata": {},
   "outputs": [],
   "source": [
    "#LogisticRegression?"
   ]
  },
  {
   "cell_type": "code",
   "execution_count": 95,
   "id": "5f8d9006-6d22-4ca7-b2c2-9eb1bb128e2c",
   "metadata": {},
   "outputs": [],
   "source": [
    "#X_train_1, y_train_1"
   ]
  },
  {
   "cell_type": "code",
   "execution_count": 111,
   "id": "1803c193",
   "metadata": {},
   "outputs": [
    {
     "data": {
      "text/html": [
       "<div>\n",
       "<style scoped>\n",
       "    .dataframe tbody tr th:only-of-type {\n",
       "        vertical-align: middle;\n",
       "    }\n",
       "\n",
       "    .dataframe tbody tr th {\n",
       "        vertical-align: top;\n",
       "    }\n",
       "\n",
       "    .dataframe thead th {\n",
       "        text-align: right;\n",
       "    }\n",
       "</style>\n",
       "<table border=\"1\" class=\"dataframe\">\n",
       "  <thead>\n",
       "    <tr style=\"text-align: right;\">\n",
       "      <th></th>\n",
       "      <th>Training</th>\n",
       "      <th>Test</th>\n",
       "    </tr>\n",
       "  </thead>\n",
       "  <tbody>\n",
       "    <tr>\n",
       "      <th>Accurary</th>\n",
       "      <td>0.833129</td>\n",
       "      <td>0.647196</td>\n",
       "    </tr>\n",
       "    <tr>\n",
       "      <th>Jaccard</th>\n",
       "      <td>0.411255</td>\n",
       "      <td>0.386179</td>\n",
       "    </tr>\n",
       "    <tr>\n",
       "      <th>F1</th>\n",
       "      <td>0.582822</td>\n",
       "      <td>0.557185</td>\n",
       "    </tr>\n",
       "    <tr>\n",
       "      <th>AUC</th>\n",
       "      <td>0.711888</td>\n",
       "      <td>0.703778</td>\n",
       "    </tr>\n",
       "  </tbody>\n",
       "</table>\n",
       "</div>"
      ],
      "text/plain": [
       "          Training      Test\n",
       "Accurary  0.833129  0.647196\n",
       "Jaccard   0.411255  0.386179\n",
       "F1        0.582822  0.557185\n",
       "AUC       0.711888  0.703778"
      ]
     },
     "execution_count": 111,
     "metadata": {},
     "output_type": "execute_result"
    }
   ],
   "source": [
    "# Random Split train (rst)\n",
    "\n",
    "# instantiate and fit model on training data\n",
    "clfl_rst_1 = LogisticRegression(random_state=seed, penalty='l2',max_iter=100000).fit(X_train_1, y_train_1)\n",
    "\n",
    "# predict training data\n",
    "lr_trainYp_rst_1=clfl_rst_1.predict_proba(X_train_1)\n",
    "\n",
    "# predict testing data\n",
    "lr_testYp_rst_1=clfl_rst_1.predict_proba(X_test_1)\n",
    "\n",
    "# assess model\n",
    "scoredf_lr_rst_1=get_scoredf(y_train_1, lr_trainYp_rst_1, y_test_1, lr_testYp_rst_1)\n",
    "scoredf_lr_rst_1"
   ]
  },
  {
   "cell_type": "markdown",
   "id": "5b3eaaea-3069-464a-afcf-2ded05cce43e",
   "metadata": {},
   "source": [
    "#### New features"
   ]
  },
  {
   "cell_type": "code",
   "execution_count": 112,
   "id": "ffd8ad0e-3e34-47e9-b36c-71e24d674933",
   "metadata": {},
   "outputs": [
    {
     "data": {
      "text/html": [
       "<div>\n",
       "<style scoped>\n",
       "    .dataframe tbody tr th:only-of-type {\n",
       "        vertical-align: middle;\n",
       "    }\n",
       "\n",
       "    .dataframe tbody tr th {\n",
       "        vertical-align: top;\n",
       "    }\n",
       "\n",
       "    .dataframe thead th {\n",
       "        text-align: right;\n",
       "    }\n",
       "</style>\n",
       "<table border=\"1\" class=\"dataframe\">\n",
       "  <thead>\n",
       "    <tr style=\"text-align: right;\">\n",
       "      <th></th>\n",
       "      <th>Training</th>\n",
       "      <th>Test</th>\n",
       "    </tr>\n",
       "  </thead>\n",
       "  <tbody>\n",
       "    <tr>\n",
       "      <th>Accurary</th>\n",
       "      <td>0.819407</td>\n",
       "      <td>0.792507</td>\n",
       "    </tr>\n",
       "    <tr>\n",
       "      <th>Jaccard</th>\n",
       "      <td>0.361905</td>\n",
       "      <td>0.314286</td>\n",
       "    </tr>\n",
       "    <tr>\n",
       "      <th>F1</th>\n",
       "      <td>0.531469</td>\n",
       "      <td>0.478261</td>\n",
       "    </tr>\n",
       "    <tr>\n",
       "      <th>AUC</th>\n",
       "      <td>0.683500</td>\n",
       "      <td>0.653975</td>\n",
       "    </tr>\n",
       "  </tbody>\n",
       "</table>\n",
       "</div>"
      ],
      "text/plain": [
       "          Training      Test\n",
       "Accurary  0.819407  0.792507\n",
       "Jaccard   0.361905  0.314286\n",
       "F1        0.531469  0.478261\n",
       "AUC       0.683500  0.653975"
      ]
     },
     "execution_count": 112,
     "metadata": {},
     "output_type": "execute_result"
    }
   ],
   "source": [
    "# Random Split train (rst)\n",
    "\n",
    "# instantiate and fit model on training data\n",
    "clfl_rst_2 = LogisticRegression(random_state=seed, penalty='l2',max_iter=10000).fit(X_train_2, y_train_2)\n",
    "\n",
    "# predict training data\n",
    "lr_trainYp_rst_2=clfl_rst_2.predict_proba(X_train_2)\n",
    "\n",
    "# predict testing data\n",
    "lr_testYp_rst_2=clfl_rst_2.predict_proba(X_test_2)\n",
    "\n",
    "# assess model\n",
    "scoredf_lr_rst_2=get_scoredf(y_train_2, lr_trainYp_rst_2, y_test_2, lr_testYp_rst_2)\n",
    "scoredf_lr_rst_2"
   ]
  },
  {
   "cell_type": "code",
   "execution_count": 106,
   "id": "0e1da22f",
   "metadata": {},
   "outputs": [
    {
     "data": {
      "image/png": "[encoded data removed]",
      "text/plain": [
       "<Figure size 864x864 with 1 Axes>"
      ]
     },
     "metadata": {
      "needs_background": "dark"
     },
     "output_type": "display_data"
    }
   ],
   "source": [
    "# Calculate ROC curve and AUC\n",
    "\n",
    "# Old features\n",
    "lr_fpr_rst_1, lr_tpr_rst_1, _ = roc_curve(y_test_1, lr_testYp_rst_1[:,1], drop_intermediate=False)\n",
    "lr_auc_rst_1 = auc(lr_fpr_rst_1, lr_tpr_rst_1)\n",
    "\n",
    "# New features\n",
    "lr_fpr_rst_2, lr_tpr_rst_2, _ = roc_curve(y_test_2, lr_testYp_rst_2[:,1], drop_intermediate=False)\n",
    "lr_auc_rst_2 = auc(lr_fpr_rst_2, lr_tpr_rst_2)\n",
    "\n",
    "\n",
    "\n",
    "# Plot ROC curve\n",
    "plt.figure(figsize=(12, 12))\n",
    "\n",
    "# Old features\n",
    "plt.plot(lr_fpr_rst_1, lr_tpr_rst_1, label=f'Old features (AUC = {lr_auc_rst_1:.2f})')\n",
    "\n",
    "# New features\n",
    "plt.plot(lr_fpr_rst_2, lr_tpr_rst_2, label=f'New features (AUC = {lr_auc_rst_2:.2f})')\n",
    "\n",
    "\n",
    "plt.plot([0, 1], [0, 1], linestyle='--', color='grey', label='Chance (AUC = 0.5)')\n",
    "\n",
    "plt.xlabel('False Positive Rate')\n",
    "plt.ylabel('True Positive Rate')\n",
    "plt.title('ROC Curve - Logistic Regression')\n",
    "plt.legend()\n",
    "plt.show()"
   ]
  },
  {
   "cell_type": "markdown",
   "id": "6240cf51-daeb-4edd-8d52-66c36a9ee826",
   "metadata": {},
   "source": [
    "### 2.  Random Forest Classifier"
   ]
  },
  {
   "cell_type": "markdown",
   "id": "f3042904-5b0d-40e2-aada-7a5028e14eb0",
   "metadata": {},
   "source": [
    "#### Old features"
   ]
  },
  {
   "cell_type": "code",
   "execution_count": 116,
   "id": "f6a82753-251a-49b6-be12-1e3110a25a4f",
   "metadata": {},
   "outputs": [
    {
     "data": {
      "text/html": [
       "<div>\n",
       "<style scoped>\n",
       "    .dataframe tbody tr th:only-of-type {\n",
       "        vertical-align: middle;\n",
       "    }\n",
       "\n",
       "    .dataframe tbody tr th {\n",
       "        vertical-align: top;\n",
       "    }\n",
       "\n",
       "    .dataframe thead th {\n",
       "        text-align: right;\n",
       "    }\n",
       "</style>\n",
       "<table border=\"1\" class=\"dataframe\">\n",
       "  <thead>\n",
       "    <tr style=\"text-align: right;\">\n",
       "      <th></th>\n",
       "      <th>Training</th>\n",
       "      <th>Test</th>\n",
       "    </tr>\n",
       "  </thead>\n",
       "  <tbody>\n",
       "    <tr>\n",
       "      <th>Accurary</th>\n",
       "      <td>1.0</td>\n",
       "      <td>0.591121</td>\n",
       "    </tr>\n",
       "    <tr>\n",
       "      <th>Jaccard</th>\n",
       "      <td>1.0</td>\n",
       "      <td>0.347015</td>\n",
       "    </tr>\n",
       "    <tr>\n",
       "      <th>F1</th>\n",
       "      <td>1.0</td>\n",
       "      <td>0.515235</td>\n",
       "    </tr>\n",
       "    <tr>\n",
       "      <th>AUC</th>\n",
       "      <td>1.0</td>\n",
       "      <td>0.659939</td>\n",
       "    </tr>\n",
       "  </tbody>\n",
       "</table>\n",
       "</div>"
      ],
      "text/plain": [
       "          Training      Test\n",
       "Accurary       1.0  0.591121\n",
       "Jaccard        1.0  0.347015\n",
       "F1             1.0  0.515235\n",
       "AUC            1.0  0.659939"
      ]
     },
     "execution_count": 116,
     "metadata": {},
     "output_type": "execute_result"
    }
   ],
   "source": [
    "# Random Split train (rst)\n",
    "\n",
    "# instantiate and fit model on training data\n",
    "clfl_rst_1 = RandomForestClassifier(random_state=seed).fit(X_train_1, y_train_1)\n",
    "\n",
    "# predict training data\n",
    "rf_trainYp_rst_1=clfl_rst_1.predict_proba(X_train_1)\n",
    "\n",
    "# predict testing data\n",
    "rf_testYp_rst_1=clfl_rst_1.predict_proba(X_test_1)\n",
    "\n",
    "# assess model\n",
    "scoredf_rf_rst_1=get_scoredf(y_train_1, rf_trainYp_rst_1, y_test_1, rf_testYp_rst_1)\n",
    "scoredf_rf_rst_1"
   ]
  },
  {
   "cell_type": "markdown",
   "id": "744cddbe-8bdb-4110-a70f-85a5c240b71b",
   "metadata": {},
   "source": [
    "#### New features"
   ]
  },
  {
   "cell_type": "code",
   "execution_count": 27,
   "id": "00c1188f",
   "metadata": {},
   "outputs": [
    {
     "data": {
      "text/html": [
       "<div>\n",
       "<style scoped>\n",
       "    .dataframe tbody tr th:only-of-type {\n",
       "        vertical-align: middle;\n",
       "    }\n",
       "\n",
       "    .dataframe tbody tr th {\n",
       "        vertical-align: top;\n",
       "    }\n",
       "\n",
       "    .dataframe thead th {\n",
       "        text-align: right;\n",
       "    }\n",
       "</style>\n",
       "<table border=\"1\" class=\"dataframe\">\n",
       "  <thead>\n",
       "    <tr style=\"text-align: right;\">\n",
       "      <th></th>\n",
       "      <th>Training</th>\n",
       "      <th>Test</th>\n",
       "    </tr>\n",
       "  </thead>\n",
       "  <tbody>\n",
       "    <tr>\n",
       "      <th>Accurary</th>\n",
       "      <td>1.0</td>\n",
       "      <td>0.811321</td>\n",
       "    </tr>\n",
       "    <tr>\n",
       "      <th>Jaccard</th>\n",
       "      <td>1.0</td>\n",
       "      <td>0.469697</td>\n",
       "    </tr>\n",
       "    <tr>\n",
       "      <th>F1</th>\n",
       "      <td>1.0</td>\n",
       "      <td>0.639175</td>\n",
       "    </tr>\n",
       "    <tr>\n",
       "      <th>AUC</th>\n",
       "      <td>1.0</td>\n",
       "      <td>0.743396</td>\n",
       "    </tr>\n",
       "  </tbody>\n",
       "</table>\n",
       "</div>"
      ],
      "text/plain": [
       "          Training      Test\n",
       "Accurary       1.0  0.811321\n",
       "Jaccard        1.0  0.469697\n",
       "F1             1.0  0.639175\n",
       "AUC            1.0  0.743396"
      ]
     },
     "execution_count": 27,
     "metadata": {},
     "output_type": "execute_result"
    }
   ],
   "source": [
    "# Random Split train (rst)\n",
    "\n",
    "# instantiate and fit model on training data\n",
    "clfl_rst_2 = RandomForestClassifier(random_state=seed).fit(X_train_2, y_train_2)\n",
    "\n",
    "# predict training data\n",
    "rf_trainYp_rst_2=clfl_rst_2.predict(X_train_2)\n",
    "\n",
    "# predict testing data\n",
    "rf_testYp_rst_2=clfl_rst_2.predict(X_test_2)\n",
    "\n",
    "# assess model\n",
    "scoredf_rf_rst_2=get_scoredf(y_train_2, rf_trainYp_rst_2, y_test_2, rf_testYp_rst_2)\n",
    "scoredf_rf_rst_2"
   ]
  },
  {
   "cell_type": "code",
   "execution_count": 28,
   "id": "799db010",
   "metadata": {},
   "outputs": [
    {
     "data": {
      "image/png": "[encoded data removed]",
      "text/plain": [
       "<Figure size 864x864 with 1 Axes>"
      ]
     },
     "metadata": {
      "needs_background": "dark"
     },
     "output_type": "display_data"
    }
   ],
   "source": [
    "# Calculate ROC curve and AUC\n",
    "\n",
    "# Old features\n",
    "rf_fpr_rst_1, rf_tpr_rst_1, _ = roc_curve(y_test_1, rf_testYp_rst_1, drop_intermediate=False)\n",
    "rf_auc_rst_1 = auc(rf_fpr_rst_1, rf_tpr_rst_1)\n",
    "\n",
    "# New features\n",
    "rf_fpr_rst_2, rf_tpr_rst_2, _ = roc_curve(y_test_2, rf_testYp_rst_2, drop_intermediate=False)\n",
    "rf_auc_rst_2 = auc(rf_fpr_rst_2, rf_tpr_rst_2)\n",
    "\n",
    "\n",
    "\n",
    "# Plot ROC curve\n",
    "plt.figure(figsize=(12, 12))\n",
    "\n",
    "# Old features\n",
    "plt.plot(rf_fpr_rst_1, rf_tpr_rst_1, label=f'Old features (AUC = {rf_auc_rst_1:.2f})')\n",
    "\n",
    "# New features\n",
    "plt.plot(rf_fpr_rst_2, rf_tpr_rst_2, label=f'New features (AUC = {rf_auc_rst_2:.2f})')\n",
    "\n",
    "\n",
    "plt.plot([0, 1], [0, 1], linestyle='--', color='grey', label='Chance (AUC = 0.5)')\n",
    "\n",
    "plt.xlabel('False Positive Rate')\n",
    "plt.ylabel('True Positive Rate')\n",
    "plt.title('ROC Curve - Random Forest')\n",
    "plt.legend()\n",
    "plt.show()\n"
   ]
  },
  {
   "cell_type": "markdown",
   "id": "ef8399b7-9e00-4cb1-b4ac-1dbec562b3bb",
   "metadata": {},
   "source": [
    "### 3. KNeighbors Classifier"
   ]
  },
  {
   "cell_type": "markdown",
   "id": "1b574d44-8e3e-4ee9-906b-f7cd8ba4f3cf",
   "metadata": {},
   "source": [
    "#### Old features"
   ]
  },
  {
   "cell_type": "code",
   "execution_count": 29,
   "id": "51db71be-2ab2-4403-b6bd-8463288d9e06",
   "metadata": {},
   "outputs": [
    {
     "data": {
      "text/html": [
       "<div>\n",
       "<style scoped>\n",
       "    .dataframe tbody tr th:only-of-type {\n",
       "        vertical-align: middle;\n",
       "    }\n",
       "\n",
       "    .dataframe tbody tr th {\n",
       "        vertical-align: top;\n",
       "    }\n",
       "\n",
       "    .dataframe thead th {\n",
       "        text-align: right;\n",
       "    }\n",
       "</style>\n",
       "<table border=\"1\" class=\"dataframe\">\n",
       "  <thead>\n",
       "    <tr style=\"text-align: right;\">\n",
       "      <th></th>\n",
       "      <th>Training</th>\n",
       "      <th>Test</th>\n",
       "    </tr>\n",
       "  </thead>\n",
       "  <tbody>\n",
       "    <tr>\n",
       "      <th>Accurary</th>\n",
       "      <td>0.837805</td>\n",
       "      <td>0.758865</td>\n",
       "    </tr>\n",
       "    <tr>\n",
       "      <th>Jaccard</th>\n",
       "      <td>0.480469</td>\n",
       "      <td>0.341935</td>\n",
       "    </tr>\n",
       "    <tr>\n",
       "      <th>F1</th>\n",
       "      <td>0.649077</td>\n",
       "      <td>0.509615</td>\n",
       "    </tr>\n",
       "    <tr>\n",
       "      <th>AUC</th>\n",
       "      <td>0.757827</td>\n",
       "      <td>0.669024</td>\n",
       "    </tr>\n",
       "  </tbody>\n",
       "</table>\n",
       "</div>"
      ],
      "text/plain": [
       "          Training      Test\n",
       "Accurary  0.837805  0.758865\n",
       "Jaccard   0.480469  0.341935\n",
       "F1        0.649077  0.509615\n",
       "AUC       0.757827  0.669024"
      ]
     },
     "execution_count": 29,
     "metadata": {},
     "output_type": "execute_result"
    }
   ],
   "source": [
    "# Random Split train (rst)\n",
    "\n",
    "# instantiate and fit model on training data\n",
    "clfl_rst_1 = KNeighborsClassifier().fit(X_train_1, y_train_1)\n",
    "\n",
    "# predict training data\n",
    "knn_trainYp_rst_1=clfl_rst_1.predict(X_train_1)\n",
    "\n",
    "# predict testing data\n",
    "knn_testYp_rst_1=clfl_rst_1.predict(X_test_1)\n",
    "\n",
    "# assess model\n",
    "scoredf_knn_rst_1=get_scoredf(y_train_1, knn_trainYp_rst_1, y_test_1, knn_testYp_rst_1)\n",
    "scoredf_knn_rst_1"
   ]
  },
  {
   "cell_type": "markdown",
   "id": "9f436a3d-76cf-408c-ba0c-285bb03a4565",
   "metadata": {},
   "source": [
    "#### New features"
   ]
  },
  {
   "cell_type": "code",
   "execution_count": 30,
   "id": "6591fc4d",
   "metadata": {},
   "outputs": [
    {
     "data": {
      "text/html": [
       "<div>\n",
       "<style scoped>\n",
       "    .dataframe tbody tr th:only-of-type {\n",
       "        vertical-align: middle;\n",
       "    }\n",
       "\n",
       "    .dataframe tbody tr th {\n",
       "        vertical-align: top;\n",
       "    }\n",
       "\n",
       "    .dataframe thead th {\n",
       "        text-align: right;\n",
       "    }\n",
       "</style>\n",
       "<table border=\"1\" class=\"dataframe\">\n",
       "  <thead>\n",
       "    <tr style=\"text-align: right;\">\n",
       "      <th></th>\n",
       "      <th>Training</th>\n",
       "      <th>Test</th>\n",
       "    </tr>\n",
       "  </thead>\n",
       "  <tbody>\n",
       "    <tr>\n",
       "      <th>Accurary</th>\n",
       "      <td>0.857939</td>\n",
       "      <td>0.719677</td>\n",
       "    </tr>\n",
       "    <tr>\n",
       "      <th>Jaccard</th>\n",
       "      <td>0.495050</td>\n",
       "      <td>0.262411</td>\n",
       "    </tr>\n",
       "    <tr>\n",
       "      <th>F1</th>\n",
       "      <td>0.662252</td>\n",
       "      <td>0.415730</td>\n",
       "    </tr>\n",
       "    <tr>\n",
       "      <th>AUC</th>\n",
       "      <td>0.766710</td>\n",
       "      <td>0.608491</td>\n",
       "    </tr>\n",
       "  </tbody>\n",
       "</table>\n",
       "</div>"
      ],
      "text/plain": [
       "          Training      Test\n",
       "Accurary  0.857939  0.719677\n",
       "Jaccard   0.495050  0.262411\n",
       "F1        0.662252  0.415730\n",
       "AUC       0.766710  0.608491"
      ]
     },
     "execution_count": 30,
     "metadata": {},
     "output_type": "execute_result"
    }
   ],
   "source": [
    "# Random Split train (rst)\n",
    "\n",
    "# instantiate and fit model on training data\n",
    "clfl_rst_2 = KNeighborsClassifier().fit(X_train_2, y_train_2)\n",
    "\n",
    "# predict training data\n",
    "knn_trainYp_rst_2=clfl_rst_2.predict(X_train_2)\n",
    "\n",
    "# predict testing data\n",
    "knn_testYp_rst_2=clfl_rst_2.predict(X_test_2)\n",
    "\n",
    "# assess model\n",
    "scoredf_knn_rst_2=get_scoredf(y_train_2, knn_trainYp_rst_2, y_test_2, knn_testYp_rst_2)\n",
    "scoredf_knn_rst_2"
   ]
  },
  {
   "cell_type": "code",
   "execution_count": 31,
   "id": "ee534e58",
   "metadata": {},
   "outputs": [
    {
     "data": {
      "image/png": "[encoded data removed]",
      "text/plain": [
       "<Figure size 864x864 with 1 Axes>"
      ]
     },
     "metadata": {
      "needs_background": "dark"
     },
     "output_type": "display_data"
    }
   ],
   "source": [
    "# Calculate ROC curve and AUC\n",
    "\n",
    "# Old features\n",
    "knn_fpr_rst_1, knn_tpr_rst_1, _ = roc_curve(y_test_1, knn_testYp_rst_1, drop_intermediate=False)\n",
    "knn_auc_rst_1 = auc(knn_fpr_rst_1, knn_tpr_rst_1)\n",
    "\n",
    "# New features\n",
    "knn_fpr_rst_2, knn_tpr_rst_2, _ = roc_curve(y_test_2, knn_testYp_rst_2, drop_intermediate=False)\n",
    "knn_auc_rst_2 = auc(knn_fpr_rst_2, knn_tpr_rst_2)\n",
    "\n",
    "\n",
    "# Plot ROC curve\n",
    "plt.figure(figsize=(12, 12))\n",
    "\n",
    "# Old features\n",
    "plt.plot(knn_fpr_rst_1, knn_tpr_rst_1, label=f'Old features (AUC = {knn_auc_rst_1:.2f})')\n",
    "\n",
    "# New features\n",
    "plt.plot(knn_fpr_rst_2, knn_tpr_rst_2, label=f'New features (AUC = {knn_auc_rst_2:.2f})')\n",
    "\n",
    "\n",
    "plt.xlabel('False Positive Rate')\n",
    "plt.ylabel('True Positive Rate')\n",
    "plt.title('ROC Curve - K-Nearest-Neighbors')\n",
    "plt.legend()\n",
    "plt.show()"
   ]
  },
  {
   "cell_type": "markdown",
   "id": "eb653240-196f-449c-8346-d10a2e8f68bd",
   "metadata": {},
   "source": [
    "### 4. Decision Tree Classifier"
   ]
  },
  {
   "cell_type": "markdown",
   "id": "61ad9def-8254-4aac-82cf-6d1628065f13",
   "metadata": {},
   "source": [
    "#### Old features"
   ]
  },
  {
   "cell_type": "code",
   "execution_count": 32,
   "id": "cf19d8b8-3b8f-427c-a3be-3c213b1d02e0",
   "metadata": {},
   "outputs": [
    {
     "data": {
      "text/html": [
       "<div>\n",
       "<style scoped>\n",
       "    .dataframe tbody tr th:only-of-type {\n",
       "        vertical-align: middle;\n",
       "    }\n",
       "\n",
       "    .dataframe tbody tr th {\n",
       "        vertical-align: top;\n",
       "    }\n",
       "\n",
       "    .dataframe thead th {\n",
       "        text-align: right;\n",
       "    }\n",
       "</style>\n",
       "<table border=\"1\" class=\"dataframe\">\n",
       "  <thead>\n",
       "    <tr style=\"text-align: right;\">\n",
       "      <th></th>\n",
       "      <th>Training</th>\n",
       "      <th>Test</th>\n",
       "    </tr>\n",
       "  </thead>\n",
       "  <tbody>\n",
       "    <tr>\n",
       "      <th>Accurary</th>\n",
       "      <td>0.998780</td>\n",
       "      <td>0.803783</td>\n",
       "    </tr>\n",
       "    <tr>\n",
       "      <th>Jaccard</th>\n",
       "      <td>0.995146</td>\n",
       "      <td>0.427586</td>\n",
       "    </tr>\n",
       "    <tr>\n",
       "      <th>F1</th>\n",
       "      <td>0.997567</td>\n",
       "      <td>0.599034</td>\n",
       "    </tr>\n",
       "    <tr>\n",
       "      <th>AUC</th>\n",
       "      <td>0.997573</td>\n",
       "      <td>0.725908</td>\n",
       "    </tr>\n",
       "  </tbody>\n",
       "</table>\n",
       "</div>"
      ],
      "text/plain": [
       "          Training      Test\n",
       "Accurary  0.998780  0.803783\n",
       "Jaccard   0.995146  0.427586\n",
       "F1        0.997567  0.599034\n",
       "AUC       0.997573  0.725908"
      ]
     },
     "execution_count": 32,
     "metadata": {},
     "output_type": "execute_result"
    }
   ],
   "source": [
    "# Random Split train (rst)\n",
    "\n",
    "# instantiate and fit model on training data\n",
    "clfl_rst_1 = DecisionTreeClassifier(random_state=seed).fit(X_train_1, y_train_1)\n",
    "\n",
    "# predict training data\n",
    "dt_trainYp_rst_1=clfl_rst_1.predict(X_train_1)\n",
    "\n",
    "# predict testing data\n",
    "dt_testYp_rst_1=clfl_rst_1.predict(X_test_1)\n",
    "\n",
    "# assess model\n",
    "scoredf_dt_rst_1=get_scoredf(y_train_1, dt_trainYp_rst_1, y_test_1, dt_testYp_rst_1)\n",
    "scoredf_dt_rst_1"
   ]
  },
  {
   "cell_type": "markdown",
   "id": "98f45a99-132d-436d-9b68-9fbc4fa21c6d",
   "metadata": {},
   "source": [
    "#### New features"
   ]
  },
  {
   "cell_type": "code",
   "execution_count": 33,
   "id": "b07995d2",
   "metadata": {},
   "outputs": [
    {
     "data": {
      "text/html": [
       "<div>\n",
       "<style scoped>\n",
       "    .dataframe tbody tr th:only-of-type {\n",
       "        vertical-align: middle;\n",
       "    }\n",
       "\n",
       "    .dataframe tbody tr th {\n",
       "        vertical-align: top;\n",
       "    }\n",
       "\n",
       "    .dataframe thead th {\n",
       "        text-align: right;\n",
       "    }\n",
       "</style>\n",
       "<table border=\"1\" class=\"dataframe\">\n",
       "  <thead>\n",
       "    <tr style=\"text-align: right;\">\n",
       "      <th></th>\n",
       "      <th>Training</th>\n",
       "      <th>Test</th>\n",
       "    </tr>\n",
       "  </thead>\n",
       "  <tbody>\n",
       "    <tr>\n",
       "      <th>Accurary</th>\n",
       "      <td>1.0</td>\n",
       "      <td>0.789757</td>\n",
       "    </tr>\n",
       "    <tr>\n",
       "      <th>Jaccard</th>\n",
       "      <td>1.0</td>\n",
       "      <td>0.430657</td>\n",
       "    </tr>\n",
       "    <tr>\n",
       "      <th>F1</th>\n",
       "      <td>1.0</td>\n",
       "      <td>0.602041</td>\n",
       "    </tr>\n",
       "    <tr>\n",
       "      <th>AUC</th>\n",
       "      <td>1.0</td>\n",
       "      <td>0.719811</td>\n",
       "    </tr>\n",
       "  </tbody>\n",
       "</table>\n",
       "</div>"
      ],
      "text/plain": [
       "          Training      Test\n",
       "Accurary       1.0  0.789757\n",
       "Jaccard        1.0  0.430657\n",
       "F1             1.0  0.602041\n",
       "AUC            1.0  0.719811"
      ]
     },
     "execution_count": 33,
     "metadata": {},
     "output_type": "execute_result"
    }
   ],
   "source": [
    "# Random Split train (rst)\n",
    "\n",
    "# instantiate and fit model on training data\n",
    "clfl_rst_2 = DecisionTreeClassifier(random_state=seed).fit(X_train_2, y_train_2)\n",
    "\n",
    "# predict training data\n",
    "dt_trainYp_rst_2=clfl_rst_2.predict(X_train_2)\n",
    "\n",
    "# predict testing data\n",
    "dt_testYp_rst_2=clfl_rst_2.predict(X_test_2)\n",
    "\n",
    "# assess model\n",
    "scoredf_dt_rst_2=get_scoredf(y_train_2, dt_trainYp_rst_2, y_test_2, dt_testYp_rst_2)\n",
    "scoredf_dt_rst_2"
   ]
  },
  {
   "cell_type": "code",
   "execution_count": 34,
   "id": "58051b87",
   "metadata": {},
   "outputs": [
    {
     "data": {
      "image/png": "[encoded data removed]",
      "text/plain": [
       "<Figure size 864x864 with 1 Axes>"
      ]
     },
     "metadata": {
      "needs_background": "dark"
     },
     "output_type": "display_data"
    }
   ],
   "source": [
    "# Calculate ROC curve and AUC\n",
    "\n",
    "\n",
    "# Old features\n",
    "dt_fpr_rst_1, dt_tpr_rst_1, _ = roc_curve(y_test_1, dt_testYp_rst_1, drop_intermediate=False)\n",
    "dt_auc_rst_1 = auc(dt_fpr_rst_1, dt_tpr_rst_1)\n",
    "\n",
    "# New features\n",
    "dt_fpr_rst_2, dt_tpr_rst_2, _ = roc_curve(y_test_2, dt_testYp_rst_2, drop_intermediate=False)\n",
    "dt_auc_rst_2 = auc(dt_fpr_rst_2, dt_tpr_rst_2)\n",
    "\n",
    "\n",
    "# Plot ROC curve\n",
    "plt.figure(figsize=(12, 12))\n",
    "\n",
    "# Old features\n",
    "plt.plot(dt_fpr_rst_1, dt_tpr_rst_1, label=f'Old features (AUC = {dt_auc_rst_1:.2f})')\n",
    "\n",
    "# New features\n",
    "plt.plot(dt_fpr_rst_2, dt_tpr_rst_2, label=f'New features (AUC = {dt_auc_rst_2:.2f})')\n",
    "\n",
    "\n",
    "plt.plot([0, 1], [0, 1], linestyle='--', color='grey', label='Chance (AUC = 0.5)')\n",
    "\n",
    "plt.xlabel('False Positive Rate')\n",
    "plt.ylabel('True Positive Rate')\n",
    "plt.title('ROC Curve - Decision Tree')\n",
    "plt.legend()\n",
    "plt.show()"
   ]
  },
  {
   "cell_type": "markdown",
   "id": "21f55701-222c-45c9-9007-38b489ea5ad6",
   "metadata": {},
   "source": [
    "### 5. Neural Network"
   ]
  },
  {
   "cell_type": "markdown",
   "id": "959f1b7a-79b3-49b9-81ba-150bf6eb4d40",
   "metadata": {},
   "source": [
    "#### Old features"
   ]
  },
  {
   "cell_type": "code",
   "execution_count": 35,
   "id": "17c2330c-9c73-4104-b931-d3dc1de4d455",
   "metadata": {},
   "outputs": [
    {
     "name": "stderr",
     "output_type": "stream",
     "text": [
      "/Users/chunxia/opt/anaconda3/lib/python3.9/site-packages/sklearn/neural_network/_multilayer_perceptron.py:692: ConvergenceWarning: Stochastic Optimizer: Maximum iterations (200) reached and the optimization hasn't converged yet.\n",
      "  warnings.warn(\n"
     ]
    },
    {
     "data": {
      "text/html": [
       "<div>\n",
       "<style scoped>\n",
       "    .dataframe tbody tr th:only-of-type {\n",
       "        vertical-align: middle;\n",
       "    }\n",
       "\n",
       "    .dataframe tbody tr th {\n",
       "        vertical-align: top;\n",
       "    }\n",
       "\n",
       "    .dataframe thead th {\n",
       "        text-align: right;\n",
       "    }\n",
       "</style>\n",
       "<table border=\"1\" class=\"dataframe\">\n",
       "  <thead>\n",
       "    <tr style=\"text-align: right;\">\n",
       "      <th></th>\n",
       "      <th>Training</th>\n",
       "      <th>Test</th>\n",
       "    </tr>\n",
       "  </thead>\n",
       "  <tbody>\n",
       "    <tr>\n",
       "      <th>Accurary</th>\n",
       "      <td>0.800000</td>\n",
       "      <td>0.751773</td>\n",
       "    </tr>\n",
       "    <tr>\n",
       "      <th>Jaccard</th>\n",
       "      <td>0.426573</td>\n",
       "      <td>0.367470</td>\n",
       "    </tr>\n",
       "    <tr>\n",
       "      <th>F1</th>\n",
       "      <td>0.598039</td>\n",
       "      <td>0.537445</td>\n",
       "    </tr>\n",
       "    <tr>\n",
       "      <th>AUC</th>\n",
       "      <td>0.730970</td>\n",
       "      <td>0.687816</td>\n",
       "    </tr>\n",
       "  </tbody>\n",
       "</table>\n",
       "</div>"
      ],
      "text/plain": [
       "          Training      Test\n",
       "Accurary  0.800000  0.751773\n",
       "Jaccard   0.426573  0.367470\n",
       "F1        0.598039  0.537445\n",
       "AUC       0.730970  0.687816"
      ]
     },
     "execution_count": 35,
     "metadata": {},
     "output_type": "execute_result"
    }
   ],
   "source": [
    "# Random Split train (rst)\n",
    "\n",
    "# instantiate and fit model on training data\n",
    "clfl_rst_1 = MLPClassifier(hidden_layer_sizes=(10, 10, 10), max_iter=200).fit(X_train_1, y_train_1)\n",
    "\n",
    "# predict training data\n",
    "nn_trainYp_rst_1=clfl_rst_1.predict(X_train_1)\n",
    "\n",
    "# predict testing data\n",
    "nn_testYp_rst_1=clfl_rst_1.predict(X_test_1)\n",
    "\n",
    "# assess model\n",
    "scoredf_nn_rst_1=get_scoredf(y_train_1, nn_trainYp_rst_1, y_test_1, nn_testYp_rst_1)\n",
    "scoredf_nn_rst_1"
   ]
  },
  {
   "cell_type": "markdown",
   "id": "728ed87d-25ee-4a6f-876f-a94857991452",
   "metadata": {},
   "source": [
    "#### New features"
   ]
  },
  {
   "cell_type": "code",
   "execution_count": 36,
   "id": "f8a472e5",
   "metadata": {},
   "outputs": [
    {
     "data": {
      "text/html": [
       "<div>\n",
       "<style scoped>\n",
       "    .dataframe tbody tr th:only-of-type {\n",
       "        vertical-align: middle;\n",
       "    }\n",
       "\n",
       "    .dataframe tbody tr th {\n",
       "        vertical-align: top;\n",
       "    }\n",
       "\n",
       "    .dataframe thead th {\n",
       "        text-align: right;\n",
       "    }\n",
       "</style>\n",
       "<table border=\"1\" class=\"dataframe\">\n",
       "  <thead>\n",
       "    <tr style=\"text-align: right;\">\n",
       "      <th></th>\n",
       "      <th>Training</th>\n",
       "      <th>Test</th>\n",
       "    </tr>\n",
       "  </thead>\n",
       "  <tbody>\n",
       "    <tr>\n",
       "      <th>Accurary</th>\n",
       "      <td>0.759053</td>\n",
       "      <td>0.735849</td>\n",
       "    </tr>\n",
       "    <tr>\n",
       "      <th>Jaccard</th>\n",
       "      <td>0.059783</td>\n",
       "      <td>0.125000</td>\n",
       "    </tr>\n",
       "    <tr>\n",
       "      <th>F1</th>\n",
       "      <td>0.112821</td>\n",
       "      <td>0.222222</td>\n",
       "    </tr>\n",
       "    <tr>\n",
       "      <th>AUC</th>\n",
       "      <td>0.518193</td>\n",
       "      <td>0.554717</td>\n",
       "    </tr>\n",
       "  </tbody>\n",
       "</table>\n",
       "</div>"
      ],
      "text/plain": [
       "          Training      Test\n",
       "Accurary  0.759053  0.735849\n",
       "Jaccard   0.059783  0.125000\n",
       "F1        0.112821  0.222222\n",
       "AUC       0.518193  0.554717"
      ]
     },
     "execution_count": 36,
     "metadata": {},
     "output_type": "execute_result"
    }
   ],
   "source": [
    "# Random Split train (rst)\n",
    "\n",
    "# instantiate and fit model on training data\n",
    "clfl_rst_2 = MLPClassifier(hidden_layer_sizes=(10, 10, 10), max_iter=200).fit(X_train_2, y_train_2)\n",
    "\n",
    "# predict training data\n",
    "nn_trainYp_rst_2=clfl_rst_2.predict(X_train_2)\n",
    "\n",
    "# predict testing data\n",
    "nn_testYp_rst_2=clfl_rst_2.predict(X_test_2)\n",
    "\n",
    "# assess model\n",
    "scoredf_nn_rst_2=get_scoredf(y_train_2, nn_trainYp_rst_2, y_test_2, nn_testYp_rst_2)\n",
    "scoredf_nn_rst_2"
   ]
  },
  {
   "cell_type": "code",
   "execution_count": 37,
   "id": "59fe8055",
   "metadata": {},
   "outputs": [
    {
     "data": {
      "image/png": "[encoded data removed]",
      "text/plain": [
       "<Figure size 864x864 with 1 Axes>"
      ]
     },
     "metadata": {
      "needs_background": "dark"
     },
     "output_type": "display_data"
    }
   ],
   "source": [
    "# Calculate ROC curve and AUC\n",
    "\n",
    "# Old features\n",
    "nn_fpr_rst_1, nn_tpr_rst_1, _ = roc_curve(y_test_1, nn_testYp_rst_1, drop_intermediate=False)\n",
    "nn_auc_rst_1 = auc(nn_fpr_rst_1, nn_tpr_rst_1)\n",
    "\n",
    "# New features\n",
    "nn_fpr_rst_2, nn_tpr_rst_2, _ = roc_curve(y_test_2, nn_testYp_rst_2, drop_intermediate=False)\n",
    "nn_auc_rst_2 = auc(nn_fpr_rst_2, nn_tpr_rst_2)\n",
    "\n",
    "\n",
    "# Plot ROC curve\n",
    "plt.figure(figsize=(12, 12))\n",
    "\n",
    "# Old features\n",
    "plt.plot(nn_fpr_rst_1, nn_tpr_rst_1, label=f'Old features (AUC = {nn_auc_rst_1:.2f})')\n",
    "\n",
    "# New features\n",
    "plt.plot(nn_fpr_rst_2, nn_tpr_rst_2, label=f'New features (AUC = {nn_auc_rst_2:.2f})')\n",
    "\n",
    "\n",
    "plt.plot([0, 1], [0, 1], linestyle='--', color='grey', label='Chance (AUC = 0.5)')\n",
    "\n",
    "plt.xlabel('False Positive Rate')\n",
    "plt.ylabel('True Positive Rate')\n",
    "plt.title('ROC Curve - Neural Network')\n",
    "plt.legend()\n",
    "plt.show()"
   ]
  },
  {
   "cell_type": "code",
   "execution_count": null,
   "id": "e54432b2-7a14-458a-8a60-6112de52e0ed",
   "metadata": {},
   "outputs": [],
   "source": []
  }
 ],
 "metadata": {
  "kernelspec": {
   "display_name": "Python 3 (ipykernel)",
   "language": "python",
   "name": "python3"
  },
  "language_info": {
   "codemirror_mode": {
    "name": "ipython",
    "version": 3
   },
   "file_extension": ".py",
   "mimetype": "text/x-python",
   "name": "python",
   "nbconvert_exporter": "python",
   "pygments_lexer": "ipython3",
   "version": "3.8.10"
  }
 },
 "nbformat": 4,
 "nbformat_minor": 5
}
