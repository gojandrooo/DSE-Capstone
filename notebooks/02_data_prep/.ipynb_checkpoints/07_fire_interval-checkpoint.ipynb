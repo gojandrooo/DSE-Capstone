{
 "cells": [
  {
   "cell_type": "markdown",
   "id": "a553b54c-6a6b-4380-a914-5bdb8d558b34",
   "metadata": {},
   "source": [
    "# Time between Last Fire and Debris flow\n",
    "\n",
    "- calculate the time between events to include as a feature\n",
    "    - could be a good parameter for the model and for users in the final data product\n",
    "- also desire to calculate the NUMBER of fires in the site"
   ]
  },
  {
   "cell_type": "code",
   "execution_count": 1,
   "id": "79084585-ca77-41c3-a052-4e9da1a72239",
   "metadata": {
    "tags": []
   },
   "outputs": [],
   "source": [
    "import os\n",
    "import pandas as pd\n",
    "import geopandas as gpd\n",
    "import datetime as dt\n",
    "\n",
    "# import requests, json, folium"
   ]
  },
  {
   "cell_type": "code",
   "execution_count": 2,
   "id": "52716047-aa66-4a80-a9da-2866a8c7ebf6",
   "metadata": {
    "tags": []
   },
   "outputs": [
    {
     "name": "stdout",
     "output_type": "stream",
     "text": [
      "raw data - (1550, 51)\n"
     ]
    },
    {
     "data": {
      "text/html": [
       "<div>\n",
       "<style scoped>\n",
       "    .dataframe tbody tr th:only-of-type {\n",
       "        vertical-align: middle;\n",
       "    }\n",
       "\n",
       "    .dataframe tbody tr th {\n",
       "        vertical-align: top;\n",
       "    }\n",
       "\n",
       "    .dataframe thead th {\n",
       "        text-align: right;\n",
       "    }\n",
       "</style>\n",
       "<table border=\"1\" class=\"dataframe\">\n",
       "  <thead>\n",
       "    <tr style=\"text-align: right;\">\n",
       "      <th></th>\n",
       "      <th>fire_name</th>\n",
       "      <th>year</th>\n",
       "      <th>fire_id</th>\n",
       "      <th>fire_segid</th>\n",
       "      <th>database</th>\n",
       "      <th>state</th>\n",
       "      <th>response</th>\n",
       "      <th>stormdate</th>\n",
       "      <th>gaugedist_m</th>\n",
       "      <th>stormstart</th>\n",
       "      <th>...</th>\n",
       "      <th>Metamorphic</th>\n",
       "      <th>Sedimentary</th>\n",
       "      <th>Unconsolidated</th>\n",
       "      <th>domrt</th>\n",
       "      <th>age_min</th>\n",
       "      <th>age_max</th>\n",
       "      <th>index_right</th>\n",
       "      <th>LNDS_RISKV</th>\n",
       "      <th>LNDS_RISKS</th>\n",
       "      <th>LNDS_RISKR</th>\n",
       "    </tr>\n",
       "  </thead>\n",
       "  <tbody>\n",
       "    <tr>\n",
       "      <th>0</th>\n",
       "      <td>Buckweed</td>\n",
       "      <td>2007</td>\n",
       "      <td>bck</td>\n",
       "      <td>bck_1035</td>\n",
       "      <td>Training</td>\n",
       "      <td>CA</td>\n",
       "      <td>0</td>\n",
       "      <td>2008-01-22</td>\n",
       "      <td>1998.67</td>\n",
       "      <td>2008-01-21 16:27:00</td>\n",
       "      <td>...</td>\n",
       "      <td>1.000000</td>\n",
       "      <td>0.000000</td>\n",
       "      <td>0.0</td>\n",
       "      <td>Metamorphic</td>\n",
       "      <td>56.0</td>\n",
       "      <td>72.1</td>\n",
       "      <td>205</td>\n",
       "      <td>380675.353544</td>\n",
       "      <td>96.305814</td>\n",
       "      <td>Relatively High</td>\n",
       "    </tr>\n",
       "    <tr>\n",
       "      <th>1</th>\n",
       "      <td>Buckweed</td>\n",
       "      <td>2007</td>\n",
       "      <td>bck</td>\n",
       "      <td>bck_1090</td>\n",
       "      <td>Training</td>\n",
       "      <td>CA</td>\n",
       "      <td>0</td>\n",
       "      <td>2008-01-22</td>\n",
       "      <td>2368.93</td>\n",
       "      <td>2008-01-21 16:27:00</td>\n",
       "      <td>...</td>\n",
       "      <td>1.000000</td>\n",
       "      <td>0.000000</td>\n",
       "      <td>0.0</td>\n",
       "      <td>Metamorphic</td>\n",
       "      <td>56.0</td>\n",
       "      <td>72.1</td>\n",
       "      <td>205</td>\n",
       "      <td>380675.353544</td>\n",
       "      <td>96.305814</td>\n",
       "      <td>Relatively High</td>\n",
       "    </tr>\n",
       "    <tr>\n",
       "      <th>2</th>\n",
       "      <td>Buckweed</td>\n",
       "      <td>2007</td>\n",
       "      <td>bck</td>\n",
       "      <td>bck_1570</td>\n",
       "      <td>Training</td>\n",
       "      <td>CA</td>\n",
       "      <td>0</td>\n",
       "      <td>2008-01-22</td>\n",
       "      <td>3956.74</td>\n",
       "      <td>2008-01-21 16:27:00</td>\n",
       "      <td>...</td>\n",
       "      <td>0.973247</td>\n",
       "      <td>0.026753</td>\n",
       "      <td>0.0</td>\n",
       "      <td>Metamorphic</td>\n",
       "      <td>56.0</td>\n",
       "      <td>72.1</td>\n",
       "      <td>205</td>\n",
       "      <td>380675.353544</td>\n",
       "      <td>96.305814</td>\n",
       "      <td>Relatively High</td>\n",
       "    </tr>\n",
       "    <tr>\n",
       "      <th>3</th>\n",
       "      <td>Buckweed</td>\n",
       "      <td>2007</td>\n",
       "      <td>bck</td>\n",
       "      <td>bck_235</td>\n",
       "      <td>Training</td>\n",
       "      <td>CA</td>\n",
       "      <td>0</td>\n",
       "      <td>2008-01-22</td>\n",
       "      <td>1734.72</td>\n",
       "      <td>2008-01-21 15:47:00</td>\n",
       "      <td>...</td>\n",
       "      <td>1.000000</td>\n",
       "      <td>0.000000</td>\n",
       "      <td>0.0</td>\n",
       "      <td>Metamorphic</td>\n",
       "      <td>56.0</td>\n",
       "      <td>72.1</td>\n",
       "      <td>205</td>\n",
       "      <td>380675.353544</td>\n",
       "      <td>96.305814</td>\n",
       "      <td>Relatively High</td>\n",
       "    </tr>\n",
       "    <tr>\n",
       "      <th>4</th>\n",
       "      <td>Buckweed</td>\n",
       "      <td>2007</td>\n",
       "      <td>bck</td>\n",
       "      <td>bck_363</td>\n",
       "      <td>Training</td>\n",
       "      <td>CA</td>\n",
       "      <td>0</td>\n",
       "      <td>2008-01-22</td>\n",
       "      <td>1801.04</td>\n",
       "      <td>2008-01-21 15:47:00</td>\n",
       "      <td>...</td>\n",
       "      <td>1.000000</td>\n",
       "      <td>0.000000</td>\n",
       "      <td>0.0</td>\n",
       "      <td>Metamorphic</td>\n",
       "      <td>56.0</td>\n",
       "      <td>72.1</td>\n",
       "      <td>205</td>\n",
       "      <td>380675.353544</td>\n",
       "      <td>96.305814</td>\n",
       "      <td>Relatively High</td>\n",
       "    </tr>\n",
       "  </tbody>\n",
       "</table>\n",
       "<p>5 rows × 51 columns</p>\n",
       "</div>"
      ],
      "text/plain": [
       "  fire_name  year fire_id fire_segid  database state  response   stormdate  \\\n",
       "0  Buckweed  2007     bck   bck_1035  Training    CA         0  2008-01-22   \n",
       "1  Buckweed  2007     bck   bck_1090  Training    CA         0  2008-01-22   \n",
       "2  Buckweed  2007     bck   bck_1570  Training    CA         0  2008-01-22   \n",
       "3  Buckweed  2007     bck    bck_235  Training    CA         0  2008-01-22   \n",
       "4  Buckweed  2007     bck    bck_363  Training    CA         0  2008-01-22   \n",
       "\n",
       "   gaugedist_m          stormstart  ... Metamorphic  Sedimentary  \\\n",
       "0      1998.67 2008-01-21 16:27:00  ...    1.000000     0.000000   \n",
       "1      2368.93 2008-01-21 16:27:00  ...    1.000000     0.000000   \n",
       "2      3956.74 2008-01-21 16:27:00  ...    0.973247     0.026753   \n",
       "3      1734.72 2008-01-21 15:47:00  ...    1.000000     0.000000   \n",
       "4      1801.04 2008-01-21 15:47:00  ...    1.000000     0.000000   \n",
       "\n",
       "   Unconsolidated        domrt  age_min  age_max  index_right     LNDS_RISKV  \\\n",
       "0             0.0  Metamorphic     56.0     72.1          205  380675.353544   \n",
       "1             0.0  Metamorphic     56.0     72.1          205  380675.353544   \n",
       "2             0.0  Metamorphic     56.0     72.1          205  380675.353544   \n",
       "3             0.0  Metamorphic     56.0     72.1          205  380675.353544   \n",
       "4             0.0  Metamorphic     56.0     72.1          205  380675.353544   \n",
       "\n",
       "   LNDS_RISKS       LNDS_RISKR  \n",
       "0   96.305814  Relatively High  \n",
       "1   96.305814  Relatively High  \n",
       "2   96.305814  Relatively High  \n",
       "3   96.305814  Relatively High  \n",
       "4   96.305814  Relatively High  \n",
       "\n",
       "[5 rows x 51 columns]"
      ]
     },
     "execution_count": 2,
     "metadata": {},
     "output_type": "execute_result"
    }
   ],
   "source": [
    "file_path = \"../../data/data_v06_landslide.parquet\"\n",
    "df = gpd.read_parquet(file_path)\n",
    "print('raw data -',df.shape)\n",
    "\n",
    "df.head()"
   ]
  },
  {
   "cell_type": "code",
   "execution_count": 4,
   "id": "3f4eb41e-f397-499f-b199-5db87b9d585b",
   "metadata": {
    "tags": []
   },
   "outputs": [
    {
     "name": "stdout",
     "output_type": "stream",
     "text": [
      "nan_count:\n",
      "year         0\n",
      "stormdate    0\n",
      "dtype: int64\n"
     ]
    },
    {
     "data": {
      "text/html": [
       "<div>\n",
       "<style scoped>\n",
       "    .dataframe tbody tr th:only-of-type {\n",
       "        vertical-align: middle;\n",
       "    }\n",
       "\n",
       "    .dataframe tbody tr th {\n",
       "        vertical-align: top;\n",
       "    }\n",
       "\n",
       "    .dataframe thead th {\n",
       "        text-align: right;\n",
       "    }\n",
       "</style>\n",
       "<table border=\"1\" class=\"dataframe\">\n",
       "  <thead>\n",
       "    <tr style=\"text-align: right;\">\n",
       "      <th></th>\n",
       "      <th>year</th>\n",
       "      <th>stormdate</th>\n",
       "    </tr>\n",
       "  </thead>\n",
       "  <tbody>\n",
       "    <tr>\n",
       "      <th>0</th>\n",
       "      <td>2007</td>\n",
       "      <td>2008-01-22</td>\n",
       "    </tr>\n",
       "    <tr>\n",
       "      <th>1</th>\n",
       "      <td>2007</td>\n",
       "      <td>2008-01-22</td>\n",
       "    </tr>\n",
       "    <tr>\n",
       "      <th>2</th>\n",
       "      <td>2007</td>\n",
       "      <td>2008-01-22</td>\n",
       "    </tr>\n",
       "    <tr>\n",
       "      <th>3</th>\n",
       "      <td>2007</td>\n",
       "      <td>2008-01-22</td>\n",
       "    </tr>\n",
       "    <tr>\n",
       "      <th>4</th>\n",
       "      <td>2007</td>\n",
       "      <td>2008-01-22</td>\n",
       "    </tr>\n",
       "    <tr>\n",
       "      <th>...</th>\n",
       "      <td>...</td>\n",
       "      <td>...</td>\n",
       "    </tr>\n",
       "    <tr>\n",
       "      <th>1545</th>\n",
       "      <td>2011</td>\n",
       "      <td>2011-09-07</td>\n",
       "    </tr>\n",
       "    <tr>\n",
       "      <th>1546</th>\n",
       "      <td>2011</td>\n",
       "      <td>2011-07-11</td>\n",
       "    </tr>\n",
       "    <tr>\n",
       "      <th>1547</th>\n",
       "      <td>2011</td>\n",
       "      <td>2011-07-26</td>\n",
       "    </tr>\n",
       "    <tr>\n",
       "      <th>1548</th>\n",
       "      <td>2011</td>\n",
       "      <td>2011-08-15</td>\n",
       "    </tr>\n",
       "    <tr>\n",
       "      <th>1549</th>\n",
       "      <td>2011</td>\n",
       "      <td>2011-09-07</td>\n",
       "    </tr>\n",
       "  </tbody>\n",
       "</table>\n",
       "<p>1550 rows × 2 columns</p>\n",
       "</div>"
      ],
      "text/plain": [
       "      year   stormdate\n",
       "0     2007  2008-01-22\n",
       "1     2007  2008-01-22\n",
       "2     2007  2008-01-22\n",
       "3     2007  2008-01-22\n",
       "4     2007  2008-01-22\n",
       "...    ...         ...\n",
       "1545  2011  2011-09-07\n",
       "1546  2011  2011-07-11\n",
       "1547  2011  2011-07-26\n",
       "1548  2011  2011-08-15\n",
       "1549  2011  2011-09-07\n",
       "\n",
       "[1550 rows x 2 columns]"
      ]
     },
     "execution_count": 4,
     "metadata": {},
     "output_type": "execute_result"
    }
   ],
   "source": [
    "cols = [\n",
    "    'year', # year of wildfire\n",
    "    'stormdate', # date of storm that produced debris-flow response\n",
    "]\n",
    "\n",
    "print(\"nan_count:\")\n",
    "print(df[cols].isna().sum())\n",
    "\n",
    "df[cols]"
   ]
  },
  {
   "cell_type": "markdown",
   "id": "a192efd5-691a-4ce5-9c0c-61b1061cecde",
   "metadata": {},
   "source": [
    "## encoding logic for fire interval\n",
    "\n",
    "- there are a significant number of records where the fire of record occurred *after* the debris flow. we should encode these as 1's\n",
    "- the fire data is not granular, so we only have the year of the fire even though we have the date of the storm. many fires ocurred in the same year as the debrisflow\n",
    "    - because we are subtracting simply the years, this will cause the time difference to be zero\n",
    "- the remaining records will show a time greater than to handle this, offset the years of the fire by 1"
   ]
  },
  {
   "cell_type": "code",
   "execution_count": 5,
   "id": "93005ddf-ee70-4481-8ea0-5669f604027c",
   "metadata": {
    "tags": []
   },
   "outputs": [],
   "source": [
    "df['fire_interval'] = df['year'] - pd.to_datetime(df['stormdate']).dt.year"
   ]
  },
  {
   "cell_type": "code",
   "execution_count": 7,
   "id": "801ebd01-2fd7-476c-adb3-46cda77fd36c",
   "metadata": {
    "tags": []
   },
   "outputs": [
    {
     "data": {
      "text/plain": [
       "-10     30\n",
       "-5     221\n",
       "-4     379\n",
       "-2       3\n",
       "-1     314\n",
       " 0     603\n",
       "Name: fire_interval, dtype: int64"
      ]
     },
     "execution_count": 7,
     "metadata": {},
     "output_type": "execute_result"
    }
   ],
   "source": [
    "df['fire_interval'].value_counts(dropna=False).sort_index()"
   ]
  },
  {
   "cell_type": "code",
   "execution_count": 9,
   "id": "cdf18006-f976-411a-8da5-07b1426233a5",
   "metadata": {
    "tags": []
   },
   "outputs": [],
   "source": [
    "# encode nans if present\n",
    "df['fire_interval'] = df['fire_interval'].fillna(9999)"
   ]
  },
  {
   "cell_type": "markdown",
   "id": "e01cd690-675e-48f8-8a2b-b9b7ef8fc19c",
   "metadata": {},
   "source": [
    "better would be DAYS between fire and DF. currently do not have more granular daterange for wildfire\n",
    "- proceding with broader feature to test model results"
   ]
  },
  {
   "cell_type": "code",
   "execution_count": 12,
   "id": "e4604256-b3c2-48de-a3bb-5a73af5c40fe",
   "metadata": {},
   "outputs": [
    {
     "data": {
      "text/plain": [
       "(1550, 52)"
      ]
     },
     "execution_count": 12,
     "metadata": {},
     "output_type": "execute_result"
    }
   ],
   "source": [
    "df.shape"
   ]
  },
  {
   "cell_type": "code",
   "execution_count": 13,
   "id": "41487bd5-d633-4078-8890-8c5346e2b0d6",
   "metadata": {
    "tags": []
   },
   "outputs": [],
   "source": [
    "# write out the file with fire interval in parquet format\n",
    "df.to_parquet(\"../../data/data_v07_fire_interval.parquet\")"
   ]
  },
  {
   "cell_type": "code",
   "execution_count": null,
   "id": "7824373f-c459-456e-aa75-9eb605f72b07",
   "metadata": {},
   "outputs": [],
   "source": []
  }
 ],
 "metadata": {
  "kernelspec": {
   "display_name": "Python 3 (ipykernel)",
   "language": "python",
   "name": "python3"
  },
  "language_info": {
   "codemirror_mode": {
    "name": "ipython",
    "version": 3
   },
   "file_extension": ".py",
   "mimetype": "text/x-python",
   "name": "python",
   "nbconvert_exporter": "python",
   "pygments_lexer": "ipython3",
   "version": "3.10.10"
  }
 },
 "nbformat": 4,
 "nbformat_minor": 5
}
