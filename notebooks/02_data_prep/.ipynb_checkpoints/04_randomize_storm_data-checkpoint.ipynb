{
 "cells": [
  {
   "cell_type": "markdown",
   "id": "eba5c073-41b9-44cc-b1e6-97485c34c2a2",
   "metadata": {},
   "source": [
    "# 4. Add random noise to storm data\n",
    "\n",
    "Precipitation observations in the dataset were collected from rain gages up to 4 km away from the watersheds [Staley *et al.*, 2016](https://pubs.er.usgs.gov/publication/ofr20161106), \n",
    "and only 123 unique precipitation values are present in the dataset. \n",
    "The assumption that the data are independent and identically distributed may thus not hold for this dataset. \n",
    "Random forests in particular tend to overfit to small-scale dependencies of debris flow likelihoods on precipitation data during training.  \n",
    "Nearby watersheds sharing the exact same i15 value may exhibit a similar debris flow response, and the ML algorithm effectively learns to assign a debris flow site to a group of similar sites based on the unique i15 record.\n",
    "This notebook adds random noise to the precipitation features (i15, duration, total accumulation) before the test-train split. \n",
    "The amplitude of the noise is defined to range between -10% and 10% of the recorded value."
   ]
  },
  {
   "cell_type": "code",
   "execution_count": 1,
   "id": "3ebe7d6d-f20b-4a89-bc75-76f6db8c7cdf",
   "metadata": {
    "tags": []
   },
   "outputs": [
    {
     "data": {
      "text/plain": [
       "1550"
      ]
     },
     "execution_count": 1,
     "metadata": {},
     "output_type": "execute_result"
    }
   ],
   "source": [
    "import geopandas as gpd\n",
    "inpfile=\"../../data/data_v04_rocktype.parquet\"\n",
    "modelDataI = gpd.read_parquet(inpfile)\n",
    "len(modelDataI)"
   ]
  },
  {
   "cell_type": "code",
   "execution_count": 2,
   "id": "2c6b458b-680d-48f2-8040-755109991b09",
   "metadata": {
    "tags": []
   },
   "outputs": [
    {
     "data": {
      "text/plain": [
       "database  response\n",
       "Test      0           478\n",
       "          1           133\n",
       "Training  0           738\n",
       "          1           201\n",
       "Name: database, dtype: int64"
      ]
     },
     "execution_count": 2,
     "metadata": {},
     "output_type": "execute_result"
    }
   ],
   "source": [
    "modelDataI.groupby([\"database\",\"response\"])[\"database\"].count()"
   ]
  },
  {
   "cell_type": "code",
   "execution_count": 3,
   "id": "0de9c846-f646-4f8f-bcd4-2e1b146cac8f",
   "metadata": {
    "tags": []
   },
   "outputs": [
    {
     "data": {
      "text/plain": [
       "Index(['fire_name', 'year', 'fire_id', 'fire_segid', 'database', 'state',\n",
       "       'response', 'stormdate', 'gaugedist_m', 'stormstart', 'stormend',\n",
       "       'stormdur_h', 'stormaccum_mm', 'stormavgi_mmh', 'peak_i15_mmh',\n",
       "       'peak_i30_mmh', 'peak_i60_mmh', 'contributingarea_km2', 'prophm23',\n",
       "       'dnbr1000', 'kf', 'acc015_mm', 'acc030_mm', 'acc060_mm', 'geom', 'lon',\n",
       "       'lat', 'SiteID', 'NB', 'GR', 'GS', 'SH', 'TU', 'TL', 'dom',\n",
       "       'Fine fuel load', 'SAV', 'Packing ratio', 'Extinction moisture content',\n",
       "       'Igneous', 'Metamorphic', 'Sedimentary', 'Unconsolidated', 'domrt'],\n",
       "      dtype='object')"
      ]
     },
     "execution_count": 3,
     "metadata": {},
     "output_type": "execute_result"
    }
   ],
   "source": [
    "modelDataI.columns"
   ]
  },
  {
   "cell_type": "code",
   "execution_count": 4,
   "id": "e74b4401-ab03-4c13-8f54-cb97c461ce5f",
   "metadata": {
    "tags": []
   },
   "outputs": [
    {
     "data": {
      "text/plain": [
       "['stormdur_h',\n",
       " 'stormaccum_mm',\n",
       " 'peak_i15_mmh',\n",
       " 'peak_i30_mmh',\n",
       " 'peak_i60_mmh',\n",
       " 'acc015_mm',\n",
       " 'acc030_mm',\n",
       " 'acc060_mm']"
      ]
     },
     "execution_count": 4,
     "metadata": {},
     "output_type": "execute_result"
    }
   ],
   "source": [
    "stormfeats=[]\n",
    "for feat in modelDataI.columns:\n",
    "    if feat.find(\"peak\") > -1 or feat.find(\"acc\") > -1 or feat.find(\"dur\") > -1:\n",
    "        stormfeats.append(feat)\n",
    "stormfeats"
   ]
  },
  {
   "cell_type": "markdown",
   "id": "77d342e9-ebf0-41c5-90b0-ca2765086a9e",
   "metadata": {},
   "source": [
    "Number of unique storm values:"
   ]
  },
  {
   "cell_type": "code",
   "execution_count": 5,
   "id": "7184052d-f441-40b6-8308-1370580c0b70",
   "metadata": {
    "tags": []
   },
   "outputs": [
    {
     "data": {
      "text/plain": [
       "205"
      ]
     },
     "execution_count": 5,
     "metadata": {},
     "output_type": "execute_result"
    }
   ],
   "source": [
    "len(modelDataI.dropna()[stormfeats].drop_duplicates())"
   ]
  },
  {
   "cell_type": "markdown",
   "id": "d647e130-683f-41f7-9f6d-f1a6ad2416d0",
   "metadata": {},
   "source": [
    "Number of unique precipitation values:"
   ]
  },
  {
   "cell_type": "code",
   "execution_count": 6,
   "id": "984af91b-9c99-41b5-b756-b2b43a0cab72",
   "metadata": {
    "tags": []
   },
   "outputs": [
    {
     "data": {
      "text/plain": [
       "123"
      ]
     },
     "execution_count": 6,
     "metadata": {},
     "output_type": "execute_result"
    }
   ],
   "source": [
    "len(modelDataI[\"peak_i15_mmh\"].dropna().unique())"
   ]
  },
  {
   "cell_type": "code",
   "execution_count": 7,
   "id": "9cfe5bb1-6983-44ae-b69d-0667db346154",
   "metadata": {
    "tags": []
   },
   "outputs": [
    {
     "data": {
      "text/plain": [
       "array([  3.2     ,   1.6     ,   9.14    ,   7.11    ,  53.848   ,\n",
       "         4.      ,        nan,  13.5     ,  35.56    ,   6.1     ,\n",
       "        34.54    ,  27.43    ,   8.13    ,  10.16    ,  23.37    ,\n",
       "         5.08    ,  13.21    ,  36.58    ,  15.24    ,  33.53    ,\n",
       "        19.3     ,   3.05    ,  14.22    ,  46.736   ,  39.624   ,\n",
       "        10.4     ,   9.6     ,  20.8     ,  22.4     ,  35.      ,\n",
       "        48.      ,  37.      ,  14.      ,  36.      ,  55.      ,\n",
       "        92.      ,  24.      ,  43.      ,  80.      ,  88.392   ,\n",
       "        16.256   ,  21.34    ,  22.35    ,  25.4     ,  18.29    ,\n",
       "        43.688   ,  20.32    ,  55.88    ,  11.18    ,  42.67    ,\n",
       "        46.74    ,  54.86    ,  28.448   ,  49.78    ,  32.512   ,\n",
       "        12.192   ,  79.      ,  70.      ,  52.      ,  19.      ,\n",
       "        28.      ,   9.143999,   4.06    ,  24.384   ,  12.19    ,\n",
       "        26.42    ,  19.2     ,  56.      ,  13.6     ,  51.816   ,\n",
       "        81.28    ,  30.48    ,  27.432   , 100.      ,  12.      ,\n",
       "        16.      ,  44.      ,  21.336   ,  22.352   ,  26.416   ,\n",
       "         8.128   ,  19.304   ,  13.208   ,   6.096   ,  11.176   ,\n",
       "        23.2     ,  24.8     ,  27.2     ,   8.8     ,  11.2     ,\n",
       "         4.8     ,   2.4     ,   8.      ,  72.      , 108.      ,\n",
       "        64.      , 112.      ,  18.4     ,   5.6     ,  20.      ,\n",
       "        16.8     ,  41.6     ,  15.2     ,  14.4     ,   6.4     ,\n",
       "        17.6     ,  35.2     ,  32.      ,  47.2     ,   7.2     ,\n",
       "        21.6     ,  12.8     ,  36.8     ,  77.6     ,  43.2     ,\n",
       "        68.8     ,  17.27    ,  59.944   ,  64.008   ,  40.64    ,\n",
       "       103.632   ,  63.      ,  29.      ,  25.      ])"
      ]
     },
     "execution_count": 7,
     "metadata": {},
     "output_type": "execute_result"
    }
   ],
   "source": [
    "modelDataI[\"peak_i15_mmh\"].unique()"
   ]
  },
  {
   "cell_type": "code",
   "execution_count": 8,
   "id": "2bebfdba-961e-4e8f-90ad-60741e39c8c9",
   "metadata": {
    "tags": []
   },
   "outputs": [
    {
     "data": {
      "text/plain": [
       "222"
      ]
     },
     "execution_count": 8,
     "metadata": {},
     "output_type": "execute_result"
    }
   ],
   "source": [
    "len(modelDataI[\"stormdur_h\"].unique())"
   ]
  },
  {
   "cell_type": "code",
   "execution_count": 9,
   "id": "48316517-7abb-43c8-bc12-a136e30a15b6",
   "metadata": {
    "tags": []
   },
   "outputs": [
    {
     "data": {
      "text/plain": [
       "217"
      ]
     },
     "execution_count": 9,
     "metadata": {},
     "output_type": "execute_result"
    }
   ],
   "source": [
    "len(modelDataI[\"stormaccum_mm\"].unique())"
   ]
  },
  {
   "cell_type": "markdown",
   "id": "f9f5d93d-4c81-4fcb-8b17-e4635bdf192d",
   "metadata": {},
   "source": [
    "Aggregating by number of observations where the same 15 minute precipitation intensity was recorded:"
   ]
  },
  {
   "cell_type": "code",
   "execution_count": 10,
   "id": "d8d1982a-7f1a-4c41-a3a0-f88476b44427",
   "metadata": {
    "tags": []
   },
   "outputs": [
    {
     "data": {
      "text/plain": [
       "peak_i15_mmh\n",
       "11.20    62\n",
       "8.00     45\n",
       "16.00    45\n",
       "18.40    40\n",
       "16.80    37\n",
       "5.60     34\n",
       "9.60     33\n",
       "8.80     32\n",
       "19.30    31\n",
       "3.05     31\n",
       "Name: peak_i15_mmh, dtype: int64"
      ]
     },
     "execution_count": 10,
     "metadata": {},
     "output_type": "execute_result"
    }
   ],
   "source": [
    "modelDataI.groupby(\"peak_i15_mmh\")[\"peak_i15_mmh\"].count().sort_values(ascending=False).head(n=10)"
   ]
  },
  {
   "cell_type": "code",
   "execution_count": 13,
   "id": "e6415a5f-db97-49b5-b1d8-4f138f2b93c1",
   "metadata": {
    "tags": []
   },
   "outputs": [],
   "source": [
    "import numpy as np\n",
    "np.random.seed(seed=27) # for reproducibility"
   ]
  },
  {
   "cell_type": "code",
   "execution_count": 14,
   "id": "74ade203-7ca7-4ead-953c-420a3dccacc7",
   "metadata": {
    "tags": []
   },
   "outputs": [],
   "source": [
    "def randomize(x, stdf=0.05):\n",
    "    #return np.random.normal(x, x*stdf)\n",
    "    if not np.isnan(x):\n",
    "        return np.random.uniform(x*0.9, x*1.1)\n",
    "    else:\n",
    "        return x"
   ]
  },
  {
   "cell_type": "code",
   "execution_count": 15,
   "id": "cff831f8-1761-47a9-a090-2fbb5d9569d6",
   "metadata": {
    "tags": []
   },
   "outputs": [
    {
     "data": {
      "text/plain": [
       "0.9851442821037792"
      ]
     },
     "execution_count": 15,
     "metadata": {},
     "output_type": "execute_result"
    }
   ],
   "source": [
    "randomize(1)"
   ]
  },
  {
   "cell_type": "code",
   "execution_count": 16,
   "id": "d3471770-4b59-4068-8b00-1384fae118a0",
   "metadata": {
    "tags": []
   },
   "outputs": [],
   "source": [
    "for feat in stormfeats:\n",
    "    modelDataI[feat] = modelDataI[feat].map(randomize)"
   ]
  },
  {
   "cell_type": "code",
   "execution_count": 17,
   "id": "474421fc-72a1-486a-bfbd-2dcd2badf849",
   "metadata": {
    "tags": []
   },
   "outputs": [
    {
     "data": {
      "text/plain": [
       "0    3.419289\n",
       "1    3.148600\n",
       "2    3.045470\n",
       "3    1.462495\n",
       "4    1.709037\n",
       "Name: peak_i15_mmh, dtype: float64"
      ]
     },
     "execution_count": 17,
     "metadata": {},
     "output_type": "execute_result"
    }
   ],
   "source": [
    "modelDataI[\"peak_i15_mmh\"].head()"
   ]
  },
  {
   "cell_type": "code",
   "execution_count": 19,
   "id": "c1151207-2d18-419a-9eb7-661cad1bff82",
   "metadata": {
    "tags": []
   },
   "outputs": [],
   "source": [
    "outfile=inpfile.replace('v04_rocktype.parquet', 'v05_rocktype_randn.parquet')\n",
    "#modelDataI.to_parquet(\"../../data/\" + outfile)\n",
    "modelDataI.to_parquet(outfile)"
   ]
  },
  {
   "cell_type": "code",
   "execution_count": null,
   "id": "89792509-5bb2-413f-a8c2-cfecb9b9c15f",
   "metadata": {},
   "outputs": [],
   "source": []
  }
 ],
 "metadata": {
  "kernelspec": {
   "display_name": "Python 3 (ipykernel)",
   "language": "python",
   "name": "python3"
  },
  "language_info": {
   "codemirror_mode": {
    "name": "ipython",
    "version": 3
   },
   "file_extension": ".py",
   "mimetype": "text/x-python",
   "name": "python",
   "nbconvert_exporter": "python",
   "pygments_lexer": "ipython3",
   "version": "3.10.10"
  }
 },
 "nbformat": 4,
 "nbformat_minor": 5
}
