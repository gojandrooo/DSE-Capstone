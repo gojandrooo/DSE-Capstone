{
 "cells": [
  {
   "cell_type": "markdown",
   "id": "6bb58316-4bc0-4c5d-b82f-1f40c1d7a916",
   "metadata": {},
   "source": [
    "Script is already have been retrieved from the rock type extraction notebook and placed in ../data_preparation/geological_map.\n",
    "Run this in case files are missing in data_preparation/geological_map folders to regenerate files"
   ]
  },
  {
   "cell_type": "code",
   "execution_count": 1,
   "id": "bccc07a6-966d-4a2b-9dd5-d3da952c3d0d",
   "metadata": {
    "tags": []
   },
   "outputs": [
    {
     "name": "stdout",
     "output_type": "stream",
     "text": [
      "https://mrdata.usgs.gov/geology/state/shp/NM.zip\n",
      "https://mrdata.usgs.gov/geology/state/shp/CA.zip\n",
      "https://mrdata.usgs.gov/geology/state/shp/UT.zip\n",
      "https://mrdata.usgs.gov/geology/state/shp/CO.zip\n",
      "https://mrdata.usgs.gov/geology/state/shp/MT.zip\n",
      "https://mrdata.usgs.gov/geology/state/shp/AZ.zip\n",
      "https://mrdata.usgs.gov/geology/state/shp/ID.zip\n"
     ]
    }
   ],
   "source": [
    "states=['NM', 'CA', 'UT', 'CO', 'MT', 'AZ', 'ID']\n",
    "odir = \"../../data/geological_map\"\n",
    "from os.path import isfile, isdir\n",
    "from posix import mkdir \n",
    "\n",
    "if not isdir(odir):\n",
    "    mkdir(odir)\n",
    "\n",
    "for state in states:\n",
    "    url=\"https://mrdata.usgs.gov/geology/state/shp/\" + state + \".zip\"\n",
    "    ofile=odir + \"/\" + state + \".zip\"\n",
    "    print(url)\n",
    "    if not isfile(ofile):\n",
    "        !curl -o $ofile $url \n",
    "        !unzip -d $odir $ofile"
   ]
  },
  {
   "cell_type": "code",
   "execution_count": null,
   "id": "c83a8e04-cb3a-4b7b-9f7f-7ea91fed8f2e",
   "metadata": {},
   "outputs": [],
   "source": []
  }
 ],
 "metadata": {
  "kernelspec": {
   "display_name": "Python 3 (ipykernel)",
   "language": "python",
   "name": "python3"
  },
  "language_info": {
   "codemirror_mode": {
    "name": "ipython",
    "version": 3
   },
   "file_extension": ".py",
   "mimetype": "text/x-python",
   "name": "python",
   "nbconvert_exporter": "python",
   "pygments_lexer": "ipython3",
   "version": "3.10.10"
  }
 },
 "nbformat": 4,
 "nbformat_minor": 5
}
