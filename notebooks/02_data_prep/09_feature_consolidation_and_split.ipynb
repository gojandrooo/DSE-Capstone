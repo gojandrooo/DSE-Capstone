{
 "cells": [
  {
   "cell_type": "markdown",
   "id": "92365a9e-0a29-4772-ae62-9328ba4c6f22",
   "metadata": {},
   "source": [
    "## Feature Consolidation and Split\n",
    "\n",
    "The purpose of this notebook is to consolidate a set of features and perform a seeded train-test-split for consistency on training and comparing model performance. It also creates a JSON for hyperparameters\n",
    "\n",
    "- [Conslidation](#consol)\n",
    "- [Train-Test Split](#split)\n",
    "    *- standard scaler applied here or in modeling notebook?*\n",
    "- [Model Parameters JSON](#json)"
   ]
  },
  {
   "cell_type": "code",
   "execution_count": 1,
   "id": "3f109f65-79bc-428f-9626-1769d71267f7",
   "metadata": {
    "tags": []
   },
   "outputs": [],
   "source": [
    "# assign seed now for consistency any time it needs to be used\n",
    "seed=27"
   ]
  },
  {
   "cell_type": "code",
   "execution_count": 2,
   "id": "35a964a3-b844-4bfb-8d1c-433e65c151c5",
   "metadata": {
    "tags": []
   },
   "outputs": [
    {
     "name": "stderr",
     "output_type": "stream",
     "text": [
      "/Users/bhanu/anaconda3/envs/venv_debris_flow/lib/python3.9/site-packages/geopandas/_compat.py:123: UserWarning: The Shapely GEOS version (3.10.3-CAPI-1.16.1) is incompatible with the GEOS version PyGEOS was compiled with (3.10.4-CAPI-1.16.2). Conversions between both will be slow.\n",
      "  warnings.warn(\n"
     ]
    }
   ],
   "source": [
    "import pandas as pd\n",
    "import geopandas as gpd\n",
    "#import numpy as np\n",
    "from sklearn.model_selection import train_test_split\n",
    "#from sklearn.preprocessing import StandardScaler\n",
    "import pickle"
   ]
  },
  {
   "cell_type": "code",
   "execution_count": 3,
   "id": "aa9178c3-9bf0-48d3-a952-ef8e76038e30",
   "metadata": {
    "tags": []
   },
   "outputs": [
    {
     "name": "stdout",
     "output_type": "stream",
     "text": [
      "raw data:  (1379, 49)\n",
      "drop na:  (1078, 49)\n"
     ]
    },
    {
     "data": {
      "text/html": [
       "<div>\n",
       "<style scoped>\n",
       "    .dataframe tbody tr th:only-of-type {\n",
       "        vertical-align: middle;\n",
       "    }\n",
       "\n",
       "    .dataframe tbody tr th {\n",
       "        vertical-align: top;\n",
       "    }\n",
       "\n",
       "    .dataframe thead th {\n",
       "        text-align: right;\n",
       "    }\n",
       "</style>\n",
       "<table border=\"1\" class=\"dataframe\">\n",
       "  <thead>\n",
       "    <tr style=\"text-align: right;\">\n",
       "      <th></th>\n",
       "      <th>fire_name</th>\n",
       "      <th>year</th>\n",
       "      <th>fire_id</th>\n",
       "      <th>fire_segid</th>\n",
       "      <th>database</th>\n",
       "      <th>state</th>\n",
       "      <th>response</th>\n",
       "      <th>stormdate</th>\n",
       "      <th>gaugedist_m</th>\n",
       "      <th>stormstart</th>\n",
       "      <th>...</th>\n",
       "      <th>Igneous</th>\n",
       "      <th>Metamorphic</th>\n",
       "      <th>Sedimentary</th>\n",
       "      <th>Unconsolidated</th>\n",
       "      <th>domrt</th>\n",
       "      <th>index_right</th>\n",
       "      <th>LNDS_RISKV</th>\n",
       "      <th>LNDS_RISKS</th>\n",
       "      <th>LNDS_RISKR</th>\n",
       "      <th>fire_interval</th>\n",
       "    </tr>\n",
       "  </thead>\n",
       "  <tbody>\n",
       "    <tr>\n",
       "      <th>0</th>\n",
       "      <td>Buckweed</td>\n",
       "      <td>2007</td>\n",
       "      <td>bck</td>\n",
       "      <td>bck_1035</td>\n",
       "      <td>Training</td>\n",
       "      <td>CA</td>\n",
       "      <td>0</td>\n",
       "      <td>22</td>\n",
       "      <td>1998.670000</td>\n",
       "      <td>2008-01-21 16:27:00</td>\n",
       "      <td>...</td>\n",
       "      <td>0.0</td>\n",
       "      <td>1.000000</td>\n",
       "      <td>0.000000</td>\n",
       "      <td>0.0</td>\n",
       "      <td>Metamorphic</td>\n",
       "      <td>205</td>\n",
       "      <td>380675.353544</td>\n",
       "      <td>96.305814</td>\n",
       "      <td>Relatively High</td>\n",
       "      <td>1.0</td>\n",
       "    </tr>\n",
       "    <tr>\n",
       "      <th>1</th>\n",
       "      <td>Buckweed</td>\n",
       "      <td>2007</td>\n",
       "      <td>bck</td>\n",
       "      <td>bck_1090</td>\n",
       "      <td>Training</td>\n",
       "      <td>CA</td>\n",
       "      <td>0</td>\n",
       "      <td>22</td>\n",
       "      <td>2368.930000</td>\n",
       "      <td>2008-01-21 16:27:00</td>\n",
       "      <td>...</td>\n",
       "      <td>0.0</td>\n",
       "      <td>1.000000</td>\n",
       "      <td>0.000000</td>\n",
       "      <td>0.0</td>\n",
       "      <td>Metamorphic</td>\n",
       "      <td>205</td>\n",
       "      <td>380675.353544</td>\n",
       "      <td>96.305814</td>\n",
       "      <td>Relatively High</td>\n",
       "      <td>1.0</td>\n",
       "    </tr>\n",
       "    <tr>\n",
       "      <th>2</th>\n",
       "      <td>Buckweed</td>\n",
       "      <td>2007</td>\n",
       "      <td>bck</td>\n",
       "      <td>bck_1570</td>\n",
       "      <td>Training</td>\n",
       "      <td>CA</td>\n",
       "      <td>0</td>\n",
       "      <td>22</td>\n",
       "      <td>3956.740000</td>\n",
       "      <td>2008-01-21 16:27:00</td>\n",
       "      <td>...</td>\n",
       "      <td>0.0</td>\n",
       "      <td>0.973247</td>\n",
       "      <td>0.026753</td>\n",
       "      <td>0.0</td>\n",
       "      <td>Metamorphic</td>\n",
       "      <td>205</td>\n",
       "      <td>380675.353544</td>\n",
       "      <td>96.305814</td>\n",
       "      <td>Relatively High</td>\n",
       "      <td>1.0</td>\n",
       "    </tr>\n",
       "    <tr>\n",
       "      <th>3</th>\n",
       "      <td>Buckweed</td>\n",
       "      <td>2007</td>\n",
       "      <td>bck</td>\n",
       "      <td>bck_235</td>\n",
       "      <td>Training</td>\n",
       "      <td>CA</td>\n",
       "      <td>0</td>\n",
       "      <td>22</td>\n",
       "      <td>1734.720000</td>\n",
       "      <td>2008-01-21 15:47:00</td>\n",
       "      <td>...</td>\n",
       "      <td>0.0</td>\n",
       "      <td>1.000000</td>\n",
       "      <td>0.000000</td>\n",
       "      <td>0.0</td>\n",
       "      <td>Metamorphic</td>\n",
       "      <td>205</td>\n",
       "      <td>380675.353544</td>\n",
       "      <td>96.305814</td>\n",
       "      <td>Relatively High</td>\n",
       "      <td>1.0</td>\n",
       "    </tr>\n",
       "    <tr>\n",
       "      <th>4</th>\n",
       "      <td>Buckweed</td>\n",
       "      <td>2007</td>\n",
       "      <td>bck</td>\n",
       "      <td>bck_363</td>\n",
       "      <td>Training</td>\n",
       "      <td>CA</td>\n",
       "      <td>0</td>\n",
       "      <td>22</td>\n",
       "      <td>1801.040000</td>\n",
       "      <td>2008-01-21 15:47:00</td>\n",
       "      <td>...</td>\n",
       "      <td>0.0</td>\n",
       "      <td>1.000000</td>\n",
       "      <td>0.000000</td>\n",
       "      <td>0.0</td>\n",
       "      <td>Metamorphic</td>\n",
       "      <td>205</td>\n",
       "      <td>380675.353544</td>\n",
       "      <td>96.305814</td>\n",
       "      <td>Relatively High</td>\n",
       "      <td>1.0</td>\n",
       "    </tr>\n",
       "    <tr>\n",
       "      <th>...</th>\n",
       "      <td>...</td>\n",
       "      <td>...</td>\n",
       "      <td>...</td>\n",
       "      <td>...</td>\n",
       "      <td>...</td>\n",
       "      <td>...</td>\n",
       "      <td>...</td>\n",
       "      <td>...</td>\n",
       "      <td>...</td>\n",
       "      <td>...</td>\n",
       "      <td>...</td>\n",
       "      <td>...</td>\n",
       "      <td>...</td>\n",
       "      <td>...</td>\n",
       "      <td>...</td>\n",
       "      <td>...</td>\n",
       "      <td>...</td>\n",
       "      <td>...</td>\n",
       "      <td>...</td>\n",
       "      <td>...</td>\n",
       "      <td>...</td>\n",
       "    </tr>\n",
       "    <tr>\n",
       "      <th>1530</th>\n",
       "      <td>Wallow</td>\n",
       "      <td>2011</td>\n",
       "      <td>wlw</td>\n",
       "      <td>wlw_45357</td>\n",
       "      <td>Test</td>\n",
       "      <td>AZ</td>\n",
       "      <td>0</td>\n",
       "      <td>11</td>\n",
       "      <td>67.548691</td>\n",
       "      <td>2011-07-11 14:45:00</td>\n",
       "      <td>...</td>\n",
       "      <td>1.0</td>\n",
       "      <td>0.000000</td>\n",
       "      <td>0.000000</td>\n",
       "      <td>0.0</td>\n",
       "      <td>Igneous</td>\n",
       "      <td>102</td>\n",
       "      <td>245876.108811</td>\n",
       "      <td>94.282043</td>\n",
       "      <td>Relatively Moderate</td>\n",
       "      <td>0.0</td>\n",
       "    </tr>\n",
       "    <tr>\n",
       "      <th>1534</th>\n",
       "      <td>Wallow</td>\n",
       "      <td>2011</td>\n",
       "      <td>wlw</td>\n",
       "      <td>wlw_45553</td>\n",
       "      <td>Test</td>\n",
       "      <td>AZ</td>\n",
       "      <td>0</td>\n",
       "      <td>11</td>\n",
       "      <td>143.436916</td>\n",
       "      <td>2011-07-11 14:45:00</td>\n",
       "      <td>...</td>\n",
       "      <td>1.0</td>\n",
       "      <td>0.000000</td>\n",
       "      <td>0.000000</td>\n",
       "      <td>0.0</td>\n",
       "      <td>Igneous</td>\n",
       "      <td>102</td>\n",
       "      <td>245876.108811</td>\n",
       "      <td>94.282043</td>\n",
       "      <td>Relatively Moderate</td>\n",
       "      <td>0.0</td>\n",
       "    </tr>\n",
       "    <tr>\n",
       "      <th>1538</th>\n",
       "      <td>Wallow</td>\n",
       "      <td>2011</td>\n",
       "      <td>wlw</td>\n",
       "      <td>wlw_46217</td>\n",
       "      <td>Test</td>\n",
       "      <td>AZ</td>\n",
       "      <td>1</td>\n",
       "      <td>11</td>\n",
       "      <td>955.156247</td>\n",
       "      <td>2011-07-11 14:45:00</td>\n",
       "      <td>...</td>\n",
       "      <td>1.0</td>\n",
       "      <td>0.000000</td>\n",
       "      <td>0.000000</td>\n",
       "      <td>0.0</td>\n",
       "      <td>Igneous</td>\n",
       "      <td>102</td>\n",
       "      <td>245876.108811</td>\n",
       "      <td>94.282043</td>\n",
       "      <td>Relatively Moderate</td>\n",
       "      <td>0.0</td>\n",
       "    </tr>\n",
       "    <tr>\n",
       "      <th>1542</th>\n",
       "      <td>Wallow</td>\n",
       "      <td>2011</td>\n",
       "      <td>wlw</td>\n",
       "      <td>wlw_47409</td>\n",
       "      <td>Test</td>\n",
       "      <td>AZ</td>\n",
       "      <td>1</td>\n",
       "      <td>11</td>\n",
       "      <td>2706.250000</td>\n",
       "      <td>2011-07-11 14:45:00</td>\n",
       "      <td>...</td>\n",
       "      <td>1.0</td>\n",
       "      <td>0.000000</td>\n",
       "      <td>0.000000</td>\n",
       "      <td>0.0</td>\n",
       "      <td>Igneous</td>\n",
       "      <td>102</td>\n",
       "      <td>245876.108811</td>\n",
       "      <td>94.282043</td>\n",
       "      <td>Relatively Moderate</td>\n",
       "      <td>0.0</td>\n",
       "    </tr>\n",
       "    <tr>\n",
       "      <th>1546</th>\n",
       "      <td>Wallow</td>\n",
       "      <td>2011</td>\n",
       "      <td>wlw</td>\n",
       "      <td>wlw_47535</td>\n",
       "      <td>Test</td>\n",
       "      <td>AZ</td>\n",
       "      <td>0</td>\n",
       "      <td>11</td>\n",
       "      <td>2891.750000</td>\n",
       "      <td>2011-07-11 14:45:00</td>\n",
       "      <td>...</td>\n",
       "      <td>1.0</td>\n",
       "      <td>0.000000</td>\n",
       "      <td>0.000000</td>\n",
       "      <td>0.0</td>\n",
       "      <td>Igneous</td>\n",
       "      <td>102</td>\n",
       "      <td>245876.108811</td>\n",
       "      <td>94.282043</td>\n",
       "      <td>Relatively Moderate</td>\n",
       "      <td>0.0</td>\n",
       "    </tr>\n",
       "  </tbody>\n",
       "</table>\n",
       "<p>1078 rows × 49 columns</p>\n",
       "</div>"
      ],
      "text/plain": [
       "     fire_name  year fire_id fire_segid  database state  response  stormdate  \\\n",
       "0     Buckweed  2007     bck   bck_1035  Training    CA         0         22   \n",
       "1     Buckweed  2007     bck   bck_1090  Training    CA         0         22   \n",
       "2     Buckweed  2007     bck   bck_1570  Training    CA         0         22   \n",
       "3     Buckweed  2007     bck    bck_235  Training    CA         0         22   \n",
       "4     Buckweed  2007     bck    bck_363  Training    CA         0         22   \n",
       "...        ...   ...     ...        ...       ...   ...       ...        ...   \n",
       "1530    Wallow  2011     wlw  wlw_45357      Test    AZ         0         11   \n",
       "1534    Wallow  2011     wlw  wlw_45553      Test    AZ         0         11   \n",
       "1538    Wallow  2011     wlw  wlw_46217      Test    AZ         1         11   \n",
       "1542    Wallow  2011     wlw  wlw_47409      Test    AZ         1         11   \n",
       "1546    Wallow  2011     wlw  wlw_47535      Test    AZ         0         11   \n",
       "\n",
       "      gaugedist_m          stormstart  ... Igneous  Metamorphic  Sedimentary  \\\n",
       "0     1998.670000 2008-01-21 16:27:00  ...     0.0     1.000000     0.000000   \n",
       "1     2368.930000 2008-01-21 16:27:00  ...     0.0     1.000000     0.000000   \n",
       "2     3956.740000 2008-01-21 16:27:00  ...     0.0     0.973247     0.026753   \n",
       "3     1734.720000 2008-01-21 15:47:00  ...     0.0     1.000000     0.000000   \n",
       "4     1801.040000 2008-01-21 15:47:00  ...     0.0     1.000000     0.000000   \n",
       "...           ...                 ...  ...     ...          ...          ...   \n",
       "1530    67.548691 2011-07-11 14:45:00  ...     1.0     0.000000     0.000000   \n",
       "1534   143.436916 2011-07-11 14:45:00  ...     1.0     0.000000     0.000000   \n",
       "1538   955.156247 2011-07-11 14:45:00  ...     1.0     0.000000     0.000000   \n",
       "1542  2706.250000 2011-07-11 14:45:00  ...     1.0     0.000000     0.000000   \n",
       "1546  2891.750000 2011-07-11 14:45:00  ...     1.0     0.000000     0.000000   \n",
       "\n",
       "      Unconsolidated        domrt  index_right     LNDS_RISKV  LNDS_RISKS  \\\n",
       "0                0.0  Metamorphic          205  380675.353544   96.305814   \n",
       "1                0.0  Metamorphic          205  380675.353544   96.305814   \n",
       "2                0.0  Metamorphic          205  380675.353544   96.305814   \n",
       "3                0.0  Metamorphic          205  380675.353544   96.305814   \n",
       "4                0.0  Metamorphic          205  380675.353544   96.305814   \n",
       "...              ...          ...          ...            ...         ...   \n",
       "1530             0.0      Igneous          102  245876.108811   94.282043   \n",
       "1534             0.0      Igneous          102  245876.108811   94.282043   \n",
       "1538             0.0      Igneous          102  245876.108811   94.282043   \n",
       "1542             0.0      Igneous          102  245876.108811   94.282043   \n",
       "1546             0.0      Igneous          102  245876.108811   94.282043   \n",
       "\n",
       "               LNDS_RISKR  fire_interval  \n",
       "0         Relatively High            1.0  \n",
       "1         Relatively High            1.0  \n",
       "2         Relatively High            1.0  \n",
       "3         Relatively High            1.0  \n",
       "4         Relatively High            1.0  \n",
       "...                   ...            ...  \n",
       "1530  Relatively Moderate            0.0  \n",
       "1534  Relatively Moderate            0.0  \n",
       "1538  Relatively Moderate            0.0  \n",
       "1542  Relatively Moderate            0.0  \n",
       "1546  Relatively Moderate            0.0  \n",
       "\n",
       "[1078 rows x 49 columns]"
      ]
     },
     "execution_count": 3,
     "metadata": {},
     "output_type": "execute_result"
    }
   ],
   "source": [
    "file_path = \"../../data/data_v08_fire_interval.parquet\"\n",
    "df = gpd.read_parquet(file_path)\n",
    "print('raw data: ',df.shape)\n",
    "df = df.dropna()\n",
    "print('drop na: ',df.shape)\n",
    "df"
   ]
  },
  {
   "cell_type": "markdown",
   "id": "ffc82f55-2dfa-4bbd-98f0-834af6605553",
   "metadata": {},
   "source": [
    "## Feature Consolidation <a id=\"consol\">"
   ]
  },
  {
   "cell_type": "markdown",
   "id": "2d0821dc-8f83-4261-b434-f9c3ad0dac4b",
   "metadata": {},
   "source": [
    "Sedimentary and Unconsolidated rocks have similar debris flow occurrences.\n",
    "\n",
    "Define additional features:\n",
    "-  `SedUn`: fraction of watershed covered by sedimentary and unconsolidated rocks.\n",
    "- `SuscFrac`: fraction of watershed covered by susceptible vegetation types (everything except grassland, `GR`"
   ]
  },
  {
   "cell_type": "code",
   "execution_count": 4,
   "id": "eaa954ec-1d29-4f3c-8c3c-20a285f573fe",
   "metadata": {
    "tags": []
   },
   "outputs": [],
   "source": [
    "df[\"SedUn\"] = df[\"Sedimentary\"] + df[\"Unconsolidated\"]\n",
    "df[\"SuscFrac\"] = df[\"GS\"] + df[\"SH\"] + df[\"TL\"] + df[\"TU\"]"
   ]
  },
  {
   "cell_type": "code",
   "execution_count": 5,
   "id": "cac1259a-2930-4642-9ff2-b5a16f8874e5",
   "metadata": {
    "tags": []
   },
   "outputs": [],
   "source": [
    "# df.loc[0,:]"
   ]
  },
  {
   "cell_type": "code",
   "execution_count": 6,
   "id": "cd09c408-c162-4d05-a350-450df88ea3e3",
   "metadata": {
    "tags": []
   },
   "outputs": [],
   "source": [
    "use_cols = [\n",
    "    'SiteID', # will ultimately be needed for joining    \n",
    "    'fire_id',\n",
    "    'fire_name',\n",
    "    'fire_segid',\n",
    "    'year',\n",
    "    'state',\n",
    "    #'database', # original staley train/test\n",
    "    'response',\n",
    "    'stormdate',\n",
    "    'gaugedist_m',\n",
    "    'lat',\n",
    "    'lon',\n",
    "    'geom',\n",
    "    #'geometry', # this get's lost along the way, need to go back, best to retain this feature so we're not joining later\n",
    "]"
   ]
  },
  {
   "cell_type": "code",
   "execution_count": 7,
   "id": "1c8f2c85-b796-498d-89e7-b61d817fecec",
   "metadata": {
    "tags": []
   },
   "outputs": [],
   "source": [
    "feature_cols = [\n",
    "    'peak_i15_mmh',\n",
    "    # 'peak_i30_mmh', \n",
    "    # 'peak_i60_mmh', \n",
    "    'contributingarea_km2', \n",
    "    'prophm23',\n",
    "    'dnbr1000', \n",
    "    'kf', \n",
    "    #'acc015_mm', \n",
    "    # 'acc030_mm', \n",
    "    # 'acc060_mm', \n",
    "    'Fine fuel load', \n",
    "    'SAV', \n",
    "    'Packing ratio', \n",
    "    'Extinction moisture content',\n",
    "    'LNDS_RISKS',\n",
    "    'fire_interval',\n",
    "    'SedUn',\n",
    "    'SuscFrac',\n",
    "]"
   ]
  },
  {
   "cell_type": "code",
   "execution_count": 8,
   "id": "54349ab0-d64f-40b5-bb40-d081a35e577a",
   "metadata": {
    "tags": []
   },
   "outputs": [
    {
     "data": {
      "text/plain": [
       "['SiteID',\n",
       " 'fire_id',\n",
       " 'fire_name',\n",
       " 'fire_segid',\n",
       " 'year',\n",
       " 'state',\n",
       " 'response',\n",
       " 'stormdate',\n",
       " 'gaugedist_m',\n",
       " 'lat',\n",
       " 'lon',\n",
       " 'geom',\n",
       " 'peak_i15_mmh',\n",
       " 'contributingarea_km2',\n",
       " 'prophm23',\n",
       " 'dnbr1000',\n",
       " 'kf',\n",
       " 'Fine fuel load',\n",
       " 'SAV',\n",
       " 'Packing ratio',\n",
       " 'Extinction moisture content',\n",
       " 'LNDS_RISKS',\n",
       " 'fire_interval',\n",
       " 'SedUn',\n",
       " 'SuscFrac']"
      ]
     },
     "execution_count": 8,
     "metadata": {},
     "output_type": "execute_result"
    }
   ],
   "source": [
    "use_cols + feature_cols"
   ]
  },
  {
   "cell_type": "code",
   "execution_count": 9,
   "id": "7f39f1b6-18d7-463c-a49c-8a65db9e3bae",
   "metadata": {
    "tags": []
   },
   "outputs": [],
   "source": [
    "df = df[use_cols + feature_cols]\n",
    "df.to_parquet('../../data/data_v09_feature_consolidation.parquet')\n"
   ]
  },
  {
   "cell_type": "markdown",
   "id": "dd5b2b3b-53d1-4313-88b2-90a7998cea1f",
   "metadata": {},
   "source": [
    "## Train-Test Split <a id=\"split\">"
   ]
  },
  {
   "cell_type": "markdown",
   "id": "303c1d3c-7167-43f5-8d75-ede63ae53b3f",
   "metadata": {},
   "source": [
    "Data rows are split by SiteID, such that observations made at same site (during different storms) are not assigned to the both the test and training set.\n",
    "The `unique` attribute is, therefore, essential - otherwise the split of train and test data by site is not guaranteed."
   ]
  },
  {
   "cell_type": "code",
   "execution_count": 10,
   "id": "6a88fde0-9386-4a1d-813c-de4fc40db12d",
   "metadata": {
    "tags": []
   },
   "outputs": [],
   "source": [
    "train_sites, test_sites = train_test_split(df['SiteID'].unique(), test_size=0.20, shuffle=True, random_state=seed)"
   ]
  },
  {
   "cell_type": "code",
   "execution_count": 11,
   "id": "f61b45d8-bdd8-40ea-b16f-5121d9b93b42",
   "metadata": {
    "tags": []
   },
   "outputs": [
    {
     "data": {
      "text/plain": [
       "set()"
      ]
     },
     "execution_count": 11,
     "metadata": {},
     "output_type": "execute_result"
    }
   ],
   "source": [
    "# no overlap\n",
    "set(train_sites).intersection(set(test_sites))"
   ]
  },
  {
   "cell_type": "code",
   "execution_count": 12,
   "id": "298591e4-2f66-46a5-9806-fc3da715eed2",
   "metadata": {
    "tags": []
   },
   "outputs": [],
   "source": [
    "# how to retain the non-feature/response cols\n",
    "# could join back in later? think through this\n",
    "\n",
    "train_mask = df['SiteID'].isin(train_sites)\n",
    "test_mask = df['SiteID'].isin(test_sites)"
   ]
  },
  {
   "cell_type": "code",
   "execution_count": 13,
   "id": "0f0defd9-cbf9-459c-a2b5-b29277312111",
   "metadata": {
    "tags": []
   },
   "outputs": [],
   "source": [
    "X_train = df.loc[train_mask, feature_cols]\n",
    "X_test = df.loc[test_mask, feature_cols]\n",
    "\n",
    "y_train = df.loc[train_mask, 'response']\n",
    "y_test = df.loc[test_mask, 'response']"
   ]
  },
  {
   "cell_type": "code",
   "execution_count": 14,
   "id": "8553b4df-3c2e-4a6b-aeee-f4e423d74947",
   "metadata": {
    "tags": []
   },
   "outputs": [
    {
     "name": "stdout",
     "output_type": "stream",
     "text": [
      "X_train:  (863, 13)\n",
      "X_test:  (215, 13)\n",
      "\n",
      "\n",
      "y_train:  (863,)\n",
      "y_test:  (215,)\n"
     ]
    }
   ],
   "source": [
    "print(\"X_train: \", X_train.shape)\n",
    "print(\"X_test: \", X_test.shape)\n",
    "print(\"\\n\")\n",
    "print(\"y_train: \", y_train.shape)\n",
    "print(\"y_test: \", y_test.shape)"
   ]
  },
  {
   "cell_type": "code",
   "execution_count": 15,
   "id": "6774bc90-4dae-49bb-92a3-b4cd8e2e9700",
   "metadata": {
    "tags": []
   },
   "outputs": [],
   "source": [
    "pickle.dump([X_train, X_test, y_train, y_test], open(\"../../data/train_test_data.pkl\", \"wb\"))"
   ]
  },
  {
   "cell_type": "code",
   "execution_count": null,
   "id": "d6759d2c-d6bf-4deb-acb6-b5069e6949ee",
   "metadata": {},
   "outputs": [],
   "source": []
  },
  {
   "cell_type": "markdown",
   "id": "221be40b-ca75-4ca8-89be-88ef90621aa4",
   "metadata": {},
   "source": [
    "## Model Parameters <a id=\"json\">\n",
    "    \n",
    "create an json file that we will add to in model tuning steps\n",
    "    - check if it already exists first so we don't overwrite"
   ]
  },
  {
   "cell_type": "code",
   "execution_count": 26,
   "id": "b60e748f-37b5-47d1-81e7-c445acfd3e16",
   "metadata": {
    "tags": []
   },
   "outputs": [],
   "source": [
    "import os\n",
    "import json"
   ]
  },
  {
   "cell_type": "code",
   "execution_count": 27,
   "id": "e425192f-737a-4947-bab3-307afd107205",
   "metadata": {
    "tags": []
   },
   "outputs": [
    {
     "name": "stdout",
     "output_type": "stream",
     "text": [
      "created empty json file\n"
     ]
    }
   ],
   "source": [
    "file_path = \"../../model/model_parameters.json\"\n",
    "if os.path.isfile(file_path) == True:\n",
    "    print(\"parameter json already exists\")\n",
    "else:\n",
    "    print(\"created empty json file\")\n",
    "    model_params = {} # create empty dict\n",
    "    with open(file_path, \"w\") as json_file:\n",
    "        json.dump(model_params, json_file)"
   ]
  },
  {
   "cell_type": "code",
   "execution_count": null,
   "id": "6ecae1cd-5c09-48a3-b23f-118872713310",
   "metadata": {},
   "outputs": [],
   "source": []
  }
 ],
 "metadata": {
  "kernelspec": {
   "display_name": "venv_debris_flow",
   "language": "python",
   "name": "venv_debris_flow"
  },
  "language_info": {
   "codemirror_mode": {
    "name": "ipython",
    "version": 3
   },
   "file_extension": ".py",
   "mimetype": "text/x-python",
   "name": "python",
   "nbconvert_exporter": "python",
   "pygments_lexer": "ipython3",
   "version": "3.9.16"
  }
 },
 "nbformat": 4,
 "nbformat_minor": 5
}
