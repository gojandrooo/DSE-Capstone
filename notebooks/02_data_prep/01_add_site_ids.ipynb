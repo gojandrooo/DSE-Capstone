{
 "cells": [
  {
   "cell_type": "markdown",
   "id": "a8027bec-c6ee-41b4-b6e9-e8865deb80f6",
   "metadata": {},
   "source": [
    "# 1. Data preparation and adding unique site identifier\n",
    "\n",
    "This notebook downloads the raw Staley et al. (2016) Excel file and\n",
    "\n",
    "- loads it into a Pandas dataframe\n",
    "- converts all coordinates from UTM (different projections) to WGS84\n",
    "- stores the site location as Shapely point and represents the table as Geopandas dataframe\n",
    "- adds a column with a unique site identifier for each debris flow record\n",
    "- saves the result as parquet file."
   ]
  },
  {
   "cell_type": "markdown",
   "id": "30efefb4-cc28-4955-8dc8-1b1310c8d0b5",
   "metadata": {},
   "source": [
    "Download Staley et al. (2016) dataset:"
   ]
  },
  {
   "cell_type": "code",
   "execution_count": 1,
   "id": "8e6bb9a6-8809-456d-9c1d-a6752a9853d7",
   "metadata": {
    "tags": []
   },
   "outputs": [],
   "source": [
    "import requests\n",
    "from os.path import basename, join\n",
    "import pandas as pd"
   ]
  },
  {
   "cell_type": "code",
   "execution_count": 2,
   "id": "2699a450-7821-432e-9ff3-d64ca3356eb6",
   "metadata": {
    "tags": []
   },
   "outputs": [],
   "source": [
    "url=\"https://pubs.usgs.gov/of/2016/1106/ofr20161106_appx-1.xlsx\"\n",
    "xlsfile=basename(url)"
   ]
  },
  {
   "cell_type": "markdown",
   "id": "d9efec35-5d07-4430-8d67-7f868cc21baf",
   "metadata": {},
   "source": [
    "Download and save the data:"
   ]
  },
  {
   "cell_type": "code",
   "execution_count": 3,
   "id": "79a26555-6b8a-4c6e-8139-ea5cba9a5e50",
   "metadata": {
    "tags": []
   },
   "outputs": [],
   "source": [
    "with open(join(\"../../data/\", xlsfile),\"wb\") as fid:\n",
    "    fid.write(requests.get(url).content)"
   ]
  },
  {
   "cell_type": "markdown",
   "id": "e6b0a204-f3f6-441c-a4ba-cbedec3fd64f",
   "metadata": {},
   "source": [
    "Read data into memory:"
   ]
  },
  {
   "cell_type": "code",
   "execution_count": 4,
   "id": "df038639-ee9b-44d7-876c-a04d7bb8d977",
   "metadata": {
    "tags": []
   },
   "outputs": [],
   "source": [
    "xl=pd.ExcelFile(\"../../data/ofr20161106_appx-1.xlsx\")\n",
    "desc=xl.parse(xl.sheet_names[0])\n",
    "modelData=xl.parse(xl.sheet_names[1])"
   ]
  },
  {
   "cell_type": "markdown",
   "id": "adbe7000-4b7e-46d7-acaf-a2bb30864790",
   "metadata": {},
   "source": [
    "The first table sheet contains column descriptions:"
   ]
  },
  {
   "cell_type": "code",
   "execution_count": 5,
   "id": "ecb86dad-e114-4b20-a614-7a67f9236250",
   "metadata": {
    "tags": []
   },
   "outputs": [
    {
     "data": {
      "text/html": [
       "<div>\n",
       "<style scoped>\n",
       "    .dataframe tbody tr th:only-of-type {\n",
       "        vertical-align: middle;\n",
       "    }\n",
       "\n",
       "    .dataframe tbody tr th {\n",
       "        vertical-align: top;\n",
       "    }\n",
       "\n",
       "    .dataframe thead th {\n",
       "        text-align: right;\n",
       "    }\n",
       "</style>\n",
       "<table border=\"1\" class=\"dataframe\">\n",
       "  <thead>\n",
       "    <tr style=\"text-align: right;\">\n",
       "      <th></th>\n",
       "      <th>U.S. Geological Survey Open-File Report 2016-1106</th>\n",
       "      <th>Unnamed: 1</th>\n",
       "    </tr>\n",
       "  </thead>\n",
       "  <tbody>\n",
       "    <tr>\n",
       "      <th>0</th>\n",
       "      <td>Appendix 1. Data supporting logistic regressio...</td>\n",
       "      <td>NaN</td>\n",
       "    </tr>\n",
       "    <tr>\n",
       "      <th>1</th>\n",
       "      <td>[ID, identifier (in heading); UTM, Universal T...</td>\n",
       "      <td>NaN</td>\n",
       "    </tr>\n",
       "    <tr>\n",
       "      <th>2</th>\n",
       "      <td>NaN</td>\n",
       "      <td>NaN</td>\n",
       "    </tr>\n",
       "    <tr>\n",
       "      <th>3</th>\n",
       "      <td>Column Header</td>\n",
       "      <td>Description</td>\n",
       "    </tr>\n",
       "    <tr>\n",
       "      <th>4</th>\n",
       "      <td>Fire Name</td>\n",
       "      <td>Name of wildfire</td>\n",
       "    </tr>\n",
       "  </tbody>\n",
       "</table>\n",
       "</div>"
      ],
      "text/plain": [
       "   U.S. Geological Survey Open-File Report 2016-1106        Unnamed: 1\n",
       "0  Appendix 1. Data supporting logistic regressio...               NaN\n",
       "1  [ID, identifier (in heading); UTM, Universal T...               NaN\n",
       "2                                                NaN               NaN\n",
       "3                                      Column Header       Description\n",
       "4                                          Fire Name  Name of wildfire"
      ]
     },
     "execution_count": 5,
     "metadata": {},
     "output_type": "execute_result"
    }
   ],
   "source": [
    "desc.head()"
   ]
  },
  {
   "cell_type": "code",
   "execution_count": 6,
   "id": "3cadc0f1-63e6-43af-a3c8-8c74740a12ea",
   "metadata": {
    "tags": []
   },
   "outputs": [
    {
     "name": "stderr",
     "output_type": "stream",
     "text": [
      "/opt/conda/lib/python3.10/site-packages/geopandas/_compat.py:123: UserWarning: The Shapely GEOS version (3.10.3-CAPI-1.16.1) is incompatible with the GEOS version PyGEOS was compiled with (3.10.4-CAPI-1.16.2). Conversions between both will be slow.\n",
      "  warnings.warn(\n"
     ]
    }
   ],
   "source": [
    "from shapely.geometry import point\n",
    "import geopandas as gpd"
   ]
  },
  {
   "cell_type": "markdown",
   "id": "cc93b643-1b33-480b-b304-5ed5159938fd",
   "metadata": {},
   "source": [
    "Defines function that creates shapely point from each set of `UTM_Zone`, `UTM_X` and `UTM_Y`.  Complicated due to having different UTM zones.  The function `GeoPandas.points_from_xy` can be used alternatively to avoid the warning about the Shapely array interface."
   ]
  },
  {
   "cell_type": "code",
   "execution_count": 7,
   "id": "d5ecfc47-5269-48f2-89b1-e43afa3edfee",
   "metadata": {
    "tags": []
   },
   "outputs": [
    {
     "name": "stderr",
     "output_type": "stream",
     "text": [
      "/opt/conda/lib/python3.10/site-packages/pandas/core/dtypes/cast.py:122: ShapelyDeprecationWarning: The array interface is deprecated and will no longer work in Shapely 2.0. Convert the '.coords' to a numpy array instead.\n",
      "  arr = construct_1d_object_array_from_listlike(values)\n"
     ]
    }
   ],
   "source": [
    "from pyproj import Proj\n",
    "\n",
    "\n",
    "def utm2point(val):\n",
    "    \n",
    "    myproj = Proj(proj=\"utm\", zone=int(val[0]), ellps=\"WGS84\")\n",
    "    \n",
    "    lon,lat=myproj(val[1], val[2], inverse=True)\n",
    "    \n",
    "    \n",
    "    return point.Point(lon,lat)\n",
    "    \n",
    "\n",
    "modelData[\"geom\"]=modelData.loc[:,[\"UTM_Zone\",\"UTM_X\",\"UTM_Y\"]].apply(utm2point, axis=1)"
   ]
  },
  {
   "cell_type": "markdown",
   "id": "7640e1bd-9fef-47f2-af2a-57621d279bee",
   "metadata": {},
   "source": [
    "Save table as GeoDataFrame with WGS84 CRS [4326](https://epsg.io/4326), dropping UTM info:"
   ]
  },
  {
   "cell_type": "code",
   "execution_count": 8,
   "id": "22db6cdb-4672-489f-9bde-4d1b3394abed",
   "metadata": {
    "tags": []
   },
   "outputs": [],
   "source": [
    "geomData=gpd.GeoDataFrame(modelData.drop(columns=[\"UTM_Zone\",\"UTM_X\",\"UTM_Y\"]), \n",
    "                                         crs=\"EPSG:4326\", geometry=\"geom\")"
   ]
  },
  {
   "cell_type": "markdown",
   "id": "35c4af03-355e-4bd2-9206-578e3142830d",
   "metadata": {},
   "source": [
    "Transform column names to lowercase, easier for use in PostGRES later:"
   ]
  },
  {
   "cell_type": "code",
   "execution_count": 9,
   "id": "aae0fdcd-88ad-4a3b-9139-3bc1b375b74f",
   "metadata": {
    "tags": []
   },
   "outputs": [],
   "source": [
    "cols=[a.lower() for a in geomData.columns]\n",
    "cols[0]=\"fire_name\"\n",
    "coln=[a.replace(\"/\",\"\") for a in cols]\n",
    "geomData.columns=coln"
   ]
  },
  {
   "cell_type": "markdown",
   "id": "5c728205-9121-4c26-9604-fbcd71e47af1",
   "metadata": {},
   "source": [
    "Save latitude and longitude in separate columns (although already included in geometry column):"
   ]
  },
  {
   "cell_type": "code",
   "execution_count": 10,
   "id": "46ac0b22-1f93-4487-bd65-1561831a9671",
   "metadata": {
    "tags": []
   },
   "outputs": [],
   "source": [
    "geomData[\"lon\"] = geomData[\"geom\"].x\n",
    "geomData[\"lat\"] = geomData[\"geom\"].y"
   ]
  },
  {
   "cell_type": "code",
   "execution_count": 11,
   "id": "d00e9a0b-957b-4ee3-9e77-aea890d52ee8",
   "metadata": {
    "tags": []
   },
   "outputs": [
    {
     "data": {
      "text/html": [
       "<div>\n",
       "<style scoped>\n",
       "    .dataframe tbody tr th:only-of-type {\n",
       "        vertical-align: middle;\n",
       "    }\n",
       "\n",
       "    .dataframe tbody tr th {\n",
       "        vertical-align: top;\n",
       "    }\n",
       "\n",
       "    .dataframe thead th {\n",
       "        text-align: right;\n",
       "    }\n",
       "</style>\n",
       "<table border=\"1\" class=\"dataframe\">\n",
       "  <thead>\n",
       "    <tr style=\"text-align: right;\">\n",
       "      <th></th>\n",
       "      <th>fire_name</th>\n",
       "      <th>year</th>\n",
       "      <th>fire_id</th>\n",
       "      <th>fire_segid</th>\n",
       "      <th>database</th>\n",
       "      <th>state</th>\n",
       "      <th>response</th>\n",
       "      <th>stormdate</th>\n",
       "      <th>gaugedist_m</th>\n",
       "      <th>stormstart</th>\n",
       "      <th>...</th>\n",
       "      <th>prophm23</th>\n",
       "      <th>dnbr1000</th>\n",
       "      <th>kf</th>\n",
       "      <th>acc015_mm</th>\n",
       "      <th>acc030_mm</th>\n",
       "      <th>acc060_mm</th>\n",
       "      <th>geom</th>\n",
       "      <th>lon</th>\n",
       "      <th>lat</th>\n",
       "      <th>SiteID</th>\n",
       "    </tr>\n",
       "  </thead>\n",
       "  <tbody>\n",
       "    <tr>\n",
       "      <th>1545</th>\n",
       "      <td>Wallow</td>\n",
       "      <td>2011</td>\n",
       "      <td>wlw</td>\n",
       "      <td>wlw_47409</td>\n",
       "      <td>Test</td>\n",
       "      <td>AZ</td>\n",
       "      <td>0</td>\n",
       "      <td>2011-09-07 00:00:00</td>\n",
       "      <td>2706.25</td>\n",
       "      <td>2011-09-07 15:00:00</td>\n",
       "      <td>...</td>\n",
       "      <td>0.009801</td>\n",
       "      <td>0.187053</td>\n",
       "      <td>0.0</td>\n",
       "      <td>3.50</td>\n",
       "      <td>4.0</td>\n",
       "      <td>NaN</td>\n",
       "      <td>POINT (-109.26694 33.65498)</td>\n",
       "      <td>-109.266936</td>\n",
       "      <td>33.654978</td>\n",
       "      <td>714</td>\n",
       "    </tr>\n",
       "    <tr>\n",
       "      <th>1546</th>\n",
       "      <td>Wallow</td>\n",
       "      <td>2011</td>\n",
       "      <td>wlw</td>\n",
       "      <td>wlw_47535</td>\n",
       "      <td>Test</td>\n",
       "      <td>AZ</td>\n",
       "      <td>0</td>\n",
       "      <td>2011-07-11 00:00:00</td>\n",
       "      <td>2891.75</td>\n",
       "      <td>2011-07-11 14:45:00</td>\n",
       "      <td>...</td>\n",
       "      <td>0.001571</td>\n",
       "      <td>0.500223</td>\n",
       "      <td>0.0</td>\n",
       "      <td>15.75</td>\n",
       "      <td>27.0</td>\n",
       "      <td>39.0</td>\n",
       "      <td>POINT (-109.27256 33.65397)</td>\n",
       "      <td>-109.272564</td>\n",
       "      <td>33.653975</td>\n",
       "      <td>715</td>\n",
       "    </tr>\n",
       "    <tr>\n",
       "      <th>1547</th>\n",
       "      <td>Wallow</td>\n",
       "      <td>2011</td>\n",
       "      <td>wlw</td>\n",
       "      <td>wlw_47535</td>\n",
       "      <td>Test</td>\n",
       "      <td>AZ</td>\n",
       "      <td>0</td>\n",
       "      <td>2011-07-26 00:00:00</td>\n",
       "      <td>2891.75</td>\n",
       "      <td>2011-07-26 10:45:00</td>\n",
       "      <td>...</td>\n",
       "      <td>0.001571</td>\n",
       "      <td>0.500223</td>\n",
       "      <td>0.0</td>\n",
       "      <td>7.25</td>\n",
       "      <td>8.0</td>\n",
       "      <td>NaN</td>\n",
       "      <td>POINT (-109.27256 33.65397)</td>\n",
       "      <td>-109.272564</td>\n",
       "      <td>33.653975</td>\n",
       "      <td>715</td>\n",
       "    </tr>\n",
       "    <tr>\n",
       "      <th>1548</th>\n",
       "      <td>Wallow</td>\n",
       "      <td>2011</td>\n",
       "      <td>wlw</td>\n",
       "      <td>wlw_47535</td>\n",
       "      <td>Test</td>\n",
       "      <td>AZ</td>\n",
       "      <td>0</td>\n",
       "      <td>2011-08-15 00:00:00</td>\n",
       "      <td>2891.75</td>\n",
       "      <td>2011-08-15 11:00:00</td>\n",
       "      <td>...</td>\n",
       "      <td>0.001571</td>\n",
       "      <td>0.500223</td>\n",
       "      <td>0.0</td>\n",
       "      <td>6.25</td>\n",
       "      <td>8.0</td>\n",
       "      <td>NaN</td>\n",
       "      <td>POINT (-109.27256 33.65397)</td>\n",
       "      <td>-109.272564</td>\n",
       "      <td>33.653975</td>\n",
       "      <td>715</td>\n",
       "    </tr>\n",
       "    <tr>\n",
       "      <th>1549</th>\n",
       "      <td>Wallow</td>\n",
       "      <td>2011</td>\n",
       "      <td>wlw</td>\n",
       "      <td>wlw_47535</td>\n",
       "      <td>Test</td>\n",
       "      <td>AZ</td>\n",
       "      <td>0</td>\n",
       "      <td>2011-09-07 00:00:00</td>\n",
       "      <td>2891.75</td>\n",
       "      <td>2011-09-07 15:00:00</td>\n",
       "      <td>...</td>\n",
       "      <td>0.001571</td>\n",
       "      <td>0.500223</td>\n",
       "      <td>0.0</td>\n",
       "      <td>3.50</td>\n",
       "      <td>4.0</td>\n",
       "      <td>NaN</td>\n",
       "      <td>POINT (-109.27256 33.65397)</td>\n",
       "      <td>-109.272564</td>\n",
       "      <td>33.653975</td>\n",
       "      <td>715</td>\n",
       "    </tr>\n",
       "  </tbody>\n",
       "</table>\n",
       "<p>5 rows × 28 columns</p>\n",
       "</div>"
      ],
      "text/plain": [
       "     fire_name  year fire_id fire_segid database state  response  \\\n",
       "1545    Wallow  2011     wlw  wlw_47409     Test    AZ         0   \n",
       "1546    Wallow  2011     wlw  wlw_47535     Test    AZ         0   \n",
       "1547    Wallow  2011     wlw  wlw_47535     Test    AZ         0   \n",
       "1548    Wallow  2011     wlw  wlw_47535     Test    AZ         0   \n",
       "1549    Wallow  2011     wlw  wlw_47535     Test    AZ         0   \n",
       "\n",
       "                stormdate  gaugedist_m          stormstart  ...  prophm23  \\\n",
       "1545  2011-09-07 00:00:00      2706.25 2011-09-07 15:00:00  ...  0.009801   \n",
       "1546  2011-07-11 00:00:00      2891.75 2011-07-11 14:45:00  ...  0.001571   \n",
       "1547  2011-07-26 00:00:00      2891.75 2011-07-26 10:45:00  ...  0.001571   \n",
       "1548  2011-08-15 00:00:00      2891.75 2011-08-15 11:00:00  ...  0.001571   \n",
       "1549  2011-09-07 00:00:00      2891.75 2011-09-07 15:00:00  ...  0.001571   \n",
       "\n",
       "      dnbr1000   kf  acc015_mm  acc030_mm  acc060_mm  \\\n",
       "1545  0.187053  0.0       3.50        4.0        NaN   \n",
       "1546  0.500223  0.0      15.75       27.0       39.0   \n",
       "1547  0.500223  0.0       7.25        8.0        NaN   \n",
       "1548  0.500223  0.0       6.25        8.0        NaN   \n",
       "1549  0.500223  0.0       3.50        4.0        NaN   \n",
       "\n",
       "                             geom         lon        lat  SiteID  \n",
       "1545  POINT (-109.26694 33.65498) -109.266936  33.654978     714  \n",
       "1546  POINT (-109.27256 33.65397) -109.272564  33.653975     715  \n",
       "1547  POINT (-109.27256 33.65397) -109.272564  33.653975     715  \n",
       "1548  POINT (-109.27256 33.65397) -109.272564  33.653975     715  \n",
       "1549  POINT (-109.27256 33.65397) -109.272564  33.653975     715  \n",
       "\n",
       "[5 rows x 28 columns]"
      ]
     },
     "execution_count": 11,
     "metadata": {},
     "output_type": "execute_result"
    }
   ],
   "source": [
    "sitelocs=geomData[[\"lon\",\"lat\"]].drop_duplicates().copy()\n",
    "sitelocs.reset_index(inplace=True, drop=True)\n",
    "sitelocs.reset_index(inplace=True)\n",
    "ncols=list(sitelocs.columns)\n",
    "ncols[0]=\"SiteID\"\n",
    "sitelocs.columns=ncols\n",
    "\n",
    "#carrying out an inner join based on the UTM coordinates\n",
    "modelDataI=geomData.merge(sitelocs, left_on=[\"lon\", \"lat\"], right_on=[\"lon\",\"lat\"])\n",
    "modelDataI.tail()"
   ]
  },
  {
   "cell_type": "markdown",
   "id": "c382b315-2f7a-4c9a-a269-fbfce262546c",
   "metadata": {},
   "source": [
    "The parquet format complains about some of the stormdate entries.  Finding those that are not of type `datetime`:"
   ]
  },
  {
   "cell_type": "code",
   "execution_count": 12,
   "id": "3bf6e88a-2355-4195-887a-6437bbb9652c",
   "metadata": {
    "tags": []
   },
   "outputs": [
    {
     "data": {
      "text/plain": [
       "622    9/10-9/12/2002\n",
       "626    9/10-9/12/2002\n",
       "627    9/10-9/12/2002\n",
       "632    9/10-9/12/2002\n",
       "635    9/10-9/12/2002\n",
       "Name: stormdate, dtype: object"
      ]
     },
     "execution_count": 12,
     "metadata": {},
     "output_type": "execute_result"
    }
   ],
   "source": [
    "sel=modelDataI[\"stormdate\"].apply(lambda x: type(x) == str)\n",
    "modelDataI.loc[sel,\"stormdate\"]"
   ]
  },
  {
   "cell_type": "code",
   "execution_count": 13,
   "id": "e88b9c73-b2d1-4ca2-ae02-07f0821acfa4",
   "metadata": {
    "tags": []
   },
   "outputs": [],
   "source": [
    "import datetime"
   ]
  },
  {
   "cell_type": "code",
   "execution_count": 14,
   "id": "6c84f58c-4fb3-4f16-86e1-1e7595b84622",
   "metadata": {
    "tags": []
   },
   "outputs": [],
   "source": [
    "adate=datetime.date(2006,5,26)"
   ]
  },
  {
   "cell_type": "code",
   "execution_count": 15,
   "id": "a47e1412-19d9-4311-8b13-2813dc79070e",
   "metadata": {
    "tags": []
   },
   "outputs": [],
   "source": [
    "atime=datetime.datetime(2006,5,26, 23, 00)"
   ]
  },
  {
   "cell_type": "markdown",
   "id": "a5894ffc-d9b4-497d-af26-26c3be8cd3cd",
   "metadata": {},
   "source": [
    "A function that converts these date ranges into day (based on first day of storm):"
   ]
  },
  {
   "cell_type": "code",
   "execution_count": 16,
   "id": "a3126618-d050-4ac1-8bde-c5f985a3ada3",
   "metadata": {
    "tags": []
   },
   "outputs": [],
   "source": [
    "def fix_stormdate(instr):\n",
    "    year=int(instr.split(\"/\")[-1])\n",
    "    month=int(instr.split(\"/\")[1].split(\"-\")[0])\n",
    "    day=int(instr.split(\"/\")[0])\n",
    "    return datetime.date(year, month, day)"
   ]
  },
  {
   "cell_type": "markdown",
   "id": "8d2cca8b-fbae-4da2-ab2a-45b87403a6b9",
   "metadata": {},
   "source": [
    "Applying the function to the bad entries:"
   ]
  },
  {
   "cell_type": "code",
   "execution_count": 17,
   "id": "b14baac8-43e0-42be-b25c-17772e8502c2",
   "metadata": {
    "tags": []
   },
   "outputs": [],
   "source": [
    "modelDataI.loc[sel,\"stormdate\"] = modelDataI.loc[sel,\"stormdate\"].apply(fix_stormdate)"
   ]
  },
  {
   "cell_type": "markdown",
   "id": "93576d0c-8ee6-4fb6-a494-90cd74daeab1",
   "metadata": {},
   "source": [
    "Convert all date entries from datetime to day:"
   ]
  },
  {
   "cell_type": "code",
   "execution_count": 18,
   "id": "e475b6be-e00f-4ab8-a066-d2ec22e456b7",
   "metadata": {
    "tags": []
   },
   "outputs": [],
   "source": [
    "modelDataI[\"stormdate\"] = modelDataI[\"stormdate\"].apply(lambda x: x.day)"
   ]
  },
  {
   "cell_type": "markdown",
   "id": "0eae5136-8339-4f64-86d8-8a0155174db0",
   "metadata": {},
   "source": [
    "Saving as parquet file:"
   ]
  },
  {
   "cell_type": "code",
   "execution_count": null,
   "id": "3f1ed1a4-8bd8-43c8-b62c-cdb88b1ed2ae",
   "metadata": {},
   "outputs": [],
   "source": [
    "modelDataI.to_parquet(\"../../data/data_v01_add_site_ids.parquet\")"
   ]
  }
 ],
 "metadata": {
  "kernelspec": {
   "display_name": "Python 3 (ipykernel)",
   "language": "python",
   "name": "python3"
  },
  "language_info": {
   "codemirror_mode": {
    "name": "ipython",
    "version": 3
   },
   "file_extension": ".py",
   "mimetype": "text/x-python",
   "name": "python",
   "nbconvert_exporter": "python",
   "pygments_lexer": "ipython3",
   "version": "3.10.10"
  }
 },
 "nbformat": 4,
 "nbformat_minor": 5
}
