{
 "cells": [
  {
   "cell_type": "markdown",
   "metadata": {
    "tags": []
   },
   "source": [
    "# Model Evaluation - Logistc Regression and Random Forest Classifier\n",
    "\n",
    "- Alejandro Hohmann\n",
    "- Bhanu Muvva\n",
    "- Chunxia Tong\n",
    "\n",
    "The purpose of this notebook is to use LogReg and DT. It does not yet use the new features."
   ]
  },
  {
   "cell_type": "markdown",
   "metadata": {},
   "source": [
    "# Table of Contents\n",
    "\n",
    "### - [Staley Logistic Regression](#st16)\n",
    "\n",
    "### - [Random Forest](#RF)"
   ]
  },
  {
   "cell_type": "code",
   "execution_count": 3,
   "metadata": {
    "tags": []
   },
   "outputs": [],
   "source": [
    "# assign seed now for consistency any time it needs to be used\n",
    "seed=27"
   ]
  },
  {
   "cell_type": "code",
   "execution_count": 92,
   "metadata": {
    "tags": []
   },
   "outputs": [],
   "source": [
    "# file structure libraries\n",
    "import numpy as np\n",
    "import pandas as pd\n",
    "import geopandas as gpd\n",
    "import os\n",
    "\n",
    "# # visualization libraries\n",
    "from matplotlib import pyplot as plt\n",
    "# plt.style.use('bmh')\n",
    "plt.style.use('dark_background')\n",
    "# plt.style.use('fivethirtyeight')\n",
    "# Have plots display in notebook\n",
    "%matplotlib inline\n",
    "# import seaborn as sns\n",
    "\n",
    "# # ML libraries\n",
    "# from sklearn.preprocessing import StandardScaler\n",
    "from sklearn.linear_model import LogisticRegression\n",
    "from sklearn.ensemble import RandomForestClassifier\n",
    "from sklearn.model_selection import train_test_split\n",
    "from sklearn.preprocessing import StandardScaler\n",
    "from sklearn.metrics import recall_score, f1_score, roc_curve, RocCurveDisplay\n",
    "# from sklearn.metrics import confusion_matrix"
   ]
  },
  {
   "cell_type": "markdown",
   "metadata": {},
   "source": [
    "## Read in Staley Raw Data\n",
    "    - nulls already excluded"
   ]
  },
  {
   "cell_type": "code",
   "execution_count": 162,
   "metadata": {
    "tags": []
   },
   "outputs": [
    {
     "data": {
      "text/html": [
       "<div>\n",
       "<style scoped>\n",
       "    .dataframe tbody tr th:only-of-type {\n",
       "        vertical-align: middle;\n",
       "    }\n",
       "\n",
       "    .dataframe tbody tr th {\n",
       "        vertical-align: top;\n",
       "    }\n",
       "\n",
       "    .dataframe thead th {\n",
       "        text-align: right;\n",
       "    }\n",
       "</style>\n",
       "<table border=\"1\" class=\"dataframe\">\n",
       "  <thead>\n",
       "    <tr style=\"text-align: right;\">\n",
       "      <th></th>\n",
       "      <th>Fire Name</th>\n",
       "      <th>Year</th>\n",
       "      <th>Fire_ID</th>\n",
       "      <th>Fire_SegID</th>\n",
       "      <th>Database</th>\n",
       "      <th>State</th>\n",
       "      <th>UTM_Zone</th>\n",
       "      <th>UTM_X</th>\n",
       "      <th>UTM_Y</th>\n",
       "      <th>Response</th>\n",
       "      <th>...</th>\n",
       "      <th>Peak_I15_mm/h</th>\n",
       "      <th>Peak_I30_mm/h</th>\n",
       "      <th>Peak_I60_mm/h</th>\n",
       "      <th>ContributingArea_km2</th>\n",
       "      <th>PropHM23</th>\n",
       "      <th>dNBR/1000</th>\n",
       "      <th>KF</th>\n",
       "      <th>Acc015_mm</th>\n",
       "      <th>Acc030_mm</th>\n",
       "      <th>Acc060_mm</th>\n",
       "    </tr>\n",
       "  </thead>\n",
       "  <tbody>\n",
       "    <tr>\n",
       "      <th>0</th>\n",
       "      <td>Buckweed</td>\n",
       "      <td>2007</td>\n",
       "      <td>bck</td>\n",
       "      <td>bck_1035</td>\n",
       "      <td>Training</td>\n",
       "      <td>CA</td>\n",
       "      <td>11</td>\n",
       "      <td>368133.5165</td>\n",
       "      <td>3823231.989</td>\n",
       "      <td>0</td>\n",
       "      <td>...</td>\n",
       "      <td>3.2</td>\n",
       "      <td>2.0</td>\n",
       "      <td>2.0</td>\n",
       "      <td>0.378767</td>\n",
       "      <td>0.217933</td>\n",
       "      <td>0.297853</td>\n",
       "      <td>0.250000</td>\n",
       "      <td>0.80</td>\n",
       "      <td>1.0</td>\n",
       "      <td>2.0</td>\n",
       "    </tr>\n",
       "    <tr>\n",
       "      <th>1</th>\n",
       "      <td>Buckweed</td>\n",
       "      <td>2007</td>\n",
       "      <td>bck</td>\n",
       "      <td>bck_1090</td>\n",
       "      <td>Training</td>\n",
       "      <td>CA</td>\n",
       "      <td>11</td>\n",
       "      <td>367871.0165</td>\n",
       "      <td>3822984.489</td>\n",
       "      <td>0</td>\n",
       "      <td>...</td>\n",
       "      <td>3.2</td>\n",
       "      <td>2.0</td>\n",
       "      <td>2.0</td>\n",
       "      <td>0.689615</td>\n",
       "      <td>0.061249</td>\n",
       "      <td>0.224896</td>\n",
       "      <td>0.250000</td>\n",
       "      <td>0.80</td>\n",
       "      <td>1.0</td>\n",
       "      <td>2.0</td>\n",
       "    </tr>\n",
       "    <tr>\n",
       "      <th>2</th>\n",
       "      <td>Buckweed</td>\n",
       "      <td>2007</td>\n",
       "      <td>bck</td>\n",
       "      <td>bck_1570</td>\n",
       "      <td>Training</td>\n",
       "      <td>CA</td>\n",
       "      <td>11</td>\n",
       "      <td>367503.5165</td>\n",
       "      <td>3821741.989</td>\n",
       "      <td>0</td>\n",
       "      <td>...</td>\n",
       "      <td>3.2</td>\n",
       "      <td>2.0</td>\n",
       "      <td>2.0</td>\n",
       "      <td>2.757312</td>\n",
       "      <td>0.042968</td>\n",
       "      <td>0.065537</td>\n",
       "      <td>0.248541</td>\n",
       "      <td>0.80</td>\n",
       "      <td>1.0</td>\n",
       "      <td>2.0</td>\n",
       "    </tr>\n",
       "    <tr>\n",
       "      <th>3</th>\n",
       "      <td>Buckweed</td>\n",
       "      <td>2007</td>\n",
       "      <td>bck</td>\n",
       "      <td>bck_235</td>\n",
       "      <td>Training</td>\n",
       "      <td>CA</td>\n",
       "      <td>11</td>\n",
       "      <td>371108.5165</td>\n",
       "      <td>3824991.989</td>\n",
       "      <td>0</td>\n",
       "      <td>...</td>\n",
       "      <td>1.6</td>\n",
       "      <td>1.2</td>\n",
       "      <td>0.8</td>\n",
       "      <td>0.613415</td>\n",
       "      <td>0.092164</td>\n",
       "      <td>0.141711</td>\n",
       "      <td>0.250000</td>\n",
       "      <td>0.40</td>\n",
       "      <td>0.6</td>\n",
       "      <td>0.8</td>\n",
       "    </tr>\n",
       "    <tr>\n",
       "      <th>4</th>\n",
       "      <td>Buckweed</td>\n",
       "      <td>2007</td>\n",
       "      <td>bck</td>\n",
       "      <td>bck_363</td>\n",
       "      <td>Training</td>\n",
       "      <td>CA</td>\n",
       "      <td>11</td>\n",
       "      <td>370763.5165</td>\n",
       "      <td>3824576.989</td>\n",
       "      <td>0</td>\n",
       "      <td>...</td>\n",
       "      <td>1.6</td>\n",
       "      <td>1.2</td>\n",
       "      <td>0.8</td>\n",
       "      <td>0.538875</td>\n",
       "      <td>0.058353</td>\n",
       "      <td>0.210158</td>\n",
       "      <td>0.250000</td>\n",
       "      <td>0.40</td>\n",
       "      <td>0.6</td>\n",
       "      <td>0.8</td>\n",
       "    </tr>\n",
       "    <tr>\n",
       "      <th>...</th>\n",
       "      <td>...</td>\n",
       "      <td>...</td>\n",
       "      <td>...</td>\n",
       "      <td>...</td>\n",
       "      <td>...</td>\n",
       "      <td>...</td>\n",
       "      <td>...</td>\n",
       "      <td>...</td>\n",
       "      <td>...</td>\n",
       "      <td>...</td>\n",
       "      <td>...</td>\n",
       "      <td>...</td>\n",
       "      <td>...</td>\n",
       "      <td>...</td>\n",
       "      <td>...</td>\n",
       "      <td>...</td>\n",
       "      <td>...</td>\n",
       "      <td>...</td>\n",
       "      <td>...</td>\n",
       "      <td>...</td>\n",
       "      <td>...</td>\n",
       "    </tr>\n",
       "    <tr>\n",
       "      <th>1086</th>\n",
       "      <td>Wallow</td>\n",
       "      <td>2011</td>\n",
       "      <td>wlw</td>\n",
       "      <td>wlw_45357</td>\n",
       "      <td>Test</td>\n",
       "      <td>AZ</td>\n",
       "      <td>12</td>\n",
       "      <td>660343.3581</td>\n",
       "      <td>3727458.835</td>\n",
       "      <td>0</td>\n",
       "      <td>...</td>\n",
       "      <td>63.0</td>\n",
       "      <td>54.0</td>\n",
       "      <td>39.0</td>\n",
       "      <td>1.819213</td>\n",
       "      <td>0.066777</td>\n",
       "      <td>0.373291</td>\n",
       "      <td>0.000000</td>\n",
       "      <td>15.75</td>\n",
       "      <td>27.0</td>\n",
       "      <td>39.0</td>\n",
       "    </tr>\n",
       "    <tr>\n",
       "      <th>1087</th>\n",
       "      <td>Wallow</td>\n",
       "      <td>2011</td>\n",
       "      <td>wlw</td>\n",
       "      <td>wlw_45553</td>\n",
       "      <td>Test</td>\n",
       "      <td>AZ</td>\n",
       "      <td>12</td>\n",
       "      <td>660408.3581</td>\n",
       "      <td>3727358.835</td>\n",
       "      <td>0</td>\n",
       "      <td>...</td>\n",
       "      <td>63.0</td>\n",
       "      <td>54.0</td>\n",
       "      <td>39.0</td>\n",
       "      <td>2.325559</td>\n",
       "      <td>0.115890</td>\n",
       "      <td>0.604177</td>\n",
       "      <td>0.000000</td>\n",
       "      <td>15.75</td>\n",
       "      <td>27.0</td>\n",
       "      <td>39.0</td>\n",
       "    </tr>\n",
       "    <tr>\n",
       "      <th>1088</th>\n",
       "      <td>Wallow</td>\n",
       "      <td>2011</td>\n",
       "      <td>wlw</td>\n",
       "      <td>wlw_46217</td>\n",
       "      <td>Test</td>\n",
       "      <td>AZ</td>\n",
       "      <td>12</td>\n",
       "      <td>661118.3581</td>\n",
       "      <td>3727658.835</td>\n",
       "      <td>1</td>\n",
       "      <td>...</td>\n",
       "      <td>63.0</td>\n",
       "      <td>54.0</td>\n",
       "      <td>39.0</td>\n",
       "      <td>0.715387</td>\n",
       "      <td>0.112607</td>\n",
       "      <td>0.428204</td>\n",
       "      <td>0.000000</td>\n",
       "      <td>15.75</td>\n",
       "      <td>27.0</td>\n",
       "      <td>39.0</td>\n",
       "    </tr>\n",
       "    <tr>\n",
       "      <th>1089</th>\n",
       "      <td>Wallow</td>\n",
       "      <td>2011</td>\n",
       "      <td>wlw</td>\n",
       "      <td>wlw_47409</td>\n",
       "      <td>Test</td>\n",
       "      <td>AZ</td>\n",
       "      <td>12</td>\n",
       "      <td>660698.3581</td>\n",
       "      <td>3725248.835</td>\n",
       "      <td>1</td>\n",
       "      <td>...</td>\n",
       "      <td>63.0</td>\n",
       "      <td>54.0</td>\n",
       "      <td>39.0</td>\n",
       "      <td>1.554356</td>\n",
       "      <td>0.009801</td>\n",
       "      <td>0.187053</td>\n",
       "      <td>0.000000</td>\n",
       "      <td>15.75</td>\n",
       "      <td>27.0</td>\n",
       "      <td>39.0</td>\n",
       "    </tr>\n",
       "    <tr>\n",
       "      <th>1090</th>\n",
       "      <td>Wallow</td>\n",
       "      <td>2011</td>\n",
       "      <td>wlw</td>\n",
       "      <td>wlw_47535</td>\n",
       "      <td>Test</td>\n",
       "      <td>AZ</td>\n",
       "      <td>12</td>\n",
       "      <td>660178.3581</td>\n",
       "      <td>3725128.835</td>\n",
       "      <td>0</td>\n",
       "      <td>...</td>\n",
       "      <td>63.0</td>\n",
       "      <td>54.0</td>\n",
       "      <td>39.0</td>\n",
       "      <td>0.683425</td>\n",
       "      <td>0.001571</td>\n",
       "      <td>0.500223</td>\n",
       "      <td>0.000000</td>\n",
       "      <td>15.75</td>\n",
       "      <td>27.0</td>\n",
       "      <td>39.0</td>\n",
       "    </tr>\n",
       "  </tbody>\n",
       "</table>\n",
       "<p>1091 rows × 27 columns</p>\n",
       "</div>"
      ],
      "text/plain": [
       "     Fire Name  Year Fire_ID Fire_SegID  Database State  UTM_Zone  \\\n",
       "0     Buckweed  2007     bck   bck_1035  Training    CA        11   \n",
       "1     Buckweed  2007     bck   bck_1090  Training    CA        11   \n",
       "2     Buckweed  2007     bck   bck_1570  Training    CA        11   \n",
       "3     Buckweed  2007     bck    bck_235  Training    CA        11   \n",
       "4     Buckweed  2007     bck    bck_363  Training    CA        11   \n",
       "...        ...   ...     ...        ...       ...   ...       ...   \n",
       "1086    Wallow  2011     wlw  wlw_45357      Test    AZ        12   \n",
       "1087    Wallow  2011     wlw  wlw_45553      Test    AZ        12   \n",
       "1088    Wallow  2011     wlw  wlw_46217      Test    AZ        12   \n",
       "1089    Wallow  2011     wlw  wlw_47409      Test    AZ        12   \n",
       "1090    Wallow  2011     wlw  wlw_47535      Test    AZ        12   \n",
       "\n",
       "            UTM_X        UTM_Y  Response  ... Peak_I15_mm/h  Peak_I30_mm/h  \\\n",
       "0     368133.5165  3823231.989         0  ...           3.2            2.0   \n",
       "1     367871.0165  3822984.489         0  ...           3.2            2.0   \n",
       "2     367503.5165  3821741.989         0  ...           3.2            2.0   \n",
       "3     371108.5165  3824991.989         0  ...           1.6            1.2   \n",
       "4     370763.5165  3824576.989         0  ...           1.6            1.2   \n",
       "...           ...          ...       ...  ...           ...            ...   \n",
       "1086  660343.3581  3727458.835         0  ...          63.0           54.0   \n",
       "1087  660408.3581  3727358.835         0  ...          63.0           54.0   \n",
       "1088  661118.3581  3727658.835         1  ...          63.0           54.0   \n",
       "1089  660698.3581  3725248.835         1  ...          63.0           54.0   \n",
       "1090  660178.3581  3725128.835         0  ...          63.0           54.0   \n",
       "\n",
       "     Peak_I60_mm/h ContributingArea_km2  PropHM23  dNBR/1000        KF  \\\n",
       "0              2.0             0.378767  0.217933   0.297853  0.250000   \n",
       "1              2.0             0.689615  0.061249   0.224896  0.250000   \n",
       "2              2.0             2.757312  0.042968   0.065537  0.248541   \n",
       "3              0.8             0.613415  0.092164   0.141711  0.250000   \n",
       "4              0.8             0.538875  0.058353   0.210158  0.250000   \n",
       "...            ...                  ...       ...        ...       ...   \n",
       "1086          39.0             1.819213  0.066777   0.373291  0.000000   \n",
       "1087          39.0             2.325559  0.115890   0.604177  0.000000   \n",
       "1088          39.0             0.715387  0.112607   0.428204  0.000000   \n",
       "1089          39.0             1.554356  0.009801   0.187053  0.000000   \n",
       "1090          39.0             0.683425  0.001571   0.500223  0.000000   \n",
       "\n",
       "      Acc015_mm  Acc030_mm  Acc060_mm  \n",
       "0          0.80        1.0        2.0  \n",
       "1          0.80        1.0        2.0  \n",
       "2          0.80        1.0        2.0  \n",
       "3          0.40        0.6        0.8  \n",
       "4          0.40        0.6        0.8  \n",
       "...         ...        ...        ...  \n",
       "1086      15.75       27.0       39.0  \n",
       "1087      15.75       27.0       39.0  \n",
       "1088      15.75       27.0       39.0  \n",
       "1089      15.75       27.0       39.0  \n",
       "1090      15.75       27.0       39.0  \n",
       "\n",
       "[1091 rows x 27 columns]"
      ]
     },
     "execution_count": 162,
     "metadata": {},
     "output_type": "execute_result"
    }
   ],
   "source": [
    "staley_data = pd.read_csv(\"../../data/ofr20161106-na-omit.csv\")\n",
    "staley_data"
   ]
  },
  {
   "cell_type": "markdown",
   "metadata": {},
   "source": [
    "## Staley 16 <a id=\"st16\">\n",
    "recreate Staley's Logistic Regression and calculate model evaluation metrics"
   ]
  },
  {
   "cell_type": "code",
   "execution_count": 163,
   "metadata": {
    "tags": []
   },
   "outputs": [
    {
     "data": {
      "text/html": [
       "<div>\n",
       "<style scoped>\n",
       "    .dataframe tbody tr th:only-of-type {\n",
       "        vertical-align: middle;\n",
       "    }\n",
       "\n",
       "    .dataframe tbody tr th {\n",
       "        vertical-align: top;\n",
       "    }\n",
       "\n",
       "    .dataframe thead th {\n",
       "        text-align: right;\n",
       "    }\n",
       "</style>\n",
       "<table border=\"1\" class=\"dataframe\">\n",
       "  <thead>\n",
       "    <tr style=\"text-align: right;\">\n",
       "      <th></th>\n",
       "      <th>PropHM23_x_i15</th>\n",
       "      <th>dNBR_x_i15</th>\n",
       "      <th>KF_x_i15</th>\n",
       "      <th>Response</th>\n",
       "      <th>Database</th>\n",
       "    </tr>\n",
       "  </thead>\n",
       "  <tbody>\n",
       "    <tr>\n",
       "      <th>0</th>\n",
       "      <td>0.174346</td>\n",
       "      <td>0.238282</td>\n",
       "      <td>0.200000</td>\n",
       "      <td>0</td>\n",
       "      <td>Training</td>\n",
       "    </tr>\n",
       "    <tr>\n",
       "      <th>1</th>\n",
       "      <td>0.048999</td>\n",
       "      <td>0.179916</td>\n",
       "      <td>0.200000</td>\n",
       "      <td>0</td>\n",
       "      <td>Training</td>\n",
       "    </tr>\n",
       "    <tr>\n",
       "      <th>2</th>\n",
       "      <td>0.034374</td>\n",
       "      <td>0.052430</td>\n",
       "      <td>0.198832</td>\n",
       "      <td>0</td>\n",
       "      <td>Training</td>\n",
       "    </tr>\n",
       "    <tr>\n",
       "      <th>3</th>\n",
       "      <td>0.036866</td>\n",
       "      <td>0.056684</td>\n",
       "      <td>0.100000</td>\n",
       "      <td>0</td>\n",
       "      <td>Training</td>\n",
       "    </tr>\n",
       "    <tr>\n",
       "      <th>4</th>\n",
       "      <td>0.023341</td>\n",
       "      <td>0.084063</td>\n",
       "      <td>0.100000</td>\n",
       "      <td>0</td>\n",
       "      <td>Training</td>\n",
       "    </tr>\n",
       "    <tr>\n",
       "      <th>...</th>\n",
       "      <td>...</td>\n",
       "      <td>...</td>\n",
       "      <td>...</td>\n",
       "      <td>...</td>\n",
       "      <td>...</td>\n",
       "    </tr>\n",
       "    <tr>\n",
       "      <th>1086</th>\n",
       "      <td>1.051739</td>\n",
       "      <td>5.879331</td>\n",
       "      <td>0.000000</td>\n",
       "      <td>0</td>\n",
       "      <td>Test</td>\n",
       "    </tr>\n",
       "    <tr>\n",
       "      <th>1087</th>\n",
       "      <td>1.825272</td>\n",
       "      <td>9.515783</td>\n",
       "      <td>0.000000</td>\n",
       "      <td>0</td>\n",
       "      <td>Test</td>\n",
       "    </tr>\n",
       "    <tr>\n",
       "      <th>1088</th>\n",
       "      <td>1.773559</td>\n",
       "      <td>6.744213</td>\n",
       "      <td>0.000000</td>\n",
       "      <td>1</td>\n",
       "      <td>Test</td>\n",
       "    </tr>\n",
       "    <tr>\n",
       "      <th>1089</th>\n",
       "      <td>0.154359</td>\n",
       "      <td>2.946077</td>\n",
       "      <td>0.000000</td>\n",
       "      <td>1</td>\n",
       "      <td>Test</td>\n",
       "    </tr>\n",
       "    <tr>\n",
       "      <th>1090</th>\n",
       "      <td>0.024740</td>\n",
       "      <td>7.878512</td>\n",
       "      <td>0.000000</td>\n",
       "      <td>0</td>\n",
       "      <td>Test</td>\n",
       "    </tr>\n",
       "  </tbody>\n",
       "</table>\n",
       "<p>1091 rows × 5 columns</p>\n",
       "</div>"
      ],
      "text/plain": [
       "      PropHM23_x_i15  dNBR_x_i15  KF_x_i15  Response  Database\n",
       "0           0.174346    0.238282  0.200000         0  Training\n",
       "1           0.048999    0.179916  0.200000         0  Training\n",
       "2           0.034374    0.052430  0.198832         0  Training\n",
       "3           0.036866    0.056684  0.100000         0  Training\n",
       "4           0.023341    0.084063  0.100000         0  Training\n",
       "...              ...         ...       ...       ...       ...\n",
       "1086        1.051739    5.879331  0.000000         0      Test\n",
       "1087        1.825272    9.515783  0.000000         0      Test\n",
       "1088        1.773559    6.744213  0.000000         1      Test\n",
       "1089        0.154359    2.946077  0.000000         1      Test\n",
       "1090        0.024740    7.878512  0.000000         0      Test\n",
       "\n",
       "[1091 rows x 5 columns]"
      ]
     },
     "execution_count": 163,
     "metadata": {},
     "output_type": "execute_result"
    }
   ],
   "source": [
    "#computing input data just as in Staley'16\n",
    "staley_data[\"PropHM23_x_i15\"] = staley_data[\"PropHM23\"] * staley_data[\"Acc015_mm\"]\n",
    "staley_data[\"dNBR_x_i15\"] = staley_data[\"dNBR/1000\"] * staley_data[\"Acc015_mm\"]\n",
    "staley_data[\"KF_x_i15\"] = staley_data[\"KF\"] * staley_data[\"Acc015_mm\"]\n",
    "\n",
    "use_cols=[\"PropHM23_x_i15\",\n",
    "          \"dNBR_x_i15\", \n",
    "          \"KF_x_i15\",\n",
    "          \"Response\",\n",
    "          \"Database\",\n",
    "         ]\n",
    "staley_data = staley_data[use_cols]\n",
    "staley_data"
   ]
  },
  {
   "cell_type": "code",
   "execution_count": 164,
   "metadata": {
    "tags": []
   },
   "outputs": [],
   "source": [
    "# Split based on Staley criteria (trained on SoCal sites)\n",
    "X_train = staley_data[staley_data['Database'] == 'Training'].iloc[:,:3]\n",
    "y_train = staley_data[staley_data['Database'] == 'Training'].iloc[:,3]\n",
    "\n",
    "X_test = staley_data[staley_data['Database'] == 'Test'].iloc[:,:3]\n",
    "y_test = staley_data[staley_data['Database'] == 'Test'].iloc[:,3]"
   ]
  },
  {
   "cell_type": "code",
   "execution_count": 165,
   "metadata": {
    "tags": []
   },
   "outputs": [
    {
     "name": "stdout",
     "output_type": "stream",
     "text": [
      "Training accuracy: 0.8266494178525227\n",
      "Test accuracy: 0.6257861635220126\n",
      "Test Recall: 0.7671232876712328\n",
      "\n",
      "\n",
      "F1 Score (test): 0.48484848484848486\n"
     ]
    },
    {
     "data": {
      "image/png": "[encoded data removed]",
      "text/plain": [
       "<Figure size 640x480 with 1 Axes>"
      ]
     },
     "metadata": {},
     "output_type": "display_data"
    }
   ],
   "source": [
    "# SoCal train\n",
    "\n",
    "# instantiate and fit model on training data\n",
    "clf = LogisticRegression(random_state=seed, penalty='l2').fit(X_train, y_train)\n",
    "\n",
    "# predict training data\n",
    "y_train_pred = clf.predict(X_train)\n",
    "\n",
    "# predict testing data\n",
    "y_test_pred = clf.predict(X_test)\n",
    "\n",
    "# accuracy\n",
    "train_pred_correct = sum(y_train == y_train_pred)\n",
    "train_accuracy = (train_pred_correct / y_train.shape[0])\n",
    "print(f'Training accuracy: {train_accuracy}')\n",
    "\n",
    "test_pred_correct = sum(y_test == y_test_pred)\n",
    "test_accuracy = (test_pred_correct / y_test.shape[0])\n",
    "print(f'Test accuracy: {test_accuracy}')\n",
    "\n",
    "test_recall_score = recall_score(y_test, np.round(y_test_pred), average='binary')\n",
    "print(f'Test Recall: {test_recall_score}')\n",
    "\n",
    "# f1\n",
    "f1_output = f1_score(y_test, y_test_pred)\n",
    "print(\"\\n\")\n",
    "print(f'F1 Score (test): {f1_output}')\n",
    "\n",
    "# plot AUC\n",
    "fig, ax = plt.subplots()\n",
    "\n",
    "RocCurveDisplay.from_predictions(y_train, \n",
    "                                 y_train_pred,\n",
    "                                 ax=ax, \n",
    "                                 linewidth=1, \n",
    "                                 color='red', \n",
    "                                 name='train', \n",
    "                                 linestyle=\"dashed\"\n",
    "                                );\n",
    "\n",
    "RocCurveDisplay.from_predictions(y_test, \n",
    "                                 y_test_pred,\n",
    "                                 ax=ax, \n",
    "                                 linewidth=1, \n",
    "                                 color='yellow', \n",
    "                                 name='test');\n",
    "\n",
    "plt.title('Logistic Regression: 15 min rain accum.');"
   ]
  },
  {
   "cell_type": "code",
   "execution_count": 166,
   "metadata": {},
   "outputs": [
    {
     "data": {
      "text/html": [
       "<div>\n",
       "<style scoped>\n",
       "    .dataframe tbody tr th:only-of-type {\n",
       "        vertical-align: middle;\n",
       "    }\n",
       "\n",
       "    .dataframe tbody tr th {\n",
       "        vertical-align: top;\n",
       "    }\n",
       "\n",
       "    .dataframe thead th {\n",
       "        text-align: right;\n",
       "    }\n",
       "</style>\n",
       "<table border=\"1\" class=\"dataframe\">\n",
       "  <thead>\n",
       "    <tr style=\"text-align: right;\">\n",
       "      <th>pred_correct</th>\n",
       "      <th>False</th>\n",
       "      <th>True</th>\n",
       "      <th>total</th>\n",
       "    </tr>\n",
       "    <tr>\n",
       "      <th>y_test</th>\n",
       "      <th></th>\n",
       "      <th></th>\n",
       "      <th></th>\n",
       "    </tr>\n",
       "  </thead>\n",
       "  <tbody>\n",
       "    <tr>\n",
       "      <th>0</th>\n",
       "      <td>102</td>\n",
       "      <td>143</td>\n",
       "      <td>245</td>\n",
       "    </tr>\n",
       "    <tr>\n",
       "      <th>1</th>\n",
       "      <td>17</td>\n",
       "      <td>56</td>\n",
       "      <td>73</td>\n",
       "    </tr>\n",
       "  </tbody>\n",
       "</table>\n",
       "</div>"
      ],
      "text/plain": [
       "pred_correct  False  True  total\n",
       "y_test                          \n",
       "0               102   143    245\n",
       "1                17    56     73"
      ]
     },
     "execution_count": 166,
     "metadata": {},
     "output_type": "execute_result"
    }
   ],
   "source": [
    "# create dataframe with test values\n",
    "test_assess = pd.DataFrame(y_test.values, columns=['y_test']).astype(int)\n",
    "# predicted values\n",
    "test_assess['y_test_pred'] = np.round(y_test_pred).astype(int)\n",
    "# whether they are correctly predicted\n",
    "test_assess['pred_correct'] = test_assess['y_test'] == test_assess['y_test_pred']\n",
    "# the probability of the prediction\n",
    "test_assess['y_test_pred_proba'] = pd.DataFrame(y_test_proba)[1]\n",
    "\n",
    "# the confusion matrix is pretty bad\n",
    "# a lot of false negatives\n",
    "cm = test_assess.groupby(['y_test'])['pred_correct'].value_counts().unstack()\n",
    "cm['total'] = cm.sum(axis=1)\n",
    "cm"
   ]
  },
  {
   "cell_type": "code",
   "execution_count": 167,
   "metadata": {},
   "outputs": [
    {
     "data": {
      "text/plain": [
       "0.2328767123287671"
      ]
     },
     "execution_count": 167,
     "metadata": {},
     "output_type": "execute_result"
    }
   ],
   "source": [
    "# this is the complement to recall\n",
    "false_neg_rate = cm.iloc[1,0] / cm.iloc[1,2]\n",
    "false_neg_rate"
   ]
  },
  {
   "cell_type": "code",
   "execution_count": 179,
   "metadata": {
    "tags": []
   },
   "outputs": [
    {
     "data": {
      "text/html": [
       "<div>\n",
       "<style scoped>\n",
       "    .dataframe tbody tr th:only-of-type {\n",
       "        vertical-align: middle;\n",
       "    }\n",
       "\n",
       "    .dataframe tbody tr th {\n",
       "        vertical-align: top;\n",
       "    }\n",
       "\n",
       "    .dataframe thead th {\n",
       "        text-align: right;\n",
       "    }\n",
       "</style>\n",
       "<table border=\"1\" class=\"dataframe\">\n",
       "  <thead>\n",
       "    <tr style=\"text-align: right;\">\n",
       "      <th>pred_correct</th>\n",
       "      <th>False</th>\n",
       "      <th>True</th>\n",
       "    </tr>\n",
       "    <tr>\n",
       "      <th>State</th>\n",
       "      <th></th>\n",
       "      <th></th>\n",
       "    </tr>\n",
       "  </thead>\n",
       "  <tbody>\n",
       "    <tr>\n",
       "      <th>AZ</th>\n",
       "      <td>44</td>\n",
       "      <td>40</td>\n",
       "    </tr>\n",
       "    <tr>\n",
       "      <th>CO</th>\n",
       "      <td>62</td>\n",
       "      <td>120</td>\n",
       "    </tr>\n",
       "    <tr>\n",
       "      <th>NM</th>\n",
       "      <td>13</td>\n",
       "      <td>39</td>\n",
       "    </tr>\n",
       "  </tbody>\n",
       "</table>\n",
       "</div>"
      ],
      "text/plain": [
       "pred_correct  False  True\n",
       "State                    \n",
       "AZ               44    40\n",
       "CO               62   120\n",
       "NM               13    39"
      ]
     },
     "execution_count": 179,
     "metadata": {},
     "output_type": "execute_result"
    }
   ],
   "source": [
    "# this is lazy but effective\n",
    "# reload back the full df\n",
    "staley_data = pd.read_csv(\"../../data/ofr20161106-na-omit.csv\")\n",
    "\n",
    "# check geographical distribution of test set labels\n",
    "staley_data.loc[y_test.index,'pred_correct'] = y_test == y_test_pred\n",
    "\n",
    "staley_data.groupby(['State'])['pred_correct'].value_counts(normalize=False).unstack().fillna(0)#.style.format(\"{:,.1%}\")"
   ]
  },
  {
   "cell_type": "code",
   "execution_count": 187,
   "metadata": {
    "tags": []
   },
   "outputs": [
    {
     "data": {
      "text/plain": [
       "73"
      ]
     },
     "execution_count": 187,
     "metadata": {},
     "output_type": "execute_result"
    }
   ],
   "source": [
    "y_test.sum()"
   ]
  },
  {
   "cell_type": "code",
   "execution_count": 188,
   "metadata": {
    "tags": []
   },
   "outputs": [
    {
     "data": {
      "text/html": [
       "<div>\n",
       "<style scoped>\n",
       "    .dataframe tbody tr th:only-of-type {\n",
       "        vertical-align: middle;\n",
       "    }\n",
       "\n",
       "    .dataframe tbody tr th {\n",
       "        vertical-align: top;\n",
       "    }\n",
       "\n",
       "    .dataframe thead th {\n",
       "        text-align: right;\n",
       "    }\n",
       "</style>\n",
       "<table border=\"1\" class=\"dataframe\">\n",
       "  <thead>\n",
       "    <tr style=\"text-align: right;\">\n",
       "      <th>pred_correct</th>\n",
       "      <th>False</th>\n",
       "      <th>True</th>\n",
       "    </tr>\n",
       "    <tr>\n",
       "      <th>State</th>\n",
       "      <th></th>\n",
       "      <th></th>\n",
       "    </tr>\n",
       "  </thead>\n",
       "  <tbody>\n",
       "    <tr>\n",
       "      <th>AZ</th>\n",
       "      <td>0.041096</td>\n",
       "      <td>0.054795</td>\n",
       "    </tr>\n",
       "    <tr>\n",
       "      <th>CO</th>\n",
       "      <td>0.178082</td>\n",
       "      <td>0.246575</td>\n",
       "    </tr>\n",
       "    <tr>\n",
       "      <th>NM</th>\n",
       "      <td>0.013699</td>\n",
       "      <td>0.465753</td>\n",
       "    </tr>\n",
       "  </tbody>\n",
       "</table>\n",
       "</div>"
      ],
      "text/plain": [
       "pred_correct     False      True\n",
       "State                           \n",
       "AZ            0.041096  0.054795\n",
       "CO            0.178082  0.246575\n",
       "NM            0.013699  0.465753"
      ]
     },
     "execution_count": 188,
     "metadata": {},
     "output_type": "execute_result"
    }
   ],
   "source": [
    "staley_data[staley_data['Response'] == 1].groupby(['State'])['pred_correct'].value_counts().unstack() / y_test.sum()"
   ]
  },
  {
   "cell_type": "code",
   "execution_count": 178,
   "metadata": {
    "tags": []
   },
   "outputs": [
    {
     "data": {
      "text/plain": [
       "State\n",
       "AZ     40\n",
       "CA      0\n",
       "CO    120\n",
       "NM     39\n",
       "Name: pred_correct, dtype: object"
      ]
     },
     "execution_count": 178,
     "metadata": {},
     "output_type": "execute_result"
    }
   ],
   "source": [
    "staley_data.groupby(['State'])['pred_correct'].sum()"
   ]
  },
  {
   "cell_type": "markdown",
   "metadata": {},
   "source": [
    "## Random Forest Classifier <a id=\"RF\">"
   ]
  },
  {
   "cell_type": "markdown",
   "metadata": {},
   "source": [
    "### TASK LIST\n",
    "- The data preparation notebooks I pushed to the repository contain more processing steps including a train-test split on a site basis and randomization of precipitation values which I found helpful. I recommend you use these steps as well."
   ]
  },
  {
   "cell_type": "code",
   "execution_count": 147,
   "metadata": {
    "tags": []
   },
   "outputs": [
    {
     "name": "stdout",
     "output_type": "stream",
     "text": [
      "raw data - (1379, 49)\n",
      "after nulls removed - (1078, 49)\n"
     ]
    }
   ],
   "source": [
    "df = modelDataI=gpd.read_parquet(\"../../data/staley16_observations_catchment_fuelpars_rocktype_randn_lndslide_fireinterval_v6.parquet\")\n",
    "print('raw data -',df.shape)\n",
    "df=df.dropna()\n",
    "print('after nulls removed -',df.shape)"
   ]
  },
  {
   "cell_type": "code",
   "execution_count": 148,
   "metadata": {
    "tags": []
   },
   "outputs": [],
   "source": [
    "features_15 = [\n",
    "    'peak_i15_mmh',\n",
    "    # 'peak_i30_mmh', \n",
    "    # 'peak_i60_mmh', \n",
    "    'contributingarea_km2', \n",
    "    'prophm23',\n",
    "    'dnbr1000', \n",
    "    'kf', \n",
    "    'acc015_mm',\n",
    "    # 'acc030_mm', \n",
    "    # 'acc060_mm', \n",
    "    'NB', \n",
    "    'GR', \n",
    "    'GS', \n",
    "    'SH', \n",
    "    'TU', \n",
    "    'TL',\n",
    "    'Fine fuel load', \n",
    "    'SAV', \n",
    "    'Packing ratio', \n",
    "    'Extinction moisture content',\n",
    "    'Igneous', \n",
    "    'Metamorphic', \n",
    "    'Sedimentary', \n",
    "    'Unconsolidated',\n",
    "    # 'dom', # this is encoded as proportion of grass\n",
    "    # 'domrt', # this is encoded as proportion of rock\n",
    "    'LNDS_RISKS',\n",
    "    'fire_interval',\n",
    "]"
   ]
  },
  {
   "cell_type": "code",
   "execution_count": 149,
   "metadata": {
    "tags": []
   },
   "outputs": [
    {
     "name": "stdout",
     "output_type": "stream",
     "text": [
      "Training accuracy: 1.0\n",
      "Test accuracy: 0.8657407407407407\n",
      "Test Recall: 0.5660377358490566\n",
      "\n",
      "\n",
      "F1 Score (test): 0.6741573033707865\n"
     ]
    },
    {
     "data": {
      "image/png": "[encoded data removed]",
      "text/plain": [
       "<Figure size 640x480 with 1 Axes>"
      ]
     },
     "metadata": {},
     "output_type": "display_data"
    }
   ],
   "source": [
    "# 15 MIN\n",
    "\n",
    "# Load data\n",
    "#data = pd.read_csv('../../data/ofr20161106-na-omit-feat-15.csv')\n",
    "data = df.copy()\n",
    "X = data[features_15] # input features\n",
    "y = data['response'] # debris flow bool\n",
    "\n",
    "X_train, X_test, y_train, y_test = train_test_split(X, y, test_size=0.2, random_state=seed)\n",
    "\n",
    "#scale the data X_train and X_test\n",
    "cols = X_train.columns\n",
    "sc = StandardScaler()\n",
    "X_train = pd.DataFrame(sc.fit_transform(X_train), columns=cols)\n",
    "X_test = pd.DataFrame(sc.transform(X_test), columns=cols)\n",
    "\n",
    "# instantiate and fit model on training data\n",
    "clf = RandomForestClassifier(random_state=seed).fit(X_train, y_train)\n",
    "\n",
    "# predict training data\n",
    "y_train_pred = clf.predict(X_train)\n",
    "\n",
    "# predict testing data\n",
    "y_test_pred = clf.predict(X_test)\n",
    "\n",
    "# store probabilities\n",
    "y_train_proba = clf.predict_proba(X_train)\n",
    "y_test_proba = clf.predict_proba(X_test)\n",
    "\n",
    "\n",
    "# accuracy\n",
    "train_pred_correct = sum(y_train == y_train_pred)\n",
    "train_accuracy = (train_pred_correct / y_train.shape[0])\n",
    "print(f'Training accuracy: {train_accuracy}')\n",
    "\n",
    "test_pred_correct = sum(y_test == y_test_pred)\n",
    "test_accuracy = (test_pred_correct / y_test.shape[0])\n",
    "print(f'Test accuracy: {test_accuracy}')\n",
    "\n",
    "test_recall_score = recall_score(y_test, np.round(y_test_pred), average='binary')\n",
    "print(f'Test Recall: {test_recall_score}')\n",
    "\n",
    "# f1\n",
    "f1_output = f1_score(y_test, y_test_pred)\n",
    "print(\"\\n\")\n",
    "print(f'F1 Score (test): {f1_output}')\n",
    "\n",
    "# plot AUC\n",
    "fig, ax = plt.subplots()\n",
    "\n",
    "RocCurveDisplay.from_predictions(y_train, \n",
    "                                 y_train_pred,\n",
    "                                 ax=ax, \n",
    "                                 linewidth=1, \n",
    "                                 color='red', \n",
    "                                 name='train', \n",
    "                                 linestyle=\"dashed\"\n",
    "                                );\n",
    "\n",
    "RocCurveDisplay.from_predictions(y_test, \n",
    "                                 y_test_pred,\n",
    "                                 ax=ax, \n",
    "                                 linewidth=1, \n",
    "                                 color='yellow', \n",
    "                                 name='test');\n",
    "\n",
    "plt.title('RandomForest: 15 min rain accum.');"
   ]
  },
  {
   "cell_type": "code",
   "execution_count": 150,
   "metadata": {
    "tags": []
   },
   "outputs": [
    {
     "data": {
      "text/html": [
       "<div>\n",
       "<style scoped>\n",
       "    .dataframe tbody tr th:only-of-type {\n",
       "        vertical-align: middle;\n",
       "    }\n",
       "\n",
       "    .dataframe tbody tr th {\n",
       "        vertical-align: top;\n",
       "    }\n",
       "\n",
       "    .dataframe thead th {\n",
       "        text-align: right;\n",
       "    }\n",
       "</style>\n",
       "<table border=\"1\" class=\"dataframe\">\n",
       "  <thead>\n",
       "    <tr style=\"text-align: right;\">\n",
       "      <th>pred_correct</th>\n",
       "      <th>False</th>\n",
       "      <th>True</th>\n",
       "      <th>total</th>\n",
       "    </tr>\n",
       "    <tr>\n",
       "      <th>y_test</th>\n",
       "      <th></th>\n",
       "      <th></th>\n",
       "      <th></th>\n",
       "    </tr>\n",
       "  </thead>\n",
       "  <tbody>\n",
       "    <tr>\n",
       "      <th>0</th>\n",
       "      <td>6</td>\n",
       "      <td>157</td>\n",
       "      <td>163</td>\n",
       "    </tr>\n",
       "    <tr>\n",
       "      <th>1</th>\n",
       "      <td>23</td>\n",
       "      <td>30</td>\n",
       "      <td>53</td>\n",
       "    </tr>\n",
       "  </tbody>\n",
       "</table>\n",
       "</div>"
      ],
      "text/plain": [
       "pred_correct  False  True  total\n",
       "y_test                          \n",
       "0                 6   157    163\n",
       "1                23    30     53"
      ]
     },
     "execution_count": 150,
     "metadata": {},
     "output_type": "execute_result"
    }
   ],
   "source": [
    "# create dataframe with test values\n",
    "test_assess = pd.DataFrame(y_test.values, columns=['y_test']).astype(int)\n",
    "# predicted values\n",
    "test_assess['y_test_pred'] = np.round(y_test_pred).astype(int)\n",
    "# whether they are correctly predicted\n",
    "test_assess['pred_correct'] = test_assess['y_test'] == test_assess['y_test_pred']\n",
    "# the probability of the prediction\n",
    "test_assess['y_test_pred_proba'] = pd.DataFrame(y_test_proba)[1]\n",
    "\n",
    "# the confusion matrix is pretty bad\n",
    "# a lot of false negatives\n",
    "cm = test_assess.groupby(['y_test'])['pred_correct'].value_counts().unstack()\n",
    "cm['total'] = cm.sum(axis=1)\n",
    "cm"
   ]
  },
  {
   "cell_type": "code",
   "execution_count": 151,
   "metadata": {
    "tags": []
   },
   "outputs": [
    {
     "data": {
      "text/plain": [
       "0.4339622641509434"
      ]
     },
     "execution_count": 151,
     "metadata": {},
     "output_type": "execute_result"
    }
   ],
   "source": [
    "# this is the complement to recall\n",
    "false_neg_rate = cm.iloc[1,0] / cm.iloc[1,2]\n",
    "false_neg_rate"
   ]
  },
  {
   "cell_type": "code",
   "execution_count": 152,
   "metadata": {
    "tags": []
   },
   "outputs": [
    {
     "data": {
      "text/plain": [
       "0.5660377358490566"
      ]
     },
     "execution_count": 152,
     "metadata": {},
     "output_type": "execute_result"
    }
   ],
   "source": [
    "recall_score(y_test, np.round(y_test_pred), average='binary')"
   ]
  },
  {
   "cell_type": "code",
   "execution_count": 153,
   "metadata": {
    "tags": []
   },
   "outputs": [
    {
     "data": {
      "image/png": "[encoded data removed]",
      "text/plain": [
       "<Figure size 640x480 with 1 Axes>"
      ]
     },
     "metadata": {},
     "output_type": "display_data"
    }
   ],
   "source": [
    "# let's examine the probability of these false negatives\n",
    "false_negatives = test_assess[(test_assess['y_test'] == 1) & (test_assess['pred_correct'] == False)]\n",
    "false_negatives['y_test_pred_proba'].plot(kind='hist');"
   ]
  },
  {
   "cell_type": "code",
   "execution_count": 170,
   "metadata": {
    "collapsed": true,
    "jupyter": {
     "outputs_hidden": true
    },
    "tags": []
   },
   "outputs": [
    {
     "ename": "KeyError",
     "evalue": "'[36, 37, 38, 39, 42, 44, 45, 51, 55, 58, 59, 62, 63, 64, 74, 75, 80, 83, 84, 85, 86, 87, 88, 89, 90, 91, 92, 93, 94, 95, 96, 97, 98, 99, 100, 101, 102, 103, 104, 105, 106, 107, 108, 109, 110, 111, 112, 113, 114, 115, 116, 117, 118, 119, 120, 121, 122, 123, 124, 125, 126, 127, 128, 129, 130, 131, 132, 133, 134, 135, 136, 137, 138, 139, 140, 141, 142, 143, 144, 145, 146, 147, 148, 149, 150, 151, 152, 153, 154, 155, 156, 157, 158, 159, 160, 161, 174, 177, 180, 183, 215, 219, 220, 223, 226, 229, 232, 241, 244, 507, 1028, 1030, 1032, 1035, 1036, 1037, 1038, 1087, 1089] not in index'",
     "output_type": "error",
     "traceback": [
      "\u001b[0;31m---------------------------------------------------------------------------\u001b[0m",
      "\u001b[0;31mKeyError\u001b[0m                                  Traceback (most recent call last)",
      "Cell \u001b[0;32mIn[170], line 2\u001b[0m\n\u001b[1;32m      1\u001b[0m \u001b[38;5;66;03m# check geographical distribution of test set labels\u001b[39;00m\n\u001b[0;32m----> 2\u001b[0m \u001b[43mdata\u001b[49m\u001b[38;5;241;43m.\u001b[39;49m\u001b[43mloc\u001b[49m\u001b[43m[\u001b[49m\u001b[43my_test\u001b[49m\u001b[38;5;241;43m.\u001b[39;49m\u001b[43mindex\u001b[49m\u001b[43m,\u001b[49m\u001b[38;5;124;43m'\u001b[39;49m\u001b[38;5;124;43mpred_correct\u001b[39;49m\u001b[38;5;124;43m'\u001b[39;49m\u001b[43m]\u001b[49m \u001b[38;5;241m=\u001b[39m y_test \u001b[38;5;241m==\u001b[39m y_test_pred\n\u001b[1;32m      4\u001b[0m data[data[\u001b[38;5;124m'\u001b[39m\u001b[38;5;124mresponse\u001b[39m\u001b[38;5;124m'\u001b[39m]\u001b[38;5;241m==\u001b[39m\u001b[38;5;241m1\u001b[39m]\u001b[38;5;241m.\u001b[39mgroupby([\u001b[38;5;124m'\u001b[39m\u001b[38;5;124mstate\u001b[39m\u001b[38;5;124m'\u001b[39m])[\u001b[38;5;124m'\u001b[39m\u001b[38;5;124mpred_correct\u001b[39m\u001b[38;5;124m'\u001b[39m]\u001b[38;5;241m.\u001b[39mvalue_counts(normalize\u001b[38;5;241m=\u001b[39m\u001b[38;5;28;01mTrue\u001b[39;00m)\u001b[38;5;241m.\u001b[39munstack()\u001b[38;5;241m.\u001b[39mfillna(\u001b[38;5;241m0\u001b[39m)\u001b[38;5;241m.\u001b[39mstyle\u001b[38;5;241m.\u001b[39mformat(\u001b[38;5;124m\"\u001b[39m\u001b[38;5;132;01m{:,.1%}\u001b[39;00m\u001b[38;5;124m\"\u001b[39m)\n",
      "File \u001b[0;32m/opt/conda/lib/python3.10/site-packages/pandas/core/indexing.py:712\u001b[0m, in \u001b[0;36m_LocationIndexer.__setitem__\u001b[0;34m(self, key, value)\u001b[0m\n\u001b[1;32m    710\u001b[0m \u001b[38;5;28;01melse\u001b[39;00m:\n\u001b[1;32m    711\u001b[0m     key \u001b[38;5;241m=\u001b[39m com\u001b[38;5;241m.\u001b[39mapply_if_callable(key, \u001b[38;5;28mself\u001b[39m\u001b[38;5;241m.\u001b[39mobj)\n\u001b[0;32m--> 712\u001b[0m indexer \u001b[38;5;241m=\u001b[39m \u001b[38;5;28;43mself\u001b[39;49m\u001b[38;5;241;43m.\u001b[39;49m\u001b[43m_get_setitem_indexer\u001b[49m\u001b[43m(\u001b[49m\u001b[43mkey\u001b[49m\u001b[43m)\u001b[49m\n\u001b[1;32m    713\u001b[0m \u001b[38;5;28mself\u001b[39m\u001b[38;5;241m.\u001b[39m_has_valid_setitem_indexer(key)\n\u001b[1;32m    715\u001b[0m iloc \u001b[38;5;241m=\u001b[39m \u001b[38;5;28mself\u001b[39m \u001b[38;5;28;01mif\u001b[39;00m \u001b[38;5;28mself\u001b[39m\u001b[38;5;241m.\u001b[39mname \u001b[38;5;241m==\u001b[39m \u001b[38;5;124m\"\u001b[39m\u001b[38;5;124miloc\u001b[39m\u001b[38;5;124m\"\u001b[39m \u001b[38;5;28;01melse\u001b[39;00m \u001b[38;5;28mself\u001b[39m\u001b[38;5;241m.\u001b[39mobj\u001b[38;5;241m.\u001b[39miloc\n",
      "File \u001b[0;32m/opt/conda/lib/python3.10/site-packages/pandas/core/indexing.py:661\u001b[0m, in \u001b[0;36m_LocationIndexer._get_setitem_indexer\u001b[0;34m(self, key)\u001b[0m\n\u001b[1;32m    659\u001b[0m \u001b[38;5;28;01mif\u001b[39;00m \u001b[38;5;28misinstance\u001b[39m(key, \u001b[38;5;28mtuple\u001b[39m):\n\u001b[1;32m    660\u001b[0m     \u001b[38;5;28;01mwith\u001b[39;00m suppress(IndexingError):\n\u001b[0;32m--> 661\u001b[0m         \u001b[38;5;28;01mreturn\u001b[39;00m \u001b[38;5;28;43mself\u001b[39;49m\u001b[38;5;241;43m.\u001b[39;49m\u001b[43m_convert_tuple\u001b[49m\u001b[43m(\u001b[49m\u001b[43mkey\u001b[49m\u001b[43m)\u001b[49m\n\u001b[1;32m    663\u001b[0m \u001b[38;5;28;01mif\u001b[39;00m \u001b[38;5;28misinstance\u001b[39m(key, \u001b[38;5;28mrange\u001b[39m):\n\u001b[1;32m    664\u001b[0m     \u001b[38;5;28;01mreturn\u001b[39;00m \u001b[38;5;28mlist\u001b[39m(key)\n",
      "File \u001b[0;32m/opt/conda/lib/python3.10/site-packages/pandas/core/indexing.py:799\u001b[0m, in \u001b[0;36m_LocationIndexer._convert_tuple\u001b[0;34m(self, key)\u001b[0m\n\u001b[1;32m    797\u001b[0m     \u001b[38;5;28mself\u001b[39m\u001b[38;5;241m.\u001b[39m_validate_key_length(key)\n\u001b[1;32m    798\u001b[0m     \u001b[38;5;28;01mfor\u001b[39;00m i, k \u001b[38;5;129;01min\u001b[39;00m \u001b[38;5;28menumerate\u001b[39m(key):\n\u001b[0;32m--> 799\u001b[0m         idx \u001b[38;5;241m=\u001b[39m \u001b[38;5;28;43mself\u001b[39;49m\u001b[38;5;241;43m.\u001b[39;49m\u001b[43m_convert_to_indexer\u001b[49m\u001b[43m(\u001b[49m\u001b[43mk\u001b[49m\u001b[43m,\u001b[49m\u001b[43m \u001b[49m\u001b[43maxis\u001b[49m\u001b[38;5;241;43m=\u001b[39;49m\u001b[43mi\u001b[49m\u001b[43m)\u001b[49m\n\u001b[1;32m    800\u001b[0m         keyidx\u001b[38;5;241m.\u001b[39mappend(idx)\n\u001b[1;32m    802\u001b[0m \u001b[38;5;28;01mreturn\u001b[39;00m \u001b[38;5;28mtuple\u001b[39m(keyidx)\n",
      "File \u001b[0;32m/opt/conda/lib/python3.10/site-packages/pandas/core/indexing.py:1291\u001b[0m, in \u001b[0;36m_LocIndexer._convert_to_indexer\u001b[0;34m(self, key, axis)\u001b[0m\n\u001b[1;32m   1289\u001b[0m         \u001b[38;5;28;01mreturn\u001b[39;00m inds\n\u001b[1;32m   1290\u001b[0m     \u001b[38;5;28;01melse\u001b[39;00m:\n\u001b[0;32m-> 1291\u001b[0m         \u001b[38;5;28;01mreturn\u001b[39;00m \u001b[38;5;28;43mself\u001b[39;49m\u001b[38;5;241;43m.\u001b[39;49m\u001b[43m_get_listlike_indexer\u001b[49m\u001b[43m(\u001b[49m\u001b[43mkey\u001b[49m\u001b[43m,\u001b[49m\u001b[43m \u001b[49m\u001b[43maxis\u001b[49m\u001b[43m)\u001b[49m[\u001b[38;5;241m1\u001b[39m]\n\u001b[1;32m   1292\u001b[0m \u001b[38;5;28;01melse\u001b[39;00m:\n\u001b[1;32m   1293\u001b[0m     \u001b[38;5;28;01mtry\u001b[39;00m:\n",
      "File \u001b[0;32m/opt/conda/lib/python3.10/site-packages/pandas/core/indexing.py:1327\u001b[0m, in \u001b[0;36m_LocIndexer._get_listlike_indexer\u001b[0;34m(self, key, axis)\u001b[0m\n\u001b[1;32m   1324\u001b[0m ax \u001b[38;5;241m=\u001b[39m \u001b[38;5;28mself\u001b[39m\u001b[38;5;241m.\u001b[39mobj\u001b[38;5;241m.\u001b[39m_get_axis(axis)\n\u001b[1;32m   1325\u001b[0m axis_name \u001b[38;5;241m=\u001b[39m \u001b[38;5;28mself\u001b[39m\u001b[38;5;241m.\u001b[39mobj\u001b[38;5;241m.\u001b[39m_get_axis_name(axis)\n\u001b[0;32m-> 1327\u001b[0m keyarr, indexer \u001b[38;5;241m=\u001b[39m \u001b[43max\u001b[49m\u001b[38;5;241;43m.\u001b[39;49m\u001b[43m_get_indexer_strict\u001b[49m\u001b[43m(\u001b[49m\u001b[43mkey\u001b[49m\u001b[43m,\u001b[49m\u001b[43m \u001b[49m\u001b[43maxis_name\u001b[49m\u001b[43m)\u001b[49m\n\u001b[1;32m   1329\u001b[0m \u001b[38;5;28;01mreturn\u001b[39;00m keyarr, indexer\n",
      "File \u001b[0;32m/opt/conda/lib/python3.10/site-packages/pandas/core/indexes/base.py:5782\u001b[0m, in \u001b[0;36mIndex._get_indexer_strict\u001b[0;34m(self, key, axis_name)\u001b[0m\n\u001b[1;32m   5779\u001b[0m \u001b[38;5;28;01melse\u001b[39;00m:\n\u001b[1;32m   5780\u001b[0m     keyarr, indexer, new_indexer \u001b[38;5;241m=\u001b[39m \u001b[38;5;28mself\u001b[39m\u001b[38;5;241m.\u001b[39m_reindex_non_unique(keyarr)\n\u001b[0;32m-> 5782\u001b[0m \u001b[38;5;28;43mself\u001b[39;49m\u001b[38;5;241;43m.\u001b[39;49m\u001b[43m_raise_if_missing\u001b[49m\u001b[43m(\u001b[49m\u001b[43mkeyarr\u001b[49m\u001b[43m,\u001b[49m\u001b[43m \u001b[49m\u001b[43mindexer\u001b[49m\u001b[43m,\u001b[49m\u001b[43m \u001b[49m\u001b[43maxis_name\u001b[49m\u001b[43m)\u001b[49m\n\u001b[1;32m   5784\u001b[0m keyarr \u001b[38;5;241m=\u001b[39m \u001b[38;5;28mself\u001b[39m\u001b[38;5;241m.\u001b[39mtake(indexer)\n\u001b[1;32m   5785\u001b[0m \u001b[38;5;28;01mif\u001b[39;00m \u001b[38;5;28misinstance\u001b[39m(key, Index):\n\u001b[1;32m   5786\u001b[0m     \u001b[38;5;66;03m# GH 42790 - Preserve name from an Index\u001b[39;00m\n",
      "File \u001b[0;32m/opt/conda/lib/python3.10/site-packages/pandas/core/indexes/base.py:5845\u001b[0m, in \u001b[0;36mIndex._raise_if_missing\u001b[0;34m(self, key, indexer, axis_name)\u001b[0m\n\u001b[1;32m   5842\u001b[0m     \u001b[38;5;28;01mraise\u001b[39;00m \u001b[38;5;167;01mKeyError\u001b[39;00m(\u001b[38;5;124mf\u001b[39m\u001b[38;5;124m\"\u001b[39m\u001b[38;5;124mNone of [\u001b[39m\u001b[38;5;132;01m{\u001b[39;00mkey\u001b[38;5;132;01m}\u001b[39;00m\u001b[38;5;124m] are in the [\u001b[39m\u001b[38;5;132;01m{\u001b[39;00maxis_name\u001b[38;5;132;01m}\u001b[39;00m\u001b[38;5;124m]\u001b[39m\u001b[38;5;124m\"\u001b[39m)\n\u001b[1;32m   5844\u001b[0m not_found \u001b[38;5;241m=\u001b[39m \u001b[38;5;28mlist\u001b[39m(ensure_index(key)[missing_mask\u001b[38;5;241m.\u001b[39mnonzero()[\u001b[38;5;241m0\u001b[39m]]\u001b[38;5;241m.\u001b[39munique())\n\u001b[0;32m-> 5845\u001b[0m \u001b[38;5;28;01mraise\u001b[39;00m \u001b[38;5;167;01mKeyError\u001b[39;00m(\u001b[38;5;124mf\u001b[39m\u001b[38;5;124m\"\u001b[39m\u001b[38;5;132;01m{\u001b[39;00mnot_found\u001b[38;5;132;01m}\u001b[39;00m\u001b[38;5;124m not in index\u001b[39m\u001b[38;5;124m\"\u001b[39m)\n",
      "\u001b[0;31mKeyError\u001b[0m: '[36, 37, 38, 39, 42, 44, 45, 51, 55, 58, 59, 62, 63, 64, 74, 75, 80, 83, 84, 85, 86, 87, 88, 89, 90, 91, 92, 93, 94, 95, 96, 97, 98, 99, 100, 101, 102, 103, 104, 105, 106, 107, 108, 109, 110, 111, 112, 113, 114, 115, 116, 117, 118, 119, 120, 121, 122, 123, 124, 125, 126, 127, 128, 129, 130, 131, 132, 133, 134, 135, 136, 137, 138, 139, 140, 141, 142, 143, 144, 145, 146, 147, 148, 149, 150, 151, 152, 153, 154, 155, 156, 157, 158, 159, 160, 161, 174, 177, 180, 183, 215, 219, 220, 223, 226, 229, 232, 241, 244, 507, 1028, 1030, 1032, 1035, 1036, 1037, 1038, 1087, 1089] not in index'"
     ]
    }
   ],
   "source": [
    "# check geographical distribution of test set labels\n",
    "data.loc[y_test.index,'pred_correct'] = y_test == y_test_pred\n",
    "\n",
    "data[data['response']==1].groupby(['state'])['pred_correct'].value_counts(normalize=True).unstack().fillna(0).style.format(\"{:,.1%}\")"
   ]
  },
  {
   "cell_type": "code",
   "execution_count": 177,
   "metadata": {
    "tags": []
   },
   "outputs": [
    {
     "data": {
      "text/html": [
       "<div>\n",
       "<style scoped>\n",
       "    .dataframe tbody tr th:only-of-type {\n",
       "        vertical-align: middle;\n",
       "    }\n",
       "\n",
       "    .dataframe tbody tr th {\n",
       "        vertical-align: top;\n",
       "    }\n",
       "\n",
       "    .dataframe thead th {\n",
       "        text-align: right;\n",
       "    }\n",
       "</style>\n",
       "<table border=\"1\" class=\"dataframe\">\n",
       "  <thead>\n",
       "    <tr style=\"text-align: right;\">\n",
       "      <th>response</th>\n",
       "      <th>0</th>\n",
       "      <th>1</th>\n",
       "    </tr>\n",
       "    <tr>\n",
       "      <th>state</th>\n",
       "      <th></th>\n",
       "      <th></th>\n",
       "    </tr>\n",
       "  </thead>\n",
       "  <tbody>\n",
       "    <tr>\n",
       "      <th>AZ</th>\n",
       "      <td>0.0</td>\n",
       "      <td>2.0</td>\n",
       "    </tr>\n",
       "    <tr>\n",
       "      <th>CA</th>\n",
       "      <td>6.0</td>\n",
       "      <td>17.0</td>\n",
       "    </tr>\n",
       "    <tr>\n",
       "      <th>CO</th>\n",
       "      <td>0.0</td>\n",
       "      <td>4.0</td>\n",
       "    </tr>\n",
       "  </tbody>\n",
       "</table>\n",
       "</div>"
      ],
      "text/plain": [
       "response    0     1\n",
       "state              \n",
       "AZ        0.0   2.0\n",
       "CA        6.0  17.0\n",
       "CO        0.0   4.0"
      ]
     },
     "execution_count": 177,
     "metadata": {},
     "output_type": "execute_result"
    }
   ],
   "source": [
    "data[data['pred_correct'] == False].groupby(['response'])['state'].value_counts().unstack().T.fillna(0)"
   ]
  },
  {
   "cell_type": "code",
   "execution_count": 172,
   "metadata": {
    "tags": []
   },
   "outputs": [
    {
     "data": {
      "text/html": [
       "<div>\n",
       "<style scoped>\n",
       "    .dataframe tbody tr th:only-of-type {\n",
       "        vertical-align: middle;\n",
       "    }\n",
       "\n",
       "    .dataframe tbody tr th {\n",
       "        vertical-align: top;\n",
       "    }\n",
       "\n",
       "    .dataframe thead th {\n",
       "        text-align: right;\n",
       "    }\n",
       "</style>\n",
       "<table border=\"1\" class=\"dataframe\">\n",
       "  <thead>\n",
       "    <tr style=\"text-align: right;\">\n",
       "      <th>pred_correct</th>\n",
       "      <th>False</th>\n",
       "      <th>True</th>\n",
       "    </tr>\n",
       "    <tr>\n",
       "      <th>state</th>\n",
       "      <th></th>\n",
       "      <th></th>\n",
       "    </tr>\n",
       "  </thead>\n",
       "  <tbody>\n",
       "    <tr>\n",
       "      <th>AZ</th>\n",
       "      <td>2.0</td>\n",
       "      <td>0.0</td>\n",
       "    </tr>\n",
       "    <tr>\n",
       "      <th>CA</th>\n",
       "      <td>17.0</td>\n",
       "      <td>20.0</td>\n",
       "    </tr>\n",
       "    <tr>\n",
       "      <th>CO</th>\n",
       "      <td>4.0</td>\n",
       "      <td>1.0</td>\n",
       "    </tr>\n",
       "    <tr>\n",
       "      <th>NM</th>\n",
       "      <td>0.0</td>\n",
       "      <td>9.0</td>\n",
       "    </tr>\n",
       "  </tbody>\n",
       "</table>\n",
       "</div>"
      ],
      "text/plain": [
       "pred_correct  False  True\n",
       "state                    \n",
       "AZ              2.0   0.0\n",
       "CA             17.0  20.0\n",
       "CO              4.0   1.0\n",
       "NM              0.0   9.0"
      ]
     },
     "execution_count": 172,
     "metadata": {},
     "output_type": "execute_result"
    }
   ],
   "source": [
    "data[data['response']==1].groupby(['state'])['pred_correct'].value_counts(normalize=False).unstack().fillna(0)#.style.format(\"{:,.1%}\")"
   ]
  },
  {
   "cell_type": "code",
   "execution_count": 19,
   "metadata": {
    "tags": []
   },
   "outputs": [
    {
     "name": "stdout",
     "output_type": "stream",
     "text": [
      "Training accuracy: 0.9977064220183486\n",
      "Test accuracy: 0.8584474885844748\n",
      "\n",
      "\n",
      "F1 Score (test): 0.6930693069306931\n"
     ]
    },
    {
     "data": {
      "image/png": "[encoded data removed]",
      "text/plain": [
       "<Figure size 640x480 with 1 Axes>"
      ]
     },
     "metadata": {},
     "output_type": "display_data"
    }
   ],
   "source": [
    "# 30 MIN\n",
    "\n",
    "# Load data\n",
    "data = pd.read_csv('../../data/ofr20161106-na-omit-feat-30.csv')\n",
    "X = data.iloc[:, :4] # input features\n",
    "y = data.iloc[:, 4] # debris flow bool\n",
    "\n",
    "X_train, X_test, y_train, y_test = train_test_split(X, y, test_size=0.2, random_state=seed)\n",
    "\n",
    "# instantiate and fit model on training data\n",
    "clf = RandomForestClassifier(random_state=seed).fit(X_train, y_train)\n",
    "\n",
    "# predict training data\n",
    "y_train_pred = clf.predict(X_train)\n",
    "\n",
    "# predict testing data\n",
    "y_test_pred = clf.predict(X_test)\n",
    "\n",
    "# store probabilities\n",
    "y_train_proba = clf.predict_proba(X_train)\n",
    "y_test_proba = clf.predict_proba(X_test)\n",
    "\n",
    "\n",
    "# accuracy\n",
    "train_pred_correct = sum(y_train == y_train_pred)\n",
    "train_accuracy = (train_pred_correct / y_train.shape[0])\n",
    "print(f'Training accuracy: {train_accuracy}')\n",
    "\n",
    "test_pred_correct = sum(y_test == y_test_pred)\n",
    "test_accuracy = (test_pred_correct / y_test.shape[0])\n",
    "print(f'Test accuracy: {test_accuracy}')\n",
    "\n",
    "# f1\n",
    "f1_output = f1_score(y_test, y_test_pred)\n",
    "print(\"\\n\")\n",
    "print(f'F1 Score (test): {f1_output}')\n",
    "\n",
    "# plot AUC\n",
    "fig, ax = plt.subplots()\n",
    "\n",
    "RocCurveDisplay.from_predictions(y_train, \n",
    "                                 y_train_pred,\n",
    "                                 ax=ax, \n",
    "                                 linewidth=1, \n",
    "                                 color='red', \n",
    "                                 name='train', \n",
    "                                 linestyle=\"dashed\"\n",
    "                                );\n",
    "\n",
    "RocCurveDisplay.from_predictions(y_test, \n",
    "                                 y_test_pred,\n",
    "                                 ax=ax, \n",
    "                                 linewidth=1, \n",
    "                                 color='yellow', \n",
    "                                 name='test');\n",
    "\n",
    "plt.title('RandomForest: 30 min rain accum.');"
   ]
  },
  {
   "cell_type": "code",
   "execution_count": 20,
   "metadata": {},
   "outputs": [
    {
     "name": "stdout",
     "output_type": "stream",
     "text": [
      "Training accuracy: 1.0\n",
      "Test accuracy: 0.867579908675799\n",
      "\n",
      "\n",
      "F1 Score (test): 0.7010309278350515\n"
     ]
    },
    {
     "data": {
      "image/png": "[encoded data removed]",
      "text/plain": [
       "<Figure size 640x480 with 1 Axes>"
      ]
     },
     "metadata": {},
     "output_type": "display_data"
    }
   ],
   "source": [
    "# 60 MIN\n",
    "\n",
    "# Load data\n",
    "data = pd.read_csv('../../data/ofr20161106-na-omit-feat-60.csv')\n",
    "X = data.iloc[:, :4] # input features\n",
    "y = data.iloc[:, 4] # debris flow bool\n",
    "\n",
    "X_train, X_test, y_train, y_test = train_test_split(X, y, test_size=0.2, random_state=seed)\n",
    "\n",
    "# instantiate and fit model on training data\n",
    "clf = RandomForestClassifier(random_state=seed).fit(X_train, y_train)\n",
    "\n",
    "# predict training data\n",
    "y_train_pred = clf.predict(X_train)\n",
    "\n",
    "# predict testing data\n",
    "y_test_pred = clf.predict(X_test)\n",
    "\n",
    "# store probabilities\n",
    "y_train_proba = clf.predict_proba(X_train)\n",
    "y_test_proba = clf.predict_proba(X_test)\n",
    "\n",
    "\n",
    "# accuracy\n",
    "train_pred_correct = sum(y_train == y_train_pred)\n",
    "train_accuracy = (train_pred_correct / y_train.shape[0])\n",
    "print(f'Training accuracy: {train_accuracy}')\n",
    "\n",
    "test_pred_correct = sum(y_test == y_test_pred)\n",
    "test_accuracy = (test_pred_correct / y_test.shape[0])\n",
    "print(f'Test accuracy: {test_accuracy}')\n",
    "\n",
    "# f1\n",
    "f1_output = f1_score(y_test, y_test_pred)\n",
    "print(\"\\n\")\n",
    "print(f'F1 Score (test): {f1_output}')\n",
    "\n",
    "# plot AUC\n",
    "fig, ax = plt.subplots()\n",
    "\n",
    "RocCurveDisplay.from_predictions(y_train, \n",
    "                                 y_train_pred,\n",
    "                                 ax=ax, \n",
    "                                 linewidth=1, \n",
    "                                 color='red', \n",
    "                                 name='train', \n",
    "                                 linestyle=\"dashed\"\n",
    "                                );\n",
    "\n",
    "RocCurveDisplay.from_predictions(y_test, \n",
    "                                 y_test_pred,\n",
    "                                 ax=ax, \n",
    "                                 linewidth=1, \n",
    "                                 color='yellow', \n",
    "                                 name='test');\n",
    "\n",
    "plt.title('RandomForest: 60 min rain accum.');"
   ]
  },
  {
   "cell_type": "code",
   "execution_count": null,
   "metadata": {},
   "outputs": [],
   "source": []
  },
  {
   "cell_type": "code",
   "execution_count": null,
   "metadata": {},
   "outputs": [],
   "source": []
  },
  {
   "cell_type": "code",
   "execution_count": null,
   "metadata": {},
   "outputs": [],
   "source": []
  },
  {
   "cell_type": "code",
   "execution_count": null,
   "metadata": {},
   "outputs": [],
   "source": []
  }
 ],
 "metadata": {
  "kernelspec": {
   "display_name": "Python 3 (ipykernel)",
   "language": "python",
   "name": "python3"
  },
  "language_info": {
   "codemirror_mode": {
    "name": "ipython",
    "version": 3
   },
   "file_extension": ".py",
   "mimetype": "text/x-python",
   "name": "python",
   "nbconvert_exporter": "python",
   "pygments_lexer": "ipython3",
   "version": "3.10.10"
  }
 },
 "nbformat": 4,
 "nbformat_minor": 4
}
