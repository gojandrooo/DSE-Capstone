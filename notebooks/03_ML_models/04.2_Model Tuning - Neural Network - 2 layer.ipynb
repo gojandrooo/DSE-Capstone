{
 "cells": [
  {
   "cell_type": "markdown",
   "metadata": {
    "tags": []
   },
   "source": [
    "# Neural Network Model Tuning\n",
    "\n",
    "- Alejandro Hohmann\n",
    "- Bhanu Muvva\n",
    "- Chunxia Tong\n",
    "\n",
    "The purpose of this notebook is with new features and hyperparameter tuning on Neural Network"
   ]
  },
  {
   "cell_type": "markdown",
   "metadata": {},
   "source": [
    "# Table of Contents\n",
    "\n",
    "### - [Neural Net Architecture](#NN)\n",
    "- imported from .py file\n",
    "\n",
    "### - [Initial Grid Search for HyperParameters](#HYPER)\n",
    "- selects optimization metric\n",
    "\n",
    "### - [SHAP Values for Feature Importance](#SHAP)\n",
    "        - used for narrowing down to most important features\n",
    "\n",
    "### - [Feature Selection Using SHAP order](#FEATURE)\n",
    "\n",
    "### - [Best Model with Epochs](#BEST)\n",
    "- saves values to .json file and .pth file\n",
    "\n",
    "### - [Confusion Matrix](#MATRIX)\n",
    "- assesses probability distribution and states"
   ]
  },
  {
   "cell_type": "code",
   "execution_count": 1,
   "metadata": {
    "tags": []
   },
   "outputs": [],
   "source": [
    "# assign seed now for consistency any time it needs to be used\n",
    "seed=27"
   ]
  },
  {
   "cell_type": "code",
   "execution_count": 1,
   "metadata": {
    "tags": []
   },
   "outputs": [],
   "source": [
    "# file structure libraries\n",
    "import numpy as np\n",
    "import pandas as pd\n",
    "import geopandas as gpd\n",
    "import os\n",
    "import pickle\n",
    "\n",
    "# # visualization libraries\n",
    "from matplotlib import pyplot as plt\n",
    "#plt.style.use('seaborn-v0_8-pastel')\n",
    "plt.style.use('seaborn-v0_8-darkgrid')\n",
    "#plt.style.use('bmh')\n",
    "#plt.style.use('dark_background')\n",
    "#plt.style.use('fivethirtyeight')\n",
    "%matplotlib inline\n",
    "# import seaborn as sns\n",
    "\n",
    "# # ML libraries\n",
    "# from sklearn.preprocessing import StandardScaler\n",
    "# from sklearn.linear_model import LogisticRegression\n",
    "from sklearn.model_selection import ParameterGrid\n",
    "from sklearn.metrics import accuracy_score, precision_score, recall_score, f1_score, roc_auc_score, RocCurveDisplay#, roc_curve\n",
    "# from sklearn.metrics import confusion_matrix\n",
    "from sklearn.preprocessing import StandardScaler\n",
    "\n",
    "# # for sigmoid function, in case we need to manually implement in LR\n",
    "# from scipy.stats import logistic\n",
    "\n",
    "import torch\n",
    "import torch.nn as nn\n",
    "import torch.optim as optim\n",
    "import shap"
   ]
  },
  {
   "cell_type": "code",
   "execution_count": 2,
   "metadata": {},
   "outputs": [
    {
     "name": "stdout",
     "output_type": "stream",
     "text": [
      "start time: 2023-06-08 00:58:26.608097\n"
     ]
    }
   ],
   "source": [
    "# start of notebook\n",
    "from datetime import datetime\n",
    "start_time = datetime.now()\n",
    "print('start time:', str(start_time))"
   ]
  },
  {
   "cell_type": "code",
   "execution_count": 3,
   "metadata": {
    "tags": []
   },
   "outputs": [
    {
     "data": {
      "text/plain": [
       "True"
      ]
     },
     "execution_count": 3,
     "metadata": {},
     "output_type": "execute_result"
    }
   ],
   "source": [
    "torch.cuda.is_available()"
   ]
  },
  {
   "cell_type": "code",
   "execution_count": 4,
   "metadata": {
    "tags": []
   },
   "outputs": [
    {
     "data": {
      "text/plain": [
       "4"
      ]
     },
     "execution_count": 4,
     "metadata": {},
     "output_type": "execute_result"
    }
   ],
   "source": [
    "torch.cuda.device_count()"
   ]
  },
  {
   "cell_type": "code",
   "execution_count": 5,
   "metadata": {
    "tags": []
   },
   "outputs": [
    {
     "name": "stdout",
     "output_type": "stream",
     "text": [
      "NVIDIA GeForce GTX 1080 Ti\n",
      "NVIDIA GeForce GTX 1080 Ti\n",
      "NVIDIA GeForce GTX 1080 Ti\n",
      "NVIDIA GeForce GTX 1080 Ti\n"
     ]
    }
   ],
   "source": [
    "for i in range(torch.cuda.device_count()):\n",
    "    print(torch.cuda.get_device_name(i))"
   ]
  },
  {
   "cell_type": "code",
   "execution_count": 6,
   "metadata": {
    "tags": []
   },
   "outputs": [],
   "source": [
    "# our system has 8 GPUs\n",
    "# we won't need them all at the same time but can be helpful\n",
    "\n",
    "device_0 = torch.device(\"cuda:0\" if torch.cuda.is_available() else \"cpu\")\n",
    "device_1 = torch.device(\"cuda:1\" if torch.cuda.is_available() else \"cpu\")\n",
    "device_2 = torch.device(\"cuda:2\" if torch.cuda.is_available() else \"cpu\")\n",
    "device_3 = torch.device(\"cuda:3\" if torch.cuda.is_available() else \"cpu\")\n",
    "device_4 = torch.device(\"cuda:4\" if torch.cuda.is_available() else \"cpu\")\n",
    "device_5 = torch.device(\"cuda:5\" if torch.cuda.is_available() else \"cpu\")\n",
    "device_6 = torch.device(\"cuda:6\" if torch.cuda.is_available() else \"cpu\")\n",
    "device_7 = torch.device(\"cuda:7\" if torch.cuda.is_available() else \"cpu\")\n",
    "\n",
    "devices = [\n",
    "    device_0,\n",
    "    device_1,\n",
    "    device_2,\n",
    "    device_3,\n",
    "    device_4,\n",
    "    device_5,\n",
    "    device_6,\n",
    "    device_7,\n",
    "]"
   ]
  },
  {
   "cell_type": "code",
   "execution_count": 7,
   "metadata": {
    "tags": []
   },
   "outputs": [
    {
     "data": {
      "text/plain": [
       "device(type='cuda', index=1)"
      ]
     },
     "execution_count": 7,
     "metadata": {},
     "output_type": "execute_result"
    }
   ],
   "source": [
    "# SELECT YOUR DEVICE FOR THIS NOTEBOOK\n",
    "idx = 1\n",
    "device = devices[idx] # change index to select\n",
    "device"
   ]
  },
  {
   "cell_type": "markdown",
   "metadata": {},
   "source": [
    "## Neural Net <a id=\"NN\">"
   ]
  },
  {
   "cell_type": "code",
   "execution_count": 8,
   "metadata": {
    "tags": []
   },
   "outputs": [],
   "source": [
    "# load in the model class\n",
    "import sys\n",
    "sys.path.append(\"../../app/model/\")\n",
    "import ModelNN as Net"
   ]
  },
  {
   "cell_type": "code",
   "execution_count": 9,
   "metadata": {
    "tags": []
   },
   "outputs": [
    {
     "name": "stdout",
     "output_type": "stream",
     "text": [
      "<class 'ModelNN.Net'>\n",
      "<class 'ModelNN.OneLayer'>\n",
      "<class 'ModelNN.ThreeLayer'>\n",
      "<class 'ModelNN.TwoLayer'>\n"
     ]
    }
   ],
   "source": [
    "import inspect\n",
    "\n",
    "# we've defined multiple architectures to select from\n",
    "for name, obj in inspect.getmembers(Net):\n",
    "    if inspect.isclass(obj):\n",
    "        print(obj)"
   ]
  },
  {
   "cell_type": "code",
   "execution_count": 10,
   "metadata": {
    "tags": []
   },
   "outputs": [
    {
     "name": "stdout",
     "output_type": "stream",
     "text": [
      "X_train:  (1192, 13)\n",
      "X_test:  (271, 13)\n",
      "\n",
      "\n",
      "y_train:  (1192,)\n",
      "y_test:  (271,)\n"
     ]
    }
   ],
   "source": [
    "# LOAD IN DATA\n",
    "X_train_df, X_test_df, y_train_df, y_test_df = pickle.load(open(\"../../data/train_test_data.pkl\", \"rb\"))\n",
    "\n",
    "print(\"X_train: \", X_train_df.shape)\n",
    "print(\"X_test: \", X_test_df.shape)\n",
    "print(\"\\n\")\n",
    "print(\"y_train: \", y_train_df.shape)\n",
    "print(\"y_test: \", y_test_df.shape)"
   ]
  },
  {
   "cell_type": "markdown",
   "metadata": {},
   "source": [
    "# Grid Search for HyperParameter Tuning <a id=\"HYPER\">\n",
    "    \n",
    "- optimize grid search with different model metrics to decide on optimal path forward"
   ]
  },
  {
   "cell_type": "code",
   "execution_count": 11,
   "metadata": {
    "tags": []
   },
   "outputs": [
    {
     "data": {
      "text/html": [
       "<div>\n",
       "<style scoped>\n",
       "    .dataframe tbody tr th:only-of-type {\n",
       "        vertical-align: middle;\n",
       "    }\n",
       "\n",
       "    .dataframe tbody tr th {\n",
       "        vertical-align: top;\n",
       "    }\n",
       "\n",
       "    .dataframe thead th {\n",
       "        text-align: right;\n",
       "    }\n",
       "</style>\n",
       "<table border=\"1\" class=\"dataframe\">\n",
       "  <thead>\n",
       "    <tr style=\"text-align: right;\">\n",
       "      <th></th>\n",
       "      <th>test_accuracy</th>\n",
       "      <th>test_precision</th>\n",
       "      <th>test_recall</th>\n",
       "      <th>test_f1_score</th>\n",
       "      <th>test_auc</th>\n",
       "      <th>training_loss</th>\n",
       "      <th>validation_loss</th>\n",
       "      <th>epochs</th>\n",
       "      <th>hyper_params</th>\n",
       "    </tr>\n",
       "  </thead>\n",
       "  <tbody>\n",
       "    <tr>\n",
       "      <th>recall_score</th>\n",
       "      <td>NaN</td>\n",
       "      <td>NaN</td>\n",
       "      <td>NaN</td>\n",
       "      <td>NaN</td>\n",
       "      <td>NaN</td>\n",
       "      <td>NaN</td>\n",
       "      <td>NaN</td>\n",
       "      <td>NaN</td>\n",
       "      <td>NaN</td>\n",
       "    </tr>\n",
       "    <tr>\n",
       "      <th>f1_score</th>\n",
       "      <td>NaN</td>\n",
       "      <td>NaN</td>\n",
       "      <td>NaN</td>\n",
       "      <td>NaN</td>\n",
       "      <td>NaN</td>\n",
       "      <td>NaN</td>\n",
       "      <td>NaN</td>\n",
       "      <td>NaN</td>\n",
       "      <td>NaN</td>\n",
       "    </tr>\n",
       "    <tr>\n",
       "      <th>roc_auc_score</th>\n",
       "      <td>NaN</td>\n",
       "      <td>NaN</td>\n",
       "      <td>NaN</td>\n",
       "      <td>NaN</td>\n",
       "      <td>NaN</td>\n",
       "      <td>NaN</td>\n",
       "      <td>NaN</td>\n",
       "      <td>NaN</td>\n",
       "      <td>NaN</td>\n",
       "    </tr>\n",
       "  </tbody>\n",
       "</table>\n",
       "</div>"
      ],
      "text/plain": [
       "              test_accuracy test_precision test_recall test_f1_score test_auc  \\\n",
       "recall_score            NaN            NaN         NaN           NaN      NaN   \n",
       "f1_score                NaN            NaN         NaN           NaN      NaN   \n",
       "roc_auc_score           NaN            NaN         NaN           NaN      NaN   \n",
       "\n",
       "              training_loss validation_loss epochs hyper_params  \n",
       "recall_score            NaN             NaN    NaN          NaN  \n",
       "f1_score                NaN             NaN    NaN          NaN  \n",
       "roc_auc_score           NaN             NaN    NaN          NaN  "
      ]
     },
     "execution_count": 11,
     "metadata": {},
     "output_type": "execute_result"
    }
   ],
   "source": [
    "# list of functions\n",
    "metrics =[\n",
    "    recall_score,\n",
    "    f1_score,\n",
    "    roc_auc_score,\n",
    "]\n",
    "\n",
    "# create dataframe to track performance on metric criteria\n",
    "index=[metric.__name__ for metric in metrics]\n",
    "columns=[\n",
    "    'test_accuracy',\n",
    "    'test_precision',\n",
    "    'test_recall',\n",
    "    'test_f1_score',\n",
    "    'test_auc',\n",
    "    'training_loss',\n",
    "    'validation_loss',\n",
    "    'epochs',\n",
    "    'hyper_params' # this will be a dictionary\n",
    "]\n",
    "\n",
    "param_df = pd.DataFrame(index=index,\n",
    "                        columns=columns)\n",
    "\n",
    "param_df"
   ]
  },
  {
   "cell_type": "code",
   "execution_count": 139,
   "metadata": {
    "tags": []
   },
   "outputs": [
    {
     "name": "stdout",
     "output_type": "stream",
     "text": [
      "750\n"
     ]
    }
   ],
   "source": [
    "# configured to be consistent in rest of notebook\n",
    "# can scroll down and customize at each training step\n",
    "#n_epochs = 100\n",
    "#n_epochs = 250\n",
    "#n_epochs = 500\n",
    "n_epochs = 750\n",
    "#n_epochs = 1000\n",
    "#n_epochs = 2500\n",
    "#n_epochs = 5000\n",
    "print(n_epochs)"
   ]
  },
  {
   "cell_type": "code",
   "execution_count": 140,
   "metadata": {},
   "outputs": [
    {
     "name": "stdout",
     "output_type": "stream",
     "text": [
      "TwoLayer\n",
      "trained on:  cuda:1\n",
      "\n",
      "\n",
      "CPU times: user 3min 51s, sys: 1.86 s, total: 3min 53s\n",
      "Wall time: 3min 52s\n"
     ]
    },
    {
     "data": {
      "text/html": [
       "<div>\n",
       "<style scoped>\n",
       "    .dataframe tbody tr th:only-of-type {\n",
       "        vertical-align: middle;\n",
       "    }\n",
       "\n",
       "    .dataframe tbody tr th {\n",
       "        vertical-align: top;\n",
       "    }\n",
       "\n",
       "    .dataframe thead th {\n",
       "        text-align: right;\n",
       "    }\n",
       "</style>\n",
       "<table border=\"1\" class=\"dataframe\">\n",
       "  <thead>\n",
       "    <tr style=\"text-align: right;\">\n",
       "      <th></th>\n",
       "      <th>recall_score</th>\n",
       "      <th>f1_score</th>\n",
       "      <th>roc_auc_score</th>\n",
       "    </tr>\n",
       "  </thead>\n",
       "  <tbody>\n",
       "    <tr>\n",
       "      <th>test_accuracy</th>\n",
       "      <td>0.874539</td>\n",
       "      <td>0.892989</td>\n",
       "      <td>0.881919</td>\n",
       "    </tr>\n",
       "    <tr>\n",
       "      <th>test_precision</th>\n",
       "      <td>0.690909</td>\n",
       "      <td>0.76</td>\n",
       "      <td>0.72549</td>\n",
       "    </tr>\n",
       "    <tr>\n",
       "      <th>test_recall</th>\n",
       "      <td>0.690909</td>\n",
       "      <td>0.690909</td>\n",
       "      <td>0.672727</td>\n",
       "    </tr>\n",
       "    <tr>\n",
       "      <th>test_f1_score</th>\n",
       "      <td>0.690909</td>\n",
       "      <td>0.72381</td>\n",
       "      <td>0.698113</td>\n",
       "    </tr>\n",
       "    <tr>\n",
       "      <th>test_auc</th>\n",
       "      <td>0.886995</td>\n",
       "      <td>0.88548</td>\n",
       "      <td>0.903956</td>\n",
       "    </tr>\n",
       "    <tr>\n",
       "      <th>training_loss</th>\n",
       "      <td>0.01217</td>\n",
       "      <td>0.009349</td>\n",
       "      <td>0.015958</td>\n",
       "    </tr>\n",
       "    <tr>\n",
       "      <th>validation_loss</th>\n",
       "      <td>3.840525</td>\n",
       "      <td>3.591807</td>\n",
       "      <td>1.197966</td>\n",
       "    </tr>\n",
       "    <tr>\n",
       "      <th>epochs</th>\n",
       "      <td>750</td>\n",
       "      <td>750</td>\n",
       "      <td>750</td>\n",
       "    </tr>\n",
       "    <tr>\n",
       "      <th>hyper_params</th>\n",
       "      <td>[(dropout_rate, 0.15), (hidden_size, 500), (lr...</td>\n",
       "      <td>[(dropout_rate, 0.1), (hidden_size, 250), (lr,...</td>\n",
       "      <td>[(dropout_rate, 0.2), (hidden_size, 100), (lr,...</td>\n",
       "    </tr>\n",
       "  </tbody>\n",
       "</table>\n",
       "</div>"
      ],
      "text/plain": [
       "                                                      recall_score  \\\n",
       "test_accuracy                                             0.874539   \n",
       "test_precision                                            0.690909   \n",
       "test_recall                                               0.690909   \n",
       "test_f1_score                                             0.690909   \n",
       "test_auc                                                  0.886995   \n",
       "training_loss                                              0.01217   \n",
       "validation_loss                                           3.840525   \n",
       "epochs                                                         750   \n",
       "hyper_params     [(dropout_rate, 0.15), (hidden_size, 500), (lr...   \n",
       "\n",
       "                                                          f1_score  \\\n",
       "test_accuracy                                             0.892989   \n",
       "test_precision                                                0.76   \n",
       "test_recall                                               0.690909   \n",
       "test_f1_score                                              0.72381   \n",
       "test_auc                                                   0.88548   \n",
       "training_loss                                             0.009349   \n",
       "validation_loss                                           3.591807   \n",
       "epochs                                                         750   \n",
       "hyper_params     [(dropout_rate, 0.1), (hidden_size, 250), (lr,...   \n",
       "\n",
       "                                                     roc_auc_score  \n",
       "test_accuracy                                             0.881919  \n",
       "test_precision                                             0.72549  \n",
       "test_recall                                               0.672727  \n",
       "test_f1_score                                             0.698113  \n",
       "test_auc                                                  0.903956  \n",
       "training_loss                                             0.015958  \n",
       "validation_loss                                           1.197966  \n",
       "epochs                                                         750  \n",
       "hyper_params     [(dropout_rate, 0.2), (hidden_size, 100), (lr,...  "
      ]
     },
     "execution_count": 140,
     "metadata": {},
     "output_type": "execute_result"
    }
   ],
   "source": [
    "%%time\n",
    "# GRID SEARCH CV for hyperpameters\n",
    "# looped over different performance metrics\n",
    "if __name__ == '__main__':\n",
    "    # data already loaded\n",
    "\n",
    "    #scale the data X_train and X_test\n",
    "    cols = X_train_df.columns\n",
    "    sc = StandardScaler()\n",
    "    # the \"scaled\" objects are still dataframes\n",
    "    X_train_scaled = pd.DataFrame(sc.fit_transform(X_train_df), columns=cols)\n",
    "    X_test_scaled = pd.DataFrame(sc.transform(X_test_df), columns=cols)\n",
    "\n",
    "    # convert to tensor objects\n",
    "    # send to gpu if available\n",
    "    X_train_tensor = torch.tensor(X_train_scaled.values).float().to(device)\n",
    "    y_train_tensor = torch.tensor(y_train_df.values).float().view(-1, 1).to(device)\n",
    "    X_test_tensor = torch.tensor(X_test_scaled.values).float().to(device)\n",
    "    y_test_tensor = torch.tensor(y_test_df.values).float().view(-1, 1).to(device)\n",
    "    \n",
    "    # loop over evaluation metrics\n",
    "    for metric in metrics:\n",
    "        # instantiate at zer0 within the loop\n",
    "        best_score = 0.0\n",
    "        # score logic implemented after training run on hyperparameter search\n",
    "    \n",
    "        # GRID SEARCH\n",
    "        # these are the hyperparameters to search through\n",
    "        param_grid = {\n",
    "        'hidden_size': [10, 50, 100, 250, 500],\n",
    "        'dropout_rate': [0.05, 0.10, 0.15, 0.20],\n",
    "        'lr': [0.0001, 0.001, 0.01],\n",
    "        } \n",
    "\n",
    "        for params in ParameterGrid(param_grid):\n",
    "            input_size = X_train_df.shape[1]\n",
    "            hidden_size = params['hidden_size']\n",
    "            learning_rate = params['lr']\n",
    "            dropout_rate = params['dropout_rate']\n",
    "            output_size = 1 # for our uses this will always be 0ne\n",
    "\n",
    "            # instantiate the model class\n",
    "            # send to gpu if available\n",
    "            #model = Net.OneLayer(input_size, hidden_size, output_size, dropout_rate).to(device)\n",
    "            model = Net.TwoLayer(input_size, hidden_size, output_size, dropout_rate).to(device)\n",
    "            #model = Net.ThreeLayer(input_size, hidden_size, output_size, dropout_rate).to(device)\n",
    "            \n",
    "            # make sure model is in training mode, calculates gradients etcs\n",
    "            model.train()\n",
    "            criterion = nn.BCELoss()  # cross-entropy better suited for binary classification than MSE\n",
    "            optimizer = optim.Adam(model.parameters(), lr=learning_rate)  \n",
    "\n",
    "            ## Train the Model ##\n",
    "\n",
    "            for epoch in range(n_epochs):\n",
    "                y_train_pred_proba = model(X_train_tensor)\n",
    "                loss = criterion(y_train_pred_proba, y_train_tensor)\n",
    "                optimizer.zero_grad()\n",
    "                loss.backward()\n",
    "                optimizer.step()\n",
    "\n",
    "            # turn off dropout etc\n",
    "            model.eval()\n",
    "            ## now \"final\" probability outputs from trained model ##\n",
    "            y_train_pred_proba = model(X_train_tensor)\n",
    "            y_test_pred_proba = model(X_test_tensor)     \n",
    "\n",
    "            # loss on the final output\n",
    "            # this isn't necessarily meaningful without seeing change over epochs \n",
    "            # can be handy reference\n",
    "            # back to cpu / numpy\n",
    "            train_loss = criterion(y_train_pred_proba, y_train_tensor).detach().cpu().numpy().flatten()[0]\n",
    "            val_loss = criterion(y_test_pred_proba, y_test_tensor).detach().cpu().numpy().flatten()[0]\n",
    "\n",
    "            # # convert these values back to pandas dtypes\n",
    "            y_train_pred_proba = y_train_pred_proba.detach().cpu().numpy() # numpy goes back to cpu\n",
    "            y_test_pred_proba = y_test_pred_proba.detach().cpu().numpy()   # numpy goes back to cpu \n",
    "            # also get their boolean values\n",
    "            y_train_pred_bool = np.round(y_train_pred_proba)\n",
    "            y_test_pred_bool = np.round(y_test_pred_proba)\n",
    "\n",
    "            # calculate accuracy\n",
    "            train_accuracy = accuracy_score(y_train_df, y_train_pred_bool.flatten())\n",
    "            test_accuracy = accuracy_score(y_test_df, y_test_pred_bool.flatten())\n",
    "\n",
    "            # calculate precision\n",
    "            test_precision = precision_score(y_test_df, y_test_pred_bool, average='binary', zero_division=0)\n",
    "\n",
    "            # calculate recall\n",
    "            test_recall_score = recall_score(y_test_df, y_test_pred_bool, average='binary', zero_division=0)\n",
    "            \n",
    "            # calculate f1\n",
    "            f1_test = f1_score(y_test_df, y_test_pred_bool)\n",
    "\n",
    "            # extract AUC for printing\n",
    "            auc_test = roc_auc_score(y_test_df, y_test_pred_proba)\n",
    "            \n",
    "            # metrics have already been calculated\n",
    "            # but this is where metric loop logic kicks in\n",
    "            if metric.__name__ == 'recall_score':\n",
    "                score = test_recall_score\n",
    "            elif metric.__name__ == 'f1_score':\n",
    "                score = f1_test\n",
    "            elif metric.__name__ == 'roc_auc_score':\n",
    "                score = auc_test\n",
    "\n",
    "            # evaluate parameters on given metric and log parameters\n",
    "            if score > best_score:\n",
    "                best_score = score\n",
    "                best_params = params\n",
    "                \n",
    "                # and if this is the best, update the dateframe with the given metrics\n",
    "                param_df.loc[metric.__name__, 'test_accuracy'] = test_accuracy\n",
    "                param_df.loc[metric.__name__, 'test_precision'] = test_precision\n",
    "                param_df.loc[metric.__name__, 'test_recall'] = test_recall_score\n",
    "                param_df.loc[metric.__name__, 'test_f1_score'] = f1_test\n",
    "                param_df.loc[metric.__name__, 'test_auc'] = auc_test\n",
    "                param_df.loc[metric.__name__, 'training_loss'] = train_loss#.detach().numpy().flatten()[0]\n",
    "                param_df.loc[metric.__name__, 'validation_loss'] = val_loss#.detach().numpy().flatten()[0]\n",
    "                param_df.loc[metric.__name__, 'epochs'] = n_epochs         \n",
    "                # to insert hyparams into df...pack as a list of tuples\n",
    "                best_params = [tuple(pair) for pair in best_params.items()]\n",
    "                # insert as a list\n",
    "                # to unpack later call... `dict(best_params)`\n",
    "                param_df.loc[metric.__name__, 'hyper_params'] = best_params\n",
    "\n",
    "        # save model weights\n",
    "        # model_name = model.__class__.__name__\n",
    "        # torch.save(model.state_dict(), f'{model_name}.pth')     \n",
    "\n",
    "print(model.__class__.__name__)\n",
    "print(\"trained on: \", device)\n",
    "print(\"\\n\")\n",
    "param_df.T"
   ]
  },
  {
   "cell_type": "markdown",
   "metadata": {
    "tags": []
   },
   "source": [
    "### Decision Criteria\n",
    "- the models may have similar performance metrics\n",
    "- choosing based on validation loss may prevent overfitting\n",
    "    - in this case, optimizing on AUC has the lowest validation loss, while the other two performance metrics have incredibly highloss.\n",
    "    - this is an indication that the models created by the other metrics overfit the training data."
   ]
  },
  {
   "cell_type": "markdown",
   "metadata": {},
   "source": [
    "### Notes along the way\n",
    "- perfect test recall on 100 epochs"
   ]
  },
  {
   "cell_type": "code",
   "execution_count": 141,
   "metadata": {
    "tags": []
   },
   "outputs": [
    {
     "data": {
      "image/png": "[encoded data removed]",
      "text/plain": [
       "<Figure size 640x480 with 1 Axes>"
      ]
     },
     "metadata": {},
     "output_type": "display_data"
    }
   ],
   "source": [
    "param_df.iloc[:,:4].T.plot(kind='bar');"
   ]
  },
  {
   "cell_type": "markdown",
   "metadata": {},
   "source": [
    "# SHAP Values for feature selection<a id=\"SHAP\">\n",
    "\n",
    "- First train model with best hyperparameters / tuning metric\n",
    "\n",
    "- Examine the Shap values for feature importance\n",
    "    - we likely need to reduce the number of features to prevent overfitting"
   ]
  },
  {
   "cell_type": "code",
   "execution_count": 142,
   "metadata": {
    "tags": []
   },
   "outputs": [
    {
     "name": "stdout",
     "output_type": "stream",
     "text": [
      "roc_auc_score\n"
     ]
    },
    {
     "data": {
      "text/plain": [
       "{'dropout_rate': 0.2, 'hidden_size': 100, 'lr': 0.01}"
      ]
     },
     "execution_count": 142,
     "metadata": {},
     "output_type": "execute_result"
    }
   ],
   "source": [
    "# manually selecting\n",
    "idx = 2\n",
    "chosen_metric = metrics[idx].__name__\n",
    "\n",
    "# # automated selection\n",
    "# lowest_loss_metric = param_df['validation_loss'].astype(float).idxmin()\n",
    "# chosen_metric = lowest_loss_metric\n",
    "\n",
    "# select based on above\n",
    "print(chosen_metric)\n",
    "chosen_params = dict(param_df.loc[chosen_metric, 'hyper_params'])\n",
    "chosen_params"
   ]
  },
  {
   "cell_type": "code",
   "execution_count": 143,
   "metadata": {},
   "outputs": [
    {
     "name": "stdout",
     "output_type": "stream",
     "text": [
      "750\n"
     ]
    }
   ],
   "source": [
    "# n_epochs = 750\n",
    "n_epochs = n_epochs\n",
    "print(n_epochs)"
   ]
  },
  {
   "cell_type": "code",
   "execution_count": 144,
   "metadata": {
    "tags": []
   },
   "outputs": [
    {
     "name": "stdout",
     "output_type": "stream",
     "text": [
      "Architecture:  TwoLayer\n",
      "hyperparameters:\n",
      "{'dropout_rate': 0.2, 'hidden_size': 100, 'lr': 0.01}\n",
      "\n",
      "\n",
      "Epochs: 750\n",
      "Training loss: 0.02156994678080082\n",
      "Validation loss: 1.6213066577911377\n",
      "\n",
      "\n",
      "Training Accuracy: 0.9924496644295302\n",
      "Test Accuracy: 0.8450184501845018\n",
      "\n",
      "\n",
      "Test Recall: 0.6326530612244898\n",
      "Test Recall: 0.5636363636363636\n",
      "Test F1 Score: 0.5961538461538461\n",
      "\n",
      "\n",
      "Test AUC: 0.8880892255892257\n",
      "\n",
      "\n",
      "CPU times: user 1.57 s, sys: 56.2 ms, total: 1.62 s\n",
      "Wall time: 1.54 s\n"
     ]
    },
    {
     "data": {
      "image/png": "[encoded data removed]",
      "text/plain": [
       "<Figure size 640x480 with 1 Axes>"
      ]
     },
     "metadata": {},
     "output_type": "display_data"
    },
    {
     "data": {
      "image/png": "[encoded data removed]",
      "text/plain": [
       "<Figure size 640x480 with 1 Axes>"
      ]
     },
     "metadata": {},
     "output_type": "display_data"
    }
   ],
   "source": [
    "%%time\n",
    "# SHAP VALUE EXTRACTION\n",
    "if __name__ == '__main__':\n",
    "    # data already loaded\n",
    "\n",
    "    #scale the data X_train and X_test\n",
    "    cols = X_train_df.columns\n",
    "    sc = StandardScaler()\n",
    "    # the \"scaled\" objects are still dataframes\n",
    "    X_train_scaled = pd.DataFrame(sc.fit_transform(X_train_df), columns=cols)\n",
    "    X_test_scaled = pd.DataFrame(sc.transform(X_test_df), columns=cols)\n",
    "\n",
    "    # convert to tensor objects\n",
    "    # send to gpu if available\n",
    "    X_train_tensor = torch.tensor(X_train_scaled.values).float().to(device)\n",
    "    y_train_tensor = torch.tensor(y_train_df.values).float().view(-1, 1).to(device)\n",
    "    X_test_tensor = torch.tensor(X_test_scaled.values).float().to(device)\n",
    "    y_test_tensor = torch.tensor(y_test_df.values).float().view(-1, 1).to(device)\n",
    "    \n",
    "    # HYPER PARAMETERS FROM DECISION CRITERIA\n",
    "    input_size = X_train_df.shape[1]\n",
    "    hidden_size = chosen_params['hidden_size']\n",
    "    learning_rate = chosen_params['lr']\n",
    "    dropout_rate = chosen_params['dropout_rate']\n",
    "    output_size = 1 # for our uses this will always be 0ne\n",
    "\n",
    "    # instantiate the model class\n",
    "    # send to gpu if available\n",
    "    #model = Net.OneLayer(input_size, hidden_size, output_size, dropout_rate).to(device)\n",
    "    model = Net.TwoLayer(input_size, hidden_size, output_size, dropout_rate).to(device)\n",
    "    #model = Net.ThreeLayer(input_size, hidden_size, output_size, dropout_rate).to(device)\n",
    "    \n",
    "    # make sure model is in training mode, calculates gradients etcs\n",
    "    model.train()\n",
    "    criterion = nn.BCELoss()  # cross-entropy better suited for binary classification than MSE\n",
    "    optimizer = optim.Adam(model.parameters(), lr=learning_rate)  \n",
    "\n",
    "    ## Train the Model ##\n",
    "    \n",
    "    # create empty df to track loss over epochs\n",
    "    loss_df = pd.DataFrame(columns=['train_loss', 'test_loss'])\n",
    "    \n",
    "    for epoch in range(n_epochs):\n",
    "        y_train_pred_proba = model(X_train_tensor)\n",
    "        loss = criterion(y_train_pred_proba, y_train_tensor)\n",
    "        optimizer.zero_grad()\n",
    "        loss.backward()\n",
    "        optimizer.step()\n",
    "        \n",
    "        # track loss for plotting\n",
    "        if epoch%5 ==0:\n",
    "            y_train_pred_proba = model(X_train_tensor)\n",
    "            y_test_pred_proba = model(X_test_tensor) \n",
    "\n",
    "            train_loss = criterion(y_train_pred_proba, y_train_tensor)\n",
    "            val_loss = criterion(y_test_pred_proba, y_test_tensor)\n",
    "            \n",
    "            loss_df.loc[epoch, 'train_loss'] = train_loss.detach().cpu().numpy().flatten()[0]\n",
    "            loss_df.loc[epoch, 'test_loss'] = val_loss.detach().cpu().numpy().flatten()[0]\n",
    "\n",
    "    # turn off dropout etc\n",
    "    model.eval()\n",
    "    ## now \"final\" probability outputs from trained model ##\n",
    "    y_train_pred_proba = model(X_train_tensor)\n",
    "    y_test_pred_proba = model(X_test_tensor)     \n",
    "\n",
    "    # loss on the final output\n",
    "    # this isn't necessarily meaningful without seeing change over epochs \n",
    "    # can be handy reference\n",
    "    # back to cpu / numpy\n",
    "    train_loss = criterion(y_train_pred_proba, y_train_tensor).detach().cpu().numpy().flatten()[0]\n",
    "    val_loss = criterion(y_test_pred_proba, y_test_tensor).detach().cpu().numpy().flatten()[0]\n",
    "\n",
    "    # # convert these values back to pandas dtypes\n",
    "    y_train_pred_proba = y_train_pred_proba.detach().cpu().numpy() # numpy goes back to cpu\n",
    "    y_test_pred_proba = y_test_pred_proba.detach().cpu().numpy()   # numpy goes back to cpu\n",
    "    # also get their boolean values\n",
    "    y_train_pred_bool = np.round(y_train_pred_proba)\n",
    "    y_test_pred_bool = np.round(y_test_pred_proba)\n",
    "\n",
    "    # calculate accuracy\n",
    "    train_accuracy = accuracy_score(y_train_df, y_train_pred_bool.flatten())\n",
    "    test_accuracy = accuracy_score(y_test_df, y_test_pred_bool.flatten())\n",
    "    \n",
    "    # calculate precision\n",
    "    test_precision = precision_score(y_test_df, y_test_pred_bool, average='binary', zero_division=0)\n",
    "    \n",
    "    # calculate recall\n",
    "    test_recall_score = recall_score(y_test_df, y_test_pred_bool, average='binary', zero_division=0)\n",
    "    \n",
    "    # calculate f1\n",
    "    f1_test = f1_score(y_test_df, y_test_pred_bool)\n",
    "\n",
    "    # extract AUC for printing\n",
    "    auc_test = roc_auc_score(y_test_df, y_test_pred_proba)      \n",
    "   \n",
    "    ## save final model weights\n",
    "    model_name = model.__class__.__name__\n",
    "    # torch.save(model.state_dict(), f'{model_name}.pth')     \n",
    "\n",
    "    print('Architecture: ', model_name)\n",
    "    print('hyperparameters:')\n",
    "    print(chosen_params)\n",
    "    print(\"\\n\")\n",
    "    print(f\"Epochs: {n_epochs}\")\n",
    "    print(f'Training loss: {train_loss}')\n",
    "    print(f'Validation loss: {val_loss}')\n",
    "    print(\"\\n\")\n",
    "\n",
    "    # accuracy #\n",
    "    # training accuracy\n",
    "    train_accuracy = accuracy_score(y_train_df, y_train_pred_bool.flatten())\n",
    "    print(f'Training Accuracy: {train_accuracy}')\n",
    "    # testing accuracy\n",
    "    test_accuracy = accuracy_score(y_test_df, y_test_pred_bool.flatten())\n",
    "    print(f'Test Accuracy: {test_accuracy}')\n",
    "    print(\"\\n\")\n",
    "\n",
    "    # Precision\n",
    "    print(f'Test Recall: {test_precision}')\n",
    "    \n",
    "    # Recall\n",
    "    print(f'Test Recall: {test_recall_score}')\n",
    "    \n",
    "    # f1\n",
    "    print(f'Test F1 Score: {f1_test}')\n",
    "    print(\"\\n\")\n",
    "    \n",
    "    # AUC\n",
    "    print(f'Test AUC: {auc_test}')\n",
    "    print(\"\\n\")\n",
    "    \n",
    "    \n",
    "    # PLOTS\n",
    "    fig = loss_df.plot()\n",
    "    fig.set_xlabel('epochs')\n",
    "    fig.set_ylabel('loss')\n",
    "    fig.set_title('Loss over Epochs');\n",
    "    \n",
    "    # and plot AUC\n",
    "    fig, ax = plt.subplots()\n",
    "\n",
    "    RocCurveDisplay.from_predictions(y_train_df, \n",
    "                                     y_train_pred_proba, \n",
    "                                     ax=ax, \n",
    "                                     linewidth=1, \n",
    "                                     color='blue', \n",
    "                                     name='train', \n",
    "                                     linestyle=\"dashed\"\n",
    "                                    );\n",
    "\n",
    "    RocCurveDisplay.from_predictions(y_test_df,\n",
    "                                     y_test_pred_proba,\n",
    "                                     ax=ax, \n",
    "                                     linewidth=1, \n",
    "                                     color='orange', \n",
    "                                     name='test');\n",
    "\n",
    "    plt.title(f'FC NN: {model_name}');"
   ]
  },
  {
   "cell_type": "code",
   "execution_count": 145,
   "metadata": {
    "tags": []
   },
   "outputs": [
    {
     "name": "stderr",
     "output_type": "stream",
     "text": [
      "Using a non-full backward hook when the forward contains multiple autograd Nodes is deprecated and will be removed in future versions. This hook will be missing some grad_input. Please use register_full_backward_hook to get the documented behavior.\n"
     ]
    },
    {
     "name": "stdout",
     "output_type": "stream",
     "text": [
      "(271, 13)\n"
     ]
    },
    {
     "data": {
      "text/html": [
       "<div>\n",
       "<style scoped>\n",
       "    .dataframe tbody tr th:only-of-type {\n",
       "        vertical-align: middle;\n",
       "    }\n",
       "\n",
       "    .dataframe tbody tr th {\n",
       "        vertical-align: top;\n",
       "    }\n",
       "\n",
       "    .dataframe thead th {\n",
       "        text-align: right;\n",
       "    }\n",
       "</style>\n",
       "<table border=\"1\" class=\"dataframe\">\n",
       "  <thead>\n",
       "    <tr style=\"text-align: right;\">\n",
       "      <th></th>\n",
       "      <th>vals</th>\n",
       "    </tr>\n",
       "  </thead>\n",
       "  <tbody>\n",
       "    <tr>\n",
       "      <th>peak_i15_mmh</th>\n",
       "      <td>0.131309</td>\n",
       "    </tr>\n",
       "    <tr>\n",
       "      <th>fire_interval</th>\n",
       "      <td>0.038923</td>\n",
       "    </tr>\n",
       "    <tr>\n",
       "      <th>SuscFrac</th>\n",
       "      <td>0.035464</td>\n",
       "    </tr>\n",
       "    <tr>\n",
       "      <th>Extinction moisture content</th>\n",
       "      <td>0.031673</td>\n",
       "    </tr>\n",
       "    <tr>\n",
       "      <th>prophm23</th>\n",
       "      <td>0.030804</td>\n",
       "    </tr>\n",
       "    <tr>\n",
       "      <th>kf</th>\n",
       "      <td>0.029724</td>\n",
       "    </tr>\n",
       "    <tr>\n",
       "      <th>dnbr1000</th>\n",
       "      <td>0.029386</td>\n",
       "    </tr>\n",
       "    <tr>\n",
       "      <th>SAV</th>\n",
       "      <td>0.026085</td>\n",
       "    </tr>\n",
       "    <tr>\n",
       "      <th>SedUn</th>\n",
       "      <td>0.023018</td>\n",
       "    </tr>\n",
       "    <tr>\n",
       "      <th>LNDS_RISKS</th>\n",
       "      <td>0.017086</td>\n",
       "    </tr>\n",
       "    <tr>\n",
       "      <th>contributingarea_km2</th>\n",
       "      <td>0.016484</td>\n",
       "    </tr>\n",
       "    <tr>\n",
       "      <th>Fine fuel load</th>\n",
       "      <td>0.016269</td>\n",
       "    </tr>\n",
       "    <tr>\n",
       "      <th>Packing ratio</th>\n",
       "      <td>0.015589</td>\n",
       "    </tr>\n",
       "  </tbody>\n",
       "</table>\n",
       "</div>"
      ],
      "text/plain": [
       "                                 vals\n",
       "peak_i15_mmh                 0.131309\n",
       "fire_interval                0.038923\n",
       "SuscFrac                     0.035464\n",
       "Extinction moisture content  0.031673\n",
       "prophm23                     0.030804\n",
       "kf                           0.029724\n",
       "dnbr1000                     0.029386\n",
       "SAV                          0.026085\n",
       "SedUn                        0.023018\n",
       "LNDS_RISKS                   0.017086\n",
       "contributingarea_km2         0.016484\n",
       "Fine fuel load               0.016269\n",
       "Packing ratio                0.015589"
      ]
     },
     "execution_count": 145,
     "metadata": {},
     "output_type": "execute_result"
    }
   ],
   "source": [
    "explainer = shap.DeepExplainer(model, X_train_tensor)\n",
    "shap_values = explainer.shap_values(X_test_tensor)\n",
    "print(shap_values.shape)\n",
    "vals = np.abs(shap_values).mean(0)\n",
    "shap_val_df = pd.DataFrame(data=vals, index=X_test_df.columns, columns=['vals'])\n",
    "shap_val_df = shap_val_df.sort_values(by='vals', ascending=False)\n",
    "shap_val_df"
   ]
  },
  {
   "cell_type": "code",
   "execution_count": 146,
   "metadata": {
    "tags": []
   },
   "outputs": [
    {
     "data": {
      "image/png": "[encoded data removed]",
      "text/plain": [
       "<Figure size 640x480 with 1 Axes>"
      ]
     },
     "metadata": {},
     "output_type": "display_data"
    }
   ],
   "source": [
    "shap_val_df[::-1].plot(kind='barh', title='shap values');"
   ]
  },
  {
   "cell_type": "code",
   "execution_count": 147,
   "metadata": {
    "tags": []
   },
   "outputs": [
    {
     "data": {
      "text/plain": [
       "['peak_i15_mmh',\n",
       " 'fire_interval',\n",
       " 'SuscFrac',\n",
       " 'Extinction moisture content',\n",
       " 'prophm23',\n",
       " 'kf',\n",
       " 'dnbr1000',\n",
       " 'SAV',\n",
       " 'SedUn',\n",
       " 'LNDS_RISKS',\n",
       " 'contributingarea_km2',\n",
       " 'Fine fuel load',\n",
       " 'Packing ratio']"
      ]
     },
     "execution_count": 147,
     "metadata": {},
     "output_type": "execute_result"
    }
   ],
   "source": [
    "feat_order = list(shap_val_df.index)\n",
    "feat_order"
   ]
  },
  {
   "cell_type": "code",
   "execution_count": 148,
   "metadata": {
    "tags": []
   },
   "outputs": [
    {
     "data": {
      "text/plain": [
       "[['peak_i15_mmh'],\n",
       " ['peak_i15_mmh', 'fire_interval'],\n",
       " ['peak_i15_mmh', 'fire_interval', 'SuscFrac'],\n",
       " ['peak_i15_mmh', 'fire_interval', 'SuscFrac', 'Extinction moisture content']]"
      ]
     },
     "execution_count": 148,
     "metadata": {},
     "output_type": "execute_result"
    }
   ],
   "source": [
    "# generate incrementally longer feature lists in order of importance\n",
    "cumulative_feature_list = []\n",
    "for i, feat in enumerate(feat_order, 1):\n",
    "    cumulative_feature_list.append(feat_order[:i])\n",
    "# just check the first few records to make sure they increment by one\n",
    "cumulative_feature_list[:4]"
   ]
  },
  {
   "cell_type": "code",
   "execution_count": 149,
   "metadata": {
    "tags": []
   },
   "outputs": [
    {
     "data": {
      "text/plain": [
       "['peak_i15_mmh',\n",
       " 'fire_interval',\n",
       " 'SuscFrac',\n",
       " 'Extinction moisture content',\n",
       " 'prophm23',\n",
       " 'kf',\n",
       " 'dnbr1000',\n",
       " 'SAV',\n",
       " 'SedUn',\n",
       " 'LNDS_RISKS',\n",
       " 'contributingarea_km2',\n",
       " 'Fine fuel load',\n",
       " 'Packing ratio']"
      ]
     },
     "execution_count": 149,
     "metadata": {},
     "output_type": "execute_result"
    }
   ],
   "source": [
    "# exclude testing with just ONE feature\n",
    "feat_of_feats = cumulative_feature_list[1:]\n",
    "feat_of_feats[-1] # this should be ALL the features now"
   ]
  },
  {
   "cell_type": "markdown",
   "metadata": {},
   "source": [
    "## Feature Selection Using Shap Order<a id=\"FEATURE\">\n",
    "- it performs hyperparameter grid search along with the features in shap ranked order"
   ]
  },
  {
   "cell_type": "code",
   "execution_count": 150,
   "metadata": {
    "tags": []
   },
   "outputs": [
    {
     "name": "stdout",
     "output_type": "stream",
     "text": [
      "roc_auc_score\n",
      "{'dropout_rate': 0.2, 'hidden_size': 100, 'lr': 0.01}\n"
     ]
    }
   ],
   "source": [
    "print(chosen_metric)\n",
    "print(chosen_params)"
   ]
  },
  {
   "cell_type": "code",
   "execution_count": 151,
   "metadata": {
    "tags": []
   },
   "outputs": [
    {
     "name": "stdout",
     "output_type": "stream",
     "text": [
      "750\n"
     ]
    }
   ],
   "source": [
    "# n_epochs = 750\n",
    "n_epochs = n_epochs\n",
    "print(n_epochs)"
   ]
  },
  {
   "cell_type": "code",
   "execution_count": 152,
   "metadata": {
    "tags": []
   },
   "outputs": [
    {
     "name": "stdout",
     "output_type": "stream",
     "text": [
      "TwoLayer\n",
      "with feature selection\n",
      "10  features: \n",
      "['peak_i15_mmh', 'fire_interval', 'SuscFrac', 'Extinction moisture content', 'prophm23', 'kf', 'dnbr1000', 'SAV', 'SedUn', 'LNDS_RISKS']\n",
      "hyperparameters:\n",
      "dropout_rate: 0.2\n",
      "hidden_size: 100\n",
      "lr: 0.01\n",
      "\n",
      "\n",
      "Training loss: 0.02548886276781559\n",
      "Validation loss: 1.461452603340149\n",
      "\n",
      "\n",
      "Training Accuracy: 0.9924496644295302\n",
      "Test Accuracy: 0.8708487084870848\n",
      "\n",
      "\n",
      "Test Precision: 0.7083333333333334\n",
      "\n",
      "\n",
      "Test Recall: 0.6181818181818182\n",
      "\n",
      "\n",
      "Test F1 Score: 0.6601941747572815\n",
      "\n",
      "\n",
      "Test AUC: 0.9213804713804714\n",
      "\n",
      "\n",
      "CPU times: user 15min 27s, sys: 7.74 s, total: 15min 35s\n",
      "Wall time: 15min 31s\n"
     ]
    }
   ],
   "source": [
    "%%time\n",
    "# GRID SEARCH WITH FEATURE SETS\n",
    "if __name__ == '__main__':\n",
    "\n",
    "    # GRID SEARCH\n",
    "    param_grid = {\n",
    "    'hidden_size': [10, 50, 100, 250, 500],\n",
    "    'dropout_rate': [0.05, 0.10, 0.15, 0.20],\n",
    "    'lr': [0.0001, 0.001, 0.01],\n",
    "    'features': feat_of_feats # list of lists\n",
    "    }\n",
    "    \n",
    "    best_accuracy = 0.0\n",
    "    best_recall = 0.0\n",
    "    best_auc = 0.0\n",
    "    best_params ={}\n",
    "    \n",
    "    # loop over features\n",
    "    # instantiate at zer0 before the loop\n",
    "    best_score = 0.0\n",
    "    \n",
    "    for params in ParameterGrid(param_grid):      \n",
    "        # Load data with feature subset\n",
    "        \n",
    "        # splitting already conducted\n",
    "        # using df objects to avoid tensor issues\n",
    "        X_train = X_train_df[params['features']]\n",
    "        X_test = X_test_df[params['features']]\n",
    "        y_train = y_train_df\n",
    "        y_test = y_test_df\n",
    "\n",
    "        #scale the data X_train and X_test\n",
    "        cols = X_train.columns\n",
    "        sc = StandardScaler()\n",
    "        X_train = pd.DataFrame(sc.fit_transform(X_train), columns=cols)\n",
    "        X_test = pd.DataFrame(sc.transform(X_test), columns=cols)\n",
    "\n",
    "        # convert to tensor objects\n",
    "        # send to gpu if available\n",
    "        X_train_tensor = torch.tensor(X_train.values).float().to(device)\n",
    "        y_train_tensor = torch.tensor(y_train.values).float().view(-1, 1).to(device)\n",
    "        X_test_tensor = torch.tensor(X_test.values).float().to(device)\n",
    "        y_test_tensor = torch.tensor(y_test.values).float().view(-1, 1).to(device)\n",
    "        \n",
    "        # hyperparameters grid search\n",
    "        input_size = X_train.shape[1]\n",
    "        hidden_size = params['hidden_size']\n",
    "        learning_rate = params['lr']\n",
    "        dropout_rate = params['dropout_rate']\n",
    "        output_size = 1\n",
    "\n",
    "        # instantiate the model class\n",
    "        #model = Net.OneLayer(input_size, hidden_size, output_size, dropout_rate).to(device)\n",
    "        model = Net.TwoLayer(input_size, hidden_size, output_size, dropout_rate).to(device)\n",
    "        #model = Net.ThreeLayer(input_size, hidden_size, output_size, dropout_rate).to(device)\n",
    "        \n",
    "        # make sure model is in training mode, calculates gradients etcs\n",
    "        model.train()\n",
    "        criterion = nn.BCELoss()  # cross-entropy better suited for binary classification than MSE\n",
    "        optimizer = optim.Adam(model.parameters(), lr=learning_rate)  \n",
    "         \n",
    "        ## Train the Model ##\n",
    "\n",
    "        for epoch in range(n_epochs):\n",
    "            y_train_pred_proba = model(X_train_tensor)\n",
    "            loss = criterion(y_train_pred_proba, y_train_tensor)\n",
    "            optimizer.zero_grad()\n",
    "            loss.backward()\n",
    "            optimizer.step()\n",
    "\n",
    "        # turn off dropout etc\n",
    "        model.eval()\n",
    "        # now \"final\" outputs\n",
    "        y_train_pred_proba = model(X_train_tensor)\n",
    "        y_test_pred_proba = model(X_test_tensor)\n",
    "\n",
    "        # loss on the final output\n",
    "        # this isn't necessarily meaningful without seeing change over epochs \n",
    "        # can be handy reference\n",
    "        # back to cpu / numpy\n",
    "        train_loss = criterion(y_train_pred_proba, y_train_tensor).detach().cpu().numpy().flatten()[0]\n",
    "        val_loss = criterion(y_test_pred_proba, y_test_tensor).detach().cpu().numpy().flatten()[0]\n",
    "\n",
    "        # # convert these values back to pandas dtypes\n",
    "        y_train_pred_proba = y_train_pred_proba.detach().cpu().numpy() # numpy goes back to cpu\n",
    "        y_test_pred_proba = y_test_pred_proba.detach().cpu().numpy()   # numpy goes back to cpu\n",
    "        # also get their boolean values\n",
    "        # simply if a probability is above .5 it predicts a 1\n",
    "        y_train_pred_bool = np.round(y_train_pred_proba)\n",
    "        y_test_pred_bool = np.round(y_test_pred_proba)   \n",
    "        \n",
    "   \n",
    "        # calculate accuracy\n",
    "        train_accuracy = accuracy_score(y_train_df, y_train_pred_bool.flatten())\n",
    "        test_accuracy = accuracy_score(y_test_df, y_test_pred_bool.flatten())\n",
    "\n",
    "        # calculate precision\n",
    "        test_precision = precision_score(y_test_df, y_test_pred_bool, average='binary', zero_division=0)\n",
    "        \n",
    "        # calculate recall\n",
    "        test_recall_score = recall_score(y_test_df, y_test_pred_bool, average='binary', zero_division=0)\n",
    "        \n",
    "        # calculate f1\n",
    "        f1_test = f1_score(y_test_df, y_test_pred_bool)\n",
    "\n",
    "        # extract AUC for printing\n",
    "        auc_test = roc_auc_score(y_test_df, y_test_pred_proba)\n",
    "        \n",
    "        # metrics have already been calculated\n",
    "        # but this is where metric loop logic kicks in\n",
    "        if chosen_metric == 'recall_score':\n",
    "            score = test_recall_score\n",
    "        elif chosen_metric == 'f1_score':\n",
    "            score = f1_test\n",
    "        elif chosen_metric == 'roc_auc_score':\n",
    "            score = auc_test\n",
    "        \n",
    "        # evaluate features on given metric and log features / scores\n",
    "        if score > best_score:\n",
    "            best_score = score\n",
    "            #chosen_features = feats\n",
    "            best_params = params\n",
    "                                 \n",
    "            best_train_accuracy = train_accuracy\n",
    "            best_test_accuracy = test_accuracy\n",
    "            best_test_precision = test_precision\n",
    "            best_test_recall_score = test_recall_score\n",
    "            best_f1_test = f1_test\n",
    "            best_auc_test = auc_test\n",
    "            best_train_loss = train_loss\n",
    "            best_val_loss = val_loss        \n",
    "\n",
    "    ## save final model weights\n",
    "    model_name = model.__class__.__name__\n",
    "    # torch.save(model.state_dict(), f'{model_name}.pth')      \n",
    "    print(model_name)\n",
    "    print('with feature selection')\n",
    "    print(len(best_params['features']), \" features: \")\n",
    "    print(best_params['features'])\n",
    "    print('hyperparameters:')\n",
    "    param_keys = ['dropout_rate', 'hidden_size', 'lr']\n",
    "    for key in param_keys:\n",
    "        print(key + \":\", best_params[key])\n",
    "    print(\"\\n\")\n",
    "    print(f'Training loss: {best_train_loss}')\n",
    "    print(f'Validation loss: {best_val_loss}')\n",
    "    print(\"\\n\")\n",
    "\n",
    "    # accuracy #\n",
    "    # training accuracy\n",
    "    print(f'Training Accuracy: {best_train_accuracy}')\n",
    "    # testing accuracy\n",
    "    print(f'Test Accuracy: {best_test_accuracy}')\n",
    "    print(\"\\n\")\n",
    "\n",
    "    # Recall\n",
    "    print(f'Test Precision: {best_test_precision}')\n",
    "    print(\"\\n\")\n",
    "    \n",
    "    # Recall\n",
    "    print(f'Test Recall: {best_test_recall_score}')\n",
    "    print(\"\\n\")\n",
    "    \n",
    "    # f1\n",
    "    print(f'Test F1 Score: {best_f1_test}')\n",
    "    print(\"\\n\")\n",
    "    \n",
    "    # AUC\n",
    "    print(f'Test AUC: {best_auc_test}')\n",
    "    print(\"\\n\")"
   ]
  },
  {
   "cell_type": "code",
   "execution_count": 153,
   "metadata": {
    "tags": []
   },
   "outputs": [],
   "source": [
    "# %%time\n",
    "# # OG\n",
    "# # FEATURE LOOP no grid search on hyper parameters\n",
    "# if __name__ == '__main__':\n",
    "\n",
    "#     # GRID SEARCH\n",
    "#     param_grid = {\n",
    "#     'hidden_size': [10, 50, 100, 250, 500],\n",
    "#     'dropout_rate': [0.05, 0.10, 0.15, 0.20],\n",
    "#     'lr': [0.0001, 0.001, 0.01],\n",
    "#     'features': feat_of_feats # list of lists\n",
    "#     }\n",
    "    \n",
    "#     best_accuracy = 0.0\n",
    "#     best_recall = 0.0\n",
    "#     best_auc = 0.0\n",
    "#     best_params ={}\n",
    "    \n",
    "#     # loop over features\n",
    "#     # instantiate at zer0 before the loop\n",
    "#     best_score = 0.0\n",
    "    \n",
    "#     for feats in feat_of_feats:      \n",
    "#         # Load data with feature subset\n",
    "        \n",
    "#         # splitting already conducted\n",
    "#         # using df objects to avoid tensor issues\n",
    "#         X_train = X_train_df[feats]\n",
    "#         X_test = X_test_df[feats]\n",
    "#         y_train = y_train_df\n",
    "#         y_test = y_test_df\n",
    "\n",
    "#         #scale the data X_train and X_test\n",
    "#         cols = X_train.columns\n",
    "#         sc = StandardScaler()\n",
    "#         X_train = pd.DataFrame(sc.fit_transform(X_train), columns=cols)\n",
    "#         X_test = pd.DataFrame(sc.transform(X_test), columns=cols)\n",
    "\n",
    "#         # convert to tensor objects\n",
    "#         # send to gpu if available\n",
    "#         X_train_tensor = torch.tensor(X_train.values).float().to(device)\n",
    "#         y_train_tensor = torch.tensor(y_train.values).float().view(-1, 1).to(device)\n",
    "#         X_test_tensor = torch.tensor(X_test.values).float().to(device)\n",
    "#         y_test_tensor = torch.tensor(y_test.values).float().view(-1, 1).to(device)\n",
    "        \n",
    "#         # hyperparameters\n",
    "#         input_size = X_train.shape[1]\n",
    "#         hidden_size = chosen_params['hidden_size']\n",
    "#         learning_rate = chosen_params['lr']\n",
    "#         dropout_rate = chosen_params['dropout_rate']\n",
    "#         output_size = 1\n",
    "\n",
    "#         # instantiate the model class\n",
    "#         #model = Net.OneLayer(input_size, hidden_size, output_size, dropout_rate).to(device)\n",
    "#         model = Net.TwoLayer(input_size, hidden_size, output_size, dropout_rate).to(device)\n",
    "#         #model = Net.ThreeLayer(input_size, hidden_size, output_size, dropout_rate).to(device)\n",
    "        \n",
    "#         # make sure model is in training mode, calculates gradients etcs\n",
    "#         model.train()\n",
    "#         criterion = nn.BCELoss()  # cross-entropy better suited for binary classification than MSE\n",
    "#         optimizer = optim.Adam(model.parameters(), lr=learning_rate)  \n",
    "         \n",
    "#         ## Train the Model ##\n",
    "\n",
    "#         for epoch in range(n_epochs):\n",
    "#             y_train_pred_proba = model(X_train_tensor)\n",
    "#             loss = criterion(y_train_pred_proba, y_train_tensor)\n",
    "#             optimizer.zero_grad()\n",
    "#             loss.backward()\n",
    "#             optimizer.step()\n",
    "\n",
    "#         # turn off dropout etc\n",
    "#         model.eval()\n",
    "#         # now \"final\" outputs\n",
    "#         y_train_pred_proba = model(X_train_tensor)\n",
    "#         y_test_pred_proba = model(X_test_tensor)\n",
    "\n",
    "#         # loss on the final output\n",
    "#         # this isn't necessarily meaningful without seeing change over epochs \n",
    "#         # can be handy reference\n",
    "#         # back to cpu / numpy\n",
    "#         train_loss = criterion(y_train_pred_proba, y_train_tensor).detach().cpu().numpy().flatten()[0]\n",
    "#         val_loss = criterion(y_test_pred_proba, y_test_tensor).detach().cpu().numpy().flatten()[0]\n",
    "\n",
    "#         # # convert these values back to pandas dtypes\n",
    "#         y_train_pred_proba = y_train_pred_proba.detach().cpu().numpy() # numpy goes back to cpu\n",
    "#         y_test_pred_proba = y_test_pred_proba.detach().cpu().numpy()   # numpy goes back to cpu\n",
    "#         # also get their boolean values\n",
    "#         # simply if a probability is above .5 it predicts a 1\n",
    "#         y_train_pred_bool = np.round(y_train_pred_proba)\n",
    "#         y_test_pred_bool = np.round(y_test_pred_proba)   \n",
    "        \n",
    "   \n",
    "#         # calculate accuracy\n",
    "#         train_accuracy = accuracy_score(y_train_df, y_train_pred_bool.flatten())\n",
    "#         test_accuracy = accuracy_score(y_test_df, y_test_pred_bool.flatten())\n",
    "        \n",
    "#         # calculate f1\n",
    "#         f1_test = f1_score(y_test_df, y_test_pred_bool)\n",
    "\n",
    "#         # calculate recall\n",
    "#         test_recall_score = recall_score(y_test_df, y_test_pred_bool, average='binary', zero_division=0)\n",
    "\n",
    "#         # extract AUC for printing\n",
    "#         auc_test = roc_auc_score(y_test_df, y_test_pred_proba)\n",
    "        \n",
    "#         # metrics have already been calculated\n",
    "#         # but this is where metric loop logic kicks in\n",
    "#         if chosen_metric == 'recall_score':\n",
    "#             score = test_recall_score\n",
    "#         elif chosen_metric == 'f1_score':\n",
    "#             score = f1_test\n",
    "#         elif chosen_metric == 'roc_auc_score':\n",
    "#             score = auc_test\n",
    "        \n",
    "#         # evaluate features on given metric and log features\n",
    "#         if score > best_score:\n",
    "#             best_score = score\n",
    "#             chosen_features = feats\n",
    "                                 \n",
    "#             test_accuracy = test_accuracy\n",
    "#             test_recall_score = test_recall_score\n",
    "#             f1_test = f1_test\n",
    "#             auc_test = auc_test\n",
    "#             train_loss = train_loss\n",
    "#             val_loss = val_loss        \n",
    "\n",
    "#     ## save final model weights\n",
    "#     model_name = model.__class__.__name__\n",
    "#     # torch.save(model.state_dict(), f'{model_name}.pth')      \n",
    "#     print(model_name)\n",
    "#     print('with feature selection')\n",
    "#     print(len(chosen_features), \" features: \")\n",
    "#     print(chosen_features)\n",
    "#     print('hyperparameters:')\n",
    "#     print(chosen_params)\n",
    "#     print(\"\\n\")\n",
    "#     print(f'Training loss: {train_loss}')\n",
    "#     print(f'Validation loss: {val_loss}')\n",
    "#     print(\"\\n\")\n",
    "\n",
    "#     # accuracy #\n",
    "#     # training accuracy\n",
    "#     print(f'Training Accuracy: {train_accuracy}')\n",
    "#     # testing accuracy\n",
    "#     print(f'Test Accuracy: {test_accuracy}')\n",
    "#     print(\"\\n\")\n",
    "\n",
    "#     # Recall\n",
    "#     print(f'Test Recall: {test_recall_score}')\n",
    "    \n",
    "#     # f1\n",
    "#     print(f'Test F1 Score: {f1_test}')\n",
    "#     print(\"\\n\")\n",
    "    \n",
    "#     # AUC\n",
    "#     print(f'Test AUC: {auc_test}')\n",
    "#     print(\"\\n\")"
   ]
  },
  {
   "cell_type": "markdown",
   "metadata": {},
   "source": [
    "# Best Model with Epochs <a id=\"BEST\">\n",
    "    \n",
    "- experiment with number of epochs"
   ]
  },
  {
   "attachments": {
    "ed9f5975-a39c-418a-9dff-be8275f61260.png": {
     "image/png": "[encoded data removed]"
    }
   },
   "cell_type": "markdown",
   "metadata": {},
   "source": [
    "OLD WITH ALL FEATURES (TWO LAYERS)\n",
    "- BEST PERFORMANCE SO FAR!!!\n",
    "- DO NOT DELETE!!!\n",
    "\n",
    "![image.png](attachment:ed9f5975-a39c-418a-9dff-be8275f61260.png)"
   ]
  },
  {
   "cell_type": "code",
   "execution_count": 154,
   "metadata": {
    "tags": []
   },
   "outputs": [],
   "source": [
    "import sys\n",
    "sys.path.append(\"../../app/model/\")\n",
    "import ModelNN as Net"
   ]
  },
  {
   "cell_type": "code",
   "execution_count": 155,
   "metadata": {
    "tags": []
   },
   "outputs": [],
   "source": [
    "X_train_df, X_test_df, y_train_df, y_test_df = pickle.load(open(\"../../data/train_test_data.pkl\", \"rb\"))"
   ]
  },
  {
   "cell_type": "code",
   "execution_count": 156,
   "metadata": {
    "tags": []
   },
   "outputs": [],
   "source": [
    "# # open the parameters json\n",
    "# import json\n",
    "\n",
    "# file_path = \"../../model/model_parameters.json\"\n",
    "# with open(file_path) as model_params:\n",
    "#     model_params = json.load(model_params)\n",
    "\n",
    "# model_params"
   ]
  },
  {
   "cell_type": "code",
   "execution_count": 157,
   "metadata": {
    "tags": []
   },
   "outputs": [
    {
     "name": "stdout",
     "output_type": "stream",
     "text": [
      "roc_auc_score\n",
      "dropout_rate: 0.2\n",
      "hidden_size: 100\n",
      "lr: 0.01\n",
      "10  features: \n",
      "['peak_i15_mmh', 'fire_interval', 'SuscFrac', 'Extinction moisture content', 'prophm23', 'kf', 'dnbr1000', 'SAV', 'SedUn', 'LNDS_RISKS']\n"
     ]
    }
   ],
   "source": [
    "# this was determined through two rounds of grid search\n",
    "print(chosen_metric)\n",
    "param_keys = ['dropout_rate', 'hidden_size', 'lr']\n",
    "for key in param_keys:\n",
    "    print(key + \":\", best_params[key])\n",
    "print(len(best_params['features']), \" features: \")\n",
    "print(best_params['features'])"
   ]
  },
  {
   "cell_type": "code",
   "execution_count": 158,
   "metadata": {
    "tags": []
   },
   "outputs": [
    {
     "name": "stdout",
     "output_type": "stream",
     "text": [
      "750\n"
     ]
    }
   ],
   "source": [
    "# n_epochs = 750\n",
    "n_epochs = n_epochs\n",
    "print(n_epochs)"
   ]
  },
  {
   "cell_type": "code",
   "execution_count": 159,
   "metadata": {
    "tags": []
   },
   "outputs": [
    {
     "name": "stdout",
     "output_type": "stream",
     "text": [
      "Architecture:  TwoLayer\n",
      "10  features: \n",
      "['peak_i15_mmh', 'fire_interval', 'SuscFrac', 'Extinction moisture content', 'prophm23', 'kf', 'dnbr1000', 'SAV', 'SedUn', 'LNDS_RISKS']\n",
      "hyperparameters:\n",
      "dropout_rate: 0.2\n",
      "hidden_size: 100\n",
      "lr: 0.01\n",
      "\n",
      "\n",
      "Epochs: 750\n",
      "Training loss: 0.032547518610954285\n",
      "Validation loss: 0.8078681230545044\n",
      "\n",
      "\n",
      "Training accuracy: 0.9899328859060402\n",
      "Test accuracy: 0.8597785977859779\n",
      "\n",
      "\n",
      "Precision (test): 0.6666666666666666\n",
      "\n",
      "\n",
      "Recall (test): 0.6181818181818182\n",
      "\n",
      "\n",
      "F1 Score (test): 0.6415094339622642\n",
      "\n",
      "\n",
      "AUC (test): 0.9136363636363636\n",
      "\n",
      "\n",
      "CPU times: user 1.58 s, sys: 92.3 ms, total: 1.67 s\n",
      "Wall time: 1.54 s\n"
     ]
    },
    {
     "data": {
      "image/png": "[encoded data removed]",
      "text/plain": [
       "<Figure size 640x480 with 1 Axes>"
      ]
     },
     "metadata": {},
     "output_type": "display_data"
    },
    {
     "data": {
      "image/png": "[encoded data removed]",
      "text/plain": [
       "<Figure size 640x480 with 1 Axes>"
      ]
     },
     "metadata": {},
     "output_type": "display_data"
    }
   ],
   "source": [
    "%%time\n",
    "# TUNED TRAINING\n",
    "if __name__ == '__main__':\n",
    "    # Load data\n",
    "\n",
    "    # splitting already conducted\n",
    "    # using df objects to avoid tensor issues\n",
    "    # and sticking with naming convention for feature subset selection\n",
    "    X_train = X_train_df[best_params['features']]\n",
    "    X_test = X_test_df[best_params['features']]\n",
    "    y_train = y_train_df\n",
    "    y_test = y_test_df\n",
    "\n",
    "    #scale the data X_train and X_test\n",
    "    cols = X_train.columns\n",
    "    sc = StandardScaler()\n",
    "    X_train = pd.DataFrame(sc.fit_transform(X_train), columns=cols)\n",
    "    X_test = pd.DataFrame(sc.transform(X_test), columns=cols)\n",
    "    \n",
    "    # change datatype for pytorch\n",
    "    # send to gpu if available\n",
    "    X_train_tensor = torch.tensor(X_train.values).float().to(device)\n",
    "    X_test_tensor = torch.tensor(X_test.values).float().to(device)\n",
    "    y_train_tensor = torch.tensor(y_train.values).float().view(-1, 1).to(device)\n",
    "    y_test_tensor = torch.tensor(y_test.values).float().view(-1, 1).to(device)\n",
    "    \n",
    "    # hyperparameters\n",
    "    input_size = X_train.shape[1]\n",
    "    hidden_size = best_params['hidden_size']\n",
    "    learning_rate = best_params['lr'] # 0.001 is default value for Adam optimizer\n",
    "    dropout_rate = best_params['dropout_rate']\n",
    "    output_size = 1 # in our case this is always 0ne\n",
    "\n",
    "    # select architecture\n",
    "    # send to gpu if available\n",
    "    #model = Net.OneLayer(input_size, hidden_size, output_size, dropout_rate).to(device)\n",
    "    model = Net.TwoLayer(input_size, hidden_size, output_size, dropout_rate).to(device)\n",
    "    #model = Net.ThreeLayer(input_size, hidden_size, output_size, dropout_rate).to(device)\n",
    "        \n",
    "    # make sure model is in training mode, calculates gradients etcs\n",
    "    model.train()\n",
    "    criterion = nn.BCELoss()  # cross-entropy better suited for binary classification than MSE\n",
    "    optimizer = optim.Adam(model.parameters(), lr=learning_rate)\n",
    "    \n",
    "    ## Train the Model ##\n",
    "    \n",
    "    # empty df to track loss over epochs\n",
    "    loss_df = pd.DataFrame(columns=['train_loss', 'test_loss'])\n",
    "    \n",
    "    for epoch in range(n_epochs):\n",
    "        y_train_pred_proba = model(X_train_tensor)\n",
    "        loss = criterion(y_train_pred_proba, y_train_tensor)\n",
    "        optimizer.zero_grad()\n",
    "        loss.backward()\n",
    "        optimizer.step()\n",
    "        \n",
    "        if epoch%5 ==0:\n",
    "            y_train_pred_proba = model(X_train_tensor)\n",
    "            y_test_pred_proba = model(X_test_tensor)\n",
    "\n",
    "            train_loss = criterion(y_train_pred_proba, y_train_tensor)\n",
    "            val_loss = criterion(y_test_pred_proba, y_test_tensor)\n",
    "            \n",
    "            loss_df.loc[epoch, 'train_loss'] = train_loss.detach().cpu().numpy().flatten()[0]\n",
    "            loss_df.loc[epoch, 'test_loss'] = val_loss.detach().cpu().numpy().flatten()[0]\n",
    "\n",
    "    # turn off dropout etc\n",
    "    model.eval()\n",
    "    ## now \"final\" probability outputs from trained model ##\n",
    "    y_train_pred_proba = model(X_train_tensor)\n",
    "    y_test_pred_proba = model(X_test_tensor)     \n",
    "\n",
    "    # loss on the final output\n",
    "    # this isn't really meaningful without seeing change over epochs \n",
    "    # occasionally handy to reference\n",
    "    train_loss = criterion(y_train_pred_proba, y_train_tensor).detach().cpu().numpy().flatten()[0]\n",
    "    val_loss = criterion(y_test_pred_proba, y_test_tensor).detach().cpu().numpy().flatten()[0]\n",
    "\n",
    "    # # convert these values back to pandas dtypes\n",
    "    y_train_pred_proba = y_train_pred_proba.detach().cpu().numpy() # numpy goes back to cpu\n",
    "    y_test_pred_proba = y_test_pred_proba.detach().cpu().numpy()  # numpy goes back to cpu\n",
    "    # also get their boolean values\n",
    "    y_train_pred_bool = np.round(y_train_pred_proba)\n",
    "    y_test_pred_bool = np.round(y_test_pred_proba)\n",
    "\n",
    "    # calculate accuracy\n",
    "    train_accuracy = accuracy_score(y_train_df, y_train_pred_bool.flatten())\n",
    "    test_accuracy = accuracy_score(y_test_df, y_test_pred_bool.flatten())\n",
    "\n",
    "    # calculate precision\n",
    "    test_precision = precision_score(y_test_df, y_test_pred_bool, average='binary', zero_division=0)\n",
    "    \n",
    "    # calculate recall\n",
    "    test_recall_score = recall_score(y_test_df, y_test_pred_bool, average='binary', zero_division=0)\n",
    "    \n",
    "    # calculate f1\n",
    "    f1_test = f1_score(y_test_df, y_test_pred_bool)\n",
    "\n",
    "    # extract AUC for printing\n",
    "    auc_test = roc_auc_score(y_test_df, y_test_pred_proba)  \n",
    "\n",
    "    ##\n",
    "    ## display performance summary ##\n",
    "    ##\n",
    "    model_name = model.__class__.__name__\n",
    "    print(f'Architecture:  {model_name}')\n",
    "    print(len(best_params['features']), \" features: \")\n",
    "    print(best_params['features'])\n",
    "    print('hyperparameters:')\n",
    "    for key in param_keys:\n",
    "        print(key + \":\", best_params[key])\n",
    "    print(\"\\n\")\n",
    "    print(f'Epochs: {n_epochs}')\n",
    "    print(f'Training loss: {train_loss}')\n",
    "    print(f'Validation loss: {val_loss}')\n",
    "    print(\"\\n\")\n",
    "\n",
    "    # accuracy\n",
    "    print(f'Training accuracy: {train_accuracy}')\n",
    "    print(f'Test accuracy: {test_accuracy}')\n",
    "    print('\\n')\n",
    "\n",
    "    # precision\n",
    "    print(f'Precision (test): {test_precision}')\n",
    "    print('\\n')    \n",
    "    \n",
    "    # recall\n",
    "    print(f'Recall (test): {test_recall_score}')\n",
    "    print('\\n')\n",
    "\n",
    "    # f1\n",
    "    print(f'F1 Score (test): {f1_test}')\n",
    "    print('\\n')\n",
    "\n",
    "    # AUC\n",
    "    print(f'AUC (test): {auc_test}')\n",
    "    print('\\n')\n",
    "    \n",
    "    # to be saved to json\n",
    "    # must convert float type for serialization\n",
    "    performance_summary = {\n",
    "        'train_loss': float(train_loss),\n",
    "        'val_loss': float(val_loss),\n",
    "        'train_accuracy': float(train_accuracy),\n",
    "        'test_accuracy': float(test_accuracy),\n",
    "        'test_precision': float(test_precision),\n",
    "        'test_recall': float(test_recall_score),\n",
    "        'test_f1_score': float(f1_test),\n",
    "        'test_auc': float(auc_test),\n",
    "    }\n",
    "    \n",
    "    # PLOTS\n",
    "    \n",
    "    # Loss plot\n",
    "    fig = loss_df.plot()\n",
    "    fig.set_xlabel('epochs')\n",
    "    fig.set_ylabel('loss')\n",
    "    fig.set_title('Loss over Epochs');\n",
    "\n",
    "    # AUC plot\n",
    "    fig, ax = plt.subplots()\n",
    "\n",
    "    RocCurveDisplay.from_predictions(y_train_df, \n",
    "                                     y_train_pred_proba, \n",
    "                                     ax=ax, \n",
    "                                     linewidth=1, \n",
    "                                     color='blue', \n",
    "                                     name='train', \n",
    "                                     linestyle=\"dashed\"\n",
    "                                    );\n",
    "\n",
    "    RocCurveDisplay.from_predictions(y_test_df, \n",
    "                                     y_test_pred_proba,\n",
    "                                     ax=ax, \n",
    "                                     linewidth=1, \n",
    "                                     color='orange', \n",
    "                                     name='test');\n",
    "\n",
    "    plt.title(f'FC NN: {model_name}');\n",
    "\n",
    "    # save final model weights\n",
    "    # torch.save(model.state_dict(), f'../model/{model_name}.pth')"
   ]
  },
  {
   "cell_type": "markdown",
   "metadata": {},
   "source": [
    "## Extract SHAP values from final model / feature subset"
   ]
  },
  {
   "cell_type": "code",
   "execution_count": 160,
   "metadata": {
    "tags": []
   },
   "outputs": [
    {
     "name": "stderr",
     "output_type": "stream",
     "text": [
      "Using a non-full backward hook when the forward contains multiple autograd Nodes is deprecated and will be removed in future versions. This hook will be missing some grad_input. Please use register_full_backward_hook to get the documented behavior.\n"
     ]
    },
    {
     "name": "stdout",
     "output_type": "stream",
     "text": [
      "(271, 10)\n"
     ]
    },
    {
     "data": {
      "text/html": [
       "<div>\n",
       "<style scoped>\n",
       "    .dataframe tbody tr th:only-of-type {\n",
       "        vertical-align: middle;\n",
       "    }\n",
       "\n",
       "    .dataframe tbody tr th {\n",
       "        vertical-align: top;\n",
       "    }\n",
       "\n",
       "    .dataframe thead th {\n",
       "        text-align: right;\n",
       "    }\n",
       "</style>\n",
       "<table border=\"1\" class=\"dataframe\">\n",
       "  <thead>\n",
       "    <tr style=\"text-align: right;\">\n",
       "      <th></th>\n",
       "      <th>vals</th>\n",
       "    </tr>\n",
       "  </thead>\n",
       "  <tbody>\n",
       "    <tr>\n",
       "      <th>peak_i15_mmh</th>\n",
       "      <td>0.134202</td>\n",
       "    </tr>\n",
       "    <tr>\n",
       "      <th>SuscFrac</th>\n",
       "      <td>0.043954</td>\n",
       "    </tr>\n",
       "    <tr>\n",
       "      <th>prophm23</th>\n",
       "      <td>0.043791</td>\n",
       "    </tr>\n",
       "    <tr>\n",
       "      <th>fire_interval</th>\n",
       "      <td>0.042690</td>\n",
       "    </tr>\n",
       "    <tr>\n",
       "      <th>SAV</th>\n",
       "      <td>0.040800</td>\n",
       "    </tr>\n",
       "    <tr>\n",
       "      <th>kf</th>\n",
       "      <td>0.035957</td>\n",
       "    </tr>\n",
       "    <tr>\n",
       "      <th>dnbr1000</th>\n",
       "      <td>0.032032</td>\n",
       "    </tr>\n",
       "    <tr>\n",
       "      <th>SedUn</th>\n",
       "      <td>0.024783</td>\n",
       "    </tr>\n",
       "    <tr>\n",
       "      <th>LNDS_RISKS</th>\n",
       "      <td>0.020611</td>\n",
       "    </tr>\n",
       "    <tr>\n",
       "      <th>Extinction moisture content</th>\n",
       "      <td>0.018902</td>\n",
       "    </tr>\n",
       "  </tbody>\n",
       "</table>\n",
       "</div>"
      ],
      "text/plain": [
       "                                 vals\n",
       "peak_i15_mmh                 0.134202\n",
       "SuscFrac                     0.043954\n",
       "prophm23                     0.043791\n",
       "fire_interval                0.042690\n",
       "SAV                          0.040800\n",
       "kf                           0.035957\n",
       "dnbr1000                     0.032032\n",
       "SedUn                        0.024783\n",
       "LNDS_RISKS                   0.020611\n",
       "Extinction moisture content  0.018902"
      ]
     },
     "execution_count": 160,
     "metadata": {},
     "output_type": "execute_result"
    }
   ],
   "source": [
    "explainer = shap.DeepExplainer(model, X_train_tensor)\n",
    "shap_values = explainer.shap_values(X_test_tensor)\n",
    "print(shap_values.shape)\n",
    "vals = np.abs(shap_values).mean(0)\n",
    "shap_val_df = pd.DataFrame(data=vals, index=X_test.columns, columns=['vals'])\n",
    "shap_val_df = shap_val_df.sort_values(by='vals', ascending=False)\n",
    "shap_val_df"
   ]
  },
  {
   "cell_type": "code",
   "execution_count": 161,
   "metadata": {
    "tags": []
   },
   "outputs": [
    {
     "data": {
      "image/png": "[encoded data removed]",
      "text/plain": [
       "<Figure size 640x480 with 1 Axes>"
      ]
     },
     "metadata": {},
     "output_type": "display_data"
    }
   ],
   "source": [
    "shap_val_df[::-1].plot(kind='barh', title='SHAP Values');"
   ]
  },
  {
   "cell_type": "markdown",
   "metadata": {},
   "source": [
    "## save the model parameters\n",
    "- architecture name + epochs\n",
    "- features / hyperparameters\n",
    "- weights and biases"
   ]
  },
  {
   "cell_type": "code",
   "execution_count": 162,
   "metadata": {
    "tags": []
   },
   "outputs": [
    {
     "name": "stdout",
     "output_type": "stream",
     "text": [
      "parameter json already exists\n"
     ]
    }
   ],
   "source": [
    "# check if parameters file exists\n",
    "# if not, create it\n",
    "import os\n",
    "import json\n",
    "\n",
    "file_path = \"../../app/model/model_parameters.json\"\n",
    "if os.path.isfile(file_path) == True:\n",
    "    print(\"parameter json already exists\")\n",
    "else:\n",
    "    print(\"created empty json file\")\n",
    "    model_params = {} # create empty dict\n",
    "    with open(file_path, \"w\") as json_file:\n",
    "        json.dump(model_params, json_file)"
   ]
  },
  {
   "cell_type": "code",
   "execution_count": 163,
   "metadata": {
    "tags": []
   },
   "outputs": [],
   "source": [
    "# open the parameters json\n",
    "file_path = \"../../app/model/model_parameters.json\"\n",
    "with open(file_path) as model_params:\n",
    "    model_params = json.load(model_params)\n",
    "\n",
    "# model_params"
   ]
  },
  {
   "cell_type": "code",
   "execution_count": 164,
   "metadata": {
    "tags": []
   },
   "outputs": [
    {
     "name": "stdout",
     "output_type": "stream",
     "text": [
      "TwoLayer_750_epochs_optimized_roc_auc_score\n"
     ]
    },
    {
     "data": {
      "text/plain": [
       "{'features': ['peak_i15_mmh',\n",
       "  'fire_interval',\n",
       "  'SuscFrac',\n",
       "  'Extinction moisture content',\n",
       "  'prophm23',\n",
       "  'kf',\n",
       "  'dnbr1000',\n",
       "  'SAV',\n",
       "  'SedUn',\n",
       "  'LNDS_RISKS'],\n",
       " 'hidden_size': 100,\n",
       " 'lr': 0.01,\n",
       " 'dropout_rate': 0.2,\n",
       " 'epochs': 750,\n",
       " 'model_class': 'TwoLayer',\n",
       " 'weights': 'TwoLayer_750_epochs_optimized_roc_auc_score.pth',\n",
       " 'grid_search_metric': 'roc_auc_score',\n",
       " 'performance_summary': {'train_loss': 0.032547518610954285,\n",
       "  'val_loss': 0.8078681230545044,\n",
       "  'train_accuracy': 0.9899328859060402,\n",
       "  'test_accuracy': 0.8597785977859779,\n",
       "  'test_precision': 0.6666666666666666,\n",
       "  'test_recall': 0.6181818181818182,\n",
       "  'test_f1_score': 0.6415094339622642,\n",
       "  'test_auc': 0.9136363636363636}}"
      ]
     },
     "execution_count": 164,
     "metadata": {},
     "output_type": "execute_result"
    }
   ],
   "source": [
    "# save final model weights\n",
    "architecture = model_name + \"_\" + str(n_epochs) + \"_epochs\" + \"_optimized_\" + chosen_metric\n",
    "torch.save(model.state_dict(), f'../../app/model/{architecture}.pth')\n",
    "\n",
    "# and hyperparameters\n",
    "new_params = {}\n",
    "new_params['features'] = best_params['features']\n",
    "new_params['hidden_size'] = best_params['hidden_size']\n",
    "new_params['lr'] = best_params['lr']\n",
    "new_params['dropout_rate'] = best_params['dropout_rate']\n",
    "new_params['epochs'] = n_epochs\n",
    "new_params['model_class'] = model_name\n",
    "new_params['weights'] = f'{architecture}.pth'\n",
    "new_params['grid_search_metric'] = chosen_metric\n",
    "new_params['performance_summary'] = performance_summary\n",
    "\n",
    "# assign to the json\n",
    "model_params[architecture] = new_params\n",
    "# and view the final output\n",
    "print(architecture)\n",
    "model_params[architecture]"
   ]
  },
  {
   "cell_type": "code",
   "execution_count": 165,
   "metadata": {
    "tags": []
   },
   "outputs": [
    {
     "name": "stdout",
     "output_type": "stream",
     "text": [
      "hyperparameters saved!\n"
     ]
    }
   ],
   "source": [
    "# write out the file\n",
    "file_path = \"../../app/model/model_parameters.json\"\n",
    "with open(file_path, \"w\") as json_file:\n",
    "    json.dump(model_params, json_file)\n",
    "    print(\"hyperparameters saved!\")"
   ]
  },
  {
   "cell_type": "markdown",
   "metadata": {},
   "source": [
    "# Confusion Matrix <a id=\"MATRIX\">\n",
    "- assess probabilities\n",
    "- is the loss for test set high due to outliers, particular states, etc"
   ]
  },
  {
   "cell_type": "code",
   "execution_count": 166,
   "metadata": {
    "tags": []
   },
   "outputs": [],
   "source": [
    "from sklearn.metrics import confusion_matrix, ConfusionMatrixDisplay\n",
    "import seaborn as sns"
   ]
  },
  {
   "cell_type": "code",
   "execution_count": 167,
   "metadata": {},
   "outputs": [],
   "source": [
    "# bring in full file\n",
    "# will need for geographic assessment of confusion matrix\n",
    "file_path = \"../../data/data_v08_consolidated.parquet\"\n",
    "df = gpd.read_parquet(file_path)"
   ]
  },
  {
   "cell_type": "code",
   "execution_count": 168,
   "metadata": {
    "tags": []
   },
   "outputs": [
    {
     "data": {
      "image/png": "[encoded data removed]",
      "text/plain": [
       "<Figure size 640x480 with 2 Axes>"
      ]
     },
     "metadata": {},
     "output_type": "display_data"
    }
   ],
   "source": [
    "cm = confusion_matrix(y_test_df, y_test_pred_bool)\n",
    "disp = ConfusionMatrixDisplay(confusion_matrix=cm)\n",
    "disp.plot();\n",
    "plt.title('Confusion Matrix');"
   ]
  },
  {
   "cell_type": "code",
   "execution_count": 169,
   "metadata": {
    "tags": []
   },
   "outputs": [],
   "source": [
    "# pd.set_option('display.float_format', lambda x: '%.7f' % x)"
   ]
  },
  {
   "cell_type": "code",
   "execution_count": 170,
   "metadata": {
    "tags": []
   },
   "outputs": [
    {
     "data": {
      "text/html": [
       "<div>\n",
       "<style scoped>\n",
       "    .dataframe tbody tr th:only-of-type {\n",
       "        vertical-align: middle;\n",
       "    }\n",
       "\n",
       "    .dataframe tbody tr th {\n",
       "        vertical-align: top;\n",
       "    }\n",
       "\n",
       "    .dataframe thead th {\n",
       "        text-align: right;\n",
       "    }\n",
       "</style>\n",
       "<table border=\"1\" class=\"dataframe\">\n",
       "  <thead>\n",
       "    <tr style=\"text-align: right;\">\n",
       "      <th></th>\n",
       "      <th>y_test</th>\n",
       "      <th>y_test_pred</th>\n",
       "      <th>pred_correct</th>\n",
       "      <th>y_test_pred_proba</th>\n",
       "      <th>confusion</th>\n",
       "      <th>state</th>\n",
       "    </tr>\n",
       "  </thead>\n",
       "  <tbody>\n",
       "    <tr>\n",
       "      <th>2</th>\n",
       "      <td>0</td>\n",
       "      <td>0</td>\n",
       "      <td>True</td>\n",
       "      <td>0.000000e+00</td>\n",
       "      <td>TN</td>\n",
       "      <td>CA</td>\n",
       "    </tr>\n",
       "    <tr>\n",
       "      <th>6</th>\n",
       "      <td>0</td>\n",
       "      <td>0</td>\n",
       "      <td>True</td>\n",
       "      <td>0.000000e+00</td>\n",
       "      <td>TN</td>\n",
       "      <td>CA</td>\n",
       "    </tr>\n",
       "    <tr>\n",
       "      <th>10</th>\n",
       "      <td>0</td>\n",
       "      <td>0</td>\n",
       "      <td>True</td>\n",
       "      <td>0.000000e+00</td>\n",
       "      <td>TN</td>\n",
       "      <td>CA</td>\n",
       "    </tr>\n",
       "    <tr>\n",
       "      <th>29</th>\n",
       "      <td>1</td>\n",
       "      <td>1</td>\n",
       "      <td>True</td>\n",
       "      <td>9.946289e-01</td>\n",
       "      <td>TP</td>\n",
       "      <td>ID</td>\n",
       "    </tr>\n",
       "    <tr>\n",
       "      <th>35</th>\n",
       "      <td>1</td>\n",
       "      <td>1</td>\n",
       "      <td>True</td>\n",
       "      <td>9.951172e-01</td>\n",
       "      <td>TP</td>\n",
       "      <td>ID</td>\n",
       "    </tr>\n",
       "    <tr>\n",
       "      <th>...</th>\n",
       "      <td>...</td>\n",
       "      <td>...</td>\n",
       "      <td>...</td>\n",
       "      <td>...</td>\n",
       "      <td>...</td>\n",
       "      <td>...</td>\n",
       "    </tr>\n",
       "    <tr>\n",
       "      <th>1446</th>\n",
       "      <td>0</td>\n",
       "      <td>0</td>\n",
       "      <td>True</td>\n",
       "      <td>0.000000e+00</td>\n",
       "      <td>TN</td>\n",
       "      <td>AZ</td>\n",
       "    </tr>\n",
       "    <tr>\n",
       "      <th>1447</th>\n",
       "      <td>0</td>\n",
       "      <td>0</td>\n",
       "      <td>True</td>\n",
       "      <td>2.694130e-04</td>\n",
       "      <td>TN</td>\n",
       "      <td>AZ</td>\n",
       "    </tr>\n",
       "    <tr>\n",
       "      <th>1448</th>\n",
       "      <td>0</td>\n",
       "      <td>0</td>\n",
       "      <td>True</td>\n",
       "      <td>5.960464e-08</td>\n",
       "      <td>TN</td>\n",
       "      <td>AZ</td>\n",
       "    </tr>\n",
       "    <tr>\n",
       "      <th>1449</th>\n",
       "      <td>0</td>\n",
       "      <td>0</td>\n",
       "      <td>True</td>\n",
       "      <td>0.000000e+00</td>\n",
       "      <td>TN</td>\n",
       "      <td>AZ</td>\n",
       "    </tr>\n",
       "    <tr>\n",
       "      <th>1450</th>\n",
       "      <td>0</td>\n",
       "      <td>0</td>\n",
       "      <td>True</td>\n",
       "      <td>0.000000e+00</td>\n",
       "      <td>TN</td>\n",
       "      <td>AZ</td>\n",
       "    </tr>\n",
       "  </tbody>\n",
       "</table>\n",
       "<p>271 rows × 6 columns</p>\n",
       "</div>"
      ],
      "text/plain": [
       "      y_test  y_test_pred  pred_correct  y_test_pred_proba confusion state\n",
       "2          0            0          True       0.000000e+00        TN    CA\n",
       "6          0            0          True       0.000000e+00        TN    CA\n",
       "10         0            0          True       0.000000e+00        TN    CA\n",
       "29         1            1          True       9.946289e-01        TP    ID\n",
       "35         1            1          True       9.951172e-01        TP    ID\n",
       "...      ...          ...           ...                ...       ...   ...\n",
       "1446       0            0          True       0.000000e+00        TN    AZ\n",
       "1447       0            0          True       2.694130e-04        TN    AZ\n",
       "1448       0            0          True       5.960464e-08        TN    AZ\n",
       "1449       0            0          True       0.000000e+00        TN    AZ\n",
       "1450       0            0          True       0.000000e+00        TN    AZ\n",
       "\n",
       "[271 rows x 6 columns]"
      ]
     },
     "execution_count": 170,
     "metadata": {},
     "output_type": "execute_result"
    }
   ],
   "source": [
    "# create dataframe with test values\n",
    "test_assess = pd.DataFrame(y_test_df).astype(int).rename(columns={'response': 'y_test'})\n",
    "# predicted values\n",
    "test_assess['y_test_pred'] = y_test_pred_bool.flatten().astype(int)\n",
    "# whether they are correctly predicted\n",
    "test_assess['pred_correct'] = test_assess['y_test'] == test_assess['y_test_pred']\n",
    "# the probability of the prediction\n",
    "test_assess['y_test_pred_proba'] = y_test_pred_proba.flatten().astype(np.float16) # reduce precision to prevent downstream errors\n",
    "\n",
    "# create column for confusion matrix\n",
    "# we'll use this to assess the probabilities\n",
    "# there's a dataframe for each of these if needed\n",
    "TP = test_assess[(test_assess['y_test'] == 1) & (test_assess['pred_correct'] == True)]\n",
    "FP = test_assess[(test_assess['y_test'] == 0) & (test_assess['pred_correct'] == False)]\n",
    "TN = test_assess[(test_assess['y_test'] == 0) & (test_assess['pred_correct'] == True)]\n",
    "FN = test_assess[(test_assess['y_test'] == 1) & (test_assess['pred_correct'] == False)]\n",
    "\n",
    "test_assess.loc[TP.index,'confusion'] = 'TP'\n",
    "test_assess.loc[FP.index,'confusion'] = 'FP'\n",
    "test_assess.loc[TN.index,'confusion'] = 'TN'\n",
    "test_assess.loc[FN.index,'confusion'] = 'FN'\n",
    "\n",
    "# bring in the state values\n",
    "test_assess = pd.merge(test_assess, df['state'], how='left', left_index=True, right_index=True)\n",
    "\n",
    "test_assess"
   ]
  },
  {
   "cell_type": "code",
   "execution_count": 171,
   "metadata": {
    "tags": []
   },
   "outputs": [
    {
     "data": {
      "image/png": "[encoded data removed]",
      "text/plain": [
       "<Figure size 640x480 with 1 Axes>"
      ]
     },
     "metadata": {},
     "output_type": "display_data"
    }
   ],
   "source": [
    "# overall probability distribution\n",
    "test_assess['y_test_pred_proba'].hist();"
   ]
  },
  {
   "cell_type": "code",
   "execution_count": 172,
   "metadata": {
    "tags": []
   },
   "outputs": [],
   "source": [
    "# records were there was actually YES debris flow\n",
    "subset = ['TP', 'FN']\n",
    "flows = test_assess[test_assess['confusion'].isin(subset)]\n",
    "\n",
    "# records were there was actually NO debris flow\n",
    "subset = ['TN', 'FP']\n",
    "no_flows = test_assess[test_assess['confusion'].isin(subset)]"
   ]
  },
  {
   "cell_type": "code",
   "execution_count": 173,
   "metadata": {
    "tags": []
   },
   "outputs": [
    {
     "data": {
      "image/png": "[encoded data removed]",
      "text/plain": [
       "<Figure size 570.736x500 with 1 Axes>"
      ]
     },
     "metadata": {},
     "output_type": "display_data"
    }
   ],
   "source": [
    "sns.displot(data=flows, x='y_test_pred_proba', hue='confusion', kde=True);\n",
    "plt.title('Debris Flow: YES');"
   ]
  },
  {
   "cell_type": "code",
   "execution_count": 174,
   "metadata": {
    "tags": []
   },
   "outputs": [],
   "source": [
    "# # seaborn has a hard time with the really small probabilities\n",
    "# sns.displot(data=no_flows, x='y_test_pred_proba', hue='confusion', kde=True);\n",
    "# plt.title('Debris Flow: NO');"
   ]
  },
  {
   "cell_type": "code",
   "execution_count": 175,
   "metadata": {
    "tags": []
   },
   "outputs": [
    {
     "data": {
      "image/png": "[encoded data removed]",
      "text/plain": [
       "<Figure size 570.736x500 with 1 Axes>"
      ]
     },
     "metadata": {},
     "output_type": "display_data"
    }
   ],
   "source": [
    "# seaborn has a hard time with the really small probabilities\n",
    "temp = no_flows[no_flows['y_test_pred_proba'].astype(str).str.len() < 7]\n",
    "sns.displot(data=temp, x='y_test_pred_proba', hue='confusion', kde=True);\n",
    "plt.title('Debris Flow: NO');"
   ]
  },
  {
   "cell_type": "code",
   "execution_count": 176,
   "metadata": {
    "tags": []
   },
   "outputs": [
    {
     "data": {
      "text/html": [
       "<div>\n",
       "<style scoped>\n",
       "    .dataframe tbody tr th:only-of-type {\n",
       "        vertical-align: middle;\n",
       "    }\n",
       "\n",
       "    .dataframe tbody tr th {\n",
       "        vertical-align: top;\n",
       "    }\n",
       "\n",
       "    .dataframe thead th {\n",
       "        text-align: right;\n",
       "    }\n",
       "</style>\n",
       "<table border=\"1\" class=\"dataframe\">\n",
       "  <thead>\n",
       "    <tr style=\"text-align: right;\">\n",
       "      <th>state</th>\n",
       "      <th>AZ</th>\n",
       "      <th>CA</th>\n",
       "      <th>CO</th>\n",
       "      <th>ID</th>\n",
       "      <th>MT</th>\n",
       "      <th>NM</th>\n",
       "    </tr>\n",
       "    <tr>\n",
       "      <th>confusion</th>\n",
       "      <th></th>\n",
       "      <th></th>\n",
       "      <th></th>\n",
       "      <th></th>\n",
       "      <th></th>\n",
       "      <th></th>\n",
       "    </tr>\n",
       "  </thead>\n",
       "  <tbody>\n",
       "    <tr>\n",
       "      <th>TP</th>\n",
       "      <td>0.000000</td>\n",
       "      <td>0.852941</td>\n",
       "      <td>0.029412</td>\n",
       "      <td>0.058824</td>\n",
       "      <td>0.000000</td>\n",
       "      <td>0.058824</td>\n",
       "    </tr>\n",
       "    <tr>\n",
       "      <th>FN</th>\n",
       "      <td>0.142857</td>\n",
       "      <td>0.571429</td>\n",
       "      <td>0.190476</td>\n",
       "      <td>0.000000</td>\n",
       "      <td>0.095238</td>\n",
       "      <td>0.000000</td>\n",
       "    </tr>\n",
       "    <tr>\n",
       "      <th>TN</th>\n",
       "      <td>0.120603</td>\n",
       "      <td>0.522613</td>\n",
       "      <td>0.326633</td>\n",
       "      <td>0.000000</td>\n",
       "      <td>0.015075</td>\n",
       "      <td>0.015075</td>\n",
       "    </tr>\n",
       "    <tr>\n",
       "      <th>FP</th>\n",
       "      <td>0.176471</td>\n",
       "      <td>0.235294</td>\n",
       "      <td>0.176471</td>\n",
       "      <td>0.058824</td>\n",
       "      <td>0.176471</td>\n",
       "      <td>0.176471</td>\n",
       "    </tr>\n",
       "  </tbody>\n",
       "</table>\n",
       "</div>"
      ],
      "text/plain": [
       "state            AZ        CA        CO        ID        MT        NM\n",
       "confusion                                                            \n",
       "TP         0.000000  0.852941  0.029412  0.058824  0.000000  0.058824\n",
       "FN         0.142857  0.571429  0.190476  0.000000  0.095238  0.000000\n",
       "TN         0.120603  0.522613  0.326633  0.000000  0.015075  0.015075\n",
       "FP         0.176471  0.235294  0.176471  0.058824  0.176471  0.176471"
      ]
     },
     "execution_count": 176,
     "metadata": {},
     "output_type": "execute_result"
    }
   ],
   "source": [
    "# this let's us see where are performance is coming from\n",
    "# it's the percentage of each metric by state\n",
    "state_matrix = test_assess.groupby(['confusion'])['state'].value_counts(normalize=True).unstack().fillna(0)#.astype(int)\n",
    "state_matrix = state_matrix.loc[['TP', 'FN', 'TN', 'FP'],:]\n",
    "state_matrix"
   ]
  },
  {
   "cell_type": "code",
   "execution_count": 177,
   "metadata": {
    "tags": []
   },
   "outputs": [
    {
     "data": {
      "text/plain": [
       "TN    199\n",
       "TP     34\n",
       "FN     21\n",
       "FP     17\n",
       "Name: confusion, dtype: int64"
      ]
     },
     "execution_count": 177,
     "metadata": {},
     "output_type": "execute_result"
    }
   ],
   "source": [
    "test_assess['confusion'].value_counts()"
   ]
  },
  {
   "cell_type": "code",
   "execution_count": 178,
   "metadata": {
    "tags": []
   },
   "outputs": [
    {
     "data": {
      "text/plain": [
       "AZ    0.110701\n",
       "CA    0.549815\n",
       "CO    0.269373\n",
       "ID    0.011070\n",
       "MT    0.029520\n",
       "NM    0.029520\n",
       "Name: state, dtype: float64"
      ]
     },
     "execution_count": 178,
     "metadata": {},
     "output_type": "execute_result"
    }
   ],
   "source": [
    "# we can use this to determine\n",
    "# is our confusion matrix is overindexing on certain state(s)\n",
    "state_counts = test_assess['state'].value_counts(normalize=True).sort_index()\n",
    "state_counts"
   ]
  },
  {
   "cell_type": "code",
   "execution_count": 179,
   "metadata": {
    "tags": []
   },
   "outputs": [
    {
     "data": {
      "text/html": [
       "<div>\n",
       "<style scoped>\n",
       "    .dataframe tbody tr th:only-of-type {\n",
       "        vertical-align: middle;\n",
       "    }\n",
       "\n",
       "    .dataframe tbody tr th {\n",
       "        vertical-align: top;\n",
       "    }\n",
       "\n",
       "    .dataframe thead th {\n",
       "        text-align: right;\n",
       "    }\n",
       "</style>\n",
       "<table border=\"1\" class=\"dataframe\">\n",
       "  <thead>\n",
       "    <tr style=\"text-align: right;\">\n",
       "      <th>state</th>\n",
       "      <th>AZ</th>\n",
       "      <th>CA</th>\n",
       "      <th>CO</th>\n",
       "      <th>ID</th>\n",
       "      <th>MT</th>\n",
       "      <th>NM</th>\n",
       "    </tr>\n",
       "    <tr>\n",
       "      <th>confusion</th>\n",
       "      <th></th>\n",
       "      <th></th>\n",
       "      <th></th>\n",
       "      <th></th>\n",
       "      <th></th>\n",
       "      <th></th>\n",
       "    </tr>\n",
       "  </thead>\n",
       "  <tbody>\n",
       "    <tr>\n",
       "      <th>TP</th>\n",
       "      <td>-1.000000</td>\n",
       "      <td>0.551323</td>\n",
       "      <td>-0.890814</td>\n",
       "      <td>4.313725</td>\n",
       "      <td>-1.000000</td>\n",
       "      <td>0.992647</td>\n",
       "    </tr>\n",
       "    <tr>\n",
       "      <th>FN</th>\n",
       "      <td>0.290476</td>\n",
       "      <td>0.039310</td>\n",
       "      <td>-0.292890</td>\n",
       "      <td>-1.000000</td>\n",
       "      <td>2.226190</td>\n",
       "      <td>-1.000000</td>\n",
       "    </tr>\n",
       "    <tr>\n",
       "      <th>TN</th>\n",
       "      <td>0.089447</td>\n",
       "      <td>-0.049476</td>\n",
       "      <td>0.212570</td>\n",
       "      <td>-1.000000</td>\n",
       "      <td>-0.489322</td>\n",
       "      <td>-0.489322</td>\n",
       "    </tr>\n",
       "    <tr>\n",
       "      <th>FP</th>\n",
       "      <td>0.594118</td>\n",
       "      <td>-0.572049</td>\n",
       "      <td>-0.344883</td>\n",
       "      <td>4.313725</td>\n",
       "      <td>4.977941</td>\n",
       "      <td>4.977941</td>\n",
       "    </tr>\n",
       "  </tbody>\n",
       "</table>\n",
       "</div>"
      ],
      "text/plain": [
       "state            AZ        CA        CO        ID        MT        NM\n",
       "confusion                                                            \n",
       "TP        -1.000000  0.551323 -0.890814  4.313725 -1.000000  0.992647\n",
       "FN         0.290476  0.039310 -0.292890 -1.000000  2.226190 -1.000000\n",
       "TN         0.089447 -0.049476  0.212570 -1.000000 -0.489322 -0.489322\n",
       "FP         0.594118 -0.572049 -0.344883  4.313725  4.977941  4.977941"
      ]
     },
     "execution_count": 179,
     "metadata": {},
     "output_type": "execute_result"
    }
   ],
   "source": [
    "confusion_index = state_matrix.div(state_counts) - 1\n",
    "confusion_index"
   ]
  },
  {
   "cell_type": "code",
   "execution_count": 180,
   "metadata": {
    "tags": []
   },
   "outputs": [
    {
     "data": {
      "image/png": "[encoded data removed]",
      "text/plain": [
       "<Figure size 640x480 with 1 Axes>"
      ]
     },
     "metadata": {},
     "output_type": "display_data"
    }
   ],
   "source": [
    "confusion_index.plot(kind='barh').invert_yaxis();\n",
    "plt.title('Confusion Index by State');"
   ]
  },
  {
   "cell_type": "code",
   "execution_count": 181,
   "metadata": {},
   "outputs": [
    {
     "name": "stdout",
     "output_type": "stream",
     "text": [
      "end time: 2023-06-08 02:12:53.226065\n",
      "elapsed time: 1:14:26.617968\n"
     ]
    }
   ],
   "source": [
    "# end of notebook\n",
    "end_time = datetime.now()\n",
    "print('end time:', str(end_time))\n",
    "elapsed_time = end_time - start_time\n",
    "print('elapsed time:', str(elapsed_time))"
   ]
  },
  {
   "cell_type": "code",
   "execution_count": null,
   "metadata": {},
   "outputs": [],
   "source": []
  }
 ],
 "metadata": {
  "kernelspec": {
   "display_name": "Python 3 (ipykernel)",
   "language": "python",
   "name": "python3"
  },
  "language_info": {
   "codemirror_mode": {
    "name": "ipython",
    "version": 3
   },
   "file_extension": ".py",
   "mimetype": "text/x-python",
   "name": "python",
   "nbconvert_exporter": "python",
   "pygments_lexer": "ipython3",
   "version": "3.10.10"
  }
 },
 "nbformat": 4,
 "nbformat_minor": 4
}
