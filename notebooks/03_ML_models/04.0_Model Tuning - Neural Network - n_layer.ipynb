{
 "cells": [
  {
   "cell_type": "markdown",
   "metadata": {
    "tags": []
   },
   "source": [
    "# Neural Network Model Tuning\n",
    "\n",
    "- Alejandro Hohmann\n",
    "- Bhanu Muvva\n",
    "- Chunxia Tong\n",
    "\n",
    "The purpose of this notebook is manual tuning / evaluation of hyperparameters"
   ]
  },
  {
   "cell_type": "markdown",
   "metadata": {},
   "source": [
    "# Table of Contents\n",
    "\n",
    "### - [Neural Net Architecture](#NN)\n",
    "- imported from .py file\n",
    "\n",
    "### - [Initial Grid Search for HyperParameters](#HYPER)\n",
    "- selects optimization metric\n",
    "\n",
    "### - [SHAP Values for Feature Importance](#SHAP)\n",
    "        - used for narrowing down to most important features\n",
    "\n",
    "### - [Feature Selection Using SHAP order](#FEATURE)\n",
    "\n",
    "### - [Best Model with Epochs](#BEST)\n",
    "- saves values to .json file and .pth file\n",
    "\n",
    "### - [Confusion Matrix](#MATRIX)\n",
    "- assesses probability distribution and states"
   ]
  },
  {
   "cell_type": "code",
   "execution_count": 1,
   "metadata": {
    "tags": []
   },
   "outputs": [],
   "source": [
    "# assign seed now for consistency any time it needs to be used\n",
    "seed=27"
   ]
  },
  {
   "cell_type": "code",
   "execution_count": 1,
   "metadata": {
    "tags": []
   },
   "outputs": [],
   "source": [
    "# file structure libraries\n",
    "import numpy as np\n",
    "import pandas as pd\n",
    "import geopandas as gpd\n",
    "import os\n",
    "import pickle\n",
    "\n",
    "# # visualization libraries\n",
    "from matplotlib import pyplot as plt\n",
    "#plt.style.use('seaborn-v0_8-pastel')\n",
    "plt.style.use('seaborn-v0_8-darkgrid')\n",
    "#plt.style.use('bmh')\n",
    "#plt.style.use('dark_background')\n",
    "#plt.style.use('fivethirtyeight')\n",
    "%matplotlib inline\n",
    "# import seaborn as sns\n",
    "\n",
    "# # ML libraries\n",
    "# from sklearn.preprocessing import StandardScaler\n",
    "# from sklearn.linear_model import LogisticRegression\n",
    "from sklearn.model_selection import ParameterGrid\n",
    "from sklearn.metrics import accuracy_score, precision_score, recall_score, f1_score, roc_auc_score, RocCurveDisplay#, roc_curve\n",
    "# from sklearn.metrics import confusion_matrix\n",
    "from sklearn.preprocessing import StandardScaler\n",
    "\n",
    "# # for sigmoid function, in case we need to manually implement in LR\n",
    "# from scipy.stats import logistic\n",
    "\n",
    "import torch\n",
    "import torch.nn as nn\n",
    "import torch.optim as optim\n",
    "import shap"
   ]
  },
  {
   "cell_type": "code",
   "execution_count": 2,
   "metadata": {
    "tags": []
   },
   "outputs": [
    {
     "name": "stdout",
     "output_type": "stream",
     "text": [
      "start time: 2023-06-09 06:41:02.340920\n"
     ]
    }
   ],
   "source": [
    "# start of notebook\n",
    "from datetime import datetime\n",
    "start_time = datetime.now()\n",
    "print('start time:', str(start_time))"
   ]
  },
  {
   "cell_type": "code",
   "execution_count": 3,
   "metadata": {
    "tags": []
   },
   "outputs": [
    {
     "data": {
      "text/plain": [
       "True"
      ]
     },
     "execution_count": 3,
     "metadata": {},
     "output_type": "execute_result"
    }
   ],
   "source": [
    "torch.cuda.is_available()"
   ]
  },
  {
   "cell_type": "code",
   "execution_count": 4,
   "metadata": {
    "tags": []
   },
   "outputs": [
    {
     "data": {
      "text/plain": [
       "4"
      ]
     },
     "execution_count": 4,
     "metadata": {},
     "output_type": "execute_result"
    }
   ],
   "source": [
    "torch.cuda.device_count()"
   ]
  },
  {
   "cell_type": "code",
   "execution_count": 5,
   "metadata": {
    "tags": []
   },
   "outputs": [
    {
     "name": "stdout",
     "output_type": "stream",
     "text": [
      "NVIDIA GeForce GTX 1080 Ti\n",
      "NVIDIA GeForce GTX 1080 Ti\n",
      "NVIDIA GeForce GTX 1080 Ti\n",
      "NVIDIA GeForce GTX 1080 Ti\n"
     ]
    }
   ],
   "source": [
    "for i in range(torch.cuda.device_count()):\n",
    "    print(torch.cuda.get_device_name(i))"
   ]
  },
  {
   "cell_type": "code",
   "execution_count": 6,
   "metadata": {
    "tags": []
   },
   "outputs": [],
   "source": [
    "# our system has 8 GPUs\n",
    "# we won't need them all at the same time but can be helpful\n",
    "\n",
    "device_0 = torch.device(\"cuda:0\" if torch.cuda.is_available() else \"cpu\")\n",
    "device_1 = torch.device(\"cuda:1\" if torch.cuda.is_available() else \"cpu\")\n",
    "device_2 = torch.device(\"cuda:2\" if torch.cuda.is_available() else \"cpu\")\n",
    "device_3 = torch.device(\"cuda:3\" if torch.cuda.is_available() else \"cpu\")\n",
    "device_4 = torch.device(\"cuda:4\" if torch.cuda.is_available() else \"cpu\")\n",
    "device_5 = torch.device(\"cuda:5\" if torch.cuda.is_available() else \"cpu\")\n",
    "device_6 = torch.device(\"cuda:6\" if torch.cuda.is_available() else \"cpu\")\n",
    "device_7 = torch.device(\"cuda:7\" if torch.cuda.is_available() else \"cpu\")\n",
    "\n",
    "devices = [\n",
    "    device_0,\n",
    "    device_1,\n",
    "    device_2,\n",
    "    device_3,\n",
    "    device_4,\n",
    "    device_5,\n",
    "    device_6,\n",
    "    device_7,\n",
    "]"
   ]
  },
  {
   "cell_type": "code",
   "execution_count": 7,
   "metadata": {
    "tags": []
   },
   "outputs": [
    {
     "data": {
      "text/plain": [
       "device(type='cuda', index=3)"
      ]
     },
     "execution_count": 7,
     "metadata": {},
     "output_type": "execute_result"
    }
   ],
   "source": [
    "# SELECT YOUR DEVICE FOR THIS NOTEBOOK\n",
    "idx = 3\n",
    "device = devices[idx] # change index to select\n",
    "device"
   ]
  },
  {
   "cell_type": "markdown",
   "metadata": {},
   "source": [
    "## Neural Net <a id=\"NN\">"
   ]
  },
  {
   "cell_type": "code",
   "execution_count": 8,
   "metadata": {
    "tags": []
   },
   "outputs": [],
   "source": [
    "# load in the model class\n",
    "import sys\n",
    "sys.path.append(\"../../app/model/\")\n",
    "import ModelNN as Net"
   ]
  },
  {
   "cell_type": "code",
   "execution_count": 9,
   "metadata": {
    "tags": []
   },
   "outputs": [
    {
     "name": "stdout",
     "output_type": "stream",
     "text": [
      "<class 'ModelNN.Net'>\n",
      "<class 'ModelNN.OneLayer'>\n",
      "<class 'ModelNN.ThreeLayer'>\n",
      "<class 'ModelNN.TwoLayer'>\n"
     ]
    }
   ],
   "source": [
    "import inspect\n",
    "\n",
    "# we've defined multiple architectures to select from\n",
    "for name, obj in inspect.getmembers(Net):\n",
    "    if inspect.isclass(obj):\n",
    "        print(obj)"
   ]
  },
  {
   "cell_type": "code",
   "execution_count": 10,
   "metadata": {
    "tags": []
   },
   "outputs": [
    {
     "name": "stdout",
     "output_type": "stream",
     "text": [
      "X_train:  (1192, 13)\n",
      "X_test:  (271, 13)\n",
      "\n",
      "\n",
      "y_train:  (1192,)\n",
      "y_test:  (271,)\n"
     ]
    }
   ],
   "source": [
    "# LOAD IN DATA\n",
    "X_train_df, X_test_df, y_train_df, y_test_df = pickle.load(open(\"../../data/train_test_data.pkl\", \"rb\"))\n",
    "\n",
    "print(\"X_train: \", X_train_df.shape)\n",
    "print(\"X_test: \", X_test_df.shape)\n",
    "print(\"\\n\")\n",
    "print(\"y_train: \", y_train_df.shape)\n",
    "print(\"y_test: \", y_test_df.shape)"
   ]
  },
  {
   "cell_type": "markdown",
   "metadata": {},
   "source": [
    "# Grid Search for HyperParameter Tuning <a id=\"HYPER\">\n",
    "    \n",
    "- optimize grid search with different model metrics to decide on optimal path forward"
   ]
  },
  {
   "cell_type": "code",
   "execution_count": 11,
   "metadata": {
    "tags": []
   },
   "outputs": [
    {
     "data": {
      "text/html": [
       "<div>\n",
       "<style scoped>\n",
       "    .dataframe tbody tr th:only-of-type {\n",
       "        vertical-align: middle;\n",
       "    }\n",
       "\n",
       "    .dataframe tbody tr th {\n",
       "        vertical-align: top;\n",
       "    }\n",
       "\n",
       "    .dataframe thead th {\n",
       "        text-align: right;\n",
       "    }\n",
       "</style>\n",
       "<table border=\"1\" class=\"dataframe\">\n",
       "  <thead>\n",
       "    <tr style=\"text-align: right;\">\n",
       "      <th></th>\n",
       "      <th>test_accuracy</th>\n",
       "      <th>test_precision</th>\n",
       "      <th>test_recall</th>\n",
       "      <th>test_f1_score</th>\n",
       "      <th>test_auc</th>\n",
       "      <th>training_loss</th>\n",
       "      <th>validation_loss</th>\n",
       "      <th>epochs</th>\n",
       "      <th>hyper_params</th>\n",
       "    </tr>\n",
       "  </thead>\n",
       "  <tbody>\n",
       "    <tr>\n",
       "      <th>score</th>\n",
       "      <td>NaN</td>\n",
       "      <td>NaN</td>\n",
       "      <td>NaN</td>\n",
       "      <td>NaN</td>\n",
       "      <td>NaN</td>\n",
       "      <td>NaN</td>\n",
       "      <td>NaN</td>\n",
       "      <td>NaN</td>\n",
       "      <td>NaN</td>\n",
       "    </tr>\n",
       "  </tbody>\n",
       "</table>\n",
       "</div>"
      ],
      "text/plain": [
       "      test_accuracy test_precision test_recall test_f1_score test_auc  \\\n",
       "score           NaN            NaN         NaN           NaN      NaN   \n",
       "\n",
       "      training_loss validation_loss epochs hyper_params  \n",
       "score           NaN             NaN    NaN          NaN  "
      ]
     },
     "execution_count": 11,
     "metadata": {},
     "output_type": "execute_result"
    }
   ],
   "source": [
    "# # list of functions\n",
    "# metrics =[\n",
    "#     recall_score,\n",
    "#     f1_score,\n",
    "#     roc_auc_score,\n",
    "# ]\n",
    "\n",
    "# # create dataframe to track performance on metric criteria\n",
    "# index=[metric.__name__ for metric in metrics]\n",
    "index = ['score']\n",
    "\n",
    "columns=[\n",
    "    'test_accuracy',\n",
    "    'test_precision',\n",
    "    'test_recall',\n",
    "    'test_f1_score',\n",
    "    'test_auc',\n",
    "    'training_loss',\n",
    "    'validation_loss',\n",
    "    'epochs',\n",
    "    'hyper_params' # this will be a dictionary\n",
    "]\n",
    "\n",
    "param_df = pd.DataFrame(index=index,\n",
    "                        columns=columns)\n",
    "\n",
    "param_df"
   ]
  },
  {
   "cell_type": "code",
   "execution_count": 12,
   "metadata": {
    "tags": []
   },
   "outputs": [],
   "source": [
    "# manually set parameters\n",
    "\n",
    "params = {\n",
    "    # all features\n",
    "    'features': [\n",
    "        'peak_i15_mmh',\n",
    "        'contributingarea_km2',\n",
    "        'prophm23',\n",
    "        'dnbr1000',\n",
    "        'kf',\n",
    "        'Fine fuel load',\n",
    "        'SAV',\n",
    "        'Packing ratio',\n",
    "        'Extinction moisture content',\n",
    "        'LNDS_RISKS',\n",
    "        'fire_interval',\n",
    "        'SedUn',\n",
    "        'SuscFrac',\n",
    "    ],\n",
    "    'hidden_size': 250,\n",
    "    'lr': 0.01,\n",
    "    'dropout_rate': 0.20,\n",
    "    'epochs': 250,\n",
    "    'grid_search_metric': 'roc_auc_score',\n",
    "}"
   ]
  },
  {
   "cell_type": "code",
   "execution_count": 13,
   "metadata": {
    "tags": []
   },
   "outputs": [],
   "source": [
    "# manually set features\n",
    "feat_subset = [\n",
    "    'peak_i15_mmh',\n",
    "    'fire_interval',\n",
    "    'SuscFrac',\n",
    "    'SAV',\n",
    "    'kf',\n",
    "    'prophm23',\n",
    "    'SedUn'\n",
    "]\n",
    "\n",
    "params['features'] = feat_subset"
   ]
  },
  {
   "cell_type": "code",
   "execution_count": 14,
   "metadata": {
    "tags": []
   },
   "outputs": [
    {
     "data": {
      "text/plain": [
       "{'features': ['peak_i15_mmh',\n",
       "  'fire_interval',\n",
       "  'SuscFrac',\n",
       "  'SAV',\n",
       "  'kf',\n",
       "  'prophm23',\n",
       "  'SedUn'],\n",
       " 'hidden_size': 250,\n",
       " 'lr': 0.01,\n",
       " 'dropout_rate': 0.2,\n",
       " 'epochs': 250,\n",
       " 'grid_search_metric': 'roc_auc_score'}"
      ]
     },
     "execution_count": 14,
     "metadata": {},
     "output_type": "execute_result"
    }
   ],
   "source": [
    "params"
   ]
  },
  {
   "cell_type": "code",
   "execution_count": 15,
   "metadata": {
    "tags": []
   },
   "outputs": [
    {
     "name": "stdout",
     "output_type": "stream",
     "text": [
      "250\n"
     ]
    }
   ],
   "source": [
    "# configured to be consistent in rest of notebook\n",
    "# can scroll down and customize at each training step\n",
    "n_epochs = params['epochs']\n",
    "print(n_epochs)"
   ]
  },
  {
   "cell_type": "code",
   "execution_count": 16,
   "metadata": {
    "tags": []
   },
   "outputs": [
    {
     "name": "stderr",
     "output_type": "stream",
     "text": [
      "Creating an ndarray from ragged nested sequences (which is a list-or-tuple of lists-or-tuples-or ndarrays with different lengths or shapes) is deprecated. If you meant to do this, you must specify 'dtype=object' when creating the ndarray.\n"
     ]
    },
    {
     "name": "stdout",
     "output_type": "stream",
     "text": [
      "Architecture:  TwoLayer\n",
      "7  features: \n",
      "['peak_i15_mmh', 'fire_interval', 'SuscFrac', 'SAV', 'kf', 'prophm23', 'SedUn']\n",
      "hyperparameters:\n",
      "dropout_rate: 0.2\n",
      "hidden_size: 250\n",
      "lr: 0.01\n",
      "\n",
      "\n",
      "Epochs: 250\n",
      "Training loss: 0.1080457866191864\n",
      "Validation loss: 0.8381014466285706\n",
      "\n",
      "\n",
      "Training accuracy: 0.9572147651006712\n",
      "Test accuracy: 0.8782287822878229\n",
      "\n",
      "\n",
      "Precision (test): 0.72\n",
      "\n",
      "\n",
      "Recall (test): 0.6545454545454545\n",
      "\n",
      "\n",
      "F1 Score (test): 0.6857142857142857\n",
      "\n",
      "\n",
      "AUC (test): 0.9156144781144782\n",
      "\n",
      "\n",
      "CPU times: user 2.52 s, sys: 785 ms, total: 3.3 s\n",
      "Wall time: 3.25 s\n"
     ]
    },
    {
     "data": {
      "image/png": "[encoded data removed]",
      "text/plain": [
       "<Figure size 640x480 with 1 Axes>"
      ]
     },
     "metadata": {},
     "output_type": "display_data"
    },
    {
     "data": {
      "image/png": "[encoded data removed]",
      "text/plain": [
       "<Figure size 640x480 with 1 Axes>"
      ]
     },
     "metadata": {},
     "output_type": "display_data"
    }
   ],
   "source": [
    "%%time\n",
    "# MANUAL TRAINING\n",
    "if __name__ == '__main__':\n",
    "    # and sticking with naming convention for feature subset selection\n",
    "    X_train = X_train_df[params['features']]\n",
    "    X_test = X_test_df[params['features']]\n",
    "    y_train = y_train_df\n",
    "    y_test = y_test_df\n",
    "    \n",
    "    #scale the data X_train and X_test\n",
    "    cols = X_train.columns\n",
    "    sc = StandardScaler()\n",
    "    X_train = pd.DataFrame(sc.fit_transform(X_train), columns=cols)\n",
    "    X_test = pd.DataFrame(sc.transform(X_test), columns=cols)\n",
    "    \n",
    "    # change datatype for pytorch\n",
    "    # send to gpu if available\n",
    "    X_train_tensor = torch.tensor(X_train.values).float().to(device)\n",
    "    X_test_tensor = torch.tensor(X_test.values).float().to(device)\n",
    "    y_train_tensor = torch.tensor(y_train.values).float().view(-1, 1).to(device)\n",
    "    y_test_tensor = torch.tensor(y_test.values).float().view(-1, 1).to(device)\n",
    "    \n",
    "    # hyperparameters\n",
    "    input_size = X_train.shape[1]\n",
    "    hidden_size = params['hidden_size']\n",
    "    learning_rate = params['lr'] # 0.001 is default value for Adam optimizer\n",
    "    dropout_rate = params['dropout_rate']\n",
    "    output_size = 1 # in our case this is always 0ne\n",
    "\n",
    "    # select architecture\n",
    "    # send to gpu if available\n",
    "    #model = Net.OneLayer(input_size, hidden_size, output_size, dropout_rate).to(device)\n",
    "    model = Net.TwoLayer(input_size, hidden_size, output_size, dropout_rate).to(device)\n",
    "    #model = Net.ThreeLayer(input_size, hidden_size, output_size, dropout_rate).to(device)\n",
    "        \n",
    "    # make sure model is in training mode, calculates gradients etcs\n",
    "    model.train()\n",
    "    criterion = nn.BCELoss()  # cross-entropy better suited for binary classification than MSE\n",
    "    optimizer = optim.Adam(model.parameters(), lr=learning_rate)\n",
    "    \n",
    "    ## Train the Model ##\n",
    "    \n",
    "    # empty df to track loss over epochs\n",
    "    loss_df = pd.DataFrame(columns=['train_loss', 'test_loss'])\n",
    "    \n",
    "    for epoch in range(n_epochs):\n",
    "        y_train_pred_proba = model(X_train_tensor)\n",
    "        loss = criterion(y_train_pred_proba, y_train_tensor)\n",
    "        optimizer.zero_grad()\n",
    "        loss.backward()\n",
    "        optimizer.step()\n",
    "        \n",
    "        if epoch%5 ==0:\n",
    "            y_train_pred_proba = model(X_train_tensor)\n",
    "            y_test_pred_proba = model(X_test_tensor)\n",
    "\n",
    "            train_loss = criterion(y_train_pred_proba, y_train_tensor)\n",
    "            val_loss = criterion(y_test_pred_proba, y_test_tensor)\n",
    "            \n",
    "            loss_df.loc[epoch, 'train_loss'] = train_loss.detach().cpu().numpy().flatten()[0]\n",
    "            loss_df.loc[epoch, 'test_loss'] = val_loss.detach().cpu().numpy().flatten()[0]\n",
    "\n",
    "    # turn off dropout etc\n",
    "    model.eval()\n",
    "    ## now \"final\" probability outputs from trained model ##\n",
    "    y_train_pred_proba = model(X_train_tensor)\n",
    "    y_test_pred_proba = model(X_test_tensor)     \n",
    "\n",
    "    # loss on the final output\n",
    "    # this isn't really meaningful without seeing change over epochs \n",
    "    # occasionally handy to reference\n",
    "    train_loss = criterion(y_train_pred_proba, y_train_tensor).detach().cpu().numpy().flatten()[0]\n",
    "    val_loss = criterion(y_test_pred_proba, y_test_tensor).detach().cpu().numpy().flatten()[0]\n",
    "\n",
    "    # # convert these values back to pandas dtypes\n",
    "    y_train_pred_proba = y_train_pred_proba.detach().cpu().numpy() # numpy goes back to cpu\n",
    "    y_test_pred_proba = y_test_pred_proba.detach().cpu().numpy()  # numpy goes back to cpu\n",
    "    # also get their boolean values\n",
    "    y_train_pred_bool = np.round(y_train_pred_proba)\n",
    "    y_test_pred_bool = np.round(y_test_pred_proba)\n",
    "\n",
    "    # calculate accuracy\n",
    "    train_accuracy = accuracy_score(y_train_df, y_train_pred_bool.flatten())\n",
    "    test_accuracy = accuracy_score(y_test_df, y_test_pred_bool.flatten())\n",
    "\n",
    "    # calculate precision\n",
    "    test_precision = precision_score(y_test_df, y_test_pred_bool, average='binary', zero_division=0)\n",
    "    \n",
    "    # calculate recall\n",
    "    test_recall_score = recall_score(y_test_df, y_test_pred_bool, average='binary', zero_division=0)\n",
    "    \n",
    "    # calculate f1\n",
    "    f1_test = f1_score(y_test_df, y_test_pred_bool)\n",
    "\n",
    "    # extract AUC for printing\n",
    "    auc_test = roc_auc_score(y_test_df, y_test_pred_proba)  \n",
    "\n",
    "    # and if this is the best, update the dateframe with the given metrics\n",
    "    param_df.loc['score', 'test_accuracy'] = float(test_accuracy)\n",
    "    param_df.loc['score', 'test_precision'] = float(test_precision)\n",
    "    param_df.loc['score', 'test_recall'] = float(test_recall_score)\n",
    "    param_df.loc['score', 'test_f1_score'] = float(f1_test)\n",
    "    param_df.loc['score', 'test_auc'] = float(auc_test)\n",
    "    param_df.loc['score', 'training_loss'] = float(train_loss)#.detach().numpy().flatten()[0]\n",
    "    param_df.loc['score', 'validation_loss'] = float(val_loss)#.detach().numpy().flatten()[0]\n",
    "    param_df.loc['score', 'epochs'] = n_epochs         \n",
    "    # to insert hyparams into df...pack as a list of tuples\n",
    "    params_list = [tuple(pair) for pair in params.items()]\n",
    "    # insert as a list\n",
    "    # to unpack later call... `dict(best_params)`\n",
    "    param_df.loc['score', 'hyper_params'] = params_list   \n",
    "    \n",
    "    \n",
    "    \n",
    "    # to be saved to json\n",
    "    # must convert float type for serialization\n",
    "    performance_summary = {\n",
    "        'train_loss': float(train_loss),\n",
    "        'val_loss': float(val_loss),\n",
    "        'train_accuracy': float(train_accuracy),\n",
    "        'test_accuracy': float(test_accuracy),\n",
    "        'test_precision': float(test_precision),\n",
    "        'test_recall': float(test_recall_score),\n",
    "        'test_f1_score': float(f1_test),\n",
    "        'test_auc': float(auc_test),\n",
    "    }\n",
    "    \n",
    "    \n",
    "    \n",
    "    ##\n",
    "    ## display performance summary ##\n",
    "    ##\n",
    "    model_name = model.__class__.__name__\n",
    "    print(f'Architecture:  {model_name}')\n",
    "    print(len(params['features']), \" features: \")\n",
    "    print(params['features'])\n",
    "    print('hyperparameters:')\n",
    "    param_keys = ['dropout_rate', 'hidden_size', 'lr']\n",
    "    for key in param_keys:\n",
    "        print(key + \":\", params[key])\n",
    "    print(\"\\n\")\n",
    "    print(f'Epochs: {n_epochs}')\n",
    "    print(f'Training loss: {train_loss}')\n",
    "    print(f'Validation loss: {val_loss}')\n",
    "    print(\"\\n\")\n",
    "\n",
    "    # accuracy\n",
    "    print(f'Training accuracy: {train_accuracy}')\n",
    "    print(f'Test accuracy: {test_accuracy}')\n",
    "    print('\\n')\n",
    "\n",
    "    # precision\n",
    "    print(f'Precision (test): {test_precision}')\n",
    "    print('\\n')    \n",
    "    \n",
    "    # recall\n",
    "    print(f'Recall (test): {test_recall_score}')\n",
    "    print('\\n')\n",
    "\n",
    "    # f1\n",
    "    print(f'F1 Score (test): {f1_test}')\n",
    "    print('\\n')\n",
    "\n",
    "    # AUC\n",
    "    print(f'AUC (test): {auc_test}')\n",
    "    print('\\n')\n",
    "    \n",
    "    # PLOTS\n",
    "    \n",
    "    # Loss plot\n",
    "    fig = loss_df.plot()\n",
    "    fig.set_xlabel('epochs')\n",
    "    fig.set_ylabel('loss')\n",
    "    fig.set_title('Loss over Epochs');\n",
    "\n",
    "    # AUC plot\n",
    "    fig, ax = plt.subplots()\n",
    "\n",
    "    RocCurveDisplay.from_predictions(y_train_df, \n",
    "                                     y_train_pred_proba, \n",
    "                                     ax=ax, \n",
    "                                     linewidth=1, \n",
    "                                     color='blue', \n",
    "                                     name='train', \n",
    "                                     linestyle=\"dashed\"\n",
    "                                    );\n",
    "\n",
    "    RocCurveDisplay.from_predictions(y_test_df, \n",
    "                                     y_test_pred_proba,\n",
    "                                     ax=ax, \n",
    "                                     linewidth=1, \n",
    "                                     color='orange', \n",
    "                                     name='test');\n",
    "\n",
    "    plt.title(f'FC NN: {model_name}');\n",
    "\n",
    "    # save final model weights\n",
    "    # torch.save(model.state_dict(), f'../model/{model_name}.pth')"
   ]
  },
  {
   "attachments": {
    "ed9f5975-a39c-418a-9dff-be8275f61260.png": {
     "image/png": "[encoded data removed]"
    }
   },
   "cell_type": "markdown",
   "metadata": {},
   "source": [
    "OLD WITH ALL FEATURES (TWO LAYERS)\n",
    "- BEST PERFORMANCE SO FAR!!!\n",
    "- DO NOT DELETE!!!\n",
    "\n",
    "![image.png](attachment:ed9f5975-a39c-418a-9dff-be8275f61260.png)"
   ]
  },
  {
   "cell_type": "code",
   "execution_count": 23,
   "metadata": {
    "tags": []
   },
   "outputs": [
    {
     "data": {
      "text/html": [
       "<div>\n",
       "<style scoped>\n",
       "    .dataframe tbody tr th:only-of-type {\n",
       "        vertical-align: middle;\n",
       "    }\n",
       "\n",
       "    .dataframe tbody tr th {\n",
       "        vertical-align: top;\n",
       "    }\n",
       "\n",
       "    .dataframe thead th {\n",
       "        text-align: right;\n",
       "    }\n",
       "</style>\n",
       "<table border=\"1\" class=\"dataframe\">\n",
       "  <thead>\n",
       "    <tr style=\"text-align: right;\">\n",
       "      <th></th>\n",
       "      <th>score</th>\n",
       "    </tr>\n",
       "  </thead>\n",
       "  <tbody>\n",
       "    <tr>\n",
       "      <th>test_accuracy</th>\n",
       "      <td>0.852399</td>\n",
       "    </tr>\n",
       "    <tr>\n",
       "      <th>test_precision</th>\n",
       "      <td>0.641509</td>\n",
       "    </tr>\n",
       "    <tr>\n",
       "      <th>test_recall</th>\n",
       "      <td>0.618182</td>\n",
       "    </tr>\n",
       "    <tr>\n",
       "      <th>test_f1_score</th>\n",
       "      <td>0.62963</td>\n",
       "    </tr>\n",
       "    <tr>\n",
       "      <th>test_auc</th>\n",
       "      <td>0.876894</td>\n",
       "    </tr>\n",
       "    <tr>\n",
       "      <th>training_loss</th>\n",
       "      <td>0.014998</td>\n",
       "    </tr>\n",
       "    <tr>\n",
       "      <th>validation_loss</th>\n",
       "      <td>2.053846</td>\n",
       "    </tr>\n",
       "    <tr>\n",
       "      <th>epochs</th>\n",
       "      <td>500</td>\n",
       "    </tr>\n",
       "    <tr>\n",
       "      <th>hyper_params</th>\n",
       "      <td>[(features, [peak_i15_mmh, contributingarea_km...</td>\n",
       "    </tr>\n",
       "  </tbody>\n",
       "</table>\n",
       "</div>"
      ],
      "text/plain": [
       "                                                             score\n",
       "test_accuracy                                             0.852399\n",
       "test_precision                                            0.641509\n",
       "test_recall                                               0.618182\n",
       "test_f1_score                                              0.62963\n",
       "test_auc                                                  0.876894\n",
       "training_loss                                             0.014998\n",
       "validation_loss                                           2.053846\n",
       "epochs                                                         500\n",
       "hyper_params     [(features, [peak_i15_mmh, contributingarea_km..."
      ]
     },
     "execution_count": 23,
     "metadata": {},
     "output_type": "execute_result"
    }
   ],
   "source": [
    "param_df.T"
   ]
  },
  {
   "cell_type": "markdown",
   "metadata": {},
   "source": [
    "## Notes along the way\n",
    "\n",
    "- "
   ]
  },
  {
   "cell_type": "markdown",
   "metadata": {},
   "source": [
    "# SHAP Values<a id=\"SHAP\">\n",
    "\n",
    "- First train model with best hyperparameters / tuning metric\n",
    "\n",
    "- Examine the Shap values for feature importance\n",
    "    - we likely need to reduce the number of features to prevent overfitting"
   ]
  },
  {
   "cell_type": "code",
   "execution_count": 16,
   "metadata": {
    "tags": []
   },
   "outputs": [
    {
     "name": "stderr",
     "output_type": "stream",
     "text": [
      "Using a non-full backward hook when the forward contains multiple autograd Nodes is deprecated and will be removed in future versions. This hook will be missing some grad_input. Please use register_full_backward_hook to get the documented behavior.\n"
     ]
    },
    {
     "name": "stdout",
     "output_type": "stream",
     "text": [
      "(271, 13)\n"
     ]
    },
    {
     "data": {
      "text/html": [
       "<div>\n",
       "<style scoped>\n",
       "    .dataframe tbody tr th:only-of-type {\n",
       "        vertical-align: middle;\n",
       "    }\n",
       "\n",
       "    .dataframe tbody tr th {\n",
       "        vertical-align: top;\n",
       "    }\n",
       "\n",
       "    .dataframe thead th {\n",
       "        text-align: right;\n",
       "    }\n",
       "</style>\n",
       "<table border=\"1\" class=\"dataframe\">\n",
       "  <thead>\n",
       "    <tr style=\"text-align: right;\">\n",
       "      <th></th>\n",
       "      <th>vals</th>\n",
       "    </tr>\n",
       "  </thead>\n",
       "  <tbody>\n",
       "    <tr>\n",
       "      <th>peak_i15_mmh</th>\n",
       "      <td>0.143278</td>\n",
       "    </tr>\n",
       "    <tr>\n",
       "      <th>fire_interval</th>\n",
       "      <td>0.042102</td>\n",
       "    </tr>\n",
       "    <tr>\n",
       "      <th>SuscFrac</th>\n",
       "      <td>0.035746</td>\n",
       "    </tr>\n",
       "    <tr>\n",
       "      <th>kf</th>\n",
       "      <td>0.035353</td>\n",
       "    </tr>\n",
       "    <tr>\n",
       "      <th>prophm23</th>\n",
       "      <td>0.033662</td>\n",
       "    </tr>\n",
       "    <tr>\n",
       "      <th>dnbr1000</th>\n",
       "      <td>0.027589</td>\n",
       "    </tr>\n",
       "    <tr>\n",
       "      <th>SAV</th>\n",
       "      <td>0.027077</td>\n",
       "    </tr>\n",
       "    <tr>\n",
       "      <th>SedUn</th>\n",
       "      <td>0.026190</td>\n",
       "    </tr>\n",
       "    <tr>\n",
       "      <th>Extinction moisture content</th>\n",
       "      <td>0.025811</td>\n",
       "    </tr>\n",
       "    <tr>\n",
       "      <th>LNDS_RISKS</th>\n",
       "      <td>0.018393</td>\n",
       "    </tr>\n",
       "    <tr>\n",
       "      <th>contributingarea_km2</th>\n",
       "      <td>0.017901</td>\n",
       "    </tr>\n",
       "    <tr>\n",
       "      <th>Packing ratio</th>\n",
       "      <td>0.017667</td>\n",
       "    </tr>\n",
       "    <tr>\n",
       "      <th>Fine fuel load</th>\n",
       "      <td>0.017377</td>\n",
       "    </tr>\n",
       "  </tbody>\n",
       "</table>\n",
       "</div>"
      ],
      "text/plain": [
       "                                 vals\n",
       "peak_i15_mmh                 0.143278\n",
       "fire_interval                0.042102\n",
       "SuscFrac                     0.035746\n",
       "kf                           0.035353\n",
       "prophm23                     0.033662\n",
       "dnbr1000                     0.027589\n",
       "SAV                          0.027077\n",
       "SedUn                        0.026190\n",
       "Extinction moisture content  0.025811\n",
       "LNDS_RISKS                   0.018393\n",
       "contributingarea_km2         0.017901\n",
       "Packing ratio                0.017667\n",
       "Fine fuel load               0.017377"
      ]
     },
     "execution_count": 16,
     "metadata": {},
     "output_type": "execute_result"
    }
   ],
   "source": [
    "explainer = shap.DeepExplainer(model, X_train_tensor)\n",
    "shap_values = explainer.shap_values(X_test_tensor)\n",
    "print(shap_values.shape)\n",
    "vals = np.abs(shap_values).mean(0)\n",
    "shap_val_df = pd.DataFrame(data=vals, index=X_test_df.columns, columns=['vals'])\n",
    "shap_val_df = shap_val_df.sort_values(by='vals', ascending=False)\n",
    "shap_val_df"
   ]
  },
  {
   "cell_type": "code",
   "execution_count": 17,
   "metadata": {
    "tags": []
   },
   "outputs": [
    {
     "data": {
      "image/png": "[encoded data removed]",
      "text/plain": [
       "<Figure size 640x480 with 1 Axes>"
      ]
     },
     "metadata": {},
     "output_type": "display_data"
    }
   ],
   "source": [
    "shap_val_df[::-1].plot(kind='barh', title='shap values');"
   ]
  },
  {
   "cell_type": "code",
   "execution_count": 18,
   "metadata": {
    "tags": []
   },
   "outputs": [
    {
     "data": {
      "text/plain": [
       "['peak_i15_mmh',\n",
       " 'fire_interval',\n",
       " 'SuscFrac',\n",
       " 'kf',\n",
       " 'prophm23',\n",
       " 'dnbr1000',\n",
       " 'SAV',\n",
       " 'SedUn',\n",
       " 'Extinction moisture content',\n",
       " 'LNDS_RISKS',\n",
       " 'contributingarea_km2',\n",
       " 'Packing ratio',\n",
       " 'Fine fuel load']"
      ]
     },
     "execution_count": 18,
     "metadata": {},
     "output_type": "execute_result"
    }
   ],
   "source": [
    "feat_order = list(shap_val_df.index)\n",
    "feat_order"
   ]
  },
  {
   "cell_type": "code",
   "execution_count": 19,
   "metadata": {
    "tags": []
   },
   "outputs": [],
   "source": [
    "# # open the parameters json\n",
    "# import json\n",
    "\n",
    "# file_path = \"../../model/model_parameters.json\"\n",
    "# with open(file_path) as model_params:\n",
    "#     model_params = json.load(model_params)\n",
    "\n",
    "# model_params"
   ]
  },
  {
   "cell_type": "markdown",
   "metadata": {},
   "source": [
    "## save the model parameters\n",
    "- architecture name + epochs\n",
    "- features / hyperparameters\n",
    "- weights and biases"
   ]
  },
  {
   "cell_type": "code",
   "execution_count": 20,
   "metadata": {
    "tags": []
   },
   "outputs": [
    {
     "name": "stdout",
     "output_type": "stream",
     "text": [
      "parameter json already exists\n"
     ]
    }
   ],
   "source": [
    "# check if parameters file exists\n",
    "# if not, create it\n",
    "import os\n",
    "import json\n",
    "\n",
    "file_path = \"../../app/model/model_parameters.json\"\n",
    "if os.path.isfile(file_path) == True:\n",
    "    print(\"parameter json already exists\")\n",
    "else:\n",
    "    print(\"created empty json file\")\n",
    "    model_params = {} # create empty dict\n",
    "    with open(file_path, \"w\") as json_file:\n",
    "        json.dump(model_params, json_file)"
   ]
  },
  {
   "cell_type": "code",
   "execution_count": 21,
   "metadata": {
    "tags": []
   },
   "outputs": [],
   "source": [
    "# open the parameters json\n",
    "file_path = \"../../app/model/model_parameters.json\"\n",
    "with open(file_path) as model_params:\n",
    "    model_params = json.load(model_params)\n",
    "\n",
    "# model_params"
   ]
  },
  {
   "cell_type": "code",
   "execution_count": 22,
   "metadata": {
    "tags": []
   },
   "outputs": [
    {
     "name": "stdout",
     "output_type": "stream",
     "text": [
      "TwoLayer_750_epochs_manual_tuning\n"
     ]
    },
    {
     "data": {
      "text/plain": [
       "{'features': ['peak_i15_mmh',\n",
       "  'contributingarea_km2',\n",
       "  'prophm23',\n",
       "  'dnbr1000',\n",
       "  'kf',\n",
       "  'Fine fuel load',\n",
       "  'SAV',\n",
       "  'Packing ratio',\n",
       "  'Extinction moisture content',\n",
       "  'LNDS_RISKS',\n",
       "  'fire_interval',\n",
       "  'SedUn',\n",
       "  'SuscFrac'],\n",
       " 'hidden_size': 500,\n",
       " 'lr': 0.01,\n",
       " 'dropout_rate': 0.2,\n",
       " 'epochs': 750,\n",
       " 'model_class': 'TwoLayer',\n",
       " 'weights': 'TwoLayer_750_epochs_manual_tuning.pth',\n",
       " 'grid_search_metric': 'na',\n",
       " 'performance_summary': {'train_loss': 0.010428668931126595,\n",
       "  'val_loss': 2.029296398162842,\n",
       "  'train_accuracy': 0.9949664429530202,\n",
       "  'test_accuracy': 0.8782287822878229,\n",
       "  'test_precision': 0.7291666666666666,\n",
       "  'test_recall': 0.6363636363636364,\n",
       "  'test_f1_score': 0.6796116504854369,\n",
       "  'test_auc': 0.8946969696969698}}"
      ]
     },
     "execution_count": 22,
     "metadata": {},
     "output_type": "execute_result"
    }
   ],
   "source": [
    "# save final model weights\n",
    "architecture = model_name + \"_\" + str(n_epochs) + \"_epochs\" + \"_manual_tuning\"\n",
    "# torch.save(model.state_dict(), f'../../app/model/{architecture}.pth')\n",
    "\n",
    "# and hyperparameters\n",
    "new_params = {}\n",
    "new_params['features'] = params['features']\n",
    "new_params['hidden_size'] = params['hidden_size']\n",
    "new_params['lr'] = params['lr']\n",
    "new_params['dropout_rate'] = params['dropout_rate']\n",
    "new_params['epochs'] = n_epochs\n",
    "new_params['model_class'] = model_name\n",
    "new_params['weights'] = f'{architecture}.pth'\n",
    "new_params['grid_search_metric'] = 'na'\n",
    "new_params['performance_summary'] = performance_summary\n",
    "\n",
    "# assign to the json\n",
    "model_params[architecture] = new_params\n",
    "# and view the final output\n",
    "print(architecture)\n",
    "model_params[architecture]"
   ]
  },
  {
   "cell_type": "code",
   "execution_count": 23,
   "metadata": {
    "tags": []
   },
   "outputs": [],
   "source": [
    "# # write out the file\n",
    "# file_path = \"../../app/model/model_parameters.json\"\n",
    "# with open(file_path, \"w\") as json_file:\n",
    "#     json.dump(model_params, json_file)\n",
    "#     print(\"hyperparameters saved!\")"
   ]
  },
  {
   "cell_type": "markdown",
   "metadata": {},
   "source": [
    "# Confusion Matrix <a id=\"MATRIX\">\n",
    "- assess probabilities\n",
    "- is the loss for test set high due to outliers, particular states, etc"
   ]
  },
  {
   "cell_type": "code",
   "execution_count": 24,
   "metadata": {
    "tags": []
   },
   "outputs": [],
   "source": [
    "from sklearn.metrics import confusion_matrix, ConfusionMatrixDisplay\n",
    "import seaborn as sns"
   ]
  },
  {
   "cell_type": "code",
   "execution_count": 25,
   "metadata": {},
   "outputs": [],
   "source": [
    "# bring in full file\n",
    "# will need for geographic assessment of confusion matrix\n",
    "file_path = \"../../data/data_v08_consolidated.parquet\"\n",
    "df = gpd.read_parquet(file_path)"
   ]
  },
  {
   "cell_type": "code",
   "execution_count": 26,
   "metadata": {
    "tags": []
   },
   "outputs": [
    {
     "data": {
      "image/png": "[encoded data removed]",
      "text/plain": [
       "<Figure size 640x480 with 2 Axes>"
      ]
     },
     "metadata": {},
     "output_type": "display_data"
    }
   ],
   "source": [
    "cm = confusion_matrix(y_test_df, y_test_pred_bool)\n",
    "disp = ConfusionMatrixDisplay(confusion_matrix=cm)\n",
    "disp.plot();\n",
    "plt.title('Confusion Matrix');"
   ]
  },
  {
   "cell_type": "code",
   "execution_count": 27,
   "metadata": {
    "tags": []
   },
   "outputs": [],
   "source": [
    "# pd.set_option('display.float_format', lambda x: '%.7f' % x)"
   ]
  },
  {
   "cell_type": "code",
   "execution_count": 28,
   "metadata": {
    "tags": []
   },
   "outputs": [
    {
     "data": {
      "text/html": [
       "<div>\n",
       "<style scoped>\n",
       "    .dataframe tbody tr th:only-of-type {\n",
       "        vertical-align: middle;\n",
       "    }\n",
       "\n",
       "    .dataframe tbody tr th {\n",
       "        vertical-align: top;\n",
       "    }\n",
       "\n",
       "    .dataframe thead th {\n",
       "        text-align: right;\n",
       "    }\n",
       "</style>\n",
       "<table border=\"1\" class=\"dataframe\">\n",
       "  <thead>\n",
       "    <tr style=\"text-align: right;\">\n",
       "      <th></th>\n",
       "      <th>y_test</th>\n",
       "      <th>y_test_pred</th>\n",
       "      <th>pred_correct</th>\n",
       "      <th>y_test_pred_proba</th>\n",
       "      <th>confusion</th>\n",
       "      <th>state</th>\n",
       "    </tr>\n",
       "  </thead>\n",
       "  <tbody>\n",
       "    <tr>\n",
       "      <th>2</th>\n",
       "      <td>0</td>\n",
       "      <td>0</td>\n",
       "      <td>True</td>\n",
       "      <td>0.000000</td>\n",
       "      <td>TN</td>\n",
       "      <td>CA</td>\n",
       "    </tr>\n",
       "    <tr>\n",
       "      <th>6</th>\n",
       "      <td>0</td>\n",
       "      <td>0</td>\n",
       "      <td>True</td>\n",
       "      <td>0.000000</td>\n",
       "      <td>TN</td>\n",
       "      <td>CA</td>\n",
       "    </tr>\n",
       "    <tr>\n",
       "      <th>10</th>\n",
       "      <td>0</td>\n",
       "      <td>0</td>\n",
       "      <td>True</td>\n",
       "      <td>0.000000</td>\n",
       "      <td>TN</td>\n",
       "      <td>CA</td>\n",
       "    </tr>\n",
       "    <tr>\n",
       "      <th>29</th>\n",
       "      <td>1</td>\n",
       "      <td>1</td>\n",
       "      <td>True</td>\n",
       "      <td>1.000000</td>\n",
       "      <td>TP</td>\n",
       "      <td>ID</td>\n",
       "    </tr>\n",
       "    <tr>\n",
       "      <th>35</th>\n",
       "      <td>1</td>\n",
       "      <td>1</td>\n",
       "      <td>True</td>\n",
       "      <td>1.000000</td>\n",
       "      <td>TP</td>\n",
       "      <td>ID</td>\n",
       "    </tr>\n",
       "    <tr>\n",
       "      <th>...</th>\n",
       "      <td>...</td>\n",
       "      <td>...</td>\n",
       "      <td>...</td>\n",
       "      <td>...</td>\n",
       "      <td>...</td>\n",
       "      <td>...</td>\n",
       "    </tr>\n",
       "    <tr>\n",
       "      <th>1446</th>\n",
       "      <td>0</td>\n",
       "      <td>0</td>\n",
       "      <td>True</td>\n",
       "      <td>0.000000</td>\n",
       "      <td>TN</td>\n",
       "      <td>AZ</td>\n",
       "    </tr>\n",
       "    <tr>\n",
       "      <th>1447</th>\n",
       "      <td>0</td>\n",
       "      <td>1</td>\n",
       "      <td>False</td>\n",
       "      <td>0.964844</td>\n",
       "      <td>FP</td>\n",
       "      <td>AZ</td>\n",
       "    </tr>\n",
       "    <tr>\n",
       "      <th>1448</th>\n",
       "      <td>0</td>\n",
       "      <td>0</td>\n",
       "      <td>True</td>\n",
       "      <td>0.000000</td>\n",
       "      <td>TN</td>\n",
       "      <td>AZ</td>\n",
       "    </tr>\n",
       "    <tr>\n",
       "      <th>1449</th>\n",
       "      <td>0</td>\n",
       "      <td>0</td>\n",
       "      <td>True</td>\n",
       "      <td>0.000000</td>\n",
       "      <td>TN</td>\n",
       "      <td>AZ</td>\n",
       "    </tr>\n",
       "    <tr>\n",
       "      <th>1450</th>\n",
       "      <td>0</td>\n",
       "      <td>0</td>\n",
       "      <td>True</td>\n",
       "      <td>0.000000</td>\n",
       "      <td>TN</td>\n",
       "      <td>AZ</td>\n",
       "    </tr>\n",
       "  </tbody>\n",
       "</table>\n",
       "<p>271 rows × 6 columns</p>\n",
       "</div>"
      ],
      "text/plain": [
       "      y_test  y_test_pred  pred_correct  y_test_pred_proba confusion state\n",
       "2          0            0          True           0.000000        TN    CA\n",
       "6          0            0          True           0.000000        TN    CA\n",
       "10         0            0          True           0.000000        TN    CA\n",
       "29         1            1          True           1.000000        TP    ID\n",
       "35         1            1          True           1.000000        TP    ID\n",
       "...      ...          ...           ...                ...       ...   ...\n",
       "1446       0            0          True           0.000000        TN    AZ\n",
       "1447       0            1         False           0.964844        FP    AZ\n",
       "1448       0            0          True           0.000000        TN    AZ\n",
       "1449       0            0          True           0.000000        TN    AZ\n",
       "1450       0            0          True           0.000000        TN    AZ\n",
       "\n",
       "[271 rows x 6 columns]"
      ]
     },
     "execution_count": 28,
     "metadata": {},
     "output_type": "execute_result"
    }
   ],
   "source": [
    "# create dataframe with test values\n",
    "test_assess = pd.DataFrame(y_test_df).astype(int).rename(columns={'response': 'y_test'})\n",
    "# predicted values\n",
    "test_assess['y_test_pred'] = y_test_pred_bool.flatten().astype(int)\n",
    "# whether they are correctly predicted\n",
    "test_assess['pred_correct'] = test_assess['y_test'] == test_assess['y_test_pred']\n",
    "# the probability of the prediction\n",
    "test_assess['y_test_pred_proba'] = y_test_pred_proba.flatten().astype(np.float16) # reduce precision to prevent downstream errors\n",
    "\n",
    "# create column for confusion matrix\n",
    "# we'll use this to assess the probabilities\n",
    "# there's a dataframe for each of these if needed\n",
    "TP = test_assess[(test_assess['y_test'] == 1) & (test_assess['pred_correct'] == True)]\n",
    "FP = test_assess[(test_assess['y_test'] == 0) & (test_assess['pred_correct'] == False)]\n",
    "TN = test_assess[(test_assess['y_test'] == 0) & (test_assess['pred_correct'] == True)]\n",
    "FN = test_assess[(test_assess['y_test'] == 1) & (test_assess['pred_correct'] == False)]\n",
    "\n",
    "test_assess.loc[TP.index,'confusion'] = 'TP'\n",
    "test_assess.loc[FP.index,'confusion'] = 'FP'\n",
    "test_assess.loc[TN.index,'confusion'] = 'TN'\n",
    "test_assess.loc[FN.index,'confusion'] = 'FN'\n",
    "\n",
    "# bring in the state values\n",
    "test_assess = pd.merge(test_assess, df['state'], how='left', left_index=True, right_index=True)\n",
    "\n",
    "test_assess"
   ]
  },
  {
   "cell_type": "code",
   "execution_count": 29,
   "metadata": {
    "tags": []
   },
   "outputs": [
    {
     "data": {
      "image/png": "[encoded data removed]",
      "text/plain": [
       "<Figure size 640x480 with 1 Axes>"
      ]
     },
     "metadata": {},
     "output_type": "display_data"
    }
   ],
   "source": [
    "# overall probability distribution\n",
    "test_assess['y_test_pred_proba'].hist();"
   ]
  },
  {
   "cell_type": "code",
   "execution_count": 30,
   "metadata": {
    "tags": []
   },
   "outputs": [],
   "source": [
    "# records were there was actually YES debris flow\n",
    "subset = ['TP', 'FN']\n",
    "flows = test_assess[test_assess['confusion'].isin(subset)]\n",
    "\n",
    "# records were there was actually NO debris flow\n",
    "subset = ['TN', 'FP']\n",
    "no_flows = test_assess[test_assess['confusion'].isin(subset)]"
   ]
  },
  {
   "cell_type": "code",
   "execution_count": 31,
   "metadata": {
    "tags": []
   },
   "outputs": [
    {
     "data": {
      "image/png": "[encoded data removed]",
      "text/plain": [
       "<Figure size 570.736x500 with 1 Axes>"
      ]
     },
     "metadata": {},
     "output_type": "display_data"
    }
   ],
   "source": [
    "sns.displot(data=flows, x='y_test_pred_proba', hue='confusion', kde=True);\n",
    "plt.title('Debris Flow: YES');"
   ]
  },
  {
   "cell_type": "code",
   "execution_count": 32,
   "metadata": {
    "tags": []
   },
   "outputs": [],
   "source": [
    "# # seaborn has a hard time with the really small probabilities\n",
    "# sns.displot(data=no_flows, x='y_test_pred_proba', hue='confusion', kde=True);\n",
    "# plt.title('Debris Flow: NO');"
   ]
  },
  {
   "cell_type": "code",
   "execution_count": null,
   "metadata": {
    "tags": []
   },
   "outputs": [],
   "source": [
    "# seaborn has a hard time with the really small probabilities\n",
    "temp = no_flows[no_flows['y_test_pred_proba'].astype(str).str.len() < 9]\n",
    "sns.displot(data=temp, x='y_test_pred_proba', hue='confusion', kde=True);\n",
    "plt.title('Debris Flow: NO');"
   ]
  },
  {
   "cell_type": "code",
   "execution_count": null,
   "metadata": {
    "tags": []
   },
   "outputs": [],
   "source": [
    "# this let's us see where are performance is coming from\n",
    "# it's the percentage of each metric by state\n",
    "state_matrix = test_assess.groupby(['confusion'])['state'].value_counts(normalize=True).unstack().fillna(0)#.astype(int)\n",
    "state_matrix = state_matrix.loc[['TP', 'FN', 'TN', 'FP'],:]\n",
    "state_matrix"
   ]
  },
  {
   "cell_type": "code",
   "execution_count": null,
   "metadata": {
    "tags": []
   },
   "outputs": [],
   "source": [
    "test_assess['confusion'].value_counts()"
   ]
  },
  {
   "cell_type": "code",
   "execution_count": null,
   "metadata": {
    "tags": []
   },
   "outputs": [],
   "source": [
    "# we can use this to determine\n",
    "# is our confusion matrix is overindexing on certain state(s)\n",
    "state_counts = test_assess['state'].value_counts(normalize=True).sort_index()\n",
    "state_counts"
   ]
  },
  {
   "cell_type": "code",
   "execution_count": null,
   "metadata": {
    "tags": []
   },
   "outputs": [],
   "source": [
    "confusion_index = state_matrix.div(state_counts) - 1\n",
    "confusion_index"
   ]
  },
  {
   "cell_type": "code",
   "execution_count": null,
   "metadata": {
    "tags": []
   },
   "outputs": [],
   "source": [
    "confusion_index.plot(kind='barh').invert_yaxis();\n",
    "plt.title('Confusion Index by State');"
   ]
  },
  {
   "cell_type": "code",
   "execution_count": null,
   "metadata": {},
   "outputs": [],
   "source": [
    "# end of notebook\n",
    "end_time = datetime.now()\n",
    "print('end time:', str(end_time))\n",
    "elapsed_time = end_time - start_time\n",
    "print('elapsed time:', str(elapsed_time))"
   ]
  },
  {
   "cell_type": "code",
   "execution_count": null,
   "metadata": {},
   "outputs": [],
   "source": []
  }
 ],
 "metadata": {
  "kernelspec": {
   "display_name": "Python 3 (ipykernel)",
   "language": "python",
   "name": "python3"
  },
  "language_info": {
   "codemirror_mode": {
    "name": "ipython",
    "version": 3
   },
   "file_extension": ".py",
   "mimetype": "text/x-python",
   "name": "python",
   "nbconvert_exporter": "python",
   "pygments_lexer": "ipython3",
   "version": "3.10.10"
  }
 },
 "nbformat": 4,
 "nbformat_minor": 4
}
