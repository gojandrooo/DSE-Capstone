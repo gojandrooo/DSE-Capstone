{
 "cells": [
  {
   "cell_type": "markdown",
   "metadata": {
    "tags": []
   },
   "source": [
    "# Neural Network Model Tuning\n",
    "\n",
    "- Alejandro Hohmann\n",
    "- Bhanu Muvva\n",
    "- Chunxia Tong\n",
    "\n",
    "The purpose of this notebook is with new features and hyperparameter tuning on Neural Network"
   ]
  },
  {
   "cell_type": "markdown",
   "metadata": {},
   "source": [
    "# Table of Contents\n",
    "\n",
    "### - [Neural Net Architecture](#NN)\n",
    "- imported from .py file\n",
    "\n",
    "### - [Initial Grid Search for HyperParameters](#HYPER)\n",
    "- selects optimization metric\n",
    "\n",
    "### - [SHAP Values for Feature Importance](#SHAP)\n",
    "        - used for narrowing down to most important features\n",
    "\n",
    "### - [Feature Selection Using SHAP order](#FEATURE)\n",
    "\n",
    "### - [Best Model with Epochs](#BEST)\n",
    "- saves values to .json file and .pth file\n",
    "\n",
    "### - [Confusion Matrix](#MATRIX)\n",
    "- assesses probability distribution and states"
   ]
  },
  {
   "cell_type": "code",
   "execution_count": 1,
   "metadata": {
    "tags": []
   },
   "outputs": [],
   "source": [
    "# assign seed now for consistency any time it needs to be used\n",
    "seed=27"
   ]
  },
  {
   "cell_type": "code",
   "execution_count": 1,
   "metadata": {
    "tags": []
   },
   "outputs": [],
   "source": [
    "# file structure libraries\n",
    "import numpy as np\n",
    "import pandas as pd\n",
    "import geopandas as gpd\n",
    "import os\n",
    "import pickle\n",
    "\n",
    "# # visualization libraries\n",
    "from matplotlib import pyplot as plt\n",
    "#plt.style.use('seaborn-v0_8-pastel')\n",
    "plt.style.use('seaborn-v0_8-darkgrid')\n",
    "#plt.style.use('bmh')\n",
    "#plt.style.use('dark_background')\n",
    "#plt.style.use('fivethirtyeight')\n",
    "%matplotlib inline\n",
    "# import seaborn as sns\n",
    "\n",
    "# # ML libraries\n",
    "# from sklearn.preprocessing import StandardScaler\n",
    "# from sklearn.linear_model import LogisticRegression\n",
    "from sklearn.model_selection import ParameterGrid\n",
    "from sklearn.metrics import accuracy_score, recall_score, f1_score, roc_auc_score, RocCurveDisplay#, roc_curve\n",
    "# from sklearn.metrics import confusion_matrix\n",
    "from sklearn.preprocessing import StandardScaler\n",
    "\n",
    "# # for sigmoid function, in case we need to manually implement in LR\n",
    "# from scipy.stats import logistic\n",
    "\n",
    "import torch\n",
    "import torch.nn as nn\n",
    "import torch.optim as optim\n",
    "import shap"
   ]
  },
  {
   "cell_type": "code",
   "execution_count": 2,
   "metadata": {},
   "outputs": [
    {
     "name": "stdout",
     "output_type": "stream",
     "text": [
      "start time: 2023-06-03 05:38:02.139995\n"
     ]
    }
   ],
   "source": [
    "# start of notebook\n",
    "from datetime import datetime\n",
    "start_time = datetime.now()\n",
    "print('start time:', str(start_time))"
   ]
  },
  {
   "cell_type": "code",
   "execution_count": 3,
   "metadata": {
    "tags": []
   },
   "outputs": [
    {
     "data": {
      "text/plain": [
       "True"
      ]
     },
     "execution_count": 3,
     "metadata": {},
     "output_type": "execute_result"
    }
   ],
   "source": [
    "torch.cuda.is_available()"
   ]
  },
  {
   "cell_type": "code",
   "execution_count": 4,
   "metadata": {
    "tags": []
   },
   "outputs": [
    {
     "data": {
      "text/plain": [
       "8"
      ]
     },
     "execution_count": 4,
     "metadata": {},
     "output_type": "execute_result"
    }
   ],
   "source": [
    "torch.cuda.device_count()"
   ]
  },
  {
   "cell_type": "code",
   "execution_count": 5,
   "metadata": {
    "tags": []
   },
   "outputs": [
    {
     "name": "stdout",
     "output_type": "stream",
     "text": [
      "NVIDIA GeForce GTX 1080 Ti\n",
      "NVIDIA GeForce GTX 1080 Ti\n",
      "NVIDIA GeForce GTX 1080 Ti\n",
      "NVIDIA GeForce GTX 1080 Ti\n",
      "NVIDIA GeForce GTX 1080 Ti\n",
      "NVIDIA GeForce GTX 1080 Ti\n",
      "NVIDIA GeForce GTX 1080 Ti\n",
      "NVIDIA GeForce GTX 1080 Ti\n"
     ]
    }
   ],
   "source": [
    "for i in range(torch.cuda.device_count()):\n",
    "    print(torch.cuda.get_device_name(i))"
   ]
  },
  {
   "cell_type": "code",
   "execution_count": 6,
   "metadata": {
    "tags": []
   },
   "outputs": [],
   "source": [
    "# our system has 8 GPUs\n",
    "# we won't need them all at the same time but can be helpful\n",
    "\n",
    "device_0 = torch.device(\"cuda:0\" if torch.cuda.is_available() else \"cpu\")\n",
    "device_1 = torch.device(\"cuda:1\" if torch.cuda.is_available() else \"cpu\")\n",
    "device_2 = torch.device(\"cuda:2\" if torch.cuda.is_available() else \"cpu\")\n",
    "device_3 = torch.device(\"cuda:3\" if torch.cuda.is_available() else \"cpu\")\n",
    "device_4 = torch.device(\"cuda:4\" if torch.cuda.is_available() else \"cpu\")\n",
    "device_5 = torch.device(\"cuda:5\" if torch.cuda.is_available() else \"cpu\")\n",
    "device_6 = torch.device(\"cuda:6\" if torch.cuda.is_available() else \"cpu\")\n",
    "device_7 = torch.device(\"cuda:7\" if torch.cuda.is_available() else \"cpu\")\n",
    "\n",
    "devices = [\n",
    "    device_0,\n",
    "    device_1,\n",
    "    device_2,\n",
    "    device_3,\n",
    "    device_4,\n",
    "    device_5,\n",
    "    device_6,\n",
    "    device_7,\n",
    "]"
   ]
  },
  {
   "cell_type": "code",
   "execution_count": 7,
   "metadata": {
    "tags": []
   },
   "outputs": [
    {
     "data": {
      "text/plain": [
       "device(type='cuda', index=2)"
      ]
     },
     "execution_count": 7,
     "metadata": {},
     "output_type": "execute_result"
    }
   ],
   "source": [
    "# SELECT YOUR DEVICE FOR THIS NOTEBOOK\n",
    "idx = 2\n",
    "device = devices[idx] # change index to select\n",
    "device"
   ]
  },
  {
   "cell_type": "markdown",
   "metadata": {},
   "source": [
    "## Neural Net <a id=\"NN\">"
   ]
  },
  {
   "cell_type": "code",
   "execution_count": 8,
   "metadata": {
    "tags": []
   },
   "outputs": [],
   "source": [
    "# load in the model class\n",
    "import sys\n",
    "sys.path.append(\"../../model/\")\n",
    "import ModelNN as Net"
   ]
  },
  {
   "cell_type": "code",
   "execution_count": 9,
   "metadata": {
    "tags": []
   },
   "outputs": [
    {
     "name": "stdout",
     "output_type": "stream",
     "text": [
      "<class 'ModelNN.Net'>\n",
      "<class 'ModelNN.OneLayer'>\n",
      "<class 'ModelNN.ThreeLayer'>\n",
      "<class 'ModelNN.TwoLayer'>\n"
     ]
    }
   ],
   "source": [
    "import inspect\n",
    "\n",
    "# we've defined multiple architectures to select from\n",
    "for name, obj in inspect.getmembers(Net):\n",
    "    if inspect.isclass(obj):\n",
    "        print(obj)"
   ]
  },
  {
   "cell_type": "code",
   "execution_count": 10,
   "metadata": {
    "tags": []
   },
   "outputs": [
    {
     "name": "stdout",
     "output_type": "stream",
     "text": [
      "X_train:  (1192, 13)\n",
      "X_test:  (271, 13)\n",
      "\n",
      "\n",
      "y_train:  (1192,)\n",
      "y_test:  (271,)\n"
     ]
    }
   ],
   "source": [
    "# LOAD IN DATA\n",
    "X_train_df, X_test_df, y_train_df, y_test_df = pickle.load(open(\"../../data/train_test_data.pkl\", \"rb\"))\n",
    "\n",
    "print(\"X_train: \", X_train_df.shape)\n",
    "print(\"X_test: \", X_test_df.shape)\n",
    "print(\"\\n\")\n",
    "print(\"y_train: \", y_train_df.shape)\n",
    "print(\"y_test: \", y_test_df.shape)"
   ]
  },
  {
   "cell_type": "markdown",
   "metadata": {},
   "source": [
    "# Grid Search for HyperParameter Tuning <a id=\"HYPER\">\n",
    "    \n",
    "- optimize grid search with different model metrics to decide on optimal path forward"
   ]
  },
  {
   "cell_type": "code",
   "execution_count": 11,
   "metadata": {
    "tags": []
   },
   "outputs": [
    {
     "data": {
      "text/html": [
       "<div>\n",
       "<style scoped>\n",
       "    .dataframe tbody tr th:only-of-type {\n",
       "        vertical-align: middle;\n",
       "    }\n",
       "\n",
       "    .dataframe tbody tr th {\n",
       "        vertical-align: top;\n",
       "    }\n",
       "\n",
       "    .dataframe thead th {\n",
       "        text-align: right;\n",
       "    }\n",
       "</style>\n",
       "<table border=\"1\" class=\"dataframe\">\n",
       "  <thead>\n",
       "    <tr style=\"text-align: right;\">\n",
       "      <th></th>\n",
       "      <th>test_accuracy</th>\n",
       "      <th>test_recall</th>\n",
       "      <th>test_f1_score</th>\n",
       "      <th>test_auc</th>\n",
       "      <th>training_loss</th>\n",
       "      <th>validation_loss</th>\n",
       "      <th>epochs</th>\n",
       "      <th>hyper_params</th>\n",
       "    </tr>\n",
       "  </thead>\n",
       "  <tbody>\n",
       "    <tr>\n",
       "      <th>recall_score</th>\n",
       "      <td>NaN</td>\n",
       "      <td>NaN</td>\n",
       "      <td>NaN</td>\n",
       "      <td>NaN</td>\n",
       "      <td>NaN</td>\n",
       "      <td>NaN</td>\n",
       "      <td>NaN</td>\n",
       "      <td>NaN</td>\n",
       "    </tr>\n",
       "    <tr>\n",
       "      <th>f1_score</th>\n",
       "      <td>NaN</td>\n",
       "      <td>NaN</td>\n",
       "      <td>NaN</td>\n",
       "      <td>NaN</td>\n",
       "      <td>NaN</td>\n",
       "      <td>NaN</td>\n",
       "      <td>NaN</td>\n",
       "      <td>NaN</td>\n",
       "    </tr>\n",
       "    <tr>\n",
       "      <th>roc_auc_score</th>\n",
       "      <td>NaN</td>\n",
       "      <td>NaN</td>\n",
       "      <td>NaN</td>\n",
       "      <td>NaN</td>\n",
       "      <td>NaN</td>\n",
       "      <td>NaN</td>\n",
       "      <td>NaN</td>\n",
       "      <td>NaN</td>\n",
       "    </tr>\n",
       "  </tbody>\n",
       "</table>\n",
       "</div>"
      ],
      "text/plain": [
       "              test_accuracy test_recall test_f1_score test_auc training_loss  \\\n",
       "recall_score            NaN         NaN           NaN      NaN           NaN   \n",
       "f1_score                NaN         NaN           NaN      NaN           NaN   \n",
       "roc_auc_score           NaN         NaN           NaN      NaN           NaN   \n",
       "\n",
       "              validation_loss epochs hyper_params  \n",
       "recall_score              NaN    NaN          NaN  \n",
       "f1_score                  NaN    NaN          NaN  \n",
       "roc_auc_score             NaN    NaN          NaN  "
      ]
     },
     "execution_count": 11,
     "metadata": {},
     "output_type": "execute_result"
    }
   ],
   "source": [
    "# list of functions\n",
    "metrics =[\n",
    "    recall_score,\n",
    "    f1_score,\n",
    "    roc_auc_score,\n",
    "]\n",
    "\n",
    "# create dataframe to track performance on metric criteria\n",
    "index=[metric.__name__ for metric in metrics]\n",
    "columns=[\n",
    "    'test_accuracy',\n",
    "    'test_recall',\n",
    "    'test_f1_score',\n",
    "    'test_auc',\n",
    "    'training_loss',\n",
    "    'validation_loss',\n",
    "    'epochs',\n",
    "    'hyper_params' # this will be a dictionary\n",
    "]\n",
    "\n",
    "param_df = pd.DataFrame(index=index,\n",
    "                        columns=columns)\n",
    "\n",
    "param_df"
   ]
  },
  {
   "cell_type": "code",
   "execution_count": 12,
   "metadata": {
    "tags": []
   },
   "outputs": [
    {
     "name": "stdout",
     "output_type": "stream",
     "text": [
      "1000\n"
     ]
    }
   ],
   "source": [
    "# configured to be consistent in rest of notebook\n",
    "# can scroll down and customize at each training step\n",
    "n_epochs = 100\n",
    "n_epochs = 250\n",
    "n_epochs = 500\n",
    "n_epochs = 750\n",
    "n_epochs = 1000\n",
    "#n_epochs = 2500\n",
    "#n_epochs = 5000\n",
    "print(n_epochs)"
   ]
  },
  {
   "cell_type": "code",
   "execution_count": 13,
   "metadata": {},
   "outputs": [
    {
     "name": "stdout",
     "output_type": "stream",
     "text": [
      "ThreeLayer\n",
      "trained on:  cuda:2\n",
      "\n",
      "\n",
      "CPU times: user 10min 54s, sys: 33.4 s, total: 11min 27s\n",
      "Wall time: 11min 25s\n"
     ]
    },
    {
     "data": {
      "text/html": [
       "<div>\n",
       "<style scoped>\n",
       "    .dataframe tbody tr th:only-of-type {\n",
       "        vertical-align: middle;\n",
       "    }\n",
       "\n",
       "    .dataframe tbody tr th {\n",
       "        vertical-align: top;\n",
       "    }\n",
       "\n",
       "    .dataframe thead th {\n",
       "        text-align: right;\n",
       "    }\n",
       "</style>\n",
       "<table border=\"1\" class=\"dataframe\">\n",
       "  <thead>\n",
       "    <tr style=\"text-align: right;\">\n",
       "      <th></th>\n",
       "      <th>recall_score</th>\n",
       "      <th>f1_score</th>\n",
       "      <th>roc_auc_score</th>\n",
       "    </tr>\n",
       "  </thead>\n",
       "  <tbody>\n",
       "    <tr>\n",
       "      <th>test_accuracy</th>\n",
       "      <td>0.896679</td>\n",
       "      <td>0.885609</td>\n",
       "      <td>0.889299</td>\n",
       "    </tr>\n",
       "    <tr>\n",
       "      <th>test_recall</th>\n",
       "      <td>0.672727</td>\n",
       "      <td>0.672727</td>\n",
       "      <td>0.636364</td>\n",
       "    </tr>\n",
       "    <tr>\n",
       "      <th>test_f1_score</th>\n",
       "      <td>0.72549</td>\n",
       "      <td>0.704762</td>\n",
       "      <td>0.7</td>\n",
       "    </tr>\n",
       "    <tr>\n",
       "      <th>test_auc</th>\n",
       "      <td>0.909891</td>\n",
       "      <td>0.90867</td>\n",
       "      <td>0.908544</td>\n",
       "    </tr>\n",
       "    <tr>\n",
       "      <th>training_loss</th>\n",
       "      <td>0.011379</td>\n",
       "      <td>0.016155</td>\n",
       "      <td>0.022464</td>\n",
       "    </tr>\n",
       "    <tr>\n",
       "      <th>validation_loss</th>\n",
       "      <td>2.395575</td>\n",
       "      <td>2.371043</td>\n",
       "      <td>1.292598</td>\n",
       "    </tr>\n",
       "    <tr>\n",
       "      <th>epochs</th>\n",
       "      <td>1000</td>\n",
       "      <td>1000</td>\n",
       "      <td>1000</td>\n",
       "    </tr>\n",
       "    <tr>\n",
       "      <th>hyper_params</th>\n",
       "      <td>[(dropout_rate, 0.05), (hidden_size, 250), (lr...</td>\n",
       "      <td>[(dropout_rate, 0.2), (hidden_size, 500), (lr,...</td>\n",
       "      <td>[(dropout_rate, 0.15), (hidden_size, 250), (lr...</td>\n",
       "    </tr>\n",
       "  </tbody>\n",
       "</table>\n",
       "</div>"
      ],
      "text/plain": [
       "                                                      recall_score  \\\n",
       "test_accuracy                                             0.896679   \n",
       "test_recall                                               0.672727   \n",
       "test_f1_score                                              0.72549   \n",
       "test_auc                                                  0.909891   \n",
       "training_loss                                             0.011379   \n",
       "validation_loss                                           2.395575   \n",
       "epochs                                                        1000   \n",
       "hyper_params     [(dropout_rate, 0.05), (hidden_size, 250), (lr...   \n",
       "\n",
       "                                                          f1_score  \\\n",
       "test_accuracy                                             0.885609   \n",
       "test_recall                                               0.672727   \n",
       "test_f1_score                                             0.704762   \n",
       "test_auc                                                   0.90867   \n",
       "training_loss                                             0.016155   \n",
       "validation_loss                                           2.371043   \n",
       "epochs                                                        1000   \n",
       "hyper_params     [(dropout_rate, 0.2), (hidden_size, 500), (lr,...   \n",
       "\n",
       "                                                     roc_auc_score  \n",
       "test_accuracy                                             0.889299  \n",
       "test_recall                                               0.636364  \n",
       "test_f1_score                                                  0.7  \n",
       "test_auc                                                  0.908544  \n",
       "training_loss                                             0.022464  \n",
       "validation_loss                                           1.292598  \n",
       "epochs                                                        1000  \n",
       "hyper_params     [(dropout_rate, 0.15), (hidden_size, 250), (lr...  "
      ]
     },
     "execution_count": 13,
     "metadata": {},
     "output_type": "execute_result"
    }
   ],
   "source": [
    "%%time\n",
    "# GRID SEARCH CV for hyperpameters\n",
    "# looped over different performance metrics\n",
    "if __name__ == '__main__':\n",
    "    # data already loaded\n",
    "\n",
    "    #scale the data X_train and X_test\n",
    "    cols = X_train_df.columns\n",
    "    sc = StandardScaler()\n",
    "    # the \"scaled\" objects are still dataframes\n",
    "    X_train_scaled = pd.DataFrame(sc.fit_transform(X_train_df), columns=cols)\n",
    "    X_test_scaled = pd.DataFrame(sc.transform(X_test_df), columns=cols)\n",
    "\n",
    "    # convert to tensor objects\n",
    "    # send to gpu if available\n",
    "    X_train_tensor = torch.tensor(X_train_scaled.values).float().to(device)\n",
    "    y_train_tensor = torch.tensor(y_train_df.values).float().view(-1, 1).to(device)\n",
    "    X_test_tensor = torch.tensor(X_test_scaled.values).float().to(device)\n",
    "    y_test_tensor = torch.tensor(y_test_df.values).float().view(-1, 1).to(device)\n",
    "    \n",
    "    # loop over evaluation metrics\n",
    "    for metric in metrics:\n",
    "        # instantiate at zer0 within the loop\n",
    "        best_score = 0.0\n",
    "        # score logic implemented after training run on hyperparameter search\n",
    "    \n",
    "        # GRID SEARCH\n",
    "        # these are the hyperparameters to search through\n",
    "        param_grid = {\n",
    "        'hidden_size': [10, 50, 100, 250, 500],\n",
    "        'dropout_rate': [0.05, 0.10, 0.15, 0.20],\n",
    "        'lr': [0.0001, 0.001, 0.01],\n",
    "        } \n",
    "\n",
    "        for params in ParameterGrid(param_grid):\n",
    "            input_size = X_train_df.shape[1]\n",
    "            hidden_size = params['hidden_size']\n",
    "            learning_rate = params['lr']\n",
    "            dropout_rate = params['dropout_rate']\n",
    "            output_size = 1 # for our uses this will always be 0ne\n",
    "\n",
    "            # instantiate the model class\n",
    "            # send to gpu if available\n",
    "            #model = Net.OneLayer(input_size, hidden_size, output_size, dropout_rate).to(device)\n",
    "            #model = Net.TwoLayer(input_size, hidden_size, output_size, dropout_rate).to(device)\n",
    "            model = Net.ThreeLayer(input_size, hidden_size, output_size, dropout_rate).to(device)\n",
    "\n",
    "            criterion = nn.BCELoss()  # cross-entropy better suited for binary classification than MSE\n",
    "            optimizer = optim.Adam(model.parameters(), lr=learning_rate)  \n",
    "\n",
    "            ## Train the Model ##\n",
    "\n",
    "            for epoch in range(n_epochs):\n",
    "                y_train_pred_proba = model(X_train_tensor)\n",
    "                loss = criterion(y_train_pred_proba, y_train_tensor)\n",
    "                optimizer.zero_grad()\n",
    "                loss.backward()\n",
    "                optimizer.step()\n",
    "\n",
    "            ## now \"final\" probability outputs from trained model ##\n",
    "            y_train_pred_proba = model(X_train_tensor)\n",
    "            y_test_pred_proba = model(X_test_tensor)     \n",
    "\n",
    "            # loss on the final output\n",
    "            # this isn't necessarily meaningful without seeing change over epochs \n",
    "            # can be handy reference\n",
    "            # back to cpu / numpy\n",
    "            train_loss = criterion(y_train_pred_proba, y_train_tensor).detach().cpu().numpy().flatten()[0]\n",
    "            val_loss = criterion(y_test_pred_proba, y_test_tensor).detach().cpu().numpy().flatten()[0]\n",
    "\n",
    "            # # convert these values back to pandas dtypes\n",
    "            y_train_pred_proba = y_train_pred_proba.detach().cpu().numpy() # numpy goes back to cpu\n",
    "            y_test_pred_proba = y_test_pred_proba.detach().cpu().numpy()   # numpy goes back to cpu \n",
    "            # also get their boolean values\n",
    "            y_train_pred_bool = np.round(y_train_pred_proba)\n",
    "            y_test_pred_bool = np.round(y_test_pred_proba)\n",
    "\n",
    "            # calculate accuracy\n",
    "            train_accuracy = accuracy_score(y_train_df, y_train_pred_bool.flatten())\n",
    "            test_accuracy = accuracy_score(y_test_df, y_test_pred_bool.flatten())\n",
    "\n",
    "            # calculate f1\n",
    "            f1_test = f1_score(y_test_df, y_test_pred_bool)\n",
    "\n",
    "            # calculate recall\n",
    "            test_recall_score = recall_score(y_test_df, y_test_pred_bool, average='binary')\n",
    "\n",
    "            # extract AUC for printing\n",
    "            auc_test = roc_auc_score(y_test_df, y_test_pred_proba)\n",
    "            \n",
    "            # metrics have already been calculated\n",
    "            # but this is where metric loop logic kicks in\n",
    "            if metric.__name__ == 'recall_score':\n",
    "                score = test_recall_score\n",
    "            elif metric.__name__ == 'f1_score':\n",
    "                score = f1_test\n",
    "            elif metric.__name__ == 'roc_auc_score':\n",
    "                score = auc_test\n",
    "\n",
    "                '''network training'''\n",
    "\n",
    "            # evaluate parameters on given metric and log parameters\n",
    "            if score > best_score:\n",
    "                best_score = score\n",
    "                best_params = params\n",
    "                \n",
    "                # and if this is the best, update the dateframe with the given metrics\n",
    "                param_df.loc[metric.__name__, 'test_accuracy'] = test_accuracy\n",
    "                param_df.loc[metric.__name__, 'test_recall'] = test_recall_score\n",
    "                param_df.loc[metric.__name__, 'test_f1_score'] = f1_test\n",
    "                param_df.loc[metric.__name__, 'test_auc'] = auc_test\n",
    "                param_df.loc[metric.__name__, 'training_loss'] = train_loss#.detach().numpy().flatten()[0]\n",
    "                param_df.loc[metric.__name__, 'validation_loss'] = val_loss#.detach().numpy().flatten()[0]\n",
    "                param_df.loc[metric.__name__, 'epochs'] = n_epochs         \n",
    "                # to insert hyparams into df...pack as a list of tuples\n",
    "                best_params = [tuple(pair) for pair in best_params.items()]\n",
    "                # insert as a list\n",
    "                # to unpack later call... `dict(best_params)`\n",
    "                param_df.loc[metric.__name__, 'hyper_params'] = best_params\n",
    "\n",
    "        # save model weights\n",
    "        # model_name = model.__class__.__name__\n",
    "        # torch.save(model.state_dict(), f'{model_name}.pth')     \n",
    "\n",
    "print(model.__class__.__name__)\n",
    "print(\"trained on: \", device)\n",
    "print(\"\\n\")\n",
    "param_df.T"
   ]
  },
  {
   "cell_type": "markdown",
   "metadata": {
    "tags": []
   },
   "source": [
    "### Decision Criteria\n",
    "- the models may have similar performance metrics\n",
    "- choosing based on validation loss may prevent overfitting\n",
    "    - in this case, optimizing on AUC has the lowest validation loss, while the other two performance metrics have incredibly highloss.\n",
    "    - this is an indication that the models created by the other metrics overfit the training data."
   ]
  },
  {
   "cell_type": "code",
   "execution_count": 14,
   "metadata": {
    "tags": []
   },
   "outputs": [
    {
     "data": {
      "image/png": "[encoded data removed]",
      "text/plain": [
       "<Figure size 640x480 with 1 Axes>"
      ]
     },
     "metadata": {},
     "output_type": "display_data"
    }
   ],
   "source": [
    "param_df.iloc[:,:4].T.plot(kind='bar');"
   ]
  },
  {
   "cell_type": "markdown",
   "metadata": {},
   "source": [
    "# SHAP Values for feature selection<a id=\"SHAP\">\n",
    "\n",
    "- First train model with best hyperparameters / tuning metric\n",
    "\n",
    "- Examine the Shap values for feature importance\n",
    "    - we likely need to reduce the number of features to prevent overfitting"
   ]
  },
  {
   "cell_type": "code",
   "execution_count": 15,
   "metadata": {
    "tags": []
   },
   "outputs": [
    {
     "name": "stdout",
     "output_type": "stream",
     "text": [
      "roc_auc_score\n"
     ]
    },
    {
     "data": {
      "text/plain": [
       "{'dropout_rate': 0.15, 'hidden_size': 250, 'lr': 0.001}"
      ]
     },
     "execution_count": 15,
     "metadata": {},
     "output_type": "execute_result"
    }
   ],
   "source": [
    "# # manually selecting\n",
    "# idx = 2\n",
    "# chosen_metric = metrics[idx].__name__\n",
    "\n",
    "# automated selection\n",
    "lowest_loss_metric = param_df['validation_loss'].astype(float).idxmin()\n",
    "chosen_metric = lowest_loss_metric\n",
    "\n",
    "# select based on above\n",
    "print(chosen_metric)\n",
    "chosen_params = dict(param_df.loc[chosen_metric, 'hyper_params'])\n",
    "chosen_params"
   ]
  },
  {
   "cell_type": "code",
   "execution_count": 16,
   "metadata": {},
   "outputs": [
    {
     "name": "stdout",
     "output_type": "stream",
     "text": [
      "1000\n"
     ]
    }
   ],
   "source": [
    "# n_epochs = 750\n",
    "n_epochs = n_epochs\n",
    "print(n_epochs)"
   ]
  },
  {
   "cell_type": "code",
   "execution_count": 17,
   "metadata": {
    "tags": []
   },
   "outputs": [
    {
     "name": "stdout",
     "output_type": "stream",
     "text": [
      "Architecture:  ThreeLayer\n",
      "hyperparameters:\n",
      "{'dropout_rate': 0.15, 'hidden_size': 250, 'lr': 0.001}\n",
      "\n",
      "\n",
      "Epochs: 1000\n",
      "Training loss: 0.02671126089990139\n",
      "Validation loss: 2.388913154602051\n",
      "\n",
      "\n",
      "Training Accuracy: 0.9907718120805369\n",
      "Test Accuracy: 0.8523985239852399\n",
      "\n",
      "\n",
      "Test Recall: 0.6\n",
      "Test F1 Score: 0.6226415094339622\n",
      "\n",
      "\n",
      "Test AUC: 0.8705387205387205\n",
      "\n",
      "\n",
      "CPU times: user 4.13 s, sys: 165 ms, total: 4.29 s\n",
      "Wall time: 4.16 s\n"
     ]
    },
    {
     "data": {
      "image/png": "[encoded data removed]",
      "text/plain": [
       "<Figure size 640x480 with 1 Axes>"
      ]
     },
     "metadata": {},
     "output_type": "display_data"
    },
    {
     "data": {
      "image/png": "[encoded data removed]",
      "text/plain": [
       "<Figure size 640x480 with 1 Axes>"
      ]
     },
     "metadata": {},
     "output_type": "display_data"
    }
   ],
   "source": [
    "%%time\n",
    "# SHAP VALUE EXTRACTION\n",
    "if __name__ == '__main__':\n",
    "    # data already loaded\n",
    "\n",
    "    #scale the data X_train and X_test\n",
    "    cols = X_train_df.columns\n",
    "    sc = StandardScaler()\n",
    "    # the \"scaled\" objects are still dataframes\n",
    "    X_train_scaled = pd.DataFrame(sc.fit_transform(X_train_df), columns=cols)\n",
    "    X_test_scaled = pd.DataFrame(sc.transform(X_test_df), columns=cols)\n",
    "\n",
    "    # convert to tensor objects\n",
    "    # send to gpu if available\n",
    "    X_train_tensor = torch.tensor(X_train_scaled.values).float().to(device)\n",
    "    y_train_tensor = torch.tensor(y_train_df.values).float().view(-1, 1).to(device)\n",
    "    X_test_tensor = torch.tensor(X_test_scaled.values).float().to(device)\n",
    "    y_test_tensor = torch.tensor(y_test_df.values).float().view(-1, 1).to(device)\n",
    "    \n",
    "    # HYPER PARAMETERS FROM DECISION CRITERIA\n",
    "    input_size = X_train_df.shape[1]\n",
    "    hidden_size = chosen_params['hidden_size']\n",
    "    learning_rate = chosen_params['lr']\n",
    "    dropout_rate = chosen_params['dropout_rate']\n",
    "    output_size = 1 # for our uses this will always be 0ne\n",
    "\n",
    "    # instantiate the model class\n",
    "    # send to gpu if available\n",
    "    #model = Net.OneLayer(input_size, hidden_size, output_size, dropout_rate).to(device)\n",
    "    #model = Net.TwoLayer(input_size, hidden_size, output_size, dropout_rate).to(device)\n",
    "    model = Net.ThreeLayer(input_size, hidden_size, output_size, dropout_rate).to(device)\n",
    "\n",
    "    criterion = nn.BCELoss()  # cross-entropy better suited for binary classification than MSE\n",
    "    optimizer = optim.Adam(model.parameters(), lr=learning_rate)  \n",
    "\n",
    "    ## Train the Model ##\n",
    "    \n",
    "    # create empty df to track loss over epochs\n",
    "    loss_df = pd.DataFrame(columns=['train_loss', 'test_loss'])\n",
    "    \n",
    "    for epoch in range(n_epochs):\n",
    "        y_train_pred_proba = model(X_train_tensor)\n",
    "        loss = criterion(y_train_pred_proba, y_train_tensor)\n",
    "        optimizer.zero_grad()\n",
    "        loss.backward()\n",
    "        optimizer.step()\n",
    "        \n",
    "        # track loss for plotting\n",
    "        if epoch%5 ==0:\n",
    "            y_train_pred_proba = model(X_train_tensor)\n",
    "            y_test_pred_proba = model(X_test_tensor) \n",
    "\n",
    "            train_loss = criterion(y_train_pred_proba, y_train_tensor)\n",
    "            val_loss = criterion(y_test_pred_proba, y_test_tensor)\n",
    "            \n",
    "            loss_df.loc[epoch, 'train_loss'] = train_loss.detach().cpu().numpy().flatten()[0]\n",
    "            loss_df.loc[epoch, 'test_loss'] = val_loss.detach().cpu().numpy().flatten()[0]\n",
    "\n",
    "       \n",
    "    ## now \"final\" probability outputs from trained model ##\n",
    "    y_train_pred_proba = model(X_train_tensor)\n",
    "    y_test_pred_proba = model(X_test_tensor)     \n",
    "\n",
    "    # loss on the final output\n",
    "    # this isn't necessarily meaningful without seeing change over epochs \n",
    "    # can be handy reference\n",
    "    # back to cpu / numpy\n",
    "    train_loss = criterion(y_train_pred_proba, y_train_tensor).detach().cpu().numpy().flatten()[0]\n",
    "    val_loss = criterion(y_test_pred_proba, y_test_tensor).detach().cpu().numpy().flatten()[0]\n",
    "\n",
    "    # # convert these values back to pandas dtypes\n",
    "    y_train_pred_proba = y_train_pred_proba.detach().cpu().numpy() # numpy goes back to cpu\n",
    "    y_test_pred_proba = y_test_pred_proba.detach().cpu().numpy()   # numpy goes back to cpu\n",
    "    # also get their boolean values\n",
    "    y_train_pred_bool = np.round(y_train_pred_proba)\n",
    "    y_test_pred_bool = np.round(y_test_pred_proba)\n",
    "\n",
    "    # calculate accuracy\n",
    "    train_accuracy = accuracy_score(y_train_df, y_train_pred_bool.flatten())\n",
    "    test_accuracy = accuracy_score(y_test_df, y_test_pred_bool.flatten())\n",
    "    \n",
    "    # calculate recall\n",
    "    test_recall_score = recall_score(y_test_df, y_test_pred_bool, average='binary')\n",
    "    \n",
    "    # calculate f1\n",
    "    f1_test = f1_score(y_test_df, y_test_pred_bool)\n",
    "\n",
    "    # extract AUC for printing\n",
    "    auc_test = roc_auc_score(y_test_df, y_test_pred_proba)      \n",
    "   \n",
    "    ## save final model weights\n",
    "    model_name = model.__class__.__name__\n",
    "    # torch.save(model.state_dict(), f'{model_name}.pth')     \n",
    "\n",
    "    print('Architecture: ', model_name)\n",
    "    print('hyperparameters:')\n",
    "    print(chosen_params)\n",
    "    print(\"\\n\")\n",
    "    print(f\"Epochs: {n_epochs}\")\n",
    "    print(f'Training loss: {train_loss}')\n",
    "    print(f'Validation loss: {val_loss}')\n",
    "    print(\"\\n\")\n",
    "\n",
    "    # accuracy #\n",
    "    # training accuracy\n",
    "    train_accuracy = accuracy_score(y_train_df, y_train_pred_bool.flatten())\n",
    "    print(f'Training Accuracy: {train_accuracy}')\n",
    "    # testing accuracy\n",
    "    test_accuracy = accuracy_score(y_test_df, y_test_pred_bool.flatten())\n",
    "    print(f'Test Accuracy: {test_accuracy}')\n",
    "    print(\"\\n\")\n",
    "\n",
    "    # Recall\n",
    "    print(f'Test Recall: {test_recall_score}')\n",
    "    \n",
    "    # f1\n",
    "    print(f'Test F1 Score: {f1_test}')\n",
    "    print(\"\\n\")\n",
    "    \n",
    "    # AUC\n",
    "    print(f'Test AUC: {auc_test}')\n",
    "    print(\"\\n\")\n",
    "    \n",
    "    \n",
    "    # PLOTS\n",
    "    fig = loss_df.plot()\n",
    "    fig.set_xlabel('epochs')\n",
    "    fig.set_ylabel('loss')\n",
    "    fig.set_title('Loss over Epochs');\n",
    "    \n",
    "    # and plot AUC\n",
    "    fig, ax = plt.subplots()\n",
    "\n",
    "    RocCurveDisplay.from_predictions(y_train_df, \n",
    "                                     y_train_pred_proba, \n",
    "                                     ax=ax, \n",
    "                                     linewidth=1, \n",
    "                                     color='blue', \n",
    "                                     name='train', \n",
    "                                     linestyle=\"dashed\"\n",
    "                                    );\n",
    "\n",
    "    RocCurveDisplay.from_predictions(y_test_df,\n",
    "                                     y_test_pred_proba,\n",
    "                                     ax=ax, \n",
    "                                     linewidth=1, \n",
    "                                     color='orange', \n",
    "                                     name='test');\n",
    "\n",
    "    plt.title(f'FC NN: {model_name}');"
   ]
  },
  {
   "cell_type": "code",
   "execution_count": 18,
   "metadata": {
    "tags": []
   },
   "outputs": [
    {
     "name": "stderr",
     "output_type": "stream",
     "text": [
      "Using a non-full backward hook when the forward contains multiple autograd Nodes is deprecated and will be removed in future versions. This hook will be missing some grad_input. Please use register_full_backward_hook to get the documented behavior.\n"
     ]
    },
    {
     "name": "stdout",
     "output_type": "stream",
     "text": [
      "(271, 13)\n"
     ]
    },
    {
     "data": {
      "text/html": [
       "<div>\n",
       "<style scoped>\n",
       "    .dataframe tbody tr th:only-of-type {\n",
       "        vertical-align: middle;\n",
       "    }\n",
       "\n",
       "    .dataframe tbody tr th {\n",
       "        vertical-align: top;\n",
       "    }\n",
       "\n",
       "    .dataframe thead th {\n",
       "        text-align: right;\n",
       "    }\n",
       "</style>\n",
       "<table border=\"1\" class=\"dataframe\">\n",
       "  <thead>\n",
       "    <tr style=\"text-align: right;\">\n",
       "      <th></th>\n",
       "      <th>vals</th>\n",
       "    </tr>\n",
       "  </thead>\n",
       "  <tbody>\n",
       "    <tr>\n",
       "      <th>peak_i15_mmh</th>\n",
       "      <td>0.133910</td>\n",
       "    </tr>\n",
       "    <tr>\n",
       "      <th>fire_interval</th>\n",
       "      <td>0.037288</td>\n",
       "    </tr>\n",
       "    <tr>\n",
       "      <th>SuscFrac</th>\n",
       "      <td>0.034726</td>\n",
       "    </tr>\n",
       "    <tr>\n",
       "      <th>prophm23</th>\n",
       "      <td>0.034716</td>\n",
       "    </tr>\n",
       "    <tr>\n",
       "      <th>dnbr1000</th>\n",
       "      <td>0.030520</td>\n",
       "    </tr>\n",
       "    <tr>\n",
       "      <th>kf</th>\n",
       "      <td>0.030264</td>\n",
       "    </tr>\n",
       "    <tr>\n",
       "      <th>SAV</th>\n",
       "      <td>0.026018</td>\n",
       "    </tr>\n",
       "    <tr>\n",
       "      <th>SedUn</th>\n",
       "      <td>0.022072</td>\n",
       "    </tr>\n",
       "    <tr>\n",
       "      <th>Extinction moisture content</th>\n",
       "      <td>0.020774</td>\n",
       "    </tr>\n",
       "    <tr>\n",
       "      <th>Fine fuel load</th>\n",
       "      <td>0.019167</td>\n",
       "    </tr>\n",
       "    <tr>\n",
       "      <th>LNDS_RISKS</th>\n",
       "      <td>0.017152</td>\n",
       "    </tr>\n",
       "    <tr>\n",
       "      <th>contributingarea_km2</th>\n",
       "      <td>0.016897</td>\n",
       "    </tr>\n",
       "    <tr>\n",
       "      <th>Packing ratio</th>\n",
       "      <td>0.013487</td>\n",
       "    </tr>\n",
       "  </tbody>\n",
       "</table>\n",
       "</div>"
      ],
      "text/plain": [
       "                                 vals\n",
       "peak_i15_mmh                 0.133910\n",
       "fire_interval                0.037288\n",
       "SuscFrac                     0.034726\n",
       "prophm23                     0.034716\n",
       "dnbr1000                     0.030520\n",
       "kf                           0.030264\n",
       "SAV                          0.026018\n",
       "SedUn                        0.022072\n",
       "Extinction moisture content  0.020774\n",
       "Fine fuel load               0.019167\n",
       "LNDS_RISKS                   0.017152\n",
       "contributingarea_km2         0.016897\n",
       "Packing ratio                0.013487"
      ]
     },
     "execution_count": 18,
     "metadata": {},
     "output_type": "execute_result"
    }
   ],
   "source": [
    "explainer = shap.DeepExplainer(model, X_train_tensor)\n",
    "shap_values = explainer.shap_values(X_test_tensor)\n",
    "print(shap_values.shape)\n",
    "vals = np.abs(shap_values).mean(0)\n",
    "shap_val_df = pd.DataFrame(data=vals, index=X_test_df.columns, columns=['vals'])\n",
    "shap_val_df = shap_val_df.sort_values(by='vals', ascending=False)\n",
    "shap_val_df"
   ]
  },
  {
   "cell_type": "code",
   "execution_count": 19,
   "metadata": {
    "tags": []
   },
   "outputs": [
    {
     "data": {
      "image/png": "[encoded data removed]",
      "text/plain": [
       "<Figure size 640x480 with 1 Axes>"
      ]
     },
     "metadata": {},
     "output_type": "display_data"
    }
   ],
   "source": [
    "shap_val_df[::-1].plot(kind='barh', title='shap values');"
   ]
  },
  {
   "cell_type": "code",
   "execution_count": 20,
   "metadata": {
    "tags": []
   },
   "outputs": [
    {
     "data": {
      "text/plain": [
       "['peak_i15_mmh',\n",
       " 'fire_interval',\n",
       " 'SuscFrac',\n",
       " 'prophm23',\n",
       " 'dnbr1000',\n",
       " 'kf',\n",
       " 'SAV',\n",
       " 'SedUn',\n",
       " 'Extinction moisture content',\n",
       " 'Fine fuel load',\n",
       " 'LNDS_RISKS',\n",
       " 'contributingarea_km2',\n",
       " 'Packing ratio']"
      ]
     },
     "execution_count": 20,
     "metadata": {},
     "output_type": "execute_result"
    }
   ],
   "source": [
    "feat_order = list(shap_val_df.index)\n",
    "feat_order"
   ]
  },
  {
   "cell_type": "code",
   "execution_count": 21,
   "metadata": {
    "tags": []
   },
   "outputs": [
    {
     "data": {
      "text/plain": [
       "[['peak_i15_mmh'],\n",
       " ['peak_i15_mmh', 'fire_interval'],\n",
       " ['peak_i15_mmh', 'fire_interval', 'SuscFrac'],\n",
       " ['peak_i15_mmh', 'fire_interval', 'SuscFrac', 'prophm23']]"
      ]
     },
     "execution_count": 21,
     "metadata": {},
     "output_type": "execute_result"
    }
   ],
   "source": [
    "# generate incrementally longer feature lists in order of importance\n",
    "cumulative_feature_list = []\n",
    "for i, feat in enumerate(feat_order, 1):\n",
    "    cumulative_feature_list.append(feat_order[:i])\n",
    "# just check the first few records to make sure they increment by one\n",
    "cumulative_feature_list[:4]"
   ]
  },
  {
   "cell_type": "code",
   "execution_count": 22,
   "metadata": {
    "tags": []
   },
   "outputs": [
    {
     "data": {
      "text/plain": [
       "['peak_i15_mmh',\n",
       " 'fire_interval',\n",
       " 'SuscFrac',\n",
       " 'prophm23',\n",
       " 'dnbr1000',\n",
       " 'kf',\n",
       " 'SAV',\n",
       " 'SedUn',\n",
       " 'Extinction moisture content',\n",
       " 'Fine fuel load',\n",
       " 'LNDS_RISKS',\n",
       " 'contributingarea_km2',\n",
       " 'Packing ratio']"
      ]
     },
     "execution_count": 22,
     "metadata": {},
     "output_type": "execute_result"
    }
   ],
   "source": [
    "# exclude testing with just ONE feature\n",
    "feat_of_feats = cumulative_feature_list[1:]\n",
    "feat_of_feats[-1] # this should be ALL the features now"
   ]
  },
  {
   "cell_type": "markdown",
   "metadata": {},
   "source": [
    "## Feature Selection Using Shap Order<a id=\"FEATURE\">"
   ]
  },
  {
   "cell_type": "code",
   "execution_count": 23,
   "metadata": {
    "tags": []
   },
   "outputs": [
    {
     "name": "stdout",
     "output_type": "stream",
     "text": [
      "roc_auc_score\n",
      "{'dropout_rate': 0.15, 'hidden_size': 250, 'lr': 0.001}\n"
     ]
    }
   ],
   "source": [
    "print(chosen_metric)\n",
    "print(chosen_params)"
   ]
  },
  {
   "cell_type": "code",
   "execution_count": 24,
   "metadata": {
    "tags": []
   },
   "outputs": [
    {
     "name": "stdout",
     "output_type": "stream",
     "text": [
      "1000\n"
     ]
    }
   ],
   "source": [
    "# n_epochs = 750\n",
    "n_epochs = n_epochs\n",
    "print(n_epochs)"
   ]
  },
  {
   "cell_type": "code",
   "execution_count": 25,
   "metadata": {
    "tags": []
   },
   "outputs": [
    {
     "name": "stdout",
     "output_type": "stream",
     "text": [
      "ThreeLayer\n",
      "with feature selection\n",
      "8  features: \n",
      "['peak_i15_mmh', 'fire_interval', 'SuscFrac', 'prophm23', 'dnbr1000', 'kf', 'SAV', 'SedUn']\n",
      "hyperparameters:\n",
      "{'dropout_rate': 0.15, 'hidden_size': 250, 'lr': 0.001}\n",
      "\n",
      "\n",
      "Training loss: 0.014805871993303299\n",
      "Validation loss: 2.687185287475586\n",
      "\n",
      "\n",
      "Training Accuracy: 0.9949664429530202\n",
      "Test Accuracy: 0.8708487084870848\n",
      "\n",
      "\n",
      "Test Recall: 0.7272727272727273\n",
      "Test F1 Score: 0.6956521739130435\n",
      "\n",
      "\n",
      "Test AUC: 0.8803030303030304\n",
      "\n",
      "\n",
      "CPU times: user 41.7 s, sys: 471 ms, total: 42.1 s\n",
      "Wall time: 41.9 s\n"
     ]
    }
   ],
   "source": [
    "%%time\n",
    "# FEATURE LOOP\n",
    "if __name__ == '__main__':\n",
    "\n",
    "    # GRID SEARCH\n",
    "    param_grid = {\n",
    "    'hidden_size': [10, 50, 100, 250, 500],\n",
    "    'dropout_rate': [0.05, 0.10, 0.15, 0.20],\n",
    "    'lr': [0.0001, 0.001, 0.01],\n",
    "    'features': feat_of_feats # list of lists\n",
    "    }\n",
    "    \n",
    "    best_accuracy = 0.0\n",
    "    best_recall = 0.0\n",
    "    best_auc = 0.0\n",
    "    best_params ={}\n",
    "    \n",
    "    # loop over features\n",
    "    # instantiate at zer0 before the loop\n",
    "    best_score = 0.0\n",
    "    \n",
    "    for feats in feat_of_feats:      \n",
    "        # Load data with feature subset\n",
    "        \n",
    "        # splitting already conducted\n",
    "        # using df objects to avoid tensor issues\n",
    "        X_train = X_train_df[feats]\n",
    "        X_test = X_test_df[feats]\n",
    "        y_train = y_train_df\n",
    "        y_test = y_test_df\n",
    "\n",
    "        #scale the data X_train and X_test\n",
    "        cols = X_train.columns\n",
    "        sc = StandardScaler()\n",
    "        X_train = pd.DataFrame(sc.fit_transform(X_train), columns=cols)\n",
    "        X_test = pd.DataFrame(sc.transform(X_test), columns=cols)\n",
    "\n",
    "        # convert to tensor objects\n",
    "        # send to gpu if available\n",
    "        X_train_tensor = torch.tensor(X_train.values).float().to(device)\n",
    "        y_train_tensor = torch.tensor(y_train.values).float().view(-1, 1).to(device)\n",
    "        X_test_tensor = torch.tensor(X_test.values).float().to(device)\n",
    "        y_test_tensor = torch.tensor(y_test.values).float().view(-1, 1).to(device)\n",
    "        \n",
    "        # hyperparameters\n",
    "        input_size = X_train.shape[1]\n",
    "        hidden_size = chosen_params['hidden_size']\n",
    "        learning_rate = chosen_params['lr']\n",
    "        dropout_rate = chosen_params['dropout_rate']\n",
    "        output_size = 1\n",
    "\n",
    "        # instantiate the model class\n",
    "        #model = Net.OneLayer(input_size, hidden_size, output_size, dropout_rate).to(device)\n",
    "        #model = Net.TwoLayer(input_size, hidden_size, output_size, dropout_rate).to(device)\n",
    "        model = Net.ThreeLayer(input_size, hidden_size, output_size, dropout_rate).to(device)\n",
    "\n",
    "        criterion = nn.BCELoss()  # cross-entropy better suited for binary classification than MSE\n",
    "        optimizer = optim.Adam(model.parameters(), lr=learning_rate)  \n",
    "         \n",
    "        ## Train the Model ##\n",
    "\n",
    "        for epoch in range(n_epochs):\n",
    "            y_train_pred_proba = model(X_train_tensor)\n",
    "            loss = criterion(y_train_pred_proba, y_train_tensor)\n",
    "            optimizer.zero_grad()\n",
    "            loss.backward()\n",
    "            optimizer.step()\n",
    "\n",
    "        # now \"final\" outputs\n",
    "        y_train_pred_proba = model(X_train_tensor)\n",
    "        y_test_pred_proba = model(X_test_tensor)\n",
    "\n",
    "        # loss on the final output\n",
    "        # this isn't necessarily meaningful without seeing change over epochs \n",
    "        # can be handy reference\n",
    "        # back to cpu / numpy\n",
    "        train_loss = criterion(y_train_pred_proba, y_train_tensor).detach().cpu().numpy().flatten()[0]\n",
    "        val_loss = criterion(y_test_pred_proba, y_test_tensor).detach().cpu().numpy().flatten()[0]\n",
    "\n",
    "        # # convert these values back to pandas dtypes\n",
    "        y_train_pred_proba = y_train_pred_proba.detach().cpu().numpy() # numpy goes back to cpu\n",
    "        y_test_pred_proba = y_test_pred_proba.detach().cpu().numpy()   # numpy goes back to cpu\n",
    "        # also get their boolean values\n",
    "        # simply if a probability is above .5 it predicts a 1\n",
    "        y_train_pred_bool = np.round(y_train_pred_proba)\n",
    "        y_test_pred_bool = np.round(y_test_pred_proba)   \n",
    "        \n",
    "   \n",
    "        # calculate accuracy\n",
    "        train_accuracy = accuracy_score(y_train_df, y_train_pred_bool.flatten())\n",
    "        test_accuracy = accuracy_score(y_test_df, y_test_pred_bool.flatten())\n",
    "        \n",
    "        # calculate f1\n",
    "        f1_test = f1_score(y_test_df, y_test_pred_bool)\n",
    "\n",
    "        # calculate recall\n",
    "        test_recall_score = recall_score(y_test_df, y_test_pred_bool, average='binary')\n",
    "\n",
    "        # extract AUC for printing\n",
    "        auc_test = roc_auc_score(y_test_df, y_test_pred_proba)\n",
    "        \n",
    "        # metrics have already been calculated\n",
    "        # but this is where metric loop logic kicks in\n",
    "        if chosen_metric == 'recall_score':\n",
    "            score = test_recall_score\n",
    "        elif chosen_metric == 'f1_score':\n",
    "            score = f1_test\n",
    "        elif chosen_metric == 'roc_auc_score':\n",
    "            score = auc_test\n",
    "        \n",
    "        # evaluate features on given metric and log features\n",
    "        if score > best_score:\n",
    "            best_score = score\n",
    "            chosen_features = feats\n",
    "                                 \n",
    "            test_accuracy = test_accuracy\n",
    "            test_recall_score = test_recall_score\n",
    "            f1_test = f1_test\n",
    "            auc_test = auc_test\n",
    "            train_loss = train_loss\n",
    "            val_loss = val_loss        \n",
    "\n",
    "    ## save final model weights\n",
    "    model_name = model.__class__.__name__\n",
    "    # torch.save(model.state_dict(), f'{model_name}.pth')      \n",
    "    print(model_name)\n",
    "    print('with feature selection')\n",
    "    print(len(chosen_features), \" features: \")\n",
    "    print(chosen_features)\n",
    "    print('hyperparameters:')\n",
    "    print(chosen_params)\n",
    "    print(\"\\n\")\n",
    "    print(f'Training loss: {train_loss}')\n",
    "    print(f'Validation loss: {val_loss}')\n",
    "    print(\"\\n\")\n",
    "\n",
    "    # accuracy #\n",
    "    # training accuracy\n",
    "    print(f'Training Accuracy: {train_accuracy}')\n",
    "    # testing accuracy\n",
    "    print(f'Test Accuracy: {test_accuracy}')\n",
    "    print(\"\\n\")\n",
    "\n",
    "    # Recall\n",
    "    print(f'Test Recall: {test_recall_score}')\n",
    "    \n",
    "    # f1\n",
    "    print(f'Test F1 Score: {f1_test}')\n",
    "    print(\"\\n\")\n",
    "    \n",
    "    # AUC\n",
    "    print(f'Test AUC: {auc_test}')\n",
    "    print(\"\\n\")"
   ]
  },
  {
   "cell_type": "markdown",
   "metadata": {},
   "source": [
    "# Best Model with Epochs <a id=\"BEST\">\n",
    "    \n",
    "- experiment with number of epochs"
   ]
  },
  {
   "attachments": {
    "ed9f5975-a39c-418a-9dff-be8275f61260.png": {
     "image/png": "[encoded data removed]"
    }
   },
   "cell_type": "markdown",
   "metadata": {},
   "source": [
    "OLD WITH ALL FEATURES (TWO LAYERS)\n",
    "- BEST PERFORMANCE SO FAR!!!\n",
    "- DO NOT DELETE!!!\n",
    "\n",
    "![image.png](attachment:ed9f5975-a39c-418a-9dff-be8275f61260.png)"
   ]
  },
  {
   "cell_type": "code",
   "execution_count": 26,
   "metadata": {
    "tags": []
   },
   "outputs": [],
   "source": [
    "import sys\n",
    "sys.path.append(\"../../model/\")\n",
    "import ModelNN as Net"
   ]
  },
  {
   "cell_type": "code",
   "execution_count": 27,
   "metadata": {
    "tags": []
   },
   "outputs": [],
   "source": [
    "X_train_df, X_test_df, y_train_df, y_test_df = pickle.load(open(\"../../data/train_test_data.pkl\", \"rb\"))"
   ]
  },
  {
   "cell_type": "code",
   "execution_count": 28,
   "metadata": {
    "tags": []
   },
   "outputs": [],
   "source": [
    "# # open the parameters json\n",
    "# import json\n",
    "\n",
    "# file_path = \"../../model/model_parameters.json\"\n",
    "# with open(file_path) as model_params:\n",
    "#     model_params = json.load(model_params)\n",
    "\n",
    "# model_params"
   ]
  },
  {
   "cell_type": "code",
   "execution_count": 29,
   "metadata": {
    "tags": []
   },
   "outputs": [
    {
     "name": "stdout",
     "output_type": "stream",
     "text": [
      "roc_auc_score\n",
      "{'dropout_rate': 0.15, 'hidden_size': 250, 'lr': 0.001}\n"
     ]
    },
    {
     "data": {
      "text/plain": [
       "['peak_i15_mmh',\n",
       " 'fire_interval',\n",
       " 'SuscFrac',\n",
       " 'prophm23',\n",
       " 'dnbr1000',\n",
       " 'kf',\n",
       " 'SAV',\n",
       " 'SedUn']"
      ]
     },
     "execution_count": 29,
     "metadata": {},
     "output_type": "execute_result"
    }
   ],
   "source": [
    "# this was determined through two rounds of grid search\n",
    "print(chosen_metric)\n",
    "print(chosen_params)\n",
    "chosen_features"
   ]
  },
  {
   "cell_type": "code",
   "execution_count": 30,
   "metadata": {
    "tags": []
   },
   "outputs": [
    {
     "name": "stdout",
     "output_type": "stream",
     "text": [
      "1000\n"
     ]
    }
   ],
   "source": [
    "# n_epochs = 750\n",
    "n_epochs = n_epochs\n",
    "print(n_epochs)"
   ]
  },
  {
   "cell_type": "code",
   "execution_count": 31,
   "metadata": {
    "tags": []
   },
   "outputs": [
    {
     "name": "stdout",
     "output_type": "stream",
     "text": [
      "Architecture:  ThreeLayer\n",
      "8  features: \n",
      "['peak_i15_mmh', 'fire_interval', 'SuscFrac', 'prophm23', 'dnbr1000', 'kf', 'SAV', 'SedUn']\n",
      "hyperparameters:\n",
      "{'dropout_rate': 0.15, 'hidden_size': 250, 'lr': 0.001}\n",
      "\n",
      "\n",
      "Epochs: 1000\n",
      "Training loss: 0.030392227694392204\n",
      "Validation loss: 1.9087374210357666\n",
      "\n",
      "\n",
      "Training accuracy: 0.9865771812080537\n",
      "Test accuracy: 0.8376383763837638\n",
      "\n",
      "\n",
      "Recall (test): 0.5636363636363636\n",
      "\n",
      "\n",
      "F1 Score (test): 0.5849056603773585\n",
      "\n",
      "\n",
      "AUC (test): 0.8880050505050505\n",
      "\n",
      "\n",
      "CPU times: user 4.14 s, sys: 95.1 ms, total: 4.23 s\n",
      "Wall time: 4.14 s\n"
     ]
    },
    {
     "data": {
      "image/png": "[encoded data removed]",
      "text/plain": [
       "<Figure size 640x480 with 1 Axes>"
      ]
     },
     "metadata": {},
     "output_type": "display_data"
    },
    {
     "data": {
      "image/png": "[encoded data removed]",
      "text/plain": [
       "<Figure size 640x480 with 1 Axes>"
      ]
     },
     "metadata": {},
     "output_type": "display_data"
    }
   ],
   "source": [
    "%%time\n",
    "# TUNED TRAINING\n",
    "if __name__ == '__main__':\n",
    "    # Load data\n",
    "\n",
    "    # splitting already conducted\n",
    "    # using df objects to avoid tensor issues\n",
    "    # and sticking with naming convention for feature subset selection\n",
    "    X_train = X_train_df[chosen_features]\n",
    "    X_test = X_test_df[chosen_features]\n",
    "    y_train = y_train_df\n",
    "    y_test = y_test_df\n",
    "\n",
    "    #scale the data X_train and X_test\n",
    "    cols = X_train.columns\n",
    "    sc = StandardScaler()\n",
    "    X_train = pd.DataFrame(sc.fit_transform(X_train), columns=cols)\n",
    "    X_test = pd.DataFrame(sc.transform(X_test), columns=cols)\n",
    "    \n",
    "    # change datatype for pytorch\n",
    "    # send to gpu if available\n",
    "    X_train_tensor = torch.tensor(X_train.values).float().to(device)\n",
    "    X_test_tensor = torch.tensor(X_test.values).float().to(device)\n",
    "    y_train_tensor = torch.tensor(y_train.values).float().view(-1, 1).to(device)\n",
    "    y_test_tensor = torch.tensor(y_test.values).float().view(-1, 1).to(device)\n",
    "    \n",
    "    # hyperparameters\n",
    "    input_size = X_train.shape[1]\n",
    "    hidden_size = chosen_params['hidden_size']\n",
    "    learning_rate = chosen_params['lr'] # 0.001 is default value for Adam optimizer\n",
    "    dropout_rate = chosen_params['dropout_rate']\n",
    "    output_size = 1 # in our case this is always 0ne\n",
    "\n",
    "    # select architecture\n",
    "    # send to gpu if available\n",
    "    #model = Net.OneLayer(input_size, hidden_size, output_size, dropout_rate).to(device)\n",
    "    #model = Net.TwoLayer(input_size, hidden_size, output_size, dropout_rate).to(device)\n",
    "    model = Net.ThreeLayer(input_size, hidden_size, output_size, dropout_rate).to(device)\n",
    "    \n",
    "    criterion = nn.BCELoss()  # cross-entropy better suited for binary classification than MSE\n",
    "    optimizer = optim.Adam(model.parameters(), lr=learning_rate)\n",
    "    \n",
    "    ## Train the Model ##\n",
    "    \n",
    "    # empty df to track loss over epochs\n",
    "    loss_df = pd.DataFrame(columns=['train_loss', 'test_loss'])\n",
    "    \n",
    "    for epoch in range(n_epochs):\n",
    "        y_train_pred_proba = model(X_train_tensor)\n",
    "        loss = criterion(y_train_pred_proba, y_train_tensor)\n",
    "        optimizer.zero_grad()\n",
    "        loss.backward()\n",
    "        optimizer.step()\n",
    "        \n",
    "        if epoch%5 ==0:\n",
    "            y_train_pred_proba = model(X_train_tensor)\n",
    "            y_test_pred_proba = model(X_test_tensor)\n",
    "\n",
    "            train_loss = criterion(y_train_pred_proba, y_train_tensor)\n",
    "            val_loss = criterion(y_test_pred_proba, y_test_tensor)\n",
    "            \n",
    "            loss_df.loc[epoch, 'train_loss'] = train_loss.detach().cpu().numpy().flatten()[0]\n",
    "            loss_df.loc[epoch, 'test_loss'] = val_loss.detach().cpu().numpy().flatten()[0]\n",
    "\n",
    "\n",
    "    ## now \"final\" probability outputs from trained model ##\n",
    "    y_train_pred_proba = model(X_train_tensor)\n",
    "    y_test_pred_proba = model(X_test_tensor)     \n",
    "\n",
    "    # loss on the final output\n",
    "    # this isn't really meaningful without seeing change over epochs \n",
    "    # occasionally handy to reference\n",
    "    train_loss = criterion(y_train_pred_proba, y_train_tensor).detach().cpu().numpy().flatten()[0]\n",
    "    val_loss = criterion(y_test_pred_proba, y_test_tensor).detach().cpu().numpy().flatten()[0]\n",
    "\n",
    "    # # convert these values back to pandas dtypes\n",
    "    y_train_pred_proba = y_train_pred_proba.detach().cpu().numpy() # numpy goes back to cpu\n",
    "    y_test_pred_proba = y_test_pred_proba.detach().cpu().numpy()  # numpy goes back to cpu\n",
    "    # also get their boolean values\n",
    "    y_train_pred_bool = np.round(y_train_pred_proba)\n",
    "    y_test_pred_bool = np.round(y_test_pred_proba)\n",
    "\n",
    "    # calculate accuracy\n",
    "    train_accuracy = accuracy_score(y_train_df, y_train_pred_bool.flatten())\n",
    "    test_accuracy = accuracy_score(y_test_df, y_test_pred_bool.flatten())\n",
    "    \n",
    "    # calculate recall\n",
    "    test_recall_score = recall_score(y_test_df, y_test_pred_bool, average='binary')\n",
    "    \n",
    "    # calculate f1\n",
    "    f1_test = f1_score(y_test_df, y_test_pred_bool)\n",
    "\n",
    "    # extract AUC for printing\n",
    "    auc_test = roc_auc_score(y_test_df, y_test_pred_proba)  \n",
    "\n",
    "    ##\n",
    "    ## display performance summary ##\n",
    "    ##\n",
    "    model_name = model.__class__.__name__\n",
    "    print(f'Architecture:  {model_name}')\n",
    "    print(len(chosen_features), \" features: \")\n",
    "    print(chosen_features)\n",
    "    print('hyperparameters:')\n",
    "    print(chosen_params)\n",
    "    print(\"\\n\")\n",
    "    print(f'Epochs: {n_epochs}')\n",
    "    print(f'Training loss: {train_loss}')\n",
    "    print(f'Validation loss: {val_loss}')\n",
    "    print(\"\\n\")\n",
    "\n",
    "    # accuracy\n",
    "    print(f'Training accuracy: {train_accuracy}')\n",
    "    print(f'Test accuracy: {test_accuracy}')\n",
    "    print('\\n')\n",
    "\n",
    "    # recall\n",
    "    print(f'Recall (test): {test_recall_score}')\n",
    "    print('\\n')\n",
    "\n",
    "    # f1\n",
    "    print(f'F1 Score (test): {f1_test}')\n",
    "    print('\\n')\n",
    "\n",
    "    # AUC\n",
    "    print(f'AUC (test): {auc_test}')\n",
    "    print('\\n')\n",
    "    \n",
    "    # to be saved to json\n",
    "    # must convert float type for serialization\n",
    "    performance_summary = {\n",
    "        'train_loss': float(train_loss),\n",
    "        'val_loss': float(val_loss),\n",
    "        'train_accuracy': float(train_accuracy),\n",
    "        'test_accuracy': float(test_accuracy),\n",
    "        'test_recall': float(test_recall_score),\n",
    "        'test_f1_score': float(f1_test),\n",
    "        'test_auc': float(auc_test),\n",
    "    }\n",
    "    \n",
    "    # PLOTS\n",
    "    \n",
    "    # Loss plot\n",
    "    fig = loss_df.plot()\n",
    "    fig.set_xlabel('epochs')\n",
    "    fig.set_ylabel('loss')\n",
    "    fig.set_title('Loss over Epochs');\n",
    "\n",
    "    # AUC plot\n",
    "    fig, ax = plt.subplots()\n",
    "\n",
    "    RocCurveDisplay.from_predictions(y_train_df, \n",
    "                                     y_train_pred_proba, \n",
    "                                     ax=ax, \n",
    "                                     linewidth=1, \n",
    "                                     color='blue', \n",
    "                                     name='train', \n",
    "                                     linestyle=\"dashed\"\n",
    "                                    );\n",
    "\n",
    "    RocCurveDisplay.from_predictions(y_test_df, \n",
    "                                     y_test_pred_proba,\n",
    "                                     ax=ax, \n",
    "                                     linewidth=1, \n",
    "                                     color='orange', \n",
    "                                     name='test');\n",
    "\n",
    "    plt.title(f'FC NN: {model_name}');\n",
    "\n",
    "    # save final model weights\n",
    "    # torch.save(model.state_dict(), f'../model/{model_name}.pth')"
   ]
  },
  {
   "cell_type": "markdown",
   "metadata": {},
   "source": [
    "## Extract SHAP values from final model / feature subset"
   ]
  },
  {
   "cell_type": "code",
   "execution_count": 32,
   "metadata": {
    "tags": []
   },
   "outputs": [
    {
     "name": "stderr",
     "output_type": "stream",
     "text": [
      "Using a non-full backward hook when the forward contains multiple autograd Nodes is deprecated and will be removed in future versions. This hook will be missing some grad_input. Please use register_full_backward_hook to get the documented behavior.\n"
     ]
    },
    {
     "name": "stdout",
     "output_type": "stream",
     "text": [
      "(271, 8)\n"
     ]
    },
    {
     "data": {
      "text/html": [
       "<div>\n",
       "<style scoped>\n",
       "    .dataframe tbody tr th:only-of-type {\n",
       "        vertical-align: middle;\n",
       "    }\n",
       "\n",
       "    .dataframe tbody tr th {\n",
       "        vertical-align: top;\n",
       "    }\n",
       "\n",
       "    .dataframe thead th {\n",
       "        text-align: right;\n",
       "    }\n",
       "</style>\n",
       "<table border=\"1\" class=\"dataframe\">\n",
       "  <thead>\n",
       "    <tr style=\"text-align: right;\">\n",
       "      <th></th>\n",
       "      <th>vals</th>\n",
       "    </tr>\n",
       "  </thead>\n",
       "  <tbody>\n",
       "    <tr>\n",
       "      <th>peak_i15_mmh</th>\n",
       "      <td>0.145664</td>\n",
       "    </tr>\n",
       "    <tr>\n",
       "      <th>SuscFrac</th>\n",
       "      <td>0.049150</td>\n",
       "    </tr>\n",
       "    <tr>\n",
       "      <th>prophm23</th>\n",
       "      <td>0.047755</td>\n",
       "    </tr>\n",
       "    <tr>\n",
       "      <th>dnbr1000</th>\n",
       "      <td>0.039621</td>\n",
       "    </tr>\n",
       "    <tr>\n",
       "      <th>fire_interval</th>\n",
       "      <td>0.039300</td>\n",
       "    </tr>\n",
       "    <tr>\n",
       "      <th>SAV</th>\n",
       "      <td>0.036358</td>\n",
       "    </tr>\n",
       "    <tr>\n",
       "      <th>kf</th>\n",
       "      <td>0.032926</td>\n",
       "    </tr>\n",
       "    <tr>\n",
       "      <th>SedUn</th>\n",
       "      <td>0.032282</td>\n",
       "    </tr>\n",
       "  </tbody>\n",
       "</table>\n",
       "</div>"
      ],
      "text/plain": [
       "                   vals\n",
       "peak_i15_mmh   0.145664\n",
       "SuscFrac       0.049150\n",
       "prophm23       0.047755\n",
       "dnbr1000       0.039621\n",
       "fire_interval  0.039300\n",
       "SAV            0.036358\n",
       "kf             0.032926\n",
       "SedUn          0.032282"
      ]
     },
     "execution_count": 32,
     "metadata": {},
     "output_type": "execute_result"
    }
   ],
   "source": [
    "explainer = shap.DeepExplainer(model, X_train_tensor)\n",
    "shap_values = explainer.shap_values(X_test_tensor)\n",
    "print(shap_values.shape)\n",
    "vals = np.abs(shap_values).mean(0)\n",
    "shap_val_df = pd.DataFrame(data=vals, index=X_test.columns, columns=['vals'])\n",
    "shap_val_df = shap_val_df.sort_values(by='vals', ascending=False)\n",
    "shap_val_df"
   ]
  },
  {
   "cell_type": "code",
   "execution_count": 33,
   "metadata": {
    "tags": []
   },
   "outputs": [
    {
     "data": {
      "image/png": "[encoded data removed]",
      "text/plain": [
       "<Figure size 640x480 with 1 Axes>"
      ]
     },
     "metadata": {},
     "output_type": "display_data"
    }
   ],
   "source": [
    "shap_val_df[::-1].plot(kind='barh', title='SHAP Values');"
   ]
  },
  {
   "cell_type": "markdown",
   "metadata": {},
   "source": [
    "## save the model parameters\n",
    "- architecture name + epochs\n",
    "- features / hyperparameters\n",
    "- weights and biases"
   ]
  },
  {
   "cell_type": "code",
   "execution_count": 34,
   "metadata": {
    "tags": []
   },
   "outputs": [
    {
     "name": "stdout",
     "output_type": "stream",
     "text": [
      "parameter json already exists\n"
     ]
    }
   ],
   "source": [
    "# check if parameters file exists\n",
    "# if not, create it\n",
    "import os\n",
    "import json\n",
    "\n",
    "file_path = \"../../model/model_parameters.json\"\n",
    "if os.path.isfile(file_path) == True:\n",
    "    print(\"parameter json already exists\")\n",
    "else:\n",
    "    print(\"created empty json file\")\n",
    "    model_params = {} # create empty dict\n",
    "    with open(file_path, \"w\") as json_file:\n",
    "        json.dump(model_params, json_file)"
   ]
  },
  {
   "cell_type": "code",
   "execution_count": 35,
   "metadata": {
    "tags": []
   },
   "outputs": [],
   "source": [
    "# open the parameters json\n",
    "file_path = \"../../model/model_parameters.json\"\n",
    "with open(file_path) as model_params:\n",
    "    model_params = json.load(model_params)\n",
    "\n",
    "# model_params"
   ]
  },
  {
   "cell_type": "code",
   "execution_count": 36,
   "metadata": {
    "tags": []
   },
   "outputs": [
    {
     "name": "stdout",
     "output_type": "stream",
     "text": [
      "ThreeLayer_1000_epochs_optimized_roc_auc_score\n"
     ]
    },
    {
     "data": {
      "text/plain": [
       "{'features': ['peak_i15_mmh',\n",
       "  'fire_interval',\n",
       "  'SuscFrac',\n",
       "  'prophm23',\n",
       "  'dnbr1000',\n",
       "  'kf',\n",
       "  'SAV',\n",
       "  'SedUn'],\n",
       " 'hidden_size': 250,\n",
       " 'lr': 0.001,\n",
       " 'dropout_rate': 0.15,\n",
       " 'epochs': 1000,\n",
       " 'model_class': 'ThreeLayer',\n",
       " 'weights': 'ThreeLayer_1000_epochs_optimized_roc_auc_score.pth',\n",
       " 'grid_search_metric': 'roc_auc_score',\n",
       " 'performance_summary': {'train_loss': 0.030392227694392204,\n",
       "  'val_loss': 1.9087374210357666,\n",
       "  'train_accuracy': 0.9865771812080537,\n",
       "  'test_accuracy': 0.8376383763837638,\n",
       "  'test_recall': 0.5636363636363636,\n",
       "  'test_f1_score': 0.5849056603773585,\n",
       "  'test_auc': 0.8880050505050505}}"
      ]
     },
     "execution_count": 36,
     "metadata": {},
     "output_type": "execute_result"
    }
   ],
   "source": [
    "# save final model weights\n",
    "architecture = model_name + \"_\" + str(n_epochs) + \"_epochs\" + \"_optimized_\" + chosen_metric\n",
    "torch.save(model.state_dict(), f'../../model/{architecture}.pth')\n",
    "\n",
    "# and hyperparameters\n",
    "new_params = {}\n",
    "new_params['features'] = chosen_features\n",
    "new_params['hidden_size'] = chosen_params['hidden_size']\n",
    "new_params['lr'] = chosen_params['lr']\n",
    "new_params['dropout_rate'] = chosen_params['dropout_rate']\n",
    "new_params['epochs'] = n_epochs\n",
    "new_params['model_class'] = model_name\n",
    "new_params['weights'] = f'{architecture}.pth'\n",
    "new_params['grid_search_metric'] = chosen_metric\n",
    "new_params['performance_summary'] = performance_summary\n",
    "\n",
    "# assign to the json\n",
    "model_params[architecture] = new_params\n",
    "# and view the final output\n",
    "print(architecture)\n",
    "model_params[architecture]"
   ]
  },
  {
   "cell_type": "code",
   "execution_count": 37,
   "metadata": {
    "tags": []
   },
   "outputs": [
    {
     "name": "stdout",
     "output_type": "stream",
     "text": [
      "hyperparameters saved!\n"
     ]
    }
   ],
   "source": [
    "# write out the file\n",
    "file_path = \"../../model/model_parameters.json\"\n",
    "with open(file_path, \"w\") as json_file:\n",
    "    json.dump(model_params, json_file)\n",
    "    print(\"hyperparameters saved!\")"
   ]
  },
  {
   "cell_type": "markdown",
   "metadata": {},
   "source": [
    "# Confusion Matrix <a id=\"MATRIX\">\n",
    "- assess probabilities\n",
    "- is the loss for test set high due to outliers, particular states, etc"
   ]
  },
  {
   "cell_type": "code",
   "execution_count": 38,
   "metadata": {
    "tags": []
   },
   "outputs": [],
   "source": [
    "from sklearn.metrics import confusion_matrix, ConfusionMatrixDisplay\n",
    "import seaborn as sns"
   ]
  },
  {
   "cell_type": "code",
   "execution_count": 39,
   "metadata": {},
   "outputs": [],
   "source": [
    "# bring in full file\n",
    "# will need for geographic assessment of confusion matrix\n",
    "file_path = \"../../data/data_v08_consolidated.parquet\"\n",
    "df = gpd.read_parquet(file_path)"
   ]
  },
  {
   "cell_type": "code",
   "execution_count": 40,
   "metadata": {
    "tags": []
   },
   "outputs": [
    {
     "data": {
      "image/png": "[encoded data removed]",
      "text/plain": [
       "<Figure size 640x480 with 2 Axes>"
      ]
     },
     "metadata": {},
     "output_type": "display_data"
    }
   ],
   "source": [
    "cm = confusion_matrix(y_test_df, y_test_pred_bool)\n",
    "disp = ConfusionMatrixDisplay(confusion_matrix=cm)\n",
    "disp.plot();\n",
    "plt.title('Confusion Matrix');"
   ]
  },
  {
   "cell_type": "code",
   "execution_count": 41,
   "metadata": {
    "tags": []
   },
   "outputs": [],
   "source": [
    "# pd.set_option('display.float_format', lambda x: '%.7f' % x)"
   ]
  },
  {
   "cell_type": "code",
   "execution_count": 42,
   "metadata": {
    "tags": []
   },
   "outputs": [
    {
     "data": {
      "text/html": [
       "<div>\n",
       "<style scoped>\n",
       "    .dataframe tbody tr th:only-of-type {\n",
       "        vertical-align: middle;\n",
       "    }\n",
       "\n",
       "    .dataframe tbody tr th {\n",
       "        vertical-align: top;\n",
       "    }\n",
       "\n",
       "    .dataframe thead th {\n",
       "        text-align: right;\n",
       "    }\n",
       "</style>\n",
       "<table border=\"1\" class=\"dataframe\">\n",
       "  <thead>\n",
       "    <tr style=\"text-align: right;\">\n",
       "      <th></th>\n",
       "      <th>y_test</th>\n",
       "      <th>y_test_pred</th>\n",
       "      <th>pred_correct</th>\n",
       "      <th>y_test_pred_proba</th>\n",
       "      <th>confusion</th>\n",
       "      <th>state</th>\n",
       "    </tr>\n",
       "  </thead>\n",
       "  <tbody>\n",
       "    <tr>\n",
       "      <th>2</th>\n",
       "      <td>0</td>\n",
       "      <td>0</td>\n",
       "      <td>True</td>\n",
       "      <td>1.793416e-22</td>\n",
       "      <td>TN</td>\n",
       "      <td>CA</td>\n",
       "    </tr>\n",
       "    <tr>\n",
       "      <th>6</th>\n",
       "      <td>0</td>\n",
       "      <td>0</td>\n",
       "      <td>True</td>\n",
       "      <td>4.683695e-36</td>\n",
       "      <td>TN</td>\n",
       "      <td>CA</td>\n",
       "    </tr>\n",
       "    <tr>\n",
       "      <th>10</th>\n",
       "      <td>0</td>\n",
       "      <td>0</td>\n",
       "      <td>True</td>\n",
       "      <td>0.000000e+00</td>\n",
       "      <td>TN</td>\n",
       "      <td>CA</td>\n",
       "    </tr>\n",
       "    <tr>\n",
       "      <th>29</th>\n",
       "      <td>1</td>\n",
       "      <td>1</td>\n",
       "      <td>True</td>\n",
       "      <td>9.992036e-01</td>\n",
       "      <td>TP</td>\n",
       "      <td>ID</td>\n",
       "    </tr>\n",
       "    <tr>\n",
       "      <th>35</th>\n",
       "      <td>1</td>\n",
       "      <td>1</td>\n",
       "      <td>True</td>\n",
       "      <td>9.994879e-01</td>\n",
       "      <td>TP</td>\n",
       "      <td>ID</td>\n",
       "    </tr>\n",
       "    <tr>\n",
       "      <th>...</th>\n",
       "      <td>...</td>\n",
       "      <td>...</td>\n",
       "      <td>...</td>\n",
       "      <td>...</td>\n",
       "      <td>...</td>\n",
       "      <td>...</td>\n",
       "    </tr>\n",
       "    <tr>\n",
       "      <th>1446</th>\n",
       "      <td>0</td>\n",
       "      <td>0</td>\n",
       "      <td>True</td>\n",
       "      <td>3.826649e-26</td>\n",
       "      <td>TN</td>\n",
       "      <td>AZ</td>\n",
       "    </tr>\n",
       "    <tr>\n",
       "      <th>1447</th>\n",
       "      <td>0</td>\n",
       "      <td>0</td>\n",
       "      <td>True</td>\n",
       "      <td>4.582559e-01</td>\n",
       "      <td>TN</td>\n",
       "      <td>AZ</td>\n",
       "    </tr>\n",
       "    <tr>\n",
       "      <th>1448</th>\n",
       "      <td>0</td>\n",
       "      <td>0</td>\n",
       "      <td>True</td>\n",
       "      <td>9.125157e-18</td>\n",
       "      <td>TN</td>\n",
       "      <td>AZ</td>\n",
       "    </tr>\n",
       "    <tr>\n",
       "      <th>1449</th>\n",
       "      <td>0</td>\n",
       "      <td>0</td>\n",
       "      <td>True</td>\n",
       "      <td>1.693540e-15</td>\n",
       "      <td>TN</td>\n",
       "      <td>AZ</td>\n",
       "    </tr>\n",
       "    <tr>\n",
       "      <th>1450</th>\n",
       "      <td>0</td>\n",
       "      <td>0</td>\n",
       "      <td>True</td>\n",
       "      <td>7.595851e-32</td>\n",
       "      <td>TN</td>\n",
       "      <td>AZ</td>\n",
       "    </tr>\n",
       "  </tbody>\n",
       "</table>\n",
       "<p>271 rows × 6 columns</p>\n",
       "</div>"
      ],
      "text/plain": [
       "      y_test  y_test_pred  pred_correct  y_test_pred_proba confusion state\n",
       "2          0            0          True       1.793416e-22        TN    CA\n",
       "6          0            0          True       4.683695e-36        TN    CA\n",
       "10         0            0          True       0.000000e+00        TN    CA\n",
       "29         1            1          True       9.992036e-01        TP    ID\n",
       "35         1            1          True       9.994879e-01        TP    ID\n",
       "...      ...          ...           ...                ...       ...   ...\n",
       "1446       0            0          True       3.826649e-26        TN    AZ\n",
       "1447       0            0          True       4.582559e-01        TN    AZ\n",
       "1448       0            0          True       9.125157e-18        TN    AZ\n",
       "1449       0            0          True       1.693540e-15        TN    AZ\n",
       "1450       0            0          True       7.595851e-32        TN    AZ\n",
       "\n",
       "[271 rows x 6 columns]"
      ]
     },
     "execution_count": 42,
     "metadata": {},
     "output_type": "execute_result"
    }
   ],
   "source": [
    "# create dataframe with test values\n",
    "test_assess = pd.DataFrame(y_test_df).astype(int).rename(columns={'response': 'y_test'})\n",
    "# predicted values\n",
    "test_assess['y_test_pred'] = y_test_pred_bool.flatten().astype(int)\n",
    "# whether they are correctly predicted\n",
    "test_assess['pred_correct'] = test_assess['y_test'] == test_assess['y_test_pred']\n",
    "# the probability of the prediction\n",
    "test_assess['y_test_pred_proba'] = y_test_pred_proba.flatten()\n",
    "\n",
    "# create column for confusion matrix\n",
    "# we'll use this to assess the probabilities\n",
    "# there's a dataframe for each of these if needed\n",
    "TP = test_assess[(test_assess['y_test'] == 1) & (test_assess['pred_correct'] == True)]\n",
    "FP = test_assess[(test_assess['y_test'] == 0) & (test_assess['pred_correct'] == False)]\n",
    "TN = test_assess[(test_assess['y_test'] == 0) & (test_assess['pred_correct'] == True)]\n",
    "FN = test_assess[(test_assess['y_test'] == 1) & (test_assess['pred_correct'] == False)]\n",
    "\n",
    "test_assess.loc[TP.index,'confusion'] = 'TP'\n",
    "test_assess.loc[FP.index,'confusion'] = 'FP'\n",
    "test_assess.loc[TN.index,'confusion'] = 'TN'\n",
    "test_assess.loc[FN.index,'confusion'] = 'FN'\n",
    "\n",
    "# bring in the state values\n",
    "test_assess = pd.merge(test_assess, df['state'], how='left', left_index=True, right_index=True)\n",
    "\n",
    "test_assess"
   ]
  },
  {
   "cell_type": "code",
   "execution_count": 43,
   "metadata": {
    "tags": []
   },
   "outputs": [
    {
     "data": {
      "image/png": "[encoded data removed]",
      "text/plain": [
       "<Figure size 640x480 with 1 Axes>"
      ]
     },
     "metadata": {},
     "output_type": "display_data"
    }
   ],
   "source": [
    "# overall probability distribution\n",
    "test_assess['y_test_pred_proba'].hist();"
   ]
  },
  {
   "cell_type": "code",
   "execution_count": 44,
   "metadata": {
    "tags": []
   },
   "outputs": [],
   "source": [
    "# records were there was actually YES debris flow\n",
    "subset = ['TP', 'FN']\n",
    "flows = test_assess[test_assess['confusion'].isin(subset)]\n",
    "\n",
    "# records were there was actually NO debris flow\n",
    "subset = ['TN', 'FP']\n",
    "no_flows = test_assess[test_assess['confusion'].isin(subset)]"
   ]
  },
  {
   "cell_type": "code",
   "execution_count": 45,
   "metadata": {
    "tags": []
   },
   "outputs": [
    {
     "data": {
      "image/png": "[encoded data removed]",
      "text/plain": [
       "<Figure size 570.736x500 with 1 Axes>"
      ]
     },
     "metadata": {},
     "output_type": "display_data"
    }
   ],
   "source": [
    "sns.displot(data=flows, x='y_test_pred_proba', hue='confusion', kde=True);\n",
    "plt.title('Debris Flow: YES');"
   ]
  },
  {
   "cell_type": "code",
   "execution_count": 46,
   "metadata": {
    "tags": []
   },
   "outputs": [
    {
     "data": {
      "image/png": "[encoded data removed]",
      "text/plain": [
       "<Figure size 570.736x500 with 1 Axes>"
      ]
     },
     "metadata": {},
     "output_type": "display_data"
    }
   ],
   "source": [
    "sns.displot(data=no_flows, x='y_test_pred_proba', hue='confusion', kde=True);\n",
    "plt.title('Debris Flow: NO');"
   ]
  },
  {
   "cell_type": "code",
   "execution_count": 47,
   "metadata": {
    "tags": []
   },
   "outputs": [
    {
     "data": {
      "text/html": [
       "<style type=\"text/css\">\n",
       "</style>\n",
       "<table id=\"T_38197\">\n",
       "  <thead>\n",
       "    <tr>\n",
       "      <th class=\"blank level0\" >&nbsp;</th>\n",
       "      <th id=\"T_38197_level0_col0\" class=\"col_heading level0 col0\" >y_test_pred_proba</th>\n",
       "    </tr>\n",
       "  </thead>\n",
       "  <tbody>\n",
       "    <tr>\n",
       "      <th id=\"T_38197_level0_row0\" class=\"row_heading level0 row0\" >2</th>\n",
       "      <td id=\"T_38197_row0_col0\" class=\"data row0 col0\" >0.0000000000</td>\n",
       "    </tr>\n",
       "    <tr>\n",
       "      <th id=\"T_38197_level0_row1\" class=\"row_heading level0 row1\" >6</th>\n",
       "      <td id=\"T_38197_row1_col0\" class=\"data row1 col0\" >0.0000000000</td>\n",
       "    </tr>\n",
       "    <tr>\n",
       "      <th id=\"T_38197_level0_row2\" class=\"row_heading level0 row2\" >10</th>\n",
       "      <td id=\"T_38197_row2_col0\" class=\"data row2 col0\" >0.0000000000</td>\n",
       "    </tr>\n",
       "    <tr>\n",
       "      <th id=\"T_38197_level0_row3\" class=\"row_heading level0 row3\" >36</th>\n",
       "      <td id=\"T_38197_row3_col0\" class=\"data row3 col0\" >0.9910939336</td>\n",
       "    </tr>\n",
       "    <tr>\n",
       "      <th id=\"T_38197_level0_row4\" class=\"row_heading level0 row4\" >44</th>\n",
       "      <td id=\"T_38197_row4_col0\" class=\"data row4 col0\" >0.0000000000</td>\n",
       "    </tr>\n",
       "    <tr>\n",
       "      <th id=\"T_38197_level0_row5\" class=\"row_heading level0 row5\" >46</th>\n",
       "      <td id=\"T_38197_row5_col0\" class=\"data row5 col0\" >0.0000000000</td>\n",
       "    </tr>\n",
       "    <tr>\n",
       "      <th id=\"T_38197_level0_row6\" class=\"row_heading level0 row6\" >49</th>\n",
       "      <td id=\"T_38197_row6_col0\" class=\"data row6 col0\" >0.0000000000</td>\n",
       "    </tr>\n",
       "    <tr>\n",
       "      <th id=\"T_38197_level0_row7\" class=\"row_heading level0 row7\" >60</th>\n",
       "      <td id=\"T_38197_row7_col0\" class=\"data row7 col0\" >0.0000000000</td>\n",
       "    </tr>\n",
       "    <tr>\n",
       "      <th id=\"T_38197_level0_row8\" class=\"row_heading level0 row8\" >61</th>\n",
       "      <td id=\"T_38197_row8_col0\" class=\"data row8 col0\" >0.0000000000</td>\n",
       "    </tr>\n",
       "    <tr>\n",
       "      <th id=\"T_38197_level0_row9\" class=\"row_heading level0 row9\" >71</th>\n",
       "      <td id=\"T_38197_row9_col0\" class=\"data row9 col0\" >0.0000000000</td>\n",
       "    </tr>\n",
       "    <tr>\n",
       "      <th id=\"T_38197_level0_row10\" class=\"row_heading level0 row10\" >77</th>\n",
       "      <td id=\"T_38197_row10_col0\" class=\"data row10 col0\" >0.0000000000</td>\n",
       "    </tr>\n",
       "    <tr>\n",
       "      <th id=\"T_38197_level0_row11\" class=\"row_heading level0 row11\" >78</th>\n",
       "      <td id=\"T_38197_row11_col0\" class=\"data row11 col0\" >0.0000000000</td>\n",
       "    </tr>\n",
       "    <tr>\n",
       "      <th id=\"T_38197_level0_row12\" class=\"row_heading level0 row12\" >79</th>\n",
       "      <td id=\"T_38197_row12_col0\" class=\"data row12 col0\" >0.0000000000</td>\n",
       "    </tr>\n",
       "    <tr>\n",
       "      <th id=\"T_38197_level0_row13\" class=\"row_heading level0 row13\" >81</th>\n",
       "      <td id=\"T_38197_row13_col0\" class=\"data row13 col0\" >0.0000000000</td>\n",
       "    </tr>\n",
       "    <tr>\n",
       "      <th id=\"T_38197_level0_row14\" class=\"row_heading level0 row14\" >82</th>\n",
       "      <td id=\"T_38197_row14_col0\" class=\"data row14 col0\" >0.0000000000</td>\n",
       "    </tr>\n",
       "    <tr>\n",
       "      <th id=\"T_38197_level0_row15\" class=\"row_heading level0 row15\" >83</th>\n",
       "      <td id=\"T_38197_row15_col0\" class=\"data row15 col0\" >0.0000000000</td>\n",
       "    </tr>\n",
       "    <tr>\n",
       "      <th id=\"T_38197_level0_row16\" class=\"row_heading level0 row16\" >93</th>\n",
       "      <td id=\"T_38197_row16_col0\" class=\"data row16 col0\" >0.0000000000</td>\n",
       "    </tr>\n",
       "    <tr>\n",
       "      <th id=\"T_38197_level0_row17\" class=\"row_heading level0 row17\" >94</th>\n",
       "      <td id=\"T_38197_row17_col0\" class=\"data row17 col0\" >0.0000000000</td>\n",
       "    </tr>\n",
       "    <tr>\n",
       "      <th id=\"T_38197_level0_row18\" class=\"row_heading level0 row18\" >95</th>\n",
       "      <td id=\"T_38197_row18_col0\" class=\"data row18 col0\" >0.0000000000</td>\n",
       "    </tr>\n",
       "    <tr>\n",
       "      <th id=\"T_38197_level0_row19\" class=\"row_heading level0 row19\" >96</th>\n",
       "      <td id=\"T_38197_row19_col0\" class=\"data row19 col0\" >0.0000000000</td>\n",
       "    </tr>\n",
       "    <tr>\n",
       "      <th id=\"T_38197_level0_row20\" class=\"row_heading level0 row20\" >97</th>\n",
       "      <td id=\"T_38197_row20_col0\" class=\"data row20 col0\" >0.0000000000</td>\n",
       "    </tr>\n",
       "    <tr>\n",
       "      <th id=\"T_38197_level0_row21\" class=\"row_heading level0 row21\" >98</th>\n",
       "      <td id=\"T_38197_row21_col0\" class=\"data row21 col0\" >0.0000000000</td>\n",
       "    </tr>\n",
       "    <tr>\n",
       "      <th id=\"T_38197_level0_row22\" class=\"row_heading level0 row22\" >102</th>\n",
       "      <td id=\"T_38197_row22_col0\" class=\"data row22 col0\" >0.0000000000</td>\n",
       "    </tr>\n",
       "    <tr>\n",
       "      <th id=\"T_38197_level0_row23\" class=\"row_heading level0 row23\" >103</th>\n",
       "      <td id=\"T_38197_row23_col0\" class=\"data row23 col0\" >0.0000000000</td>\n",
       "    </tr>\n",
       "    <tr>\n",
       "      <th id=\"T_38197_level0_row24\" class=\"row_heading level0 row24\" >104</th>\n",
       "      <td id=\"T_38197_row24_col0\" class=\"data row24 col0\" >0.0000000000</td>\n",
       "    </tr>\n",
       "    <tr>\n",
       "      <th id=\"T_38197_level0_row25\" class=\"row_heading level0 row25\" >114</th>\n",
       "      <td id=\"T_38197_row25_col0\" class=\"data row25 col0\" >0.0000000000</td>\n",
       "    </tr>\n",
       "    <tr>\n",
       "      <th id=\"T_38197_level0_row26\" class=\"row_heading level0 row26\" >115</th>\n",
       "      <td id=\"T_38197_row26_col0\" class=\"data row26 col0\" >0.0000000000</td>\n",
       "    </tr>\n",
       "    <tr>\n",
       "      <th id=\"T_38197_level0_row27\" class=\"row_heading level0 row27\" >116</th>\n",
       "      <td id=\"T_38197_row27_col0\" class=\"data row27 col0\" >0.0000000000</td>\n",
       "    </tr>\n",
       "    <tr>\n",
       "      <th id=\"T_38197_level0_row28\" class=\"row_heading level0 row28\" >117</th>\n",
       "      <td id=\"T_38197_row28_col0\" class=\"data row28 col0\" >0.0000000000</td>\n",
       "    </tr>\n",
       "    <tr>\n",
       "      <th id=\"T_38197_level0_row29\" class=\"row_heading level0 row29\" >118</th>\n",
       "      <td id=\"T_38197_row29_col0\" class=\"data row29 col0\" >0.0000000000</td>\n",
       "    </tr>\n",
       "    <tr>\n",
       "      <th id=\"T_38197_level0_row30\" class=\"row_heading level0 row30\" >119</th>\n",
       "      <td id=\"T_38197_row30_col0\" class=\"data row30 col0\" >0.0000000000</td>\n",
       "    </tr>\n",
       "    <tr>\n",
       "      <th id=\"T_38197_level0_row31\" class=\"row_heading level0 row31\" >120</th>\n",
       "      <td id=\"T_38197_row31_col0\" class=\"data row31 col0\" >0.0000000000</td>\n",
       "    </tr>\n",
       "    <tr>\n",
       "      <th id=\"T_38197_level0_row32\" class=\"row_heading level0 row32\" >121</th>\n",
       "      <td id=\"T_38197_row32_col0\" class=\"data row32 col0\" >0.0000000000</td>\n",
       "    </tr>\n",
       "    <tr>\n",
       "      <th id=\"T_38197_level0_row33\" class=\"row_heading level0 row33\" >122</th>\n",
       "      <td id=\"T_38197_row33_col0\" class=\"data row33 col0\" >0.0000000000</td>\n",
       "    </tr>\n",
       "    <tr>\n",
       "      <th id=\"T_38197_level0_row34\" class=\"row_heading level0 row34\" >129</th>\n",
       "      <td id=\"T_38197_row34_col0\" class=\"data row34 col0\" >0.0000000000</td>\n",
       "    </tr>\n",
       "    <tr>\n",
       "      <th id=\"T_38197_level0_row35\" class=\"row_heading level0 row35\" >130</th>\n",
       "      <td id=\"T_38197_row35_col0\" class=\"data row35 col0\" >0.0000000000</td>\n",
       "    </tr>\n",
       "    <tr>\n",
       "      <th id=\"T_38197_level0_row36\" class=\"row_heading level0 row36\" >131</th>\n",
       "      <td id=\"T_38197_row36_col0\" class=\"data row36 col0\" >0.0000000000</td>\n",
       "    </tr>\n",
       "    <tr>\n",
       "      <th id=\"T_38197_level0_row37\" class=\"row_heading level0 row37\" >144</th>\n",
       "      <td id=\"T_38197_row37_col0\" class=\"data row37 col0\" >0.0000000000</td>\n",
       "    </tr>\n",
       "    <tr>\n",
       "      <th id=\"T_38197_level0_row38\" class=\"row_heading level0 row38\" >145</th>\n",
       "      <td id=\"T_38197_row38_col0\" class=\"data row38 col0\" >0.0000000000</td>\n",
       "    </tr>\n",
       "    <tr>\n",
       "      <th id=\"T_38197_level0_row39\" class=\"row_heading level0 row39\" >146</th>\n",
       "      <td id=\"T_38197_row39_col0\" class=\"data row39 col0\" >0.0000000000</td>\n",
       "    </tr>\n",
       "    <tr>\n",
       "      <th id=\"T_38197_level0_row40\" class=\"row_heading level0 row40\" >156</th>\n",
       "      <td id=\"T_38197_row40_col0\" class=\"data row40 col0\" >0.0000000000</td>\n",
       "    </tr>\n",
       "    <tr>\n",
       "      <th id=\"T_38197_level0_row41\" class=\"row_heading level0 row41\" >157</th>\n",
       "      <td id=\"T_38197_row41_col0\" class=\"data row41 col0\" >0.0000000000</td>\n",
       "    </tr>\n",
       "    <tr>\n",
       "      <th id=\"T_38197_level0_row42\" class=\"row_heading level0 row42\" >158</th>\n",
       "      <td id=\"T_38197_row42_col0\" class=\"data row42 col0\" >0.0000000000</td>\n",
       "    </tr>\n",
       "    <tr>\n",
       "      <th id=\"T_38197_level0_row43\" class=\"row_heading level0 row43\" >192</th>\n",
       "      <td id=\"T_38197_row43_col0\" class=\"data row43 col0\" >0.0000000000</td>\n",
       "    </tr>\n",
       "    <tr>\n",
       "      <th id=\"T_38197_level0_row44\" class=\"row_heading level0 row44\" >193</th>\n",
       "      <td id=\"T_38197_row44_col0\" class=\"data row44 col0\" >0.0000000000</td>\n",
       "    </tr>\n",
       "    <tr>\n",
       "      <th id=\"T_38197_level0_row45\" class=\"row_heading level0 row45\" >194</th>\n",
       "      <td id=\"T_38197_row45_col0\" class=\"data row45 col0\" >0.0000000000</td>\n",
       "    </tr>\n",
       "    <tr>\n",
       "      <th id=\"T_38197_level0_row46\" class=\"row_heading level0 row46\" >213</th>\n",
       "      <td id=\"T_38197_row46_col0\" class=\"data row46 col0\" >0.0000000000</td>\n",
       "    </tr>\n",
       "    <tr>\n",
       "      <th id=\"T_38197_level0_row47\" class=\"row_heading level0 row47\" >214</th>\n",
       "      <td id=\"T_38197_row47_col0\" class=\"data row47 col0\" >0.0000000000</td>\n",
       "    </tr>\n",
       "    <tr>\n",
       "      <th id=\"T_38197_level0_row48\" class=\"row_heading level0 row48\" >215</th>\n",
       "      <td id=\"T_38197_row48_col0\" class=\"data row48 col0\" >0.0000000000</td>\n",
       "    </tr>\n",
       "    <tr>\n",
       "      <th id=\"T_38197_level0_row49\" class=\"row_heading level0 row49\" >216</th>\n",
       "      <td id=\"T_38197_row49_col0\" class=\"data row49 col0\" >0.0000000000</td>\n",
       "    </tr>\n",
       "    <tr>\n",
       "      <th id=\"T_38197_level0_row50\" class=\"row_heading level0 row50\" >241</th>\n",
       "      <td id=\"T_38197_row50_col0\" class=\"data row50 col0\" >0.0000000000</td>\n",
       "    </tr>\n",
       "    <tr>\n",
       "      <th id=\"T_38197_level0_row51\" class=\"row_heading level0 row51\" >242</th>\n",
       "      <td id=\"T_38197_row51_col0\" class=\"data row51 col0\" >0.0000000066</td>\n",
       "    </tr>\n",
       "    <tr>\n",
       "      <th id=\"T_38197_level0_row52\" class=\"row_heading level0 row52\" >243</th>\n",
       "      <td id=\"T_38197_row52_col0\" class=\"data row52 col0\" >0.0000000000</td>\n",
       "    </tr>\n",
       "    <tr>\n",
       "      <th id=\"T_38197_level0_row53\" class=\"row_heading level0 row53\" >247</th>\n",
       "      <td id=\"T_38197_row53_col0\" class=\"data row53 col0\" >0.9999998808</td>\n",
       "    </tr>\n",
       "    <tr>\n",
       "      <th id=\"T_38197_level0_row54\" class=\"row_heading level0 row54\" >248</th>\n",
       "      <td id=\"T_38197_row54_col0\" class=\"data row54 col0\" >0.0000000000</td>\n",
       "    </tr>\n",
       "    <tr>\n",
       "      <th id=\"T_38197_level0_row55\" class=\"row_heading level0 row55\" >249</th>\n",
       "      <td id=\"T_38197_row55_col0\" class=\"data row55 col0\" >0.0000000000</td>\n",
       "    </tr>\n",
       "    <tr>\n",
       "      <th id=\"T_38197_level0_row56\" class=\"row_heading level0 row56\" >276</th>\n",
       "      <td id=\"T_38197_row56_col0\" class=\"data row56 col0\" >0.0000005876</td>\n",
       "    </tr>\n",
       "    <tr>\n",
       "      <th id=\"T_38197_level0_row57\" class=\"row_heading level0 row57\" >277</th>\n",
       "      <td id=\"T_38197_row57_col0\" class=\"data row57 col0\" >0.0013193765</td>\n",
       "    </tr>\n",
       "    <tr>\n",
       "      <th id=\"T_38197_level0_row58\" class=\"row_heading level0 row58\" >278</th>\n",
       "      <td id=\"T_38197_row58_col0\" class=\"data row58 col0\" >0.0000000000</td>\n",
       "    </tr>\n",
       "    <tr>\n",
       "      <th id=\"T_38197_level0_row59\" class=\"row_heading level0 row59\" >279</th>\n",
       "      <td id=\"T_38197_row59_col0\" class=\"data row59 col0\" >0.0004019345</td>\n",
       "    </tr>\n",
       "    <tr>\n",
       "      <th id=\"T_38197_level0_row60\" class=\"row_heading level0 row60\" >280</th>\n",
       "      <td id=\"T_38197_row60_col0\" class=\"data row60 col0\" >0.0000001310</td>\n",
       "    </tr>\n",
       "    <tr>\n",
       "      <th id=\"T_38197_level0_row61\" class=\"row_heading level0 row61\" >281</th>\n",
       "      <td id=\"T_38197_row61_col0\" class=\"data row61 col0\" >0.0000000000</td>\n",
       "    </tr>\n",
       "    <tr>\n",
       "      <th id=\"T_38197_level0_row62\" class=\"row_heading level0 row62\" >282</th>\n",
       "      <td id=\"T_38197_row62_col0\" class=\"data row62 col0\" >0.0099760415</td>\n",
       "    </tr>\n",
       "    <tr>\n",
       "      <th id=\"T_38197_level0_row63\" class=\"row_heading level0 row63\" >283</th>\n",
       "      <td id=\"T_38197_row63_col0\" class=\"data row63 col0\" >0.0000000266</td>\n",
       "    </tr>\n",
       "    <tr>\n",
       "      <th id=\"T_38197_level0_row64\" class=\"row_heading level0 row64\" >284</th>\n",
       "      <td id=\"T_38197_row64_col0\" class=\"data row64 col0\" >0.0000000000</td>\n",
       "    </tr>\n",
       "    <tr>\n",
       "      <th id=\"T_38197_level0_row65\" class=\"row_heading level0 row65\" >288</th>\n",
       "      <td id=\"T_38197_row65_col0\" class=\"data row65 col0\" >0.0019264404</td>\n",
       "    </tr>\n",
       "    <tr>\n",
       "      <th id=\"T_38197_level0_row66\" class=\"row_heading level0 row66\" >289</th>\n",
       "      <td id=\"T_38197_row66_col0\" class=\"data row66 col0\" >0.0084785055</td>\n",
       "    </tr>\n",
       "    <tr>\n",
       "      <th id=\"T_38197_level0_row67\" class=\"row_heading level0 row67\" >290</th>\n",
       "      <td id=\"T_38197_row67_col0\" class=\"data row67 col0\" >0.0000000000</td>\n",
       "    </tr>\n",
       "    <tr>\n",
       "      <th id=\"T_38197_level0_row68\" class=\"row_heading level0 row68\" >291</th>\n",
       "      <td id=\"T_38197_row68_col0\" class=\"data row68 col0\" >0.0001516022</td>\n",
       "    </tr>\n",
       "    <tr>\n",
       "      <th id=\"T_38197_level0_row69\" class=\"row_heading level0 row69\" >292</th>\n",
       "      <td id=\"T_38197_row69_col0\" class=\"data row69 col0\" >0.0000000019</td>\n",
       "    </tr>\n",
       "    <tr>\n",
       "      <th id=\"T_38197_level0_row70\" class=\"row_heading level0 row70\" >293</th>\n",
       "      <td id=\"T_38197_row70_col0\" class=\"data row70 col0\" >0.0000000000</td>\n",
       "    </tr>\n",
       "    <tr>\n",
       "      <th id=\"T_38197_level0_row71\" class=\"row_heading level0 row71\" >320</th>\n",
       "      <td id=\"T_38197_row71_col0\" class=\"data row71 col0\" >0.2641566694</td>\n",
       "    </tr>\n",
       "    <tr>\n",
       "      <th id=\"T_38197_level0_row72\" class=\"row_heading level0 row72\" >323</th>\n",
       "      <td id=\"T_38197_row72_col0\" class=\"data row72 col0\" >0.9899104238</td>\n",
       "    </tr>\n",
       "    <tr>\n",
       "      <th id=\"T_38197_level0_row73\" class=\"row_heading level0 row73\" >330</th>\n",
       "      <td id=\"T_38197_row73_col0\" class=\"data row73 col0\" >0.6929199696</td>\n",
       "    </tr>\n",
       "    <tr>\n",
       "      <th id=\"T_38197_level0_row74\" class=\"row_heading level0 row74\" >333</th>\n",
       "      <td id=\"T_38197_row74_col0\" class=\"data row74 col0\" >0.0000000000</td>\n",
       "    </tr>\n",
       "    <tr>\n",
       "      <th id=\"T_38197_level0_row75\" class=\"row_heading level0 row75\" >339</th>\n",
       "      <td id=\"T_38197_row75_col0\" class=\"data row75 col0\" >0.0076251854</td>\n",
       "    </tr>\n",
       "    <tr>\n",
       "      <th id=\"T_38197_level0_row76\" class=\"row_heading level0 row76\" >340</th>\n",
       "      <td id=\"T_38197_row76_col0\" class=\"data row76 col0\" >0.0000000000</td>\n",
       "    </tr>\n",
       "    <tr>\n",
       "      <th id=\"T_38197_level0_row77\" class=\"row_heading level0 row77\" >341</th>\n",
       "      <td id=\"T_38197_row77_col0\" class=\"data row77 col0\" >0.0000000084</td>\n",
       "    </tr>\n",
       "    <tr>\n",
       "      <th id=\"T_38197_level0_row78\" class=\"row_heading level0 row78\" >342</th>\n",
       "      <td id=\"T_38197_row78_col0\" class=\"data row78 col0\" >0.0549612381</td>\n",
       "    </tr>\n",
       "    <tr>\n",
       "      <th id=\"T_38197_level0_row79\" class=\"row_heading level0 row79\" >343</th>\n",
       "      <td id=\"T_38197_row79_col0\" class=\"data row79 col0\" >0.0000000000</td>\n",
       "    </tr>\n",
       "    <tr>\n",
       "      <th id=\"T_38197_level0_row80\" class=\"row_heading level0 row80\" >344</th>\n",
       "      <td id=\"T_38197_row80_col0\" class=\"data row80 col0\" >0.0000002867</td>\n",
       "    </tr>\n",
       "    <tr>\n",
       "      <th id=\"T_38197_level0_row81\" class=\"row_heading level0 row81\" >385</th>\n",
       "      <td id=\"T_38197_row81_col0\" class=\"data row81 col0\" >0.2768353522</td>\n",
       "    </tr>\n",
       "    <tr>\n",
       "      <th id=\"T_38197_level0_row82\" class=\"row_heading level0 row82\" >419</th>\n",
       "      <td id=\"T_38197_row82_col0\" class=\"data row82 col0\" >0.9996763468</td>\n",
       "    </tr>\n",
       "    <tr>\n",
       "      <th id=\"T_38197_level0_row83\" class=\"row_heading level0 row83\" >420</th>\n",
       "      <td id=\"T_38197_row83_col0\" class=\"data row83 col0\" >0.0808630511</td>\n",
       "    </tr>\n",
       "    <tr>\n",
       "      <th id=\"T_38197_level0_row84\" class=\"row_heading level0 row84\" >421</th>\n",
       "      <td id=\"T_38197_row84_col0\" class=\"data row84 col0\" >0.0000000001</td>\n",
       "    </tr>\n",
       "    <tr>\n",
       "      <th id=\"T_38197_level0_row85\" class=\"row_heading level0 row85\" >436</th>\n",
       "      <td id=\"T_38197_row85_col0\" class=\"data row85 col0\" >0.9999544621</td>\n",
       "    </tr>\n",
       "    <tr>\n",
       "      <th id=\"T_38197_level0_row86\" class=\"row_heading level0 row86\" >459</th>\n",
       "      <td id=\"T_38197_row86_col0\" class=\"data row86 col0\" >0.0017889729</td>\n",
       "    </tr>\n",
       "    <tr>\n",
       "      <th id=\"T_38197_level0_row87\" class=\"row_heading level0 row87\" >466</th>\n",
       "      <td id=\"T_38197_row87_col0\" class=\"data row87 col0\" >0.0000000003</td>\n",
       "    </tr>\n",
       "    <tr>\n",
       "      <th id=\"T_38197_level0_row88\" class=\"row_heading level0 row88\" >467</th>\n",
       "      <td id=\"T_38197_row88_col0\" class=\"data row88 col0\" >0.0000000000</td>\n",
       "    </tr>\n",
       "    <tr>\n",
       "      <th id=\"T_38197_level0_row89\" class=\"row_heading level0 row89\" >468</th>\n",
       "      <td id=\"T_38197_row89_col0\" class=\"data row89 col0\" >0.0000000000</td>\n",
       "    </tr>\n",
       "    <tr>\n",
       "      <th id=\"T_38197_level0_row90\" class=\"row_heading level0 row90\" >469</th>\n",
       "      <td id=\"T_38197_row90_col0\" class=\"data row90 col0\" >0.0000000000</td>\n",
       "    </tr>\n",
       "    <tr>\n",
       "      <th id=\"T_38197_level0_row91\" class=\"row_heading level0 row91\" >486</th>\n",
       "      <td id=\"T_38197_row91_col0\" class=\"data row91 col0\" >0.0000004848</td>\n",
       "    </tr>\n",
       "    <tr>\n",
       "      <th id=\"T_38197_level0_row92\" class=\"row_heading level0 row92\" >487</th>\n",
       "      <td id=\"T_38197_row92_col0\" class=\"data row92 col0\" >0.0000211388</td>\n",
       "    </tr>\n",
       "    <tr>\n",
       "      <th id=\"T_38197_level0_row93\" class=\"row_heading level0 row93\" >488</th>\n",
       "      <td id=\"T_38197_row93_col0\" class=\"data row93 col0\" >0.0011013257</td>\n",
       "    </tr>\n",
       "    <tr>\n",
       "      <th id=\"T_38197_level0_row94\" class=\"row_heading level0 row94\" >521</th>\n",
       "      <td id=\"T_38197_row94_col0\" class=\"data row94 col0\" >0.0144868223</td>\n",
       "    </tr>\n",
       "    <tr>\n",
       "      <th id=\"T_38197_level0_row95\" class=\"row_heading level0 row95\" >522</th>\n",
       "      <td id=\"T_38197_row95_col0\" class=\"data row95 col0\" >0.8779392838</td>\n",
       "    </tr>\n",
       "    <tr>\n",
       "      <th id=\"T_38197_level0_row96\" class=\"row_heading level0 row96\" >547</th>\n",
       "      <td id=\"T_38197_row96_col0\" class=\"data row96 col0\" >0.6324868798</td>\n",
       "    </tr>\n",
       "    <tr>\n",
       "      <th id=\"T_38197_level0_row97\" class=\"row_heading level0 row97\" >548</th>\n",
       "      <td id=\"T_38197_row97_col0\" class=\"data row97 col0\" >0.9929422140</td>\n",
       "    </tr>\n",
       "    <tr>\n",
       "      <th id=\"T_38197_level0_row98\" class=\"row_heading level0 row98\" >559</th>\n",
       "      <td id=\"T_38197_row98_col0\" class=\"data row98 col0\" >0.9999454021</td>\n",
       "    </tr>\n",
       "    <tr>\n",
       "      <th id=\"T_38197_level0_row99\" class=\"row_heading level0 row99\" >560</th>\n",
       "      <td id=\"T_38197_row99_col0\" class=\"data row99 col0\" >1.0000000000</td>\n",
       "    </tr>\n",
       "    <tr>\n",
       "      <th id=\"T_38197_level0_row100\" class=\"row_heading level0 row100\" >561</th>\n",
       "      <td id=\"T_38197_row100_col0\" class=\"data row100 col0\" >0.0000000000</td>\n",
       "    </tr>\n",
       "    <tr>\n",
       "      <th id=\"T_38197_level0_row101\" class=\"row_heading level0 row101\" >568</th>\n",
       "      <td id=\"T_38197_row101_col0\" class=\"data row101 col0\" >0.9973922968</td>\n",
       "    </tr>\n",
       "    <tr>\n",
       "      <th id=\"T_38197_level0_row102\" class=\"row_heading level0 row102\" >573</th>\n",
       "      <td id=\"T_38197_row102_col0\" class=\"data row102 col0\" >0.0000000000</td>\n",
       "    </tr>\n",
       "    <tr>\n",
       "      <th id=\"T_38197_level0_row103\" class=\"row_heading level0 row103\" >574</th>\n",
       "      <td id=\"T_38197_row103_col0\" class=\"data row103 col0\" >0.0620677620</td>\n",
       "    </tr>\n",
       "    <tr>\n",
       "      <th id=\"T_38197_level0_row104\" class=\"row_heading level0 row104\" >590</th>\n",
       "      <td id=\"T_38197_row104_col0\" class=\"data row104 col0\" >0.9970615506</td>\n",
       "    </tr>\n",
       "    <tr>\n",
       "      <th id=\"T_38197_level0_row105\" class=\"row_heading level0 row105\" >621</th>\n",
       "      <td id=\"T_38197_row105_col0\" class=\"data row105 col0\" >1.0000000000</td>\n",
       "    </tr>\n",
       "    <tr>\n",
       "      <th id=\"T_38197_level0_row106\" class=\"row_heading level0 row106\" >622</th>\n",
       "      <td id=\"T_38197_row106_col0\" class=\"data row106 col0\" >0.5709825754</td>\n",
       "    </tr>\n",
       "    <tr>\n",
       "      <th id=\"T_38197_level0_row107\" class=\"row_heading level0 row107\" >624</th>\n",
       "      <td id=\"T_38197_row107_col0\" class=\"data row107 col0\" >0.0000000000</td>\n",
       "    </tr>\n",
       "    <tr>\n",
       "      <th id=\"T_38197_level0_row108\" class=\"row_heading level0 row108\" >630</th>\n",
       "      <td id=\"T_38197_row108_col0\" class=\"data row108 col0\" >0.9983774424</td>\n",
       "    </tr>\n",
       "    <tr>\n",
       "      <th id=\"T_38197_level0_row109\" class=\"row_heading level0 row109\" >636</th>\n",
       "      <td id=\"T_38197_row109_col0\" class=\"data row109 col0\" >0.0000000000</td>\n",
       "    </tr>\n",
       "    <tr>\n",
       "      <th id=\"T_38197_level0_row110\" class=\"row_heading level0 row110\" >647</th>\n",
       "      <td id=\"T_38197_row110_col0\" class=\"data row110 col0\" >0.0000000000</td>\n",
       "    </tr>\n",
       "    <tr>\n",
       "      <th id=\"T_38197_level0_row111\" class=\"row_heading level0 row111\" >648</th>\n",
       "      <td id=\"T_38197_row111_col0\" class=\"data row111 col0\" >0.0000000000</td>\n",
       "    </tr>\n",
       "    <tr>\n",
       "      <th id=\"T_38197_level0_row112\" class=\"row_heading level0 row112\" >649</th>\n",
       "      <td id=\"T_38197_row112_col0\" class=\"data row112 col0\" >0.0000000000</td>\n",
       "    </tr>\n",
       "    <tr>\n",
       "      <th id=\"T_38197_level0_row113\" class=\"row_heading level0 row113\" >650</th>\n",
       "      <td id=\"T_38197_row113_col0\" class=\"data row113 col0\" >0.0000012155</td>\n",
       "    </tr>\n",
       "    <tr>\n",
       "      <th id=\"T_38197_level0_row114\" class=\"row_heading level0 row114\" >668</th>\n",
       "      <td id=\"T_38197_row114_col0\" class=\"data row114 col0\" >0.4982043803</td>\n",
       "    </tr>\n",
       "    <tr>\n",
       "      <th id=\"T_38197_level0_row115\" class=\"row_heading level0 row115\" >669</th>\n",
       "      <td id=\"T_38197_row115_col0\" class=\"data row115 col0\" >0.0000000000</td>\n",
       "    </tr>\n",
       "    <tr>\n",
       "      <th id=\"T_38197_level0_row116\" class=\"row_heading level0 row116\" >670</th>\n",
       "      <td id=\"T_38197_row116_col0\" class=\"data row116 col0\" >0.0000000000</td>\n",
       "    </tr>\n",
       "    <tr>\n",
       "      <th id=\"T_38197_level0_row117\" class=\"row_heading level0 row117\" >671</th>\n",
       "      <td id=\"T_38197_row117_col0\" class=\"data row117 col0\" >0.0000000000</td>\n",
       "    </tr>\n",
       "    <tr>\n",
       "      <th id=\"T_38197_level0_row118\" class=\"row_heading level0 row118\" >672</th>\n",
       "      <td id=\"T_38197_row118_col0\" class=\"data row118 col0\" >0.0000000000</td>\n",
       "    </tr>\n",
       "    <tr>\n",
       "      <th id=\"T_38197_level0_row119\" class=\"row_heading level0 row119\" >694</th>\n",
       "      <td id=\"T_38197_row119_col0\" class=\"data row119 col0\" >0.0000000008</td>\n",
       "    </tr>\n",
       "    <tr>\n",
       "      <th id=\"T_38197_level0_row120\" class=\"row_heading level0 row120\" >695</th>\n",
       "      <td id=\"T_38197_row120_col0\" class=\"data row120 col0\" >0.0000000000</td>\n",
       "    </tr>\n",
       "    <tr>\n",
       "      <th id=\"T_38197_level0_row121\" class=\"row_heading level0 row121\" >696</th>\n",
       "      <td id=\"T_38197_row121_col0\" class=\"data row121 col0\" >0.0001820445</td>\n",
       "    </tr>\n",
       "    <tr>\n",
       "      <th id=\"T_38197_level0_row122\" class=\"row_heading level0 row122\" >703</th>\n",
       "      <td id=\"T_38197_row122_col0\" class=\"data row122 col0\" >0.0000000000</td>\n",
       "    </tr>\n",
       "    <tr>\n",
       "      <th id=\"T_38197_level0_row123\" class=\"row_heading level0 row123\" >704</th>\n",
       "      <td id=\"T_38197_row123_col0\" class=\"data row123 col0\" >0.0000000000</td>\n",
       "    </tr>\n",
       "    <tr>\n",
       "      <th id=\"T_38197_level0_row124\" class=\"row_heading level0 row124\" >705</th>\n",
       "      <td id=\"T_38197_row124_col0\" class=\"data row124 col0\" >0.0000000000</td>\n",
       "    </tr>\n",
       "    <tr>\n",
       "      <th id=\"T_38197_level0_row125\" class=\"row_heading level0 row125\" >706</th>\n",
       "      <td id=\"T_38197_row125_col0\" class=\"data row125 col0\" >0.0000000000</td>\n",
       "    </tr>\n",
       "    <tr>\n",
       "      <th id=\"T_38197_level0_row126\" class=\"row_heading level0 row126\" >707</th>\n",
       "      <td id=\"T_38197_row126_col0\" class=\"data row126 col0\" >0.0000000000</td>\n",
       "    </tr>\n",
       "    <tr>\n",
       "      <th id=\"T_38197_level0_row127\" class=\"row_heading level0 row127\" >726</th>\n",
       "      <td id=\"T_38197_row127_col0\" class=\"data row127 col0\" >0.0000000000</td>\n",
       "    </tr>\n",
       "    <tr>\n",
       "      <th id=\"T_38197_level0_row128\" class=\"row_heading level0 row128\" >731</th>\n",
       "      <td id=\"T_38197_row128_col0\" class=\"data row128 col0\" >0.0000000000</td>\n",
       "    </tr>\n",
       "    <tr>\n",
       "      <th id=\"T_38197_level0_row129\" class=\"row_heading level0 row129\" >732</th>\n",
       "      <td id=\"T_38197_row129_col0\" class=\"data row129 col0\" >0.0000000059</td>\n",
       "    </tr>\n",
       "    <tr>\n",
       "      <th id=\"T_38197_level0_row130\" class=\"row_heading level0 row130\" >744</th>\n",
       "      <td id=\"T_38197_row130_col0\" class=\"data row130 col0\" >0.0000000012</td>\n",
       "    </tr>\n",
       "    <tr>\n",
       "      <th id=\"T_38197_level0_row131\" class=\"row_heading level0 row131\" >802</th>\n",
       "      <td id=\"T_38197_row131_col0\" class=\"data row131 col0\" >0.0000000000</td>\n",
       "    </tr>\n",
       "    <tr>\n",
       "      <th id=\"T_38197_level0_row132\" class=\"row_heading level0 row132\" >803</th>\n",
       "      <td id=\"T_38197_row132_col0\" class=\"data row132 col0\" >0.0000004533</td>\n",
       "    </tr>\n",
       "    <tr>\n",
       "      <th id=\"T_38197_level0_row133\" class=\"row_heading level0 row133\" >822</th>\n",
       "      <td id=\"T_38197_row133_col0\" class=\"data row133 col0\" >0.0000000000</td>\n",
       "    </tr>\n",
       "    <tr>\n",
       "      <th id=\"T_38197_level0_row134\" class=\"row_heading level0 row134\" >823</th>\n",
       "      <td id=\"T_38197_row134_col0\" class=\"data row134 col0\" >0.0000000000</td>\n",
       "    </tr>\n",
       "    <tr>\n",
       "      <th id=\"T_38197_level0_row135\" class=\"row_heading level0 row135\" >864</th>\n",
       "      <td id=\"T_38197_row135_col0\" class=\"data row135 col0\" >0.0000000000</td>\n",
       "    </tr>\n",
       "    <tr>\n",
       "      <th id=\"T_38197_level0_row136\" class=\"row_heading level0 row136\" >865</th>\n",
       "      <td id=\"T_38197_row136_col0\" class=\"data row136 col0\" >0.0000000000</td>\n",
       "    </tr>\n",
       "    <tr>\n",
       "      <th id=\"T_38197_level0_row137\" class=\"row_heading level0 row137\" >878</th>\n",
       "      <td id=\"T_38197_row137_col0\" class=\"data row137 col0\" >0.0000000010</td>\n",
       "    </tr>\n",
       "    <tr>\n",
       "      <th id=\"T_38197_level0_row138\" class=\"row_heading level0 row138\" >906</th>\n",
       "      <td id=\"T_38197_row138_col0\" class=\"data row138 col0\" >0.0000000000</td>\n",
       "    </tr>\n",
       "    <tr>\n",
       "      <th id=\"T_38197_level0_row139\" class=\"row_heading level0 row139\" >907</th>\n",
       "      <td id=\"T_38197_row139_col0\" class=\"data row139 col0\" >0.3885643482</td>\n",
       "    </tr>\n",
       "    <tr>\n",
       "      <th id=\"T_38197_level0_row140\" class=\"row_heading level0 row140\" >926</th>\n",
       "      <td id=\"T_38197_row140_col0\" class=\"data row140 col0\" >0.0000000704</td>\n",
       "    </tr>\n",
       "    <tr>\n",
       "      <th id=\"T_38197_level0_row141\" class=\"row_heading level0 row141\" >943</th>\n",
       "      <td id=\"T_38197_row141_col0\" class=\"data row141 col0\" >0.0000000000</td>\n",
       "    </tr>\n",
       "    <tr>\n",
       "      <th id=\"T_38197_level0_row142\" class=\"row_heading level0 row142\" >954</th>\n",
       "      <td id=\"T_38197_row142_col0\" class=\"data row142 col0\" >0.0000433954</td>\n",
       "    </tr>\n",
       "    <tr>\n",
       "      <th id=\"T_38197_level0_row143\" class=\"row_heading level0 row143\" >955</th>\n",
       "      <td id=\"T_38197_row143_col0\" class=\"data row143 col0\" >0.0000000000</td>\n",
       "    </tr>\n",
       "    <tr>\n",
       "      <th id=\"T_38197_level0_row144\" class=\"row_heading level0 row144\" >959</th>\n",
       "      <td id=\"T_38197_row144_col0\" class=\"data row144 col0\" >0.0000000000</td>\n",
       "    </tr>\n",
       "    <tr>\n",
       "      <th id=\"T_38197_level0_row145\" class=\"row_heading level0 row145\" >960</th>\n",
       "      <td id=\"T_38197_row145_col0\" class=\"data row145 col0\" >0.0000000000</td>\n",
       "    </tr>\n",
       "    <tr>\n",
       "      <th id=\"T_38197_level0_row146\" class=\"row_heading level0 row146\" >961</th>\n",
       "      <td id=\"T_38197_row146_col0\" class=\"data row146 col0\" >0.0001773438</td>\n",
       "    </tr>\n",
       "    <tr>\n",
       "      <th id=\"T_38197_level0_row147\" class=\"row_heading level0 row147\" >962</th>\n",
       "      <td id=\"T_38197_row147_col0\" class=\"data row147 col0\" >0.0000000000</td>\n",
       "    </tr>\n",
       "    <tr>\n",
       "      <th id=\"T_38197_level0_row148\" class=\"row_heading level0 row148\" >990</th>\n",
       "      <td id=\"T_38197_row148_col0\" class=\"data row148 col0\" >0.0000383433</td>\n",
       "    </tr>\n",
       "    <tr>\n",
       "      <th id=\"T_38197_level0_row149\" class=\"row_heading level0 row149\" >991</th>\n",
       "      <td id=\"T_38197_row149_col0\" class=\"data row149 col0\" >0.0085481647</td>\n",
       "    </tr>\n",
       "    <tr>\n",
       "      <th id=\"T_38197_level0_row150\" class=\"row_heading level0 row150\" >994</th>\n",
       "      <td id=\"T_38197_row150_col0\" class=\"data row150 col0\" >0.0000000000</td>\n",
       "    </tr>\n",
       "    <tr>\n",
       "      <th id=\"T_38197_level0_row151\" class=\"row_heading level0 row151\" >995</th>\n",
       "      <td id=\"T_38197_row151_col0\" class=\"data row151 col0\" >0.0000000000</td>\n",
       "    </tr>\n",
       "    <tr>\n",
       "      <th id=\"T_38197_level0_row152\" class=\"row_heading level0 row152\" >1002</th>\n",
       "      <td id=\"T_38197_row152_col0\" class=\"data row152 col0\" >0.0000000000</td>\n",
       "    </tr>\n",
       "    <tr>\n",
       "      <th id=\"T_38197_level0_row153\" class=\"row_heading level0 row153\" >1003</th>\n",
       "      <td id=\"T_38197_row153_col0\" class=\"data row153 col0\" >0.0003665137</td>\n",
       "    </tr>\n",
       "    <tr>\n",
       "      <th id=\"T_38197_level0_row154\" class=\"row_heading level0 row154\" >1007</th>\n",
       "      <td id=\"T_38197_row154_col0\" class=\"data row154 col0\" >0.0009921904</td>\n",
       "    </tr>\n",
       "    <tr>\n",
       "      <th id=\"T_38197_level0_row155\" class=\"row_heading level0 row155\" >1008</th>\n",
       "      <td id=\"T_38197_row155_col0\" class=\"data row155 col0\" >0.0008002239</td>\n",
       "    </tr>\n",
       "    <tr>\n",
       "      <th id=\"T_38197_level0_row156\" class=\"row_heading level0 row156\" >1023</th>\n",
       "      <td id=\"T_38197_row156_col0\" class=\"data row156 col0\" >0.0000000600</td>\n",
       "    </tr>\n",
       "    <tr>\n",
       "      <th id=\"T_38197_level0_row157\" class=\"row_heading level0 row157\" >1024</th>\n",
       "      <td id=\"T_38197_row157_col0\" class=\"data row157 col0\" >0.0001398401</td>\n",
       "    </tr>\n",
       "    <tr>\n",
       "      <th id=\"T_38197_level0_row158\" class=\"row_heading level0 row158\" >1028</th>\n",
       "      <td id=\"T_38197_row158_col0\" class=\"data row158 col0\" >0.0000092770</td>\n",
       "    </tr>\n",
       "    <tr>\n",
       "      <th id=\"T_38197_level0_row159\" class=\"row_heading level0 row159\" >1062</th>\n",
       "      <td id=\"T_38197_row159_col0\" class=\"data row159 col0\" >0.0000000000</td>\n",
       "    </tr>\n",
       "    <tr>\n",
       "      <th id=\"T_38197_level0_row160\" class=\"row_heading level0 row160\" >1064</th>\n",
       "      <td id=\"T_38197_row160_col0\" class=\"data row160 col0\" >0.0056039933</td>\n",
       "    </tr>\n",
       "    <tr>\n",
       "      <th id=\"T_38197_level0_row161\" class=\"row_heading level0 row161\" >1065</th>\n",
       "      <td id=\"T_38197_row161_col0\" class=\"data row161 col0\" >0.0000905273</td>\n",
       "    </tr>\n",
       "    <tr>\n",
       "      <th id=\"T_38197_level0_row162\" class=\"row_heading level0 row162\" >1066</th>\n",
       "      <td id=\"T_38197_row162_col0\" class=\"data row162 col0\" >0.0000043798</td>\n",
       "    </tr>\n",
       "    <tr>\n",
       "      <th id=\"T_38197_level0_row163\" class=\"row_heading level0 row163\" >1068</th>\n",
       "      <td id=\"T_38197_row163_col0\" class=\"data row163 col0\" >0.0090406593</td>\n",
       "    </tr>\n",
       "    <tr>\n",
       "      <th id=\"T_38197_level0_row164\" class=\"row_heading level0 row164\" >1071</th>\n",
       "      <td id=\"T_38197_row164_col0\" class=\"data row164 col0\" >0.0128624281</td>\n",
       "    </tr>\n",
       "    <tr>\n",
       "      <th id=\"T_38197_level0_row165\" class=\"row_heading level0 row165\" >1083</th>\n",
       "      <td id=\"T_38197_row165_col0\" class=\"data row165 col0\" >0.0891693905</td>\n",
       "    </tr>\n",
       "    <tr>\n",
       "      <th id=\"T_38197_level0_row166\" class=\"row_heading level0 row166\" >1085</th>\n",
       "      <td id=\"T_38197_row166_col0\" class=\"data row166 col0\" >0.0016491697</td>\n",
       "    </tr>\n",
       "    <tr>\n",
       "      <th id=\"T_38197_level0_row167\" class=\"row_heading level0 row167\" >1102</th>\n",
       "      <td id=\"T_38197_row167_col0\" class=\"data row167 col0\" >0.0000000000</td>\n",
       "    </tr>\n",
       "    <tr>\n",
       "      <th id=\"T_38197_level0_row168\" class=\"row_heading level0 row168\" >1128</th>\n",
       "      <td id=\"T_38197_row168_col0\" class=\"data row168 col0\" >0.5885561109</td>\n",
       "    </tr>\n",
       "    <tr>\n",
       "      <th id=\"T_38197_level0_row169\" class=\"row_heading level0 row169\" >1129</th>\n",
       "      <td id=\"T_38197_row169_col0\" class=\"data row169 col0\" >0.8768620491</td>\n",
       "    </tr>\n",
       "    <tr>\n",
       "      <th id=\"T_38197_level0_row170\" class=\"row_heading level0 row170\" >1154</th>\n",
       "      <td id=\"T_38197_row170_col0\" class=\"data row170 col0\" >0.0060500968</td>\n",
       "    </tr>\n",
       "    <tr>\n",
       "      <th id=\"T_38197_level0_row171\" class=\"row_heading level0 row171\" >1202</th>\n",
       "      <td id=\"T_38197_row171_col0\" class=\"data row171 col0\" >0.0000000000</td>\n",
       "    </tr>\n",
       "    <tr>\n",
       "      <th id=\"T_38197_level0_row172\" class=\"row_heading level0 row172\" >1203</th>\n",
       "      <td id=\"T_38197_row172_col0\" class=\"data row172 col0\" >0.0000000000</td>\n",
       "    </tr>\n",
       "    <tr>\n",
       "      <th id=\"T_38197_level0_row173\" class=\"row_heading level0 row173\" >1204</th>\n",
       "      <td id=\"T_38197_row173_col0\" class=\"data row173 col0\" >0.0000000000</td>\n",
       "    </tr>\n",
       "    <tr>\n",
       "      <th id=\"T_38197_level0_row174\" class=\"row_heading level0 row174\" >1205</th>\n",
       "      <td id=\"T_38197_row174_col0\" class=\"data row174 col0\" >0.0000000000</td>\n",
       "    </tr>\n",
       "    <tr>\n",
       "      <th id=\"T_38197_level0_row175\" class=\"row_heading level0 row175\" >1209</th>\n",
       "      <td id=\"T_38197_row175_col0\" class=\"data row175 col0\" >0.0000000000</td>\n",
       "    </tr>\n",
       "    <tr>\n",
       "      <th id=\"T_38197_level0_row176\" class=\"row_heading level0 row176\" >1210</th>\n",
       "      <td id=\"T_38197_row176_col0\" class=\"data row176 col0\" >0.0000000000</td>\n",
       "    </tr>\n",
       "    <tr>\n",
       "      <th id=\"T_38197_level0_row177\" class=\"row_heading level0 row177\" >1211</th>\n",
       "      <td id=\"T_38197_row177_col0\" class=\"data row177 col0\" >0.0000000000</td>\n",
       "    </tr>\n",
       "    <tr>\n",
       "      <th id=\"T_38197_level0_row178\" class=\"row_heading level0 row178\" >1212</th>\n",
       "      <td id=\"T_38197_row178_col0\" class=\"data row178 col0\" >0.0000000000</td>\n",
       "    </tr>\n",
       "    <tr>\n",
       "      <th id=\"T_38197_level0_row179\" class=\"row_heading level0 row179\" >1216</th>\n",
       "      <td id=\"T_38197_row179_col0\" class=\"data row179 col0\" >0.0000000000</td>\n",
       "    </tr>\n",
       "    <tr>\n",
       "      <th id=\"T_38197_level0_row180\" class=\"row_heading level0 row180\" >1246</th>\n",
       "      <td id=\"T_38197_row180_col0\" class=\"data row180 col0\" >0.0000000000</td>\n",
       "    </tr>\n",
       "    <tr>\n",
       "      <th id=\"T_38197_level0_row181\" class=\"row_heading level0 row181\" >1247</th>\n",
       "      <td id=\"T_38197_row181_col0\" class=\"data row181 col0\" >0.0000000000</td>\n",
       "    </tr>\n",
       "    <tr>\n",
       "      <th id=\"T_38197_level0_row182\" class=\"row_heading level0 row182\" >1259</th>\n",
       "      <td id=\"T_38197_row182_col0\" class=\"data row182 col0\" >0.0000000000</td>\n",
       "    </tr>\n",
       "    <tr>\n",
       "      <th id=\"T_38197_level0_row183\" class=\"row_heading level0 row183\" >1260</th>\n",
       "      <td id=\"T_38197_row183_col0\" class=\"data row183 col0\" >0.0000000000</td>\n",
       "    </tr>\n",
       "    <tr>\n",
       "      <th id=\"T_38197_level0_row184\" class=\"row_heading level0 row184\" >1267</th>\n",
       "      <td id=\"T_38197_row184_col0\" class=\"data row184 col0\" >0.0000000000</td>\n",
       "    </tr>\n",
       "    <tr>\n",
       "      <th id=\"T_38197_level0_row185\" class=\"row_heading level0 row185\" >1268</th>\n",
       "      <td id=\"T_38197_row185_col0\" class=\"data row185 col0\" >0.0000000000</td>\n",
       "    </tr>\n",
       "    <tr>\n",
       "      <th id=\"T_38197_level0_row186\" class=\"row_heading level0 row186\" >1315</th>\n",
       "      <td id=\"T_38197_row186_col0\" class=\"data row186 col0\" >0.0000000018</td>\n",
       "    </tr>\n",
       "    <tr>\n",
       "      <th id=\"T_38197_level0_row187\" class=\"row_heading level0 row187\" >1316</th>\n",
       "      <td id=\"T_38197_row187_col0\" class=\"data row187 col0\" >0.0000000000</td>\n",
       "    </tr>\n",
       "    <tr>\n",
       "      <th id=\"T_38197_level0_row188\" class=\"row_heading level0 row188\" >1317</th>\n",
       "      <td id=\"T_38197_row188_col0\" class=\"data row188 col0\" >0.0000000000</td>\n",
       "    </tr>\n",
       "    <tr>\n",
       "      <th id=\"T_38197_level0_row189\" class=\"row_heading level0 row189\" >1318</th>\n",
       "      <td id=\"T_38197_row189_col0\" class=\"data row189 col0\" >0.0000000000</td>\n",
       "    </tr>\n",
       "    <tr>\n",
       "      <th id=\"T_38197_level0_row190\" class=\"row_heading level0 row190\" >1363</th>\n",
       "      <td id=\"T_38197_row190_col0\" class=\"data row190 col0\" >0.0000000000</td>\n",
       "    </tr>\n",
       "    <tr>\n",
       "      <th id=\"T_38197_level0_row191\" class=\"row_heading level0 row191\" >1364</th>\n",
       "      <td id=\"T_38197_row191_col0\" class=\"data row191 col0\" >0.0000000421</td>\n",
       "    </tr>\n",
       "    <tr>\n",
       "      <th id=\"T_38197_level0_row192\" class=\"row_heading level0 row192\" >1365</th>\n",
       "      <td id=\"T_38197_row192_col0\" class=\"data row192 col0\" >0.0000000000</td>\n",
       "    </tr>\n",
       "    <tr>\n",
       "      <th id=\"T_38197_level0_row193\" class=\"row_heading level0 row193\" >1366</th>\n",
       "      <td id=\"T_38197_row193_col0\" class=\"data row193 col0\" >0.0000000000</td>\n",
       "    </tr>\n",
       "    <tr>\n",
       "      <th id=\"T_38197_level0_row194\" class=\"row_heading level0 row194\" >1367</th>\n",
       "      <td id=\"T_38197_row194_col0\" class=\"data row194 col0\" >0.0000519539</td>\n",
       "    </tr>\n",
       "    <tr>\n",
       "      <th id=\"T_38197_level0_row195\" class=\"row_heading level0 row195\" >1368</th>\n",
       "      <td id=\"T_38197_row195_col0\" class=\"data row195 col0\" >0.0024545616</td>\n",
       "    </tr>\n",
       "    <tr>\n",
       "      <th id=\"T_38197_level0_row196\" class=\"row_heading level0 row196\" >1381</th>\n",
       "      <td id=\"T_38197_row196_col0\" class=\"data row196 col0\" >0.0206643753</td>\n",
       "    </tr>\n",
       "    <tr>\n",
       "      <th id=\"T_38197_level0_row197\" class=\"row_heading level0 row197\" >1382</th>\n",
       "      <td id=\"T_38197_row197_col0\" class=\"data row197 col0\" >0.0160203204</td>\n",
       "    </tr>\n",
       "    <tr>\n",
       "      <th id=\"T_38197_level0_row198\" class=\"row_heading level0 row198\" >1403</th>\n",
       "      <td id=\"T_38197_row198_col0\" class=\"data row198 col0\" >0.0000000000</td>\n",
       "    </tr>\n",
       "    <tr>\n",
       "      <th id=\"T_38197_level0_row199\" class=\"row_heading level0 row199\" >1408</th>\n",
       "      <td id=\"T_38197_row199_col0\" class=\"data row199 col0\" >0.0007185616</td>\n",
       "    </tr>\n",
       "    <tr>\n",
       "      <th id=\"T_38197_level0_row200\" class=\"row_heading level0 row200\" >1414</th>\n",
       "      <td id=\"T_38197_row200_col0\" class=\"data row200 col0\" >0.0000000000</td>\n",
       "    </tr>\n",
       "    <tr>\n",
       "      <th id=\"T_38197_level0_row201\" class=\"row_heading level0 row201\" >1415</th>\n",
       "      <td id=\"T_38197_row201_col0\" class=\"data row201 col0\" >0.0000000000</td>\n",
       "    </tr>\n",
       "    <tr>\n",
       "      <th id=\"T_38197_level0_row202\" class=\"row_heading level0 row202\" >1419</th>\n",
       "      <td id=\"T_38197_row202_col0\" class=\"data row202 col0\" >0.0000000000</td>\n",
       "    </tr>\n",
       "    <tr>\n",
       "      <th id=\"T_38197_level0_row203\" class=\"row_heading level0 row203\" >1420</th>\n",
       "      <td id=\"T_38197_row203_col0\" class=\"data row203 col0\" >0.0000000000</td>\n",
       "    </tr>\n",
       "    <tr>\n",
       "      <th id=\"T_38197_level0_row204\" class=\"row_heading level0 row204\" >1430</th>\n",
       "      <td id=\"T_38197_row204_col0\" class=\"data row204 col0\" >0.0000000000</td>\n",
       "    </tr>\n",
       "    <tr>\n",
       "      <th id=\"T_38197_level0_row205\" class=\"row_heading level0 row205\" >1436</th>\n",
       "      <td id=\"T_38197_row205_col0\" class=\"data row205 col0\" >0.0000000000</td>\n",
       "    </tr>\n",
       "    <tr>\n",
       "      <th id=\"T_38197_level0_row206\" class=\"row_heading level0 row206\" >1437</th>\n",
       "      <td id=\"T_38197_row206_col0\" class=\"data row206 col0\" >0.9168019891</td>\n",
       "    </tr>\n",
       "    <tr>\n",
       "      <th id=\"T_38197_level0_row207\" class=\"row_heading level0 row207\" >1440</th>\n",
       "      <td id=\"T_38197_row207_col0\" class=\"data row207 col0\" >0.0000000000</td>\n",
       "    </tr>\n",
       "    <tr>\n",
       "      <th id=\"T_38197_level0_row208\" class=\"row_heading level0 row208\" >1443</th>\n",
       "      <td id=\"T_38197_row208_col0\" class=\"data row208 col0\" >0.9971892238</td>\n",
       "    </tr>\n",
       "    <tr>\n",
       "      <th id=\"T_38197_level0_row209\" class=\"row_heading level0 row209\" >1444</th>\n",
       "      <td id=\"T_38197_row209_col0\" class=\"data row209 col0\" >0.0000000000</td>\n",
       "    </tr>\n",
       "    <tr>\n",
       "      <th id=\"T_38197_level0_row210\" class=\"row_heading level0 row210\" >1445</th>\n",
       "      <td id=\"T_38197_row210_col0\" class=\"data row210 col0\" >0.0000000000</td>\n",
       "    </tr>\n",
       "    <tr>\n",
       "      <th id=\"T_38197_level0_row211\" class=\"row_heading level0 row211\" >1446</th>\n",
       "      <td id=\"T_38197_row211_col0\" class=\"data row211 col0\" >0.0000000000</td>\n",
       "    </tr>\n",
       "    <tr>\n",
       "      <th id=\"T_38197_level0_row212\" class=\"row_heading level0 row212\" >1447</th>\n",
       "      <td id=\"T_38197_row212_col0\" class=\"data row212 col0\" >0.4582558572</td>\n",
       "    </tr>\n",
       "    <tr>\n",
       "      <th id=\"T_38197_level0_row213\" class=\"row_heading level0 row213\" >1448</th>\n",
       "      <td id=\"T_38197_row213_col0\" class=\"data row213 col0\" >0.0000000000</td>\n",
       "    </tr>\n",
       "    <tr>\n",
       "      <th id=\"T_38197_level0_row214\" class=\"row_heading level0 row214\" >1449</th>\n",
       "      <td id=\"T_38197_row214_col0\" class=\"data row214 col0\" >0.0000000000</td>\n",
       "    </tr>\n",
       "    <tr>\n",
       "      <th id=\"T_38197_level0_row215\" class=\"row_heading level0 row215\" >1450</th>\n",
       "      <td id=\"T_38197_row215_col0\" class=\"data row215 col0\" >0.0000000000</td>\n",
       "    </tr>\n",
       "  </tbody>\n",
       "</table>\n"
      ],
      "text/plain": [
       "<pandas.io.formats.style.Styler at 0x7f6174f97370>"
      ]
     },
     "execution_count": 47,
     "metadata": {},
     "output_type": "execute_result"
    }
   ],
   "source": [
    "# it might make these probabilities Infinitesimally small\n",
    "no_flows[['y_test_pred_proba']].style.format(\"{:,.10f}\")"
   ]
  },
  {
   "cell_type": "code",
   "execution_count": 48,
   "metadata": {
    "tags": []
   },
   "outputs": [
    {
     "data": {
      "text/html": [
       "<div>\n",
       "<style scoped>\n",
       "    .dataframe tbody tr th:only-of-type {\n",
       "        vertical-align: middle;\n",
       "    }\n",
       "\n",
       "    .dataframe tbody tr th {\n",
       "        vertical-align: top;\n",
       "    }\n",
       "\n",
       "    .dataframe thead th {\n",
       "        text-align: right;\n",
       "    }\n",
       "</style>\n",
       "<table border=\"1\" class=\"dataframe\">\n",
       "  <thead>\n",
       "    <tr style=\"text-align: right;\">\n",
       "      <th>state</th>\n",
       "      <th>AZ</th>\n",
       "      <th>CA</th>\n",
       "      <th>CO</th>\n",
       "      <th>ID</th>\n",
       "      <th>MT</th>\n",
       "      <th>NM</th>\n",
       "    </tr>\n",
       "    <tr>\n",
       "      <th>confusion</th>\n",
       "      <th></th>\n",
       "      <th></th>\n",
       "      <th></th>\n",
       "      <th></th>\n",
       "      <th></th>\n",
       "      <th></th>\n",
       "    </tr>\n",
       "  </thead>\n",
       "  <tbody>\n",
       "    <tr>\n",
       "      <th>TP</th>\n",
       "      <td>0.000000</td>\n",
       "      <td>0.838710</td>\n",
       "      <td>0.064516</td>\n",
       "      <td>0.064516</td>\n",
       "      <td>0.000000</td>\n",
       "      <td>0.032258</td>\n",
       "    </tr>\n",
       "    <tr>\n",
       "      <th>FN</th>\n",
       "      <td>0.125000</td>\n",
       "      <td>0.625000</td>\n",
       "      <td>0.125000</td>\n",
       "      <td>0.000000</td>\n",
       "      <td>0.083333</td>\n",
       "      <td>0.041667</td>\n",
       "    </tr>\n",
       "    <tr>\n",
       "      <th>TN</th>\n",
       "      <td>0.117347</td>\n",
       "      <td>0.520408</td>\n",
       "      <td>0.336735</td>\n",
       "      <td>0.000000</td>\n",
       "      <td>0.010204</td>\n",
       "      <td>0.015306</td>\n",
       "    </tr>\n",
       "    <tr>\n",
       "      <th>FP</th>\n",
       "      <td>0.200000</td>\n",
       "      <td>0.300000</td>\n",
       "      <td>0.100000</td>\n",
       "      <td>0.050000</td>\n",
       "      <td>0.200000</td>\n",
       "      <td>0.150000</td>\n",
       "    </tr>\n",
       "  </tbody>\n",
       "</table>\n",
       "</div>"
      ],
      "text/plain": [
       "state            AZ        CA        CO        ID        MT        NM\n",
       "confusion                                                            \n",
       "TP         0.000000  0.838710  0.064516  0.064516  0.000000  0.032258\n",
       "FN         0.125000  0.625000  0.125000  0.000000  0.083333  0.041667\n",
       "TN         0.117347  0.520408  0.336735  0.000000  0.010204  0.015306\n",
       "FP         0.200000  0.300000  0.100000  0.050000  0.200000  0.150000"
      ]
     },
     "execution_count": 48,
     "metadata": {},
     "output_type": "execute_result"
    }
   ],
   "source": [
    "# this let's us see where are performance is coming from\n",
    "# it's the percentage of each metric by state\n",
    "state_matrix = test_assess.groupby(['confusion'])['state'].value_counts(normalize=True).unstack().fillna(0)#.astype(int)\n",
    "state_matrix = state_matrix.loc[['TP', 'FN', 'TN', 'FP'],:]\n",
    "state_matrix"
   ]
  },
  {
   "cell_type": "code",
   "execution_count": 49,
   "metadata": {
    "tags": []
   },
   "outputs": [
    {
     "data": {
      "text/plain": [
       "TN    196\n",
       "TP     31\n",
       "FN     24\n",
       "FP     20\n",
       "Name: confusion, dtype: int64"
      ]
     },
     "execution_count": 49,
     "metadata": {},
     "output_type": "execute_result"
    }
   ],
   "source": [
    "test_assess['confusion'].value_counts()"
   ]
  },
  {
   "cell_type": "code",
   "execution_count": 50,
   "metadata": {
    "tags": []
   },
   "outputs": [
    {
     "data": {
      "text/plain": [
       "AZ    0.110701\n",
       "CA    0.549815\n",
       "CO    0.269373\n",
       "ID    0.011070\n",
       "MT    0.029520\n",
       "NM    0.029520\n",
       "Name: state, dtype: float64"
      ]
     },
     "execution_count": 50,
     "metadata": {},
     "output_type": "execute_result"
    }
   ],
   "source": [
    "# we can use this to determine\n",
    "# is our confusion matrix is overindexing on certain state(s)\n",
    "state_counts = test_assess['state'].value_counts(normalize=True).sort_index()\n",
    "state_counts"
   ]
  },
  {
   "cell_type": "code",
   "execution_count": 51,
   "metadata": {
    "tags": []
   },
   "outputs": [
    {
     "data": {
      "text/html": [
       "<div>\n",
       "<style scoped>\n",
       "    .dataframe tbody tr th:only-of-type {\n",
       "        vertical-align: middle;\n",
       "    }\n",
       "\n",
       "    .dataframe tbody tr th {\n",
       "        vertical-align: top;\n",
       "    }\n",
       "\n",
       "    .dataframe thead th {\n",
       "        text-align: right;\n",
       "    }\n",
       "</style>\n",
       "<table border=\"1\" class=\"dataframe\">\n",
       "  <thead>\n",
       "    <tr style=\"text-align: right;\">\n",
       "      <th>state</th>\n",
       "      <th>AZ</th>\n",
       "      <th>CA</th>\n",
       "      <th>CO</th>\n",
       "      <th>ID</th>\n",
       "      <th>MT</th>\n",
       "      <th>NM</th>\n",
       "    </tr>\n",
       "    <tr>\n",
       "      <th>confusion</th>\n",
       "      <th></th>\n",
       "      <th></th>\n",
       "      <th></th>\n",
       "      <th></th>\n",
       "      <th></th>\n",
       "      <th></th>\n",
       "    </tr>\n",
       "  </thead>\n",
       "  <tbody>\n",
       "    <tr>\n",
       "      <th>TP</th>\n",
       "      <td>-1.000000</td>\n",
       "      <td>0.525438</td>\n",
       "      <td>-0.760495</td>\n",
       "      <td>4.827957</td>\n",
       "      <td>-1.000000</td>\n",
       "      <td>0.092742</td>\n",
       "    </tr>\n",
       "    <tr>\n",
       "      <th>FN</th>\n",
       "      <td>0.129167</td>\n",
       "      <td>0.136745</td>\n",
       "      <td>-0.535959</td>\n",
       "      <td>-1.000000</td>\n",
       "      <td>1.822917</td>\n",
       "      <td>0.411458</td>\n",
       "    </tr>\n",
       "    <tr>\n",
       "      <th>TN</th>\n",
       "      <td>0.060034</td>\n",
       "      <td>-0.053486</td>\n",
       "      <td>0.250070</td>\n",
       "      <td>-1.000000</td>\n",
       "      <td>-0.654337</td>\n",
       "      <td>-0.481505</td>\n",
       "    </tr>\n",
       "    <tr>\n",
       "      <th>FP</th>\n",
       "      <td>0.806667</td>\n",
       "      <td>-0.454362</td>\n",
       "      <td>-0.628767</td>\n",
       "      <td>3.516667</td>\n",
       "      <td>5.775000</td>\n",
       "      <td>4.081250</td>\n",
       "    </tr>\n",
       "  </tbody>\n",
       "</table>\n",
       "</div>"
      ],
      "text/plain": [
       "state            AZ        CA        CO        ID        MT        NM\n",
       "confusion                                                            \n",
       "TP        -1.000000  0.525438 -0.760495  4.827957 -1.000000  0.092742\n",
       "FN         0.129167  0.136745 -0.535959 -1.000000  1.822917  0.411458\n",
       "TN         0.060034 -0.053486  0.250070 -1.000000 -0.654337 -0.481505\n",
       "FP         0.806667 -0.454362 -0.628767  3.516667  5.775000  4.081250"
      ]
     },
     "execution_count": 51,
     "metadata": {},
     "output_type": "execute_result"
    }
   ],
   "source": [
    "confusion_index = state_matrix.div(state_counts) - 1\n",
    "confusion_index"
   ]
  },
  {
   "cell_type": "code",
   "execution_count": 52,
   "metadata": {
    "tags": []
   },
   "outputs": [
    {
     "data": {
      "image/png": "[encoded data removed]",
      "text/plain": [
       "<Figure size 640x480 with 1 Axes>"
      ]
     },
     "metadata": {},
     "output_type": "display_data"
    }
   ],
   "source": [
    "confusion_index.plot(kind='barh').invert_yaxis();\n",
    "plt.title('Confusion Index by State');"
   ]
  },
  {
   "cell_type": "code",
   "execution_count": 53,
   "metadata": {},
   "outputs": [
    {
     "name": "stdout",
     "output_type": "stream",
     "text": [
      "end time: 2023-06-03 05:52:50.153500\n",
      "elapsed time: 0:14:48.013505\n"
     ]
    }
   ],
   "source": [
    "# end of notebook\n",
    "end_time = datetime.now()\n",
    "print('end time:', str(end_time))\n",
    "elapsed_time = end_time - start_time\n",
    "print('elapsed time:', str(elapsed_time))"
   ]
  }
 ],
 "metadata": {
  "kernelspec": {
   "display_name": "Python 3 (ipykernel)",
   "language": "python",
   "name": "python3"
  },
  "language_info": {
   "codemirror_mode": {
    "name": "ipython",
    "version": 3
   },
   "file_extension": ".py",
   "mimetype": "text/x-python",
   "name": "python",
   "nbconvert_exporter": "python",
   "pygments_lexer": "ipython3",
   "version": "3.10.10"
  }
 },
 "nbformat": 4,
 "nbformat_minor": 4
}
