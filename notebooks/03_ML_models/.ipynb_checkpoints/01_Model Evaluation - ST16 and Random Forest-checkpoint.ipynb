{
 "cells": [
  {
   "cell_type": "markdown",
   "metadata": {
    "tags": []
   },
   "source": [
    "# Exploratory Data Analysis Demo \n",
    "\n",
    "- Alejandro Hohmann\n",
    "- Bhanu Muvva\n",
    "- Chunxia Tong\n",
    "\n",
    "The purpose of this notebook is to use LogReg and DT with additional features that we created..."
   ]
  },
  {
   "cell_type": "markdown",
   "metadata": {},
   "source": [
    "# Table of Contents\n",
    "\n",
    "### - [EDA](#EDA)\n",
    "\n",
    "### - [Staley Logistic Regression](#st16)\n",
    "\n",
    "### - [Random Forest](#RF)"
   ]
  },
  {
   "cell_type": "code",
   "execution_count": 1,
   "metadata": {
    "tags": []
   },
   "outputs": [
    {
     "name": "stdout",
     "output_type": "stream",
     "text": [
      "Requirement already satisfied: openpyxl==3.1.2 in /opt/conda/lib/python3.10/site-packages (3.1.2)\n",
      "Requirement already satisfied: et-xmlfile in /opt/conda/lib/python3.10/site-packages (from openpyxl==3.1.2) (1.1.0)\n",
      "Note: you may need to restart the kernel to use updated packages.\n"
     ]
    }
   ],
   "source": [
    "%pip install openpyxl==3.1.2"
   ]
  },
  {
   "cell_type": "code",
   "execution_count": 2,
   "metadata": {
    "tags": []
   },
   "outputs": [],
   "source": [
    "# assign seed now for consistency any time it needs to be used\n",
    "seed=27"
   ]
  },
  {
   "cell_type": "code",
   "execution_count": 3,
   "metadata": {
    "tags": []
   },
   "outputs": [],
   "source": [
    "# file structure libraries\n",
    "import numpy as np\n",
    "import pandas as pd\n",
    "import os\n",
    "\n",
    "# # visualization libraries\n",
    "from matplotlib import pyplot as plt\n",
    "# plt.style.use('bmh')\n",
    "plt.style.use('dark_background')\n",
    "# plt.style.use('fivethirtyeight')\n",
    "# Have plots display in notebook\n",
    "%matplotlib inline\n",
    "# import seaborn as sns\n",
    "\n",
    "# # ML libraries\n",
    "# from sklearn.preprocessing import StandardScaler\n",
    "from sklearn.linear_model import LogisticRegression\n",
    "from sklearn.ensemble import RandomForestClassifier\n",
    "from sklearn.model_selection import train_test_split\n",
    "from sklearn.metrics import f1_score, roc_curve, RocCurveDisplay\n",
    "# from sklearn.metrics import confusion_matrix"
   ]
  },
  {
   "cell_type": "markdown",
   "metadata": {},
   "source": [
    "## The Staley et al. (2016) model report and data \n",
    "https://urldefense.com/v3/__https://pubs.er.usgs.gov/publication/ofr20161106__;!!Mih3wA!EBIuZPGKvJZjq-_b5davUFo5Agj8ZiAPbRx8duc_KmRNFY7DlIr6BqoOnEkjMrboYwhKtPyZkN3vH0ZA$ "
   ]
  },
  {
   "cell_type": "markdown",
   "metadata": {},
   "source": [
    "## Read in and Examine Staley Raw Data <a id=\"EDA\">"
   ]
  },
  {
   "cell_type": "code",
   "execution_count": 4,
   "metadata": {
    "tags": []
   },
   "outputs": [],
   "source": [
    "xl=pd.ExcelFile(\"../data/ofr20161106_appx-1.xlsx\")\n",
    "desc=xl.parse(xl.sheet_names[0])\n",
    "raw_data=xl.parse(xl.sheet_names[1])"
   ]
  },
  {
   "cell_type": "code",
   "execution_count": 5,
   "metadata": {
    "tags": []
   },
   "outputs": [],
   "source": [
    "# # can be helpful for reference\n",
    "# data_dict = pd.read_excel(file, sheet_name=sheets[0])\n",
    "\n",
    "# dict_cols = data_dict.columns\n",
    "\n",
    "# data_dict.sort_values(by=dict_cols[0])"
   ]
  },
  {
   "cell_type": "code",
   "execution_count": 6,
   "metadata": {
    "tags": []
   },
   "outputs": [
    {
     "data": {
      "text/html": [
       "<div>\n",
       "<style scoped>\n",
       "    .dataframe tbody tr th:only-of-type {\n",
       "        vertical-align: middle;\n",
       "    }\n",
       "\n",
       "    .dataframe tbody tr th {\n",
       "        vertical-align: top;\n",
       "    }\n",
       "\n",
       "    .dataframe thead th {\n",
       "        text-align: right;\n",
       "    }\n",
       "</style>\n",
       "<table border=\"1\" class=\"dataframe\">\n",
       "  <thead>\n",
       "    <tr style=\"text-align: right;\">\n",
       "      <th></th>\n",
       "      <th>Fire Name</th>\n",
       "      <th>Year</th>\n",
       "      <th>Fire_ID</th>\n",
       "      <th>Fire_SegID</th>\n",
       "      <th>Database</th>\n",
       "      <th>State</th>\n",
       "      <th>UTM_Zone</th>\n",
       "      <th>UTM_X</th>\n",
       "      <th>UTM_Y</th>\n",
       "      <th>Response</th>\n",
       "      <th>...</th>\n",
       "      <th>Peak_I15_mm/h</th>\n",
       "      <th>Peak_I30_mm/h</th>\n",
       "      <th>Peak_I60_mm/h</th>\n",
       "      <th>ContributingArea_km2</th>\n",
       "      <th>PropHM23</th>\n",
       "      <th>dNBR/1000</th>\n",
       "      <th>KF</th>\n",
       "      <th>Acc015_mm</th>\n",
       "      <th>Acc030_mm</th>\n",
       "      <th>Acc060_mm</th>\n",
       "    </tr>\n",
       "  </thead>\n",
       "  <tbody>\n",
       "    <tr>\n",
       "      <th>0</th>\n",
       "      <td>Buckweed</td>\n",
       "      <td>2007</td>\n",
       "      <td>bck</td>\n",
       "      <td>bck_1035</td>\n",
       "      <td>Training</td>\n",
       "      <td>CA</td>\n",
       "      <td>11</td>\n",
       "      <td>368133.5165</td>\n",
       "      <td>3823231.989</td>\n",
       "      <td>0</td>\n",
       "      <td>...</td>\n",
       "      <td>3.2</td>\n",
       "      <td>2.0</td>\n",
       "      <td>2.0</td>\n",
       "      <td>0.378767</td>\n",
       "      <td>0.217933</td>\n",
       "      <td>0.297853</td>\n",
       "      <td>0.250000</td>\n",
       "      <td>0.80</td>\n",
       "      <td>1.0</td>\n",
       "      <td>2.0</td>\n",
       "    </tr>\n",
       "    <tr>\n",
       "      <th>1</th>\n",
       "      <td>Buckweed</td>\n",
       "      <td>2007</td>\n",
       "      <td>bck</td>\n",
       "      <td>bck_1090</td>\n",
       "      <td>Training</td>\n",
       "      <td>CA</td>\n",
       "      <td>11</td>\n",
       "      <td>367871.0165</td>\n",
       "      <td>3822984.489</td>\n",
       "      <td>0</td>\n",
       "      <td>...</td>\n",
       "      <td>3.2</td>\n",
       "      <td>2.0</td>\n",
       "      <td>2.0</td>\n",
       "      <td>0.689615</td>\n",
       "      <td>0.061249</td>\n",
       "      <td>0.224896</td>\n",
       "      <td>0.250000</td>\n",
       "      <td>0.80</td>\n",
       "      <td>1.0</td>\n",
       "      <td>2.0</td>\n",
       "    </tr>\n",
       "    <tr>\n",
       "      <th>2</th>\n",
       "      <td>Buckweed</td>\n",
       "      <td>2007</td>\n",
       "      <td>bck</td>\n",
       "      <td>bck_1570</td>\n",
       "      <td>Training</td>\n",
       "      <td>CA</td>\n",
       "      <td>11</td>\n",
       "      <td>367503.5165</td>\n",
       "      <td>3821741.989</td>\n",
       "      <td>0</td>\n",
       "      <td>...</td>\n",
       "      <td>3.2</td>\n",
       "      <td>2.0</td>\n",
       "      <td>2.0</td>\n",
       "      <td>2.757312</td>\n",
       "      <td>0.042968</td>\n",
       "      <td>0.065537</td>\n",
       "      <td>0.248541</td>\n",
       "      <td>0.80</td>\n",
       "      <td>1.0</td>\n",
       "      <td>2.0</td>\n",
       "    </tr>\n",
       "    <tr>\n",
       "      <th>3</th>\n",
       "      <td>Buckweed</td>\n",
       "      <td>2007</td>\n",
       "      <td>bck</td>\n",
       "      <td>bck_235</td>\n",
       "      <td>Training</td>\n",
       "      <td>CA</td>\n",
       "      <td>11</td>\n",
       "      <td>371108.5165</td>\n",
       "      <td>3824991.989</td>\n",
       "      <td>0</td>\n",
       "      <td>...</td>\n",
       "      <td>1.6</td>\n",
       "      <td>1.2</td>\n",
       "      <td>0.8</td>\n",
       "      <td>0.613415</td>\n",
       "      <td>0.092164</td>\n",
       "      <td>0.141711</td>\n",
       "      <td>0.250000</td>\n",
       "      <td>0.40</td>\n",
       "      <td>0.6</td>\n",
       "      <td>0.8</td>\n",
       "    </tr>\n",
       "    <tr>\n",
       "      <th>4</th>\n",
       "      <td>Buckweed</td>\n",
       "      <td>2007</td>\n",
       "      <td>bck</td>\n",
       "      <td>bck_363</td>\n",
       "      <td>Training</td>\n",
       "      <td>CA</td>\n",
       "      <td>11</td>\n",
       "      <td>370763.5165</td>\n",
       "      <td>3824576.989</td>\n",
       "      <td>0</td>\n",
       "      <td>...</td>\n",
       "      <td>1.6</td>\n",
       "      <td>1.2</td>\n",
       "      <td>0.8</td>\n",
       "      <td>0.538875</td>\n",
       "      <td>0.058353</td>\n",
       "      <td>0.210158</td>\n",
       "      <td>0.250000</td>\n",
       "      <td>0.40</td>\n",
       "      <td>0.6</td>\n",
       "      <td>0.8</td>\n",
       "    </tr>\n",
       "    <tr>\n",
       "      <th>...</th>\n",
       "      <td>...</td>\n",
       "      <td>...</td>\n",
       "      <td>...</td>\n",
       "      <td>...</td>\n",
       "      <td>...</td>\n",
       "      <td>...</td>\n",
       "      <td>...</td>\n",
       "      <td>...</td>\n",
       "      <td>...</td>\n",
       "      <td>...</td>\n",
       "      <td>...</td>\n",
       "      <td>...</td>\n",
       "      <td>...</td>\n",
       "      <td>...</td>\n",
       "      <td>...</td>\n",
       "      <td>...</td>\n",
       "      <td>...</td>\n",
       "      <td>...</td>\n",
       "      <td>...</td>\n",
       "      <td>...</td>\n",
       "      <td>...</td>\n",
       "    </tr>\n",
       "    <tr>\n",
       "      <th>1545</th>\n",
       "      <td>Wallow</td>\n",
       "      <td>2011</td>\n",
       "      <td>wlw</td>\n",
       "      <td>wlw_47409</td>\n",
       "      <td>Test</td>\n",
       "      <td>AZ</td>\n",
       "      <td>12</td>\n",
       "      <td>660698.3581</td>\n",
       "      <td>3725248.835</td>\n",
       "      <td>0</td>\n",
       "      <td>...</td>\n",
       "      <td>14.0</td>\n",
       "      <td>8.0</td>\n",
       "      <td>NaN</td>\n",
       "      <td>1.554356</td>\n",
       "      <td>0.009801</td>\n",
       "      <td>0.187053</td>\n",
       "      <td>0.000000</td>\n",
       "      <td>3.50</td>\n",
       "      <td>4.0</td>\n",
       "      <td>NaN</td>\n",
       "    </tr>\n",
       "    <tr>\n",
       "      <th>1546</th>\n",
       "      <td>Wallow</td>\n",
       "      <td>2011</td>\n",
       "      <td>wlw</td>\n",
       "      <td>wlw_47535</td>\n",
       "      <td>Test</td>\n",
       "      <td>AZ</td>\n",
       "      <td>12</td>\n",
       "      <td>660178.3581</td>\n",
       "      <td>3725128.835</td>\n",
       "      <td>0</td>\n",
       "      <td>...</td>\n",
       "      <td>63.0</td>\n",
       "      <td>54.0</td>\n",
       "      <td>39.0</td>\n",
       "      <td>0.683425</td>\n",
       "      <td>0.001571</td>\n",
       "      <td>0.500223</td>\n",
       "      <td>0.000000</td>\n",
       "      <td>15.75</td>\n",
       "      <td>27.0</td>\n",
       "      <td>39.0</td>\n",
       "    </tr>\n",
       "    <tr>\n",
       "      <th>1547</th>\n",
       "      <td>Wallow</td>\n",
       "      <td>2011</td>\n",
       "      <td>wlw</td>\n",
       "      <td>wlw_47535</td>\n",
       "      <td>Test</td>\n",
       "      <td>AZ</td>\n",
       "      <td>12</td>\n",
       "      <td>660178.3581</td>\n",
       "      <td>3725128.835</td>\n",
       "      <td>0</td>\n",
       "      <td>...</td>\n",
       "      <td>29.0</td>\n",
       "      <td>16.0</td>\n",
       "      <td>NaN</td>\n",
       "      <td>0.683425</td>\n",
       "      <td>0.001571</td>\n",
       "      <td>0.500223</td>\n",
       "      <td>0.000000</td>\n",
       "      <td>7.25</td>\n",
       "      <td>8.0</td>\n",
       "      <td>NaN</td>\n",
       "    </tr>\n",
       "    <tr>\n",
       "      <th>1548</th>\n",
       "      <td>Wallow</td>\n",
       "      <td>2011</td>\n",
       "      <td>wlw</td>\n",
       "      <td>wlw_47535</td>\n",
       "      <td>Test</td>\n",
       "      <td>AZ</td>\n",
       "      <td>12</td>\n",
       "      <td>660178.3581</td>\n",
       "      <td>3725128.835</td>\n",
       "      <td>0</td>\n",
       "      <td>...</td>\n",
       "      <td>25.0</td>\n",
       "      <td>16.0</td>\n",
       "      <td>NaN</td>\n",
       "      <td>0.683425</td>\n",
       "      <td>0.001571</td>\n",
       "      <td>0.500223</td>\n",
       "      <td>0.000000</td>\n",
       "      <td>6.25</td>\n",
       "      <td>8.0</td>\n",
       "      <td>NaN</td>\n",
       "    </tr>\n",
       "    <tr>\n",
       "      <th>1549</th>\n",
       "      <td>Wallow</td>\n",
       "      <td>2011</td>\n",
       "      <td>wlw</td>\n",
       "      <td>wlw_47535</td>\n",
       "      <td>Test</td>\n",
       "      <td>AZ</td>\n",
       "      <td>12</td>\n",
       "      <td>660178.3581</td>\n",
       "      <td>3725128.835</td>\n",
       "      <td>0</td>\n",
       "      <td>...</td>\n",
       "      <td>14.0</td>\n",
       "      <td>8.0</td>\n",
       "      <td>NaN</td>\n",
       "      <td>0.683425</td>\n",
       "      <td>0.001571</td>\n",
       "      <td>0.500223</td>\n",
       "      <td>0.000000</td>\n",
       "      <td>3.50</td>\n",
       "      <td>4.0</td>\n",
       "      <td>NaN</td>\n",
       "    </tr>\n",
       "  </tbody>\n",
       "</table>\n",
       "<p>1550 rows × 27 columns</p>\n",
       "</div>"
      ],
      "text/plain": [
       "     Fire Name  Year Fire_ID Fire_SegID  Database State  UTM_Zone   \n",
       "0     Buckweed  2007     bck   bck_1035  Training    CA        11  \\\n",
       "1     Buckweed  2007     bck   bck_1090  Training    CA        11   \n",
       "2     Buckweed  2007     bck   bck_1570  Training    CA        11   \n",
       "3     Buckweed  2007     bck    bck_235  Training    CA        11   \n",
       "4     Buckweed  2007     bck    bck_363  Training    CA        11   \n",
       "...        ...   ...     ...        ...       ...   ...       ...   \n",
       "1545    Wallow  2011     wlw  wlw_47409      Test    AZ        12   \n",
       "1546    Wallow  2011     wlw  wlw_47535      Test    AZ        12   \n",
       "1547    Wallow  2011     wlw  wlw_47535      Test    AZ        12   \n",
       "1548    Wallow  2011     wlw  wlw_47535      Test    AZ        12   \n",
       "1549    Wallow  2011     wlw  wlw_47535      Test    AZ        12   \n",
       "\n",
       "            UTM_X        UTM_Y  Response  ... Peak_I15_mm/h  Peak_I30_mm/h   \n",
       "0     368133.5165  3823231.989         0  ...           3.2            2.0  \\\n",
       "1     367871.0165  3822984.489         0  ...           3.2            2.0   \n",
       "2     367503.5165  3821741.989         0  ...           3.2            2.0   \n",
       "3     371108.5165  3824991.989         0  ...           1.6            1.2   \n",
       "4     370763.5165  3824576.989         0  ...           1.6            1.2   \n",
       "...           ...          ...       ...  ...           ...            ...   \n",
       "1545  660698.3581  3725248.835         0  ...          14.0            8.0   \n",
       "1546  660178.3581  3725128.835         0  ...          63.0           54.0   \n",
       "1547  660178.3581  3725128.835         0  ...          29.0           16.0   \n",
       "1548  660178.3581  3725128.835         0  ...          25.0           16.0   \n",
       "1549  660178.3581  3725128.835         0  ...          14.0            8.0   \n",
       "\n",
       "     Peak_I60_mm/h ContributingArea_km2  PropHM23  dNBR/1000        KF   \n",
       "0              2.0             0.378767  0.217933   0.297853  0.250000  \\\n",
       "1              2.0             0.689615  0.061249   0.224896  0.250000   \n",
       "2              2.0             2.757312  0.042968   0.065537  0.248541   \n",
       "3              0.8             0.613415  0.092164   0.141711  0.250000   \n",
       "4              0.8             0.538875  0.058353   0.210158  0.250000   \n",
       "...            ...                  ...       ...        ...       ...   \n",
       "1545           NaN             1.554356  0.009801   0.187053  0.000000   \n",
       "1546          39.0             0.683425  0.001571   0.500223  0.000000   \n",
       "1547           NaN             0.683425  0.001571   0.500223  0.000000   \n",
       "1548           NaN             0.683425  0.001571   0.500223  0.000000   \n",
       "1549           NaN             0.683425  0.001571   0.500223  0.000000   \n",
       "\n",
       "      Acc015_mm  Acc030_mm  Acc060_mm  \n",
       "0          0.80        1.0        2.0  \n",
       "1          0.80        1.0        2.0  \n",
       "2          0.80        1.0        2.0  \n",
       "3          0.40        0.6        0.8  \n",
       "4          0.40        0.6        0.8  \n",
       "...         ...        ...        ...  \n",
       "1545       3.50        4.0        NaN  \n",
       "1546      15.75       27.0       39.0  \n",
       "1547       7.25        8.0        NaN  \n",
       "1548       6.25        8.0        NaN  \n",
       "1549       3.50        4.0        NaN  \n",
       "\n",
       "[1550 rows x 27 columns]"
      ]
     },
     "execution_count": 6,
     "metadata": {},
     "output_type": "execute_result"
    }
   ],
   "source": [
    "raw_data"
   ]
  },
  {
   "cell_type": "code",
   "execution_count": 7,
   "metadata": {
    "tags": []
   },
   "outputs": [
    {
     "data": {
      "text/plain": [
       "State\n",
       "CA    939\n",
       "CO    300\n",
       "AZ    209\n",
       "NM     58\n",
       "MT     26\n",
       "ID     14\n",
       "UT      4\n",
       "Name: count, dtype: int64"
      ]
     },
     "execution_count": 7,
     "metadata": {},
     "output_type": "execute_result"
    }
   ],
   "source": [
    "raw_data['State'].value_counts()"
   ]
  },
  {
   "cell_type": "code",
   "execution_count": 8,
   "metadata": {
    "tags": []
   },
   "outputs": [
    {
     "data": {
      "text/plain": [
       "Database\n",
       "Training    939\n",
       "Test        611\n",
       "Name: count, dtype: int64"
      ]
     },
     "execution_count": 8,
     "metadata": {},
     "output_type": "execute_result"
    }
   ],
   "source": [
    "raw_data['Database'].value_counts()"
   ]
  },
  {
   "cell_type": "code",
   "execution_count": 9,
   "metadata": {
    "tags": []
   },
   "outputs": [
    {
     "data": {
      "text/plain": [
       "(1550, 27)"
      ]
     },
     "execution_count": 9,
     "metadata": {},
     "output_type": "execute_result"
    }
   ],
   "source": [
    "raw_data.shape"
   ]
  },
  {
   "cell_type": "code",
   "execution_count": 10,
   "metadata": {
    "tags": []
   },
   "outputs": [],
   "source": [
    "# raw_data.describe().T"
   ]
  },
  {
   "cell_type": "markdown",
   "metadata": {},
   "source": [
    "## Handling Missing Values"
   ]
  },
  {
   "cell_type": "markdown",
   "metadata": {},
   "source": [
    "### Determine features with missing values"
   ]
  },
  {
   "cell_type": "code",
   "execution_count": 11,
   "metadata": {
    "tags": []
   },
   "outputs": [
    {
     "name": "stdout",
     "output_type": "stream",
     "text": [
      "NAs for each feature:\n"
     ]
    },
    {
     "data": {
      "text/plain": [
       "Fire Name                 0\n",
       "Year                      0\n",
       "Fire_ID                   0\n",
       "Fire_SegID                0\n",
       "Database                  0\n",
       "State                     0\n",
       "UTM_Zone                  0\n",
       "UTM_X                     0\n",
       "UTM_Y                     0\n",
       "Response                  0\n",
       "StormDate                 0\n",
       "GaugeDist_m               0\n",
       "StormStart              160\n",
       "StormEnd                160\n",
       "StormDur_H                0\n",
       "StormAccum_mm             0\n",
       "StormAvgI_mm/h            0\n",
       "Peak_I15_mm/h           230\n",
       "Peak_I30_mm/h           214\n",
       "Peak_I60_mm/h           256\n",
       "ContributingArea_km2      0\n",
       "PropHM23                  0\n",
       "dNBR/1000                77\n",
       "KF                        0\n",
       "Acc015_mm               230\n",
       "Acc030_mm               214\n",
       "Acc060_mm               256\n",
       "dtype: int64"
      ]
     },
     "execution_count": 11,
     "metadata": {},
     "output_type": "execute_result"
    }
   ],
   "source": [
    "print(\"NAs for each feature:\")\n",
    "raw_data.isna().sum()"
   ]
  },
  {
   "cell_type": "code",
   "execution_count": 12,
   "metadata": {
    "tags": []
   },
   "outputs": [
    {
     "data": {
      "text/plain": [
       "['Fire Name',\n",
       " 'Year',\n",
       " 'Fire_ID',\n",
       " 'Fire_SegID',\n",
       " 'Database',\n",
       " 'State',\n",
       " 'UTM_Zone',\n",
       " 'UTM_X',\n",
       " 'UTM_Y',\n",
       " 'Response',\n",
       " 'StormDate',\n",
       " 'GaugeDist_m',\n",
       " 'StormDur_H',\n",
       " 'StormAccum_mm',\n",
       " 'StormAvgI_mm/h',\n",
       " 'ContributingArea_km2',\n",
       " 'PropHM23',\n",
       " 'KF']"
      ]
     },
     "execution_count": 12,
     "metadata": {},
     "output_type": "execute_result"
    }
   ],
   "source": [
    "# Features without missing values\n",
    "list(raw_data.columns[raw_data.isna().sum() == 0])"
   ]
  },
  {
   "cell_type": "markdown",
   "metadata": {},
   "source": [
    "### Remove rows with missing values"
   ]
  },
  {
   "cell_type": "code",
   "execution_count": 13,
   "metadata": {
    "tags": []
   },
   "outputs": [
    {
     "name": "stdout",
     "output_type": "stream",
     "text": [
      "Dimensions before removing null values:\n",
      "  (1550, 27)\n",
      "Dimensions after removing null values: \n",
      "  (1091, 27)\n"
     ]
    }
   ],
   "source": [
    "print(\"Dimensions before removing null values:\\n \", raw_data.shape)\n",
    "\n",
    "raw_data.dropna(inplace=True)   # NOTE: Original raw_data is overwritten\n",
    "print(\"Dimensions after removing null values: \\n \", raw_data.shape)"
   ]
  },
  {
   "cell_type": "code",
   "execution_count": 14,
   "metadata": {
    "tags": []
   },
   "outputs": [],
   "source": [
    "# raw_data.describe().round(2).T"
   ]
  },
  {
   "cell_type": "markdown",
   "metadata": {},
   "source": [
    "### Save data without missing values to new file"
   ]
  },
  {
   "cell_type": "code",
   "execution_count": 15,
   "metadata": {
    "tags": []
   },
   "outputs": [],
   "source": [
    "# Save  data in csv file format, not including index as a column\n",
    "raw_data.to_csv(\"ofr20161106-na-omit.csv\", index=False)"
   ]
  },
  {
   "cell_type": "markdown",
   "metadata": {},
   "source": [
    "## Explore by Data Types\n",
    "- aggregate peak rainfall feature to three different time amounts\n",
    "    - 15 min\n",
    "    - 30 min\n",
    "    - 60 min"
   ]
  },
  {
   "cell_type": "code",
   "execution_count": 16,
   "metadata": {
    "tags": []
   },
   "outputs": [
    {
     "name": "stdout",
     "output_type": "stream",
     "text": [
      "<class 'pandas.core.frame.DataFrame'>\n",
      "Index: 1091 entries, 0 to 1546\n",
      "Data columns (total 27 columns):\n",
      " #   Column                Non-Null Count  Dtype         \n",
      "---  ------                --------------  -----         \n",
      " 0   Fire Name             1091 non-null   object        \n",
      " 1   Year                  1091 non-null   int64         \n",
      " 2   Fire_ID               1091 non-null   object        \n",
      " 3   Fire_SegID            1091 non-null   object        \n",
      " 4   Database              1091 non-null   object        \n",
      " 5   State                 1091 non-null   object        \n",
      " 6   UTM_Zone              1091 non-null   int64         \n",
      " 7   UTM_X                 1091 non-null   float64       \n",
      " 8   UTM_Y                 1091 non-null   float64       \n",
      " 9   Response              1091 non-null   int64         \n",
      " 10  StormDate             1091 non-null   object        \n",
      " 11  GaugeDist_m           1091 non-null   float64       \n",
      " 12  StormStart            1091 non-null   datetime64[ns]\n",
      " 13  StormEnd              1091 non-null   datetime64[ns]\n",
      " 14  StormDur_H            1091 non-null   float64       \n",
      " 15  StormAccum_mm         1091 non-null   float64       \n",
      " 16  StormAvgI_mm/h        1091 non-null   float64       \n",
      " 17  Peak_I15_mm/h         1091 non-null   float64       \n",
      " 18  Peak_I30_mm/h         1091 non-null   float64       \n",
      " 19  Peak_I60_mm/h         1091 non-null   float64       \n",
      " 20  ContributingArea_km2  1091 non-null   float64       \n",
      " 21  PropHM23              1091 non-null   float64       \n",
      " 22  dNBR/1000             1091 non-null   float64       \n",
      " 23  KF                    1091 non-null   float64       \n",
      " 24  Acc015_mm             1091 non-null   float64       \n",
      " 25  Acc030_mm             1091 non-null   float64       \n",
      " 26  Acc060_mm             1091 non-null   float64       \n",
      "dtypes: datetime64[ns](2), float64(16), int64(3), object(6)\n",
      "memory usage: 238.7+ KB\n"
     ]
    }
   ],
   "source": [
    "raw_data.info()"
   ]
  },
  {
   "cell_type": "code",
   "execution_count": 17,
   "metadata": {
    "tags": []
   },
   "outputs": [],
   "source": [
    "# raw_data"
   ]
  },
  {
   "cell_type": "code",
   "execution_count": 18,
   "metadata": {
    "tags": []
   },
   "outputs": [],
   "source": [
    "# select the feature and result columns\n",
    "raw_data_feat_15 = raw_data[['Peak_I15_mm/h','PropHM23','dNBR/1000','KF','Response']]\n",
    "\n",
    "# save to a new csv file with Peak_I15_mm/h\n",
    "raw_data_feat_15.to_csv('ofr20161106-na-omit-feat-15.csv', index=False)"
   ]
  },
  {
   "cell_type": "code",
   "execution_count": 19,
   "metadata": {
    "tags": []
   },
   "outputs": [
    {
     "data": {
      "text/html": [
       "<div>\n",
       "<style scoped>\n",
       "    .dataframe tbody tr th:only-of-type {\n",
       "        vertical-align: middle;\n",
       "    }\n",
       "\n",
       "    .dataframe tbody tr th {\n",
       "        vertical-align: top;\n",
       "    }\n",
       "\n",
       "    .dataframe thead th {\n",
       "        text-align: right;\n",
       "    }\n",
       "</style>\n",
       "<table border=\"1\" class=\"dataframe\">\n",
       "  <thead>\n",
       "    <tr style=\"text-align: right;\">\n",
       "      <th></th>\n",
       "      <th>Peak_I15_mm/h</th>\n",
       "      <th>PropHM23</th>\n",
       "      <th>dNBR/1000</th>\n",
       "      <th>KF</th>\n",
       "      <th>Response</th>\n",
       "    </tr>\n",
       "  </thead>\n",
       "  <tbody>\n",
       "    <tr>\n",
       "      <th>0</th>\n",
       "      <td>3.2</td>\n",
       "      <td>0.217933</td>\n",
       "      <td>0.297853</td>\n",
       "      <td>0.250000</td>\n",
       "      <td>0</td>\n",
       "    </tr>\n",
       "    <tr>\n",
       "      <th>1</th>\n",
       "      <td>3.2</td>\n",
       "      <td>0.061249</td>\n",
       "      <td>0.224896</td>\n",
       "      <td>0.250000</td>\n",
       "      <td>0</td>\n",
       "    </tr>\n",
       "    <tr>\n",
       "      <th>2</th>\n",
       "      <td>3.2</td>\n",
       "      <td>0.042968</td>\n",
       "      <td>0.065537</td>\n",
       "      <td>0.248541</td>\n",
       "      <td>0</td>\n",
       "    </tr>\n",
       "    <tr>\n",
       "      <th>3</th>\n",
       "      <td>1.6</td>\n",
       "      <td>0.092164</td>\n",
       "      <td>0.141711</td>\n",
       "      <td>0.250000</td>\n",
       "      <td>0</td>\n",
       "    </tr>\n",
       "    <tr>\n",
       "      <th>4</th>\n",
       "      <td>1.6</td>\n",
       "      <td>0.058353</td>\n",
       "      <td>0.210158</td>\n",
       "      <td>0.250000</td>\n",
       "      <td>0</td>\n",
       "    </tr>\n",
       "    <tr>\n",
       "      <th>...</th>\n",
       "      <td>...</td>\n",
       "      <td>...</td>\n",
       "      <td>...</td>\n",
       "      <td>...</td>\n",
       "      <td>...</td>\n",
       "    </tr>\n",
       "    <tr>\n",
       "      <th>1530</th>\n",
       "      <td>63.0</td>\n",
       "      <td>0.066777</td>\n",
       "      <td>0.373291</td>\n",
       "      <td>0.000000</td>\n",
       "      <td>0</td>\n",
       "    </tr>\n",
       "    <tr>\n",
       "      <th>1534</th>\n",
       "      <td>63.0</td>\n",
       "      <td>0.115890</td>\n",
       "      <td>0.604177</td>\n",
       "      <td>0.000000</td>\n",
       "      <td>0</td>\n",
       "    </tr>\n",
       "    <tr>\n",
       "      <th>1538</th>\n",
       "      <td>63.0</td>\n",
       "      <td>0.112607</td>\n",
       "      <td>0.428204</td>\n",
       "      <td>0.000000</td>\n",
       "      <td>1</td>\n",
       "    </tr>\n",
       "    <tr>\n",
       "      <th>1542</th>\n",
       "      <td>63.0</td>\n",
       "      <td>0.009801</td>\n",
       "      <td>0.187053</td>\n",
       "      <td>0.000000</td>\n",
       "      <td>1</td>\n",
       "    </tr>\n",
       "    <tr>\n",
       "      <th>1546</th>\n",
       "      <td>63.0</td>\n",
       "      <td>0.001571</td>\n",
       "      <td>0.500223</td>\n",
       "      <td>0.000000</td>\n",
       "      <td>0</td>\n",
       "    </tr>\n",
       "  </tbody>\n",
       "</table>\n",
       "<p>1091 rows × 5 columns</p>\n",
       "</div>"
      ],
      "text/plain": [
       "      Peak_I15_mm/h  PropHM23  dNBR/1000        KF  Response\n",
       "0               3.2  0.217933   0.297853  0.250000         0\n",
       "1               3.2  0.061249   0.224896  0.250000         0\n",
       "2               3.2  0.042968   0.065537  0.248541         0\n",
       "3               1.6  0.092164   0.141711  0.250000         0\n",
       "4               1.6  0.058353   0.210158  0.250000         0\n",
       "...             ...       ...        ...       ...       ...\n",
       "1530           63.0  0.066777   0.373291  0.000000         0\n",
       "1534           63.0  0.115890   0.604177  0.000000         0\n",
       "1538           63.0  0.112607   0.428204  0.000000         1\n",
       "1542           63.0  0.009801   0.187053  0.000000         1\n",
       "1546           63.0  0.001571   0.500223  0.000000         0\n",
       "\n",
       "[1091 rows x 5 columns]"
      ]
     },
     "execution_count": 19,
     "metadata": {},
     "output_type": "execute_result"
    }
   ],
   "source": [
    "raw_data_feat_15"
   ]
  },
  {
   "cell_type": "code",
   "execution_count": 20,
   "metadata": {
    "tags": []
   },
   "outputs": [],
   "source": [
    "# select the feature and result columns\n",
    "raw_data_feat_30 = raw_data[['Peak_I30_mm/h','PropHM23','dNBR/1000','KF','Response']]\n",
    "\n",
    "# save to a new csv file with Peak_I30_mm/h\n",
    "raw_data_feat_30.to_csv('ofr20161106-na-omit-feat-30.csv', index=False)"
   ]
  },
  {
   "cell_type": "code",
   "execution_count": 21,
   "metadata": {
    "tags": []
   },
   "outputs": [
    {
     "data": {
      "text/html": [
       "<div>\n",
       "<style scoped>\n",
       "    .dataframe tbody tr th:only-of-type {\n",
       "        vertical-align: middle;\n",
       "    }\n",
       "\n",
       "    .dataframe tbody tr th {\n",
       "        vertical-align: top;\n",
       "    }\n",
       "\n",
       "    .dataframe thead th {\n",
       "        text-align: right;\n",
       "    }\n",
       "</style>\n",
       "<table border=\"1\" class=\"dataframe\">\n",
       "  <thead>\n",
       "    <tr style=\"text-align: right;\">\n",
       "      <th></th>\n",
       "      <th>Peak_I30_mm/h</th>\n",
       "      <th>PropHM23</th>\n",
       "      <th>dNBR/1000</th>\n",
       "      <th>KF</th>\n",
       "      <th>Response</th>\n",
       "    </tr>\n",
       "  </thead>\n",
       "  <tbody>\n",
       "    <tr>\n",
       "      <th>0</th>\n",
       "      <td>2.0</td>\n",
       "      <td>0.217933</td>\n",
       "      <td>0.297853</td>\n",
       "      <td>0.250000</td>\n",
       "      <td>0</td>\n",
       "    </tr>\n",
       "    <tr>\n",
       "      <th>1</th>\n",
       "      <td>2.0</td>\n",
       "      <td>0.061249</td>\n",
       "      <td>0.224896</td>\n",
       "      <td>0.250000</td>\n",
       "      <td>0</td>\n",
       "    </tr>\n",
       "    <tr>\n",
       "      <th>2</th>\n",
       "      <td>2.0</td>\n",
       "      <td>0.042968</td>\n",
       "      <td>0.065537</td>\n",
       "      <td>0.248541</td>\n",
       "      <td>0</td>\n",
       "    </tr>\n",
       "    <tr>\n",
       "      <th>3</th>\n",
       "      <td>1.2</td>\n",
       "      <td>0.092164</td>\n",
       "      <td>0.141711</td>\n",
       "      <td>0.250000</td>\n",
       "      <td>0</td>\n",
       "    </tr>\n",
       "    <tr>\n",
       "      <th>4</th>\n",
       "      <td>1.2</td>\n",
       "      <td>0.058353</td>\n",
       "      <td>0.210158</td>\n",
       "      <td>0.250000</td>\n",
       "      <td>0</td>\n",
       "    </tr>\n",
       "    <tr>\n",
       "      <th>...</th>\n",
       "      <td>...</td>\n",
       "      <td>...</td>\n",
       "      <td>...</td>\n",
       "      <td>...</td>\n",
       "      <td>...</td>\n",
       "    </tr>\n",
       "    <tr>\n",
       "      <th>1530</th>\n",
       "      <td>54.0</td>\n",
       "      <td>0.066777</td>\n",
       "      <td>0.373291</td>\n",
       "      <td>0.000000</td>\n",
       "      <td>0</td>\n",
       "    </tr>\n",
       "    <tr>\n",
       "      <th>1534</th>\n",
       "      <td>54.0</td>\n",
       "      <td>0.115890</td>\n",
       "      <td>0.604177</td>\n",
       "      <td>0.000000</td>\n",
       "      <td>0</td>\n",
       "    </tr>\n",
       "    <tr>\n",
       "      <th>1538</th>\n",
       "      <td>54.0</td>\n",
       "      <td>0.112607</td>\n",
       "      <td>0.428204</td>\n",
       "      <td>0.000000</td>\n",
       "      <td>1</td>\n",
       "    </tr>\n",
       "    <tr>\n",
       "      <th>1542</th>\n",
       "      <td>54.0</td>\n",
       "      <td>0.009801</td>\n",
       "      <td>0.187053</td>\n",
       "      <td>0.000000</td>\n",
       "      <td>1</td>\n",
       "    </tr>\n",
       "    <tr>\n",
       "      <th>1546</th>\n",
       "      <td>54.0</td>\n",
       "      <td>0.001571</td>\n",
       "      <td>0.500223</td>\n",
       "      <td>0.000000</td>\n",
       "      <td>0</td>\n",
       "    </tr>\n",
       "  </tbody>\n",
       "</table>\n",
       "<p>1091 rows × 5 columns</p>\n",
       "</div>"
      ],
      "text/plain": [
       "      Peak_I30_mm/h  PropHM23  dNBR/1000        KF  Response\n",
       "0               2.0  0.217933   0.297853  0.250000         0\n",
       "1               2.0  0.061249   0.224896  0.250000         0\n",
       "2               2.0  0.042968   0.065537  0.248541         0\n",
       "3               1.2  0.092164   0.141711  0.250000         0\n",
       "4               1.2  0.058353   0.210158  0.250000         0\n",
       "...             ...       ...        ...       ...       ...\n",
       "1530           54.0  0.066777   0.373291  0.000000         0\n",
       "1534           54.0  0.115890   0.604177  0.000000         0\n",
       "1538           54.0  0.112607   0.428204  0.000000         1\n",
       "1542           54.0  0.009801   0.187053  0.000000         1\n",
       "1546           54.0  0.001571   0.500223  0.000000         0\n",
       "\n",
       "[1091 rows x 5 columns]"
      ]
     },
     "execution_count": 21,
     "metadata": {},
     "output_type": "execute_result"
    }
   ],
   "source": [
    "raw_data_feat_30"
   ]
  },
  {
   "cell_type": "code",
   "execution_count": 22,
   "metadata": {
    "tags": []
   },
   "outputs": [],
   "source": [
    "# select the feature and result columns\n",
    "raw_data_feat_60 = raw_data[['Peak_I60_mm/h','PropHM23','dNBR/1000','KF','Response']]\n",
    "\n",
    "# save to a new csv file with Peak_I60_mm/h\n",
    "raw_data_feat_60.to_csv('ofr20161106-na-omit-feat-60.csv', index=False)"
   ]
  },
  {
   "cell_type": "code",
   "execution_count": 23,
   "metadata": {
    "tags": []
   },
   "outputs": [
    {
     "data": {
      "text/html": [
       "<div>\n",
       "<style scoped>\n",
       "    .dataframe tbody tr th:only-of-type {\n",
       "        vertical-align: middle;\n",
       "    }\n",
       "\n",
       "    .dataframe tbody tr th {\n",
       "        vertical-align: top;\n",
       "    }\n",
       "\n",
       "    .dataframe thead th {\n",
       "        text-align: right;\n",
       "    }\n",
       "</style>\n",
       "<table border=\"1\" class=\"dataframe\">\n",
       "  <thead>\n",
       "    <tr style=\"text-align: right;\">\n",
       "      <th></th>\n",
       "      <th>Peak_I60_mm/h</th>\n",
       "      <th>PropHM23</th>\n",
       "      <th>dNBR/1000</th>\n",
       "      <th>KF</th>\n",
       "      <th>Response</th>\n",
       "    </tr>\n",
       "  </thead>\n",
       "  <tbody>\n",
       "    <tr>\n",
       "      <th>0</th>\n",
       "      <td>2.0</td>\n",
       "      <td>0.217933</td>\n",
       "      <td>0.297853</td>\n",
       "      <td>0.250000</td>\n",
       "      <td>0</td>\n",
       "    </tr>\n",
       "    <tr>\n",
       "      <th>1</th>\n",
       "      <td>2.0</td>\n",
       "      <td>0.061249</td>\n",
       "      <td>0.224896</td>\n",
       "      <td>0.250000</td>\n",
       "      <td>0</td>\n",
       "    </tr>\n",
       "    <tr>\n",
       "      <th>2</th>\n",
       "      <td>2.0</td>\n",
       "      <td>0.042968</td>\n",
       "      <td>0.065537</td>\n",
       "      <td>0.248541</td>\n",
       "      <td>0</td>\n",
       "    </tr>\n",
       "    <tr>\n",
       "      <th>3</th>\n",
       "      <td>0.8</td>\n",
       "      <td>0.092164</td>\n",
       "      <td>0.141711</td>\n",
       "      <td>0.250000</td>\n",
       "      <td>0</td>\n",
       "    </tr>\n",
       "    <tr>\n",
       "      <th>4</th>\n",
       "      <td>0.8</td>\n",
       "      <td>0.058353</td>\n",
       "      <td>0.210158</td>\n",
       "      <td>0.250000</td>\n",
       "      <td>0</td>\n",
       "    </tr>\n",
       "    <tr>\n",
       "      <th>...</th>\n",
       "      <td>...</td>\n",
       "      <td>...</td>\n",
       "      <td>...</td>\n",
       "      <td>...</td>\n",
       "      <td>...</td>\n",
       "    </tr>\n",
       "    <tr>\n",
       "      <th>1530</th>\n",
       "      <td>39.0</td>\n",
       "      <td>0.066777</td>\n",
       "      <td>0.373291</td>\n",
       "      <td>0.000000</td>\n",
       "      <td>0</td>\n",
       "    </tr>\n",
       "    <tr>\n",
       "      <th>1534</th>\n",
       "      <td>39.0</td>\n",
       "      <td>0.115890</td>\n",
       "      <td>0.604177</td>\n",
       "      <td>0.000000</td>\n",
       "      <td>0</td>\n",
       "    </tr>\n",
       "    <tr>\n",
       "      <th>1538</th>\n",
       "      <td>39.0</td>\n",
       "      <td>0.112607</td>\n",
       "      <td>0.428204</td>\n",
       "      <td>0.000000</td>\n",
       "      <td>1</td>\n",
       "    </tr>\n",
       "    <tr>\n",
       "      <th>1542</th>\n",
       "      <td>39.0</td>\n",
       "      <td>0.009801</td>\n",
       "      <td>0.187053</td>\n",
       "      <td>0.000000</td>\n",
       "      <td>1</td>\n",
       "    </tr>\n",
       "    <tr>\n",
       "      <th>1546</th>\n",
       "      <td>39.0</td>\n",
       "      <td>0.001571</td>\n",
       "      <td>0.500223</td>\n",
       "      <td>0.000000</td>\n",
       "      <td>0</td>\n",
       "    </tr>\n",
       "  </tbody>\n",
       "</table>\n",
       "<p>1091 rows × 5 columns</p>\n",
       "</div>"
      ],
      "text/plain": [
       "      Peak_I60_mm/h  PropHM23  dNBR/1000        KF  Response\n",
       "0               2.0  0.217933   0.297853  0.250000         0\n",
       "1               2.0  0.061249   0.224896  0.250000         0\n",
       "2               2.0  0.042968   0.065537  0.248541         0\n",
       "3               0.8  0.092164   0.141711  0.250000         0\n",
       "4               0.8  0.058353   0.210158  0.250000         0\n",
       "...             ...       ...        ...       ...       ...\n",
       "1530           39.0  0.066777   0.373291  0.000000         0\n",
       "1534           39.0  0.115890   0.604177  0.000000         0\n",
       "1538           39.0  0.112607   0.428204  0.000000         1\n",
       "1542           39.0  0.009801   0.187053  0.000000         1\n",
       "1546           39.0  0.001571   0.500223  0.000000         0\n",
       "\n",
       "[1091 rows x 5 columns]"
      ]
     },
     "execution_count": 23,
     "metadata": {},
     "output_type": "execute_result"
    }
   ],
   "source": [
    "raw_data_feat_60"
   ]
  },
  {
   "cell_type": "markdown",
   "metadata": {},
   "source": [
    "## Staley 16 <a id=\"st16\">\n",
    "recreate Staley's Logistic Regression and calculate model evaluation metrics"
   ]
  },
  {
   "cell_type": "code",
   "execution_count": 24,
   "metadata": {
    "tags": []
   },
   "outputs": [
    {
     "data": {
      "text/html": [
       "<div>\n",
       "<style scoped>\n",
       "    .dataframe tbody tr th:only-of-type {\n",
       "        vertical-align: middle;\n",
       "    }\n",
       "\n",
       "    .dataframe tbody tr th {\n",
       "        vertical-align: top;\n",
       "    }\n",
       "\n",
       "    .dataframe thead th {\n",
       "        text-align: right;\n",
       "    }\n",
       "</style>\n",
       "<table border=\"1\" class=\"dataframe\">\n",
       "  <thead>\n",
       "    <tr style=\"text-align: right;\">\n",
       "      <th></th>\n",
       "      <th>PropHM23_x_i15</th>\n",
       "      <th>dNBR_x_i15</th>\n",
       "      <th>KF_x_i15</th>\n",
       "      <th>Response</th>\n",
       "      <th>Database</th>\n",
       "    </tr>\n",
       "  </thead>\n",
       "  <tbody>\n",
       "    <tr>\n",
       "      <th>0</th>\n",
       "      <td>0.174346</td>\n",
       "      <td>0.238282</td>\n",
       "      <td>0.200000</td>\n",
       "      <td>0</td>\n",
       "      <td>Training</td>\n",
       "    </tr>\n",
       "    <tr>\n",
       "      <th>1</th>\n",
       "      <td>0.048999</td>\n",
       "      <td>0.179916</td>\n",
       "      <td>0.200000</td>\n",
       "      <td>0</td>\n",
       "      <td>Training</td>\n",
       "    </tr>\n",
       "    <tr>\n",
       "      <th>2</th>\n",
       "      <td>0.034374</td>\n",
       "      <td>0.052430</td>\n",
       "      <td>0.198832</td>\n",
       "      <td>0</td>\n",
       "      <td>Training</td>\n",
       "    </tr>\n",
       "    <tr>\n",
       "      <th>3</th>\n",
       "      <td>0.036866</td>\n",
       "      <td>0.056684</td>\n",
       "      <td>0.100000</td>\n",
       "      <td>0</td>\n",
       "      <td>Training</td>\n",
       "    </tr>\n",
       "    <tr>\n",
       "      <th>4</th>\n",
       "      <td>0.023341</td>\n",
       "      <td>0.084063</td>\n",
       "      <td>0.100000</td>\n",
       "      <td>0</td>\n",
       "      <td>Training</td>\n",
       "    </tr>\n",
       "    <tr>\n",
       "      <th>...</th>\n",
       "      <td>...</td>\n",
       "      <td>...</td>\n",
       "      <td>...</td>\n",
       "      <td>...</td>\n",
       "      <td>...</td>\n",
       "    </tr>\n",
       "    <tr>\n",
       "      <th>1530</th>\n",
       "      <td>1.051739</td>\n",
       "      <td>5.879331</td>\n",
       "      <td>0.000000</td>\n",
       "      <td>0</td>\n",
       "      <td>Test</td>\n",
       "    </tr>\n",
       "    <tr>\n",
       "      <th>1534</th>\n",
       "      <td>1.825272</td>\n",
       "      <td>9.515783</td>\n",
       "      <td>0.000000</td>\n",
       "      <td>0</td>\n",
       "      <td>Test</td>\n",
       "    </tr>\n",
       "    <tr>\n",
       "      <th>1538</th>\n",
       "      <td>1.773559</td>\n",
       "      <td>6.744213</td>\n",
       "      <td>0.000000</td>\n",
       "      <td>1</td>\n",
       "      <td>Test</td>\n",
       "    </tr>\n",
       "    <tr>\n",
       "      <th>1542</th>\n",
       "      <td>0.154359</td>\n",
       "      <td>2.946077</td>\n",
       "      <td>0.000000</td>\n",
       "      <td>1</td>\n",
       "      <td>Test</td>\n",
       "    </tr>\n",
       "    <tr>\n",
       "      <th>1546</th>\n",
       "      <td>0.024740</td>\n",
       "      <td>7.878512</td>\n",
       "      <td>0.000000</td>\n",
       "      <td>0</td>\n",
       "      <td>Test</td>\n",
       "    </tr>\n",
       "  </tbody>\n",
       "</table>\n",
       "<p>1091 rows × 5 columns</p>\n",
       "</div>"
      ],
      "text/plain": [
       "      PropHM23_x_i15  dNBR_x_i15  KF_x_i15  Response  Database\n",
       "0           0.174346    0.238282  0.200000         0  Training\n",
       "1           0.048999    0.179916  0.200000         0  Training\n",
       "2           0.034374    0.052430  0.198832         0  Training\n",
       "3           0.036866    0.056684  0.100000         0  Training\n",
       "4           0.023341    0.084063  0.100000         0  Training\n",
       "...              ...         ...       ...       ...       ...\n",
       "1530        1.051739    5.879331  0.000000         0      Test\n",
       "1534        1.825272    9.515783  0.000000         0      Test\n",
       "1538        1.773559    6.744213  0.000000         1      Test\n",
       "1542        0.154359    2.946077  0.000000         1      Test\n",
       "1546        0.024740    7.878512  0.000000         0      Test\n",
       "\n",
       "[1091 rows x 5 columns]"
      ]
     },
     "execution_count": 24,
     "metadata": {},
     "output_type": "execute_result"
    }
   ],
   "source": [
    "staley_data = raw_data.copy()\n",
    "\n",
    "#computing input data just as in Staley'16\n",
    "staley_data[\"PropHM23_x_i15\"] = staley_data[\"PropHM23\"] * staley_data[\"Acc015_mm\"]\n",
    "staley_data[\"dNBR_x_i15\"] = staley_data[\"dNBR/1000\"] * staley_data[\"Acc015_mm\"]\n",
    "staley_data[\"KF_x_i15\"] = staley_data[\"KF\"] * staley_data[\"Acc015_mm\"]\n",
    "\n",
    "use_cols=[\"PropHM23_x_i15\",\n",
    "          \"dNBR_x_i15\", \n",
    "          \"KF_x_i15\",\n",
    "          \"Response\",\n",
    "          \"Database\",\n",
    "         ]\n",
    "staley_data = staley_data[use_cols]\n",
    "staley_data"
   ]
  },
  {
   "cell_type": "code",
   "execution_count": 25,
   "metadata": {
    "tags": []
   },
   "outputs": [],
   "source": [
    "# Split based on Staley criteria (trained on SoCal sites)\n",
    "X_train = staley_data[staley_data['Database'] == 'Training'].iloc[:,:3]\n",
    "y_train = staley_data[staley_data['Database'] == 'Training'].iloc[:,3]\n",
    "\n",
    "X_test = staley_data[staley_data['Database'] == 'Test'].iloc[:,:3]\n",
    "y_test = staley_data[staley_data['Database'] == 'Test'].iloc[:,3]"
   ]
  },
  {
   "cell_type": "code",
   "execution_count": 26,
   "metadata": {
    "tags": []
   },
   "outputs": [
    {
     "name": "stdout",
     "output_type": "stream",
     "text": [
      "Training accuracy: 0.8266494178525227\n",
      "Test accuracy: 0.6257861635220126\n",
      "\n",
      "\n",
      "F1 Score (test): 0.48484848484848486\n"
     ]
    },
    {
     "data": {
      "image/png": "[encoded data removed]",
      "text/plain": [
       "<Figure size 640x480 with 1 Axes>"
      ]
     },
     "metadata": {},
     "output_type": "display_data"
    }
   ],
   "source": [
    "# SoCal train\n",
    "\n",
    "# instantiate and fit model on training data\n",
    "clf = LogisticRegression(random_state=seed, penalty='l2').fit(X_train, y_train)\n",
    "\n",
    "# predict training data\n",
    "y_train_pred = clf.predict(X_train)\n",
    "\n",
    "# predict testing data\n",
    "y_test_pred = clf.predict(X_test)\n",
    "\n",
    "# accuracy\n",
    "train_pred_correct = sum(y_train == y_train_pred)\n",
    "train_accuracy = (train_pred_correct / y_train.shape[0])\n",
    "print(f'Training accuracy: {train_accuracy}')\n",
    "\n",
    "test_pred_correct = sum(y_test == y_test_pred)\n",
    "test_accuracy = (test_pred_correct / y_test.shape[0])\n",
    "print(f'Test accuracy: {test_accuracy}')\n",
    "\n",
    "# f1\n",
    "f1_output = f1_score(y_test, y_test_pred)\n",
    "print(\"\\n\")\n",
    "print(f'F1 Score (test): {f1_output}')\n",
    "\n",
    "# plot AUC\n",
    "fig, ax = plt.subplots()\n",
    "\n",
    "RocCurveDisplay.from_predictions(y_train, \n",
    "                                 y_train_pred,\n",
    "                                 ax=ax, \n",
    "                                 linewidth=1, \n",
    "                                 color='red', \n",
    "                                 name='train', \n",
    "                                 linestyle=\"dashed\"\n",
    "                                );\n",
    "\n",
    "RocCurveDisplay.from_predictions(y_test, \n",
    "                                 y_test_pred,\n",
    "                                 ax=ax, \n",
    "                                 linewidth=1, \n",
    "                                 color='yellow', \n",
    "                                 name='test');\n",
    "\n",
    "plt.title('Logistic Regression: 15 min rain accum.');"
   ]
  },
  {
   "cell_type": "code",
   "execution_count": null,
   "metadata": {},
   "outputs": [],
   "source": []
  },
  {
   "cell_type": "code",
   "execution_count": null,
   "metadata": {},
   "outputs": [],
   "source": []
  },
  {
   "cell_type": "markdown",
   "metadata": {},
   "source": [
    "## Random Forest Classifier <a id=\"RF\">"
   ]
  },
  {
   "cell_type": "markdown",
   "metadata": {},
   "source": [
    "### TASK LIST\n",
    "- Add performance metrics such as Jaccard, F1 score and AUC score (scikit-learn) to compare the performance of your NN to Staley’s values and those of our previous work.\n",
    "\n",
    "- The data preparation notebooks I pushed to the repository contain more processing steps including a train-test split on a site basis and randomization of precipitation values which I found helpful. I recommend you use these steps as well."
   ]
  },
  {
   "cell_type": "code",
   "execution_count": 27,
   "metadata": {
    "tags": []
   },
   "outputs": [
    {
     "name": "stdout",
     "output_type": "stream",
     "text": [
      "Training accuracy: 1.0\n",
      "Test accuracy: 0.8401826484018264\n",
      "\n",
      "\n",
      "F1 Score (test): 0.6464646464646464\n"
     ]
    },
    {
     "data": {
      "image/png": "[encoded data removed]",
      "text/plain": [
       "<Figure size 640x480 with 1 Axes>"
      ]
     },
     "metadata": {},
     "output_type": "display_data"
    }
   ],
   "source": [
    "# 15 MIN\n",
    "\n",
    "# Load data\n",
    "data = pd.read_csv('ofr20161106-na-omit-feat-15.csv')\n",
    "X = data.iloc[:, :4] # input features\n",
    "y = data.iloc[:, 4] # debris flow bool\n",
    "\n",
    "X_train, X_test, y_train, y_test = train_test_split(X, y, test_size=0.2, random_state=seed)\n",
    "\n",
    "# instantiate and fit model on training data\n",
    "clf = RandomForestClassifier(random_state=seed).fit(X_train, y_train)\n",
    "\n",
    "# predict training data\n",
    "y_train_pred = clf.predict(X_train)\n",
    "\n",
    "# predict testing data\n",
    "y_test_pred = clf.predict(X_test)\n",
    "\n",
    "# store probabilities\n",
    "y_train_proba = clf.predict_proba(X_train)\n",
    "y_test_proba = clf.predict_proba(X_test)\n",
    "\n",
    "\n",
    "# accuracy\n",
    "train_pred_correct = sum(y_train == y_train_pred)\n",
    "train_accuracy = (train_pred_correct / y_train.shape[0])\n",
    "print(f'Training accuracy: {train_accuracy}')\n",
    "\n",
    "test_pred_correct = sum(y_test == y_test_pred)\n",
    "test_accuracy = (test_pred_correct / y_test.shape[0])\n",
    "print(f'Test accuracy: {test_accuracy}')\n",
    "\n",
    "# f1\n",
    "f1_output = f1_score(y_test, y_test_pred)\n",
    "print(\"\\n\")\n",
    "print(f'F1 Score (test): {f1_output}')\n",
    "\n",
    "# plot AUC\n",
    "fig, ax = plt.subplots()\n",
    "\n",
    "RocCurveDisplay.from_predictions(y_train, \n",
    "                                 y_train_pred,\n",
    "                                 ax=ax, \n",
    "                                 linewidth=1, \n",
    "                                 color='red', \n",
    "                                 name='train', \n",
    "                                 linestyle=\"dashed\"\n",
    "                                );\n",
    "\n",
    "RocCurveDisplay.from_predictions(y_test, \n",
    "                                 y_test_pred,\n",
    "                                 ax=ax, \n",
    "                                 linewidth=1, \n",
    "                                 color='yellow', \n",
    "                                 name='test');\n",
    "\n",
    "plt.title('RandomForest: 15 min rain accum.');"
   ]
  },
  {
   "cell_type": "code",
   "execution_count": 28,
   "metadata": {
    "tags": []
   },
   "outputs": [
    {
     "name": "stdout",
     "output_type": "stream",
     "text": [
      "Training accuracy: 0.9977064220183486\n",
      "Test accuracy: 0.8584474885844748\n",
      "\n",
      "\n",
      "F1 Score (test): 0.6930693069306931\n"
     ]
    },
    {
     "data": {
      "image/png": "[encoded data removed]",
      "text/plain": [
       "<Figure size 640x480 with 1 Axes>"
      ]
     },
     "metadata": {},
     "output_type": "display_data"
    }
   ],
   "source": [
    "# 30 MIN\n",
    "\n",
    "# Load data\n",
    "data = pd.read_csv('ofr20161106-na-omit-feat-30.csv')\n",
    "X = data.iloc[:, :4] # input features\n",
    "y = data.iloc[:, 4] # debris flow bool\n",
    "\n",
    "X_train, X_test, y_train, y_test = train_test_split(X, y, test_size=0.2, random_state=seed)\n",
    "\n",
    "# instantiate and fit model on training data\n",
    "clf = RandomForestClassifier(random_state=seed).fit(X_train, y_train)\n",
    "\n",
    "# predict training data\n",
    "y_train_pred = clf.predict(X_train)\n",
    "\n",
    "# predict testing data\n",
    "y_test_pred = clf.predict(X_test)\n",
    "\n",
    "# store probabilities\n",
    "y_train_proba = clf.predict_proba(X_train)\n",
    "y_test_proba = clf.predict_proba(X_test)\n",
    "\n",
    "\n",
    "# accuracy\n",
    "train_pred_correct = sum(y_train == y_train_pred)\n",
    "train_accuracy = (train_pred_correct / y_train.shape[0])\n",
    "print(f'Training accuracy: {train_accuracy}')\n",
    "\n",
    "test_pred_correct = sum(y_test == y_test_pred)\n",
    "test_accuracy = (test_pred_correct / y_test.shape[0])\n",
    "print(f'Test accuracy: {test_accuracy}')\n",
    "\n",
    "# f1\n",
    "f1_output = f1_score(y_test, y_test_pred)\n",
    "print(\"\\n\")\n",
    "print(f'F1 Score (test): {f1_output}')\n",
    "\n",
    "# plot AUC\n",
    "fig, ax = plt.subplots()\n",
    "\n",
    "RocCurveDisplay.from_predictions(y_train, \n",
    "                                 y_train_pred,\n",
    "                                 ax=ax, \n",
    "                                 linewidth=1, \n",
    "                                 color='red', \n",
    "                                 name='train', \n",
    "                                 linestyle=\"dashed\"\n",
    "                                );\n",
    "\n",
    "RocCurveDisplay.from_predictions(y_test, \n",
    "                                 y_test_pred,\n",
    "                                 ax=ax, \n",
    "                                 linewidth=1, \n",
    "                                 color='yellow', \n",
    "                                 name='test');\n",
    "\n",
    "plt.title('RandomForest: 30 min rain accum.');"
   ]
  },
  {
   "cell_type": "code",
   "execution_count": 29,
   "metadata": {},
   "outputs": [
    {
     "name": "stdout",
     "output_type": "stream",
     "text": [
      "Training accuracy: 1.0\n",
      "Test accuracy: 0.867579908675799\n",
      "\n",
      "\n",
      "F1 Score (test): 0.7010309278350515\n"
     ]
    },
    {
     "data": {
      "image/png": "[encoded data removed]",
      "text/plain": [
       "<Figure size 640x480 with 1 Axes>"
      ]
     },
     "metadata": {},
     "output_type": "display_data"
    }
   ],
   "source": [
    "# 60 MIN\n",
    "\n",
    "# Load data\n",
    "data = pd.read_csv('ofr20161106-na-omit-feat-60.csv')\n",
    "X = data.iloc[:, :4] # input features\n",
    "y = data.iloc[:, 4] # debris flow bool\n",
    "\n",
    "X_train, X_test, y_train, y_test = train_test_split(X, y, test_size=0.2, random_state=seed)\n",
    "\n",
    "# instantiate and fit model on training data\n",
    "clf = RandomForestClassifier(random_state=seed).fit(X_train, y_train)\n",
    "\n",
    "# predict training data\n",
    "y_train_pred = clf.predict(X_train)\n",
    "\n",
    "# predict testing data\n",
    "y_test_pred = clf.predict(X_test)\n",
    "\n",
    "# store probabilities\n",
    "y_train_proba = clf.predict_proba(X_train)\n",
    "y_test_proba = clf.predict_proba(X_test)\n",
    "\n",
    "\n",
    "# accuracy\n",
    "train_pred_correct = sum(y_train == y_train_pred)\n",
    "train_accuracy = (train_pred_correct / y_train.shape[0])\n",
    "print(f'Training accuracy: {train_accuracy}')\n",
    "\n",
    "test_pred_correct = sum(y_test == y_test_pred)\n",
    "test_accuracy = (test_pred_correct / y_test.shape[0])\n",
    "print(f'Test accuracy: {test_accuracy}')\n",
    "\n",
    "# f1\n",
    "f1_output = f1_score(y_test, y_test_pred)\n",
    "print(\"\\n\")\n",
    "print(f'F1 Score (test): {f1_output}')\n",
    "\n",
    "# plot AUC\n",
    "fig, ax = plt.subplots()\n",
    "\n",
    "RocCurveDisplay.from_predictions(y_train, \n",
    "                                 y_train_pred,\n",
    "                                 ax=ax, \n",
    "                                 linewidth=1, \n",
    "                                 color='red', \n",
    "                                 name='train', \n",
    "                                 linestyle=\"dashed\"\n",
    "                                );\n",
    "\n",
    "RocCurveDisplay.from_predictions(y_test, \n",
    "                                 y_test_pred,\n",
    "                                 ax=ax, \n",
    "                                 linewidth=1, \n",
    "                                 color='yellow', \n",
    "                                 name='test');\n",
    "\n",
    "plt.title('RandomForest: 60 min rain accum.');"
   ]
  },
  {
   "cell_type": "code",
   "execution_count": null,
   "metadata": {},
   "outputs": [],
   "source": []
  },
  {
   "cell_type": "code",
   "execution_count": null,
   "metadata": {},
   "outputs": [],
   "source": []
  },
  {
   "cell_type": "code",
   "execution_count": null,
   "metadata": {},
   "outputs": [],
   "source": []
  },
  {
   "cell_type": "code",
   "execution_count": null,
   "metadata": {},
   "outputs": [],
   "source": []
  }
 ],
 "metadata": {
  "kernelspec": {
   "display_name": "Python 3 (ipykernel)",
   "language": "python",
   "name": "python3"
  },
  "language_info": {
   "codemirror_mode": {
    "name": "ipython",
    "version": 3
   },
   "file_extension": ".py",
   "mimetype": "text/x-python",
   "name": "python",
   "nbconvert_exporter": "python",
   "pygments_lexer": "ipython3",
   "version": "3.10.10"
  }
 },
 "nbformat": 4,
 "nbformat_minor": 4
}
