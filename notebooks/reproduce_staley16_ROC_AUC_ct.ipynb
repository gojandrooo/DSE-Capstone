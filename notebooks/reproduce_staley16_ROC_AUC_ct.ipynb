{
 "cells": [
  {
   "cell_type": "markdown",
   "id": "33ed39db-8181-4200-ae07-a6f747e4688e",
   "metadata": {},
   "source": [
    "# Reproduce Staley (2016) Results\n",
    "\n",
    "Based on the calculations in the USGS Emergency Debris Flow Assessment database (https://landslides.usgs.gov/hazards/postfire_debrisflow/), the Intensity I15 is transformed into the total accumulation during the 15 minutes, i.e. I15/4.  This is the same as the value stored in the column \"Acc015_mm\"."
   ]
  },
  {
   "cell_type": "code",
   "execution_count": 1,
   "id": "0ba313b6",
   "metadata": {},
   "outputs": [],
   "source": [
    "import pandas as pd\n",
    "pd.set_option(\"max_colwidth\", None)"
   ]
  },
  {
   "cell_type": "code",
   "execution_count": 2,
   "id": "1a69d9a8",
   "metadata": {},
   "outputs": [],
   "source": [
    "import sklearn\n",
    "import numpy as np"
   ]
  },
  {
   "cell_type": "code",
   "execution_count": 3,
   "id": "6a6c92a7",
   "metadata": {},
   "outputs": [],
   "source": [
    "xl=pd.ExcelFile(\"../data/ofr20161106_appx-1.xlsx\")\n",
    "desc=xl.parse(xl.sheet_names[0])\n",
    "modelData=xl.parse(xl.sheet_names[1])"
   ]
  },
  {
   "cell_type": "code",
   "execution_count": 4,
   "id": "4de5e31e",
   "metadata": {
    "scrolled": true
   },
   "outputs": [
    {
     "data": {
      "text/plain": [
       "Index(['Fire Name', 'Year', 'Fire_ID', 'Fire_SegID', 'Database', 'State',\n",
       "       'UTM_Zone', 'UTM_X', 'UTM_Y', 'Response', 'StormDate', 'GaugeDist_m',\n",
       "       'StormStart', 'StormEnd', 'StormDur_H', 'StormAccum_mm',\n",
       "       'StormAvgI_mm/h', 'Peak_I15_mm/h', 'Peak_I30_mm/h', 'Peak_I60_mm/h',\n",
       "       'ContributingArea_km2', 'PropHM23', 'dNBR/1000', 'KF', 'Acc015_mm',\n",
       "       'Acc030_mm', 'Acc060_mm'],\n",
       "      dtype='object')"
      ]
     },
     "execution_count": 4,
     "metadata": {},
     "output_type": "execute_result"
    }
   ],
   "source": [
    "modelData.columns"
   ]
  },
  {
   "cell_type": "code",
   "execution_count": 5,
   "id": "d3b80e81",
   "metadata": {},
   "outputs": [],
   "source": [
    "from sklearn.neighbors import KNeighborsClassifier, DistanceMetric\n",
    "from sklearn.metrics import accuracy_score, f1_score, jaccard_score, roc_auc_score\n",
    "from sklearn.model_selection import train_test_split\n",
    "from sklearn.tree import DecisionTreeClassifier, export_graphviz\n",
    "from sklearn.linear_model import LogisticRegression\n",
    "from sklearn.ensemble import RandomForestClassifier\n",
    "from sklearn.neighbors import KNeighborsClassifier, DistanceMetric\n",
    "from sklearn.neural_network import MLPClassifier\n",
    "\n",
    "from sklearn.metrics import accuracy_score, roc_curve, auc\n",
    "import matplotlib.pyplot as plt"
   ]
  },
  {
   "cell_type": "code",
   "execution_count": 6,
   "id": "17c27cc6",
   "metadata": {},
   "outputs": [],
   "source": [
    "def get_scores(trues, preds):\n",
    "    scores=[func(trues, preds) for func in [accuracy_score, jaccard_score, f1_score, roc_auc_score]]\n",
    "    return scores\n",
    "\n",
    "def get_scoredf(TrTr, TrPr, TeTr, TePr):\n",
    "    train_scores=get_scores(TrTr, TrPr)\n",
    "    test_scores=get_scores(TeTr, TePr)\n",
    "    \n",
    "    scoredf=pd.DataFrame({\"Training\": train_scores, \"Test\": test_scores}, index=[\"Accurary\", \"Jaccard\", \"F1\", \"AUC\"])\n",
    "    return scoredf"
   ]
  },
  {
   "cell_type": "code",
   "execution_count": 7,
   "id": "835ff2c6-0ff9-41d7-a6b0-593f85c9d780",
   "metadata": {},
   "outputs": [
    {
     "data": {
      "text/plain": [
       "Index(['Fire Name', 'Year', 'Fire_ID', 'Fire_SegID', 'Database', 'State',\n",
       "       'UTM_Zone', 'UTM_X', 'UTM_Y', 'Response', 'StormDate', 'GaugeDist_m',\n",
       "       'StormStart', 'StormEnd', 'StormDur_H', 'StormAccum_mm',\n",
       "       'StormAvgI_mm/h', 'Peak_I15_mm/h', 'Peak_I30_mm/h', 'Peak_I60_mm/h',\n",
       "       'ContributingArea_km2', 'PropHM23', 'dNBR/1000', 'KF', 'Acc015_mm',\n",
       "       'Acc030_mm', 'Acc060_mm'],\n",
       "      dtype='object')"
      ]
     },
     "execution_count": 7,
     "metadata": {},
     "output_type": "execute_result"
    }
   ],
   "source": [
    "modelData.columns"
   ]
  },
  {
   "cell_type": "code",
   "execution_count": 8,
   "id": "78b17a5f-0648-4482-99b7-ea20f8aee8ea",
   "metadata": {},
   "outputs": [],
   "source": [
    "usecols=[\"Acc015_mm\",\n",
    "         \"PropHM23\",\n",
    "         \"dNBR/1000\",\n",
    "         \"KF\",\n",
    "         \"Response\"]\n",
    "\n",
    "usecols = usecols + [\"Database\"]"
   ]
  },
  {
   "cell_type": "code",
   "execution_count": 9,
   "id": "4c2bbf2d-d7f6-4fe5-b2ce-cd107057eac7",
   "metadata": {},
   "outputs": [
    {
     "data": {
      "text/plain": [
       "1243"
      ]
     },
     "execution_count": 9,
     "metadata": {},
     "output_type": "execute_result"
    }
   ],
   "source": [
    "cdata=modelData[usecols].copy()\n",
    "cdata=cdata.dropna()\n",
    "len(cdata)"
   ]
  },
  {
   "cell_type": "markdown",
   "id": "329c723d-97ec-4ecb-b293-2eb0577b698c",
   "metadata": {},
   "source": [
    "Adjusting unrealistic $K_f$ values - commented out, as it's not sure if Staley did this:"
   ]
  },
  {
   "cell_type": "code",
   "execution_count": 10,
   "id": "68e269d0-2fe0-4f4f-a17f-aac94c541e13",
   "metadata": {},
   "outputs": [],
   "source": [
    "#mask=cdata[\"KF\"] > 0.64\n",
    "#cdata.loc[mask,\"KF\"] = cdata[\"KF\"].median()"
   ]
  },
  {
   "cell_type": "code",
   "execution_count": 11,
   "id": "54a68b9c",
   "metadata": {},
   "outputs": [],
   "source": [
    "#computing input data just as in Staley'16\n",
    "\n",
    "cdata[\"PropHM23_x_i15\"] = cdata[\"PropHM23\"] * cdata[\"Acc015_mm\"]\n",
    "cdata[\"dNBR_x_i15\"] = cdata[\"dNBR/1000\"] * cdata[\"Acc015_mm\"]\n",
    "cdata[\"KF_x_i15\"] = cdata[\"KF\"] * cdata[\"Acc015_mm\"]"
   ]
  },
  {
   "cell_type": "code",
   "execution_count": 12,
   "id": "ded9cf19",
   "metadata": {},
   "outputs": [],
   "source": [
    "usecols2=[\"PropHM23_x_i15\",\"dNBR_x_i15\", \"KF_x_i15\"]"
   ]
  },
  {
   "cell_type": "code",
   "execution_count": 13,
   "id": "f78ff7ae-e184-4fb4-ba62-88cd1ac878c9",
   "metadata": {},
   "outputs": [
    {
     "data": {
      "text/html": [
       "<div>\n",
       "<style scoped>\n",
       "    .dataframe tbody tr th:only-of-type {\n",
       "        vertical-align: middle;\n",
       "    }\n",
       "\n",
       "    .dataframe tbody tr th {\n",
       "        vertical-align: top;\n",
       "    }\n",
       "\n",
       "    .dataframe thead th {\n",
       "        text-align: right;\n",
       "    }\n",
       "</style>\n",
       "<table border=\"1\" class=\"dataframe\">\n",
       "  <thead>\n",
       "    <tr style=\"text-align: right;\">\n",
       "      <th></th>\n",
       "      <th>Acc015_mm</th>\n",
       "      <th>PropHM23</th>\n",
       "      <th>dNBR/1000</th>\n",
       "      <th>KF</th>\n",
       "      <th>Response</th>\n",
       "      <th>Database</th>\n",
       "      <th>PropHM23_x_i15</th>\n",
       "      <th>dNBR_x_i15</th>\n",
       "      <th>KF_x_i15</th>\n",
       "    </tr>\n",
       "  </thead>\n",
       "  <tbody>\n",
       "    <tr>\n",
       "      <th>0</th>\n",
       "      <td>0.80</td>\n",
       "      <td>0.217933</td>\n",
       "      <td>0.297853</td>\n",
       "      <td>0.250000</td>\n",
       "      <td>0</td>\n",
       "      <td>Training</td>\n",
       "      <td>0.174346</td>\n",
       "      <td>0.238282</td>\n",
       "      <td>0.200000</td>\n",
       "    </tr>\n",
       "    <tr>\n",
       "      <th>1</th>\n",
       "      <td>0.80</td>\n",
       "      <td>0.061249</td>\n",
       "      <td>0.224896</td>\n",
       "      <td>0.250000</td>\n",
       "      <td>0</td>\n",
       "      <td>Training</td>\n",
       "      <td>0.048999</td>\n",
       "      <td>0.179916</td>\n",
       "      <td>0.200000</td>\n",
       "    </tr>\n",
       "    <tr>\n",
       "      <th>2</th>\n",
       "      <td>0.80</td>\n",
       "      <td>0.042968</td>\n",
       "      <td>0.065537</td>\n",
       "      <td>0.248541</td>\n",
       "      <td>0</td>\n",
       "      <td>Training</td>\n",
       "      <td>0.034374</td>\n",
       "      <td>0.052430</td>\n",
       "      <td>0.198832</td>\n",
       "    </tr>\n",
       "    <tr>\n",
       "      <th>3</th>\n",
       "      <td>0.40</td>\n",
       "      <td>0.092164</td>\n",
       "      <td>0.141711</td>\n",
       "      <td>0.250000</td>\n",
       "      <td>0</td>\n",
       "      <td>Training</td>\n",
       "      <td>0.036866</td>\n",
       "      <td>0.056684</td>\n",
       "      <td>0.100000</td>\n",
       "    </tr>\n",
       "    <tr>\n",
       "      <th>4</th>\n",
       "      <td>0.40</td>\n",
       "      <td>0.058353</td>\n",
       "      <td>0.210158</td>\n",
       "      <td>0.250000</td>\n",
       "      <td>0</td>\n",
       "      <td>Training</td>\n",
       "      <td>0.023341</td>\n",
       "      <td>0.084063</td>\n",
       "      <td>0.100000</td>\n",
       "    </tr>\n",
       "    <tr>\n",
       "      <th>...</th>\n",
       "      <td>...</td>\n",
       "      <td>...</td>\n",
       "      <td>...</td>\n",
       "      <td>...</td>\n",
       "      <td>...</td>\n",
       "      <td>...</td>\n",
       "      <td>...</td>\n",
       "      <td>...</td>\n",
       "      <td>...</td>\n",
       "    </tr>\n",
       "    <tr>\n",
       "      <th>1545</th>\n",
       "      <td>3.50</td>\n",
       "      <td>0.009801</td>\n",
       "      <td>0.187053</td>\n",
       "      <td>0.000000</td>\n",
       "      <td>0</td>\n",
       "      <td>Test</td>\n",
       "      <td>0.034302</td>\n",
       "      <td>0.654684</td>\n",
       "      <td>0.000000</td>\n",
       "    </tr>\n",
       "    <tr>\n",
       "      <th>1546</th>\n",
       "      <td>15.75</td>\n",
       "      <td>0.001571</td>\n",
       "      <td>0.500223</td>\n",
       "      <td>0.000000</td>\n",
       "      <td>0</td>\n",
       "      <td>Test</td>\n",
       "      <td>0.024740</td>\n",
       "      <td>7.878512</td>\n",
       "      <td>0.000000</td>\n",
       "    </tr>\n",
       "    <tr>\n",
       "      <th>1547</th>\n",
       "      <td>7.25</td>\n",
       "      <td>0.001571</td>\n",
       "      <td>0.500223</td>\n",
       "      <td>0.000000</td>\n",
       "      <td>0</td>\n",
       "      <td>Test</td>\n",
       "      <td>0.011388</td>\n",
       "      <td>3.626616</td>\n",
       "      <td>0.000000</td>\n",
       "    </tr>\n",
       "    <tr>\n",
       "      <th>1548</th>\n",
       "      <td>6.25</td>\n",
       "      <td>0.001571</td>\n",
       "      <td>0.500223</td>\n",
       "      <td>0.000000</td>\n",
       "      <td>0</td>\n",
       "      <td>Test</td>\n",
       "      <td>0.009817</td>\n",
       "      <td>3.126394</td>\n",
       "      <td>0.000000</td>\n",
       "    </tr>\n",
       "    <tr>\n",
       "      <th>1549</th>\n",
       "      <td>3.50</td>\n",
       "      <td>0.001571</td>\n",
       "      <td>0.500223</td>\n",
       "      <td>0.000000</td>\n",
       "      <td>0</td>\n",
       "      <td>Test</td>\n",
       "      <td>0.005498</td>\n",
       "      <td>1.750780</td>\n",
       "      <td>0.000000</td>\n",
       "    </tr>\n",
       "  </tbody>\n",
       "</table>\n",
       "<p>1243 rows × 9 columns</p>\n",
       "</div>"
      ],
      "text/plain": [
       "      Acc015_mm  PropHM23  dNBR/1000        KF  Response  Database  \\\n",
       "0          0.80  0.217933   0.297853  0.250000         0  Training   \n",
       "1          0.80  0.061249   0.224896  0.250000         0  Training   \n",
       "2          0.80  0.042968   0.065537  0.248541         0  Training   \n",
       "3          0.40  0.092164   0.141711  0.250000         0  Training   \n",
       "4          0.40  0.058353   0.210158  0.250000         0  Training   \n",
       "...         ...       ...        ...       ...       ...       ...   \n",
       "1545       3.50  0.009801   0.187053  0.000000         0      Test   \n",
       "1546      15.75  0.001571   0.500223  0.000000         0      Test   \n",
       "1547       7.25  0.001571   0.500223  0.000000         0      Test   \n",
       "1548       6.25  0.001571   0.500223  0.000000         0      Test   \n",
       "1549       3.50  0.001571   0.500223  0.000000         0      Test   \n",
       "\n",
       "      PropHM23_x_i15  dNBR_x_i15  KF_x_i15  \n",
       "0           0.174346    0.238282  0.200000  \n",
       "1           0.048999    0.179916  0.200000  \n",
       "2           0.034374    0.052430  0.198832  \n",
       "3           0.036866    0.056684  0.100000  \n",
       "4           0.023341    0.084063  0.100000  \n",
       "...              ...         ...       ...  \n",
       "1545        0.034302    0.654684  0.000000  \n",
       "1546        0.024740    7.878512  0.000000  \n",
       "1547        0.011388    3.626616  0.000000  \n",
       "1548        0.009817    3.126394  0.000000  \n",
       "1549        0.005498    1.750780  0.000000  \n",
       "\n",
       "[1243 rows x 9 columns]"
      ]
     },
     "execution_count": 13,
     "metadata": {},
     "output_type": "execute_result"
    }
   ],
   "source": [
    "cdata"
   ]
  },
  {
   "cell_type": "code",
   "execution_count": 14,
   "id": "5cf6b661",
   "metadata": {},
   "outputs": [],
   "source": [
    "trainX=cdata.query(\"Database == 'Training'\")[usecols2]\n",
    "trainY=cdata.query(\"Database == 'Training'\")[\"Response\"]\n",
    "\n",
    "testX=cdata.query(\"Database == 'Test'\")[usecols2]\n",
    "testY=cdata.query(\"Database == 'Test'\")[\"Response\"]"
   ]
  },
  {
   "cell_type": "markdown",
   "id": "4792673d-8ca7-49fe-9b39-8f593591bb5e",
   "metadata": {},
   "source": [
    "### 1. Logistic Regression"
   ]
  },
  {
   "cell_type": "code",
   "execution_count": 15,
   "id": "cc3e9666",
   "metadata": {},
   "outputs": [
    {
     "data": {
      "text/html": [
       "<div>\n",
       "<style scoped>\n",
       "    .dataframe tbody tr th:only-of-type {\n",
       "        vertical-align: middle;\n",
       "    }\n",
       "\n",
       "    .dataframe tbody tr th {\n",
       "        vertical-align: top;\n",
       "    }\n",
       "\n",
       "    .dataframe thead th {\n",
       "        text-align: right;\n",
       "    }\n",
       "</style>\n",
       "<table border=\"1\" class=\"dataframe\">\n",
       "  <thead>\n",
       "    <tr style=\"text-align: right;\">\n",
       "      <th></th>\n",
       "      <th>Training</th>\n",
       "      <th>Test</th>\n",
       "    </tr>\n",
       "  </thead>\n",
       "  <tbody>\n",
       "    <tr>\n",
       "      <th>Accurary</th>\n",
       "      <td>0.833129</td>\n",
       "      <td>0.647196</td>\n",
       "    </tr>\n",
       "    <tr>\n",
       "      <th>Jaccard</th>\n",
       "      <td>0.411255</td>\n",
       "      <td>0.386179</td>\n",
       "    </tr>\n",
       "    <tr>\n",
       "      <th>F1</th>\n",
       "      <td>0.582822</td>\n",
       "      <td>0.557185</td>\n",
       "    </tr>\n",
       "    <tr>\n",
       "      <th>AUC</th>\n",
       "      <td>0.711888</td>\n",
       "      <td>0.703778</td>\n",
       "    </tr>\n",
       "  </tbody>\n",
       "</table>\n",
       "</div>"
      ],
      "text/plain": [
       "          Training      Test\n",
       "Accurary  0.833129  0.647196\n",
       "Jaccard   0.411255  0.386179\n",
       "F1        0.582822  0.557185\n",
       "AUC       0.711888  0.703778"
      ]
     },
     "execution_count": 15,
     "metadata": {},
     "output_type": "execute_result"
    }
   ],
   "source": [
    "clfl = LogisticRegression(random_state=0, penalty='l2').fit(trainX, trainY)\n",
    "lr_trainYp=clfl.predict(trainX)\n",
    "lr_testYp=clfl.predict(testX)\n",
    "\n",
    "scoredf_lr=get_scoredf(trainY, lr_trainYp, testY, lr_testYp)\n",
    "scoredf_lr"
   ]
  },
  {
   "cell_type": "markdown",
   "id": "6240cf51-daeb-4edd-8d52-66c36a9ee826",
   "metadata": {},
   "source": [
    "### 2.  Random Forest Classifier"
   ]
  },
  {
   "cell_type": "code",
   "execution_count": 16,
   "id": "f6a82753-251a-49b6-be12-1e3110a25a4f",
   "metadata": {},
   "outputs": [
    {
     "data": {
      "text/html": [
       "<div>\n",
       "<style scoped>\n",
       "    .dataframe tbody tr th:only-of-type {\n",
       "        vertical-align: middle;\n",
       "    }\n",
       "\n",
       "    .dataframe tbody tr th {\n",
       "        vertical-align: top;\n",
       "    }\n",
       "\n",
       "    .dataframe thead th {\n",
       "        text-align: right;\n",
       "    }\n",
       "</style>\n",
       "<table border=\"1\" class=\"dataframe\">\n",
       "  <thead>\n",
       "    <tr style=\"text-align: right;\">\n",
       "      <th></th>\n",
       "      <th>Training</th>\n",
       "      <th>Test</th>\n",
       "    </tr>\n",
       "  </thead>\n",
       "  <tbody>\n",
       "    <tr>\n",
       "      <th>Accurary</th>\n",
       "      <td>1.0</td>\n",
       "      <td>0.581776</td>\n",
       "    </tr>\n",
       "    <tr>\n",
       "      <th>Jaccard</th>\n",
       "      <td>1.0</td>\n",
       "      <td>0.353791</td>\n",
       "    </tr>\n",
       "    <tr>\n",
       "      <th>F1</th>\n",
       "      <td>1.0</td>\n",
       "      <td>0.522667</td>\n",
       "    </tr>\n",
       "    <tr>\n",
       "      <th>AUC</th>\n",
       "      <td>1.0</td>\n",
       "      <td>0.667301</td>\n",
       "    </tr>\n",
       "  </tbody>\n",
       "</table>\n",
       "</div>"
      ],
      "text/plain": [
       "          Training      Test\n",
       "Accurary       1.0  0.581776\n",
       "Jaccard        1.0  0.353791\n",
       "F1             1.0  0.522667\n",
       "AUC            1.0  0.667301"
      ]
     },
     "execution_count": 16,
     "metadata": {},
     "output_type": "execute_result"
    }
   ],
   "source": [
    "clfl = RandomForestClassifier(random_state=0).fit(trainX, trainY)\n",
    "rf_trainYp=clfl.predict(trainX)\n",
    "rf_testYp=clfl.predict(testX)\n",
    "\n",
    "scoredf_lr=get_scoredf(trainY, rf_trainYp, testY, rf_testYp)\n",
    "scoredf_lr"
   ]
  },
  {
   "cell_type": "markdown",
   "id": "ef8399b7-9e00-4cb1-b4ac-1dbec562b3bb",
   "metadata": {},
   "source": [
    "### 3. KNeighbors Classifier"
   ]
  },
  {
   "cell_type": "code",
   "execution_count": 17,
   "id": "51db71be-2ab2-4403-b6bd-8463288d9e06",
   "metadata": {},
   "outputs": [
    {
     "data": {
      "text/html": [
       "<div>\n",
       "<style scoped>\n",
       "    .dataframe tbody tr th:only-of-type {\n",
       "        vertical-align: middle;\n",
       "    }\n",
       "\n",
       "    .dataframe tbody tr th {\n",
       "        vertical-align: top;\n",
       "    }\n",
       "\n",
       "    .dataframe thead th {\n",
       "        text-align: right;\n",
       "    }\n",
       "</style>\n",
       "<table border=\"1\" class=\"dataframe\">\n",
       "  <thead>\n",
       "    <tr style=\"text-align: right;\">\n",
       "      <th></th>\n",
       "      <th>Training</th>\n",
       "      <th>Test</th>\n",
       "    </tr>\n",
       "  </thead>\n",
       "  <tbody>\n",
       "    <tr>\n",
       "      <th>Accurary</th>\n",
       "      <td>0.871166</td>\n",
       "      <td>0.600467</td>\n",
       "    </tr>\n",
       "    <tr>\n",
       "      <th>Jaccard</th>\n",
       "      <td>0.556962</td>\n",
       "      <td>0.337209</td>\n",
       "    </tr>\n",
       "    <tr>\n",
       "      <th>F1</th>\n",
       "      <td>0.715447</td>\n",
       "      <td>0.504348</td>\n",
       "    </tr>\n",
       "    <tr>\n",
       "      <th>AUC</th>\n",
       "      <td>0.799042</td>\n",
       "      <td>0.649826</td>\n",
       "    </tr>\n",
       "  </tbody>\n",
       "</table>\n",
       "</div>"
      ],
      "text/plain": [
       "          Training      Test\n",
       "Accurary  0.871166  0.600467\n",
       "Jaccard   0.556962  0.337209\n",
       "F1        0.715447  0.504348\n",
       "AUC       0.799042  0.649826"
      ]
     },
     "execution_count": 17,
     "metadata": {},
     "output_type": "execute_result"
    }
   ],
   "source": [
    "clfl = KNeighborsClassifier().fit(trainX, trainY)\n",
    "knn_trainYp=clfl.predict(trainX)\n",
    "knn_testYp=clfl.predict(testX)\n",
    "\n",
    "scoredf_lr=get_scoredf(trainY, knn_trainYp, testY, knn_testYp)\n",
    "scoredf_lr"
   ]
  },
  {
   "cell_type": "markdown",
   "id": "eb653240-196f-449c-8346-d10a2e8f68bd",
   "metadata": {},
   "source": [
    "### 4. Decision Tree Classifier"
   ]
  },
  {
   "cell_type": "code",
   "execution_count": 18,
   "id": "cf19d8b8-3b8f-427c-a3be-3c213b1d02e0",
   "metadata": {},
   "outputs": [
    {
     "data": {
      "text/html": [
       "<div>\n",
       "<style scoped>\n",
       "    .dataframe tbody tr th:only-of-type {\n",
       "        vertical-align: middle;\n",
       "    }\n",
       "\n",
       "    .dataframe tbody tr th {\n",
       "        vertical-align: top;\n",
       "    }\n",
       "\n",
       "    .dataframe thead th {\n",
       "        text-align: right;\n",
       "    }\n",
       "</style>\n",
       "<table border=\"1\" class=\"dataframe\">\n",
       "  <thead>\n",
       "    <tr style=\"text-align: right;\">\n",
       "      <th></th>\n",
       "      <th>Training</th>\n",
       "      <th>Test</th>\n",
       "    </tr>\n",
       "  </thead>\n",
       "  <tbody>\n",
       "    <tr>\n",
       "      <th>Accurary</th>\n",
       "      <td>1.0</td>\n",
       "      <td>0.544393</td>\n",
       "    </tr>\n",
       "    <tr>\n",
       "      <th>Jaccard</th>\n",
       "      <td>1.0</td>\n",
       "      <td>0.313380</td>\n",
       "    </tr>\n",
       "    <tr>\n",
       "      <th>F1</th>\n",
       "      <td>1.0</td>\n",
       "      <td>0.477212</td>\n",
       "    </tr>\n",
       "    <tr>\n",
       "      <th>AUC</th>\n",
       "      <td>1.0</td>\n",
       "      <td>0.616988</td>\n",
       "    </tr>\n",
       "  </tbody>\n",
       "</table>\n",
       "</div>"
      ],
      "text/plain": [
       "          Training      Test\n",
       "Accurary       1.0  0.544393\n",
       "Jaccard        1.0  0.313380\n",
       "F1             1.0  0.477212\n",
       "AUC            1.0  0.616988"
      ]
     },
     "execution_count": 18,
     "metadata": {},
     "output_type": "execute_result"
    }
   ],
   "source": [
    "clfl = DecisionTreeClassifier(random_state=0).fit(trainX, trainY)\n",
    "dt_trainYp=clfl.predict(trainX)\n",
    "dt_testYp=clfl.predict(testX)\n",
    "\n",
    "scoredf_lr=get_scoredf(trainY, dt_trainYp, testY, dt_testYp)\n",
    "scoredf_lr"
   ]
  },
  {
   "cell_type": "markdown",
   "id": "21f55701-222c-45c9-9007-38b489ea5ad6",
   "metadata": {},
   "source": [
    "### 5. Neural Network"
   ]
  },
  {
   "cell_type": "code",
   "execution_count": 19,
   "id": "17c2330c-9c73-4104-b931-d3dc1de4d455",
   "metadata": {},
   "outputs": [
    {
     "data": {
      "text/html": [
       "<div>\n",
       "<style scoped>\n",
       "    .dataframe tbody tr th:only-of-type {\n",
       "        vertical-align: middle;\n",
       "    }\n",
       "\n",
       "    .dataframe tbody tr th {\n",
       "        vertical-align: top;\n",
       "    }\n",
       "\n",
       "    .dataframe thead th {\n",
       "        text-align: right;\n",
       "    }\n",
       "</style>\n",
       "<table border=\"1\" class=\"dataframe\">\n",
       "  <thead>\n",
       "    <tr style=\"text-align: right;\">\n",
       "      <th></th>\n",
       "      <th>Training</th>\n",
       "      <th>Test</th>\n",
       "    </tr>\n",
       "  </thead>\n",
       "  <tbody>\n",
       "    <tr>\n",
       "      <th>Accurary</th>\n",
       "      <td>0.836810</td>\n",
       "      <td>0.591121</td>\n",
       "    </tr>\n",
       "    <tr>\n",
       "      <th>Jaccard</th>\n",
       "      <td>0.454918</td>\n",
       "      <td>0.339623</td>\n",
       "    </tr>\n",
       "    <tr>\n",
       "      <th>F1</th>\n",
       "      <td>0.625352</td>\n",
       "      <td>0.507042</td>\n",
       "    </tr>\n",
       "    <tr>\n",
       "      <th>AUC</th>\n",
       "      <td>0.741103</td>\n",
       "      <td>0.651688</td>\n",
       "    </tr>\n",
       "  </tbody>\n",
       "</table>\n",
       "</div>"
      ],
      "text/plain": [
       "          Training      Test\n",
       "Accurary  0.836810  0.591121\n",
       "Jaccard   0.454918  0.339623\n",
       "F1        0.625352  0.507042\n",
       "AUC       0.741103  0.651688"
      ]
     },
     "execution_count": 19,
     "metadata": {},
     "output_type": "execute_result"
    }
   ],
   "source": [
    "clfl = MLPClassifier(hidden_layer_sizes=(30, 30, 30), max_iter=1000).fit(trainX, trainY)\n",
    "nn_trainYp=clfl.predict(trainX)\n",
    "nn_testYp=clfl.predict(testX)\n",
    "\n",
    "scoredf_lr=get_scoredf(trainY, nn_trainYp, testY, nn_testYp)\n",
    "scoredf_lr"
   ]
  },
  {
   "cell_type": "code",
   "execution_count": 20,
   "id": "d053366a-d0ac-4f87-90f0-c44210d20d54",
   "metadata": {},
   "outputs": [],
   "source": [
    "# Calculate ROC curve and AUC\n",
    "lr_fpr, lr_tpr, _ = roc_curve(testY, lr_testYp)\n",
    "lr_auc = auc(lr_fpr, lr_tpr)\n",
    "\n",
    "rf_fpr, rf_tpr, _ = roc_curve(testY, rf_testYp)\n",
    "rf_auc = auc(rf_fpr, rf_tpr)\n",
    "\n",
    "knn_fpr, knn_tpr, _ = roc_curve(testY, knn_testYp)\n",
    "knn_auc = auc(knn_fpr, knn_tpr)\n",
    "\n",
    "dt_fpr, dt_tpr, _ = roc_curve(testY, dt_testYp)\n",
    "dt_auc = auc(dt_fpr, dt_tpr)\n",
    "\n",
    "nn_fpr, nn_tpr, _ = roc_curve(testY, nn_testYp)\n",
    "nn_auc = auc(nn_fpr, nn_tpr)"
   ]
  },
  {
   "cell_type": "code",
   "execution_count": 23,
   "id": "724e38bd-cb19-4cf3-b253-344cbe3a0530",
   "metadata": {},
   "outputs": [
    {
     "data": {
      "image/png": "[encoded data removed]",
      "text/plain": [
       "<Figure size 576x432 with 1 Axes>"
      ]
     },
     "metadata": {
      "needs_background": "light"
     },
     "output_type": "display_data"
    }
   ],
   "source": [
    "# Plot ROC curve\n",
    "plt.figure(figsize=(8, 6))\n",
    "plt.plot(lr_fpr, lr_tpr, label=f'Logistic Regression (AUC = {lr_auc:.2f})')\n",
    "plt.plot(rf_fpr, rf_tpr, label=f'Random Forest (AUC = {rf_auc:.2f})')\n",
    "plt.plot(knn_fpr, knn_tpr, label=f'KNeighbors (AUC = {knn_auc:.2f})')\n",
    "plt.plot(dt_fpr, dt_tpr, label=f'Decision Tree (AUC = {dt_auc:.2f})')\n",
    "plt.plot(nn_fpr, nn_tpr, label=f'Neural Network (AUC = {nn_auc:.2f})')\n",
    "# plt.plot([0, 1], [0, 1], linestyle='--', label='Random Classifier')\n",
    "plt.xlabel('False Positive Rate')\n",
    "plt.ylabel('True Positive Rate')\n",
    "plt.title('ROC Curve')\n",
    "plt.legend()\n",
    "plt.show()"
   ]
  },
  {
   "cell_type": "code",
   "execution_count": null,
   "id": "8b0e3e21-fab2-4b11-a03e-66d5ca4334af",
   "metadata": {},
   "outputs": [],
   "source": []
  },
  {
   "cell_type": "code",
   "execution_count": null,
   "id": "e54432b2-7a14-458a-8a60-6112de52e0ed",
   "metadata": {},
   "outputs": [],
   "source": []
  }
 ],
 "metadata": {
  "kernelspec": {
   "display_name": "Python 3 (ipykernel)",
   "language": "python",
   "name": "python3"
  },
  "language_info": {
   "codemirror_mode": {
    "name": "ipython",
    "version": 3
   },
   "file_extension": ".py",
   "mimetype": "text/x-python",
   "name": "python",
   "nbconvert_exporter": "python",
   "pygments_lexer": "ipython3",
   "version": "3.9.12"
  }
 },
 "nbformat": 4,
 "nbformat_minor": 5
}
