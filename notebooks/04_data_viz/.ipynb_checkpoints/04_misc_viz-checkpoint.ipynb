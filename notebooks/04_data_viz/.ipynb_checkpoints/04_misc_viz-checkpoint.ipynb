{
 "cells": [
  {
   "cell_type": "markdown",
   "id": "35009855-3804-451b-8331-9e791c8da051",
   "metadata": {},
   "source": [
    "# Miscellaneous Visualizations\n",
    "- Alejandro Hohmann\n",
    "- Bhanu Muvva\n",
    "- Chunxia Tong\n",
    "\n",
    "The purpose of this notebook is to generate adhoc visualizations for the report."
   ]
  },
  {
   "cell_type": "code",
   "execution_count": 2,
   "id": "7de56b22-1aae-4bbb-8b66-879fd63ff36e",
   "metadata": {},
   "outputs": [],
   "source": [
    "import os\n",
    "import json\n",
    "import pandas as pd\n",
    "import geopandas as gpd\n",
    "import matplotlib.pyplot as plt\n",
    "plt.style.use('seaborn-v0_8-darkgrid')\n",
    "import seaborn as sns\n",
    "import plotly.express as px\n"
   ]
  },
  {
   "cell_type": "code",
   "execution_count": 1,
   "id": "ec3ba7f8-f5ad-4eb9-9674-316b7ef1d4f7",
   "metadata": {},
   "outputs": [],
   "source": [
    "data_dir = '../../data/'\n",
    "model_dir = '../../model/'\n",
    "architecture = 'TwoLayer_750_epochs_optimized_roc_auc_score' # use whichever model name desired"
   ]
  },
  {
   "cell_type": "code",
   "execution_count": 3,
   "id": "81844ac9-a523-42cf-a8bb-02ad1733229d",
   "metadata": {},
   "outputs": [
    {
     "data": {
      "text/plain": [
       "(693, 24)"
      ]
     },
     "execution_count": 3,
     "metadata": {},
     "output_type": "execute_result"
    }
   ],
   "source": [
    "# now load in all the data\n",
    "site_data = gpd.read_parquet(data_dir + \"sites_v02_plot_data.parquet\")\n",
    "site_data.shape"
   ]
  },
  {
   "cell_type": "code",
   "execution_count": 109,
   "id": "6085579b-5794-49fd-b015-42ede88c8928",
   "metadata": {},
   "outputs": [
    {
     "data": {
      "text/html": [
       "<div>\n",
       "<style scoped>\n",
       "    .dataframe tbody tr th:only-of-type {\n",
       "        vertical-align: middle;\n",
       "    }\n",
       "\n",
       "    .dataframe tbody tr th {\n",
       "        vertical-align: top;\n",
       "    }\n",
       "\n",
       "    .dataframe thead th {\n",
       "        text-align: right;\n",
       "    }\n",
       "</style>\n",
       "<table border=\"1\" class=\"dataframe\">\n",
       "  <thead>\n",
       "    <tr style=\"text-align: right;\">\n",
       "      <th></th>\n",
       "      <th>count</th>\n",
       "      <th>perc</th>\n",
       "    </tr>\n",
       "  </thead>\n",
       "  <tbody>\n",
       "    <tr>\n",
       "      <th>AZ</th>\n",
       "      <td>32</td>\n",
       "      <td>0.046176</td>\n",
       "    </tr>\n",
       "    <tr>\n",
       "      <th>CA</th>\n",
       "      <td>478</td>\n",
       "      <td>0.689755</td>\n",
       "    </tr>\n",
       "    <tr>\n",
       "      <th>CO</th>\n",
       "      <td>107</td>\n",
       "      <td>0.154401</td>\n",
       "    </tr>\n",
       "    <tr>\n",
       "      <th>ID</th>\n",
       "      <td>14</td>\n",
       "      <td>0.020202</td>\n",
       "    </tr>\n",
       "    <tr>\n",
       "      <th>MT</th>\n",
       "      <td>26</td>\n",
       "      <td>0.037518</td>\n",
       "    </tr>\n",
       "    <tr>\n",
       "      <th>NM</th>\n",
       "      <td>32</td>\n",
       "      <td>0.046176</td>\n",
       "    </tr>\n",
       "    <tr>\n",
       "      <th>UT</th>\n",
       "      <td>4</td>\n",
       "      <td>0.005772</td>\n",
       "    </tr>\n",
       "  </tbody>\n",
       "</table>\n",
       "</div>"
      ],
      "text/plain": [
       "    count      perc\n",
       "AZ     32  0.046176\n",
       "CA    478  0.689755\n",
       "CO    107  0.154401\n",
       "ID     14  0.020202\n",
       "MT     26  0.037518\n",
       "NM     32  0.046176\n",
       "UT      4  0.005772"
      ]
     },
     "execution_count": 109,
     "metadata": {},
     "output_type": "execute_result"
    }
   ],
   "source": [
    "state_counts = pd.DataFrame(site_data['state'].value_counts().sort_index()).rename(columns={'state':'count'})\n",
    "state_counts['perc'] = site_data['state'].value_counts(normalize=True).sort_index()\n",
    "state_counts"
   ]
  },
  {
   "cell_type": "code",
   "execution_count": 20,
   "id": "6140557a-35e5-4860-b13f-a69cf73b6e8a",
   "metadata": {},
   "outputs": [
    {
     "data": {
      "text/plain": [
       "Index(['AZ', 'CA', 'CO', 'ID', 'MT', 'NM', 'UT'], dtype='object')"
      ]
     },
     "execution_count": 20,
     "metadata": {},
     "output_type": "execute_result"
    }
   ],
   "source": [
    "states = state_counts.index\n",
    "states"
   ]
  },
  {
   "cell_type": "code",
   "execution_count": 72,
   "id": "76e0e6a6-0617-4a03-80be-20ef248bc4ff",
   "metadata": {},
   "outputs": [
    {
     "data": {
      "text/plain": [
       "['AZ: \\n32',\n",
       " 'CA: \\n478',\n",
       " 'CO: \\n107',\n",
       " 'ID: \\n14',\n",
       " 'MT: \\n26',\n",
       " 'NM: \\n32',\n",
       " 'UT: \\n4']"
      ]
     },
     "execution_count": 72,
     "metadata": {},
     "output_type": "execute_result"
    }
   ],
   "source": [
    "count_list = []\n",
    "\n",
    "for idx, val in state_counts['count'].items():\n",
    "    #print(idx + \": \" + str(val))\n",
    "    count_list.append(idx + \": \\n\" + str(val))\n",
    "    \n",
    "count_list"
   ]
  },
  {
   "cell_type": "code",
   "execution_count": 102,
   "id": "c92f2a38-0338-4a7d-95a5-eb2778760f32",
   "metadata": {},
   "outputs": [
    {
     "data": {
      "application/vnd.plotly.v1+json": {
       "config": {
        "plotlyServerURL": "https://plot.ly"
       },
       "data": [
        {
         "coloraxis": "coloraxis",
         "geo": "geo",
         "hovertemplate": "index=%{location}<br>count=%{z}<extra></extra>",
         "locationmode": "USA-states",
         "locations": [
          "AZ",
          "CA",
          "CO",
          "ID",
          "MT",
          "NM",
          "UT"
         ],
         "name": "",
         "type": "choropleth",
         "z": [
          32,
          478,
          107,
          14,
          26,
          32,
          4
         ]
        },
        {
         "locationmode": "USA-states",
         "locations": [
          "AZ",
          "CA",
          "CO",
          "ID",
          "MT",
          "NM",
          "UT"
         ],
         "mode": "text",
         "text": [
          "AZ",
          "CA",
          "CO",
          "ID",
          "MT",
          "NM",
          "UT"
         ],
         "type": "scattergeo"
        }
       ],
       "layout": {
        "autosize": false,
        "coloraxis": {
         "cmax": 2000,
         "cmin": 0,
         "colorbar": {
          "title": {
           "text": "count"
          }
         },
         "colorscale": [
          [
           0,
           "rgb(255, 198, 196)"
          ],
          [
           0.16666666666666666,
           "rgb(244, 163, 168)"
          ],
          [
           0.3333333333333333,
           "rgb(227, 129, 145)"
          ],
          [
           0.5,
           "rgb(204, 96, 125)"
          ],
          [
           0.6666666666666666,
           "rgb(173, 70, 108)"
          ],
          [
           0.8333333333333334,
           "rgb(139, 48, 88)"
          ],
          [
           1,
           "rgb(103, 32, 68)"
          ]
         ]
        },
        "geo": {
         "center": {
          "lat": 39.061605258861825,
          "lon": -110.77027755756755
         },
         "domain": {
          "x": [
           0,
           1
          ],
          "y": [
           0,
           1
          ]
         },
         "projection": {
          "scale": 0.8213107007520639
         },
         "scope": "usa"
        },
        "height": 1000,
        "legend": {
         "tracegroupgap": 0
        },
        "margin": {
         "t": 60
        },
        "template": {
         "data": {
          "bar": [
           {
            "error_x": {
             "color": "#2a3f5f"
            },
            "error_y": {
             "color": "#2a3f5f"
            },
            "marker": {
             "line": {
              "color": "#E5ECF6",
              "width": 0.5
             },
             "pattern": {
              "fillmode": "overlay",
              "size": 10,
              "solidity": 0.2
             }
            },
            "type": "bar"
           }
          ],
          "barpolar": [
           {
            "marker": {
             "line": {
              "color": "#E5ECF6",
              "width": 0.5
             },
             "pattern": {
              "fillmode": "overlay",
              "size": 10,
              "solidity": 0.2
             }
            },
            "type": "barpolar"
           }
          ],
          "carpet": [
           {
            "aaxis": {
             "endlinecolor": "#2a3f5f",
             "gridcolor": "white",
             "linecolor": "white",
             "minorgridcolor": "white",
             "startlinecolor": "#2a3f5f"
            },
            "baxis": {
             "endlinecolor": "#2a3f5f",
             "gridcolor": "white",
             "linecolor": "white",
             "minorgridcolor": "white",
             "startlinecolor": "#2a3f5f"
            },
            "type": "carpet"
           }
          ],
          "choropleth": [
           {
            "colorbar": {
             "outlinewidth": 0,
             "ticks": ""
            },
            "type": "choropleth"
           }
          ],
          "contour": [
           {
            "colorbar": {
             "outlinewidth": 0,
             "ticks": ""
            },
            "colorscale": [
             [
              0,
              "#0d0887"
             ],
             [
              0.1111111111111111,
              "#46039f"
             ],
             [
              0.2222222222222222,
              "#7201a8"
             ],
             [
              0.3333333333333333,
              "#9c179e"
             ],
             [
              0.4444444444444444,
              "#bd3786"
             ],
             [
              0.5555555555555556,
              "#d8576b"
             ],
             [
              0.6666666666666666,
              "#ed7953"
             ],
             [
              0.7777777777777778,
              "#fb9f3a"
             ],
             [
              0.8888888888888888,
              "#fdca26"
             ],
             [
              1,
              "#f0f921"
             ]
            ],
            "type": "contour"
           }
          ],
          "contourcarpet": [
           {
            "colorbar": {
             "outlinewidth": 0,
             "ticks": ""
            },
            "type": "contourcarpet"
           }
          ],
          "heatmap": [
           {
            "colorbar": {
             "outlinewidth": 0,
             "ticks": ""
            },
            "colorscale": [
             [
              0,
              "#0d0887"
             ],
             [
              0.1111111111111111,
              "#46039f"
             ],
             [
              0.2222222222222222,
              "#7201a8"
             ],
             [
              0.3333333333333333,
              "#9c179e"
             ],
             [
              0.4444444444444444,
              "#bd3786"
             ],
             [
              0.5555555555555556,
              "#d8576b"
             ],
             [
              0.6666666666666666,
              "#ed7953"
             ],
             [
              0.7777777777777778,
              "#fb9f3a"
             ],
             [
              0.8888888888888888,
              "#fdca26"
             ],
             [
              1,
              "#f0f921"
             ]
            ],
            "type": "heatmap"
           }
          ],
          "heatmapgl": [
           {
            "colorbar": {
             "outlinewidth": 0,
             "ticks": ""
            },
            "colorscale": [
             [
              0,
              "#0d0887"
             ],
             [
              0.1111111111111111,
              "#46039f"
             ],
             [
              0.2222222222222222,
              "#7201a8"
             ],
             [
              0.3333333333333333,
              "#9c179e"
             ],
             [
              0.4444444444444444,
              "#bd3786"
             ],
             [
              0.5555555555555556,
              "#d8576b"
             ],
             [
              0.6666666666666666,
              "#ed7953"
             ],
             [
              0.7777777777777778,
              "#fb9f3a"
             ],
             [
              0.8888888888888888,
              "#fdca26"
             ],
             [
              1,
              "#f0f921"
             ]
            ],
            "type": "heatmapgl"
           }
          ],
          "histogram": [
           {
            "marker": {
             "pattern": {
              "fillmode": "overlay",
              "size": 10,
              "solidity": 0.2
             }
            },
            "type": "histogram"
           }
          ],
          "histogram2d": [
           {
            "colorbar": {
             "outlinewidth": 0,
             "ticks": ""
            },
            "colorscale": [
             [
              0,
              "#0d0887"
             ],
             [
              0.1111111111111111,
              "#46039f"
             ],
             [
              0.2222222222222222,
              "#7201a8"
             ],
             [
              0.3333333333333333,
              "#9c179e"
             ],
             [
              0.4444444444444444,
              "#bd3786"
             ],
             [
              0.5555555555555556,
              "#d8576b"
             ],
             [
              0.6666666666666666,
              "#ed7953"
             ],
             [
              0.7777777777777778,
              "#fb9f3a"
             ],
             [
              0.8888888888888888,
              "#fdca26"
             ],
             [
              1,
              "#f0f921"
             ]
            ],
            "type": "histogram2d"
           }
          ],
          "histogram2dcontour": [
           {
            "colorbar": {
             "outlinewidth": 0,
             "ticks": ""
            },
            "colorscale": [
             [
              0,
              "#0d0887"
             ],
             [
              0.1111111111111111,
              "#46039f"
             ],
             [
              0.2222222222222222,
              "#7201a8"
             ],
             [
              0.3333333333333333,
              "#9c179e"
             ],
             [
              0.4444444444444444,
              "#bd3786"
             ],
             [
              0.5555555555555556,
              "#d8576b"
             ],
             [
              0.6666666666666666,
              "#ed7953"
             ],
             [
              0.7777777777777778,
              "#fb9f3a"
             ],
             [
              0.8888888888888888,
              "#fdca26"
             ],
             [
              1,
              "#f0f921"
             ]
            ],
            "type": "histogram2dcontour"
           }
          ],
          "mesh3d": [
           {
            "colorbar": {
             "outlinewidth": 0,
             "ticks": ""
            },
            "type": "mesh3d"
           }
          ],
          "parcoords": [
           {
            "line": {
             "colorbar": {
              "outlinewidth": 0,
              "ticks": ""
             }
            },
            "type": "parcoords"
           }
          ],
          "pie": [
           {
            "automargin": true,
            "type": "pie"
           }
          ],
          "scatter": [
           {
            "fillpattern": {
             "fillmode": "overlay",
             "size": 10,
             "solidity": 0.2
            },
            "type": "scatter"
           }
          ],
          "scatter3d": [
           {
            "line": {
             "colorbar": {
              "outlinewidth": 0,
              "ticks": ""
             }
            },
            "marker": {
             "colorbar": {
              "outlinewidth": 0,
              "ticks": ""
             }
            },
            "type": "scatter3d"
           }
          ],
          "scattercarpet": [
           {
            "marker": {
             "colorbar": {
              "outlinewidth": 0,
              "ticks": ""
             }
            },
            "type": "scattercarpet"
           }
          ],
          "scattergeo": [
           {
            "marker": {
             "colorbar": {
              "outlinewidth": 0,
              "ticks": ""
             }
            },
            "type": "scattergeo"
           }
          ],
          "scattergl": [
           {
            "marker": {
             "colorbar": {
              "outlinewidth": 0,
              "ticks": ""
             }
            },
            "type": "scattergl"
           }
          ],
          "scattermapbox": [
           {
            "marker": {
             "colorbar": {
              "outlinewidth": 0,
              "ticks": ""
             }
            },
            "type": "scattermapbox"
           }
          ],
          "scatterpolar": [
           {
            "marker": {
             "colorbar": {
              "outlinewidth": 0,
              "ticks": ""
             }
            },
            "type": "scatterpolar"
           }
          ],
          "scatterpolargl": [
           {
            "marker": {
             "colorbar": {
              "outlinewidth": 0,
              "ticks": ""
             }
            },
            "type": "scatterpolargl"
           }
          ],
          "scatterternary": [
           {
            "marker": {
             "colorbar": {
              "outlinewidth": 0,
              "ticks": ""
             }
            },
            "type": "scatterternary"
           }
          ],
          "surface": [
           {
            "colorbar": {
             "outlinewidth": 0,
             "ticks": ""
            },
            "colorscale": [
             [
              0,
              "#0d0887"
             ],
             [
              0.1111111111111111,
              "#46039f"
             ],
             [
              0.2222222222222222,
              "#7201a8"
             ],
             [
              0.3333333333333333,
              "#9c179e"
             ],
             [
              0.4444444444444444,
              "#bd3786"
             ],
             [
              0.5555555555555556,
              "#d8576b"
             ],
             [
              0.6666666666666666,
              "#ed7953"
             ],
             [
              0.7777777777777778,
              "#fb9f3a"
             ],
             [
              0.8888888888888888,
              "#fdca26"
             ],
             [
              1,
              "#f0f921"
             ]
            ],
            "type": "surface"
           }
          ],
          "table": [
           {
            "cells": {
             "fill": {
              "color": "#EBF0F8"
             },
             "line": {
              "color": "white"
             }
            },
            "header": {
             "fill": {
              "color": "#C8D4E3"
             },
             "line": {
              "color": "white"
             }
            },
            "type": "table"
           }
          ]
         },
         "layout": {
          "annotationdefaults": {
           "arrowcolor": "#2a3f5f",
           "arrowhead": 0,
           "arrowwidth": 1
          },
          "autotypenumbers": "strict",
          "coloraxis": {
           "colorbar": {
            "outlinewidth": 0,
            "ticks": ""
           }
          },
          "colorscale": {
           "diverging": [
            [
             0,
             "#8e0152"
            ],
            [
             0.1,
             "#c51b7d"
            ],
            [
             0.2,
             "#de77ae"
            ],
            [
             0.3,
             "#f1b6da"
            ],
            [
             0.4,
             "#fde0ef"
            ],
            [
             0.5,
             "#f7f7f7"
            ],
            [
             0.6,
             "#e6f5d0"
            ],
            [
             0.7,
             "#b8e186"
            ],
            [
             0.8,
             "#7fbc41"
            ],
            [
             0.9,
             "#4d9221"
            ],
            [
             1,
             "#276419"
            ]
           ],
           "sequential": [
            [
             0,
             "#0d0887"
            ],
            [
             0.1111111111111111,
             "#46039f"
            ],
            [
             0.2222222222222222,
             "#7201a8"
            ],
            [
             0.3333333333333333,
             "#9c179e"
            ],
            [
             0.4444444444444444,
             "#bd3786"
            ],
            [
             0.5555555555555556,
             "#d8576b"
            ],
            [
             0.6666666666666666,
             "#ed7953"
            ],
            [
             0.7777777777777778,
             "#fb9f3a"
            ],
            [
             0.8888888888888888,
             "#fdca26"
            ],
            [
             1,
             "#f0f921"
            ]
           ],
           "sequentialminus": [
            [
             0,
             "#0d0887"
            ],
            [
             0.1111111111111111,
             "#46039f"
            ],
            [
             0.2222222222222222,
             "#7201a8"
            ],
            [
             0.3333333333333333,
             "#9c179e"
            ],
            [
             0.4444444444444444,
             "#bd3786"
            ],
            [
             0.5555555555555556,
             "#d8576b"
            ],
            [
             0.6666666666666666,
             "#ed7953"
            ],
            [
             0.7777777777777778,
             "#fb9f3a"
            ],
            [
             0.8888888888888888,
             "#fdca26"
            ],
            [
             1,
             "#f0f921"
            ]
           ]
          },
          "colorway": [
           "#636efa",
           "#EF553B",
           "#00cc96",
           "#ab63fa",
           "#FFA15A",
           "#19d3f3",
           "#FF6692",
           "#B6E880",
           "#FF97FF",
           "#FECB52"
          ],
          "font": {
           "color": "#2a3f5f"
          },
          "geo": {
           "bgcolor": "white",
           "lakecolor": "white",
           "landcolor": "#E5ECF6",
           "showlakes": true,
           "showland": true,
           "subunitcolor": "white"
          },
          "hoverlabel": {
           "align": "left"
          },
          "hovermode": "closest",
          "mapbox": {
           "style": "light"
          },
          "paper_bgcolor": "white",
          "plot_bgcolor": "#E5ECF6",
          "polar": {
           "angularaxis": {
            "gridcolor": "white",
            "linecolor": "white",
            "ticks": ""
           },
           "bgcolor": "#E5ECF6",
           "radialaxis": {
            "gridcolor": "white",
            "linecolor": "white",
            "ticks": ""
           }
          },
          "scene": {
           "xaxis": {
            "backgroundcolor": "#E5ECF6",
            "gridcolor": "white",
            "gridwidth": 2,
            "linecolor": "white",
            "showbackground": true,
            "ticks": "",
            "zerolinecolor": "white"
           },
           "yaxis": {
            "backgroundcolor": "#E5ECF6",
            "gridcolor": "white",
            "gridwidth": 2,
            "linecolor": "white",
            "showbackground": true,
            "ticks": "",
            "zerolinecolor": "white"
           },
           "zaxis": {
            "backgroundcolor": "#E5ECF6",
            "gridcolor": "white",
            "gridwidth": 2,
            "linecolor": "white",
            "showbackground": true,
            "ticks": "",
            "zerolinecolor": "white"
           }
          },
          "shapedefaults": {
           "line": {
            "color": "#2a3f5f"
           }
          },
          "ternary": {
           "aaxis": {
            "gridcolor": "white",
            "linecolor": "white",
            "ticks": ""
           },
           "baxis": {
            "gridcolor": "white",
            "linecolor": "white",
            "ticks": ""
           },
           "bgcolor": "#E5ECF6",
           "caxis": {
            "gridcolor": "white",
            "linecolor": "white",
            "ticks": ""
           }
          },
          "title": {
           "x": 0.05
          },
          "xaxis": {
           "automargin": true,
           "gridcolor": "white",
           "linecolor": "white",
           "ticks": "",
           "title": {
            "standoff": 15
           },
           "zerolinecolor": "white",
           "zerolinewidth": 2
          },
          "yaxis": {
           "automargin": true,
           "gridcolor": "white",
           "linecolor": "white",
           "ticks": "",
           "title": {
            "standoff": 15
           },
           "zerolinecolor": "white",
           "zerolinewidth": 2
          }
         }
        },
        "width": 1600
       }
      },
      "image/png": "[encoded data removed]",
      "text/html": [
       "<div>                            <div id=\"691466df-06b7-4cc3-9b3f-5b41a75559a5\" class=\"plotly-graph-div\" style=\"height:1000px; width:1600px;\"></div>            <script type=\"text/javascript\">                require([\"plotly\"], function(Plotly) {                    window.PLOTLYENV=window.PLOTLYENV || {};                                    if (document.getElementById(\"691466df-06b7-4cc3-9b3f-5b41a75559a5\")) {                    Plotly.newPlot(                        \"691466df-06b7-4cc3-9b3f-5b41a75559a5\",                        [{\"coloraxis\":\"coloraxis\",\"geo\":\"geo\",\"hovertemplate\":\"index=%{location}<br>count=%{z}<extra></extra>\",\"locationmode\":\"USA-states\",\"locations\":[\"AZ\",\"CA\",\"CO\",\"ID\",\"MT\",\"NM\",\"UT\"],\"name\":\"\",\"z\":[32,478,107,14,26,32,4],\"type\":\"choropleth\"},{\"locationmode\":\"USA-states\",\"locations\":[\"AZ\",\"CA\",\"CO\",\"ID\",\"MT\",\"NM\",\"UT\"],\"mode\":\"text\",\"text\":[\"AZ\",\"CA\",\"CO\",\"ID\",\"MT\",\"NM\",\"UT\"],\"type\":\"scattergeo\"}],                        {\"template\":{\"data\":{\"histogram2dcontour\":[{\"type\":\"histogram2dcontour\",\"colorbar\":{\"outlinewidth\":0,\"ticks\":\"\"},\"colorscale\":[[0.0,\"#0d0887\"],[0.1111111111111111,\"#46039f\"],[0.2222222222222222,\"#7201a8\"],[0.3333333333333333,\"#9c179e\"],[0.4444444444444444,\"#bd3786\"],[0.5555555555555556,\"#d8576b\"],[0.6666666666666666,\"#ed7953\"],[0.7777777777777778,\"#fb9f3a\"],[0.8888888888888888,\"#fdca26\"],[1.0,\"#f0f921\"]]}],\"choropleth\":[{\"type\":\"choropleth\",\"colorbar\":{\"outlinewidth\":0,\"ticks\":\"\"}}],\"histogram2d\":[{\"type\":\"histogram2d\",\"colorbar\":{\"outlinewidth\":0,\"ticks\":\"\"},\"colorscale\":[[0.0,\"#0d0887\"],[0.1111111111111111,\"#46039f\"],[0.2222222222222222,\"#7201a8\"],[0.3333333333333333,\"#9c179e\"],[0.4444444444444444,\"#bd3786\"],[0.5555555555555556,\"#d8576b\"],[0.6666666666666666,\"#ed7953\"],[0.7777777777777778,\"#fb9f3a\"],[0.8888888888888888,\"#fdca26\"],[1.0,\"#f0f921\"]]}],\"heatmap\":[{\"type\":\"heatmap\",\"colorbar\":{\"outlinewidth\":0,\"ticks\":\"\"},\"colorscale\":[[0.0,\"#0d0887\"],[0.1111111111111111,\"#46039f\"],[0.2222222222222222,\"#7201a8\"],[0.3333333333333333,\"#9c179e\"],[0.4444444444444444,\"#bd3786\"],[0.5555555555555556,\"#d8576b\"],[0.6666666666666666,\"#ed7953\"],[0.7777777777777778,\"#fb9f3a\"],[0.8888888888888888,\"#fdca26\"],[1.0,\"#f0f921\"]]}],\"heatmapgl\":[{\"type\":\"heatmapgl\",\"colorbar\":{\"outlinewidth\":0,\"ticks\":\"\"},\"colorscale\":[[0.0,\"#0d0887\"],[0.1111111111111111,\"#46039f\"],[0.2222222222222222,\"#7201a8\"],[0.3333333333333333,\"#9c179e\"],[0.4444444444444444,\"#bd3786\"],[0.5555555555555556,\"#d8576b\"],[0.6666666666666666,\"#ed7953\"],[0.7777777777777778,\"#fb9f3a\"],[0.8888888888888888,\"#fdca26\"],[1.0,\"#f0f921\"]]}],\"contourcarpet\":[{\"type\":\"contourcarpet\",\"colorbar\":{\"outlinewidth\":0,\"ticks\":\"\"}}],\"contour\":[{\"type\":\"contour\",\"colorbar\":{\"outlinewidth\":0,\"ticks\":\"\"},\"colorscale\":[[0.0,\"#0d0887\"],[0.1111111111111111,\"#46039f\"],[0.2222222222222222,\"#7201a8\"],[0.3333333333333333,\"#9c179e\"],[0.4444444444444444,\"#bd3786\"],[0.5555555555555556,\"#d8576b\"],[0.6666666666666666,\"#ed7953\"],[0.7777777777777778,\"#fb9f3a\"],[0.8888888888888888,\"#fdca26\"],[1.0,\"#f0f921\"]]}],\"surface\":[{\"type\":\"surface\",\"colorbar\":{\"outlinewidth\":0,\"ticks\":\"\"},\"colorscale\":[[0.0,\"#0d0887\"],[0.1111111111111111,\"#46039f\"],[0.2222222222222222,\"#7201a8\"],[0.3333333333333333,\"#9c179e\"],[0.4444444444444444,\"#bd3786\"],[0.5555555555555556,\"#d8576b\"],[0.6666666666666666,\"#ed7953\"],[0.7777777777777778,\"#fb9f3a\"],[0.8888888888888888,\"#fdca26\"],[1.0,\"#f0f921\"]]}],\"mesh3d\":[{\"type\":\"mesh3d\",\"colorbar\":{\"outlinewidth\":0,\"ticks\":\"\"}}],\"scatter\":[{\"fillpattern\":{\"fillmode\":\"overlay\",\"size\":10,\"solidity\":0.2},\"type\":\"scatter\"}],\"parcoords\":[{\"type\":\"parcoords\",\"line\":{\"colorbar\":{\"outlinewidth\":0,\"ticks\":\"\"}}}],\"scatterpolargl\":[{\"type\":\"scatterpolargl\",\"marker\":{\"colorbar\":{\"outlinewidth\":0,\"ticks\":\"\"}}}],\"bar\":[{\"error_x\":{\"color\":\"#2a3f5f\"},\"error_y\":{\"color\":\"#2a3f5f\"},\"marker\":{\"line\":{\"color\":\"#E5ECF6\",\"width\":0.5},\"pattern\":{\"fillmode\":\"overlay\",\"size\":10,\"solidity\":0.2}},\"type\":\"bar\"}],\"scattergeo\":[{\"type\":\"scattergeo\",\"marker\":{\"colorbar\":{\"outlinewidth\":0,\"ticks\":\"\"}}}],\"scatterpolar\":[{\"type\":\"scatterpolar\",\"marker\":{\"colorbar\":{\"outlinewidth\":0,\"ticks\":\"\"}}}],\"histogram\":[{\"marker\":{\"pattern\":{\"fillmode\":\"overlay\",\"size\":10,\"solidity\":0.2}},\"type\":\"histogram\"}],\"scattergl\":[{\"type\":\"scattergl\",\"marker\":{\"colorbar\":{\"outlinewidth\":0,\"ticks\":\"\"}}}],\"scatter3d\":[{\"type\":\"scatter3d\",\"line\":{\"colorbar\":{\"outlinewidth\":0,\"ticks\":\"\"}},\"marker\":{\"colorbar\":{\"outlinewidth\":0,\"ticks\":\"\"}}}],\"scattermapbox\":[{\"type\":\"scattermapbox\",\"marker\":{\"colorbar\":{\"outlinewidth\":0,\"ticks\":\"\"}}}],\"scatterternary\":[{\"type\":\"scatterternary\",\"marker\":{\"colorbar\":{\"outlinewidth\":0,\"ticks\":\"\"}}}],\"scattercarpet\":[{\"type\":\"scattercarpet\",\"marker\":{\"colorbar\":{\"outlinewidth\":0,\"ticks\":\"\"}}}],\"carpet\":[{\"aaxis\":{\"endlinecolor\":\"#2a3f5f\",\"gridcolor\":\"white\",\"linecolor\":\"white\",\"minorgridcolor\":\"white\",\"startlinecolor\":\"#2a3f5f\"},\"baxis\":{\"endlinecolor\":\"#2a3f5f\",\"gridcolor\":\"white\",\"linecolor\":\"white\",\"minorgridcolor\":\"white\",\"startlinecolor\":\"#2a3f5f\"},\"type\":\"carpet\"}],\"table\":[{\"cells\":{\"fill\":{\"color\":\"#EBF0F8\"},\"line\":{\"color\":\"white\"}},\"header\":{\"fill\":{\"color\":\"#C8D4E3\"},\"line\":{\"color\":\"white\"}},\"type\":\"table\"}],\"barpolar\":[{\"marker\":{\"line\":{\"color\":\"#E5ECF6\",\"width\":0.5},\"pattern\":{\"fillmode\":\"overlay\",\"size\":10,\"solidity\":0.2}},\"type\":\"barpolar\"}],\"pie\":[{\"automargin\":true,\"type\":\"pie\"}]},\"layout\":{\"autotypenumbers\":\"strict\",\"colorway\":[\"#636efa\",\"#EF553B\",\"#00cc96\",\"#ab63fa\",\"#FFA15A\",\"#19d3f3\",\"#FF6692\",\"#B6E880\",\"#FF97FF\",\"#FECB52\"],\"font\":{\"color\":\"#2a3f5f\"},\"hovermode\":\"closest\",\"hoverlabel\":{\"align\":\"left\"},\"paper_bgcolor\":\"white\",\"plot_bgcolor\":\"#E5ECF6\",\"polar\":{\"bgcolor\":\"#E5ECF6\",\"angularaxis\":{\"gridcolor\":\"white\",\"linecolor\":\"white\",\"ticks\":\"\"},\"radialaxis\":{\"gridcolor\":\"white\",\"linecolor\":\"white\",\"ticks\":\"\"}},\"ternary\":{\"bgcolor\":\"#E5ECF6\",\"aaxis\":{\"gridcolor\":\"white\",\"linecolor\":\"white\",\"ticks\":\"\"},\"baxis\":{\"gridcolor\":\"white\",\"linecolor\":\"white\",\"ticks\":\"\"},\"caxis\":{\"gridcolor\":\"white\",\"linecolor\":\"white\",\"ticks\":\"\"}},\"coloraxis\":{\"colorbar\":{\"outlinewidth\":0,\"ticks\":\"\"}},\"colorscale\":{\"sequential\":[[0.0,\"#0d0887\"],[0.1111111111111111,\"#46039f\"],[0.2222222222222222,\"#7201a8\"],[0.3333333333333333,\"#9c179e\"],[0.4444444444444444,\"#bd3786\"],[0.5555555555555556,\"#d8576b\"],[0.6666666666666666,\"#ed7953\"],[0.7777777777777778,\"#fb9f3a\"],[0.8888888888888888,\"#fdca26\"],[1.0,\"#f0f921\"]],\"sequentialminus\":[[0.0,\"#0d0887\"],[0.1111111111111111,\"#46039f\"],[0.2222222222222222,\"#7201a8\"],[0.3333333333333333,\"#9c179e\"],[0.4444444444444444,\"#bd3786\"],[0.5555555555555556,\"#d8576b\"],[0.6666666666666666,\"#ed7953\"],[0.7777777777777778,\"#fb9f3a\"],[0.8888888888888888,\"#fdca26\"],[1.0,\"#f0f921\"]],\"diverging\":[[0,\"#8e0152\"],[0.1,\"#c51b7d\"],[0.2,\"#de77ae\"],[0.3,\"#f1b6da\"],[0.4,\"#fde0ef\"],[0.5,\"#f7f7f7\"],[0.6,\"#e6f5d0\"],[0.7,\"#b8e186\"],[0.8,\"#7fbc41\"],[0.9,\"#4d9221\"],[1,\"#276419\"]]},\"xaxis\":{\"gridcolor\":\"white\",\"linecolor\":\"white\",\"ticks\":\"\",\"title\":{\"standoff\":15},\"zerolinecolor\":\"white\",\"automargin\":true,\"zerolinewidth\":2},\"yaxis\":{\"gridcolor\":\"white\",\"linecolor\":\"white\",\"ticks\":\"\",\"title\":{\"standoff\":15},\"zerolinecolor\":\"white\",\"automargin\":true,\"zerolinewidth\":2},\"scene\":{\"xaxis\":{\"backgroundcolor\":\"#E5ECF6\",\"gridcolor\":\"white\",\"linecolor\":\"white\",\"showbackground\":true,\"ticks\":\"\",\"zerolinecolor\":\"white\",\"gridwidth\":2},\"yaxis\":{\"backgroundcolor\":\"#E5ECF6\",\"gridcolor\":\"white\",\"linecolor\":\"white\",\"showbackground\":true,\"ticks\":\"\",\"zerolinecolor\":\"white\",\"gridwidth\":2},\"zaxis\":{\"backgroundcolor\":\"#E5ECF6\",\"gridcolor\":\"white\",\"linecolor\":\"white\",\"showbackground\":true,\"ticks\":\"\",\"zerolinecolor\":\"white\",\"gridwidth\":2}},\"shapedefaults\":{\"line\":{\"color\":\"#2a3f5f\"}},\"annotationdefaults\":{\"arrowcolor\":\"#2a3f5f\",\"arrowhead\":0,\"arrowwidth\":1},\"geo\":{\"bgcolor\":\"white\",\"landcolor\":\"#E5ECF6\",\"subunitcolor\":\"white\",\"showland\":true,\"showlakes\":true,\"lakecolor\":\"white\"},\"title\":{\"x\":0.05},\"mapbox\":{\"style\":\"light\"}}},\"geo\":{\"domain\":{\"x\":[0.0,1.0],\"y\":[0.0,1.0]},\"center\":{},\"scope\":\"usa\"},\"coloraxis\":{\"colorbar\":{\"title\":{\"text\":\"count\"}},\"colorscale\":[[0.0,\"rgb(255, 198, 196)\"],[0.16666666666666666,\"rgb(244, 163, 168)\"],[0.3333333333333333,\"rgb(227, 129, 145)\"],[0.5,\"rgb(204, 96, 125)\"],[0.6666666666666666,\"rgb(173, 70, 108)\"],[0.8333333333333334,\"rgb(139, 48, 88)\"],[1.0,\"rgb(103, 32, 68)\"]],\"cmin\":0,\"cmax\":2000},\"legend\":{\"tracegroupgap\":0},\"margin\":{\"t\":60},\"autosize\":false,\"width\":1600,\"height\":1000},                        {\"responsive\": true}                    ).then(function(){\n",
       "                            \n",
       "var gd = document.getElementById('691466df-06b7-4cc3-9b3f-5b41a75559a5');\n",
       "var x = new MutationObserver(function (mutations, observer) {{\n",
       "        var display = window.getComputedStyle(gd).display;\n",
       "        if (!display || display === 'none') {{\n",
       "            console.log([gd, 'removed!']);\n",
       "            Plotly.purge(gd);\n",
       "            observer.disconnect();\n",
       "        }}\n",
       "}});\n",
       "\n",
       "// Listen for the removal of the full notebook cells\n",
       "var notebookContainer = gd.closest('#notebook-container');\n",
       "if (notebookContainer) {{\n",
       "    x.observe(notebookContainer, {childList: true});\n",
       "}}\n",
       "\n",
       "// Listen for the clearing of the current output cell\n",
       "var outputEl = gd.closest('.output');\n",
       "if (outputEl) {{\n",
       "    x.observe(outputEl, {childList: true});\n",
       "}}\n",
       "\n",
       "                        })                };                });            </script>        </div>"
      ]
     },
     "metadata": {},
     "output_type": "display_data"
    }
   ],
   "source": [
    "fig = px.choropleth(\n",
    "    state_counts,\n",
    "    locations=states,\n",
    "    locationmode=\"USA-states\", \n",
    "    color='count',\n",
    "    #color_continuous_scale='Blues',\n",
    "    #color_continuous_scale='deep',\n",
    "    #color_continuous_scale='dense',\n",
    "    color_continuous_scale='Burg',\n",
    "    scope=\"usa\",\n",
    "    range_color=(0,2000),\n",
    ")\n",
    "fig.update_layout(\n",
    "    autosize=False,\n",
    "    width=1600,\n",
    "    height=1000\n",
    ")\n",
    "\n",
    "fig.add_scattergeo(\n",
    "    locations=state_counts.index,\n",
    "    locationmode=\"USA-states\",\n",
    "    text=states,\n",
    "    #text=count_list,\n",
    "    mode='text',\n",
    ")\n",
    "\n",
    "fig.show()"
   ]
  },
  {
   "cell_type": "code",
   "execution_count": 40,
   "id": "b906ca3d-08af-48a3-9ecd-16ce5bfb774c",
   "metadata": {
    "collapsed": true,
    "jupyter": {
     "outputs_hidden": true
    },
    "tags": []
   },
   "outputs": [
    {
     "name": "stdout",
     "output_type": "stream",
     "text": [
      "Help on method add_scattergeo in module plotly.graph_objs._figure:\n",
      "\n",
      "add_scattergeo(connectgaps=None, customdata=None, customdatasrc=None, featureidkey=None, fill=None, fillcolor=None, geo=None, geojson=None, hoverinfo=None, hoverinfosrc=None, hoverlabel=None, hovertemplate=None, hovertemplatesrc=None, hovertext=None, hovertextsrc=None, ids=None, idssrc=None, lat=None, latsrc=None, legendgroup=None, legendgrouptitle=None, legendrank=None, legendwidth=None, line=None, locationmode=None, locations=None, locationssrc=None, lon=None, lonsrc=None, marker=None, meta=None, metasrc=None, mode=None, name=None, opacity=None, selected=None, selectedpoints=None, showlegend=None, stream=None, text=None, textfont=None, textposition=None, textpositionsrc=None, textsrc=None, texttemplate=None, texttemplatesrc=None, uid=None, uirevision=None, unselected=None, visible=None, row=None, col=None, **kwargs) -> 'Figure' method of plotly.graph_objs._figure.Figure instance\n",
      "    Add a new Scattergeo trace\n",
      "    \n",
      "    The data visualized as scatter point or lines on a geographic\n",
      "    map is provided either by longitude/latitude pairs in `lon` and\n",
      "    `lat` respectively or by geographic location IDs or names in\n",
      "    `locations`.\n",
      "    \n",
      "    Parameters\n",
      "    ----------\n",
      "    connectgaps\n",
      "        Determines whether or not gaps (i.e. {nan} or missing\n",
      "        values) in the provided data arrays are connected.\n",
      "    customdata\n",
      "        Assigns extra data each datum. This may be useful when\n",
      "        listening to hover, click and selection events. Note\n",
      "        that, \"scatter\" traces also appends customdata items in\n",
      "        the markers DOM elements\n",
      "    customdatasrc\n",
      "        Sets the source reference on Chart Studio Cloud for\n",
      "        `customdata`.\n",
      "    featureidkey\n",
      "        Sets the key in GeoJSON features which is used as id to\n",
      "        match the items included in the `locations` array. Only\n",
      "        has an effect when `geojson` is set. Support nested\n",
      "        property, for example \"properties.name\".\n",
      "    fill\n",
      "        Sets the area to fill with a solid color. Use with\n",
      "        `fillcolor` if not \"none\". \"toself\" connects the\n",
      "        endpoints of the trace (or each segment of the trace if\n",
      "        it has gaps) into a closed shape.\n",
      "    fillcolor\n",
      "        Sets the fill color. Defaults to a half-transparent\n",
      "        variant of the line color, marker color, or marker line\n",
      "        color, whichever is available.\n",
      "    geo\n",
      "        Sets a reference between this trace's geospatial\n",
      "        coordinates and a geographic map. If \"geo\" (the default\n",
      "        value), the geospatial coordinates refer to\n",
      "        `layout.geo`. If \"geo2\", the geospatial coordinates\n",
      "        refer to `layout.geo2`, and so on.\n",
      "    geojson\n",
      "        Sets optional GeoJSON data associated with this trace.\n",
      "        If not given, the features on the base map are used\n",
      "        when `locations` is set. It can be set as a valid\n",
      "        GeoJSON object or as a URL string. Note that we only\n",
      "        accept GeoJSONs of type \"FeatureCollection\" or\n",
      "        \"Feature\" with geometries of type \"Polygon\" or\n",
      "        \"MultiPolygon\".\n",
      "    hoverinfo\n",
      "        Determines which trace information appear on hover. If\n",
      "        `none` or `skip` are set, no information is displayed\n",
      "        upon hovering. But, if `none` is set, click and hover\n",
      "        events are still fired.\n",
      "    hoverinfosrc\n",
      "        Sets the source reference on Chart Studio Cloud for\n",
      "        `hoverinfo`.\n",
      "    hoverlabel\n",
      "        :class:`plotly.graph_objects.scattergeo.Hoverlabel`\n",
      "        instance or dict with compatible properties\n",
      "    hovertemplate\n",
      "        Template string used for rendering the information that\n",
      "        appear on hover box. Note that this will override\n",
      "        `hoverinfo`. Variables are inserted using %{variable},\n",
      "        for example \"y: %{y}\" as well as %{xother}, {%_xother},\n",
      "        {%_xother_}, {%xother_}. When showing info for several\n",
      "        points, \"xother\" will be added to those with different\n",
      "        x positions from the first point. An underscore before\n",
      "        or after \"(x|y)other\" will add a space on that side,\n",
      "        only when this field is shown. Numbers are formatted\n",
      "        using d3-format's syntax %{variable:d3-format}, for\n",
      "        example \"Price: %{y:$.2f}\".\n",
      "        https://github.com/d3/d3-format/tree/v1.4.5#d3-format\n",
      "        for details on the formatting syntax. Dates are\n",
      "        formatted using d3-time-format's syntax\n",
      "        %{variable|d3-time-format}, for example \"Day:\n",
      "        %{2019-01-01|%A}\". https://github.com/d3/d3-time-\n",
      "        format/tree/v2.2.3#locale_format for details on the\n",
      "        date formatting syntax. The variables available in\n",
      "        `hovertemplate` are the ones emitted as event data\n",
      "        described at this link\n",
      "        https://plotly.com/javascript/plotlyjs-events/#event-\n",
      "        data. Additionally, every attributes that can be\n",
      "        specified per-point (the ones that are `arrayOk: true`)\n",
      "        are available.  Anything contained in tag `<extra>` is\n",
      "        displayed in the secondary box, for example\n",
      "        \"<extra>{fullData.name}</extra>\". To hide the secondary\n",
      "        box completely, use an empty tag `<extra></extra>`.\n",
      "    hovertemplatesrc\n",
      "        Sets the source reference on Chart Studio Cloud for\n",
      "        `hovertemplate`.\n",
      "    hovertext\n",
      "        Sets hover text elements associated with each (lon,lat)\n",
      "        pair or item in `locations`. If a single string, the\n",
      "        same string appears over all the data points. If an\n",
      "        array of string, the items are mapped in order to the\n",
      "        this trace's (lon,lat) or `locations` coordinates. To\n",
      "        be seen, trace `hoverinfo` must contain a \"text\" flag.\n",
      "    hovertextsrc\n",
      "        Sets the source reference on Chart Studio Cloud for\n",
      "        `hovertext`.\n",
      "    ids\n",
      "        Assigns id labels to each datum. These ids for object\n",
      "        constancy of data points during animation. Should be an\n",
      "        array of strings, not numbers or any other type.\n",
      "    idssrc\n",
      "        Sets the source reference on Chart Studio Cloud for\n",
      "        `ids`.\n",
      "    lat\n",
      "        Sets the latitude coordinates (in degrees North).\n",
      "    latsrc\n",
      "        Sets the source reference on Chart Studio Cloud for\n",
      "        `lat`.\n",
      "    legendgroup\n",
      "        Sets the legend group for this trace. Traces part of\n",
      "        the same legend group hide/show at the same time when\n",
      "        toggling legend items.\n",
      "    legendgrouptitle\n",
      "        :class:`plotly.graph_objects.scattergeo.Legendgrouptitl\n",
      "        e` instance or dict with compatible properties\n",
      "    legendrank\n",
      "        Sets the legend rank for this trace. Items and groups\n",
      "        with smaller ranks are presented on top/left side while\n",
      "        with `*reversed* `legend.traceorder` they are on\n",
      "        bottom/right side. The default legendrank is 1000, so\n",
      "        that you can use ranks less than 1000 to place certain\n",
      "        items before all unranked items, and ranks greater than\n",
      "        1000 to go after all unranked items.\n",
      "    legendwidth\n",
      "        Sets the width (in px or fraction) of the legend for\n",
      "        this trace.\n",
      "    line\n",
      "        :class:`plotly.graph_objects.scattergeo.Line` instance\n",
      "        or dict with compatible properties\n",
      "    locationmode\n",
      "        Determines the set of locations used to match entries\n",
      "        in `locations` to regions on the map. Values \"ISO-3\",\n",
      "        \"USA-states\", *country names* correspond to features on\n",
      "        the base map and value \"geojson-id\" corresponds to\n",
      "        features from a custom GeoJSON linked to the `geojson`\n",
      "        attribute.\n",
      "    locations\n",
      "        Sets the coordinates via location IDs or names.\n",
      "        Coordinates correspond to the centroid of each location\n",
      "        given. See `locationmode` for more info.\n",
      "    locationssrc\n",
      "        Sets the source reference on Chart Studio Cloud for\n",
      "        `locations`.\n",
      "    lon\n",
      "        Sets the longitude coordinates (in degrees East).\n",
      "    lonsrc\n",
      "        Sets the source reference on Chart Studio Cloud for\n",
      "        `lon`.\n",
      "    marker\n",
      "        :class:`plotly.graph_objects.scattergeo.Marker`\n",
      "        instance or dict with compatible properties\n",
      "    meta\n",
      "        Assigns extra meta information associated with this\n",
      "        trace that can be used in various text attributes.\n",
      "        Attributes such as trace `name`, graph, axis and\n",
      "        colorbar `title.text`, annotation `text`\n",
      "        `rangeselector`, `updatemenues` and `sliders` `label`\n",
      "        text all support `meta`. To access the trace `meta`\n",
      "        values in an attribute in the same trace, simply use\n",
      "        `%{meta[i]}` where `i` is the index or key of the\n",
      "        `meta` item in question. To access trace `meta` in\n",
      "        layout attributes, use `%{data[n[.meta[i]}` where `i`\n",
      "        is the index or key of the `meta` and `n` is the trace\n",
      "        index.\n",
      "    metasrc\n",
      "        Sets the source reference on Chart Studio Cloud for\n",
      "        `meta`.\n",
      "    mode\n",
      "        Determines the drawing mode for this scatter trace. If\n",
      "        the provided `mode` includes \"text\" then the `text`\n",
      "        elements appear at the coordinates. Otherwise, the\n",
      "        `text` elements appear on hover. If there are less than\n",
      "        20 points and the trace is not stacked then the default\n",
      "        is \"lines+markers\". Otherwise, \"lines\".\n",
      "    name\n",
      "        Sets the trace name. The trace name appear as the\n",
      "        legend item and on hover.\n",
      "    opacity\n",
      "        Sets the opacity of the trace.\n",
      "    selected\n",
      "        :class:`plotly.graph_objects.scattergeo.Selected`\n",
      "        instance or dict with compatible properties\n",
      "    selectedpoints\n",
      "        Array containing integer indices of selected points.\n",
      "        Has an effect only for traces that support selections.\n",
      "        Note that an empty array means an empty selection where\n",
      "        the `unselected` are turned on for all points, whereas,\n",
      "        any other non-array values means no selection all where\n",
      "        the `selected` and `unselected` styles have no effect.\n",
      "    showlegend\n",
      "        Determines whether or not an item corresponding to this\n",
      "        trace is shown in the legend.\n",
      "    stream\n",
      "        :class:`plotly.graph_objects.scattergeo.Stream`\n",
      "        instance or dict with compatible properties\n",
      "    text\n",
      "        Sets text elements associated with each (lon,lat) pair\n",
      "        or item in `locations`. If a single string, the same\n",
      "        string appears over all the data points. If an array of\n",
      "        string, the items are mapped in order to the this\n",
      "        trace's (lon,lat) or `locations` coordinates. If trace\n",
      "        `hoverinfo` contains a \"text\" flag and \"hovertext\" is\n",
      "        not set, these elements will be seen in the hover\n",
      "        labels.\n",
      "    textfont\n",
      "        Sets the text font.\n",
      "    textposition\n",
      "        Sets the positions of the `text` elements with respects\n",
      "        to the (x,y) coordinates.\n",
      "    textpositionsrc\n",
      "        Sets the source reference on Chart Studio Cloud for\n",
      "        `textposition`.\n",
      "    textsrc\n",
      "        Sets the source reference on Chart Studio Cloud for\n",
      "        `text`.\n",
      "    texttemplate\n",
      "        Template string used for rendering the information text\n",
      "        that appear on points. Note that this will override\n",
      "        `textinfo`. Variables are inserted using %{variable},\n",
      "        for example \"y: %{y}\". Numbers are formatted using\n",
      "        d3-format's syntax %{variable:d3-format}, for example\n",
      "        \"Price: %{y:$.2f}\".\n",
      "        https://github.com/d3/d3-format/tree/v1.4.5#d3-format\n",
      "        for details on the formatting syntax. Dates are\n",
      "        formatted using d3-time-format's syntax\n",
      "        %{variable|d3-time-format}, for example \"Day:\n",
      "        %{2019-01-01|%A}\". https://github.com/d3/d3-time-\n",
      "        format/tree/v2.2.3#locale_format for details on the\n",
      "        date formatting syntax. Every attributes that can be\n",
      "        specified per-point (the ones that are `arrayOk: true`)\n",
      "        are available. variables `lat`, `lon`, `location` and\n",
      "        `text`.\n",
      "    texttemplatesrc\n",
      "        Sets the source reference on Chart Studio Cloud for\n",
      "        `texttemplate`.\n",
      "    uid\n",
      "        Assign an id to this trace, Use this to provide object\n",
      "        constancy between traces during animations and\n",
      "        transitions.\n",
      "    uirevision\n",
      "        Controls persistence of some user-driven changes to the\n",
      "        trace: `constraintrange` in `parcoords` traces, as well\n",
      "        as some `editable: true` modifications such as `name`\n",
      "        and `colorbar.title`. Defaults to `layout.uirevision`.\n",
      "        Note that other user-driven trace attribute changes are\n",
      "        controlled by `layout` attributes: `trace.visible` is\n",
      "        controlled by `layout.legend.uirevision`,\n",
      "        `selectedpoints` is controlled by\n",
      "        `layout.selectionrevision`, and `colorbar.(x|y)`\n",
      "        (accessible with `config: {editable: true}`) is\n",
      "        controlled by `layout.editrevision`. Trace changes are\n",
      "        tracked by `uid`, which only falls back on trace index\n",
      "        if no `uid` is provided. So if your app can add/remove\n",
      "        traces before the end of the `data` array, such that\n",
      "        the same trace has a different index, you can still\n",
      "        preserve user-driven changes if you give each trace a\n",
      "        `uid` that stays with it as it moves.\n",
      "    unselected\n",
      "        :class:`plotly.graph_objects.scattergeo.Unselected`\n",
      "        instance or dict with compatible properties\n",
      "    visible\n",
      "        Determines whether or not this trace is visible. If\n",
      "        \"legendonly\", the trace is not drawn, but can appear as\n",
      "        a legend item (provided that the legend itself is\n",
      "        visible).\n",
      "    row : 'all', int or None (default)\n",
      "        Subplot row index (starting from 1) for the trace to be\n",
      "        added. Only valid if figure was created using\n",
      "        `plotly.tools.make_subplots`.If 'all', addresses all\n",
      "        rows in the specified column(s).\n",
      "    col : 'all', int or None (default)\n",
      "        Subplot col index (starting from 1) for the trace to be\n",
      "        added. Only valid if figure was created using\n",
      "        `plotly.tools.make_subplots`.If 'all', addresses all\n",
      "        columns in the specified row(s).\n",
      "    \n",
      "    Returns\n",
      "    -------\n",
      "    Figure\n",
      "\n"
     ]
    }
   ],
   "source": [
    "help(fig.add_scattergeo)"
   ]
  },
  {
   "cell_type": "code",
   "execution_count": 26,
   "id": "9bfccd84-d6cb-4bbc-a5c5-be5250ed3a33",
   "metadata": {
    "collapsed": true,
    "jupyter": {
     "outputs_hidden": true
    },
    "tags": []
   },
   "outputs": [
    {
     "name": "stdout",
     "output_type": "stream",
     "text": [
      "Help on function choropleth in module plotly.express._chart_types:\n",
      "\n",
      "choropleth(data_frame=None, lat=None, lon=None, locations=None, locationmode=None, geojson=None, featureidkey=None, color=None, facet_row=None, facet_col=None, facet_col_wrap=0, facet_row_spacing=None, facet_col_spacing=None, hover_name=None, hover_data=None, custom_data=None, animation_frame=None, animation_group=None, category_orders=None, labels=None, color_discrete_sequence=None, color_discrete_map=None, color_continuous_scale=None, range_color=None, color_continuous_midpoint=None, projection=None, scope=None, center=None, fitbounds=None, basemap_visible=None, title=None, template=None, width=None, height=None) -> plotly.graph_objs._figure.Figure\n",
      "        In a choropleth map, each row of `data_frame` is represented by a\n",
      "        colored region mark on a map.\n",
      "        \n",
      "    Parameters\n",
      "    ----------\n",
      "    data_frame: DataFrame or array-like or dict\n",
      "        This argument needs to be passed for column names (and not keyword\n",
      "        names) to be used. Array-like and dict are transformed internally to a\n",
      "        pandas DataFrame. Optional: if missing, a DataFrame gets constructed\n",
      "        under the hood using the other arguments.\n",
      "    lat: str or int or Series or array-like\n",
      "        Either a name of a column in `data_frame`, or a pandas Series or\n",
      "        array_like object. Values from this column or array_like are used to\n",
      "        position marks according to latitude on a map.\n",
      "    lon: str or int or Series or array-like\n",
      "        Either a name of a column in `data_frame`, or a pandas Series or\n",
      "        array_like object. Values from this column or array_like are used to\n",
      "        position marks according to longitude on a map.\n",
      "    locations: str or int or Series or array-like\n",
      "        Either a name of a column in `data_frame`, or a pandas Series or\n",
      "        array_like object. Values from this column or array_like are to be\n",
      "        interpreted according to `locationmode` and mapped to\n",
      "        longitude/latitude.\n",
      "    locationmode: str\n",
      "        One of 'ISO-3', 'USA-states', or 'country names' Determines the set of\n",
      "        locations used to match entries in `locations` to regions on the map.\n",
      "    geojson: GeoJSON-formatted dict\n",
      "        Must contain a Polygon feature collection, with IDs, which are\n",
      "        references from `locations`.\n",
      "    featureidkey: str (default: `'id'`)\n",
      "        Path to field in GeoJSON feature object with which to match the values\n",
      "        passed in to `locations`.The most common alternative to the default is\n",
      "        of the form `'properties.<key>`.\n",
      "    color: str or int or Series or array-like\n",
      "        Either a name of a column in `data_frame`, or a pandas Series or\n",
      "        array_like object. Values from this column or array_like are used to\n",
      "        assign color to marks.\n",
      "    facet_row: str or int or Series or array-like\n",
      "        Either a name of a column in `data_frame`, or a pandas Series or\n",
      "        array_like object. Values from this column or array_like are used to\n",
      "        assign marks to facetted subplots in the vertical direction.\n",
      "    facet_col: str or int or Series or array-like\n",
      "        Either a name of a column in `data_frame`, or a pandas Series or\n",
      "        array_like object. Values from this column or array_like are used to\n",
      "        assign marks to facetted subplots in the horizontal direction.\n",
      "    facet_col_wrap: int\n",
      "        Maximum number of facet columns. Wraps the column variable at this\n",
      "        width, so that the column facets span multiple rows. Ignored if 0, and\n",
      "        forced to 0 if `facet_row` or a `marginal` is set.\n",
      "    facet_row_spacing: float between 0 and 1\n",
      "        Spacing between facet rows, in paper units. Default is 0.03 or 0.0.7\n",
      "        when facet_col_wrap is used.\n",
      "    facet_col_spacing: float between 0 and 1\n",
      "        Spacing between facet columns, in paper units Default is 0.02.\n",
      "    hover_name: str or int or Series or array-like\n",
      "        Either a name of a column in `data_frame`, or a pandas Series or\n",
      "        array_like object. Values from this column or array_like appear in bold\n",
      "        in the hover tooltip.\n",
      "    hover_data: str, or list of str or int, or Series or array-like, or dict\n",
      "        Either a name or list of names of columns in `data_frame`, or pandas\n",
      "        Series, or array_like objects or a dict with column names as keys, with\n",
      "        values True (for default formatting) False (in order to remove this\n",
      "        column from hover information), or a formatting string, for example\n",
      "        ':.3f' or '|%a' or list-like data to appear in the hover tooltip or\n",
      "        tuples with a bool or formatting string as first element, and list-like\n",
      "        data to appear in hover as second element Values from these columns\n",
      "        appear as extra data in the hover tooltip.\n",
      "    custom_data: str, or list of str or int, or Series or array-like\n",
      "        Either name or list of names of columns in `data_frame`, or pandas\n",
      "        Series, or array_like objects Values from these columns are extra data,\n",
      "        to be used in widgets or Dash callbacks for example. This data is not\n",
      "        user-visible but is included in events emitted by the figure (lasso\n",
      "        selection etc.)\n",
      "    animation_frame: str or int or Series or array-like\n",
      "        Either a name of a column in `data_frame`, or a pandas Series or\n",
      "        array_like object. Values from this column or array_like are used to\n",
      "        assign marks to animation frames.\n",
      "    animation_group: str or int or Series or array-like\n",
      "        Either a name of a column in `data_frame`, or a pandas Series or\n",
      "        array_like object. Values from this column or array_like are used to\n",
      "        provide object-constancy across animation frames: rows with matching\n",
      "        `animation_group`s will be treated as if they describe the same object\n",
      "        in each frame.\n",
      "    category_orders: dict with str keys and list of str values (default `{}`)\n",
      "        By default, in Python 3.6+, the order of categorical values in axes,\n",
      "        legends and facets depends on the order in which these values are first\n",
      "        encountered in `data_frame` (and no order is guaranteed by default in\n",
      "        Python below 3.6). This parameter is used to force a specific ordering\n",
      "        of values per column. The keys of this dict should correspond to column\n",
      "        names, and the values should be lists of strings corresponding to the\n",
      "        specific display order desired.\n",
      "    labels: dict with str keys and str values (default `{}`)\n",
      "        By default, column names are used in the figure for axis titles, legend\n",
      "        entries and hovers. This parameter allows this to be overridden. The\n",
      "        keys of this dict should correspond to column names, and the values\n",
      "        should correspond to the desired label to be displayed.\n",
      "    color_discrete_sequence: list of str\n",
      "        Strings should define valid CSS-colors. When `color` is set and the\n",
      "        values in the corresponding column are not numeric, values in that\n",
      "        column are assigned colors by cycling through `color_discrete_sequence`\n",
      "        in the order described in `category_orders`, unless the value of\n",
      "        `color` is a key in `color_discrete_map`. Various useful color\n",
      "        sequences are available in the `plotly.express.colors` submodules,\n",
      "        specifically `plotly.express.colors.qualitative`.\n",
      "    color_discrete_map: dict with str keys and str values (default `{}`)\n",
      "        String values should define valid CSS-colors Used to override\n",
      "        `color_discrete_sequence` to assign a specific colors to marks\n",
      "        corresponding with specific values. Keys in `color_discrete_map` should\n",
      "        be values in the column denoted by `color`. Alternatively, if the\n",
      "        values of `color` are valid colors, the string `'identity'` may be\n",
      "        passed to cause them to be used directly.\n",
      "    color_continuous_scale: list of str\n",
      "        Strings should define valid CSS-colors This list is used to build a\n",
      "        continuous color scale when the column denoted by `color` contains\n",
      "        numeric data. Various useful color scales are available in the\n",
      "        `plotly.express.colors` submodules, specifically\n",
      "        `plotly.express.colors.sequential`, `plotly.express.colors.diverging`\n",
      "        and `plotly.express.colors.cyclical`.\n",
      "    range_color: list of two numbers\n",
      "        If provided, overrides auto-scaling on the continuous color scale.\n",
      "    color_continuous_midpoint: number (default `None`)\n",
      "        If set, computes the bounds of the continuous color scale to have the\n",
      "        desired midpoint. Setting this value is recommended when using\n",
      "        `plotly.express.colors.diverging` color scales as the inputs to\n",
      "        `color_continuous_scale`.\n",
      "    projection: str \n",
      "        One of `'equirectangular'`, `'mercator'`, `'orthographic'`, `'natural\n",
      "        earth'`, `'kavrayskiy7'`, `'miller'`, `'robinson'`, `'eckert4'`,\n",
      "        `'azimuthal equal area'`, `'azimuthal equidistant'`, `'conic equal\n",
      "        area'`, `'conic conformal'`, `'conic equidistant'`, `'gnomonic'`,\n",
      "        `'stereographic'`, `'mollweide'`, `'hammer'`, `'transverse mercator'`,\n",
      "        `'albers usa'`, `'winkel tripel'`, `'aitoff'`, or `'sinusoidal'`Default\n",
      "        depends on `scope`.\n",
      "    scope: str (default `'world'`).\n",
      "        One of `'world'`, `'usa'`, `'europe'`, `'asia'`, `'africa'`, `'north\n",
      "        america'`, or `'south america'`Default is `'world'` unless `projection`\n",
      "        is set to `'albers usa'`, which forces `'usa'`.\n",
      "    center: dict\n",
      "        Dict keys are `'lat'` and `'lon'` Sets the center point of the map.\n",
      "    fitbounds: str (default `False`).\n",
      "        One of `False`, `locations` or `geojson`.\n",
      "    basemap_visible: bool\n",
      "        Force the basemap visibility.\n",
      "    title: str\n",
      "        The figure title.\n",
      "    template: str or dict or plotly.graph_objects.layout.Template instance\n",
      "        The figure template name (must be a key in plotly.io.templates) or\n",
      "        definition.\n",
      "    width: int (default `None`)\n",
      "        The figure width in pixels.\n",
      "    height: int (default `None`)\n",
      "        The figure height in pixels.\n",
      "    \n",
      "    Returns\n",
      "    -------\n",
      "        plotly.graph_objects.Figure\n",
      "\n"
     ]
    }
   ],
   "source": [
    "help(px.choropleth)"
   ]
  },
  {
   "cell_type": "code",
   "execution_count": 104,
   "id": "8385b8a6-f77c-4a2f-a5bb-a2ff89cca234",
   "metadata": {},
   "outputs": [
    {
     "data": {
      "text/html": [
       "<div>\n",
       "<style scoped>\n",
       "    .dataframe tbody tr th:only-of-type {\n",
       "        vertical-align: middle;\n",
       "    }\n",
       "\n",
       "    .dataframe tbody tr th {\n",
       "        vertical-align: top;\n",
       "    }\n",
       "\n",
       "    .dataframe thead th {\n",
       "        text-align: right;\n",
       "    }\n",
       "</style>\n",
       "<table border=\"1\" class=\"dataframe\">\n",
       "  <thead>\n",
       "    <tr style=\"text-align: right;\">\n",
       "      <th></th>\n",
       "      <th>SiteID</th>\n",
       "      <th>fire_id</th>\n",
       "      <th>fire_name</th>\n",
       "      <th>fire_segid</th>\n",
       "      <th>year</th>\n",
       "      <th>state</th>\n",
       "      <th>response</th>\n",
       "      <th>stormdate</th>\n",
       "      <th>gaugedist_m</th>\n",
       "      <th>lat</th>\n",
       "      <th>...</th>\n",
       "      <th>dnbr1000</th>\n",
       "      <th>kf</th>\n",
       "      <th>Fine fuel load</th>\n",
       "      <th>SAV</th>\n",
       "      <th>Packing ratio</th>\n",
       "      <th>Extinction moisture content</th>\n",
       "      <th>LNDS_RISKS</th>\n",
       "      <th>fire_interval</th>\n",
       "      <th>SedUn</th>\n",
       "      <th>SuscFrac</th>\n",
       "    </tr>\n",
       "  </thead>\n",
       "  <tbody>\n",
       "    <tr>\n",
       "      <th>0</th>\n",
       "      <td>0</td>\n",
       "      <td>bck</td>\n",
       "      <td>Buckweed</td>\n",
       "      <td>bck_1035</td>\n",
       "      <td>2007</td>\n",
       "      <td>CA</td>\n",
       "      <td>0</td>\n",
       "      <td>2008-01-22</td>\n",
       "      <td>1998.67</td>\n",
       "      <td>34.542358</td>\n",
       "      <td>...</td>\n",
       "      <td>0.297853</td>\n",
       "      <td>0.250000</td>\n",
       "      <td>1.808258</td>\n",
       "      <td>1818.146903</td>\n",
       "      <td>0.002187</td>\n",
       "      <td>15.000000</td>\n",
       "      <td>96.305814</td>\n",
       "      <td>-1</td>\n",
       "      <td>0.000000</td>\n",
       "      <td>0.656167</td>\n",
       "    </tr>\n",
       "    <tr>\n",
       "      <th>1</th>\n",
       "      <td>1</td>\n",
       "      <td>bck</td>\n",
       "      <td>Buckweed</td>\n",
       "      <td>bck_1090</td>\n",
       "      <td>2007</td>\n",
       "      <td>CA</td>\n",
       "      <td>0</td>\n",
       "      <td>2008-01-22</td>\n",
       "      <td>2368.93</td>\n",
       "      <td>34.540093</td>\n",
       "      <td>...</td>\n",
       "      <td>0.224896</td>\n",
       "      <td>0.250000</td>\n",
       "      <td>1.384151</td>\n",
       "      <td>1821.989060</td>\n",
       "      <td>0.001839</td>\n",
       "      <td>15.000000</td>\n",
       "      <td>96.305814</td>\n",
       "      <td>-1</td>\n",
       "      <td>0.000000</td>\n",
       "      <td>0.271910</td>\n",
       "    </tr>\n",
       "    <tr>\n",
       "      <th>2</th>\n",
       "      <td>2</td>\n",
       "      <td>bck</td>\n",
       "      <td>Buckweed</td>\n",
       "      <td>bck_1570</td>\n",
       "      <td>2007</td>\n",
       "      <td>CA</td>\n",
       "      <td>0</td>\n",
       "      <td>2008-01-22</td>\n",
       "      <td>3956.74</td>\n",
       "      <td>34.528844</td>\n",
       "      <td>...</td>\n",
       "      <td>0.065537</td>\n",
       "      <td>0.248541</td>\n",
       "      <td>1.599649</td>\n",
       "      <td>1816.939332</td>\n",
       "      <td>0.002439</td>\n",
       "      <td>15.099213</td>\n",
       "      <td>96.305814</td>\n",
       "      <td>-1</td>\n",
       "      <td>0.026753</td>\n",
       "      <td>0.487114</td>\n",
       "    </tr>\n",
       "    <tr>\n",
       "      <th>3</th>\n",
       "      <td>3</td>\n",
       "      <td>bck</td>\n",
       "      <td>Buckweed</td>\n",
       "      <td>bck_235</td>\n",
       "      <td>2007</td>\n",
       "      <td>CA</td>\n",
       "      <td>0</td>\n",
       "      <td>2008-01-22</td>\n",
       "      <td>1734.72</td>\n",
       "      <td>34.558602</td>\n",
       "      <td>...</td>\n",
       "      <td>0.141711</td>\n",
       "      <td>0.250000</td>\n",
       "      <td>1.775339</td>\n",
       "      <td>1817.801690</td>\n",
       "      <td>0.002657</td>\n",
       "      <td>15.093254</td>\n",
       "      <td>96.305814</td>\n",
       "      <td>-1</td>\n",
       "      <td>0.000000</td>\n",
       "      <td>0.678739</td>\n",
       "    </tr>\n",
       "    <tr>\n",
       "      <th>4</th>\n",
       "      <td>4</td>\n",
       "      <td>bck</td>\n",
       "      <td>Buckweed</td>\n",
       "      <td>bck_363</td>\n",
       "      <td>2007</td>\n",
       "      <td>CA</td>\n",
       "      <td>0</td>\n",
       "      <td>2008-01-22</td>\n",
       "      <td>1801.04</td>\n",
       "      <td>34.554817</td>\n",
       "      <td>...</td>\n",
       "      <td>0.210158</td>\n",
       "      <td>0.250000</td>\n",
       "      <td>1.847506</td>\n",
       "      <td>1816.320840</td>\n",
       "      <td>0.002579</td>\n",
       "      <td>15.092942</td>\n",
       "      <td>96.305814</td>\n",
       "      <td>-1</td>\n",
       "      <td>0.000000</td>\n",
       "      <td>0.696387</td>\n",
       "    </tr>\n",
       "  </tbody>\n",
       "</table>\n",
       "<p>5 rows × 26 columns</p>\n",
       "</div>"
      ],
      "text/plain": [
       "   SiteID fire_id fire_name fire_segid  year state  response   stormdate  \\\n",
       "0       0     bck  Buckweed   bck_1035  2007    CA         0  2008-01-22   \n",
       "1       1     bck  Buckweed   bck_1090  2007    CA         0  2008-01-22   \n",
       "2       2     bck  Buckweed   bck_1570  2007    CA         0  2008-01-22   \n",
       "3       3     bck  Buckweed    bck_235  2007    CA         0  2008-01-22   \n",
       "4       4     bck  Buckweed    bck_363  2007    CA         0  2008-01-22   \n",
       "\n",
       "   gaugedist_m        lat  ...  dnbr1000        kf Fine fuel load  \\\n",
       "0      1998.67  34.542358  ...  0.297853  0.250000       1.808258   \n",
       "1      2368.93  34.540093  ...  0.224896  0.250000       1.384151   \n",
       "2      3956.74  34.528844  ...  0.065537  0.248541       1.599649   \n",
       "3      1734.72  34.558602  ...  0.141711  0.250000       1.775339   \n",
       "4      1801.04  34.554817  ...  0.210158  0.250000       1.847506   \n",
       "\n",
       "           SAV  Packing ratio  Extinction moisture content  LNDS_RISKS  \\\n",
       "0  1818.146903       0.002187                    15.000000   96.305814   \n",
       "1  1821.989060       0.001839                    15.000000   96.305814   \n",
       "2  1816.939332       0.002439                    15.099213   96.305814   \n",
       "3  1817.801690       0.002657                    15.093254   96.305814   \n",
       "4  1816.320840       0.002579                    15.092942   96.305814   \n",
       "\n",
       "   fire_interval     SedUn  SuscFrac  \n",
       "0             -1  0.000000  0.656167  \n",
       "1             -1  0.000000  0.271910  \n",
       "2             -1  0.026753  0.487114  \n",
       "3             -1  0.000000  0.678739  \n",
       "4             -1  0.000000  0.696387  \n",
       "\n",
       "[5 rows x 26 columns]"
      ]
     },
     "execution_count": 104,
     "metadata": {},
     "output_type": "execute_result"
    }
   ],
   "source": [
    "# final feature file\n",
    "file = \"data_v08_consolidated.parquet\"\n",
    "df = gpd.read_parquet(data_dir + file)\n",
    "df.head()"
   ]
  },
  {
   "cell_type": "code",
   "execution_count": 107,
   "id": "16d1bd39-5e35-4d97-a426-cf57e25734be",
   "metadata": {},
   "outputs": [
    {
     "data": {
      "text/plain": [
       "datetime.date(2000, 7, 16)"
      ]
     },
     "execution_count": 107,
     "metadata": {},
     "output_type": "execute_result"
    }
   ],
   "source": [
    "df['stormdate'].min()"
   ]
  },
  {
   "cell_type": "code",
   "execution_count": 108,
   "id": "63e58a61-b910-4834-bd0a-c5df4bb8f9d5",
   "metadata": {},
   "outputs": [
    {
     "data": {
      "text/plain": [
       "datetime.date(2014, 2, 28)"
      ]
     },
     "execution_count": 108,
     "metadata": {},
     "output_type": "execute_result"
    }
   ],
   "source": [
    "df['stormdate'].max()"
   ]
  }
 ],
 "metadata": {
  "kernelspec": {
   "display_name": "Python 3 (ipykernel)",
   "language": "python",
   "name": "python3"
  },
  "language_info": {
   "codemirror_mode": {
    "name": "ipython",
    "version": 3
   },
   "file_extension": ".py",
   "mimetype": "text/x-python",
   "name": "python",
   "nbconvert_exporter": "python",
   "pygments_lexer": "ipython3",
   "version": "3.10.10"
  }
 },
 "nbformat": 4,
 "nbformat_minor": 5
}
