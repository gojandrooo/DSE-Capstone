{
 "cells": [
  {
   "cell_type": "markdown",
   "id": "33ed39db-8181-4200-ae07-a6f747e4688e",
   "metadata": {},
   "source": [
    "# Reproduce Staley (2016) Results\n",
    "\n",
    "Based on the calculations in the USGS Emergency Debris Flow Assessment database (https://landslides.usgs.gov/hazards/postfire_debrisflow/), the Intensity I15 is transformed into the total accumulation during the 15 minutes, i.e. I15/4.  This is the same as the value stored in the column \"Acc015_mm\"."
   ]
  },
  {
   "cell_type": "code",
   "execution_count": 1,
   "id": "0ba313b6",
   "metadata": {},
   "outputs": [],
   "source": [
    "import pandas as pd\n",
    "pd.set_option(\"max_colwidth\", None)"
   ]
  },
  {
   "cell_type": "code",
   "execution_count": 2,
   "id": "1a69d9a8",
   "metadata": {},
   "outputs": [],
   "source": [
    "import sklearn\n",
    "import numpy as np"
   ]
  },
  {
   "cell_type": "code",
   "execution_count": 3,
   "id": "6a6c92a7",
   "metadata": {},
   "outputs": [],
   "source": [
    "xl=pd.ExcelFile(\"ofr20161106_appx-1.xlsx\")\n",
    "desc=xl.parse(xl.sheet_names[0])\n",
    "modelData=xl.parse(xl.sheet_names[1])"
   ]
  },
  {
   "cell_type": "code",
   "execution_count": 4,
   "id": "4de5e31e",
   "metadata": {
    "scrolled": true
   },
   "outputs": [
    {
     "data": {
      "text/plain": [
       "Index(['Fire Name', 'Year', 'Fire_ID', 'Fire_SegID', 'Database', 'State',\n",
       "       'UTM_Zone', 'UTM_X', 'UTM_Y', 'Response', 'StormDate', 'GaugeDist_m',\n",
       "       'StormStart', 'StormEnd', 'StormDur_H', 'StormAccum_mm',\n",
       "       'StormAvgI_mm/h', 'Peak_I15_mm/h', 'Peak_I30_mm/h', 'Peak_I60_mm/h',\n",
       "       'ContributingArea_km2', 'PropHM23', 'dNBR/1000', 'KF', 'Acc015_mm',\n",
       "       'Acc030_mm', 'Acc060_mm'],\n",
       "      dtype='object')"
      ]
     },
     "execution_count": 4,
     "metadata": {},
     "output_type": "execute_result"
    }
   ],
   "source": [
    "modelData.columns"
   ]
  },
  {
   "cell_type": "code",
   "execution_count": 5,
   "id": "d3b80e81",
   "metadata": {},
   "outputs": [],
   "source": [
    "from sklearn.neighbors import KNeighborsClassifier, DistanceMetric\n",
    "from sklearn.metrics import accuracy_score, f1_score, jaccard_score, roc_auc_score\n",
    "from sklearn.model_selection import train_test_split\n",
    "from sklearn.tree import DecisionTreeClassifier, export_graphviz\n",
    "from sklearn.linear_model import LogisticRegression\n",
    "from sklearn.ensemble import RandomForestClassifier\n",
    "from sklearn.neighbors import KNeighborsClassifier, DistanceMetric\n",
    "from sklearn.neural_network import MLPClassifier"
   ]
  },
  {
   "cell_type": "code",
   "execution_count": 6,
   "id": "17c27cc6",
   "metadata": {},
   "outputs": [],
   "source": [
    "def get_scores(trues, preds):\n",
    "    scores=[func(trues, preds) for func in [accuracy_score, jaccard_score, f1_score, roc_auc_score]]\n",
    "    return scores\n",
    "\n",
    "def get_scoredf(TrTr, TrPr, TeTr, TePr):\n",
    "    train_scores=get_scores(TrTr, TrPr)\n",
    "    test_scores=get_scores(TeTr, TePr)\n",
    "    \n",
    "    scoredf=pd.DataFrame({\"Training\": train_scores, \"Test\": test_scores}, index=[\"Accurary\", \"Jaccard\", \"F1\", \"AUC\"])\n",
    "    return scoredf"
   ]
  },
  {
   "cell_type": "code",
   "execution_count": 7,
   "id": "835ff2c6-0ff9-41d7-a6b0-593f85c9d780",
   "metadata": {},
   "outputs": [
    {
     "data": {
      "text/plain": [
       "Index(['Fire Name', 'Year', 'Fire_ID', 'Fire_SegID', 'Database', 'State',\n",
       "       'UTM_Zone', 'UTM_X', 'UTM_Y', 'Response', 'StormDate', 'GaugeDist_m',\n",
       "       'StormStart', 'StormEnd', 'StormDur_H', 'StormAccum_mm',\n",
       "       'StormAvgI_mm/h', 'Peak_I15_mm/h', 'Peak_I30_mm/h', 'Peak_I60_mm/h',\n",
       "       'ContributingArea_km2', 'PropHM23', 'dNBR/1000', 'KF', 'Acc015_mm',\n",
       "       'Acc030_mm', 'Acc060_mm'],\n",
       "      dtype='object')"
      ]
     },
     "execution_count": 7,
     "metadata": {},
     "output_type": "execute_result"
    }
   ],
   "source": [
    "modelData.columns"
   ]
  },
  {
   "cell_type": "code",
   "execution_count": 8,
   "id": "78b17a5f-0648-4482-99b7-ea20f8aee8ea",
   "metadata": {},
   "outputs": [],
   "source": [
    "usecols=[\"Acc015_mm\",\n",
    "         \"PropHM23\",\n",
    "         \"dNBR/1000\",\n",
    "         \"KF\",\n",
    "         \"Response\"]\n",
    "\n",
    "usecols = usecols + [\"Database\"]"
   ]
  },
  {
   "cell_type": "code",
   "execution_count": 9,
   "id": "4c2bbf2d-d7f6-4fe5-b2ce-cd107057eac7",
   "metadata": {},
   "outputs": [
    {
     "data": {
      "text/plain": [
       "1243"
      ]
     },
     "execution_count": 9,
     "metadata": {},
     "output_type": "execute_result"
    }
   ],
   "source": [
    "cdata=modelData[usecols].copy()\n",
    "cdata=cdata.dropna()\n",
    "len(cdata)"
   ]
  },
  {
   "cell_type": "markdown",
   "id": "329c723d-97ec-4ecb-b293-2eb0577b698c",
   "metadata": {},
   "source": [
    "Adjusting unrealistic $K_f$ values - commented out, as it's not sure if Staley did this:"
   ]
  },
  {
   "cell_type": "code",
   "execution_count": 10,
   "id": "68e269d0-2fe0-4f4f-a17f-aac94c541e13",
   "metadata": {},
   "outputs": [],
   "source": [
    "#mask=cdata[\"KF\"] > 0.64\n",
    "#cdata.loc[mask,\"KF\"] = cdata[\"KF\"].median()"
   ]
  },
  {
   "cell_type": "code",
   "execution_count": 11,
   "id": "54a68b9c",
   "metadata": {},
   "outputs": [],
   "source": [
    "#computing input data just as in Staley'16\n",
    "\n",
    "cdata[\"PropHM23_x_i15\"] = cdata[\"PropHM23\"] * cdata[\"Acc015_mm\"]\n",
    "cdata[\"dNBR_x_i15\"] = cdata[\"dNBR/1000\"] * cdata[\"Acc015_mm\"]\n",
    "cdata[\"KF_x_i15\"] = cdata[\"KF\"] * cdata[\"Acc015_mm\"]"
   ]
  },
  {
   "cell_type": "code",
   "execution_count": 12,
   "id": "ded9cf19",
   "metadata": {},
   "outputs": [],
   "source": [
    "usecols2=[\"PropHM23_x_i15\",\"dNBR_x_i15\", \"KF_x_i15\"]"
   ]
  },
  {
   "cell_type": "code",
   "execution_count": 13,
   "id": "5cf6b661",
   "metadata": {},
   "outputs": [],
   "source": [
    "trainX=cdata.query(\"Database == 'Training'\")[usecols2]\n",
    "trainY=cdata.query(\"Database == 'Training'\")[\"Response\"]\n",
    "\n",
    "testX=cdata.query(\"Database == 'Test'\")[usecols2]\n",
    "testY=cdata.query(\"Database == 'Test'\")[\"Response\"]"
   ]
  },
  {
   "cell_type": "markdown",
   "id": "4792673d-8ca7-49fe-9b39-8f593591bb5e",
   "metadata": {},
   "source": [
    "### 1. Logistic Regression"
   ]
  },
  {
   "cell_type": "code",
   "execution_count": 14,
   "id": "cc3e9666",
   "metadata": {},
   "outputs": [
    {
     "data": {
      "text/html": [
       "<div>\n",
       "<style scoped>\n",
       "    .dataframe tbody tr th:only-of-type {\n",
       "        vertical-align: middle;\n",
       "    }\n",
       "\n",
       "    .dataframe tbody tr th {\n",
       "        vertical-align: top;\n",
       "    }\n",
       "\n",
       "    .dataframe thead th {\n",
       "        text-align: right;\n",
       "    }\n",
       "</style>\n",
       "<table border=\"1\" class=\"dataframe\">\n",
       "  <thead>\n",
       "    <tr style=\"text-align: right;\">\n",
       "      <th></th>\n",
       "      <th>Training</th>\n",
       "      <th>Test</th>\n",
       "    </tr>\n",
       "  </thead>\n",
       "  <tbody>\n",
       "    <tr>\n",
       "      <th>Accurary</th>\n",
       "      <td>0.833129</td>\n",
       "      <td>0.647196</td>\n",
       "    </tr>\n",
       "    <tr>\n",
       "      <th>Jaccard</th>\n",
       "      <td>0.411255</td>\n",
       "      <td>0.386179</td>\n",
       "    </tr>\n",
       "    <tr>\n",
       "      <th>F1</th>\n",
       "      <td>0.582822</td>\n",
       "      <td>0.557185</td>\n",
       "    </tr>\n",
       "    <tr>\n",
       "      <th>AUC</th>\n",
       "      <td>0.711888</td>\n",
       "      <td>0.703778</td>\n",
       "    </tr>\n",
       "  </tbody>\n",
       "</table>\n",
       "</div>"
      ],
      "text/plain": [
       "          Training      Test\n",
       "Accurary  0.833129  0.647196\n",
       "Jaccard   0.411255  0.386179\n",
       "F1        0.582822  0.557185\n",
       "AUC       0.711888  0.703778"
      ]
     },
     "execution_count": 14,
     "metadata": {},
     "output_type": "execute_result"
    }
   ],
   "source": [
    "clfl = LogisticRegression(random_state=0, penalty='l2').fit(trainX, trainY)\n",
    "trainYp=clfl.predict(trainX)\n",
    "testYp=clfl.predict(testX)\n",
    "\n",
    "scoredf_lr=get_scoredf(trainY, trainYp, testY, testYp)\n",
    "scoredf_lr"
   ]
  },
  {
   "cell_type": "markdown",
   "id": "6240cf51-daeb-4edd-8d52-66c36a9ee826",
   "metadata": {},
   "source": [
    "### 2.  Random Forest Classifier"
   ]
  },
  {
   "cell_type": "code",
   "execution_count": 15,
   "id": "f6a82753-251a-49b6-be12-1e3110a25a4f",
   "metadata": {},
   "outputs": [
    {
     "data": {
      "text/html": [
       "<div>\n",
       "<style scoped>\n",
       "    .dataframe tbody tr th:only-of-type {\n",
       "        vertical-align: middle;\n",
       "    }\n",
       "\n",
       "    .dataframe tbody tr th {\n",
       "        vertical-align: top;\n",
       "    }\n",
       "\n",
       "    .dataframe thead th {\n",
       "        text-align: right;\n",
       "    }\n",
       "</style>\n",
       "<table border=\"1\" class=\"dataframe\">\n",
       "  <thead>\n",
       "    <tr style=\"text-align: right;\">\n",
       "      <th></th>\n",
       "      <th>Training</th>\n",
       "      <th>Test</th>\n",
       "    </tr>\n",
       "  </thead>\n",
       "  <tbody>\n",
       "    <tr>\n",
       "      <th>Accurary</th>\n",
       "      <td>1.0</td>\n",
       "      <td>0.581776</td>\n",
       "    </tr>\n",
       "    <tr>\n",
       "      <th>Jaccard</th>\n",
       "      <td>1.0</td>\n",
       "      <td>0.353791</td>\n",
       "    </tr>\n",
       "    <tr>\n",
       "      <th>F1</th>\n",
       "      <td>1.0</td>\n",
       "      <td>0.522667</td>\n",
       "    </tr>\n",
       "    <tr>\n",
       "      <th>AUC</th>\n",
       "      <td>1.0</td>\n",
       "      <td>0.667301</td>\n",
       "    </tr>\n",
       "  </tbody>\n",
       "</table>\n",
       "</div>"
      ],
      "text/plain": [
       "          Training      Test\n",
       "Accurary       1.0  0.581776\n",
       "Jaccard        1.0  0.353791\n",
       "F1             1.0  0.522667\n",
       "AUC            1.0  0.667301"
      ]
     },
     "execution_count": 15,
     "metadata": {},
     "output_type": "execute_result"
    }
   ],
   "source": [
    "clfl = RandomForestClassifier(random_state=0).fit(trainX, trainY)\n",
    "trainYp=clfl.predict(trainX)\n",
    "testYp=clfl.predict(testX)\n",
    "\n",
    "scoredf_lr=get_scoredf(trainY, trainYp, testY, testYp)\n",
    "scoredf_lr"
   ]
  },
  {
   "cell_type": "markdown",
   "id": "ef8399b7-9e00-4cb1-b4ac-1dbec562b3bb",
   "metadata": {},
   "source": [
    "### 3. KNeighbors Classifier"
   ]
  },
  {
   "cell_type": "code",
   "execution_count": 16,
   "id": "51db71be-2ab2-4403-b6bd-8463288d9e06",
   "metadata": {},
   "outputs": [
    {
     "data": {
      "text/html": [
       "<div>\n",
       "<style scoped>\n",
       "    .dataframe tbody tr th:only-of-type {\n",
       "        vertical-align: middle;\n",
       "    }\n",
       "\n",
       "    .dataframe tbody tr th {\n",
       "        vertical-align: top;\n",
       "    }\n",
       "\n",
       "    .dataframe thead th {\n",
       "        text-align: right;\n",
       "    }\n",
       "</style>\n",
       "<table border=\"1\" class=\"dataframe\">\n",
       "  <thead>\n",
       "    <tr style=\"text-align: right;\">\n",
       "      <th></th>\n",
       "      <th>Training</th>\n",
       "      <th>Test</th>\n",
       "    </tr>\n",
       "  </thead>\n",
       "  <tbody>\n",
       "    <tr>\n",
       "      <th>Accurary</th>\n",
       "      <td>0.871166</td>\n",
       "      <td>0.600467</td>\n",
       "    </tr>\n",
       "    <tr>\n",
       "      <th>Jaccard</th>\n",
       "      <td>0.556962</td>\n",
       "      <td>0.337209</td>\n",
       "    </tr>\n",
       "    <tr>\n",
       "      <th>F1</th>\n",
       "      <td>0.715447</td>\n",
       "      <td>0.504348</td>\n",
       "    </tr>\n",
       "    <tr>\n",
       "      <th>AUC</th>\n",
       "      <td>0.799042</td>\n",
       "      <td>0.649826</td>\n",
       "    </tr>\n",
       "  </tbody>\n",
       "</table>\n",
       "</div>"
      ],
      "text/plain": [
       "          Training      Test\n",
       "Accurary  0.871166  0.600467\n",
       "Jaccard   0.556962  0.337209\n",
       "F1        0.715447  0.504348\n",
       "AUC       0.799042  0.649826"
      ]
     },
     "execution_count": 16,
     "metadata": {},
     "output_type": "execute_result"
    }
   ],
   "source": [
    "clfl = KNeighborsClassifier().fit(trainX, trainY)\n",
    "trainYp=clfl.predict(trainX)\n",
    "testYp=clfl.predict(testX)\n",
    "\n",
    "scoredf_lr=get_scoredf(trainY, trainYp, testY, testYp)\n",
    "scoredf_lr"
   ]
  },
  {
   "cell_type": "markdown",
   "id": "eb653240-196f-449c-8346-d10a2e8f68bd",
   "metadata": {},
   "source": [
    "### 4. Decision Tree Classifier"
   ]
  },
  {
   "cell_type": "code",
   "execution_count": 17,
   "id": "cf19d8b8-3b8f-427c-a3be-3c213b1d02e0",
   "metadata": {},
   "outputs": [
    {
     "data": {
      "text/html": [
       "<div>\n",
       "<style scoped>\n",
       "    .dataframe tbody tr th:only-of-type {\n",
       "        vertical-align: middle;\n",
       "    }\n",
       "\n",
       "    .dataframe tbody tr th {\n",
       "        vertical-align: top;\n",
       "    }\n",
       "\n",
       "    .dataframe thead th {\n",
       "        text-align: right;\n",
       "    }\n",
       "</style>\n",
       "<table border=\"1\" class=\"dataframe\">\n",
       "  <thead>\n",
       "    <tr style=\"text-align: right;\">\n",
       "      <th></th>\n",
       "      <th>Training</th>\n",
       "      <th>Test</th>\n",
       "    </tr>\n",
       "  </thead>\n",
       "  <tbody>\n",
       "    <tr>\n",
       "      <th>Accurary</th>\n",
       "      <td>1.0</td>\n",
       "      <td>0.544393</td>\n",
       "    </tr>\n",
       "    <tr>\n",
       "      <th>Jaccard</th>\n",
       "      <td>1.0</td>\n",
       "      <td>0.313380</td>\n",
       "    </tr>\n",
       "    <tr>\n",
       "      <th>F1</th>\n",
       "      <td>1.0</td>\n",
       "      <td>0.477212</td>\n",
       "    </tr>\n",
       "    <tr>\n",
       "      <th>AUC</th>\n",
       "      <td>1.0</td>\n",
       "      <td>0.616988</td>\n",
       "    </tr>\n",
       "  </tbody>\n",
       "</table>\n",
       "</div>"
      ],
      "text/plain": [
       "          Training      Test\n",
       "Accurary       1.0  0.544393\n",
       "Jaccard        1.0  0.313380\n",
       "F1             1.0  0.477212\n",
       "AUC            1.0  0.616988"
      ]
     },
     "execution_count": 17,
     "metadata": {},
     "output_type": "execute_result"
    }
   ],
   "source": [
    "clfl = DecisionTreeClassifier(random_state=0).fit(trainX, trainY)\n",
    "trainYp=clfl.predict(trainX)\n",
    "testYp=clfl.predict(testX)\n",
    "\n",
    "scoredf_lr=get_scoredf(trainY, trainYp, testY, testYp)\n",
    "scoredf_lr"
   ]
  },
  {
   "cell_type": "markdown",
   "id": "21f55701-222c-45c9-9007-38b489ea5ad6",
   "metadata": {},
   "source": [
    "### 5. Neural Network"
   ]
  },
  {
   "cell_type": "code",
   "execution_count": 18,
   "id": "17c2330c-9c73-4104-b931-d3dc1de4d455",
   "metadata": {},
   "outputs": [
    {
     "data": {
      "text/html": [
       "<div>\n",
       "<style scoped>\n",
       "    .dataframe tbody tr th:only-of-type {\n",
       "        vertical-align: middle;\n",
       "    }\n",
       "\n",
       "    .dataframe tbody tr th {\n",
       "        vertical-align: top;\n",
       "    }\n",
       "\n",
       "    .dataframe thead th {\n",
       "        text-align: right;\n",
       "    }\n",
       "</style>\n",
       "<table border=\"1\" class=\"dataframe\">\n",
       "  <thead>\n",
       "    <tr style=\"text-align: right;\">\n",
       "      <th></th>\n",
       "      <th>Training</th>\n",
       "      <th>Test</th>\n",
       "    </tr>\n",
       "  </thead>\n",
       "  <tbody>\n",
       "    <tr>\n",
       "      <th>Accurary</th>\n",
       "      <td>0.840491</td>\n",
       "      <td>0.609813</td>\n",
       "    </tr>\n",
       "    <tr>\n",
       "      <th>Jaccard</th>\n",
       "      <td>0.460581</td>\n",
       "      <td>0.345098</td>\n",
       "    </tr>\n",
       "    <tr>\n",
       "      <th>F1</th>\n",
       "      <td>0.630682</td>\n",
       "      <td>0.513120</td>\n",
       "    </tr>\n",
       "    <tr>\n",
       "      <th>AUC</th>\n",
       "      <td>0.743546</td>\n",
       "      <td>0.658967</td>\n",
       "    </tr>\n",
       "  </tbody>\n",
       "</table>\n",
       "</div>"
      ],
      "text/plain": [
       "          Training      Test\n",
       "Accurary  0.840491  0.609813\n",
       "Jaccard   0.460581  0.345098\n",
       "F1        0.630682  0.513120\n",
       "AUC       0.743546  0.658967"
      ]
     },
     "execution_count": 18,
     "metadata": {},
     "output_type": "execute_result"
    }
   ],
   "source": [
    "clfl = MLPClassifier(hidden_layer_sizes=(30, 30, 30), max_iter=1000).fit(trainX, trainY)\n",
    "trainYp=clfl.predict(trainX)\n",
    "testYp=clfl.predict(testX)\n",
    "\n",
    "scoredf_lr=get_scoredf(trainY, trainYp, testY, testYp)\n",
    "scoredf_lr"
   ]
  }
 ],
 "metadata": {
  "kernelspec": {
   "display_name": "Python 3 (ipykernel)",
   "language": "python",
   "name": "python3"
  },
  "language_info": {
   "codemirror_mode": {
    "name": "ipython",
    "version": 3
   },
   "file_extension": ".py",
   "mimetype": "text/x-python",
   "name": "python",
   "nbconvert_exporter": "python",
   "pygments_lexer": "ipython3",
   "version": "3.9.12"
  }
 },
 "nbformat": 4,
 "nbformat_minor": 5
}
