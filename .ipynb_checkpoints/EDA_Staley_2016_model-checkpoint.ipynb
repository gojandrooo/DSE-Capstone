{
 "cells": [
  {
   "cell_type": "markdown",
   "metadata": {},
   "source": [
    "# Exploratory Data Analysis Demo \n",
    "\n",
    "- Alejandro Hohmann\n",
    "- Bhanu Muvva\n",
    "- Chunxia Tong"
   ]
  },
  {
   "cell_type": "markdown",
   "metadata": {},
   "source": [
    "## The Staley et al. (2016) model report and data \n",
    "https://urldefense.com/v3/__https://pubs.er.usgs.gov/publication/ofr20161106*5Cn__;JQ!!Mih3wA!EVqwPy288xNlhAxyWtei_uO24PH-EgFRwor1RALmy9DtUfC-AOSYbX0IaL6oCD5XLLhfLi9dTVtH8ffg$ \n",
    "USGS_PW_ofr20161106.ris\n",
    "\n",
    "ofr20161106_appx-1.xlsx"
   ]
  },
  {
   "cell_type": "markdown",
   "metadata": {},
   "source": [
    "## Read in Data"
   ]
  },
  {
   "cell_type": "code",
   "execution_count": 1,
   "metadata": {},
   "outputs": [],
   "source": [
    "import pandas as pd"
   ]
  },
  {
   "cell_type": "code",
   "execution_count": 2,
   "metadata": {},
   "outputs": [],
   "source": [
    "# !pip install rispy"
   ]
  },
  {
   "cell_type": "code",
   "execution_count": 3,
   "metadata": {},
   "outputs": [],
   "source": [
    "import rispy"
   ]
  },
  {
   "cell_type": "code",
   "execution_count": 4,
   "metadata": {},
   "outputs": [
    {
     "name": "stdout",
     "output_type": "stream",
     "text": [
      "{'type_of_reference': 'RPRT', 'tertiary_authors': ['U.S. Geological Survey'], 'place_published': 'Reston, VA', 'custom6': '', 'edition': '', 'language': 'English', 'type_of_work': 'Report', 'issn': '2016-1106', 'start_page': '17', 'secondary_title': 'Open-File Report', 'volume': '', 'authors': ['Staley, Dennis M.', 'Negri, Jacquelyn A.', 'Kean, Jason W.', 'Laber, Jayme L.', 'Tillery, Anne C.', 'Youberg, Ann M.'], 'title': 'Updated logistic regression equations for the calculation of post-fire debris-flow likelihood in the western United States', 'year': '2016', 'doi': '10.3133/ofr20161106', 'name_of_database': 'USGS Publications Warehouse', 'url': 'https://urldefense.com/v3/__http://pubs.er.usgs.gov/publication/ofr20161106'*7D*5Cn__;JSU!!Mih3wA!EVqwPy288xNlhAxyWtei_uO24PH-EgFRwor1RALmy9DtUfC-AOSYbX0IaL6oCD5XLLhfLi9dTft-BfQ1$ RPRT\n",
      "['U.S. Geological Survey']\n"
     ]
    }
   ],
   "source": [
    "with open('USGS_PW_ofr20161106.ris', 'r') as file:\n",
    "    entries = rispy.load(file)\n",
    "    for entry in entries:\n",
    "        print(entry)\n",
    "        print(entry['type_of_reference'])\n",
    "        print(entry['tertiary_authors'])\n"
   ]
  },
  {
   "cell_type": "code",
   "execution_count": 5,
   "metadata": {},
   "outputs": [],
   "source": [
    "df = pd.read_excel('ofr20161106_appx-1.xlsx', sheet_name='Appendix1_ModelData')\n"
   ]
  },
  {
   "cell_type": "code",
   "execution_count": 6,
   "metadata": {},
   "outputs": [
    {
     "data": {
      "text/html": [
       "<div>\n",
       "<style scoped>\n",
       "    .dataframe tbody tr th:only-of-type {\n",
       "        vertical-align: middle;\n",
       "    }\n",
       "\n",
       "    .dataframe tbody tr th {\n",
       "        vertical-align: top;\n",
       "    }\n",
       "\n",
       "    .dataframe thead th {\n",
       "        text-align: right;\n",
       "    }\n",
       "</style>\n",
       "<table border=\"1\" class=\"dataframe\">\n",
       "  <thead>\n",
       "    <tr style=\"text-align: right;\">\n",
       "      <th></th>\n",
       "      <th>Fire Name</th>\n",
       "      <th>Year</th>\n",
       "      <th>Fire_ID</th>\n",
       "      <th>Fire_SegID</th>\n",
       "      <th>Database</th>\n",
       "      <th>State</th>\n",
       "      <th>UTM_Zone</th>\n",
       "      <th>UTM_X</th>\n",
       "      <th>UTM_Y</th>\n",
       "      <th>Response</th>\n",
       "      <th>...</th>\n",
       "      <th>Peak_I15_mm/h</th>\n",
       "      <th>Peak_I30_mm/h</th>\n",
       "      <th>Peak_I60_mm/h</th>\n",
       "      <th>ContributingArea_km2</th>\n",
       "      <th>PropHM23</th>\n",
       "      <th>dNBR/1000</th>\n",
       "      <th>KF</th>\n",
       "      <th>Acc015_mm</th>\n",
       "      <th>Acc030_mm</th>\n",
       "      <th>Acc060_mm</th>\n",
       "    </tr>\n",
       "  </thead>\n",
       "  <tbody>\n",
       "    <tr>\n",
       "      <th>0</th>\n",
       "      <td>Buckweed</td>\n",
       "      <td>2007</td>\n",
       "      <td>bck</td>\n",
       "      <td>bck_1035</td>\n",
       "      <td>Training</td>\n",
       "      <td>CA</td>\n",
       "      <td>11</td>\n",
       "      <td>368133.5165</td>\n",
       "      <td>3823231.989</td>\n",
       "      <td>0</td>\n",
       "      <td>...</td>\n",
       "      <td>3.2</td>\n",
       "      <td>2.0</td>\n",
       "      <td>2.0</td>\n",
       "      <td>0.378767</td>\n",
       "      <td>0.217933</td>\n",
       "      <td>0.297853</td>\n",
       "      <td>0.250000</td>\n",
       "      <td>0.8</td>\n",
       "      <td>1.0</td>\n",
       "      <td>2.0</td>\n",
       "    </tr>\n",
       "    <tr>\n",
       "      <th>1</th>\n",
       "      <td>Buckweed</td>\n",
       "      <td>2007</td>\n",
       "      <td>bck</td>\n",
       "      <td>bck_1090</td>\n",
       "      <td>Training</td>\n",
       "      <td>CA</td>\n",
       "      <td>11</td>\n",
       "      <td>367871.0165</td>\n",
       "      <td>3822984.489</td>\n",
       "      <td>0</td>\n",
       "      <td>...</td>\n",
       "      <td>3.2</td>\n",
       "      <td>2.0</td>\n",
       "      <td>2.0</td>\n",
       "      <td>0.689615</td>\n",
       "      <td>0.061249</td>\n",
       "      <td>0.224896</td>\n",
       "      <td>0.250000</td>\n",
       "      <td>0.8</td>\n",
       "      <td>1.0</td>\n",
       "      <td>2.0</td>\n",
       "    </tr>\n",
       "    <tr>\n",
       "      <th>2</th>\n",
       "      <td>Buckweed</td>\n",
       "      <td>2007</td>\n",
       "      <td>bck</td>\n",
       "      <td>bck_1570</td>\n",
       "      <td>Training</td>\n",
       "      <td>CA</td>\n",
       "      <td>11</td>\n",
       "      <td>367503.5165</td>\n",
       "      <td>3821741.989</td>\n",
       "      <td>0</td>\n",
       "      <td>...</td>\n",
       "      <td>3.2</td>\n",
       "      <td>2.0</td>\n",
       "      <td>2.0</td>\n",
       "      <td>2.757312</td>\n",
       "      <td>0.042968</td>\n",
       "      <td>0.065537</td>\n",
       "      <td>0.248541</td>\n",
       "      <td>0.8</td>\n",
       "      <td>1.0</td>\n",
       "      <td>2.0</td>\n",
       "    </tr>\n",
       "    <tr>\n",
       "      <th>3</th>\n",
       "      <td>Buckweed</td>\n",
       "      <td>2007</td>\n",
       "      <td>bck</td>\n",
       "      <td>bck_235</td>\n",
       "      <td>Training</td>\n",
       "      <td>CA</td>\n",
       "      <td>11</td>\n",
       "      <td>371108.5165</td>\n",
       "      <td>3824991.989</td>\n",
       "      <td>0</td>\n",
       "      <td>...</td>\n",
       "      <td>1.6</td>\n",
       "      <td>1.2</td>\n",
       "      <td>0.8</td>\n",
       "      <td>0.613415</td>\n",
       "      <td>0.092164</td>\n",
       "      <td>0.141711</td>\n",
       "      <td>0.250000</td>\n",
       "      <td>0.4</td>\n",
       "      <td>0.6</td>\n",
       "      <td>0.8</td>\n",
       "    </tr>\n",
       "    <tr>\n",
       "      <th>4</th>\n",
       "      <td>Buckweed</td>\n",
       "      <td>2007</td>\n",
       "      <td>bck</td>\n",
       "      <td>bck_363</td>\n",
       "      <td>Training</td>\n",
       "      <td>CA</td>\n",
       "      <td>11</td>\n",
       "      <td>370763.5165</td>\n",
       "      <td>3824576.989</td>\n",
       "      <td>0</td>\n",
       "      <td>...</td>\n",
       "      <td>1.6</td>\n",
       "      <td>1.2</td>\n",
       "      <td>0.8</td>\n",
       "      <td>0.538875</td>\n",
       "      <td>0.058353</td>\n",
       "      <td>0.210158</td>\n",
       "      <td>0.250000</td>\n",
       "      <td>0.4</td>\n",
       "      <td>0.6</td>\n",
       "      <td>0.8</td>\n",
       "    </tr>\n",
       "  </tbody>\n",
       "</table>\n",
       "<p>5 rows × 27 columns</p>\n",
       "</div>"
      ],
      "text/plain": [
       "  Fire Name  Year Fire_ID Fire_SegID  Database State  UTM_Zone        UTM_X  \\\n",
       "0  Buckweed  2007     bck   bck_1035  Training    CA        11  368133.5165   \n",
       "1  Buckweed  2007     bck   bck_1090  Training    CA        11  367871.0165   \n",
       "2  Buckweed  2007     bck   bck_1570  Training    CA        11  367503.5165   \n",
       "3  Buckweed  2007     bck    bck_235  Training    CA        11  371108.5165   \n",
       "4  Buckweed  2007     bck    bck_363  Training    CA        11  370763.5165   \n",
       "\n",
       "         UTM_Y  Response  ... Peak_I15_mm/h  Peak_I30_mm/h Peak_I60_mm/h  \\\n",
       "0  3823231.989         0  ...           3.2            2.0           2.0   \n",
       "1  3822984.489         0  ...           3.2            2.0           2.0   \n",
       "2  3821741.989         0  ...           3.2            2.0           2.0   \n",
       "3  3824991.989         0  ...           1.6            1.2           0.8   \n",
       "4  3824576.989         0  ...           1.6            1.2           0.8   \n",
       "\n",
       "  ContributingArea_km2  PropHM23  dNBR/1000        KF  Acc015_mm  Acc030_mm  \\\n",
       "0             0.378767  0.217933   0.297853  0.250000        0.8        1.0   \n",
       "1             0.689615  0.061249   0.224896  0.250000        0.8        1.0   \n",
       "2             2.757312  0.042968   0.065537  0.248541        0.8        1.0   \n",
       "3             0.613415  0.092164   0.141711  0.250000        0.4        0.6   \n",
       "4             0.538875  0.058353   0.210158  0.250000        0.4        0.6   \n",
       "\n",
       "   Acc060_mm  \n",
       "0        2.0  \n",
       "1        2.0  \n",
       "2        2.0  \n",
       "3        0.8  \n",
       "4        0.8  \n",
       "\n",
       "[5 rows x 27 columns]"
      ]
     },
     "execution_count": 6,
     "metadata": {},
     "output_type": "execute_result"
    }
   ],
   "source": [
    "df.head()"
   ]
  },
  {
   "cell_type": "markdown",
   "metadata": {},
   "source": [
    "## Examine rows"
   ]
  },
  {
   "cell_type": "code",
   "execution_count": 7,
   "metadata": {},
   "outputs": [
    {
     "data": {
      "text/html": [
       "<div>\n",
       "<style scoped>\n",
       "    .dataframe tbody tr th:only-of-type {\n",
       "        vertical-align: middle;\n",
       "    }\n",
       "\n",
       "    .dataframe tbody tr th {\n",
       "        vertical-align: top;\n",
       "    }\n",
       "\n",
       "    .dataframe thead th {\n",
       "        text-align: right;\n",
       "    }\n",
       "</style>\n",
       "<table border=\"1\" class=\"dataframe\">\n",
       "  <thead>\n",
       "    <tr style=\"text-align: right;\">\n",
       "      <th></th>\n",
       "      <th>Fire Name</th>\n",
       "      <th>Year</th>\n",
       "      <th>Fire_ID</th>\n",
       "      <th>Fire_SegID</th>\n",
       "      <th>Database</th>\n",
       "      <th>State</th>\n",
       "      <th>UTM_Zone</th>\n",
       "      <th>UTM_X</th>\n",
       "      <th>UTM_Y</th>\n",
       "      <th>Response</th>\n",
       "      <th>...</th>\n",
       "      <th>Peak_I15_mm/h</th>\n",
       "      <th>Peak_I30_mm/h</th>\n",
       "      <th>Peak_I60_mm/h</th>\n",
       "      <th>ContributingArea_km2</th>\n",
       "      <th>PropHM23</th>\n",
       "      <th>dNBR/1000</th>\n",
       "      <th>KF</th>\n",
       "      <th>Acc015_mm</th>\n",
       "      <th>Acc030_mm</th>\n",
       "      <th>Acc060_mm</th>\n",
       "    </tr>\n",
       "  </thead>\n",
       "  <tbody>\n",
       "    <tr>\n",
       "      <th>0</th>\n",
       "      <td>Buckweed</td>\n",
       "      <td>2007</td>\n",
       "      <td>bck</td>\n",
       "      <td>bck_1035</td>\n",
       "      <td>Training</td>\n",
       "      <td>CA</td>\n",
       "      <td>11</td>\n",
       "      <td>368133.5165</td>\n",
       "      <td>3823231.989</td>\n",
       "      <td>0</td>\n",
       "      <td>...</td>\n",
       "      <td>3.2</td>\n",
       "      <td>2.0</td>\n",
       "      <td>2.0</td>\n",
       "      <td>0.378767</td>\n",
       "      <td>0.217933</td>\n",
       "      <td>0.297853</td>\n",
       "      <td>0.250000</td>\n",
       "      <td>0.8</td>\n",
       "      <td>1.0</td>\n",
       "      <td>2.0</td>\n",
       "    </tr>\n",
       "    <tr>\n",
       "      <th>1</th>\n",
       "      <td>Buckweed</td>\n",
       "      <td>2007</td>\n",
       "      <td>bck</td>\n",
       "      <td>bck_1090</td>\n",
       "      <td>Training</td>\n",
       "      <td>CA</td>\n",
       "      <td>11</td>\n",
       "      <td>367871.0165</td>\n",
       "      <td>3822984.489</td>\n",
       "      <td>0</td>\n",
       "      <td>...</td>\n",
       "      <td>3.2</td>\n",
       "      <td>2.0</td>\n",
       "      <td>2.0</td>\n",
       "      <td>0.689615</td>\n",
       "      <td>0.061249</td>\n",
       "      <td>0.224896</td>\n",
       "      <td>0.250000</td>\n",
       "      <td>0.8</td>\n",
       "      <td>1.0</td>\n",
       "      <td>2.0</td>\n",
       "    </tr>\n",
       "    <tr>\n",
       "      <th>2</th>\n",
       "      <td>Buckweed</td>\n",
       "      <td>2007</td>\n",
       "      <td>bck</td>\n",
       "      <td>bck_1570</td>\n",
       "      <td>Training</td>\n",
       "      <td>CA</td>\n",
       "      <td>11</td>\n",
       "      <td>367503.5165</td>\n",
       "      <td>3821741.989</td>\n",
       "      <td>0</td>\n",
       "      <td>...</td>\n",
       "      <td>3.2</td>\n",
       "      <td>2.0</td>\n",
       "      <td>2.0</td>\n",
       "      <td>2.757312</td>\n",
       "      <td>0.042968</td>\n",
       "      <td>0.065537</td>\n",
       "      <td>0.248541</td>\n",
       "      <td>0.8</td>\n",
       "      <td>1.0</td>\n",
       "      <td>2.0</td>\n",
       "    </tr>\n",
       "    <tr>\n",
       "      <th>3</th>\n",
       "      <td>Buckweed</td>\n",
       "      <td>2007</td>\n",
       "      <td>bck</td>\n",
       "      <td>bck_235</td>\n",
       "      <td>Training</td>\n",
       "      <td>CA</td>\n",
       "      <td>11</td>\n",
       "      <td>371108.5165</td>\n",
       "      <td>3824991.989</td>\n",
       "      <td>0</td>\n",
       "      <td>...</td>\n",
       "      <td>1.6</td>\n",
       "      <td>1.2</td>\n",
       "      <td>0.8</td>\n",
       "      <td>0.613415</td>\n",
       "      <td>0.092164</td>\n",
       "      <td>0.141711</td>\n",
       "      <td>0.250000</td>\n",
       "      <td>0.4</td>\n",
       "      <td>0.6</td>\n",
       "      <td>0.8</td>\n",
       "    </tr>\n",
       "    <tr>\n",
       "      <th>4</th>\n",
       "      <td>Buckweed</td>\n",
       "      <td>2007</td>\n",
       "      <td>bck</td>\n",
       "      <td>bck_363</td>\n",
       "      <td>Training</td>\n",
       "      <td>CA</td>\n",
       "      <td>11</td>\n",
       "      <td>370763.5165</td>\n",
       "      <td>3824576.989</td>\n",
       "      <td>0</td>\n",
       "      <td>...</td>\n",
       "      <td>1.6</td>\n",
       "      <td>1.2</td>\n",
       "      <td>0.8</td>\n",
       "      <td>0.538875</td>\n",
       "      <td>0.058353</td>\n",
       "      <td>0.210158</td>\n",
       "      <td>0.250000</td>\n",
       "      <td>0.4</td>\n",
       "      <td>0.6</td>\n",
       "      <td>0.8</td>\n",
       "    </tr>\n",
       "    <tr>\n",
       "      <th>5</th>\n",
       "      <td>Buckweed</td>\n",
       "      <td>2007</td>\n",
       "      <td>bck</td>\n",
       "      <td>bck_440</td>\n",
       "      <td>Training</td>\n",
       "      <td>CA</td>\n",
       "      <td>11</td>\n",
       "      <td>370518.5165</td>\n",
       "      <td>3824426.989</td>\n",
       "      <td>0</td>\n",
       "      <td>...</td>\n",
       "      <td>1.6</td>\n",
       "      <td>1.2</td>\n",
       "      <td>0.8</td>\n",
       "      <td>0.334510</td>\n",
       "      <td>0.156563</td>\n",
       "      <td>0.337676</td>\n",
       "      <td>0.250000</td>\n",
       "      <td>0.4</td>\n",
       "      <td>0.6</td>\n",
       "      <td>0.8</td>\n",
       "    </tr>\n",
       "    <tr>\n",
       "      <th>6</th>\n",
       "      <td>Buckweed</td>\n",
       "      <td>2007</td>\n",
       "      <td>bck</td>\n",
       "      <td>bck_469</td>\n",
       "      <td>Training</td>\n",
       "      <td>CA</td>\n",
       "      <td>11</td>\n",
       "      <td>369146.0165</td>\n",
       "      <td>3824489.489</td>\n",
       "      <td>0</td>\n",
       "      <td>...</td>\n",
       "      <td>3.2</td>\n",
       "      <td>2.0</td>\n",
       "      <td>2.0</td>\n",
       "      <td>0.770600</td>\n",
       "      <td>0.261436</td>\n",
       "      <td>0.208136</td>\n",
       "      <td>0.250000</td>\n",
       "      <td>0.8</td>\n",
       "      <td>1.0</td>\n",
       "      <td>2.0</td>\n",
       "    </tr>\n",
       "    <tr>\n",
       "      <th>7</th>\n",
       "      <td>Buckweed</td>\n",
       "      <td>2007</td>\n",
       "      <td>bck</td>\n",
       "      <td>bck_604</td>\n",
       "      <td>Training</td>\n",
       "      <td>CA</td>\n",
       "      <td>11</td>\n",
       "      <td>369843.5165</td>\n",
       "      <td>3824206.989</td>\n",
       "      <td>0</td>\n",
       "      <td>...</td>\n",
       "      <td>3.2</td>\n",
       "      <td>2.0</td>\n",
       "      <td>2.0</td>\n",
       "      <td>0.161700</td>\n",
       "      <td>0.059441</td>\n",
       "      <td>0.315327</td>\n",
       "      <td>0.250000</td>\n",
       "      <td>0.8</td>\n",
       "      <td>1.0</td>\n",
       "      <td>2.0</td>\n",
       "    </tr>\n",
       "    <tr>\n",
       "      <th>8</th>\n",
       "      <td>Buckweed</td>\n",
       "      <td>2007</td>\n",
       "      <td>bck</td>\n",
       "      <td>bck_611</td>\n",
       "      <td>Training</td>\n",
       "      <td>CA</td>\n",
       "      <td>11</td>\n",
       "      <td>369283.5165</td>\n",
       "      <td>3824121.989</td>\n",
       "      <td>0</td>\n",
       "      <td>...</td>\n",
       "      <td>3.2</td>\n",
       "      <td>2.0</td>\n",
       "      <td>2.0</td>\n",
       "      <td>0.079050</td>\n",
       "      <td>0.031439</td>\n",
       "      <td>0.338410</td>\n",
       "      <td>0.250000</td>\n",
       "      <td>0.8</td>\n",
       "      <td>1.0</td>\n",
       "      <td>2.0</td>\n",
       "    </tr>\n",
       "    <tr>\n",
       "      <th>9</th>\n",
       "      <td>Buckweed</td>\n",
       "      <td>2007</td>\n",
       "      <td>bck</td>\n",
       "      <td>bck_643</td>\n",
       "      <td>Training</td>\n",
       "      <td>CA</td>\n",
       "      <td>11</td>\n",
       "      <td>368648.5165</td>\n",
       "      <td>3824011.989</td>\n",
       "      <td>0</td>\n",
       "      <td>...</td>\n",
       "      <td>3.2</td>\n",
       "      <td>2.0</td>\n",
       "      <td>2.0</td>\n",
       "      <td>3.017473</td>\n",
       "      <td>0.043823</td>\n",
       "      <td>0.062549</td>\n",
       "      <td>0.247283</td>\n",
       "      <td>0.8</td>\n",
       "      <td>1.0</td>\n",
       "      <td>2.0</td>\n",
       "    </tr>\n",
       "  </tbody>\n",
       "</table>\n",
       "<p>10 rows × 27 columns</p>\n",
       "</div>"
      ],
      "text/plain": [
       "  Fire Name  Year Fire_ID Fire_SegID  Database State  UTM_Zone        UTM_X  \\\n",
       "0  Buckweed  2007     bck   bck_1035  Training    CA        11  368133.5165   \n",
       "1  Buckweed  2007     bck   bck_1090  Training    CA        11  367871.0165   \n",
       "2  Buckweed  2007     bck   bck_1570  Training    CA        11  367503.5165   \n",
       "3  Buckweed  2007     bck    bck_235  Training    CA        11  371108.5165   \n",
       "4  Buckweed  2007     bck    bck_363  Training    CA        11  370763.5165   \n",
       "5  Buckweed  2007     bck    bck_440  Training    CA        11  370518.5165   \n",
       "6  Buckweed  2007     bck    bck_469  Training    CA        11  369146.0165   \n",
       "7  Buckweed  2007     bck    bck_604  Training    CA        11  369843.5165   \n",
       "8  Buckweed  2007     bck    bck_611  Training    CA        11  369283.5165   \n",
       "9  Buckweed  2007     bck    bck_643  Training    CA        11  368648.5165   \n",
       "\n",
       "         UTM_Y  Response  ... Peak_I15_mm/h  Peak_I30_mm/h Peak_I60_mm/h  \\\n",
       "0  3823231.989         0  ...           3.2            2.0           2.0   \n",
       "1  3822984.489         0  ...           3.2            2.0           2.0   \n",
       "2  3821741.989         0  ...           3.2            2.0           2.0   \n",
       "3  3824991.989         0  ...           1.6            1.2           0.8   \n",
       "4  3824576.989         0  ...           1.6            1.2           0.8   \n",
       "5  3824426.989         0  ...           1.6            1.2           0.8   \n",
       "6  3824489.489         0  ...           3.2            2.0           2.0   \n",
       "7  3824206.989         0  ...           3.2            2.0           2.0   \n",
       "8  3824121.989         0  ...           3.2            2.0           2.0   \n",
       "9  3824011.989         0  ...           3.2            2.0           2.0   \n",
       "\n",
       "  ContributingArea_km2  PropHM23  dNBR/1000        KF  Acc015_mm  Acc030_mm  \\\n",
       "0             0.378767  0.217933   0.297853  0.250000        0.8        1.0   \n",
       "1             0.689615  0.061249   0.224896  0.250000        0.8        1.0   \n",
       "2             2.757312  0.042968   0.065537  0.248541        0.8        1.0   \n",
       "3             0.613415  0.092164   0.141711  0.250000        0.4        0.6   \n",
       "4             0.538875  0.058353   0.210158  0.250000        0.4        0.6   \n",
       "5             0.334510  0.156563   0.337676  0.250000        0.4        0.6   \n",
       "6             0.770600  0.261436   0.208136  0.250000        0.8        1.0   \n",
       "7             0.161700  0.059441   0.315327  0.250000        0.8        1.0   \n",
       "8             0.079050  0.031439   0.338410  0.250000        0.8        1.0   \n",
       "9             3.017473  0.043823   0.062549  0.247283        0.8        1.0   \n",
       "\n",
       "   Acc060_mm  \n",
       "0        2.0  \n",
       "1        2.0  \n",
       "2        2.0  \n",
       "3        0.8  \n",
       "4        0.8  \n",
       "5        0.8  \n",
       "6        2.0  \n",
       "7        2.0  \n",
       "8        2.0  \n",
       "9        2.0  \n",
       "\n",
       "[10 rows x 27 columns]"
      ]
     },
     "execution_count": 7,
     "metadata": {},
     "output_type": "execute_result"
    }
   ],
   "source": [
    "df.head(10)"
   ]
  },
  {
   "cell_type": "code",
   "execution_count": 8,
   "metadata": {},
   "outputs": [
    {
     "data": {
      "text/html": [
       "<div>\n",
       "<style scoped>\n",
       "    .dataframe tbody tr th:only-of-type {\n",
       "        vertical-align: middle;\n",
       "    }\n",
       "\n",
       "    .dataframe tbody tr th {\n",
       "        vertical-align: top;\n",
       "    }\n",
       "\n",
       "    .dataframe thead th {\n",
       "        text-align: right;\n",
       "    }\n",
       "</style>\n",
       "<table border=\"1\" class=\"dataframe\">\n",
       "  <thead>\n",
       "    <tr style=\"text-align: right;\">\n",
       "      <th></th>\n",
       "      <th>Fire Name</th>\n",
       "      <th>Year</th>\n",
       "      <th>Fire_ID</th>\n",
       "      <th>Fire_SegID</th>\n",
       "      <th>Database</th>\n",
       "      <th>State</th>\n",
       "      <th>UTM_Zone</th>\n",
       "      <th>UTM_X</th>\n",
       "      <th>UTM_Y</th>\n",
       "      <th>Response</th>\n",
       "      <th>...</th>\n",
       "      <th>Peak_I15_mm/h</th>\n",
       "      <th>Peak_I30_mm/h</th>\n",
       "      <th>Peak_I60_mm/h</th>\n",
       "      <th>ContributingArea_km2</th>\n",
       "      <th>PropHM23</th>\n",
       "      <th>dNBR/1000</th>\n",
       "      <th>KF</th>\n",
       "      <th>Acc015_mm</th>\n",
       "      <th>Acc030_mm</th>\n",
       "      <th>Acc060_mm</th>\n",
       "    </tr>\n",
       "  </thead>\n",
       "  <tbody>\n",
       "    <tr>\n",
       "      <th>1545</th>\n",
       "      <td>Wallow</td>\n",
       "      <td>2011</td>\n",
       "      <td>wlw</td>\n",
       "      <td>wlw_47409</td>\n",
       "      <td>Test</td>\n",
       "      <td>AZ</td>\n",
       "      <td>12</td>\n",
       "      <td>660698.3581</td>\n",
       "      <td>3725248.835</td>\n",
       "      <td>0</td>\n",
       "      <td>...</td>\n",
       "      <td>14.0</td>\n",
       "      <td>8.0</td>\n",
       "      <td>NaN</td>\n",
       "      <td>1.554356</td>\n",
       "      <td>0.009801</td>\n",
       "      <td>0.187053</td>\n",
       "      <td>0.0</td>\n",
       "      <td>3.50</td>\n",
       "      <td>4.0</td>\n",
       "      <td>NaN</td>\n",
       "    </tr>\n",
       "    <tr>\n",
       "      <th>1546</th>\n",
       "      <td>Wallow</td>\n",
       "      <td>2011</td>\n",
       "      <td>wlw</td>\n",
       "      <td>wlw_47535</td>\n",
       "      <td>Test</td>\n",
       "      <td>AZ</td>\n",
       "      <td>12</td>\n",
       "      <td>660178.3581</td>\n",
       "      <td>3725128.835</td>\n",
       "      <td>0</td>\n",
       "      <td>...</td>\n",
       "      <td>63.0</td>\n",
       "      <td>54.0</td>\n",
       "      <td>39.0</td>\n",
       "      <td>0.683425</td>\n",
       "      <td>0.001571</td>\n",
       "      <td>0.500223</td>\n",
       "      <td>0.0</td>\n",
       "      <td>15.75</td>\n",
       "      <td>27.0</td>\n",
       "      <td>39.0</td>\n",
       "    </tr>\n",
       "    <tr>\n",
       "      <th>1547</th>\n",
       "      <td>Wallow</td>\n",
       "      <td>2011</td>\n",
       "      <td>wlw</td>\n",
       "      <td>wlw_47535</td>\n",
       "      <td>Test</td>\n",
       "      <td>AZ</td>\n",
       "      <td>12</td>\n",
       "      <td>660178.3581</td>\n",
       "      <td>3725128.835</td>\n",
       "      <td>0</td>\n",
       "      <td>...</td>\n",
       "      <td>29.0</td>\n",
       "      <td>16.0</td>\n",
       "      <td>NaN</td>\n",
       "      <td>0.683425</td>\n",
       "      <td>0.001571</td>\n",
       "      <td>0.500223</td>\n",
       "      <td>0.0</td>\n",
       "      <td>7.25</td>\n",
       "      <td>8.0</td>\n",
       "      <td>NaN</td>\n",
       "    </tr>\n",
       "    <tr>\n",
       "      <th>1548</th>\n",
       "      <td>Wallow</td>\n",
       "      <td>2011</td>\n",
       "      <td>wlw</td>\n",
       "      <td>wlw_47535</td>\n",
       "      <td>Test</td>\n",
       "      <td>AZ</td>\n",
       "      <td>12</td>\n",
       "      <td>660178.3581</td>\n",
       "      <td>3725128.835</td>\n",
       "      <td>0</td>\n",
       "      <td>...</td>\n",
       "      <td>25.0</td>\n",
       "      <td>16.0</td>\n",
       "      <td>NaN</td>\n",
       "      <td>0.683425</td>\n",
       "      <td>0.001571</td>\n",
       "      <td>0.500223</td>\n",
       "      <td>0.0</td>\n",
       "      <td>6.25</td>\n",
       "      <td>8.0</td>\n",
       "      <td>NaN</td>\n",
       "    </tr>\n",
       "    <tr>\n",
       "      <th>1549</th>\n",
       "      <td>Wallow</td>\n",
       "      <td>2011</td>\n",
       "      <td>wlw</td>\n",
       "      <td>wlw_47535</td>\n",
       "      <td>Test</td>\n",
       "      <td>AZ</td>\n",
       "      <td>12</td>\n",
       "      <td>660178.3581</td>\n",
       "      <td>3725128.835</td>\n",
       "      <td>0</td>\n",
       "      <td>...</td>\n",
       "      <td>14.0</td>\n",
       "      <td>8.0</td>\n",
       "      <td>NaN</td>\n",
       "      <td>0.683425</td>\n",
       "      <td>0.001571</td>\n",
       "      <td>0.500223</td>\n",
       "      <td>0.0</td>\n",
       "      <td>3.50</td>\n",
       "      <td>4.0</td>\n",
       "      <td>NaN</td>\n",
       "    </tr>\n",
       "  </tbody>\n",
       "</table>\n",
       "<p>5 rows × 27 columns</p>\n",
       "</div>"
      ],
      "text/plain": [
       "     Fire Name  Year Fire_ID Fire_SegID Database State  UTM_Zone        UTM_X  \\\n",
       "1545    Wallow  2011     wlw  wlw_47409     Test    AZ        12  660698.3581   \n",
       "1546    Wallow  2011     wlw  wlw_47535     Test    AZ        12  660178.3581   \n",
       "1547    Wallow  2011     wlw  wlw_47535     Test    AZ        12  660178.3581   \n",
       "1548    Wallow  2011     wlw  wlw_47535     Test    AZ        12  660178.3581   \n",
       "1549    Wallow  2011     wlw  wlw_47535     Test    AZ        12  660178.3581   \n",
       "\n",
       "            UTM_Y  Response  ... Peak_I15_mm/h  Peak_I30_mm/h Peak_I60_mm/h  \\\n",
       "1545  3725248.835         0  ...          14.0            8.0           NaN   \n",
       "1546  3725128.835         0  ...          63.0           54.0          39.0   \n",
       "1547  3725128.835         0  ...          29.0           16.0           NaN   \n",
       "1548  3725128.835         0  ...          25.0           16.0           NaN   \n",
       "1549  3725128.835         0  ...          14.0            8.0           NaN   \n",
       "\n",
       "     ContributingArea_km2  PropHM23  dNBR/1000   KF  Acc015_mm  Acc030_mm  \\\n",
       "1545             1.554356  0.009801   0.187053  0.0       3.50        4.0   \n",
       "1546             0.683425  0.001571   0.500223  0.0      15.75       27.0   \n",
       "1547             0.683425  0.001571   0.500223  0.0       7.25        8.0   \n",
       "1548             0.683425  0.001571   0.500223  0.0       6.25        8.0   \n",
       "1549             0.683425  0.001571   0.500223  0.0       3.50        4.0   \n",
       "\n",
       "      Acc060_mm  \n",
       "1545        NaN  \n",
       "1546       39.0  \n",
       "1547        NaN  \n",
       "1548        NaN  \n",
       "1549        NaN  \n",
       "\n",
       "[5 rows x 27 columns]"
      ]
     },
     "execution_count": 8,
     "metadata": {},
     "output_type": "execute_result"
    }
   ],
   "source": [
    "df.tail()"
   ]
  },
  {
   "cell_type": "markdown",
   "metadata": {},
   "source": [
    "## Examine columns"
   ]
  },
  {
   "cell_type": "code",
   "execution_count": 9,
   "metadata": {},
   "outputs": [
    {
     "data": {
      "text/plain": [
       "(1550, 27)"
      ]
     },
     "execution_count": 9,
     "metadata": {},
     "output_type": "execute_result"
    }
   ],
   "source": [
    "df.shape"
   ]
  },
  {
   "cell_type": "code",
   "execution_count": 10,
   "metadata": {},
   "outputs": [
    {
     "name": "stdout",
     "output_type": "stream",
     "text": [
      "Dimensions: (1550, 27) \n",
      "\n"
     ]
    }
   ],
   "source": [
    "print('Dimensions:', df.shape, '\\n')"
   ]
  },
  {
   "cell_type": "code",
   "execution_count": 11,
   "metadata": {},
   "outputs": [
    {
     "data": {
      "text/plain": [
       "Index(['Fire Name', 'Year', 'Fire_ID', 'Fire_SegID', 'Database', 'State',\n",
       "       'UTM_Zone', 'UTM_X', 'UTM_Y', 'Response', 'StormDate', 'GaugeDist_m',\n",
       "       'StormStart', 'StormEnd', 'StormDur_H', 'StormAccum_mm',\n",
       "       'StormAvgI_mm/h', 'Peak_I15_mm/h', 'Peak_I30_mm/h', 'Peak_I60_mm/h',\n",
       "       'ContributingArea_km2', 'PropHM23', 'dNBR/1000', 'KF', 'Acc015_mm',\n",
       "       'Acc030_mm', 'Acc060_mm'],\n",
       "      dtype='object')"
      ]
     },
     "execution_count": 11,
     "metadata": {},
     "output_type": "execute_result"
    }
   ],
   "source": [
    "df.columns"
   ]
  },
  {
   "cell_type": "code",
   "execution_count": 12,
   "metadata": {},
   "outputs": [
    {
     "name": "stdout",
     "output_type": "stream",
     "text": [
      "Columns:\n",
      " ['Fire Name', 'Year', 'Fire_ID', 'Fire_SegID', 'Database', 'State', 'UTM_Zone', 'UTM_X', 'UTM_Y', 'Response', 'StormDate', 'GaugeDist_m', 'StormStart', 'StormEnd', 'StormDur_H', 'StormAccum_mm', 'StormAvgI_mm/h', 'Peak_I15_mm/h', 'Peak_I30_mm/h', 'Peak_I60_mm/h', 'ContributingArea_km2', 'PropHM23', 'dNBR/1000', 'KF', 'Acc015_mm', 'Acc030_mm', 'Acc060_mm']\n"
     ]
    }
   ],
   "source": [
    "print('Columns:\\n', list(df.columns))"
   ]
  },
  {
   "cell_type": "code",
   "execution_count": 13,
   "metadata": {},
   "outputs": [
    {
     "name": "stdout",
     "output_type": "stream",
     "text": [
      "Dimensions: (1550, 27) \n",
      "\n",
      "Columns:\n",
      " ['Fire Name', 'Year', 'Fire_ID', 'Fire_SegID', 'Database', 'State', 'UTM_Zone', 'UTM_X', 'UTM_Y', 'Response', 'StormDate', 'GaugeDist_m', 'StormStart', 'StormEnd', 'StormDur_H', 'StormAccum_mm', 'StormAvgI_mm/h', 'Peak_I15_mm/h', 'Peak_I30_mm/h', 'Peak_I60_mm/h', 'ContributingArea_km2', 'PropHM23', 'dNBR/1000', 'KF', 'Acc015_mm', 'Acc030_mm', 'Acc060_mm']\n"
     ]
    }
   ],
   "source": [
    "print('Dimensions:', df.shape, '\\n')\n",
    "print('Columns:\\n', list(df.columns))"
   ]
  },
  {
   "cell_type": "markdown",
   "metadata": {},
   "source": [
    "### Dataframe info"
   ]
  },
  {
   "cell_type": "code",
   "execution_count": 14,
   "metadata": {},
   "outputs": [
    {
     "data": {
      "text/plain": [
       "Fire Name                       object\n",
       "Year                             int64\n",
       "Fire_ID                         object\n",
       "Fire_SegID                      object\n",
       "Database                        object\n",
       "State                           object\n",
       "UTM_Zone                         int64\n",
       "UTM_X                          float64\n",
       "UTM_Y                          float64\n",
       "Response                         int64\n",
       "StormDate                       object\n",
       "GaugeDist_m                    float64\n",
       "StormStart              datetime64[ns]\n",
       "StormEnd                datetime64[ns]\n",
       "StormDur_H                     float64\n",
       "StormAccum_mm                  float64\n",
       "StormAvgI_mm/h                 float64\n",
       "Peak_I15_mm/h                  float64\n",
       "Peak_I30_mm/h                  float64\n",
       "Peak_I60_mm/h                  float64\n",
       "ContributingArea_km2           float64\n",
       "PropHM23                       float64\n",
       "dNBR/1000                      float64\n",
       "KF                             float64\n",
       "Acc015_mm                      float64\n",
       "Acc030_mm                      float64\n",
       "Acc060_mm                      float64\n",
       "dtype: object"
      ]
     },
     "execution_count": 14,
     "metadata": {},
     "output_type": "execute_result"
    }
   ],
   "source": [
    "df.dtypes"
   ]
  },
  {
   "cell_type": "code",
   "execution_count": 15,
   "metadata": {
    "tags": []
   },
   "outputs": [
    {
     "name": "stdout",
     "output_type": "stream",
     "text": [
      "<class 'pandas.core.frame.DataFrame'>\n",
      "RangeIndex: 1550 entries, 0 to 1549\n",
      "Data columns (total 27 columns):\n",
      " #   Column                Non-Null Count  Dtype         \n",
      "---  ------                --------------  -----         \n",
      " 0   Fire Name             1550 non-null   object        \n",
      " 1   Year                  1550 non-null   int64         \n",
      " 2   Fire_ID               1550 non-null   object        \n",
      " 3   Fire_SegID            1550 non-null   object        \n",
      " 4   Database              1550 non-null   object        \n",
      " 5   State                 1550 non-null   object        \n",
      " 6   UTM_Zone              1550 non-null   int64         \n",
      " 7   UTM_X                 1550 non-null   float64       \n",
      " 8   UTM_Y                 1550 non-null   float64       \n",
      " 9   Response              1550 non-null   int64         \n",
      " 10  StormDate             1550 non-null   object        \n",
      " 11  GaugeDist_m           1550 non-null   float64       \n",
      " 12  StormStart            1390 non-null   datetime64[ns]\n",
      " 13  StormEnd              1390 non-null   datetime64[ns]\n",
      " 14  StormDur_H            1550 non-null   float64       \n",
      " 15  StormAccum_mm         1550 non-null   float64       \n",
      " 16  StormAvgI_mm/h        1550 non-null   float64       \n",
      " 17  Peak_I15_mm/h         1320 non-null   float64       \n",
      " 18  Peak_I30_mm/h         1336 non-null   float64       \n",
      " 19  Peak_I60_mm/h         1294 non-null   float64       \n",
      " 20  ContributingArea_km2  1550 non-null   float64       \n",
      " 21  PropHM23              1550 non-null   float64       \n",
      " 22  dNBR/1000             1473 non-null   float64       \n",
      " 23  KF                    1550 non-null   float64       \n",
      " 24  Acc015_mm             1320 non-null   float64       \n",
      " 25  Acc030_mm             1336 non-null   float64       \n",
      " 26  Acc060_mm             1294 non-null   float64       \n",
      "dtypes: datetime64[ns](2), float64(16), int64(3), object(6)\n",
      "memory usage: 327.1+ KB\n"
     ]
    }
   ],
   "source": [
    "df.info()"
   ]
  },
  {
   "cell_type": "markdown",
   "metadata": {},
   "source": [
    "## Get Summary Statistics"
   ]
  },
  {
   "cell_type": "markdown",
   "metadata": {},
   "source": [
    "### Summary statistics for entire dataset"
   ]
  },
  {
   "cell_type": "code",
   "execution_count": null,
   "metadata": {},
   "outputs": [],
   "source": []
  },
  {
   "cell_type": "markdown",
   "metadata": {},
   "source": [
    "### Summary statistics for single feature"
   ]
  },
  {
   "cell_type": "code",
   "execution_count": null,
   "metadata": {},
   "outputs": [],
   "source": []
  },
  {
   "cell_type": "markdown",
   "metadata": {},
   "source": [
    "### Other summary statistics"
   ]
  },
  {
   "cell_type": "code",
   "execution_count": null,
   "metadata": {},
   "outputs": [],
   "source": []
  },
  {
   "cell_type": "markdown",
   "metadata": {},
   "source": [
    "## Handling Missing Values"
   ]
  },
  {
   "cell_type": "markdown",
   "metadata": {},
   "source": [
    "### Determine features with missing values"
   ]
  },
  {
   "cell_type": "code",
   "execution_count": 16,
   "metadata": {},
   "outputs": [
    {
     "name": "stdout",
     "output_type": "stream",
     "text": [
      "NAs for each feature:\n"
     ]
    },
    {
     "data": {
      "text/plain": [
       "Fire Name                 0\n",
       "Year                      0\n",
       "Fire_ID                   0\n",
       "Fire_SegID                0\n",
       "Database                  0\n",
       "State                     0\n",
       "UTM_Zone                  0\n",
       "UTM_X                     0\n",
       "UTM_Y                     0\n",
       "Response                  0\n",
       "StormDate                 0\n",
       "GaugeDist_m               0\n",
       "StormStart              160\n",
       "StormEnd                160\n",
       "StormDur_H                0\n",
       "StormAccum_mm             0\n",
       "StormAvgI_mm/h            0\n",
       "Peak_I15_mm/h           230\n",
       "Peak_I30_mm/h           214\n",
       "Peak_I60_mm/h           256\n",
       "ContributingArea_km2      0\n",
       "PropHM23                  0\n",
       "dNBR/1000                77\n",
       "KF                        0\n",
       "Acc015_mm               230\n",
       "Acc030_mm               214\n",
       "Acc060_mm               256\n",
       "dtype: int64"
      ]
     },
     "execution_count": 16,
     "metadata": {},
     "output_type": "execute_result"
    }
   ],
   "source": [
    "print(\"NAs for each feature:\")\n",
    "df.isna().sum()"
   ]
  },
  {
   "cell_type": "code",
   "execution_count": 17,
   "metadata": {},
   "outputs": [
    {
     "data": {
      "text/plain": [
       "['Fire Name',\n",
       " 'Year',\n",
       " 'Fire_ID',\n",
       " 'Fire_SegID',\n",
       " 'Database',\n",
       " 'State',\n",
       " 'UTM_Zone',\n",
       " 'UTM_X',\n",
       " 'UTM_Y',\n",
       " 'Response',\n",
       " 'StormDate',\n",
       " 'GaugeDist_m',\n",
       " 'StormDur_H',\n",
       " 'StormAccum_mm',\n",
       " 'StormAvgI_mm/h',\n",
       " 'ContributingArea_km2',\n",
       " 'PropHM23',\n",
       " 'KF']"
      ]
     },
     "execution_count": 17,
     "metadata": {},
     "output_type": "execute_result"
    }
   ],
   "source": [
    "# Features without missing values\n",
    "list(df.columns[df.isna().sum() == 0])"
   ]
  },
  {
   "cell_type": "markdown",
   "metadata": {},
   "source": [
    "### Remove rows with missing values"
   ]
  },
  {
   "cell_type": "code",
   "execution_count": 18,
   "metadata": {},
   "outputs": [
    {
     "name": "stdout",
     "output_type": "stream",
     "text": [
      "Dimensions before removing null values:  (1550, 27)\n",
      "Dimensions after removing null values:   (1091, 27)\n"
     ]
    }
   ],
   "source": [
    "print(\"Dimensions before removing null values: \", df.shape)\n",
    "\n",
    "df.dropna(inplace=True)   # NOTE: Original df is overwritten\n",
    "print(\"Dimensions after removing null values:  \", df.shape)"
   ]
  },
  {
   "cell_type": "code",
   "execution_count": 19,
   "metadata": {},
   "outputs": [
    {
     "data": {
      "text/html": [
       "<div>\n",
       "<style scoped>\n",
       "    .dataframe tbody tr th:only-of-type {\n",
       "        vertical-align: middle;\n",
       "    }\n",
       "\n",
       "    .dataframe tbody tr th {\n",
       "        vertical-align: top;\n",
       "    }\n",
       "\n",
       "    .dataframe thead th {\n",
       "        text-align: right;\n",
       "    }\n",
       "</style>\n",
       "<table border=\"1\" class=\"dataframe\">\n",
       "  <thead>\n",
       "    <tr style=\"text-align: right;\">\n",
       "      <th></th>\n",
       "      <th>count</th>\n",
       "      <th>mean</th>\n",
       "      <th>std</th>\n",
       "      <th>min</th>\n",
       "      <th>25%</th>\n",
       "      <th>50%</th>\n",
       "      <th>75%</th>\n",
       "      <th>max</th>\n",
       "    </tr>\n",
       "  </thead>\n",
       "  <tbody>\n",
       "    <tr>\n",
       "      <th>Year</th>\n",
       "      <td>1091.0</td>\n",
       "      <td>2007.26</td>\n",
       "      <td>3.14</td>\n",
       "      <td>2000.00</td>\n",
       "      <td>2005.00</td>\n",
       "      <td>2009.00</td>\n",
       "      <td>2009.00</td>\n",
       "      <td>2012.00</td>\n",
       "    </tr>\n",
       "    <tr>\n",
       "      <th>UTM_Zone</th>\n",
       "      <td>1091.0</td>\n",
       "      <td>11.51</td>\n",
       "      <td>0.82</td>\n",
       "      <td>11.00</td>\n",
       "      <td>11.00</td>\n",
       "      <td>11.00</td>\n",
       "      <td>12.00</td>\n",
       "      <td>13.00</td>\n",
       "    </tr>\n",
       "    <tr>\n",
       "      <th>UTM_X</th>\n",
       "      <td>1091.0</td>\n",
       "      <td>395762.33</td>\n",
       "      <td>70027.45</td>\n",
       "      <td>235282.78</td>\n",
       "      <td>377945.74</td>\n",
       "      <td>390922.77</td>\n",
       "      <td>431145.19</td>\n",
       "      <td>661118.36</td>\n",
       "    </tr>\n",
       "    <tr>\n",
       "      <th>UTM_Y</th>\n",
       "      <td>1091.0</td>\n",
       "      <td>3872001.47</td>\n",
       "      <td>224812.70</td>\n",
       "      <td>3468148.42</td>\n",
       "      <td>3786223.11</td>\n",
       "      <td>3794325.37</td>\n",
       "      <td>3807860.37</td>\n",
       "      <td>4384285.42</td>\n",
       "    </tr>\n",
       "    <tr>\n",
       "      <th>Response</th>\n",
       "      <td>1091.0</td>\n",
       "      <td>0.25</td>\n",
       "      <td>0.43</td>\n",
       "      <td>0.00</td>\n",
       "      <td>0.00</td>\n",
       "      <td>0.00</td>\n",
       "      <td>1.00</td>\n",
       "      <td>1.00</td>\n",
       "    </tr>\n",
       "    <tr>\n",
       "      <th>GaugeDist_m</th>\n",
       "      <td>1091.0</td>\n",
       "      <td>1945.44</td>\n",
       "      <td>1105.93</td>\n",
       "      <td>27.84</td>\n",
       "      <td>978.57</td>\n",
       "      <td>1876.08</td>\n",
       "      <td>2819.47</td>\n",
       "      <td>3994.86</td>\n",
       "    </tr>\n",
       "    <tr>\n",
       "      <th>StormDur_H</th>\n",
       "      <td>1091.0</td>\n",
       "      <td>23.49</td>\n",
       "      <td>17.38</td>\n",
       "      <td>1.00</td>\n",
       "      <td>9.93</td>\n",
       "      <td>22.00</td>\n",
       "      <td>32.33</td>\n",
       "      <td>63.50</td>\n",
       "    </tr>\n",
       "    <tr>\n",
       "      <th>StormAccum_mm</th>\n",
       "      <td>1091.0</td>\n",
       "      <td>44.28</td>\n",
       "      <td>41.65</td>\n",
       "      <td>1.40</td>\n",
       "      <td>13.00</td>\n",
       "      <td>28.20</td>\n",
       "      <td>64.01</td>\n",
       "      <td>222.25</td>\n",
       "    </tr>\n",
       "    <tr>\n",
       "      <th>StormAvgI_mm/h</th>\n",
       "      <td>1091.0</td>\n",
       "      <td>3.23</td>\n",
       "      <td>4.58</td>\n",
       "      <td>0.11</td>\n",
       "      <td>0.87</td>\n",
       "      <td>2.09</td>\n",
       "      <td>3.31</td>\n",
       "      <td>28.10</td>\n",
       "    </tr>\n",
       "    <tr>\n",
       "      <th>Peak_I15_mm/h</th>\n",
       "      <td>1091.0</td>\n",
       "      <td>20.11</td>\n",
       "      <td>17.02</td>\n",
       "      <td>1.60</td>\n",
       "      <td>9.60</td>\n",
       "      <td>15.24</td>\n",
       "      <td>23.37</td>\n",
       "      <td>103.63</td>\n",
       "    </tr>\n",
       "    <tr>\n",
       "      <th>Peak_I30_mm/h</th>\n",
       "      <td>1091.0</td>\n",
       "      <td>14.49</td>\n",
       "      <td>11.86</td>\n",
       "      <td>1.20</td>\n",
       "      <td>6.80</td>\n",
       "      <td>10.40</td>\n",
       "      <td>17.78</td>\n",
       "      <td>68.07</td>\n",
       "    </tr>\n",
       "    <tr>\n",
       "      <th>Peak_I60_mm/h</th>\n",
       "      <td>1091.0</td>\n",
       "      <td>10.65</td>\n",
       "      <td>8.25</td>\n",
       "      <td>0.60</td>\n",
       "      <td>5.26</td>\n",
       "      <td>8.38</td>\n",
       "      <td>12.80</td>\n",
       "      <td>40.89</td>\n",
       "    </tr>\n",
       "    <tr>\n",
       "      <th>ContributingArea_km2</th>\n",
       "      <td>1091.0</td>\n",
       "      <td>1.11</td>\n",
       "      <td>1.59</td>\n",
       "      <td>0.02</td>\n",
       "      <td>0.11</td>\n",
       "      <td>0.46</td>\n",
       "      <td>1.42</td>\n",
       "      <td>7.89</td>\n",
       "    </tr>\n",
       "    <tr>\n",
       "      <th>PropHM23</th>\n",
       "      <td>1091.0</td>\n",
       "      <td>0.47</td>\n",
       "      <td>0.28</td>\n",
       "      <td>0.00</td>\n",
       "      <td>0.22</td>\n",
       "      <td>0.51</td>\n",
       "      <td>0.68</td>\n",
       "      <td>0.99</td>\n",
       "    </tr>\n",
       "    <tr>\n",
       "      <th>dNBR/1000</th>\n",
       "      <td>1091.0</td>\n",
       "      <td>0.33</td>\n",
       "      <td>0.19</td>\n",
       "      <td>0.01</td>\n",
       "      <td>0.19</td>\n",
       "      <td>0.30</td>\n",
       "      <td>0.44</td>\n",
       "      <td>1.00</td>\n",
       "    </tr>\n",
       "    <tr>\n",
       "      <th>KF</th>\n",
       "      <td>1091.0</td>\n",
       "      <td>0.24</td>\n",
       "      <td>0.50</td>\n",
       "      <td>0.00</td>\n",
       "      <td>0.16</td>\n",
       "      <td>0.24</td>\n",
       "      <td>0.25</td>\n",
       "      <td>11.36</td>\n",
       "    </tr>\n",
       "    <tr>\n",
       "      <th>Acc015_mm</th>\n",
       "      <td>1091.0</td>\n",
       "      <td>5.03</td>\n",
       "      <td>4.25</td>\n",
       "      <td>0.40</td>\n",
       "      <td>2.40</td>\n",
       "      <td>3.81</td>\n",
       "      <td>5.84</td>\n",
       "      <td>25.91</td>\n",
       "    </tr>\n",
       "    <tr>\n",
       "      <th>Acc030_mm</th>\n",
       "      <td>1091.0</td>\n",
       "      <td>7.25</td>\n",
       "      <td>5.93</td>\n",
       "      <td>0.60</td>\n",
       "      <td>3.40</td>\n",
       "      <td>5.20</td>\n",
       "      <td>8.89</td>\n",
       "      <td>34.04</td>\n",
       "    </tr>\n",
       "    <tr>\n",
       "      <th>Acc060_mm</th>\n",
       "      <td>1091.0</td>\n",
       "      <td>10.65</td>\n",
       "      <td>8.25</td>\n",
       "      <td>0.60</td>\n",
       "      <td>5.26</td>\n",
       "      <td>8.38</td>\n",
       "      <td>12.80</td>\n",
       "      <td>40.89</td>\n",
       "    </tr>\n",
       "  </tbody>\n",
       "</table>\n",
       "</div>"
      ],
      "text/plain": [
       "                       count        mean        std         min         25%  \\\n",
       "Year                  1091.0     2007.26       3.14     2000.00     2005.00   \n",
       "UTM_Zone              1091.0       11.51       0.82       11.00       11.00   \n",
       "UTM_X                 1091.0   395762.33   70027.45   235282.78   377945.74   \n",
       "UTM_Y                 1091.0  3872001.47  224812.70  3468148.42  3786223.11   \n",
       "Response              1091.0        0.25       0.43        0.00        0.00   \n",
       "GaugeDist_m           1091.0     1945.44    1105.93       27.84      978.57   \n",
       "StormDur_H            1091.0       23.49      17.38        1.00        9.93   \n",
       "StormAccum_mm         1091.0       44.28      41.65        1.40       13.00   \n",
       "StormAvgI_mm/h        1091.0        3.23       4.58        0.11        0.87   \n",
       "Peak_I15_mm/h         1091.0       20.11      17.02        1.60        9.60   \n",
       "Peak_I30_mm/h         1091.0       14.49      11.86        1.20        6.80   \n",
       "Peak_I60_mm/h         1091.0       10.65       8.25        0.60        5.26   \n",
       "ContributingArea_km2  1091.0        1.11       1.59        0.02        0.11   \n",
       "PropHM23              1091.0        0.47       0.28        0.00        0.22   \n",
       "dNBR/1000             1091.0        0.33       0.19        0.01        0.19   \n",
       "KF                    1091.0        0.24       0.50        0.00        0.16   \n",
       "Acc015_mm             1091.0        5.03       4.25        0.40        2.40   \n",
       "Acc030_mm             1091.0        7.25       5.93        0.60        3.40   \n",
       "Acc060_mm             1091.0       10.65       8.25        0.60        5.26   \n",
       "\n",
       "                             50%         75%         max  \n",
       "Year                     2009.00     2009.00     2012.00  \n",
       "UTM_Zone                   11.00       12.00       13.00  \n",
       "UTM_X                  390922.77   431145.19   661118.36  \n",
       "UTM_Y                 3794325.37  3807860.37  4384285.42  \n",
       "Response                    0.00        1.00        1.00  \n",
       "GaugeDist_m              1876.08     2819.47     3994.86  \n",
       "StormDur_H                 22.00       32.33       63.50  \n",
       "StormAccum_mm              28.20       64.01      222.25  \n",
       "StormAvgI_mm/h              2.09        3.31       28.10  \n",
       "Peak_I15_mm/h              15.24       23.37      103.63  \n",
       "Peak_I30_mm/h              10.40       17.78       68.07  \n",
       "Peak_I60_mm/h               8.38       12.80       40.89  \n",
       "ContributingArea_km2        0.46        1.42        7.89  \n",
       "PropHM23                    0.51        0.68        0.99  \n",
       "dNBR/1000                   0.30        0.44        1.00  \n",
       "KF                          0.24        0.25       11.36  \n",
       "Acc015_mm                   3.81        5.84       25.91  \n",
       "Acc030_mm                   5.20        8.89       34.04  \n",
       "Acc060_mm                   8.38       12.80       40.89  "
      ]
     },
     "execution_count": 19,
     "metadata": {},
     "output_type": "execute_result"
    }
   ],
   "source": [
    "df.describe().round(2).T"
   ]
  },
  {
   "cell_type": "markdown",
   "metadata": {},
   "source": [
    "### Save data without missing values to new file"
   ]
  },
  {
   "cell_type": "code",
   "execution_count": 20,
   "metadata": {},
   "outputs": [],
   "source": [
    "# Save  data in csv file format, not including index as a column\n",
    "df.to_csv(\"ofr20161106-na-omit.csv\", index=False)"
   ]
  },
  {
   "cell_type": "markdown",
   "metadata": {},
   "source": [
    "## Explore by Data Types"
   ]
  },
  {
   "cell_type": "code",
   "execution_count": 21,
   "metadata": {},
   "outputs": [
    {
     "name": "stdout",
     "output_type": "stream",
     "text": [
      "<class 'pandas.core.frame.DataFrame'>\n",
      "Int64Index: 1091 entries, 0 to 1546\n",
      "Data columns (total 27 columns):\n",
      " #   Column                Non-Null Count  Dtype         \n",
      "---  ------                --------------  -----         \n",
      " 0   Fire Name             1091 non-null   object        \n",
      " 1   Year                  1091 non-null   int64         \n",
      " 2   Fire_ID               1091 non-null   object        \n",
      " 3   Fire_SegID            1091 non-null   object        \n",
      " 4   Database              1091 non-null   object        \n",
      " 5   State                 1091 non-null   object        \n",
      " 6   UTM_Zone              1091 non-null   int64         \n",
      " 7   UTM_X                 1091 non-null   float64       \n",
      " 8   UTM_Y                 1091 non-null   float64       \n",
      " 9   Response              1091 non-null   int64         \n",
      " 10  StormDate             1091 non-null   object        \n",
      " 11  GaugeDist_m           1091 non-null   float64       \n",
      " 12  StormStart            1091 non-null   datetime64[ns]\n",
      " 13  StormEnd              1091 non-null   datetime64[ns]\n",
      " 14  StormDur_H            1091 non-null   float64       \n",
      " 15  StormAccum_mm         1091 non-null   float64       \n",
      " 16  StormAvgI_mm/h        1091 non-null   float64       \n",
      " 17  Peak_I15_mm/h         1091 non-null   float64       \n",
      " 18  Peak_I30_mm/h         1091 non-null   float64       \n",
      " 19  Peak_I60_mm/h         1091 non-null   float64       \n",
      " 20  ContributingArea_km2  1091 non-null   float64       \n",
      " 21  PropHM23              1091 non-null   float64       \n",
      " 22  dNBR/1000             1091 non-null   float64       \n",
      " 23  KF                    1091 non-null   float64       \n",
      " 24  Acc015_mm             1091 non-null   float64       \n",
      " 25  Acc030_mm             1091 non-null   float64       \n",
      " 26  Acc060_mm             1091 non-null   float64       \n",
      "dtypes: datetime64[ns](2), float64(16), int64(3), object(6)\n",
      "memory usage: 238.7+ KB\n"
     ]
    }
   ],
   "source": [
    "df.info()"
   ]
  },
  {
   "cell_type": "markdown",
   "metadata": {},
   "source": [
    "### Explore numerical features\n",
    "- int64\n",
    "- float64"
   ]
  },
  {
   "cell_type": "code",
   "execution_count": 22,
   "metadata": {},
   "outputs": [
    {
     "name": "stdout",
     "output_type": "stream",
     "text": [
      "Numeric features: \n",
      " ['Year', 'UTM_Zone', 'UTM_X', 'UTM_Y', 'Response', 'GaugeDist_m', 'StormDur_H', 'StormAccum_mm', 'StormAvgI_mm/h', 'Peak_I15_mm/h', 'Peak_I30_mm/h', 'Peak_I60_mm/h', 'ContributingArea_km2', 'PropHM23', 'dNBR/1000', 'KF', 'Acc015_mm', 'Acc030_mm', 'Acc060_mm']\n"
     ]
    }
   ],
   "source": [
    "print(\"Numeric features: \\n\", list(df.select_dtypes(include=['float64', 'int64'])))"
   ]
  },
  {
   "cell_type": "code",
   "execution_count": 23,
   "metadata": {},
   "outputs": [
    {
     "data": {
      "text/html": [
       "<div>\n",
       "<style scoped>\n",
       "    .dataframe tbody tr th:only-of-type {\n",
       "        vertical-align: middle;\n",
       "    }\n",
       "\n",
       "    .dataframe tbody tr th {\n",
       "        vertical-align: top;\n",
       "    }\n",
       "\n",
       "    .dataframe thead th {\n",
       "        text-align: right;\n",
       "    }\n",
       "</style>\n",
       "<table border=\"1\" class=\"dataframe\">\n",
       "  <thead>\n",
       "    <tr style=\"text-align: right;\">\n",
       "      <th></th>\n",
       "      <th>Year</th>\n",
       "      <th>UTM_Zone</th>\n",
       "      <th>UTM_X</th>\n",
       "      <th>UTM_Y</th>\n",
       "      <th>Response</th>\n",
       "      <th>GaugeDist_m</th>\n",
       "      <th>StormDur_H</th>\n",
       "      <th>StormAccum_mm</th>\n",
       "      <th>StormAvgI_mm/h</th>\n",
       "      <th>Peak_I15_mm/h</th>\n",
       "      <th>Peak_I30_mm/h</th>\n",
       "      <th>Peak_I60_mm/h</th>\n",
       "      <th>ContributingArea_km2</th>\n",
       "      <th>PropHM23</th>\n",
       "      <th>dNBR/1000</th>\n",
       "      <th>KF</th>\n",
       "      <th>Acc015_mm</th>\n",
       "      <th>Acc030_mm</th>\n",
       "      <th>Acc060_mm</th>\n",
       "    </tr>\n",
       "  </thead>\n",
       "  <tbody>\n",
       "    <tr>\n",
       "      <th>0</th>\n",
       "      <td>2007</td>\n",
       "      <td>11</td>\n",
       "      <td>368133.5165</td>\n",
       "      <td>3823231.989</td>\n",
       "      <td>0</td>\n",
       "      <td>1998.67</td>\n",
       "      <td>26.883</td>\n",
       "      <td>5.4</td>\n",
       "      <td>0.20</td>\n",
       "      <td>3.2</td>\n",
       "      <td>2.0</td>\n",
       "      <td>2.0</td>\n",
       "      <td>0.378767</td>\n",
       "      <td>0.217933</td>\n",
       "      <td>0.297853</td>\n",
       "      <td>0.250000</td>\n",
       "      <td>0.8</td>\n",
       "      <td>1.0</td>\n",
       "      <td>2.0</td>\n",
       "    </tr>\n",
       "    <tr>\n",
       "      <th>1</th>\n",
       "      <td>2007</td>\n",
       "      <td>11</td>\n",
       "      <td>367871.0165</td>\n",
       "      <td>3822984.489</td>\n",
       "      <td>0</td>\n",
       "      <td>2368.93</td>\n",
       "      <td>26.883</td>\n",
       "      <td>5.4</td>\n",
       "      <td>0.20</td>\n",
       "      <td>3.2</td>\n",
       "      <td>2.0</td>\n",
       "      <td>2.0</td>\n",
       "      <td>0.689615</td>\n",
       "      <td>0.061249</td>\n",
       "      <td>0.224896</td>\n",
       "      <td>0.250000</td>\n",
       "      <td>0.8</td>\n",
       "      <td>1.0</td>\n",
       "      <td>2.0</td>\n",
       "    </tr>\n",
       "    <tr>\n",
       "      <th>2</th>\n",
       "      <td>2007</td>\n",
       "      <td>11</td>\n",
       "      <td>367503.5165</td>\n",
       "      <td>3821741.989</td>\n",
       "      <td>0</td>\n",
       "      <td>3956.74</td>\n",
       "      <td>26.883</td>\n",
       "      <td>5.4</td>\n",
       "      <td>0.20</td>\n",
       "      <td>3.2</td>\n",
       "      <td>2.0</td>\n",
       "      <td>2.0</td>\n",
       "      <td>2.757312</td>\n",
       "      <td>0.042968</td>\n",
       "      <td>0.065537</td>\n",
       "      <td>0.248541</td>\n",
       "      <td>0.8</td>\n",
       "      <td>1.0</td>\n",
       "      <td>2.0</td>\n",
       "    </tr>\n",
       "    <tr>\n",
       "      <th>3</th>\n",
       "      <td>2007</td>\n",
       "      <td>11</td>\n",
       "      <td>371108.5165</td>\n",
       "      <td>3824991.989</td>\n",
       "      <td>0</td>\n",
       "      <td>1734.72</td>\n",
       "      <td>27.883</td>\n",
       "      <td>3.0</td>\n",
       "      <td>0.11</td>\n",
       "      <td>1.6</td>\n",
       "      <td>1.2</td>\n",
       "      <td>0.8</td>\n",
       "      <td>0.613415</td>\n",
       "      <td>0.092164</td>\n",
       "      <td>0.141711</td>\n",
       "      <td>0.250000</td>\n",
       "      <td>0.4</td>\n",
       "      <td>0.6</td>\n",
       "      <td>0.8</td>\n",
       "    </tr>\n",
       "    <tr>\n",
       "      <th>4</th>\n",
       "      <td>2007</td>\n",
       "      <td>11</td>\n",
       "      <td>370763.5165</td>\n",
       "      <td>3824576.989</td>\n",
       "      <td>0</td>\n",
       "      <td>1801.04</td>\n",
       "      <td>27.883</td>\n",
       "      <td>3.0</td>\n",
       "      <td>0.11</td>\n",
       "      <td>1.6</td>\n",
       "      <td>1.2</td>\n",
       "      <td>0.8</td>\n",
       "      <td>0.538875</td>\n",
       "      <td>0.058353</td>\n",
       "      <td>0.210158</td>\n",
       "      <td>0.250000</td>\n",
       "      <td>0.4</td>\n",
       "      <td>0.6</td>\n",
       "      <td>0.8</td>\n",
       "    </tr>\n",
       "  </tbody>\n",
       "</table>\n",
       "</div>"
      ],
      "text/plain": [
       "   Year  UTM_Zone        UTM_X        UTM_Y  Response  GaugeDist_m  \\\n",
       "0  2007        11  368133.5165  3823231.989         0      1998.67   \n",
       "1  2007        11  367871.0165  3822984.489         0      2368.93   \n",
       "2  2007        11  367503.5165  3821741.989         0      3956.74   \n",
       "3  2007        11  371108.5165  3824991.989         0      1734.72   \n",
       "4  2007        11  370763.5165  3824576.989         0      1801.04   \n",
       "\n",
       "   StormDur_H  StormAccum_mm  StormAvgI_mm/h  Peak_I15_mm/h  Peak_I30_mm/h  \\\n",
       "0      26.883            5.4            0.20            3.2            2.0   \n",
       "1      26.883            5.4            0.20            3.2            2.0   \n",
       "2      26.883            5.4            0.20            3.2            2.0   \n",
       "3      27.883            3.0            0.11            1.6            1.2   \n",
       "4      27.883            3.0            0.11            1.6            1.2   \n",
       "\n",
       "   Peak_I60_mm/h  ContributingArea_km2  PropHM23  dNBR/1000        KF  \\\n",
       "0            2.0              0.378767  0.217933   0.297853  0.250000   \n",
       "1            2.0              0.689615  0.061249   0.224896  0.250000   \n",
       "2            2.0              2.757312  0.042968   0.065537  0.248541   \n",
       "3            0.8              0.613415  0.092164   0.141711  0.250000   \n",
       "4            0.8              0.538875  0.058353   0.210158  0.250000   \n",
       "\n",
       "   Acc015_mm  Acc030_mm  Acc060_mm  \n",
       "0        0.8        1.0        2.0  \n",
       "1        0.8        1.0        2.0  \n",
       "2        0.8        1.0        2.0  \n",
       "3        0.4        0.6        0.8  \n",
       "4        0.4        0.6        0.8  "
      ]
     },
     "execution_count": 23,
     "metadata": {},
     "output_type": "execute_result"
    }
   ],
   "source": [
    "# Select only numerical features\n",
    "df_num = df.select_dtypes(include=['float64', 'int64'])\n",
    "df_num.head()"
   ]
  },
  {
   "cell_type": "code",
   "execution_count": 24,
   "metadata": {},
   "outputs": [
    {
     "data": {
      "text/plain": [
       "0.3166489780417713"
      ]
     },
     "execution_count": 24,
     "metadata": {},
     "output_type": "execute_result"
    }
   ],
   "source": [
    "# Correlation between two features\n",
    "df_num['Peak_I15_mm/h'].corr(df_num['StormAccum_mm'])"
   ]
  },
  {
   "cell_type": "code",
   "execution_count": 25,
   "metadata": {},
   "outputs": [
    {
     "data": {
      "text/html": [
       "<div>\n",
       "<style scoped>\n",
       "    .dataframe tbody tr th:only-of-type {\n",
       "        vertical-align: middle;\n",
       "    }\n",
       "\n",
       "    .dataframe tbody tr th {\n",
       "        vertical-align: top;\n",
       "    }\n",
       "\n",
       "    .dataframe thead th {\n",
       "        text-align: right;\n",
       "    }\n",
       "</style>\n",
       "<table border=\"1\" class=\"dataframe\">\n",
       "  <thead>\n",
       "    <tr style=\"text-align: right;\">\n",
       "      <th></th>\n",
       "      <th>Year</th>\n",
       "      <th>UTM_Zone</th>\n",
       "      <th>UTM_X</th>\n",
       "      <th>UTM_Y</th>\n",
       "      <th>Response</th>\n",
       "      <th>GaugeDist_m</th>\n",
       "      <th>StormDur_H</th>\n",
       "      <th>StormAccum_mm</th>\n",
       "      <th>StormAvgI_mm/h</th>\n",
       "      <th>Peak_I15_mm/h</th>\n",
       "      <th>Peak_I30_mm/h</th>\n",
       "      <th>Peak_I60_mm/h</th>\n",
       "      <th>ContributingArea_km2</th>\n",
       "      <th>PropHM23</th>\n",
       "      <th>dNBR/1000</th>\n",
       "      <th>KF</th>\n",
       "      <th>Acc015_mm</th>\n",
       "      <th>Acc030_mm</th>\n",
       "      <th>Acc060_mm</th>\n",
       "    </tr>\n",
       "  </thead>\n",
       "  <tbody>\n",
       "    <tr>\n",
       "      <th>Year</th>\n",
       "      <td>1.000000</td>\n",
       "      <td>-0.278141</td>\n",
       "      <td>0.401585</td>\n",
       "      <td>-0.581323</td>\n",
       "      <td>-0.050530</td>\n",
       "      <td>0.052581</td>\n",
       "      <td>-0.050126</td>\n",
       "      <td>0.003934</td>\n",
       "      <td>0.332667</td>\n",
       "      <td>0.178665</td>\n",
       "      <td>0.227855</td>\n",
       "      <td>0.218804</td>\n",
       "      <td>-0.023690</td>\n",
       "      <td>0.106284</td>\n",
       "      <td>-0.324194</td>\n",
       "      <td>0.053745</td>\n",
       "      <td>0.178665</td>\n",
       "      <td>0.227855</td>\n",
       "      <td>0.218804</td>\n",
       "    </tr>\n",
       "    <tr>\n",
       "      <th>UTM_Zone</th>\n",
       "      <td>-0.278141</td>\n",
       "      <td>1.000000</td>\n",
       "      <td>-0.327162</td>\n",
       "      <td>0.754375</td>\n",
       "      <td>0.000943</td>\n",
       "      <td>0.034870</td>\n",
       "      <td>-0.378334</td>\n",
       "      <td>-0.425407</td>\n",
       "      <td>0.212429</td>\n",
       "      <td>0.244298</td>\n",
       "      <td>0.144331</td>\n",
       "      <td>-0.021797</td>\n",
       "      <td>0.060838</td>\n",
       "      <td>0.048528</td>\n",
       "      <td>0.541307</td>\n",
       "      <td>0.131749</td>\n",
       "      <td>0.244298</td>\n",
       "      <td>0.144331</td>\n",
       "      <td>-0.021797</td>\n",
       "    </tr>\n",
       "    <tr>\n",
       "      <th>UTM_X</th>\n",
       "      <td>0.401585</td>\n",
       "      <td>-0.327162</td>\n",
       "      <td>1.000000</td>\n",
       "      <td>-0.601802</td>\n",
       "      <td>0.144857</td>\n",
       "      <td>0.053125</td>\n",
       "      <td>0.029373</td>\n",
       "      <td>0.291715</td>\n",
       "      <td>0.268173</td>\n",
       "      <td>0.182113</td>\n",
       "      <td>0.229793</td>\n",
       "      <td>0.261323</td>\n",
       "      <td>0.089072</td>\n",
       "      <td>-0.191481</td>\n",
       "      <td>-0.227440</td>\n",
       "      <td>-0.039031</td>\n",
       "      <td>0.182113</td>\n",
       "      <td>0.229793</td>\n",
       "      <td>0.261323</td>\n",
       "    </tr>\n",
       "    <tr>\n",
       "      <th>UTM_Y</th>\n",
       "      <td>-0.581323</td>\n",
       "      <td>0.754375</td>\n",
       "      <td>-0.601802</td>\n",
       "      <td>1.000000</td>\n",
       "      <td>-0.110885</td>\n",
       "      <td>-0.021084</td>\n",
       "      <td>-0.142143</td>\n",
       "      <td>-0.359135</td>\n",
       "      <td>-0.222048</td>\n",
       "      <td>-0.053312</td>\n",
       "      <td>-0.152817</td>\n",
       "      <td>-0.252904</td>\n",
       "      <td>-0.077235</td>\n",
       "      <td>0.098732</td>\n",
       "      <td>0.472278</td>\n",
       "      <td>0.004805</td>\n",
       "      <td>-0.053312</td>\n",
       "      <td>-0.152817</td>\n",
       "      <td>-0.252904</td>\n",
       "    </tr>\n",
       "    <tr>\n",
       "      <th>Response</th>\n",
       "      <td>-0.050530</td>\n",
       "      <td>0.000943</td>\n",
       "      <td>0.144857</td>\n",
       "      <td>-0.110885</td>\n",
       "      <td>1.000000</td>\n",
       "      <td>-0.152155</td>\n",
       "      <td>0.051819</td>\n",
       "      <td>0.412983</td>\n",
       "      <td>0.216924</td>\n",
       "      <td>0.358184</td>\n",
       "      <td>0.390359</td>\n",
       "      <td>0.412289</td>\n",
       "      <td>0.066287</td>\n",
       "      <td>0.196901</td>\n",
       "      <td>0.071980</td>\n",
       "      <td>0.099690</td>\n",
       "      <td>0.358184</td>\n",
       "      <td>0.390359</td>\n",
       "      <td>0.412289</td>\n",
       "    </tr>\n",
       "    <tr>\n",
       "      <th>GaugeDist_m</th>\n",
       "      <td>0.052581</td>\n",
       "      <td>0.034870</td>\n",
       "      <td>0.053125</td>\n",
       "      <td>-0.021084</td>\n",
       "      <td>-0.152155</td>\n",
       "      <td>1.000000</td>\n",
       "      <td>0.082724</td>\n",
       "      <td>-0.013877</td>\n",
       "      <td>-0.021201</td>\n",
       "      <td>-0.058143</td>\n",
       "      <td>-0.075425</td>\n",
       "      <td>-0.086671</td>\n",
       "      <td>0.162384</td>\n",
       "      <td>-0.152643</td>\n",
       "      <td>0.029552</td>\n",
       "      <td>-0.063718</td>\n",
       "      <td>-0.058143</td>\n",
       "      <td>-0.075425</td>\n",
       "      <td>-0.086671</td>\n",
       "    </tr>\n",
       "    <tr>\n",
       "      <th>StormDur_H</th>\n",
       "      <td>-0.050126</td>\n",
       "      <td>-0.378334</td>\n",
       "      <td>0.029373</td>\n",
       "      <td>-0.142143</td>\n",
       "      <td>0.051819</td>\n",
       "      <td>0.082724</td>\n",
       "      <td>1.000000</td>\n",
       "      <td>0.525476</td>\n",
       "      <td>-0.398418</td>\n",
       "      <td>-0.225293</td>\n",
       "      <td>-0.197866</td>\n",
       "      <td>-0.137207</td>\n",
       "      <td>-0.072717</td>\n",
       "      <td>0.011881</td>\n",
       "      <td>-0.203461</td>\n",
       "      <td>-0.063234</td>\n",
       "      <td>-0.225293</td>\n",
       "      <td>-0.197866</td>\n",
       "      <td>-0.137207</td>\n",
       "    </tr>\n",
       "    <tr>\n",
       "      <th>StormAccum_mm</th>\n",
       "      <td>0.003934</td>\n",
       "      <td>-0.425407</td>\n",
       "      <td>0.291715</td>\n",
       "      <td>-0.359135</td>\n",
       "      <td>0.412983</td>\n",
       "      <td>-0.013877</td>\n",
       "      <td>0.525476</td>\n",
       "      <td>1.000000</td>\n",
       "      <td>0.123030</td>\n",
       "      <td>0.316649</td>\n",
       "      <td>0.404410</td>\n",
       "      <td>0.545738</td>\n",
       "      <td>0.023487</td>\n",
       "      <td>0.014033</td>\n",
       "      <td>-0.131116</td>\n",
       "      <td>-0.033428</td>\n",
       "      <td>0.316649</td>\n",
       "      <td>0.404410</td>\n",
       "      <td>0.545738</td>\n",
       "    </tr>\n",
       "    <tr>\n",
       "      <th>StormAvgI_mm/h</th>\n",
       "      <td>0.332667</td>\n",
       "      <td>0.212429</td>\n",
       "      <td>0.268173</td>\n",
       "      <td>-0.222048</td>\n",
       "      <td>0.216924</td>\n",
       "      <td>-0.021201</td>\n",
       "      <td>-0.398418</td>\n",
       "      <td>0.123030</td>\n",
       "      <td>1.000000</td>\n",
       "      <td>0.704620</td>\n",
       "      <td>0.767450</td>\n",
       "      <td>0.735473</td>\n",
       "      <td>0.085566</td>\n",
       "      <td>0.003126</td>\n",
       "      <td>0.142372</td>\n",
       "      <td>0.113354</td>\n",
       "      <td>0.704620</td>\n",
       "      <td>0.767450</td>\n",
       "      <td>0.735473</td>\n",
       "    </tr>\n",
       "    <tr>\n",
       "      <th>Peak_I15_mm/h</th>\n",
       "      <td>0.178665</td>\n",
       "      <td>0.244298</td>\n",
       "      <td>0.182113</td>\n",
       "      <td>-0.053312</td>\n",
       "      <td>0.358184</td>\n",
       "      <td>-0.058143</td>\n",
       "      <td>-0.225293</td>\n",
       "      <td>0.316649</td>\n",
       "      <td>0.704620</td>\n",
       "      <td>1.000000</td>\n",
       "      <td>0.966434</td>\n",
       "      <td>0.873706</td>\n",
       "      <td>0.106825</td>\n",
       "      <td>0.028732</td>\n",
       "      <td>0.111879</td>\n",
       "      <td>0.109527</td>\n",
       "      <td>1.000000</td>\n",
       "      <td>0.966434</td>\n",
       "      <td>0.873706</td>\n",
       "    </tr>\n",
       "    <tr>\n",
       "      <th>Peak_I30_mm/h</th>\n",
       "      <td>0.227855</td>\n",
       "      <td>0.144331</td>\n",
       "      <td>0.229793</td>\n",
       "      <td>-0.152817</td>\n",
       "      <td>0.390359</td>\n",
       "      <td>-0.075425</td>\n",
       "      <td>-0.197866</td>\n",
       "      <td>0.404410</td>\n",
       "      <td>0.767450</td>\n",
       "      <td>0.966434</td>\n",
       "      <td>1.000000</td>\n",
       "      <td>0.953533</td>\n",
       "      <td>0.096315</td>\n",
       "      <td>0.032971</td>\n",
       "      <td>0.063991</td>\n",
       "      <td>0.103896</td>\n",
       "      <td>0.966434</td>\n",
       "      <td>1.000000</td>\n",
       "      <td>0.953533</td>\n",
       "    </tr>\n",
       "    <tr>\n",
       "      <th>Peak_I60_mm/h</th>\n",
       "      <td>0.218804</td>\n",
       "      <td>-0.021797</td>\n",
       "      <td>0.261323</td>\n",
       "      <td>-0.252904</td>\n",
       "      <td>0.412289</td>\n",
       "      <td>-0.086671</td>\n",
       "      <td>-0.137207</td>\n",
       "      <td>0.545738</td>\n",
       "      <td>0.735473</td>\n",
       "      <td>0.873706</td>\n",
       "      <td>0.953533</td>\n",
       "      <td>1.000000</td>\n",
       "      <td>0.065450</td>\n",
       "      <td>0.034731</td>\n",
       "      <td>0.001234</td>\n",
       "      <td>0.067538</td>\n",
       "      <td>0.873706</td>\n",
       "      <td>0.953533</td>\n",
       "      <td>1.000000</td>\n",
       "    </tr>\n",
       "    <tr>\n",
       "      <th>ContributingArea_km2</th>\n",
       "      <td>-0.023690</td>\n",
       "      <td>0.060838</td>\n",
       "      <td>0.089072</td>\n",
       "      <td>-0.077235</td>\n",
       "      <td>0.066287</td>\n",
       "      <td>0.162384</td>\n",
       "      <td>-0.072717</td>\n",
       "      <td>0.023487</td>\n",
       "      <td>0.085566</td>\n",
       "      <td>0.106825</td>\n",
       "      <td>0.096315</td>\n",
       "      <td>0.065450</td>\n",
       "      <td>1.000000</td>\n",
       "      <td>-0.195646</td>\n",
       "      <td>-0.015980</td>\n",
       "      <td>0.118843</td>\n",
       "      <td>0.106825</td>\n",
       "      <td>0.096315</td>\n",
       "      <td>0.065450</td>\n",
       "    </tr>\n",
       "    <tr>\n",
       "      <th>PropHM23</th>\n",
       "      <td>0.106284</td>\n",
       "      <td>0.048528</td>\n",
       "      <td>-0.191481</td>\n",
       "      <td>0.098732</td>\n",
       "      <td>0.196901</td>\n",
       "      <td>-0.152643</td>\n",
       "      <td>0.011881</td>\n",
       "      <td>0.014033</td>\n",
       "      <td>0.003126</td>\n",
       "      <td>0.028732</td>\n",
       "      <td>0.032971</td>\n",
       "      <td>0.034731</td>\n",
       "      <td>-0.195646</td>\n",
       "      <td>1.000000</td>\n",
       "      <td>0.395728</td>\n",
       "      <td>0.016039</td>\n",
       "      <td>0.028732</td>\n",
       "      <td>0.032971</td>\n",
       "      <td>0.034731</td>\n",
       "    </tr>\n",
       "    <tr>\n",
       "      <th>dNBR/1000</th>\n",
       "      <td>-0.324194</td>\n",
       "      <td>0.541307</td>\n",
       "      <td>-0.227440</td>\n",
       "      <td>0.472278</td>\n",
       "      <td>0.071980</td>\n",
       "      <td>0.029552</td>\n",
       "      <td>-0.203461</td>\n",
       "      <td>-0.131116</td>\n",
       "      <td>0.142372</td>\n",
       "      <td>0.111879</td>\n",
       "      <td>0.063991</td>\n",
       "      <td>0.001234</td>\n",
       "      <td>-0.015980</td>\n",
       "      <td>0.395728</td>\n",
       "      <td>1.000000</td>\n",
       "      <td>0.055051</td>\n",
       "      <td>0.111879</td>\n",
       "      <td>0.063991</td>\n",
       "      <td>0.001234</td>\n",
       "    </tr>\n",
       "    <tr>\n",
       "      <th>KF</th>\n",
       "      <td>0.053745</td>\n",
       "      <td>0.131749</td>\n",
       "      <td>-0.039031</td>\n",
       "      <td>0.004805</td>\n",
       "      <td>0.099690</td>\n",
       "      <td>-0.063718</td>\n",
       "      <td>-0.063234</td>\n",
       "      <td>-0.033428</td>\n",
       "      <td>0.113354</td>\n",
       "      <td>0.109527</td>\n",
       "      <td>0.103896</td>\n",
       "      <td>0.067538</td>\n",
       "      <td>0.118843</td>\n",
       "      <td>0.016039</td>\n",
       "      <td>0.055051</td>\n",
       "      <td>1.000000</td>\n",
       "      <td>0.109527</td>\n",
       "      <td>0.103896</td>\n",
       "      <td>0.067538</td>\n",
       "    </tr>\n",
       "    <tr>\n",
       "      <th>Acc015_mm</th>\n",
       "      <td>0.178665</td>\n",
       "      <td>0.244298</td>\n",
       "      <td>0.182113</td>\n",
       "      <td>-0.053312</td>\n",
       "      <td>0.358184</td>\n",
       "      <td>-0.058143</td>\n",
       "      <td>-0.225293</td>\n",
       "      <td>0.316649</td>\n",
       "      <td>0.704620</td>\n",
       "      <td>1.000000</td>\n",
       "      <td>0.966434</td>\n",
       "      <td>0.873706</td>\n",
       "      <td>0.106825</td>\n",
       "      <td>0.028732</td>\n",
       "      <td>0.111879</td>\n",
       "      <td>0.109527</td>\n",
       "      <td>1.000000</td>\n",
       "      <td>0.966434</td>\n",
       "      <td>0.873706</td>\n",
       "    </tr>\n",
       "    <tr>\n",
       "      <th>Acc030_mm</th>\n",
       "      <td>0.227855</td>\n",
       "      <td>0.144331</td>\n",
       "      <td>0.229793</td>\n",
       "      <td>-0.152817</td>\n",
       "      <td>0.390359</td>\n",
       "      <td>-0.075425</td>\n",
       "      <td>-0.197866</td>\n",
       "      <td>0.404410</td>\n",
       "      <td>0.767450</td>\n",
       "      <td>0.966434</td>\n",
       "      <td>1.000000</td>\n",
       "      <td>0.953533</td>\n",
       "      <td>0.096315</td>\n",
       "      <td>0.032971</td>\n",
       "      <td>0.063991</td>\n",
       "      <td>0.103896</td>\n",
       "      <td>0.966434</td>\n",
       "      <td>1.000000</td>\n",
       "      <td>0.953533</td>\n",
       "    </tr>\n",
       "    <tr>\n",
       "      <th>Acc060_mm</th>\n",
       "      <td>0.218804</td>\n",
       "      <td>-0.021797</td>\n",
       "      <td>0.261323</td>\n",
       "      <td>-0.252904</td>\n",
       "      <td>0.412289</td>\n",
       "      <td>-0.086671</td>\n",
       "      <td>-0.137207</td>\n",
       "      <td>0.545738</td>\n",
       "      <td>0.735473</td>\n",
       "      <td>0.873706</td>\n",
       "      <td>0.953533</td>\n",
       "      <td>1.000000</td>\n",
       "      <td>0.065450</td>\n",
       "      <td>0.034731</td>\n",
       "      <td>0.001234</td>\n",
       "      <td>0.067538</td>\n",
       "      <td>0.873706</td>\n",
       "      <td>0.953533</td>\n",
       "      <td>1.000000</td>\n",
       "    </tr>\n",
       "  </tbody>\n",
       "</table>\n",
       "</div>"
      ],
      "text/plain": [
       "                          Year  UTM_Zone     UTM_X     UTM_Y  Response  \\\n",
       "Year                  1.000000 -0.278141  0.401585 -0.581323 -0.050530   \n",
       "UTM_Zone             -0.278141  1.000000 -0.327162  0.754375  0.000943   \n",
       "UTM_X                 0.401585 -0.327162  1.000000 -0.601802  0.144857   \n",
       "UTM_Y                -0.581323  0.754375 -0.601802  1.000000 -0.110885   \n",
       "Response             -0.050530  0.000943  0.144857 -0.110885  1.000000   \n",
       "GaugeDist_m           0.052581  0.034870  0.053125 -0.021084 -0.152155   \n",
       "StormDur_H           -0.050126 -0.378334  0.029373 -0.142143  0.051819   \n",
       "StormAccum_mm         0.003934 -0.425407  0.291715 -0.359135  0.412983   \n",
       "StormAvgI_mm/h        0.332667  0.212429  0.268173 -0.222048  0.216924   \n",
       "Peak_I15_mm/h         0.178665  0.244298  0.182113 -0.053312  0.358184   \n",
       "Peak_I30_mm/h         0.227855  0.144331  0.229793 -0.152817  0.390359   \n",
       "Peak_I60_mm/h         0.218804 -0.021797  0.261323 -0.252904  0.412289   \n",
       "ContributingArea_km2 -0.023690  0.060838  0.089072 -0.077235  0.066287   \n",
       "PropHM23              0.106284  0.048528 -0.191481  0.098732  0.196901   \n",
       "dNBR/1000            -0.324194  0.541307 -0.227440  0.472278  0.071980   \n",
       "KF                    0.053745  0.131749 -0.039031  0.004805  0.099690   \n",
       "Acc015_mm             0.178665  0.244298  0.182113 -0.053312  0.358184   \n",
       "Acc030_mm             0.227855  0.144331  0.229793 -0.152817  0.390359   \n",
       "Acc060_mm             0.218804 -0.021797  0.261323 -0.252904  0.412289   \n",
       "\n",
       "                      GaugeDist_m  StormDur_H  StormAccum_mm  StormAvgI_mm/h  \\\n",
       "Year                     0.052581   -0.050126       0.003934        0.332667   \n",
       "UTM_Zone                 0.034870   -0.378334      -0.425407        0.212429   \n",
       "UTM_X                    0.053125    0.029373       0.291715        0.268173   \n",
       "UTM_Y                   -0.021084   -0.142143      -0.359135       -0.222048   \n",
       "Response                -0.152155    0.051819       0.412983        0.216924   \n",
       "GaugeDist_m              1.000000    0.082724      -0.013877       -0.021201   \n",
       "StormDur_H               0.082724    1.000000       0.525476       -0.398418   \n",
       "StormAccum_mm           -0.013877    0.525476       1.000000        0.123030   \n",
       "StormAvgI_mm/h          -0.021201   -0.398418       0.123030        1.000000   \n",
       "Peak_I15_mm/h           -0.058143   -0.225293       0.316649        0.704620   \n",
       "Peak_I30_mm/h           -0.075425   -0.197866       0.404410        0.767450   \n",
       "Peak_I60_mm/h           -0.086671   -0.137207       0.545738        0.735473   \n",
       "ContributingArea_km2     0.162384   -0.072717       0.023487        0.085566   \n",
       "PropHM23                -0.152643    0.011881       0.014033        0.003126   \n",
       "dNBR/1000                0.029552   -0.203461      -0.131116        0.142372   \n",
       "KF                      -0.063718   -0.063234      -0.033428        0.113354   \n",
       "Acc015_mm               -0.058143   -0.225293       0.316649        0.704620   \n",
       "Acc030_mm               -0.075425   -0.197866       0.404410        0.767450   \n",
       "Acc060_mm               -0.086671   -0.137207       0.545738        0.735473   \n",
       "\n",
       "                      Peak_I15_mm/h  Peak_I30_mm/h  Peak_I60_mm/h  \\\n",
       "Year                       0.178665       0.227855       0.218804   \n",
       "UTM_Zone                   0.244298       0.144331      -0.021797   \n",
       "UTM_X                      0.182113       0.229793       0.261323   \n",
       "UTM_Y                     -0.053312      -0.152817      -0.252904   \n",
       "Response                   0.358184       0.390359       0.412289   \n",
       "GaugeDist_m               -0.058143      -0.075425      -0.086671   \n",
       "StormDur_H                -0.225293      -0.197866      -0.137207   \n",
       "StormAccum_mm              0.316649       0.404410       0.545738   \n",
       "StormAvgI_mm/h             0.704620       0.767450       0.735473   \n",
       "Peak_I15_mm/h              1.000000       0.966434       0.873706   \n",
       "Peak_I30_mm/h              0.966434       1.000000       0.953533   \n",
       "Peak_I60_mm/h              0.873706       0.953533       1.000000   \n",
       "ContributingArea_km2       0.106825       0.096315       0.065450   \n",
       "PropHM23                   0.028732       0.032971       0.034731   \n",
       "dNBR/1000                  0.111879       0.063991       0.001234   \n",
       "KF                         0.109527       0.103896       0.067538   \n",
       "Acc015_mm                  1.000000       0.966434       0.873706   \n",
       "Acc030_mm                  0.966434       1.000000       0.953533   \n",
       "Acc060_mm                  0.873706       0.953533       1.000000   \n",
       "\n",
       "                      ContributingArea_km2  PropHM23  dNBR/1000        KF  \\\n",
       "Year                             -0.023690  0.106284  -0.324194  0.053745   \n",
       "UTM_Zone                          0.060838  0.048528   0.541307  0.131749   \n",
       "UTM_X                             0.089072 -0.191481  -0.227440 -0.039031   \n",
       "UTM_Y                            -0.077235  0.098732   0.472278  0.004805   \n",
       "Response                          0.066287  0.196901   0.071980  0.099690   \n",
       "GaugeDist_m                       0.162384 -0.152643   0.029552 -0.063718   \n",
       "StormDur_H                       -0.072717  0.011881  -0.203461 -0.063234   \n",
       "StormAccum_mm                     0.023487  0.014033  -0.131116 -0.033428   \n",
       "StormAvgI_mm/h                    0.085566  0.003126   0.142372  0.113354   \n",
       "Peak_I15_mm/h                     0.106825  0.028732   0.111879  0.109527   \n",
       "Peak_I30_mm/h                     0.096315  0.032971   0.063991  0.103896   \n",
       "Peak_I60_mm/h                     0.065450  0.034731   0.001234  0.067538   \n",
       "ContributingArea_km2              1.000000 -0.195646  -0.015980  0.118843   \n",
       "PropHM23                         -0.195646  1.000000   0.395728  0.016039   \n",
       "dNBR/1000                        -0.015980  0.395728   1.000000  0.055051   \n",
       "KF                                0.118843  0.016039   0.055051  1.000000   \n",
       "Acc015_mm                         0.106825  0.028732   0.111879  0.109527   \n",
       "Acc030_mm                         0.096315  0.032971   0.063991  0.103896   \n",
       "Acc060_mm                         0.065450  0.034731   0.001234  0.067538   \n",
       "\n",
       "                      Acc015_mm  Acc030_mm  Acc060_mm  \n",
       "Year                   0.178665   0.227855   0.218804  \n",
       "UTM_Zone               0.244298   0.144331  -0.021797  \n",
       "UTM_X                  0.182113   0.229793   0.261323  \n",
       "UTM_Y                 -0.053312  -0.152817  -0.252904  \n",
       "Response               0.358184   0.390359   0.412289  \n",
       "GaugeDist_m           -0.058143  -0.075425  -0.086671  \n",
       "StormDur_H            -0.225293  -0.197866  -0.137207  \n",
       "StormAccum_mm          0.316649   0.404410   0.545738  \n",
       "StormAvgI_mm/h         0.704620   0.767450   0.735473  \n",
       "Peak_I15_mm/h          1.000000   0.966434   0.873706  \n",
       "Peak_I30_mm/h          0.966434   1.000000   0.953533  \n",
       "Peak_I60_mm/h          0.873706   0.953533   1.000000  \n",
       "ContributingArea_km2   0.106825   0.096315   0.065450  \n",
       "PropHM23               0.028732   0.032971   0.034731  \n",
       "dNBR/1000              0.111879   0.063991   0.001234  \n",
       "KF                     0.109527   0.103896   0.067538  \n",
       "Acc015_mm              1.000000   0.966434   0.873706  \n",
       "Acc030_mm              0.966434   1.000000   0.953533  \n",
       "Acc060_mm              0.873706   0.953533   1.000000  "
      ]
     },
     "execution_count": 25,
     "metadata": {},
     "output_type": "execute_result"
    }
   ],
   "source": [
    "# Pair-wise correlation\n",
    "df_num.corr()"
   ]
  },
  {
   "cell_type": "markdown",
   "metadata": {},
   "source": [
    "### Explore categorical features"
   ]
  },
  {
   "cell_type": "code",
   "execution_count": 26,
   "metadata": {},
   "outputs": [
    {
     "name": "stdout",
     "output_type": "stream",
     "text": [
      "Values for  Peak_I15_mm/h \n",
      " [1.6, 2.4, 3.05, 3.2, 4.0, 4.06, 4.8, 5.08, 5.6, 6.096, 6.1, 6.4, 7.11, 7.2, 8.0, 8.128, 8.13, 8.8, 9.14, 9.143999, 9.6, 10.16, 10.4, 11.176, 11.18, 11.2, 12.0, 12.19, 12.192, 12.8, 13.208, 13.21, 13.5, 13.6, 14.0, 14.22, 14.4, 15.2, 15.24, 16.0, 16.256, 16.8, 17.27, 17.6, 18.29, 18.4, 19.2, 19.3, 19.304, 20.0, 20.32, 20.8, 21.336, 21.34, 21.6, 22.35, 22.352, 22.4, 23.2, 23.37, 24.0, 24.384, 24.8, 25.4, 26.416, 26.42, 27.2, 27.43, 27.432, 28.448, 30.48, 32.0, 32.512, 33.53, 34.54, 35.0, 35.2, 35.56, 36.0, 36.58, 36.8, 37.0, 41.6, 42.67, 43.0, 43.2, 43.688, 44.0, 46.74, 47.2, 48.0, 49.78, 51.816, 54.86, 55.0, 55.88, 56.0, 63.0, 64.0, 64.008, 68.8, 77.6, 80.0, 81.28, 88.392, 92.0, 103.632]\n"
     ]
    }
   ],
   "source": [
    "# Print values (i.e., categories) for categorical feature\n",
    "feature = \"Peak_I15_mm/h\"\n",
    "df[feature] = df[feature].astype('category')\n",
    "print(\"Values for \", feature, \"\\n\", list(df[feature].cat.categories))"
   ]
  },
  {
   "cell_type": "code",
   "execution_count": 27,
   "metadata": {
    "scrolled": true
   },
   "outputs": [
    {
     "data": {
      "text/plain": [
       "11.2      62\n",
       "8.0       43\n",
       "18.4      37\n",
       "16.0      37\n",
       "5.6       34\n",
       "          ..\n",
       "43.688     1\n",
       "8.128      1\n",
       "6.096      1\n",
       "11.176     1\n",
       "26.416     1\n",
       "Name: Peak_I15_mm/h, Length: 107, dtype: int64"
      ]
     },
     "execution_count": 27,
     "metadata": {},
     "output_type": "execute_result"
    }
   ],
   "source": [
    "# Get counts of unique values\n",
    "df[feature].value_counts()"
   ]
  },
  {
   "cell_type": "code",
   "execution_count": 28,
   "metadata": {},
   "outputs": [
    {
     "data": {
      "text/plain": [
       "11.2      0.0568\n",
       "8.0       0.0394\n",
       "18.4      0.0339\n",
       "16.0      0.0339\n",
       "5.6       0.0312\n",
       "           ...  \n",
       "43.688    0.0009\n",
       "8.128     0.0009\n",
       "6.096     0.0009\n",
       "11.176    0.0009\n",
       "26.416    0.0009\n",
       "Name: Peak_I15_mm/h, Length: 107, dtype: float64"
      ]
     },
     "execution_count": 28,
     "metadata": {},
     "output_type": "execute_result"
    }
   ],
   "source": [
    "# Get frequency of unique values\n",
    "(df[feature].value_counts() / sum(df[feature].value_counts())).round(4)"
   ]
  },
  {
   "cell_type": "markdown",
   "metadata": {},
   "source": [
    "# Data Visualization"
   ]
  },
  {
   "cell_type": "code",
   "execution_count": 29,
   "metadata": {},
   "outputs": [],
   "source": [
    "# Have plots display in notebook\n",
    "%matplotlib inline\n",
    "\n",
    "from matplotlib import pyplot as plt\n",
    "import seaborn as sns"
   ]
  },
  {
   "cell_type": "markdown",
   "metadata": {},
   "source": [
    "## Histogram"
   ]
  },
  {
   "cell_type": "code",
   "execution_count": 30,
   "metadata": {
    "scrolled": true
   },
   "outputs": [
    {
     "data": {
      "text/plain": [
       "count     1091.0\n",
       "unique     107.0\n",
       "top         11.2\n",
       "freq        62.0\n",
       "Name: Peak_I15_mm/h, dtype: float64"
      ]
     },
     "execution_count": 30,
     "metadata": {},
     "output_type": "execute_result"
    }
   ],
   "source": [
    "df['Peak_I15_mm/h'].describe()"
   ]
  },
  {
   "cell_type": "markdown",
   "metadata": {},
   "source": [
    "### Using matplotlib"
   ]
  },
  {
   "cell_type": "code",
   "execution_count": 31,
   "metadata": {},
   "outputs": [
    {
     "data": {
      "image/png": "[encoded data removed]",
      "text/plain": [
       "<Figure size 432x288 with 1 Axes>"
      ]
     },
     "metadata": {
      "needs_background": "light"
     },
     "output_type": "display_data"
    }
   ],
   "source": [
    "plt.hist(df['Peak_I15_mm/h'], bins=10)\n",
    "plt.title(\"Peak_I15_mm/h\")\n",
    "plt.xlabel(\"x\")\n",
    "plt.ylabel(\"y\")\n",
    "plt.show()"
   ]
  },
  {
   "cell_type": "markdown",
   "metadata": {},
   "source": [
    "### Using pandas (with matplotlib as backend)"
   ]
  },
  {
   "cell_type": "code",
   "execution_count": 32,
   "metadata": {},
   "outputs": [],
   "source": [
    "# df['Peak_I15_mm/h'].plot.hist()\n",
    "# plt.title(\"Histogram of Peak_I15_mm/h\")\n",
    "# plt.xlabel(\"x\")\n",
    "# plt.ylabel(\"y\")\n",
    "# plt.show()"
   ]
  },
  {
   "cell_type": "markdown",
   "metadata": {},
   "source": [
    "## Density Plot"
   ]
  },
  {
   "cell_type": "markdown",
   "metadata": {},
   "source": [
    "### Using pandas/matplotlib"
   ]
  },
  {
   "cell_type": "code",
   "execution_count": null,
   "metadata": {},
   "outputs": [],
   "source": []
  },
  {
   "cell_type": "markdown",
   "metadata": {},
   "source": [
    "### Using seaborn"
   ]
  },
  {
   "cell_type": "code",
   "execution_count": 33,
   "metadata": {},
   "outputs": [
    {
     "data": {
      "image/png": "[encoded data removed]",
      "text/plain": [
       "<Figure size 432x288 with 1 Axes>"
      ]
     },
     "metadata": {
      "needs_background": "light"
     },
     "output_type": "display_data"
    }
   ],
   "source": [
    "sns.histplot(df['Peak_I15_mm/h'], kde=True, bins=30)\n",
    "plt.title(\"Peak_I15_mm/h\")\n",
    "plt.xlabel(\"x\")\n",
    "plt.ylabel(\"y\")\n",
    "plt.show()"
   ]
  },
  {
   "cell_type": "markdown",
   "metadata": {},
   "source": [
    "## Bar plots for categorical features"
   ]
  },
  {
   "cell_type": "markdown",
   "metadata": {},
   "source": [
    "### Using matplotlib"
   ]
  },
  {
   "cell_type": "code",
   "execution_count": 34,
   "metadata": {},
   "outputs": [
    {
     "name": "stderr",
     "output_type": "stream",
     "text": [
      "/Users/chunxia/opt/anaconda3/lib/python3.9/site-packages/IPython/lib/pretty.py:778: FutureWarning: Index.ravel returning ndarray is deprecated; in a future version this will return a view on self.\n",
      "  output = repr(obj)\n"
     ]
    },
    {
     "data": {
      "text/plain": [
       "[3.20, 1.60, 9.14, 7.11, 4.00, ..., 68.800, 17.270, 64.008, 103.632, 63.000]\n",
       "Length: 107\n",
       "Categories (107, float64): [1.60, 2.40, 3.05, 3.20, ..., 81.280, 88.392, 92.000, 103.632]"
      ]
     },
     "execution_count": 34,
     "metadata": {},
     "output_type": "execute_result"
    }
   ],
   "source": [
    "df['Peak_I15_mm/h'].unique()"
   ]
  },
  {
   "cell_type": "code",
   "execution_count": null,
   "metadata": {},
   "outputs": [],
   "source": []
  },
  {
   "cell_type": "code",
   "execution_count": null,
   "metadata": {},
   "outputs": [],
   "source": []
  },
  {
   "cell_type": "markdown",
   "metadata": {},
   "source": [
    "### Using Seaborne"
   ]
  },
  {
   "cell_type": "code",
   "execution_count": null,
   "metadata": {},
   "outputs": [],
   "source": []
  },
  {
   "cell_type": "markdown",
   "metadata": {},
   "source": [
    "## Scatter Plot"
   ]
  },
  {
   "cell_type": "code",
   "execution_count": 35,
   "metadata": {},
   "outputs": [
    {
     "data": {
      "image/png": "[encoded data removed]",
      "text/plain": [
       "<Figure size 432x288 with 1 Axes>"
      ]
     },
     "metadata": {
      "needs_background": "light"
     },
     "output_type": "display_data"
    }
   ],
   "source": [
    "plt.scatter(x=df['GaugeDist_m'], y=df['Peak_I15_mm/h'])\n",
    "plt.title('GaugeDist_m vs. Peak_I15_mm/h')\n",
    "plt.xlabel('GaugeDist_m')\n",
    "plt.ylabel('Peak_I15_mm/h')\n",
    "plt.show()"
   ]
  },
  {
   "cell_type": "code",
   "execution_count": 36,
   "metadata": {},
   "outputs": [
    {
     "data": {
      "image/png": "[encoded data removed]",
      "text/plain": [
       "<Figure size 432x288 with 1 Axes>"
      ]
     },
     "metadata": {
      "needs_background": "light"
     },
     "output_type": "display_data"
    }
   ],
   "source": [
    "sns.scatterplot(x='GaugeDist_m', y='Peak_I15_mm/h', data=df)\n",
    "plt.show()"
   ]
  },
  {
   "cell_type": "code",
   "execution_count": 37,
   "metadata": {},
   "outputs": [
    {
     "data": {
      "image/png": "[encoded data removed]",
      "text/plain": [
       "<Figure size 432x288 with 1 Axes>"
      ]
     },
     "metadata": {
      "needs_background": "light"
     },
     "output_type": "display_data"
    }
   ],
   "source": [
    "sns.regplot(x='GaugeDist_m', y='Peak_I15_mm/h', data=df, marker='+')\n",
    "plt.show()"
   ]
  },
  {
   "cell_type": "markdown",
   "metadata": {},
   "source": [
    "## Line Plot"
   ]
  },
  {
   "cell_type": "code",
   "execution_count": 38,
   "metadata": {},
   "outputs": [
    {
     "data": {
      "image/png": "[encoded data removed]",
      "text/plain": [
       "<Figure size 720x432 with 1 Axes>"
      ]
     },
     "metadata": {
      "needs_background": "light"
     },
     "output_type": "display_data"
    }
   ],
   "source": [
    "plt.figure(figsize=(10,6))\n",
    "plt.plot(df['Year'], df['Response'])\n",
    "plt.title('Year - Response')\n",
    "plt.show()"
   ]
  },
  {
   "cell_type": "code",
   "execution_count": 39,
   "metadata": {},
   "outputs": [
    {
     "data": {
      "image/png": "[encoded data removed]",
      "text/plain": [
       "<Figure size 720x432 with 1 Axes>"
      ]
     },
     "metadata": {
      "needs_background": "light"
     },
     "output_type": "display_data"
    }
   ],
   "source": [
    "plt.figure(figsize=(10,6))\n",
    "sns.lineplot(x='Year', y='Response', data=df)\n",
    "plt.title('Year - Response')\n",
    "plt.show()"
   ]
  },
  {
   "cell_type": "markdown",
   "metadata": {},
   "source": [
    "## Box Plot"
   ]
  },
  {
   "cell_type": "code",
   "execution_count": 40,
   "metadata": {},
   "outputs": [
    {
     "name": "stderr",
     "output_type": "stream",
     "text": [
      "/Users/chunxia/opt/anaconda3/lib/python3.9/site-packages/seaborn/categorical.py:253: FutureWarning: Index.ravel returning ndarray is deprecated; in a future version this will return a view on self.\n",
      "  grouped_vals = vals.groupby(grouper)\n"
     ]
    },
    {
     "data": {
      "image/png": "[encoded data removed]",
      "text/plain": [
       "<Figure size 720x432 with 1 Axes>"
      ]
     },
     "metadata": {
      "needs_background": "light"
     },
     "output_type": "display_data"
    }
   ],
   "source": [
    "plt.figure(figsize=(10,6))\n",
    "sns.boxplot(x='GaugeDist_m', y='Peak_I15_mm/h', data=df)\n",
    "plt.title('GaugeDist_m - Peak_I15_mm/h')\n",
    "plt.show()"
   ]
  },
  {
   "cell_type": "code",
   "execution_count": null,
   "metadata": {},
   "outputs": [],
   "source": []
  },
  {
   "cell_type": "markdown",
   "metadata": {},
   "source": [
    "## Violin Plot"
   ]
  },
  {
   "cell_type": "code",
   "execution_count": null,
   "metadata": {},
   "outputs": [],
   "source": []
  },
  {
   "cell_type": "markdown",
   "metadata": {},
   "source": [
    "## Heat Map"
   ]
  },
  {
   "cell_type": "code",
   "execution_count": null,
   "metadata": {},
   "outputs": [],
   "source": []
  },
  {
   "cell_type": "code",
   "execution_count": null,
   "metadata": {},
   "outputs": [],
   "source": []
  },
  {
   "cell_type": "markdown",
   "metadata": {},
   "source": [
    "# Logistic Regression"
   ]
  },
  {
   "cell_type": "code",
   "execution_count": null,
   "metadata": {},
   "outputs": [],
   "source": [
    "data = df[feat_cols]\n",
    "\n",
    "from sklearn import LogisticRegression"
   ]
  },
  {
   "cell_type": "code",
   "execution_count": null,
   "metadata": {},
   "outputs": [],
   "source": [
    "model = LogisticRegression()"
   ]
  },
  {
   "cell_type": "code",
   "execution_count": null,
   "metadata": {},
   "outputs": [],
   "source": [
    "model.fit(data)"
   ]
  },
  {
   "cell_type": "markdown",
   "metadata": {},
   "source": [
    "<!-- <div> element is often used as\n",
    " a container for other HTML elements -->\n",
    "\n",
    "<div style=\"background-color:black;color:white;padding:20px;\">\n",
    "  <h2>Outer Div</h2>\n",
    "  <p>This is the outer div element</p>\n",
    "  <div style=\"background-color:yellow;color:Black;\">\n",
    "    <h2> Inner Div </h2>\n",
    "    <p> This is the inner div </p>\n",
    "  </div>\n",
    "\n",
    "</div>\n",
    "\n"
   ]
  },
  {
   "cell_type": "markdown",
   "metadata": {},
   "source": [
    "<!-- Radio and Checkboxes -->\n",
    "\n",
    "<h1>Radio</h1>\n",
    "\n",
    "<input type=\"radio\" name=\"gender\" \n",
    " value=\"male\" checked> Male<br> \n",
    "\n",
    "<input type=\"radio\" name=\"gender\" \n",
    "value=\"female\"> Female<br> \n",
    "\n",
    "<input type=\"radio\" name=\"gender\" \n",
    "value=\"other\"> Other \n",
    "\n",
    "\n",
    "\n",
    "<h1>Checkbox</h1>\n",
    "<input type=\"checkbox\" name=\"vehicle\" \n",
    "value=\"Bike\">I have a bicyle<br>\n",
    "\n",
    "<input type=\"checkbox\" name=\"vehicle\" \n",
    "value=\"Bike\">I have a bike<br>\n",
    "\n",
    "<input type=\"checkbox\" name=\"vehicle\" \n",
    "value=\"Car\">I have a car<br>"
   ]
  },
  {
   "cell_type": "markdown",
   "metadata": {},
   "source": [
    "<h1>Dropdown</h1>\n",
    "<select>\n",
    "  <option value=\"volvo\">Volvo</option>\n",
    "  <option value=\"saab\">Saab</option>\n",
    "  <option value=\"mercedes\">Mercedes</option>\n",
    "  <option value=\"audi\">Audi</option>\n",
    "</select>"
   ]
  },
  {
   "cell_type": "code",
   "execution_count": null,
   "metadata": {},
   "outputs": [],
   "source": []
  }
 ],
 "metadata": {
  "kernelspec": {
   "display_name": "Python 3 (ipykernel)",
   "language": "python",
   "name": "python3"
  },
  "language_info": {
   "codemirror_mode": {
    "name": "ipython",
    "version": 3
   },
   "file_extension": ".py",
   "mimetype": "text/x-python",
   "name": "python",
   "nbconvert_exporter": "python",
   "pygments_lexer": "ipython3",
   "version": "3.9.12"
  }
 },
 "nbformat": 4,
 "nbformat_minor": 4
}
