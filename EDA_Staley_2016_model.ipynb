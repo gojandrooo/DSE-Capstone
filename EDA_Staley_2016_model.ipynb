{
 "cells": [
  {
   "cell_type": "markdown",
   "metadata": {},
   "source": [
    "# Exploratory Data Analysis Demo \n",
    "\n",
    "- Alejandro Hohmann\n",
    "- Bhanu Muvva\n",
    "- Chunxia Tong\n",
    "\n",
    "The purpose of this notebook is to examine the data used in the Staley et al (ST16) model and to recreate their debris flow risk prediction model."
   ]
  },
  {
   "cell_type": "markdown",
   "metadata": {},
   "source": [
    "# Table of Contents\n",
    "\n",
    "### - [EDA](#EDA)\n",
    "### - [Logistic Regression](#LR)"
   ]
  },
  {
   "cell_type": "code",
   "execution_count": 1,
   "metadata": {},
   "outputs": [],
   "source": [
    "# file structure libraries\n",
    "import pandas as pd\n",
    "import os\n",
    "\n",
    "# visualization libraries\n",
    "from matplotlib import pyplot as plt\n",
    "# Have plots display in notebook\n",
    "%matplotlib inline\n",
    "import seaborn as sns\n",
    "\n",
    "# ML libraries\n",
    "from sklearn.linear_model import LogisticRegression\n",
    "from sklearn.model_selection import train_test_split\n",
    "from sklearn.metrics import confusion_matrix\n",
    "\n",
    "# for sigmoid function, in case we need to manually implement in LR\n",
    "from scipy.stats import logistic"
   ]
  },
  {
   "cell_type": "markdown",
   "metadata": {},
   "source": [
    "## The Staley et al. (2016) model report and data \n",
    "https://pubs.er.usgs.gov/publication/ofr20161106"
   ]
  },
  {
   "cell_type": "markdown",
   "metadata": {},
   "source": [
    "## Read in and Examine Staley Raw Data <a id=\"EDA\">"
   ]
  },
  {
   "cell_type": "code",
   "execution_count": 2,
   "metadata": {},
   "outputs": [],
   "source": [
    "# assign seed now for consistency any time it needs to be used\n",
    "seed=27"
   ]
  },
  {
   "cell_type": "code",
   "execution_count": 3,
   "metadata": {},
   "outputs": [
    {
     "data": {
      "text/plain": [
       "['LICENSE',\n",
       " 'ofr20161106-na-omit.csv',\n",
       " 'EDA_Staley_2016_model.ipynb',\n",
       " 'ofr20161106_appx-1.xlsx',\n",
       " 'README.md',\n",
       " '.ipynb_checkpoints',\n",
       " '.git']"
      ]
     },
     "execution_count": 3,
     "metadata": {},
     "output_type": "execute_result"
    }
   ],
   "source": [
    "os.listdir()"
   ]
  },
  {
   "cell_type": "code",
   "execution_count": 4,
   "metadata": {},
   "outputs": [
    {
     "data": {
      "text/plain": [
       "['DataDescription', 'Appendix1_ModelData']"
      ]
     },
     "execution_count": 4,
     "metadata": {},
     "output_type": "execute_result"
    }
   ],
   "source": [
    "file = \"ofr20161106_appx-1.xlsx\"\n",
    "\n",
    "xl = pd.ExcelFile(file)\n",
    "\n",
    "sheets = xl.sheet_names  # see all sheet names\n",
    "sheets"
   ]
  },
  {
   "cell_type": "code",
   "execution_count": 5,
   "metadata": {},
   "outputs": [
    {
     "data": {
      "text/html": [
       "<div>\n",
       "<style scoped>\n",
       "    .dataframe tbody tr th:only-of-type {\n",
       "        vertical-align: middle;\n",
       "    }\n",
       "\n",
       "    .dataframe tbody tr th {\n",
       "        vertical-align: top;\n",
       "    }\n",
       "\n",
       "    .dataframe thead th {\n",
       "        text-align: right;\n",
       "    }\n",
       "</style>\n",
       "<table border=\"1\" class=\"dataframe\">\n",
       "  <thead>\n",
       "    <tr style=\"text-align: right;\">\n",
       "      <th></th>\n",
       "      <th>U.S. Geological Survey Open-File Report 2016-1106</th>\n",
       "      <th>Unnamed: 1</th>\n",
       "    </tr>\n",
       "  </thead>\n",
       "  <tbody>\n",
       "    <tr>\n",
       "      <th>28</th>\n",
       "      <td>Acc015_mm</td>\n",
       "      <td>Peak 15-minute rainfall accumulation of storm,...</td>\n",
       "    </tr>\n",
       "    <tr>\n",
       "      <th>29</th>\n",
       "      <td>Acc030_mm</td>\n",
       "      <td>Peak 30-minute rainfall accumulation of storm,...</td>\n",
       "    </tr>\n",
       "    <tr>\n",
       "      <th>30</th>\n",
       "      <td>Acc060_mm</td>\n",
       "      <td>Peak 60-minute rainfall accumulation of storm,...</td>\n",
       "    </tr>\n",
       "    <tr>\n",
       "      <th>0</th>\n",
       "      <td>Appendix 1. Data supporting logistic regressio...</td>\n",
       "      <td>NaN</td>\n",
       "    </tr>\n",
       "    <tr>\n",
       "      <th>3</th>\n",
       "      <td>Column Header</td>\n",
       "      <td>Description</td>\n",
       "    </tr>\n",
       "    <tr>\n",
       "      <th>24</th>\n",
       "      <td>ContributingArea_km2</td>\n",
       "      <td>Contributing area of observation location, in ...</td>\n",
       "    </tr>\n",
       "    <tr>\n",
       "      <th>8</th>\n",
       "      <td>Database</td>\n",
       "      <td>Database type: “Training” indicates data used ...</td>\n",
       "    </tr>\n",
       "    <tr>\n",
       "      <th>4</th>\n",
       "      <td>Fire Name</td>\n",
       "      <td>Name of wildfire</td>\n",
       "    </tr>\n",
       "    <tr>\n",
       "      <th>6</th>\n",
       "      <td>Fire_ID</td>\n",
       "      <td>Abbreviation of fire name</td>\n",
       "    </tr>\n",
       "    <tr>\n",
       "      <th>7</th>\n",
       "      <td>Fire_SegID</td>\n",
       "      <td>Concatenated fire abbreviation and unique segm...</td>\n",
       "    </tr>\n",
       "    <tr>\n",
       "      <th>15</th>\n",
       "      <td>GaugeDist_m</td>\n",
       "      <td>Distance (in meters) from rain gauge to docume...</td>\n",
       "    </tr>\n",
       "    <tr>\n",
       "      <th>27</th>\n",
       "      <td>KF</td>\n",
       "      <td>Average KF-Factor (erodibility index of the fi...</td>\n",
       "    </tr>\n",
       "    <tr>\n",
       "      <th>21</th>\n",
       "      <td>Peak_I15_mm/h</td>\n",
       "      <td>Peak 15-minute rainfall intensity of storm, in...</td>\n",
       "    </tr>\n",
       "    <tr>\n",
       "      <th>22</th>\n",
       "      <td>Peak_I30_mm/h</td>\n",
       "      <td>Peak 30-minute rainfall intensity of storm, in...</td>\n",
       "    </tr>\n",
       "    <tr>\n",
       "      <th>23</th>\n",
       "      <td>Peak_I60_mm/h</td>\n",
       "      <td>Peak 60-minute rainfall intensity of storm, in...</td>\n",
       "    </tr>\n",
       "    <tr>\n",
       "      <th>25</th>\n",
       "      <td>PropHM23</td>\n",
       "      <td>Proportion of watershed burned at high or mode...</td>\n",
       "    </tr>\n",
       "    <tr>\n",
       "      <th>13</th>\n",
       "      <td>Response</td>\n",
       "      <td>Field-verified hydrologic response.  0 = no de...</td>\n",
       "    </tr>\n",
       "    <tr>\n",
       "      <th>9</th>\n",
       "      <td>State</td>\n",
       "      <td>State in which wildfire occurred</td>\n",
       "    </tr>\n",
       "    <tr>\n",
       "      <th>19</th>\n",
       "      <td>StormAccum_mm</td>\n",
       "      <td>Total rainfall accumulation of storm, in milli...</td>\n",
       "    </tr>\n",
       "    <tr>\n",
       "      <th>20</th>\n",
       "      <td>StormAvgI_mm/h</td>\n",
       "      <td>Average storm intensity, in milllimeters per hour</td>\n",
       "    </tr>\n",
       "    <tr>\n",
       "      <th>14</th>\n",
       "      <td>StormDate</td>\n",
       "      <td>Date of storm that produced the debris-flow re...</td>\n",
       "    </tr>\n",
       "    <tr>\n",
       "      <th>18</th>\n",
       "      <td>StormDur_H</td>\n",
       "      <td>Total duration of storm, in hours</td>\n",
       "    </tr>\n",
       "    <tr>\n",
       "      <th>17</th>\n",
       "      <td>StormEnd</td>\n",
       "      <td>Date and time (24-hour format, GMT) that storm...</td>\n",
       "    </tr>\n",
       "    <tr>\n",
       "      <th>16</th>\n",
       "      <td>StormStart</td>\n",
       "      <td>Date and time (24-hour format, GMT) that storm...</td>\n",
       "    </tr>\n",
       "    <tr>\n",
       "      <th>11</th>\n",
       "      <td>UTM_X</td>\n",
       "      <td>UTM X coordinate (Easting, in meters from zone...</td>\n",
       "    </tr>\n",
       "    <tr>\n",
       "      <th>12</th>\n",
       "      <td>UTM_Y</td>\n",
       "      <td>UTM Y coordinate (Northing, in meters from zon...</td>\n",
       "    </tr>\n",
       "    <tr>\n",
       "      <th>10</th>\n",
       "      <td>UTM_Zone</td>\n",
       "      <td>UTM zone containing majority of wildfire area</td>\n",
       "    </tr>\n",
       "    <tr>\n",
       "      <th>5</th>\n",
       "      <td>Year</td>\n",
       "      <td>Year of wildfire occurrence</td>\n",
       "    </tr>\n",
       "    <tr>\n",
       "      <th>1</th>\n",
       "      <td>[ID, identifier (in heading); UTM, Universal T...</td>\n",
       "      <td>NaN</td>\n",
       "    </tr>\n",
       "    <tr>\n",
       "      <th>26</th>\n",
       "      <td>dNBR/1000</td>\n",
       "      <td>Average differenced normalized burn ratio (dNB...</td>\n",
       "    </tr>\n",
       "    <tr>\n",
       "      <th>2</th>\n",
       "      <td>NaN</td>\n",
       "      <td>NaN</td>\n",
       "    </tr>\n",
       "  </tbody>\n",
       "</table>\n",
       "</div>"
      ],
      "text/plain": [
       "    U.S. Geological Survey Open-File Report 2016-1106  \\\n",
       "28                                          Acc015_mm   \n",
       "29                                          Acc030_mm   \n",
       "30                                          Acc060_mm   \n",
       "0   Appendix 1. Data supporting logistic regressio...   \n",
       "3                                       Column Header   \n",
       "24                               ContributingArea_km2   \n",
       "8                                            Database   \n",
       "4                                           Fire Name   \n",
       "6                                             Fire_ID   \n",
       "7                                          Fire_SegID   \n",
       "15                                        GaugeDist_m   \n",
       "27                                                 KF   \n",
       "21                                      Peak_I15_mm/h   \n",
       "22                                      Peak_I30_mm/h   \n",
       "23                                      Peak_I60_mm/h   \n",
       "25                                           PropHM23   \n",
       "13                                           Response   \n",
       "9                                               State   \n",
       "19                                      StormAccum_mm   \n",
       "20                                     StormAvgI_mm/h   \n",
       "14                                          StormDate   \n",
       "18                                         StormDur_H   \n",
       "17                                           StormEnd   \n",
       "16                                         StormStart   \n",
       "11                                              UTM_X   \n",
       "12                                              UTM_Y   \n",
       "10                                           UTM_Zone   \n",
       "5                                                Year   \n",
       "1   [ID, identifier (in heading); UTM, Universal T...   \n",
       "26                                          dNBR/1000   \n",
       "2                                                 NaN   \n",
       "\n",
       "                                           Unnamed: 1  \n",
       "28  Peak 15-minute rainfall accumulation of storm,...  \n",
       "29  Peak 30-minute rainfall accumulation of storm,...  \n",
       "30  Peak 60-minute rainfall accumulation of storm,...  \n",
       "0                                                 NaN  \n",
       "3                                         Description  \n",
       "24  Contributing area of observation location, in ...  \n",
       "8   Database type: “Training” indicates data used ...  \n",
       "4                                    Name of wildfire  \n",
       "6                           Abbreviation of fire name  \n",
       "7   Concatenated fire abbreviation and unique segm...  \n",
       "15  Distance (in meters) from rain gauge to docume...  \n",
       "27  Average KF-Factor (erodibility index of the fi...  \n",
       "21  Peak 15-minute rainfall intensity of storm, in...  \n",
       "22  Peak 30-minute rainfall intensity of storm, in...  \n",
       "23  Peak 60-minute rainfall intensity of storm, in...  \n",
       "25  Proportion of watershed burned at high or mode...  \n",
       "13  Field-verified hydrologic response.  0 = no de...  \n",
       "9                    State in which wildfire occurred  \n",
       "19  Total rainfall accumulation of storm, in milli...  \n",
       "20  Average storm intensity, in milllimeters per hour  \n",
       "14  Date of storm that produced the debris-flow re...  \n",
       "18                  Total duration of storm, in hours  \n",
       "17  Date and time (24-hour format, GMT) that storm...  \n",
       "16  Date and time (24-hour format, GMT) that storm...  \n",
       "11  UTM X coordinate (Easting, in meters from zone...  \n",
       "12  UTM Y coordinate (Northing, in meters from zon...  \n",
       "10      UTM zone containing majority of wildfire area  \n",
       "5                         Year of wildfire occurrence  \n",
       "1                                                 NaN  \n",
       "26  Average differenced normalized burn ratio (dNB...  \n",
       "2                                                 NaN  "
      ]
     },
     "execution_count": 5,
     "metadata": {},
     "output_type": "execute_result"
    }
   ],
   "source": [
    "# can be helpful for reference\n",
    "data_dict = pd.read_excel(file, sheet_name=sheets[0])\n",
    "\n",
    "dict_cols = data_dict.columns\n",
    "\n",
    "data_dict.sort_values(by=dict_cols[0])"
   ]
  },
  {
   "cell_type": "code",
   "execution_count": 6,
   "metadata": {},
   "outputs": [
    {
     "data": {
      "text/html": [
       "<div>\n",
       "<style scoped>\n",
       "    .dataframe tbody tr th:only-of-type {\n",
       "        vertical-align: middle;\n",
       "    }\n",
       "\n",
       "    .dataframe tbody tr th {\n",
       "        vertical-align: top;\n",
       "    }\n",
       "\n",
       "    .dataframe thead th {\n",
       "        text-align: right;\n",
       "    }\n",
       "</style>\n",
       "<table border=\"1\" class=\"dataframe\">\n",
       "  <thead>\n",
       "    <tr style=\"text-align: right;\">\n",
       "      <th></th>\n",
       "      <th>Fire Name</th>\n",
       "      <th>Year</th>\n",
       "      <th>Fire_ID</th>\n",
       "      <th>Fire_SegID</th>\n",
       "      <th>Database</th>\n",
       "      <th>State</th>\n",
       "      <th>UTM_Zone</th>\n",
       "      <th>UTM_X</th>\n",
       "      <th>UTM_Y</th>\n",
       "      <th>Response</th>\n",
       "      <th>...</th>\n",
       "      <th>Peak_I15_mm/h</th>\n",
       "      <th>Peak_I30_mm/h</th>\n",
       "      <th>Peak_I60_mm/h</th>\n",
       "      <th>ContributingArea_km2</th>\n",
       "      <th>PropHM23</th>\n",
       "      <th>dNBR/1000</th>\n",
       "      <th>KF</th>\n",
       "      <th>Acc015_mm</th>\n",
       "      <th>Acc030_mm</th>\n",
       "      <th>Acc060_mm</th>\n",
       "    </tr>\n",
       "  </thead>\n",
       "  <tbody>\n",
       "    <tr>\n",
       "      <th>0</th>\n",
       "      <td>Buckweed</td>\n",
       "      <td>2007</td>\n",
       "      <td>bck</td>\n",
       "      <td>bck_1035</td>\n",
       "      <td>Training</td>\n",
       "      <td>CA</td>\n",
       "      <td>11</td>\n",
       "      <td>368133.5165</td>\n",
       "      <td>3823231.989</td>\n",
       "      <td>0</td>\n",
       "      <td>...</td>\n",
       "      <td>3.2</td>\n",
       "      <td>2.0</td>\n",
       "      <td>2.0</td>\n",
       "      <td>0.378767</td>\n",
       "      <td>0.217933</td>\n",
       "      <td>0.297853</td>\n",
       "      <td>0.250000</td>\n",
       "      <td>0.8</td>\n",
       "      <td>1.0</td>\n",
       "      <td>2.0</td>\n",
       "    </tr>\n",
       "    <tr>\n",
       "      <th>1</th>\n",
       "      <td>Buckweed</td>\n",
       "      <td>2007</td>\n",
       "      <td>bck</td>\n",
       "      <td>bck_1090</td>\n",
       "      <td>Training</td>\n",
       "      <td>CA</td>\n",
       "      <td>11</td>\n",
       "      <td>367871.0165</td>\n",
       "      <td>3822984.489</td>\n",
       "      <td>0</td>\n",
       "      <td>...</td>\n",
       "      <td>3.2</td>\n",
       "      <td>2.0</td>\n",
       "      <td>2.0</td>\n",
       "      <td>0.689615</td>\n",
       "      <td>0.061249</td>\n",
       "      <td>0.224896</td>\n",
       "      <td>0.250000</td>\n",
       "      <td>0.8</td>\n",
       "      <td>1.0</td>\n",
       "      <td>2.0</td>\n",
       "    </tr>\n",
       "    <tr>\n",
       "      <th>2</th>\n",
       "      <td>Buckweed</td>\n",
       "      <td>2007</td>\n",
       "      <td>bck</td>\n",
       "      <td>bck_1570</td>\n",
       "      <td>Training</td>\n",
       "      <td>CA</td>\n",
       "      <td>11</td>\n",
       "      <td>367503.5165</td>\n",
       "      <td>3821741.989</td>\n",
       "      <td>0</td>\n",
       "      <td>...</td>\n",
       "      <td>3.2</td>\n",
       "      <td>2.0</td>\n",
       "      <td>2.0</td>\n",
       "      <td>2.757312</td>\n",
       "      <td>0.042968</td>\n",
       "      <td>0.065537</td>\n",
       "      <td>0.248541</td>\n",
       "      <td>0.8</td>\n",
       "      <td>1.0</td>\n",
       "      <td>2.0</td>\n",
       "    </tr>\n",
       "    <tr>\n",
       "      <th>3</th>\n",
       "      <td>Buckweed</td>\n",
       "      <td>2007</td>\n",
       "      <td>bck</td>\n",
       "      <td>bck_235</td>\n",
       "      <td>Training</td>\n",
       "      <td>CA</td>\n",
       "      <td>11</td>\n",
       "      <td>371108.5165</td>\n",
       "      <td>3824991.989</td>\n",
       "      <td>0</td>\n",
       "      <td>...</td>\n",
       "      <td>1.6</td>\n",
       "      <td>1.2</td>\n",
       "      <td>0.8</td>\n",
       "      <td>0.613415</td>\n",
       "      <td>0.092164</td>\n",
       "      <td>0.141711</td>\n",
       "      <td>0.250000</td>\n",
       "      <td>0.4</td>\n",
       "      <td>0.6</td>\n",
       "      <td>0.8</td>\n",
       "    </tr>\n",
       "    <tr>\n",
       "      <th>4</th>\n",
       "      <td>Buckweed</td>\n",
       "      <td>2007</td>\n",
       "      <td>bck</td>\n",
       "      <td>bck_363</td>\n",
       "      <td>Training</td>\n",
       "      <td>CA</td>\n",
       "      <td>11</td>\n",
       "      <td>370763.5165</td>\n",
       "      <td>3824576.989</td>\n",
       "      <td>0</td>\n",
       "      <td>...</td>\n",
       "      <td>1.6</td>\n",
       "      <td>1.2</td>\n",
       "      <td>0.8</td>\n",
       "      <td>0.538875</td>\n",
       "      <td>0.058353</td>\n",
       "      <td>0.210158</td>\n",
       "      <td>0.250000</td>\n",
       "      <td>0.4</td>\n",
       "      <td>0.6</td>\n",
       "      <td>0.8</td>\n",
       "    </tr>\n",
       "  </tbody>\n",
       "</table>\n",
       "<p>5 rows × 27 columns</p>\n",
       "</div>"
      ],
      "text/plain": [
       "  Fire Name  Year Fire_ID Fire_SegID  Database State  UTM_Zone        UTM_X  \\\n",
       "0  Buckweed  2007     bck   bck_1035  Training    CA        11  368133.5165   \n",
       "1  Buckweed  2007     bck   bck_1090  Training    CA        11  367871.0165   \n",
       "2  Buckweed  2007     bck   bck_1570  Training    CA        11  367503.5165   \n",
       "3  Buckweed  2007     bck    bck_235  Training    CA        11  371108.5165   \n",
       "4  Buckweed  2007     bck    bck_363  Training    CA        11  370763.5165   \n",
       "\n",
       "         UTM_Y  Response  ... Peak_I15_mm/h  Peak_I30_mm/h Peak_I60_mm/h  \\\n",
       "0  3823231.989         0  ...           3.2            2.0           2.0   \n",
       "1  3822984.489         0  ...           3.2            2.0           2.0   \n",
       "2  3821741.989         0  ...           3.2            2.0           2.0   \n",
       "3  3824991.989         0  ...           1.6            1.2           0.8   \n",
       "4  3824576.989         0  ...           1.6            1.2           0.8   \n",
       "\n",
       "  ContributingArea_km2  PropHM23  dNBR/1000        KF  Acc015_mm  Acc030_mm  \\\n",
       "0             0.378767  0.217933   0.297853  0.250000        0.8        1.0   \n",
       "1             0.689615  0.061249   0.224896  0.250000        0.8        1.0   \n",
       "2             2.757312  0.042968   0.065537  0.248541        0.8        1.0   \n",
       "3             0.613415  0.092164   0.141711  0.250000        0.4        0.6   \n",
       "4             0.538875  0.058353   0.210158  0.250000        0.4        0.6   \n",
       "\n",
       "   Acc060_mm  \n",
       "0        2.0  \n",
       "1        2.0  \n",
       "2        2.0  \n",
       "3        0.8  \n",
       "4        0.8  \n",
       "\n",
       "[5 rows x 27 columns]"
      ]
     },
     "execution_count": 6,
     "metadata": {},
     "output_type": "execute_result"
    }
   ],
   "source": [
    "raw_data = pd.read_excel(file, sheet_name=sheets[1])\n",
    "raw_data.head()"
   ]
  },
  {
   "cell_type": "code",
   "execution_count": 7,
   "metadata": {},
   "outputs": [
    {
     "data": {
      "text/plain": [
       "CA    939\n",
       "CO    300\n",
       "AZ    209\n",
       "NM     58\n",
       "MT     26\n",
       "ID     14\n",
       "UT      4\n",
       "Name: State, dtype: int64"
      ]
     },
     "execution_count": 7,
     "metadata": {},
     "output_type": "execute_result"
    }
   ],
   "source": [
    "raw_data['State'].value_counts()"
   ]
  },
  {
   "cell_type": "code",
   "execution_count": 8,
   "metadata": {},
   "outputs": [
    {
     "data": {
      "text/plain": [
       "Training    939\n",
       "Test        611\n",
       "Name: Database, dtype: int64"
      ]
     },
     "execution_count": 8,
     "metadata": {},
     "output_type": "execute_result"
    }
   ],
   "source": [
    "raw_data['Database'].value_counts()"
   ]
  },
  {
   "cell_type": "code",
   "execution_count": 9,
   "metadata": {},
   "outputs": [
    {
     "data": {
      "text/plain": [
       "(1550, 27)"
      ]
     },
     "execution_count": 9,
     "metadata": {},
     "output_type": "execute_result"
    }
   ],
   "source": [
    "raw_data.shape"
   ]
  },
  {
   "cell_type": "code",
   "execution_count": 10,
   "metadata": {},
   "outputs": [
    {
     "data": {
      "text/html": [
       "<div>\n",
       "<style scoped>\n",
       "    .dataframe tbody tr th:only-of-type {\n",
       "        vertical-align: middle;\n",
       "    }\n",
       "\n",
       "    .dataframe tbody tr th {\n",
       "        vertical-align: top;\n",
       "    }\n",
       "\n",
       "    .dataframe thead th {\n",
       "        text-align: right;\n",
       "    }\n",
       "</style>\n",
       "<table border=\"1\" class=\"dataframe\">\n",
       "  <thead>\n",
       "    <tr style=\"text-align: right;\">\n",
       "      <th></th>\n",
       "      <th>count</th>\n",
       "      <th>mean</th>\n",
       "      <th>std</th>\n",
       "      <th>min</th>\n",
       "      <th>25%</th>\n",
       "      <th>50%</th>\n",
       "      <th>75%</th>\n",
       "      <th>max</th>\n",
       "    </tr>\n",
       "  </thead>\n",
       "  <tbody>\n",
       "    <tr>\n",
       "      <th>Year</th>\n",
       "      <td>1550.0</td>\n",
       "      <td>2.006934e+03</td>\n",
       "      <td>3.466538</td>\n",
       "      <td>2.000000e+03</td>\n",
       "      <td>2.003000e+03</td>\n",
       "      <td>2.009000e+03</td>\n",
       "      <td>2.009000e+03</td>\n",
       "      <td>2.012000e+03</td>\n",
       "    </tr>\n",
       "    <tr>\n",
       "      <th>UTM_Zone</th>\n",
       "      <td>1550.0</td>\n",
       "      <td>1.161613e+01</td>\n",
       "      <td>0.836003</td>\n",
       "      <td>1.100000e+01</td>\n",
       "      <td>1.100000e+01</td>\n",
       "      <td>1.100000e+01</td>\n",
       "      <td>1.200000e+01</td>\n",
       "      <td>1.300000e+01</td>\n",
       "    </tr>\n",
       "    <tr>\n",
       "      <th>UTM_X</th>\n",
       "      <td>1550.0</td>\n",
       "      <td>4.039920e+05</td>\n",
       "      <td>88105.486725</td>\n",
       "      <td>2.352828e+05</td>\n",
       "      <td>3.699579e+05</td>\n",
       "      <td>3.920590e+05</td>\n",
       "      <td>4.443863e+05</td>\n",
       "      <td>7.335575e+05</td>\n",
       "    </tr>\n",
       "    <tr>\n",
       "      <th>UTM_Y</th>\n",
       "      <td>1550.0</td>\n",
       "      <td>3.926658e+06</td>\n",
       "      <td>306377.242095</td>\n",
       "      <td>3.468148e+06</td>\n",
       "      <td>3.787834e+06</td>\n",
       "      <td>3.795699e+06</td>\n",
       "      <td>3.908735e+06</td>\n",
       "      <td>5.110116e+06</td>\n",
       "    </tr>\n",
       "    <tr>\n",
       "      <th>Response</th>\n",
       "      <td>1550.0</td>\n",
       "      <td>2.154839e-01</td>\n",
       "      <td>0.411290</td>\n",
       "      <td>0.000000e+00</td>\n",
       "      <td>0.000000e+00</td>\n",
       "      <td>0.000000e+00</td>\n",
       "      <td>0.000000e+00</td>\n",
       "      <td>1.000000e+00</td>\n",
       "    </tr>\n",
       "    <tr>\n",
       "      <th>GaugeDist_m</th>\n",
       "      <td>1550.0</td>\n",
       "      <td>1.958996e+03</td>\n",
       "      <td>1071.810282</td>\n",
       "      <td>2.784397e+01</td>\n",
       "      <td>1.037460e+03</td>\n",
       "      <td>1.913675e+03</td>\n",
       "      <td>2.811028e+03</td>\n",
       "      <td>3.999300e+03</td>\n",
       "    </tr>\n",
       "    <tr>\n",
       "      <th>StormDur_H</th>\n",
       "      <td>1550.0</td>\n",
       "      <td>1.844601e+01</td>\n",
       "      <td>18.507975</td>\n",
       "      <td>0.000000e+00</td>\n",
       "      <td>2.000000e+00</td>\n",
       "      <td>1.430000e+01</td>\n",
       "      <td>2.713750e+01</td>\n",
       "      <td>6.500000e+01</td>\n",
       "    </tr>\n",
       "    <tr>\n",
       "      <th>StormAccum_mm</th>\n",
       "      <td>1550.0</td>\n",
       "      <td>3.497151e+01</td>\n",
       "      <td>38.374910</td>\n",
       "      <td>0.000000e+00</td>\n",
       "      <td>8.380000e+00</td>\n",
       "      <td>2.200000e+01</td>\n",
       "      <td>5.120000e+01</td>\n",
       "      <td>2.222500e+02</td>\n",
       "    </tr>\n",
       "    <tr>\n",
       "      <th>StormAvgI_mm/h</th>\n",
       "      <td>1550.0</td>\n",
       "      <td>4.877449e+00</td>\n",
       "      <td>9.364335</td>\n",
       "      <td>0.000000e+00</td>\n",
       "      <td>6.157580e-01</td>\n",
       "      <td>1.960000e+00</td>\n",
       "      <td>4.237463e+00</td>\n",
       "      <td>5.867014e+01</td>\n",
       "    </tr>\n",
       "    <tr>\n",
       "      <th>Peak_I15_mm/h</th>\n",
       "      <td>1320.0</td>\n",
       "      <td>2.382132e+01</td>\n",
       "      <td>21.259860</td>\n",
       "      <td>1.600000e+00</td>\n",
       "      <td>1.040000e+01</td>\n",
       "      <td>1.680000e+01</td>\n",
       "      <td>2.757400e+01</td>\n",
       "      <td>1.120000e+02</td>\n",
       "    </tr>\n",
       "    <tr>\n",
       "      <th>Peak_I30_mm/h</th>\n",
       "      <td>1336.0</td>\n",
       "      <td>1.697799e+01</td>\n",
       "      <td>14.776918</td>\n",
       "      <td>1.200000e+00</td>\n",
       "      <td>8.128000e+00</td>\n",
       "      <td>1.200000e+01</td>\n",
       "      <td>2.050000e+01</td>\n",
       "      <td>8.000000e+01</td>\n",
       "    </tr>\n",
       "    <tr>\n",
       "      <th>Peak_I60_mm/h</th>\n",
       "      <td>1294.0</td>\n",
       "      <td>1.081554e+01</td>\n",
       "      <td>8.453919</td>\n",
       "      <td>6.000000e-01</td>\n",
       "      <td>5.350500e+00</td>\n",
       "      <td>8.380000e+00</td>\n",
       "      <td>1.298850e+01</td>\n",
       "      <td>5.080000e+01</td>\n",
       "    </tr>\n",
       "    <tr>\n",
       "      <th>ContributingArea_km2</th>\n",
       "      <td>1550.0</td>\n",
       "      <td>1.047743e+00</td>\n",
       "      <td>1.537803</td>\n",
       "      <td>2.010000e-02</td>\n",
       "      <td>1.084853e-01</td>\n",
       "      <td>4.359857e-01</td>\n",
       "      <td>1.308229e+00</td>\n",
       "      <td>7.888105e+00</td>\n",
       "    </tr>\n",
       "    <tr>\n",
       "      <th>PropHM23</th>\n",
       "      <td>1550.0</td>\n",
       "      <td>4.787133e-01</td>\n",
       "      <td>0.276017</td>\n",
       "      <td>0.000000e+00</td>\n",
       "      <td>2.334469e-01</td>\n",
       "      <td>5.232881e-01</td>\n",
       "      <td>6.924057e-01</td>\n",
       "      <td>9.895255e-01</td>\n",
       "    </tr>\n",
       "    <tr>\n",
       "      <th>dNBR/1000</th>\n",
       "      <td>1473.0</td>\n",
       "      <td>3.403182e-01</td>\n",
       "      <td>0.189386</td>\n",
       "      <td>7.158207e-03</td>\n",
       "      <td>1.934882e-01</td>\n",
       "      <td>3.114808e-01</td>\n",
       "      <td>4.615503e-01</td>\n",
       "      <td>9.974387e-01</td>\n",
       "    </tr>\n",
       "    <tr>\n",
       "      <th>KF</th>\n",
       "      <td>1550.0</td>\n",
       "      <td>2.330627e-01</td>\n",
       "      <td>0.427766</td>\n",
       "      <td>0.000000e+00</td>\n",
       "      <td>1.500001e-01</td>\n",
       "      <td>2.393612e-01</td>\n",
       "      <td>2.600000e-01</td>\n",
       "      <td>1.136042e+01</td>\n",
       "    </tr>\n",
       "    <tr>\n",
       "      <th>Acc015_mm</th>\n",
       "      <td>1320.0</td>\n",
       "      <td>5.955329e+00</td>\n",
       "      <td>5.314965</td>\n",
       "      <td>4.000000e-01</td>\n",
       "      <td>2.600000e+00</td>\n",
       "      <td>4.200000e+00</td>\n",
       "      <td>6.893500e+00</td>\n",
       "      <td>2.800000e+01</td>\n",
       "    </tr>\n",
       "    <tr>\n",
       "      <th>Acc030_mm</th>\n",
       "      <td>1336.0</td>\n",
       "      <td>8.488994e+00</td>\n",
       "      <td>7.388459</td>\n",
       "      <td>6.000000e-01</td>\n",
       "      <td>4.064000e+00</td>\n",
       "      <td>6.000000e+00</td>\n",
       "      <td>1.025000e+01</td>\n",
       "      <td>4.000000e+01</td>\n",
       "    </tr>\n",
       "    <tr>\n",
       "      <th>Acc060_mm</th>\n",
       "      <td>1294.0</td>\n",
       "      <td>1.081554e+01</td>\n",
       "      <td>8.453919</td>\n",
       "      <td>6.000000e-01</td>\n",
       "      <td>5.350500e+00</td>\n",
       "      <td>8.380000e+00</td>\n",
       "      <td>1.298850e+01</td>\n",
       "      <td>5.080000e+01</td>\n",
       "    </tr>\n",
       "  </tbody>\n",
       "</table>\n",
       "</div>"
      ],
      "text/plain": [
       "                       count          mean            std           min  \\\n",
       "Year                  1550.0  2.006934e+03       3.466538  2.000000e+03   \n",
       "UTM_Zone              1550.0  1.161613e+01       0.836003  1.100000e+01   \n",
       "UTM_X                 1550.0  4.039920e+05   88105.486725  2.352828e+05   \n",
       "UTM_Y                 1550.0  3.926658e+06  306377.242095  3.468148e+06   \n",
       "Response              1550.0  2.154839e-01       0.411290  0.000000e+00   \n",
       "GaugeDist_m           1550.0  1.958996e+03    1071.810282  2.784397e+01   \n",
       "StormDur_H            1550.0  1.844601e+01      18.507975  0.000000e+00   \n",
       "StormAccum_mm         1550.0  3.497151e+01      38.374910  0.000000e+00   \n",
       "StormAvgI_mm/h        1550.0  4.877449e+00       9.364335  0.000000e+00   \n",
       "Peak_I15_mm/h         1320.0  2.382132e+01      21.259860  1.600000e+00   \n",
       "Peak_I30_mm/h         1336.0  1.697799e+01      14.776918  1.200000e+00   \n",
       "Peak_I60_mm/h         1294.0  1.081554e+01       8.453919  6.000000e-01   \n",
       "ContributingArea_km2  1550.0  1.047743e+00       1.537803  2.010000e-02   \n",
       "PropHM23              1550.0  4.787133e-01       0.276017  0.000000e+00   \n",
       "dNBR/1000             1473.0  3.403182e-01       0.189386  7.158207e-03   \n",
       "KF                    1550.0  2.330627e-01       0.427766  0.000000e+00   \n",
       "Acc015_mm             1320.0  5.955329e+00       5.314965  4.000000e-01   \n",
       "Acc030_mm             1336.0  8.488994e+00       7.388459  6.000000e-01   \n",
       "Acc060_mm             1294.0  1.081554e+01       8.453919  6.000000e-01   \n",
       "\n",
       "                               25%           50%           75%           max  \n",
       "Year                  2.003000e+03  2.009000e+03  2.009000e+03  2.012000e+03  \n",
       "UTM_Zone              1.100000e+01  1.100000e+01  1.200000e+01  1.300000e+01  \n",
       "UTM_X                 3.699579e+05  3.920590e+05  4.443863e+05  7.335575e+05  \n",
       "UTM_Y                 3.787834e+06  3.795699e+06  3.908735e+06  5.110116e+06  \n",
       "Response              0.000000e+00  0.000000e+00  0.000000e+00  1.000000e+00  \n",
       "GaugeDist_m           1.037460e+03  1.913675e+03  2.811028e+03  3.999300e+03  \n",
       "StormDur_H            2.000000e+00  1.430000e+01  2.713750e+01  6.500000e+01  \n",
       "StormAccum_mm         8.380000e+00  2.200000e+01  5.120000e+01  2.222500e+02  \n",
       "StormAvgI_mm/h        6.157580e-01  1.960000e+00  4.237463e+00  5.867014e+01  \n",
       "Peak_I15_mm/h         1.040000e+01  1.680000e+01  2.757400e+01  1.120000e+02  \n",
       "Peak_I30_mm/h         8.128000e+00  1.200000e+01  2.050000e+01  8.000000e+01  \n",
       "Peak_I60_mm/h         5.350500e+00  8.380000e+00  1.298850e+01  5.080000e+01  \n",
       "ContributingArea_km2  1.084853e-01  4.359857e-01  1.308229e+00  7.888105e+00  \n",
       "PropHM23              2.334469e-01  5.232881e-01  6.924057e-01  9.895255e-01  \n",
       "dNBR/1000             1.934882e-01  3.114808e-01  4.615503e-01  9.974387e-01  \n",
       "KF                    1.500001e-01  2.393612e-01  2.600000e-01  1.136042e+01  \n",
       "Acc015_mm             2.600000e+00  4.200000e+00  6.893500e+00  2.800000e+01  \n",
       "Acc030_mm             4.064000e+00  6.000000e+00  1.025000e+01  4.000000e+01  \n",
       "Acc060_mm             5.350500e+00  8.380000e+00  1.298850e+01  5.080000e+01  "
      ]
     },
     "execution_count": 10,
     "metadata": {},
     "output_type": "execute_result"
    }
   ],
   "source": [
    "raw_data.describe().T"
   ]
  },
  {
   "cell_type": "markdown",
   "metadata": {},
   "source": [
    "## Handling Missing Values"
   ]
  },
  {
   "cell_type": "markdown",
   "metadata": {},
   "source": [
    "### Determine features with missing values"
   ]
  },
  {
   "cell_type": "code",
   "execution_count": 11,
   "metadata": {},
   "outputs": [
    {
     "name": "stdout",
     "output_type": "stream",
     "text": [
      "NAs for each feature:\n"
     ]
    },
    {
     "data": {
      "text/plain": [
       "Fire Name                 0\n",
       "Year                      0\n",
       "Fire_ID                   0\n",
       "Fire_SegID                0\n",
       "Database                  0\n",
       "State                     0\n",
       "UTM_Zone                  0\n",
       "UTM_X                     0\n",
       "UTM_Y                     0\n",
       "Response                  0\n",
       "StormDate                 0\n",
       "GaugeDist_m               0\n",
       "StormStart              160\n",
       "StormEnd                160\n",
       "StormDur_H                0\n",
       "StormAccum_mm             0\n",
       "StormAvgI_mm/h            0\n",
       "Peak_I15_mm/h           230\n",
       "Peak_I30_mm/h           214\n",
       "Peak_I60_mm/h           256\n",
       "ContributingArea_km2      0\n",
       "PropHM23                  0\n",
       "dNBR/1000                77\n",
       "KF                        0\n",
       "Acc015_mm               230\n",
       "Acc030_mm               214\n",
       "Acc060_mm               256\n",
       "dtype: int64"
      ]
     },
     "execution_count": 11,
     "metadata": {},
     "output_type": "execute_result"
    }
   ],
   "source": [
    "print(\"NAs for each feature:\")\n",
    "raw_data.isna().sum()"
   ]
  },
  {
   "cell_type": "code",
   "execution_count": 12,
   "metadata": {},
   "outputs": [
    {
     "data": {
      "text/plain": [
       "['Fire Name',\n",
       " 'Year',\n",
       " 'Fire_ID',\n",
       " 'Fire_SegID',\n",
       " 'Database',\n",
       " 'State',\n",
       " 'UTM_Zone',\n",
       " 'UTM_X',\n",
       " 'UTM_Y',\n",
       " 'Response',\n",
       " 'StormDate',\n",
       " 'GaugeDist_m',\n",
       " 'StormDur_H',\n",
       " 'StormAccum_mm',\n",
       " 'StormAvgI_mm/h',\n",
       " 'ContributingArea_km2',\n",
       " 'PropHM23',\n",
       " 'KF']"
      ]
     },
     "execution_count": 12,
     "metadata": {},
     "output_type": "execute_result"
    }
   ],
   "source": [
    "# Features without missing values\n",
    "list(raw_data.columns[raw_data.isna().sum() == 0])"
   ]
  },
  {
   "cell_type": "markdown",
   "metadata": {},
   "source": [
    "### Remove rows with missing values"
   ]
  },
  {
   "cell_type": "code",
   "execution_count": 13,
   "metadata": {},
   "outputs": [
    {
     "name": "stdout",
     "output_type": "stream",
     "text": [
      "Dimensions before removing null values:  (1550, 27)\n",
      "Dimensions after removing null values:   (1091, 27)\n"
     ]
    }
   ],
   "source": [
    "print(\"Dimensions before removing null values: \", raw_data.shape)\n",
    "\n",
    "raw_data.dropna(inplace=True)   # NOTE: Original raw_data is overwritten\n",
    "print(\"Dimensions after removing null values:  \", raw_data.shape)"
   ]
  },
  {
   "cell_type": "code",
   "execution_count": 14,
   "metadata": {},
   "outputs": [
    {
     "data": {
      "text/html": [
       "<div>\n",
       "<style scoped>\n",
       "    .dataframe tbody tr th:only-of-type {\n",
       "        vertical-align: middle;\n",
       "    }\n",
       "\n",
       "    .dataframe tbody tr th {\n",
       "        vertical-align: top;\n",
       "    }\n",
       "\n",
       "    .dataframe thead th {\n",
       "        text-align: right;\n",
       "    }\n",
       "</style>\n",
       "<table border=\"1\" class=\"dataframe\">\n",
       "  <thead>\n",
       "    <tr style=\"text-align: right;\">\n",
       "      <th></th>\n",
       "      <th>count</th>\n",
       "      <th>mean</th>\n",
       "      <th>std</th>\n",
       "      <th>min</th>\n",
       "      <th>25%</th>\n",
       "      <th>50%</th>\n",
       "      <th>75%</th>\n",
       "      <th>max</th>\n",
       "    </tr>\n",
       "  </thead>\n",
       "  <tbody>\n",
       "    <tr>\n",
       "      <th>Year</th>\n",
       "      <td>1091.0</td>\n",
       "      <td>2007.26</td>\n",
       "      <td>3.14</td>\n",
       "      <td>2000.00</td>\n",
       "      <td>2005.00</td>\n",
       "      <td>2009.00</td>\n",
       "      <td>2009.00</td>\n",
       "      <td>2012.00</td>\n",
       "    </tr>\n",
       "    <tr>\n",
       "      <th>UTM_Zone</th>\n",
       "      <td>1091.0</td>\n",
       "      <td>11.51</td>\n",
       "      <td>0.82</td>\n",
       "      <td>11.00</td>\n",
       "      <td>11.00</td>\n",
       "      <td>11.00</td>\n",
       "      <td>12.00</td>\n",
       "      <td>13.00</td>\n",
       "    </tr>\n",
       "    <tr>\n",
       "      <th>UTM_X</th>\n",
       "      <td>1091.0</td>\n",
       "      <td>395762.33</td>\n",
       "      <td>70027.45</td>\n",
       "      <td>235282.78</td>\n",
       "      <td>377945.74</td>\n",
       "      <td>390922.77</td>\n",
       "      <td>431145.19</td>\n",
       "      <td>661118.36</td>\n",
       "    </tr>\n",
       "    <tr>\n",
       "      <th>UTM_Y</th>\n",
       "      <td>1091.0</td>\n",
       "      <td>3872001.47</td>\n",
       "      <td>224812.70</td>\n",
       "      <td>3468148.42</td>\n",
       "      <td>3786223.11</td>\n",
       "      <td>3794325.37</td>\n",
       "      <td>3807860.37</td>\n",
       "      <td>4384285.42</td>\n",
       "    </tr>\n",
       "    <tr>\n",
       "      <th>Response</th>\n",
       "      <td>1091.0</td>\n",
       "      <td>0.25</td>\n",
       "      <td>0.43</td>\n",
       "      <td>0.00</td>\n",
       "      <td>0.00</td>\n",
       "      <td>0.00</td>\n",
       "      <td>1.00</td>\n",
       "      <td>1.00</td>\n",
       "    </tr>\n",
       "    <tr>\n",
       "      <th>GaugeDist_m</th>\n",
       "      <td>1091.0</td>\n",
       "      <td>1945.44</td>\n",
       "      <td>1105.93</td>\n",
       "      <td>27.84</td>\n",
       "      <td>978.57</td>\n",
       "      <td>1876.08</td>\n",
       "      <td>2819.47</td>\n",
       "      <td>3994.86</td>\n",
       "    </tr>\n",
       "    <tr>\n",
       "      <th>StormDur_H</th>\n",
       "      <td>1091.0</td>\n",
       "      <td>23.49</td>\n",
       "      <td>17.38</td>\n",
       "      <td>1.00</td>\n",
       "      <td>9.93</td>\n",
       "      <td>22.00</td>\n",
       "      <td>32.33</td>\n",
       "      <td>63.50</td>\n",
       "    </tr>\n",
       "    <tr>\n",
       "      <th>StormAccum_mm</th>\n",
       "      <td>1091.0</td>\n",
       "      <td>44.28</td>\n",
       "      <td>41.65</td>\n",
       "      <td>1.40</td>\n",
       "      <td>13.00</td>\n",
       "      <td>28.20</td>\n",
       "      <td>64.01</td>\n",
       "      <td>222.25</td>\n",
       "    </tr>\n",
       "    <tr>\n",
       "      <th>StormAvgI_mm/h</th>\n",
       "      <td>1091.0</td>\n",
       "      <td>3.23</td>\n",
       "      <td>4.58</td>\n",
       "      <td>0.11</td>\n",
       "      <td>0.87</td>\n",
       "      <td>2.09</td>\n",
       "      <td>3.31</td>\n",
       "      <td>28.10</td>\n",
       "    </tr>\n",
       "    <tr>\n",
       "      <th>Peak_I15_mm/h</th>\n",
       "      <td>1091.0</td>\n",
       "      <td>20.11</td>\n",
       "      <td>17.02</td>\n",
       "      <td>1.60</td>\n",
       "      <td>9.60</td>\n",
       "      <td>15.24</td>\n",
       "      <td>23.37</td>\n",
       "      <td>103.63</td>\n",
       "    </tr>\n",
       "    <tr>\n",
       "      <th>Peak_I30_mm/h</th>\n",
       "      <td>1091.0</td>\n",
       "      <td>14.49</td>\n",
       "      <td>11.86</td>\n",
       "      <td>1.20</td>\n",
       "      <td>6.80</td>\n",
       "      <td>10.40</td>\n",
       "      <td>17.78</td>\n",
       "      <td>68.07</td>\n",
       "    </tr>\n",
       "    <tr>\n",
       "      <th>Peak_I60_mm/h</th>\n",
       "      <td>1091.0</td>\n",
       "      <td>10.65</td>\n",
       "      <td>8.25</td>\n",
       "      <td>0.60</td>\n",
       "      <td>5.26</td>\n",
       "      <td>8.38</td>\n",
       "      <td>12.80</td>\n",
       "      <td>40.89</td>\n",
       "    </tr>\n",
       "    <tr>\n",
       "      <th>ContributingArea_km2</th>\n",
       "      <td>1091.0</td>\n",
       "      <td>1.11</td>\n",
       "      <td>1.59</td>\n",
       "      <td>0.02</td>\n",
       "      <td>0.11</td>\n",
       "      <td>0.46</td>\n",
       "      <td>1.42</td>\n",
       "      <td>7.89</td>\n",
       "    </tr>\n",
       "    <tr>\n",
       "      <th>PropHM23</th>\n",
       "      <td>1091.0</td>\n",
       "      <td>0.47</td>\n",
       "      <td>0.28</td>\n",
       "      <td>0.00</td>\n",
       "      <td>0.22</td>\n",
       "      <td>0.51</td>\n",
       "      <td>0.68</td>\n",
       "      <td>0.99</td>\n",
       "    </tr>\n",
       "    <tr>\n",
       "      <th>dNBR/1000</th>\n",
       "      <td>1091.0</td>\n",
       "      <td>0.33</td>\n",
       "      <td>0.19</td>\n",
       "      <td>0.01</td>\n",
       "      <td>0.19</td>\n",
       "      <td>0.30</td>\n",
       "      <td>0.44</td>\n",
       "      <td>1.00</td>\n",
       "    </tr>\n",
       "    <tr>\n",
       "      <th>KF</th>\n",
       "      <td>1091.0</td>\n",
       "      <td>0.24</td>\n",
       "      <td>0.50</td>\n",
       "      <td>0.00</td>\n",
       "      <td>0.16</td>\n",
       "      <td>0.24</td>\n",
       "      <td>0.25</td>\n",
       "      <td>11.36</td>\n",
       "    </tr>\n",
       "    <tr>\n",
       "      <th>Acc015_mm</th>\n",
       "      <td>1091.0</td>\n",
       "      <td>5.03</td>\n",
       "      <td>4.25</td>\n",
       "      <td>0.40</td>\n",
       "      <td>2.40</td>\n",
       "      <td>3.81</td>\n",
       "      <td>5.84</td>\n",
       "      <td>25.91</td>\n",
       "    </tr>\n",
       "    <tr>\n",
       "      <th>Acc030_mm</th>\n",
       "      <td>1091.0</td>\n",
       "      <td>7.25</td>\n",
       "      <td>5.93</td>\n",
       "      <td>0.60</td>\n",
       "      <td>3.40</td>\n",
       "      <td>5.20</td>\n",
       "      <td>8.89</td>\n",
       "      <td>34.04</td>\n",
       "    </tr>\n",
       "    <tr>\n",
       "      <th>Acc060_mm</th>\n",
       "      <td>1091.0</td>\n",
       "      <td>10.65</td>\n",
       "      <td>8.25</td>\n",
       "      <td>0.60</td>\n",
       "      <td>5.26</td>\n",
       "      <td>8.38</td>\n",
       "      <td>12.80</td>\n",
       "      <td>40.89</td>\n",
       "    </tr>\n",
       "  </tbody>\n",
       "</table>\n",
       "</div>"
      ],
      "text/plain": [
       "                       count        mean        std         min         25%  \\\n",
       "Year                  1091.0     2007.26       3.14     2000.00     2005.00   \n",
       "UTM_Zone              1091.0       11.51       0.82       11.00       11.00   \n",
       "UTM_X                 1091.0   395762.33   70027.45   235282.78   377945.74   \n",
       "UTM_Y                 1091.0  3872001.47  224812.70  3468148.42  3786223.11   \n",
       "Response              1091.0        0.25       0.43        0.00        0.00   \n",
       "GaugeDist_m           1091.0     1945.44    1105.93       27.84      978.57   \n",
       "StormDur_H            1091.0       23.49      17.38        1.00        9.93   \n",
       "StormAccum_mm         1091.0       44.28      41.65        1.40       13.00   \n",
       "StormAvgI_mm/h        1091.0        3.23       4.58        0.11        0.87   \n",
       "Peak_I15_mm/h         1091.0       20.11      17.02        1.60        9.60   \n",
       "Peak_I30_mm/h         1091.0       14.49      11.86        1.20        6.80   \n",
       "Peak_I60_mm/h         1091.0       10.65       8.25        0.60        5.26   \n",
       "ContributingArea_km2  1091.0        1.11       1.59        0.02        0.11   \n",
       "PropHM23              1091.0        0.47       0.28        0.00        0.22   \n",
       "dNBR/1000             1091.0        0.33       0.19        0.01        0.19   \n",
       "KF                    1091.0        0.24       0.50        0.00        0.16   \n",
       "Acc015_mm             1091.0        5.03       4.25        0.40        2.40   \n",
       "Acc030_mm             1091.0        7.25       5.93        0.60        3.40   \n",
       "Acc060_mm             1091.0       10.65       8.25        0.60        5.26   \n",
       "\n",
       "                             50%         75%         max  \n",
       "Year                     2009.00     2009.00     2012.00  \n",
       "UTM_Zone                   11.00       12.00       13.00  \n",
       "UTM_X                  390922.77   431145.19   661118.36  \n",
       "UTM_Y                 3794325.37  3807860.37  4384285.42  \n",
       "Response                    0.00        1.00        1.00  \n",
       "GaugeDist_m              1876.08     2819.47     3994.86  \n",
       "StormDur_H                 22.00       32.33       63.50  \n",
       "StormAccum_mm              28.20       64.01      222.25  \n",
       "StormAvgI_mm/h              2.09        3.31       28.10  \n",
       "Peak_I15_mm/h              15.24       23.37      103.63  \n",
       "Peak_I30_mm/h              10.40       17.78       68.07  \n",
       "Peak_I60_mm/h               8.38       12.80       40.89  \n",
       "ContributingArea_km2        0.46        1.42        7.89  \n",
       "PropHM23                    0.51        0.68        0.99  \n",
       "dNBR/1000                   0.30        0.44        1.00  \n",
       "KF                          0.24        0.25       11.36  \n",
       "Acc015_mm                   3.81        5.84       25.91  \n",
       "Acc030_mm                   5.20        8.89       34.04  \n",
       "Acc060_mm                   8.38       12.80       40.89  "
      ]
     },
     "execution_count": 14,
     "metadata": {},
     "output_type": "execute_result"
    }
   ],
   "source": [
    "raw_data.describe().round(2).T"
   ]
  },
  {
   "cell_type": "markdown",
   "metadata": {},
   "source": [
    "### Save data without missing values to new file"
   ]
  },
  {
   "cell_type": "code",
   "execution_count": 15,
   "metadata": {},
   "outputs": [],
   "source": [
    "# Save  data in csv file format, not including index as a column\n",
    "raw_data.to_csv(\"ofr20161106-na-omit.csv\", index=False)"
   ]
  },
  {
   "cell_type": "markdown",
   "metadata": {},
   "source": [
    "## Explore by Data Types"
   ]
  },
  {
   "cell_type": "code",
   "execution_count": 16,
   "metadata": {},
   "outputs": [
    {
     "name": "stdout",
     "output_type": "stream",
     "text": [
      "<class 'pandas.core.frame.DataFrame'>\n",
      "Int64Index: 1091 entries, 0 to 1546\n",
      "Data columns (total 27 columns):\n",
      " #   Column                Non-Null Count  Dtype         \n",
      "---  ------                --------------  -----         \n",
      " 0   Fire Name             1091 non-null   object        \n",
      " 1   Year                  1091 non-null   int64         \n",
      " 2   Fire_ID               1091 non-null   object        \n",
      " 3   Fire_SegID            1091 non-null   object        \n",
      " 4   Database              1091 non-null   object        \n",
      " 5   State                 1091 non-null   object        \n",
      " 6   UTM_Zone              1091 non-null   int64         \n",
      " 7   UTM_X                 1091 non-null   float64       \n",
      " 8   UTM_Y                 1091 non-null   float64       \n",
      " 9   Response              1091 non-null   int64         \n",
      " 10  StormDate             1091 non-null   object        \n",
      " 11  GaugeDist_m           1091 non-null   float64       \n",
      " 12  StormStart            1091 non-null   datetime64[ns]\n",
      " 13  StormEnd              1091 non-null   datetime64[ns]\n",
      " 14  StormDur_H            1091 non-null   float64       \n",
      " 15  StormAccum_mm         1091 non-null   float64       \n",
      " 16  StormAvgI_mm/h        1091 non-null   float64       \n",
      " 17  Peak_I15_mm/h         1091 non-null   float64       \n",
      " 18  Peak_I30_mm/h         1091 non-null   float64       \n",
      " 19  Peak_I60_mm/h         1091 non-null   float64       \n",
      " 20  ContributingArea_km2  1091 non-null   float64       \n",
      " 21  PropHM23              1091 non-null   float64       \n",
      " 22  dNBR/1000             1091 non-null   float64       \n",
      " 23  KF                    1091 non-null   float64       \n",
      " 24  Acc015_mm             1091 non-null   float64       \n",
      " 25  Acc030_mm             1091 non-null   float64       \n",
      " 26  Acc060_mm             1091 non-null   float64       \n",
      "dtypes: datetime64[ns](2), float64(16), int64(3), object(6)\n",
      "memory usage: 238.7+ KB\n"
     ]
    }
   ],
   "source": [
    "raw_data.info()"
   ]
  },
  {
   "cell_type": "markdown",
   "metadata": {},
   "source": [
    "### Explore numerical features\n",
    "- int64\n",
    "- float64"
   ]
  },
  {
   "cell_type": "code",
   "execution_count": 17,
   "metadata": {},
   "outputs": [
    {
     "name": "stdout",
     "output_type": "stream",
     "text": [
      "Numeric features: \n",
      " ['Year', 'UTM_Zone', 'UTM_X', 'UTM_Y', 'Response', 'GaugeDist_m', 'StormDur_H', 'StormAccum_mm', 'StormAvgI_mm/h', 'Peak_I15_mm/h', 'Peak_I30_mm/h', 'Peak_I60_mm/h', 'ContributingArea_km2', 'PropHM23', 'dNBR/1000', 'KF', 'Acc015_mm', 'Acc030_mm', 'Acc060_mm']\n"
     ]
    }
   ],
   "source": [
    "print(\"Numeric features: \\n\", list(raw_data.select_dtypes(include=['float64', 'int64'])))"
   ]
  },
  {
   "cell_type": "code",
   "execution_count": 18,
   "metadata": {},
   "outputs": [
    {
     "data": {
      "text/html": [
       "<div>\n",
       "<style scoped>\n",
       "    .dataframe tbody tr th:only-of-type {\n",
       "        vertical-align: middle;\n",
       "    }\n",
       "\n",
       "    .dataframe tbody tr th {\n",
       "        vertical-align: top;\n",
       "    }\n",
       "\n",
       "    .dataframe thead th {\n",
       "        text-align: right;\n",
       "    }\n",
       "</style>\n",
       "<table border=\"1\" class=\"dataframe\">\n",
       "  <thead>\n",
       "    <tr style=\"text-align: right;\">\n",
       "      <th></th>\n",
       "      <th>Year</th>\n",
       "      <th>UTM_Zone</th>\n",
       "      <th>UTM_X</th>\n",
       "      <th>UTM_Y</th>\n",
       "      <th>Response</th>\n",
       "      <th>GaugeDist_m</th>\n",
       "      <th>StormDur_H</th>\n",
       "      <th>StormAccum_mm</th>\n",
       "      <th>StormAvgI_mm/h</th>\n",
       "      <th>Peak_I15_mm/h</th>\n",
       "      <th>Peak_I30_mm/h</th>\n",
       "      <th>Peak_I60_mm/h</th>\n",
       "      <th>ContributingArea_km2</th>\n",
       "      <th>PropHM23</th>\n",
       "      <th>dNBR/1000</th>\n",
       "      <th>KF</th>\n",
       "      <th>Acc015_mm</th>\n",
       "      <th>Acc030_mm</th>\n",
       "      <th>Acc060_mm</th>\n",
       "    </tr>\n",
       "  </thead>\n",
       "  <tbody>\n",
       "    <tr>\n",
       "      <th>0</th>\n",
       "      <td>2007</td>\n",
       "      <td>11</td>\n",
       "      <td>368133.5165</td>\n",
       "      <td>3823231.989</td>\n",
       "      <td>0</td>\n",
       "      <td>1998.67</td>\n",
       "      <td>26.883</td>\n",
       "      <td>5.4</td>\n",
       "      <td>0.20</td>\n",
       "      <td>3.2</td>\n",
       "      <td>2.0</td>\n",
       "      <td>2.0</td>\n",
       "      <td>0.378767</td>\n",
       "      <td>0.217933</td>\n",
       "      <td>0.297853</td>\n",
       "      <td>0.250000</td>\n",
       "      <td>0.8</td>\n",
       "      <td>1.0</td>\n",
       "      <td>2.0</td>\n",
       "    </tr>\n",
       "    <tr>\n",
       "      <th>1</th>\n",
       "      <td>2007</td>\n",
       "      <td>11</td>\n",
       "      <td>367871.0165</td>\n",
       "      <td>3822984.489</td>\n",
       "      <td>0</td>\n",
       "      <td>2368.93</td>\n",
       "      <td>26.883</td>\n",
       "      <td>5.4</td>\n",
       "      <td>0.20</td>\n",
       "      <td>3.2</td>\n",
       "      <td>2.0</td>\n",
       "      <td>2.0</td>\n",
       "      <td>0.689615</td>\n",
       "      <td>0.061249</td>\n",
       "      <td>0.224896</td>\n",
       "      <td>0.250000</td>\n",
       "      <td>0.8</td>\n",
       "      <td>1.0</td>\n",
       "      <td>2.0</td>\n",
       "    </tr>\n",
       "    <tr>\n",
       "      <th>2</th>\n",
       "      <td>2007</td>\n",
       "      <td>11</td>\n",
       "      <td>367503.5165</td>\n",
       "      <td>3821741.989</td>\n",
       "      <td>0</td>\n",
       "      <td>3956.74</td>\n",
       "      <td>26.883</td>\n",
       "      <td>5.4</td>\n",
       "      <td>0.20</td>\n",
       "      <td>3.2</td>\n",
       "      <td>2.0</td>\n",
       "      <td>2.0</td>\n",
       "      <td>2.757312</td>\n",
       "      <td>0.042968</td>\n",
       "      <td>0.065537</td>\n",
       "      <td>0.248541</td>\n",
       "      <td>0.8</td>\n",
       "      <td>1.0</td>\n",
       "      <td>2.0</td>\n",
       "    </tr>\n",
       "    <tr>\n",
       "      <th>3</th>\n",
       "      <td>2007</td>\n",
       "      <td>11</td>\n",
       "      <td>371108.5165</td>\n",
       "      <td>3824991.989</td>\n",
       "      <td>0</td>\n",
       "      <td>1734.72</td>\n",
       "      <td>27.883</td>\n",
       "      <td>3.0</td>\n",
       "      <td>0.11</td>\n",
       "      <td>1.6</td>\n",
       "      <td>1.2</td>\n",
       "      <td>0.8</td>\n",
       "      <td>0.613415</td>\n",
       "      <td>0.092164</td>\n",
       "      <td>0.141711</td>\n",
       "      <td>0.250000</td>\n",
       "      <td>0.4</td>\n",
       "      <td>0.6</td>\n",
       "      <td>0.8</td>\n",
       "    </tr>\n",
       "    <tr>\n",
       "      <th>4</th>\n",
       "      <td>2007</td>\n",
       "      <td>11</td>\n",
       "      <td>370763.5165</td>\n",
       "      <td>3824576.989</td>\n",
       "      <td>0</td>\n",
       "      <td>1801.04</td>\n",
       "      <td>27.883</td>\n",
       "      <td>3.0</td>\n",
       "      <td>0.11</td>\n",
       "      <td>1.6</td>\n",
       "      <td>1.2</td>\n",
       "      <td>0.8</td>\n",
       "      <td>0.538875</td>\n",
       "      <td>0.058353</td>\n",
       "      <td>0.210158</td>\n",
       "      <td>0.250000</td>\n",
       "      <td>0.4</td>\n",
       "      <td>0.6</td>\n",
       "      <td>0.8</td>\n",
       "    </tr>\n",
       "  </tbody>\n",
       "</table>\n",
       "</div>"
      ],
      "text/plain": [
       "   Year  UTM_Zone        UTM_X        UTM_Y  Response  GaugeDist_m  \\\n",
       "0  2007        11  368133.5165  3823231.989         0      1998.67   \n",
       "1  2007        11  367871.0165  3822984.489         0      2368.93   \n",
       "2  2007        11  367503.5165  3821741.989         0      3956.74   \n",
       "3  2007        11  371108.5165  3824991.989         0      1734.72   \n",
       "4  2007        11  370763.5165  3824576.989         0      1801.04   \n",
       "\n",
       "   StormDur_H  StormAccum_mm  StormAvgI_mm/h  Peak_I15_mm/h  Peak_I30_mm/h  \\\n",
       "0      26.883            5.4            0.20            3.2            2.0   \n",
       "1      26.883            5.4            0.20            3.2            2.0   \n",
       "2      26.883            5.4            0.20            3.2            2.0   \n",
       "3      27.883            3.0            0.11            1.6            1.2   \n",
       "4      27.883            3.0            0.11            1.6            1.2   \n",
       "\n",
       "   Peak_I60_mm/h  ContributingArea_km2  PropHM23  dNBR/1000        KF  \\\n",
       "0            2.0              0.378767  0.217933   0.297853  0.250000   \n",
       "1            2.0              0.689615  0.061249   0.224896  0.250000   \n",
       "2            2.0              2.757312  0.042968   0.065537  0.248541   \n",
       "3            0.8              0.613415  0.092164   0.141711  0.250000   \n",
       "4            0.8              0.538875  0.058353   0.210158  0.250000   \n",
       "\n",
       "   Acc015_mm  Acc030_mm  Acc060_mm  \n",
       "0        0.8        1.0        2.0  \n",
       "1        0.8        1.0        2.0  \n",
       "2        0.8        1.0        2.0  \n",
       "3        0.4        0.6        0.8  \n",
       "4        0.4        0.6        0.8  "
      ]
     },
     "execution_count": 18,
     "metadata": {},
     "output_type": "execute_result"
    }
   ],
   "source": [
    "# Select only numerical features\n",
    "raw_data_num = raw_data.select_dtypes(include=['float64', 'int64'])\n",
    "raw_data_num.head()"
   ]
  },
  {
   "cell_type": "code",
   "execution_count": 19,
   "metadata": {},
   "outputs": [
    {
     "data": {
      "text/plain": [
       "0.3166489780417713"
      ]
     },
     "execution_count": 19,
     "metadata": {},
     "output_type": "execute_result"
    }
   ],
   "source": [
    "# Correlation between two features\n",
    "raw_data_num['Peak_I15_mm/h'].corr(raw_data_num['StormAccum_mm'])"
   ]
  },
  {
   "cell_type": "code",
   "execution_count": 20,
   "metadata": {},
   "outputs": [
    {
     "data": {
      "text/html": [
       "<div>\n",
       "<style scoped>\n",
       "    .dataframe tbody tr th:only-of-type {\n",
       "        vertical-align: middle;\n",
       "    }\n",
       "\n",
       "    .dataframe tbody tr th {\n",
       "        vertical-align: top;\n",
       "    }\n",
       "\n",
       "    .dataframe thead th {\n",
       "        text-align: right;\n",
       "    }\n",
       "</style>\n",
       "<table border=\"1\" class=\"dataframe\">\n",
       "  <thead>\n",
       "    <tr style=\"text-align: right;\">\n",
       "      <th></th>\n",
       "      <th>Year</th>\n",
       "      <th>UTM_Zone</th>\n",
       "      <th>UTM_X</th>\n",
       "      <th>UTM_Y</th>\n",
       "      <th>Response</th>\n",
       "      <th>GaugeDist_m</th>\n",
       "      <th>StormDur_H</th>\n",
       "      <th>StormAccum_mm</th>\n",
       "      <th>StormAvgI_mm/h</th>\n",
       "      <th>Peak_I15_mm/h</th>\n",
       "      <th>Peak_I30_mm/h</th>\n",
       "      <th>Peak_I60_mm/h</th>\n",
       "      <th>ContributingArea_km2</th>\n",
       "      <th>PropHM23</th>\n",
       "      <th>dNBR/1000</th>\n",
       "      <th>KF</th>\n",
       "      <th>Acc015_mm</th>\n",
       "      <th>Acc030_mm</th>\n",
       "      <th>Acc060_mm</th>\n",
       "    </tr>\n",
       "  </thead>\n",
       "  <tbody>\n",
       "    <tr>\n",
       "      <th>Year</th>\n",
       "      <td>1.000000</td>\n",
       "      <td>-0.278141</td>\n",
       "      <td>0.401585</td>\n",
       "      <td>-0.581323</td>\n",
       "      <td>-0.050530</td>\n",
       "      <td>0.052581</td>\n",
       "      <td>-0.050126</td>\n",
       "      <td>0.003934</td>\n",
       "      <td>0.332667</td>\n",
       "      <td>0.178665</td>\n",
       "      <td>0.227855</td>\n",
       "      <td>0.218804</td>\n",
       "      <td>-0.023690</td>\n",
       "      <td>0.106284</td>\n",
       "      <td>-0.324194</td>\n",
       "      <td>0.053745</td>\n",
       "      <td>0.178665</td>\n",
       "      <td>0.227855</td>\n",
       "      <td>0.218804</td>\n",
       "    </tr>\n",
       "    <tr>\n",
       "      <th>UTM_Zone</th>\n",
       "      <td>-0.278141</td>\n",
       "      <td>1.000000</td>\n",
       "      <td>-0.327162</td>\n",
       "      <td>0.754375</td>\n",
       "      <td>0.000943</td>\n",
       "      <td>0.034870</td>\n",
       "      <td>-0.378334</td>\n",
       "      <td>-0.425407</td>\n",
       "      <td>0.212429</td>\n",
       "      <td>0.244298</td>\n",
       "      <td>0.144331</td>\n",
       "      <td>-0.021797</td>\n",
       "      <td>0.060838</td>\n",
       "      <td>0.048528</td>\n",
       "      <td>0.541307</td>\n",
       "      <td>0.131749</td>\n",
       "      <td>0.244298</td>\n",
       "      <td>0.144331</td>\n",
       "      <td>-0.021797</td>\n",
       "    </tr>\n",
       "    <tr>\n",
       "      <th>UTM_X</th>\n",
       "      <td>0.401585</td>\n",
       "      <td>-0.327162</td>\n",
       "      <td>1.000000</td>\n",
       "      <td>-0.601802</td>\n",
       "      <td>0.144857</td>\n",
       "      <td>0.053125</td>\n",
       "      <td>0.029373</td>\n",
       "      <td>0.291715</td>\n",
       "      <td>0.268173</td>\n",
       "      <td>0.182113</td>\n",
       "      <td>0.229793</td>\n",
       "      <td>0.261323</td>\n",
       "      <td>0.089072</td>\n",
       "      <td>-0.191481</td>\n",
       "      <td>-0.227440</td>\n",
       "      <td>-0.039031</td>\n",
       "      <td>0.182113</td>\n",
       "      <td>0.229793</td>\n",
       "      <td>0.261323</td>\n",
       "    </tr>\n",
       "    <tr>\n",
       "      <th>UTM_Y</th>\n",
       "      <td>-0.581323</td>\n",
       "      <td>0.754375</td>\n",
       "      <td>-0.601802</td>\n",
       "      <td>1.000000</td>\n",
       "      <td>-0.110885</td>\n",
       "      <td>-0.021084</td>\n",
       "      <td>-0.142143</td>\n",
       "      <td>-0.359135</td>\n",
       "      <td>-0.222048</td>\n",
       "      <td>-0.053312</td>\n",
       "      <td>-0.152817</td>\n",
       "      <td>-0.252904</td>\n",
       "      <td>-0.077235</td>\n",
       "      <td>0.098732</td>\n",
       "      <td>0.472278</td>\n",
       "      <td>0.004805</td>\n",
       "      <td>-0.053312</td>\n",
       "      <td>-0.152817</td>\n",
       "      <td>-0.252904</td>\n",
       "    </tr>\n",
       "    <tr>\n",
       "      <th>Response</th>\n",
       "      <td>-0.050530</td>\n",
       "      <td>0.000943</td>\n",
       "      <td>0.144857</td>\n",
       "      <td>-0.110885</td>\n",
       "      <td>1.000000</td>\n",
       "      <td>-0.152155</td>\n",
       "      <td>0.051819</td>\n",
       "      <td>0.412983</td>\n",
       "      <td>0.216924</td>\n",
       "      <td>0.358184</td>\n",
       "      <td>0.390359</td>\n",
       "      <td>0.412289</td>\n",
       "      <td>0.066287</td>\n",
       "      <td>0.196901</td>\n",
       "      <td>0.071980</td>\n",
       "      <td>0.099690</td>\n",
       "      <td>0.358184</td>\n",
       "      <td>0.390359</td>\n",
       "      <td>0.412289</td>\n",
       "    </tr>\n",
       "    <tr>\n",
       "      <th>GaugeDist_m</th>\n",
       "      <td>0.052581</td>\n",
       "      <td>0.034870</td>\n",
       "      <td>0.053125</td>\n",
       "      <td>-0.021084</td>\n",
       "      <td>-0.152155</td>\n",
       "      <td>1.000000</td>\n",
       "      <td>0.082724</td>\n",
       "      <td>-0.013877</td>\n",
       "      <td>-0.021201</td>\n",
       "      <td>-0.058143</td>\n",
       "      <td>-0.075425</td>\n",
       "      <td>-0.086671</td>\n",
       "      <td>0.162384</td>\n",
       "      <td>-0.152643</td>\n",
       "      <td>0.029552</td>\n",
       "      <td>-0.063718</td>\n",
       "      <td>-0.058143</td>\n",
       "      <td>-0.075425</td>\n",
       "      <td>-0.086671</td>\n",
       "    </tr>\n",
       "    <tr>\n",
       "      <th>StormDur_H</th>\n",
       "      <td>-0.050126</td>\n",
       "      <td>-0.378334</td>\n",
       "      <td>0.029373</td>\n",
       "      <td>-0.142143</td>\n",
       "      <td>0.051819</td>\n",
       "      <td>0.082724</td>\n",
       "      <td>1.000000</td>\n",
       "      <td>0.525476</td>\n",
       "      <td>-0.398418</td>\n",
       "      <td>-0.225293</td>\n",
       "      <td>-0.197866</td>\n",
       "      <td>-0.137207</td>\n",
       "      <td>-0.072717</td>\n",
       "      <td>0.011881</td>\n",
       "      <td>-0.203461</td>\n",
       "      <td>-0.063234</td>\n",
       "      <td>-0.225293</td>\n",
       "      <td>-0.197866</td>\n",
       "      <td>-0.137207</td>\n",
       "    </tr>\n",
       "    <tr>\n",
       "      <th>StormAccum_mm</th>\n",
       "      <td>0.003934</td>\n",
       "      <td>-0.425407</td>\n",
       "      <td>0.291715</td>\n",
       "      <td>-0.359135</td>\n",
       "      <td>0.412983</td>\n",
       "      <td>-0.013877</td>\n",
       "      <td>0.525476</td>\n",
       "      <td>1.000000</td>\n",
       "      <td>0.123030</td>\n",
       "      <td>0.316649</td>\n",
       "      <td>0.404410</td>\n",
       "      <td>0.545738</td>\n",
       "      <td>0.023487</td>\n",
       "      <td>0.014033</td>\n",
       "      <td>-0.131116</td>\n",
       "      <td>-0.033428</td>\n",
       "      <td>0.316649</td>\n",
       "      <td>0.404410</td>\n",
       "      <td>0.545738</td>\n",
       "    </tr>\n",
       "    <tr>\n",
       "      <th>StormAvgI_mm/h</th>\n",
       "      <td>0.332667</td>\n",
       "      <td>0.212429</td>\n",
       "      <td>0.268173</td>\n",
       "      <td>-0.222048</td>\n",
       "      <td>0.216924</td>\n",
       "      <td>-0.021201</td>\n",
       "      <td>-0.398418</td>\n",
       "      <td>0.123030</td>\n",
       "      <td>1.000000</td>\n",
       "      <td>0.704620</td>\n",
       "      <td>0.767450</td>\n",
       "      <td>0.735473</td>\n",
       "      <td>0.085566</td>\n",
       "      <td>0.003126</td>\n",
       "      <td>0.142372</td>\n",
       "      <td>0.113354</td>\n",
       "      <td>0.704620</td>\n",
       "      <td>0.767450</td>\n",
       "      <td>0.735473</td>\n",
       "    </tr>\n",
       "    <tr>\n",
       "      <th>Peak_I15_mm/h</th>\n",
       "      <td>0.178665</td>\n",
       "      <td>0.244298</td>\n",
       "      <td>0.182113</td>\n",
       "      <td>-0.053312</td>\n",
       "      <td>0.358184</td>\n",
       "      <td>-0.058143</td>\n",
       "      <td>-0.225293</td>\n",
       "      <td>0.316649</td>\n",
       "      <td>0.704620</td>\n",
       "      <td>1.000000</td>\n",
       "      <td>0.966434</td>\n",
       "      <td>0.873706</td>\n",
       "      <td>0.106825</td>\n",
       "      <td>0.028732</td>\n",
       "      <td>0.111879</td>\n",
       "      <td>0.109527</td>\n",
       "      <td>1.000000</td>\n",
       "      <td>0.966434</td>\n",
       "      <td>0.873706</td>\n",
       "    </tr>\n",
       "    <tr>\n",
       "      <th>Peak_I30_mm/h</th>\n",
       "      <td>0.227855</td>\n",
       "      <td>0.144331</td>\n",
       "      <td>0.229793</td>\n",
       "      <td>-0.152817</td>\n",
       "      <td>0.390359</td>\n",
       "      <td>-0.075425</td>\n",
       "      <td>-0.197866</td>\n",
       "      <td>0.404410</td>\n",
       "      <td>0.767450</td>\n",
       "      <td>0.966434</td>\n",
       "      <td>1.000000</td>\n",
       "      <td>0.953533</td>\n",
       "      <td>0.096315</td>\n",
       "      <td>0.032971</td>\n",
       "      <td>0.063991</td>\n",
       "      <td>0.103896</td>\n",
       "      <td>0.966434</td>\n",
       "      <td>1.000000</td>\n",
       "      <td>0.953533</td>\n",
       "    </tr>\n",
       "    <tr>\n",
       "      <th>Peak_I60_mm/h</th>\n",
       "      <td>0.218804</td>\n",
       "      <td>-0.021797</td>\n",
       "      <td>0.261323</td>\n",
       "      <td>-0.252904</td>\n",
       "      <td>0.412289</td>\n",
       "      <td>-0.086671</td>\n",
       "      <td>-0.137207</td>\n",
       "      <td>0.545738</td>\n",
       "      <td>0.735473</td>\n",
       "      <td>0.873706</td>\n",
       "      <td>0.953533</td>\n",
       "      <td>1.000000</td>\n",
       "      <td>0.065450</td>\n",
       "      <td>0.034731</td>\n",
       "      <td>0.001234</td>\n",
       "      <td>0.067538</td>\n",
       "      <td>0.873706</td>\n",
       "      <td>0.953533</td>\n",
       "      <td>1.000000</td>\n",
       "    </tr>\n",
       "    <tr>\n",
       "      <th>ContributingArea_km2</th>\n",
       "      <td>-0.023690</td>\n",
       "      <td>0.060838</td>\n",
       "      <td>0.089072</td>\n",
       "      <td>-0.077235</td>\n",
       "      <td>0.066287</td>\n",
       "      <td>0.162384</td>\n",
       "      <td>-0.072717</td>\n",
       "      <td>0.023487</td>\n",
       "      <td>0.085566</td>\n",
       "      <td>0.106825</td>\n",
       "      <td>0.096315</td>\n",
       "      <td>0.065450</td>\n",
       "      <td>1.000000</td>\n",
       "      <td>-0.195646</td>\n",
       "      <td>-0.015980</td>\n",
       "      <td>0.118843</td>\n",
       "      <td>0.106825</td>\n",
       "      <td>0.096315</td>\n",
       "      <td>0.065450</td>\n",
       "    </tr>\n",
       "    <tr>\n",
       "      <th>PropHM23</th>\n",
       "      <td>0.106284</td>\n",
       "      <td>0.048528</td>\n",
       "      <td>-0.191481</td>\n",
       "      <td>0.098732</td>\n",
       "      <td>0.196901</td>\n",
       "      <td>-0.152643</td>\n",
       "      <td>0.011881</td>\n",
       "      <td>0.014033</td>\n",
       "      <td>0.003126</td>\n",
       "      <td>0.028732</td>\n",
       "      <td>0.032971</td>\n",
       "      <td>0.034731</td>\n",
       "      <td>-0.195646</td>\n",
       "      <td>1.000000</td>\n",
       "      <td>0.395728</td>\n",
       "      <td>0.016039</td>\n",
       "      <td>0.028732</td>\n",
       "      <td>0.032971</td>\n",
       "      <td>0.034731</td>\n",
       "    </tr>\n",
       "    <tr>\n",
       "      <th>dNBR/1000</th>\n",
       "      <td>-0.324194</td>\n",
       "      <td>0.541307</td>\n",
       "      <td>-0.227440</td>\n",
       "      <td>0.472278</td>\n",
       "      <td>0.071980</td>\n",
       "      <td>0.029552</td>\n",
       "      <td>-0.203461</td>\n",
       "      <td>-0.131116</td>\n",
       "      <td>0.142372</td>\n",
       "      <td>0.111879</td>\n",
       "      <td>0.063991</td>\n",
       "      <td>0.001234</td>\n",
       "      <td>-0.015980</td>\n",
       "      <td>0.395728</td>\n",
       "      <td>1.000000</td>\n",
       "      <td>0.055051</td>\n",
       "      <td>0.111879</td>\n",
       "      <td>0.063991</td>\n",
       "      <td>0.001234</td>\n",
       "    </tr>\n",
       "    <tr>\n",
       "      <th>KF</th>\n",
       "      <td>0.053745</td>\n",
       "      <td>0.131749</td>\n",
       "      <td>-0.039031</td>\n",
       "      <td>0.004805</td>\n",
       "      <td>0.099690</td>\n",
       "      <td>-0.063718</td>\n",
       "      <td>-0.063234</td>\n",
       "      <td>-0.033428</td>\n",
       "      <td>0.113354</td>\n",
       "      <td>0.109527</td>\n",
       "      <td>0.103896</td>\n",
       "      <td>0.067538</td>\n",
       "      <td>0.118843</td>\n",
       "      <td>0.016039</td>\n",
       "      <td>0.055051</td>\n",
       "      <td>1.000000</td>\n",
       "      <td>0.109527</td>\n",
       "      <td>0.103896</td>\n",
       "      <td>0.067538</td>\n",
       "    </tr>\n",
       "    <tr>\n",
       "      <th>Acc015_mm</th>\n",
       "      <td>0.178665</td>\n",
       "      <td>0.244298</td>\n",
       "      <td>0.182113</td>\n",
       "      <td>-0.053312</td>\n",
       "      <td>0.358184</td>\n",
       "      <td>-0.058143</td>\n",
       "      <td>-0.225293</td>\n",
       "      <td>0.316649</td>\n",
       "      <td>0.704620</td>\n",
       "      <td>1.000000</td>\n",
       "      <td>0.966434</td>\n",
       "      <td>0.873706</td>\n",
       "      <td>0.106825</td>\n",
       "      <td>0.028732</td>\n",
       "      <td>0.111879</td>\n",
       "      <td>0.109527</td>\n",
       "      <td>1.000000</td>\n",
       "      <td>0.966434</td>\n",
       "      <td>0.873706</td>\n",
       "    </tr>\n",
       "    <tr>\n",
       "      <th>Acc030_mm</th>\n",
       "      <td>0.227855</td>\n",
       "      <td>0.144331</td>\n",
       "      <td>0.229793</td>\n",
       "      <td>-0.152817</td>\n",
       "      <td>0.390359</td>\n",
       "      <td>-0.075425</td>\n",
       "      <td>-0.197866</td>\n",
       "      <td>0.404410</td>\n",
       "      <td>0.767450</td>\n",
       "      <td>0.966434</td>\n",
       "      <td>1.000000</td>\n",
       "      <td>0.953533</td>\n",
       "      <td>0.096315</td>\n",
       "      <td>0.032971</td>\n",
       "      <td>0.063991</td>\n",
       "      <td>0.103896</td>\n",
       "      <td>0.966434</td>\n",
       "      <td>1.000000</td>\n",
       "      <td>0.953533</td>\n",
       "    </tr>\n",
       "    <tr>\n",
       "      <th>Acc060_mm</th>\n",
       "      <td>0.218804</td>\n",
       "      <td>-0.021797</td>\n",
       "      <td>0.261323</td>\n",
       "      <td>-0.252904</td>\n",
       "      <td>0.412289</td>\n",
       "      <td>-0.086671</td>\n",
       "      <td>-0.137207</td>\n",
       "      <td>0.545738</td>\n",
       "      <td>0.735473</td>\n",
       "      <td>0.873706</td>\n",
       "      <td>0.953533</td>\n",
       "      <td>1.000000</td>\n",
       "      <td>0.065450</td>\n",
       "      <td>0.034731</td>\n",
       "      <td>0.001234</td>\n",
       "      <td>0.067538</td>\n",
       "      <td>0.873706</td>\n",
       "      <td>0.953533</td>\n",
       "      <td>1.000000</td>\n",
       "    </tr>\n",
       "  </tbody>\n",
       "</table>\n",
       "</div>"
      ],
      "text/plain": [
       "                          Year  UTM_Zone     UTM_X     UTM_Y  Response  \\\n",
       "Year                  1.000000 -0.278141  0.401585 -0.581323 -0.050530   \n",
       "UTM_Zone             -0.278141  1.000000 -0.327162  0.754375  0.000943   \n",
       "UTM_X                 0.401585 -0.327162  1.000000 -0.601802  0.144857   \n",
       "UTM_Y                -0.581323  0.754375 -0.601802  1.000000 -0.110885   \n",
       "Response             -0.050530  0.000943  0.144857 -0.110885  1.000000   \n",
       "GaugeDist_m           0.052581  0.034870  0.053125 -0.021084 -0.152155   \n",
       "StormDur_H           -0.050126 -0.378334  0.029373 -0.142143  0.051819   \n",
       "StormAccum_mm         0.003934 -0.425407  0.291715 -0.359135  0.412983   \n",
       "StormAvgI_mm/h        0.332667  0.212429  0.268173 -0.222048  0.216924   \n",
       "Peak_I15_mm/h         0.178665  0.244298  0.182113 -0.053312  0.358184   \n",
       "Peak_I30_mm/h         0.227855  0.144331  0.229793 -0.152817  0.390359   \n",
       "Peak_I60_mm/h         0.218804 -0.021797  0.261323 -0.252904  0.412289   \n",
       "ContributingArea_km2 -0.023690  0.060838  0.089072 -0.077235  0.066287   \n",
       "PropHM23              0.106284  0.048528 -0.191481  0.098732  0.196901   \n",
       "dNBR/1000            -0.324194  0.541307 -0.227440  0.472278  0.071980   \n",
       "KF                    0.053745  0.131749 -0.039031  0.004805  0.099690   \n",
       "Acc015_mm             0.178665  0.244298  0.182113 -0.053312  0.358184   \n",
       "Acc030_mm             0.227855  0.144331  0.229793 -0.152817  0.390359   \n",
       "Acc060_mm             0.218804 -0.021797  0.261323 -0.252904  0.412289   \n",
       "\n",
       "                      GaugeDist_m  StormDur_H  StormAccum_mm  StormAvgI_mm/h  \\\n",
       "Year                     0.052581   -0.050126       0.003934        0.332667   \n",
       "UTM_Zone                 0.034870   -0.378334      -0.425407        0.212429   \n",
       "UTM_X                    0.053125    0.029373       0.291715        0.268173   \n",
       "UTM_Y                   -0.021084   -0.142143      -0.359135       -0.222048   \n",
       "Response                -0.152155    0.051819       0.412983        0.216924   \n",
       "GaugeDist_m              1.000000    0.082724      -0.013877       -0.021201   \n",
       "StormDur_H               0.082724    1.000000       0.525476       -0.398418   \n",
       "StormAccum_mm           -0.013877    0.525476       1.000000        0.123030   \n",
       "StormAvgI_mm/h          -0.021201   -0.398418       0.123030        1.000000   \n",
       "Peak_I15_mm/h           -0.058143   -0.225293       0.316649        0.704620   \n",
       "Peak_I30_mm/h           -0.075425   -0.197866       0.404410        0.767450   \n",
       "Peak_I60_mm/h           -0.086671   -0.137207       0.545738        0.735473   \n",
       "ContributingArea_km2     0.162384   -0.072717       0.023487        0.085566   \n",
       "PropHM23                -0.152643    0.011881       0.014033        0.003126   \n",
       "dNBR/1000                0.029552   -0.203461      -0.131116        0.142372   \n",
       "KF                      -0.063718   -0.063234      -0.033428        0.113354   \n",
       "Acc015_mm               -0.058143   -0.225293       0.316649        0.704620   \n",
       "Acc030_mm               -0.075425   -0.197866       0.404410        0.767450   \n",
       "Acc060_mm               -0.086671   -0.137207       0.545738        0.735473   \n",
       "\n",
       "                      Peak_I15_mm/h  Peak_I30_mm/h  Peak_I60_mm/h  \\\n",
       "Year                       0.178665       0.227855       0.218804   \n",
       "UTM_Zone                   0.244298       0.144331      -0.021797   \n",
       "UTM_X                      0.182113       0.229793       0.261323   \n",
       "UTM_Y                     -0.053312      -0.152817      -0.252904   \n",
       "Response                   0.358184       0.390359       0.412289   \n",
       "GaugeDist_m               -0.058143      -0.075425      -0.086671   \n",
       "StormDur_H                -0.225293      -0.197866      -0.137207   \n",
       "StormAccum_mm              0.316649       0.404410       0.545738   \n",
       "StormAvgI_mm/h             0.704620       0.767450       0.735473   \n",
       "Peak_I15_mm/h              1.000000       0.966434       0.873706   \n",
       "Peak_I30_mm/h              0.966434       1.000000       0.953533   \n",
       "Peak_I60_mm/h              0.873706       0.953533       1.000000   \n",
       "ContributingArea_km2       0.106825       0.096315       0.065450   \n",
       "PropHM23                   0.028732       0.032971       0.034731   \n",
       "dNBR/1000                  0.111879       0.063991       0.001234   \n",
       "KF                         0.109527       0.103896       0.067538   \n",
       "Acc015_mm                  1.000000       0.966434       0.873706   \n",
       "Acc030_mm                  0.966434       1.000000       0.953533   \n",
       "Acc060_mm                  0.873706       0.953533       1.000000   \n",
       "\n",
       "                      ContributingArea_km2  PropHM23  dNBR/1000        KF  \\\n",
       "Year                             -0.023690  0.106284  -0.324194  0.053745   \n",
       "UTM_Zone                          0.060838  0.048528   0.541307  0.131749   \n",
       "UTM_X                             0.089072 -0.191481  -0.227440 -0.039031   \n",
       "UTM_Y                            -0.077235  0.098732   0.472278  0.004805   \n",
       "Response                          0.066287  0.196901   0.071980  0.099690   \n",
       "GaugeDist_m                       0.162384 -0.152643   0.029552 -0.063718   \n",
       "StormDur_H                       -0.072717  0.011881  -0.203461 -0.063234   \n",
       "StormAccum_mm                     0.023487  0.014033  -0.131116 -0.033428   \n",
       "StormAvgI_mm/h                    0.085566  0.003126   0.142372  0.113354   \n",
       "Peak_I15_mm/h                     0.106825  0.028732   0.111879  0.109527   \n",
       "Peak_I30_mm/h                     0.096315  0.032971   0.063991  0.103896   \n",
       "Peak_I60_mm/h                     0.065450  0.034731   0.001234  0.067538   \n",
       "ContributingArea_km2              1.000000 -0.195646  -0.015980  0.118843   \n",
       "PropHM23                         -0.195646  1.000000   0.395728  0.016039   \n",
       "dNBR/1000                        -0.015980  0.395728   1.000000  0.055051   \n",
       "KF                                0.118843  0.016039   0.055051  1.000000   \n",
       "Acc015_mm                         0.106825  0.028732   0.111879  0.109527   \n",
       "Acc030_mm                         0.096315  0.032971   0.063991  0.103896   \n",
       "Acc060_mm                         0.065450  0.034731   0.001234  0.067538   \n",
       "\n",
       "                      Acc015_mm  Acc030_mm  Acc060_mm  \n",
       "Year                   0.178665   0.227855   0.218804  \n",
       "UTM_Zone               0.244298   0.144331  -0.021797  \n",
       "UTM_X                  0.182113   0.229793   0.261323  \n",
       "UTM_Y                 -0.053312  -0.152817  -0.252904  \n",
       "Response               0.358184   0.390359   0.412289  \n",
       "GaugeDist_m           -0.058143  -0.075425  -0.086671  \n",
       "StormDur_H            -0.225293  -0.197866  -0.137207  \n",
       "StormAccum_mm          0.316649   0.404410   0.545738  \n",
       "StormAvgI_mm/h         0.704620   0.767450   0.735473  \n",
       "Peak_I15_mm/h          1.000000   0.966434   0.873706  \n",
       "Peak_I30_mm/h          0.966434   1.000000   0.953533  \n",
       "Peak_I60_mm/h          0.873706   0.953533   1.000000  \n",
       "ContributingArea_km2   0.106825   0.096315   0.065450  \n",
       "PropHM23               0.028732   0.032971   0.034731  \n",
       "dNBR/1000              0.111879   0.063991   0.001234  \n",
       "KF                     0.109527   0.103896   0.067538  \n",
       "Acc015_mm              1.000000   0.966434   0.873706  \n",
       "Acc030_mm              0.966434   1.000000   0.953533  \n",
       "Acc060_mm              0.873706   0.953533   1.000000  "
      ]
     },
     "execution_count": 20,
     "metadata": {},
     "output_type": "execute_result"
    }
   ],
   "source": [
    "# Pair-wise correlation\n",
    "raw_data_num.corr()"
   ]
  },
  {
   "cell_type": "markdown",
   "metadata": {},
   "source": [
    "### Explore categorical features"
   ]
  },
  {
   "cell_type": "code",
   "execution_count": 21,
   "metadata": {},
   "outputs": [
    {
     "name": "stdout",
     "output_type": "stream",
     "text": [
      "Values for  Peak_I15_mm/h \n",
      " [1.6, 2.4, 3.05, 3.2, 4.0, 4.06, 4.8, 5.08, 5.6, 6.096, 6.1, 6.4, 7.11, 7.2, 8.0, 8.128, 8.13, 8.8, 9.14, 9.143999, 9.6, 10.16, 10.4, 11.176, 11.18, 11.2, 12.0, 12.19, 12.192, 12.8, 13.208, 13.21, 13.5, 13.6, 14.0, 14.22, 14.4, 15.2, 15.24, 16.0, 16.256, 16.8, 17.27, 17.6, 18.29, 18.4, 19.2, 19.3, 19.304, 20.0, 20.32, 20.8, 21.336, 21.34, 21.6, 22.35, 22.352, 22.4, 23.2, 23.37, 24.0, 24.384, 24.8, 25.4, 26.416, 26.42, 27.2, 27.43, 27.432, 28.448, 30.48, 32.0, 32.512, 33.53, 34.54, 35.0, 35.2, 35.56, 36.0, 36.58, 36.8, 37.0, 41.6, 42.67, 43.0, 43.2, 43.688, 44.0, 46.74, 47.2, 48.0, 49.78, 51.816, 54.86, 55.0, 55.88, 56.0, 63.0, 64.0, 64.008, 68.8, 77.6, 80.0, 81.28, 88.392, 92.0, 103.632]\n"
     ]
    }
   ],
   "source": [
    "# Print values (i.e., categories) for categorical feature\n",
    "feature = \"Peak_I15_mm/h\"\n",
    "raw_data[feature] = raw_data[feature].astype('category')\n",
    "print(\"Values for \", feature, \"\\n\", list(raw_data[feature].cat.categories))"
   ]
  },
  {
   "cell_type": "code",
   "execution_count": 22,
   "metadata": {
    "scrolled": true
   },
   "outputs": [
    {
     "data": {
      "text/plain": [
       "11.2      62\n",
       "8.0       43\n",
       "18.4      37\n",
       "16.0      37\n",
       "5.6       34\n",
       "          ..\n",
       "43.688     1\n",
       "8.128      1\n",
       "6.096      1\n",
       "11.176     1\n",
       "26.416     1\n",
       "Name: Peak_I15_mm/h, Length: 107, dtype: int64"
      ]
     },
     "execution_count": 22,
     "metadata": {},
     "output_type": "execute_result"
    }
   ],
   "source": [
    "# Get counts of unique values\n",
    "raw_data[feature].value_counts()"
   ]
  },
  {
   "cell_type": "code",
   "execution_count": 23,
   "metadata": {},
   "outputs": [
    {
     "data": {
      "text/plain": [
       "11.2      0.0568\n",
       "8.0       0.0394\n",
       "18.4      0.0339\n",
       "16.0      0.0339\n",
       "5.6       0.0312\n",
       "           ...  \n",
       "43.688    0.0009\n",
       "8.128     0.0009\n",
       "6.096     0.0009\n",
       "11.176    0.0009\n",
       "26.416    0.0009\n",
       "Name: Peak_I15_mm/h, Length: 107, dtype: float64"
      ]
     },
     "execution_count": 23,
     "metadata": {},
     "output_type": "execute_result"
    }
   ],
   "source": [
    "# Get frequency of unique values\n",
    "(raw_data[feature].value_counts() / sum(raw_data[feature].value_counts())).round(4)"
   ]
  },
  {
   "cell_type": "markdown",
   "metadata": {},
   "source": [
    "# Data Visualization"
   ]
  },
  {
   "cell_type": "markdown",
   "metadata": {},
   "source": [
    "## Histogram"
   ]
  },
  {
   "cell_type": "code",
   "execution_count": 24,
   "metadata": {
    "scrolled": true
   },
   "outputs": [
    {
     "data": {
      "text/plain": [
       "count     1091.0\n",
       "unique     107.0\n",
       "top         11.2\n",
       "freq        62.0\n",
       "Name: Peak_I15_mm/h, dtype: float64"
      ]
     },
     "execution_count": 24,
     "metadata": {},
     "output_type": "execute_result"
    }
   ],
   "source": [
    "raw_data['Peak_I15_mm/h'].describe()"
   ]
  },
  {
   "cell_type": "markdown",
   "metadata": {},
   "source": [
    "### Using matplotlib"
   ]
  },
  {
   "cell_type": "code",
   "execution_count": 25,
   "metadata": {},
   "outputs": [
    {
     "data": {
      "image/png": "[encoded data removed]",
      "text/plain": [
       "<Figure size 432x288 with 1 Axes>"
      ]
     },
     "metadata": {
      "needs_background": "light"
     },
     "output_type": "display_data"
    }
   ],
   "source": [
    "plt.hist(raw_data['Peak_I15_mm/h'], bins=10)\n",
    "plt.title(\"Peak_I15_mm/h\")\n",
    "plt.xlabel(\"x\")\n",
    "plt.ylabel(\"y\")\n",
    "plt.show()"
   ]
  },
  {
   "cell_type": "markdown",
   "metadata": {},
   "source": [
    "### Using pandas (with matplotlib as backend)"
   ]
  },
  {
   "cell_type": "code",
   "execution_count": 26,
   "metadata": {},
   "outputs": [],
   "source": [
    "# raw_data['Peak_I15_mm/h'].plot.hist()\n",
    "# plt.title(\"Histogram of Peak_I15_mm/h\")\n",
    "# plt.xlabel(\"x\")\n",
    "# plt.ylabel(\"y\")\n",
    "# plt.show()"
   ]
  },
  {
   "cell_type": "markdown",
   "metadata": {},
   "source": [
    "## Density Plot"
   ]
  },
  {
   "cell_type": "markdown",
   "metadata": {},
   "source": [
    "### Using pandas/matplotlib"
   ]
  },
  {
   "cell_type": "code",
   "execution_count": null,
   "metadata": {},
   "outputs": [],
   "source": []
  },
  {
   "cell_type": "markdown",
   "metadata": {},
   "source": [
    "### Using seaborn"
   ]
  },
  {
   "cell_type": "code",
   "execution_count": 27,
   "metadata": {},
   "outputs": [
    {
     "data": {
      "image/png": "[encoded data removed]",
      "text/plain": [
       "<Figure size 432x288 with 1 Axes>"
      ]
     },
     "metadata": {
      "needs_background": "light"
     },
     "output_type": "display_data"
    }
   ],
   "source": [
    "sns.histplot(raw_data['Peak_I15_mm/h'], kde=True, bins=30)\n",
    "plt.title(\"Peak_I15_mm/h\")\n",
    "plt.xlabel(\"x\")\n",
    "plt.ylabel(\"y\")\n",
    "plt.show()"
   ]
  },
  {
   "cell_type": "markdown",
   "metadata": {},
   "source": [
    "## Bar plots for categorical features"
   ]
  },
  {
   "cell_type": "markdown",
   "metadata": {},
   "source": [
    "### Using matplotlib"
   ]
  },
  {
   "cell_type": "code",
   "execution_count": 28,
   "metadata": {},
   "outputs": [
    {
     "name": "stderr",
     "output_type": "stream",
     "text": [
      "/Users/ah/opt/anaconda3/lib/python3.9/site-packages/IPython/lib/pretty.py:778: FutureWarning: Index.ravel returning ndarray is deprecated; in a future version this will return a view on self.\n",
      "  output = repr(obj)\n"
     ]
    },
    {
     "data": {
      "text/plain": [
       "[3.20, 1.60, 9.14, 7.11, 4.00, ..., 68.800, 17.270, 64.008, 103.632, 63.000]\n",
       "Length: 107\n",
       "Categories (107, float64): [1.60, 2.40, 3.05, 3.20, ..., 81.280, 88.392, 92.000, 103.632]"
      ]
     },
     "execution_count": 28,
     "metadata": {},
     "output_type": "execute_result"
    }
   ],
   "source": [
    "raw_data['Peak_I15_mm/h'].unique()"
   ]
  },
  {
   "cell_type": "code",
   "execution_count": null,
   "metadata": {},
   "outputs": [],
   "source": []
  },
  {
   "cell_type": "code",
   "execution_count": null,
   "metadata": {},
   "outputs": [],
   "source": []
  },
  {
   "cell_type": "markdown",
   "metadata": {},
   "source": [
    "### Using Seaborne"
   ]
  },
  {
   "cell_type": "code",
   "execution_count": null,
   "metadata": {},
   "outputs": [],
   "source": []
  },
  {
   "cell_type": "markdown",
   "metadata": {},
   "source": [
    "## Scatter Plot"
   ]
  },
  {
   "cell_type": "code",
   "execution_count": 29,
   "metadata": {},
   "outputs": [
    {
     "data": {
      "image/png": "[encoded data removed]",
      "text/plain": [
       "<Figure size 432x288 with 1 Axes>"
      ]
     },
     "metadata": {
      "needs_background": "light"
     },
     "output_type": "display_data"
    }
   ],
   "source": [
    "plt.scatter(x=raw_data['GaugeDist_m'], y=raw_data['Peak_I15_mm/h'])\n",
    "plt.title('GaugeDist_m vs. Peak_I15_mm/h')\n",
    "plt.xlabel('GaugeDist_m')\n",
    "plt.ylabel('Peak_I15_mm/h')\n",
    "plt.show()"
   ]
  },
  {
   "cell_type": "code",
   "execution_count": 30,
   "metadata": {},
   "outputs": [
    {
     "data": {
      "image/png": "[encoded data removed]",
      "text/plain": [
       "<Figure size 432x288 with 1 Axes>"
      ]
     },
     "metadata": {
      "needs_background": "light"
     },
     "output_type": "display_data"
    }
   ],
   "source": [
    "sns.scatterplot(x='GaugeDist_m', y='Peak_I15_mm/h', data=raw_data)\n",
    "plt.show()"
   ]
  },
  {
   "cell_type": "code",
   "execution_count": 31,
   "metadata": {},
   "outputs": [
    {
     "data": {
      "image/png": "[encoded data removed]",
      "text/plain": [
       "<Figure size 432x288 with 1 Axes>"
      ]
     },
     "metadata": {
      "needs_background": "light"
     },
     "output_type": "display_data"
    }
   ],
   "source": [
    "sns.regplot(x='GaugeDist_m', y='Peak_I15_mm/h', data=raw_data, marker='+')\n",
    "plt.show()"
   ]
  },
  {
   "cell_type": "markdown",
   "metadata": {},
   "source": [
    "## Line Plot"
   ]
  },
  {
   "cell_type": "code",
   "execution_count": 32,
   "metadata": {},
   "outputs": [
    {
     "data": {
      "image/png": "[encoded data removed]",
      "text/plain": [
       "<Figure size 720x432 with 1 Axes>"
      ]
     },
     "metadata": {
      "needs_background": "light"
     },
     "output_type": "display_data"
    }
   ],
   "source": [
    "plt.figure(figsize=(10,6))\n",
    "plt.plot(raw_data['Year'], raw_data['Response'])\n",
    "plt.title('Year - Response')\n",
    "plt.show()"
   ]
  },
  {
   "cell_type": "code",
   "execution_count": 33,
   "metadata": {},
   "outputs": [
    {
     "data": {
      "image/png": "[encoded data removed]",
      "text/plain": [
       "<Figure size 720x432 with 1 Axes>"
      ]
     },
     "metadata": {
      "needs_background": "light"
     },
     "output_type": "display_data"
    }
   ],
   "source": [
    "plt.figure(figsize=(10,6))\n",
    "sns.lineplot(x='Year', y='Response', data=raw_data)\n",
    "plt.title('Year - Response')\n",
    "plt.show()"
   ]
  },
  {
   "cell_type": "markdown",
   "metadata": {},
   "source": [
    "## Box Plot"
   ]
  },
  {
   "cell_type": "code",
   "execution_count": 34,
   "metadata": {},
   "outputs": [
    {
     "name": "stderr",
     "output_type": "stream",
     "text": [
      "/Users/ah/opt/anaconda3/lib/python3.9/site-packages/seaborn/categorical.py:253: FutureWarning: Index.ravel returning ndarray is deprecated; in a future version this will return a view on self.\n",
      "  grouped_vals = vals.groupby(grouper)\n"
     ]
    },
    {
     "data": {
      "image/png": "[encoded data removed]",
      "text/plain": [
       "<Figure size 720x432 with 1 Axes>"
      ]
     },
     "metadata": {
      "needs_background": "light"
     },
     "output_type": "display_data"
    }
   ],
   "source": [
    "plt.figure(figsize=(10,6))\n",
    "sns.boxplot(x='GaugeDist_m', y='Peak_I15_mm/h', data=raw_data)\n",
    "plt.title('GaugeDist_m - Peak_I15_mm/h')\n",
    "plt.show()"
   ]
  },
  {
   "cell_type": "code",
   "execution_count": null,
   "metadata": {},
   "outputs": [],
   "source": []
  },
  {
   "cell_type": "markdown",
   "metadata": {},
   "source": [
    "## Heat Map"
   ]
  },
  {
   "cell_type": "code",
   "execution_count": null,
   "metadata": {},
   "outputs": [],
   "source": []
  },
  {
   "cell_type": "markdown",
   "metadata": {},
   "source": [
    "# Logistic Regression <a id=\"LR\">\n",
    "\n",
    "The `ST16` model used only four features to predict the target variable:\n",
    "- `i15`\n",
    "- `PropHM23`\n",
    "- `dNBR1000`\n",
    "- `KF`\n",
    "\n",
    "and the target variable:\n",
    "- `response`"
   ]
  },
  {
   "attachments": {
    "image.png": {
     "image/png": "[encoded data removed]"
    }
   },
   "cell_type": "markdown",
   "metadata": {},
   "source": [
    "![image.png](attachment:image.png)"
   ]
  },
  {
   "cell_type": "code",
   "execution_count": 35,
   "metadata": {
    "scrolled": true
   },
   "outputs": [
    {
     "data": {
      "text/html": [
       "<div>\n",
       "<style scoped>\n",
       "    .dataframe tbody tr th:only-of-type {\n",
       "        vertical-align: middle;\n",
       "    }\n",
       "\n",
       "    .dataframe tbody tr th {\n",
       "        vertical-align: top;\n",
       "    }\n",
       "\n",
       "    .dataframe thead th {\n",
       "        text-align: right;\n",
       "    }\n",
       "</style>\n",
       "<table border=\"1\" class=\"dataframe\">\n",
       "  <thead>\n",
       "    <tr style=\"text-align: right;\">\n",
       "      <th></th>\n",
       "      <th>U.S. Geological Survey Open-File Report 2016-1106</th>\n",
       "      <th>Unnamed: 1</th>\n",
       "    </tr>\n",
       "  </thead>\n",
       "  <tbody>\n",
       "    <tr>\n",
       "      <th>28</th>\n",
       "      <td>Acc015_mm</td>\n",
       "      <td>Peak 15-minute rainfall accumulation of storm,...</td>\n",
       "    </tr>\n",
       "    <tr>\n",
       "      <th>29</th>\n",
       "      <td>Acc030_mm</td>\n",
       "      <td>Peak 30-minute rainfall accumulation of storm,...</td>\n",
       "    </tr>\n",
       "    <tr>\n",
       "      <th>30</th>\n",
       "      <td>Acc060_mm</td>\n",
       "      <td>Peak 60-minute rainfall accumulation of storm,...</td>\n",
       "    </tr>\n",
       "    <tr>\n",
       "      <th>0</th>\n",
       "      <td>Appendix 1. Data supporting logistic regressio...</td>\n",
       "      <td>NaN</td>\n",
       "    </tr>\n",
       "    <tr>\n",
       "      <th>3</th>\n",
       "      <td>Column Header</td>\n",
       "      <td>Description</td>\n",
       "    </tr>\n",
       "    <tr>\n",
       "      <th>24</th>\n",
       "      <td>ContributingArea_km2</td>\n",
       "      <td>Contributing area of observation location, in ...</td>\n",
       "    </tr>\n",
       "    <tr>\n",
       "      <th>8</th>\n",
       "      <td>Database</td>\n",
       "      <td>Database type: “Training” indicates data used ...</td>\n",
       "    </tr>\n",
       "    <tr>\n",
       "      <th>4</th>\n",
       "      <td>Fire Name</td>\n",
       "      <td>Name of wildfire</td>\n",
       "    </tr>\n",
       "    <tr>\n",
       "      <th>6</th>\n",
       "      <td>Fire_ID</td>\n",
       "      <td>Abbreviation of fire name</td>\n",
       "    </tr>\n",
       "    <tr>\n",
       "      <th>7</th>\n",
       "      <td>Fire_SegID</td>\n",
       "      <td>Concatenated fire abbreviation and unique segm...</td>\n",
       "    </tr>\n",
       "    <tr>\n",
       "      <th>15</th>\n",
       "      <td>GaugeDist_m</td>\n",
       "      <td>Distance (in meters) from rain gauge to docume...</td>\n",
       "    </tr>\n",
       "    <tr>\n",
       "      <th>27</th>\n",
       "      <td>KF</td>\n",
       "      <td>Average KF-Factor (erodibility index of the fi...</td>\n",
       "    </tr>\n",
       "    <tr>\n",
       "      <th>21</th>\n",
       "      <td>Peak_I15_mm/h</td>\n",
       "      <td>Peak 15-minute rainfall intensity of storm, in...</td>\n",
       "    </tr>\n",
       "    <tr>\n",
       "      <th>22</th>\n",
       "      <td>Peak_I30_mm/h</td>\n",
       "      <td>Peak 30-minute rainfall intensity of storm, in...</td>\n",
       "    </tr>\n",
       "    <tr>\n",
       "      <th>23</th>\n",
       "      <td>Peak_I60_mm/h</td>\n",
       "      <td>Peak 60-minute rainfall intensity of storm, in...</td>\n",
       "    </tr>\n",
       "    <tr>\n",
       "      <th>25</th>\n",
       "      <td>PropHM23</td>\n",
       "      <td>Proportion of watershed burned at high or mode...</td>\n",
       "    </tr>\n",
       "    <tr>\n",
       "      <th>13</th>\n",
       "      <td>Response</td>\n",
       "      <td>Field-verified hydrologic response.  0 = no de...</td>\n",
       "    </tr>\n",
       "    <tr>\n",
       "      <th>9</th>\n",
       "      <td>State</td>\n",
       "      <td>State in which wildfire occurred</td>\n",
       "    </tr>\n",
       "    <tr>\n",
       "      <th>19</th>\n",
       "      <td>StormAccum_mm</td>\n",
       "      <td>Total rainfall accumulation of storm, in milli...</td>\n",
       "    </tr>\n",
       "    <tr>\n",
       "      <th>20</th>\n",
       "      <td>StormAvgI_mm/h</td>\n",
       "      <td>Average storm intensity, in milllimeters per hour</td>\n",
       "    </tr>\n",
       "    <tr>\n",
       "      <th>14</th>\n",
       "      <td>StormDate</td>\n",
       "      <td>Date of storm that produced the debris-flow re...</td>\n",
       "    </tr>\n",
       "    <tr>\n",
       "      <th>18</th>\n",
       "      <td>StormDur_H</td>\n",
       "      <td>Total duration of storm, in hours</td>\n",
       "    </tr>\n",
       "    <tr>\n",
       "      <th>17</th>\n",
       "      <td>StormEnd</td>\n",
       "      <td>Date and time (24-hour format, GMT) that storm...</td>\n",
       "    </tr>\n",
       "    <tr>\n",
       "      <th>16</th>\n",
       "      <td>StormStart</td>\n",
       "      <td>Date and time (24-hour format, GMT) that storm...</td>\n",
       "    </tr>\n",
       "    <tr>\n",
       "      <th>11</th>\n",
       "      <td>UTM_X</td>\n",
       "      <td>UTM X coordinate (Easting, in meters from zone...</td>\n",
       "    </tr>\n",
       "    <tr>\n",
       "      <th>12</th>\n",
       "      <td>UTM_Y</td>\n",
       "      <td>UTM Y coordinate (Northing, in meters from zon...</td>\n",
       "    </tr>\n",
       "    <tr>\n",
       "      <th>10</th>\n",
       "      <td>UTM_Zone</td>\n",
       "      <td>UTM zone containing majority of wildfire area</td>\n",
       "    </tr>\n",
       "    <tr>\n",
       "      <th>5</th>\n",
       "      <td>Year</td>\n",
       "      <td>Year of wildfire occurrence</td>\n",
       "    </tr>\n",
       "    <tr>\n",
       "      <th>1</th>\n",
       "      <td>[ID, identifier (in heading); UTM, Universal T...</td>\n",
       "      <td>NaN</td>\n",
       "    </tr>\n",
       "    <tr>\n",
       "      <th>26</th>\n",
       "      <td>dNBR/1000</td>\n",
       "      <td>Average differenced normalized burn ratio (dNB...</td>\n",
       "    </tr>\n",
       "    <tr>\n",
       "      <th>2</th>\n",
       "      <td>NaN</td>\n",
       "      <td>NaN</td>\n",
       "    </tr>\n",
       "  </tbody>\n",
       "</table>\n",
       "</div>"
      ],
      "text/plain": [
       "    U.S. Geological Survey Open-File Report 2016-1106  \\\n",
       "28                                          Acc015_mm   \n",
       "29                                          Acc030_mm   \n",
       "30                                          Acc060_mm   \n",
       "0   Appendix 1. Data supporting logistic regressio...   \n",
       "3                                       Column Header   \n",
       "24                               ContributingArea_km2   \n",
       "8                                            Database   \n",
       "4                                           Fire Name   \n",
       "6                                             Fire_ID   \n",
       "7                                          Fire_SegID   \n",
       "15                                        GaugeDist_m   \n",
       "27                                                 KF   \n",
       "21                                      Peak_I15_mm/h   \n",
       "22                                      Peak_I30_mm/h   \n",
       "23                                      Peak_I60_mm/h   \n",
       "25                                           PropHM23   \n",
       "13                                           Response   \n",
       "9                                               State   \n",
       "19                                      StormAccum_mm   \n",
       "20                                     StormAvgI_mm/h   \n",
       "14                                          StormDate   \n",
       "18                                         StormDur_H   \n",
       "17                                           StormEnd   \n",
       "16                                         StormStart   \n",
       "11                                              UTM_X   \n",
       "12                                              UTM_Y   \n",
       "10                                           UTM_Zone   \n",
       "5                                                Year   \n",
       "1   [ID, identifier (in heading); UTM, Universal T...   \n",
       "26                                          dNBR/1000   \n",
       "2                                                 NaN   \n",
       "\n",
       "                                           Unnamed: 1  \n",
       "28  Peak 15-minute rainfall accumulation of storm,...  \n",
       "29  Peak 30-minute rainfall accumulation of storm,...  \n",
       "30  Peak 60-minute rainfall accumulation of storm,...  \n",
       "0                                                 NaN  \n",
       "3                                         Description  \n",
       "24  Contributing area of observation location, in ...  \n",
       "8   Database type: “Training” indicates data used ...  \n",
       "4                                    Name of wildfire  \n",
       "6                           Abbreviation of fire name  \n",
       "7   Concatenated fire abbreviation and unique segm...  \n",
       "15  Distance (in meters) from rain gauge to docume...  \n",
       "27  Average KF-Factor (erodibility index of the fi...  \n",
       "21  Peak 15-minute rainfall intensity of storm, in...  \n",
       "22  Peak 30-minute rainfall intensity of storm, in...  \n",
       "23  Peak 60-minute rainfall intensity of storm, in...  \n",
       "25  Proportion of watershed burned at high or mode...  \n",
       "13  Field-verified hydrologic response.  0 = no de...  \n",
       "9                    State in which wildfire occurred  \n",
       "19  Total rainfall accumulation of storm, in milli...  \n",
       "20  Average storm intensity, in milllimeters per hour  \n",
       "14  Date of storm that produced the debris-flow re...  \n",
       "18                  Total duration of storm, in hours  \n",
       "17  Date and time (24-hour format, GMT) that storm...  \n",
       "16  Date and time (24-hour format, GMT) that storm...  \n",
       "11  UTM X coordinate (Easting, in meters from zone...  \n",
       "12  UTM Y coordinate (Northing, in meters from zon...  \n",
       "10      UTM zone containing majority of wildfire area  \n",
       "5                         Year of wildfire occurrence  \n",
       "1                                                 NaN  \n",
       "26  Average differenced normalized burn ratio (dNB...  \n",
       "2                                                 NaN  "
      ]
     },
     "execution_count": 35,
     "metadata": {},
     "output_type": "execute_result"
    }
   ],
   "source": [
    "# double check with the data dictionary\n",
    "dict_cols = data_dict.columns\n",
    "\n",
    "data_dict.sort_values(by=dict_cols[0])"
   ]
  },
  {
   "cell_type": "code",
   "execution_count": 36,
   "metadata": {},
   "outputs": [],
   "source": [
    "feat_cols = [\n",
    "    'Peak_I15_mm/h'\n",
    "    ,'PropHM23'\n",
    "    ,'dNBR/1000'\n",
    "    ,'KF'\n",
    "]\n",
    "\n",
    "target_col = 'Response'"
   ]
  },
  {
   "cell_type": "code",
   "execution_count": 37,
   "metadata": {
    "scrolled": true
   },
   "outputs": [
    {
     "data": {
      "text/html": [
       "<div>\n",
       "<style scoped>\n",
       "    .dataframe tbody tr th:only-of-type {\n",
       "        vertical-align: middle;\n",
       "    }\n",
       "\n",
       "    .dataframe tbody tr th {\n",
       "        vertical-align: top;\n",
       "    }\n",
       "\n",
       "    .dataframe thead th {\n",
       "        text-align: right;\n",
       "    }\n",
       "</style>\n",
       "<table border=\"1\" class=\"dataframe\">\n",
       "  <thead>\n",
       "    <tr style=\"text-align: right;\">\n",
       "      <th></th>\n",
       "      <th>Peak_I15_mm/h</th>\n",
       "      <th>PropHM23</th>\n",
       "      <th>dNBR/1000</th>\n",
       "      <th>KF</th>\n",
       "      <th>Response</th>\n",
       "    </tr>\n",
       "  </thead>\n",
       "  <tbody>\n",
       "    <tr>\n",
       "      <th>0</th>\n",
       "      <td>3.2</td>\n",
       "      <td>0.217933</td>\n",
       "      <td>0.297853</td>\n",
       "      <td>0.250000</td>\n",
       "      <td>0</td>\n",
       "    </tr>\n",
       "    <tr>\n",
       "      <th>1</th>\n",
       "      <td>3.2</td>\n",
       "      <td>0.061249</td>\n",
       "      <td>0.224896</td>\n",
       "      <td>0.250000</td>\n",
       "      <td>0</td>\n",
       "    </tr>\n",
       "    <tr>\n",
       "      <th>2</th>\n",
       "      <td>3.2</td>\n",
       "      <td>0.042968</td>\n",
       "      <td>0.065537</td>\n",
       "      <td>0.248541</td>\n",
       "      <td>0</td>\n",
       "    </tr>\n",
       "    <tr>\n",
       "      <th>3</th>\n",
       "      <td>1.6</td>\n",
       "      <td>0.092164</td>\n",
       "      <td>0.141711</td>\n",
       "      <td>0.250000</td>\n",
       "      <td>0</td>\n",
       "    </tr>\n",
       "    <tr>\n",
       "      <th>4</th>\n",
       "      <td>1.6</td>\n",
       "      <td>0.058353</td>\n",
       "      <td>0.210158</td>\n",
       "      <td>0.250000</td>\n",
       "      <td>0</td>\n",
       "    </tr>\n",
       "    <tr>\n",
       "      <th>...</th>\n",
       "      <td>...</td>\n",
       "      <td>...</td>\n",
       "      <td>...</td>\n",
       "      <td>...</td>\n",
       "      <td>...</td>\n",
       "    </tr>\n",
       "    <tr>\n",
       "      <th>1530</th>\n",
       "      <td>63.0</td>\n",
       "      <td>0.066777</td>\n",
       "      <td>0.373291</td>\n",
       "      <td>0.000000</td>\n",
       "      <td>0</td>\n",
       "    </tr>\n",
       "    <tr>\n",
       "      <th>1534</th>\n",
       "      <td>63.0</td>\n",
       "      <td>0.115890</td>\n",
       "      <td>0.604177</td>\n",
       "      <td>0.000000</td>\n",
       "      <td>0</td>\n",
       "    </tr>\n",
       "    <tr>\n",
       "      <th>1538</th>\n",
       "      <td>63.0</td>\n",
       "      <td>0.112607</td>\n",
       "      <td>0.428204</td>\n",
       "      <td>0.000000</td>\n",
       "      <td>1</td>\n",
       "    </tr>\n",
       "    <tr>\n",
       "      <th>1542</th>\n",
       "      <td>63.0</td>\n",
       "      <td>0.009801</td>\n",
       "      <td>0.187053</td>\n",
       "      <td>0.000000</td>\n",
       "      <td>1</td>\n",
       "    </tr>\n",
       "    <tr>\n",
       "      <th>1546</th>\n",
       "      <td>63.0</td>\n",
       "      <td>0.001571</td>\n",
       "      <td>0.500223</td>\n",
       "      <td>0.000000</td>\n",
       "      <td>0</td>\n",
       "    </tr>\n",
       "  </tbody>\n",
       "</table>\n",
       "<p>1091 rows × 5 columns</p>\n",
       "</div>"
      ],
      "text/plain": [
       "     Peak_I15_mm/h  PropHM23  dNBR/1000        KF  Response\n",
       "0              3.2  0.217933   0.297853  0.250000         0\n",
       "1              3.2  0.061249   0.224896  0.250000         0\n",
       "2              3.2  0.042968   0.065537  0.248541         0\n",
       "3              1.6  0.092164   0.141711  0.250000         0\n",
       "4              1.6  0.058353   0.210158  0.250000         0\n",
       "...            ...       ...        ...       ...       ...\n",
       "1530          63.0  0.066777   0.373291  0.000000         0\n",
       "1534          63.0  0.115890   0.604177  0.000000         0\n",
       "1538          63.0  0.112607   0.428204  0.000000         1\n",
       "1542          63.0  0.009801   0.187053  0.000000         1\n",
       "1546          63.0  0.001571   0.500223  0.000000         0\n",
       "\n",
       "[1091 rows x 5 columns]"
      ]
     },
     "execution_count": 37,
     "metadata": {},
     "output_type": "execute_result"
    }
   ],
   "source": [
    "# split off the relevant data\n",
    "# take a peak first to make sure it's good\n",
    "raw_data[feat_cols + [target_col]]"
   ]
  },
  {
   "cell_type": "markdown",
   "metadata": {},
   "source": [
    "The ST16 model only trained on Southern California, in this dataset all the California locations"
   ]
  },
  {
   "cell_type": "code",
   "execution_count": 38,
   "metadata": {},
   "outputs": [
    {
     "data": {
      "text/html": [
       "<div>\n",
       "<style scoped>\n",
       "    .dataframe tbody tr th:only-of-type {\n",
       "        vertical-align: middle;\n",
       "    }\n",
       "\n",
       "    .dataframe tbody tr th {\n",
       "        vertical-align: top;\n",
       "    }\n",
       "\n",
       "    .dataframe thead th {\n",
       "        text-align: right;\n",
       "    }\n",
       "</style>\n",
       "<table border=\"1\" class=\"dataframe\">\n",
       "  <thead>\n",
       "    <tr style=\"text-align: right;\">\n",
       "      <th>Database</th>\n",
       "      <th>Test</th>\n",
       "      <th>Training</th>\n",
       "    </tr>\n",
       "    <tr>\n",
       "      <th>State</th>\n",
       "      <th></th>\n",
       "      <th></th>\n",
       "    </tr>\n",
       "  </thead>\n",
       "  <tbody>\n",
       "    <tr>\n",
       "      <th>AZ</th>\n",
       "      <td>84</td>\n",
       "      <td>0</td>\n",
       "    </tr>\n",
       "    <tr>\n",
       "      <th>CA</th>\n",
       "      <td>0</td>\n",
       "      <td>773</td>\n",
       "    </tr>\n",
       "    <tr>\n",
       "      <th>CO</th>\n",
       "      <td>182</td>\n",
       "      <td>0</td>\n",
       "    </tr>\n",
       "    <tr>\n",
       "      <th>NM</th>\n",
       "      <td>52</td>\n",
       "      <td>0</td>\n",
       "    </tr>\n",
       "  </tbody>\n",
       "</table>\n",
       "</div>"
      ],
      "text/plain": [
       "Database  Test  Training\n",
       "State                   \n",
       "AZ          84         0\n",
       "CA           0       773\n",
       "CO         182         0\n",
       "NM          52         0"
      ]
     },
     "execution_count": 38,
     "metadata": {},
     "output_type": "execute_result"
    }
   ],
   "source": [
    "raw_data.groupby('State')['Database'].value_counts().unstack().fillna(0).astype(int)"
   ]
  },
  {
   "cell_type": "code",
   "execution_count": 39,
   "metadata": {},
   "outputs": [],
   "source": [
    "# split off just the CA data\n",
    "st16_data = raw_data[raw_data['Database'] == 'Training']\n",
    "\n",
    "# split the other sites as well\n",
    "st16_test_data = raw_data[raw_data['Database'] == 'Test']"
   ]
  },
  {
   "cell_type": "code",
   "execution_count": 40,
   "metadata": {},
   "outputs": [],
   "source": [
    "# not split the CA data to just our relevant columns\n",
    "feat_data = st16_data[feat_cols]\n",
    "target_data = st16_data[target_col]"
   ]
  },
  {
   "cell_type": "code",
   "execution_count": 41,
   "metadata": {},
   "outputs": [],
   "source": [
    "# instantiate LR model\n",
    "\n",
    "model = LogisticRegression()"
   ]
  },
  {
   "cell_type": "code",
   "execution_count": 42,
   "metadata": {},
   "outputs": [],
   "source": [
    "# split training and test data\n",
    "# ST16 may not even have done this\n",
    "X_train, X_test, y_train, y_test = train_test_split(feat_data, \n",
    "                                                    target_data,\n",
    "                                                    test_size=.10, # I'm not sure their test size, if any\n",
    "                                                    random_state=seed\n",
    "                                                   )"
   ]
  },
  {
   "cell_type": "code",
   "execution_count": 43,
   "metadata": {},
   "outputs": [
    {
     "name": "stdout",
     "output_type": "stream",
     "text": [
      "695\n",
      "695\n",
      "78\n",
      "78\n"
     ]
    }
   ],
   "source": [
    "# just to double check :)\n",
    "print(len(X_train))\n",
    "print(len(y_train))\n",
    "print(len(X_test))\n",
    "print(len(y_test))"
   ]
  },
  {
   "cell_type": "code",
   "execution_count": 44,
   "metadata": {},
   "outputs": [],
   "source": [
    "# fit the training data\n",
    "fitted_model = model.fit(X_train, y_train)\n",
    "\n",
    "# predict with the fitted model\n",
    "y_pred = fitted_model.predict(X_test)"
   ]
  },
  {
   "cell_type": "code",
   "execution_count": 45,
   "metadata": {},
   "outputs": [
    {
     "data": {
      "text/plain": [
       "array([[54,  4],\n",
       "       [ 8, 12]])"
      ]
     },
     "execution_count": 45,
     "metadata": {},
     "output_type": "execute_result"
    }
   ],
   "source": [
    "# confusion matrix for the binary y/n\n",
    "confusion_matrix(y_test, y_pred)"
   ]
  },
  {
   "cell_type": "code",
   "execution_count": 46,
   "metadata": {
    "scrolled": true
   },
   "outputs": [
    {
     "data": {
      "text/plain": [
       "array([[0.96103956, 0.03896044],\n",
       "       [0.95166668, 0.04833332],\n",
       "       [0.93784619, 0.06215381],\n",
       "       [0.63721237, 0.36278763],\n",
       "       [0.86527103, 0.13472897],\n",
       "       [0.81170868, 0.18829132],\n",
       "       [0.51977529, 0.48022471],\n",
       "       [0.97591779, 0.02408221],\n",
       "       [0.97315029, 0.02684971],\n",
       "       [0.95362106, 0.04637894],\n",
       "       [0.09703541, 0.90296459],\n",
       "       [0.05240261, 0.94759739],\n",
       "       [0.86909625, 0.13090375],\n",
       "       [0.94700655, 0.05299345],\n",
       "       [0.94559955, 0.05440045],\n",
       "       [0.6250219 , 0.3749781 ],\n",
       "       [0.6612036 , 0.3387964 ],\n",
       "       [0.79643833, 0.20356167],\n",
       "       [0.17143393, 0.82856607],\n",
       "       [0.78680954, 0.21319046],\n",
       "       [0.86088727, 0.13911273],\n",
       "       [0.90384051, 0.09615949],\n",
       "       [0.88552541, 0.11447459],\n",
       "       [0.30188087, 0.69811913],\n",
       "       [0.95288961, 0.04711039],\n",
       "       [0.8578865 , 0.1421135 ],\n",
       "       [0.70134811, 0.29865189],\n",
       "       [0.59431432, 0.40568568],\n",
       "       [0.98003942, 0.01996058],\n",
       "       [0.06160543, 0.93839457],\n",
       "       [0.91830167, 0.08169833],\n",
       "       [0.78526323, 0.21473677],\n",
       "       [0.95331618, 0.04668382],\n",
       "       [0.9395553 , 0.0604447 ],\n",
       "       [0.74935062, 0.25064938],\n",
       "       [0.89596681, 0.10403319],\n",
       "       [0.42009181, 0.57990819],\n",
       "       [0.77325451, 0.22674549],\n",
       "       [0.90372868, 0.09627132],\n",
       "       [0.72885767, 0.27114233],\n",
       "       [0.94972795, 0.05027205],\n",
       "       [0.16989773, 0.83010227],\n",
       "       [0.37072911, 0.62927089],\n",
       "       [0.90807948, 0.09192052],\n",
       "       [0.40327841, 0.59672159],\n",
       "       [0.95633447, 0.04366553],\n",
       "       [0.92593173, 0.07406827],\n",
       "       [0.5221656 , 0.4778344 ],\n",
       "       [0.97005639, 0.02994361],\n",
       "       [0.83266024, 0.16733976],\n",
       "       [0.88975091, 0.11024909],\n",
       "       [0.06942744, 0.93057256],\n",
       "       [0.23485019, 0.76514981],\n",
       "       [0.97246734, 0.02753266],\n",
       "       [0.90623654, 0.09376346],\n",
       "       [0.54343275, 0.45656725],\n",
       "       [0.0457538 , 0.9542462 ],\n",
       "       [0.51424297, 0.48575703],\n",
       "       [0.97496357, 0.02503643],\n",
       "       [0.68867125, 0.31132875],\n",
       "       [0.8899933 , 0.1100067 ],\n",
       "       [0.15502891, 0.84497109],\n",
       "       [0.48315976, 0.51684024],\n",
       "       [0.60323104, 0.39676896],\n",
       "       [0.89022809, 0.10977191],\n",
       "       [0.96345701, 0.03654299],\n",
       "       [0.03189198, 0.96810802],\n",
       "       [0.07539254, 0.92460746],\n",
       "       [0.77432307, 0.22567693],\n",
       "       [0.5934107 , 0.4065893 ],\n",
       "       [0.89809389, 0.10190611],\n",
       "       [0.62135103, 0.37864897],\n",
       "       [0.65402123, 0.34597877],\n",
       "       [0.89204143, 0.10795857],\n",
       "       [0.79288485, 0.20711515],\n",
       "       [0.96163941, 0.03836059],\n",
       "       [0.95314875, 0.04685125],\n",
       "       [0.56855564, 0.43144436]])"
      ]
     },
     "execution_count": 46,
     "metadata": {},
     "output_type": "execute_result"
    }
   ],
   "source": [
    "# the predicted probabilities on the test data\n",
    "# first value is no-debris-flow\n",
    "# second value is yes-debris-flow\n",
    "\n",
    "# can't directly compare this output to the target variable since that's a bool and these are probas no/yes\n",
    "test_probas = fitted_model.predict_proba(X_test)\n",
    "test_probas"
   ]
  },
  {
   "cell_type": "markdown",
   "metadata": {},
   "source": [
    "**ST16 reported a threat score of 0.42 on the training (Southern California) and 0.39 on the testing (remaining regions) sites**"
   ]
  },
  {
   "cell_type": "code",
   "execution_count": 47,
   "metadata": {},
   "outputs": [
    {
     "data": {
      "text/plain": [
       "0.3031067815443753"
      ]
     },
     "execution_count": 47,
     "metadata": {},
     "output_type": "execute_result"
    }
   ],
   "source": [
    "# this model's threat score\n",
    "# doesn't match up\n",
    "pd.DataFrame(test_probas)[1].mean()"
   ]
  },
  {
   "attachments": {
    "image.png": {
     "image/png": "[encoded data removed]"
    }
   },
   "cell_type": "markdown",
   "metadata": {},
   "source": [
    "How does our output compare to the ST16 parameters/weights?\n",
    "\n",
    "I'm not understanding where the scalar values are coming from (besides the intercept -3.63)\n",
    "\n",
    "![image.png](attachment:image.png)"
   ]
  },
  {
   "attachments": {
    "ST16%20model%20parameters.jpg": {
     "image/jpeg": "[encoded data removed]"
    }
   },
   "cell_type": "markdown",
   "metadata": {},
   "source": [
    "![ST16%20model%20parameters.jpg](attachment:ST16%20model%20parameters.jpg)"
   ]
  },
  {
   "cell_type": "code",
   "execution_count": 48,
   "metadata": {},
   "outputs": [
    {
     "data": {
      "text/plain": [
       "array([-4.9397538])"
      ]
     },
     "execution_count": 48,
     "metadata": {},
     "output_type": "execute_result"
    }
   ],
   "source": [
    "intercept = fitted_model.intercept_\n",
    "intercept"
   ]
  },
  {
   "cell_type": "code",
   "execution_count": 49,
   "metadata": {},
   "outputs": [],
   "source": [
    "# extract the model coefficients\n",
    "weights = list(fitted_model.coef_[0])"
   ]
  },
  {
   "cell_type": "code",
   "execution_count": 50,
   "metadata": {},
   "outputs": [
    {
     "name": "stdout",
     "output_type": "stream",
     "text": [
      "Peak_I15_mm/h : 0.12301137134521796 \n",
      "\n",
      "PropHM23 : 2.334806292360558 \n",
      "\n",
      "dNBR/1000 : 1.33395106003984 \n",
      "\n",
      "KF : 0.49177861148396174 \n",
      "\n"
     ]
    }
   ],
   "source": [
    "for feat, weight in zip(feat_cols, weights):\n",
    "    print(feat, \":\", weight, \"\\n\")"
   ]
  },
  {
   "cell_type": "code",
   "execution_count": 51,
   "metadata": {},
   "outputs": [
    {
     "data": {
      "text/plain": [
       "0.7310585786300049"
      ]
     },
     "execution_count": 51,
     "metadata": {},
     "output_type": "execute_result"
    }
   ],
   "source": [
    "# logistic.cdf is the sigmoid function\n",
    "# just an example number\n",
    "logistic.cdf(1)"
   ]
  },
  {
   "cell_type": "code",
   "execution_count": 52,
   "metadata": {},
   "outputs": [
    {
     "data": {
      "text/html": [
       "<div>\n",
       "<style scoped>\n",
       "    .dataframe tbody tr th:only-of-type {\n",
       "        vertical-align: middle;\n",
       "    }\n",
       "\n",
       "    .dataframe tbody tr th {\n",
       "        vertical-align: top;\n",
       "    }\n",
       "\n",
       "    .dataframe thead th {\n",
       "        text-align: right;\n",
       "    }\n",
       "</style>\n",
       "<table border=\"1\" class=\"dataframe\">\n",
       "  <thead>\n",
       "    <tr style=\"text-align: right;\">\n",
       "      <th></th>\n",
       "      <th>Peak_I15_mm/h</th>\n",
       "      <th>PropHM23</th>\n",
       "      <th>dNBR/1000</th>\n",
       "      <th>KF</th>\n",
       "    </tr>\n",
       "  </thead>\n",
       "  <tbody>\n",
       "    <tr>\n",
       "      <th>1510</th>\n",
       "      <td>8.8</td>\n",
       "      <td>0.087871</td>\n",
       "      <td>0.267195</td>\n",
       "      <td>0.183413</td>\n",
       "    </tr>\n",
       "    <tr>\n",
       "      <th>1513</th>\n",
       "      <td>8.8</td>\n",
       "      <td>0.156905</td>\n",
       "      <td>0.323950</td>\n",
       "      <td>0.160000</td>\n",
       "    </tr>\n",
       "    <tr>\n",
       "      <th>1287</th>\n",
       "      <td>8.0</td>\n",
       "      <td>0.402351</td>\n",
       "      <td>0.171304</td>\n",
       "      <td>0.150000</td>\n",
       "    </tr>\n",
       "  </tbody>\n",
       "</table>\n",
       "</div>"
      ],
      "text/plain": [
       "     Peak_I15_mm/h  PropHM23  dNBR/1000        KF\n",
       "1510           8.8  0.087871   0.267195  0.183413\n",
       "1513           8.8  0.156905   0.323950  0.160000\n",
       "1287           8.0  0.402351   0.171304  0.150000"
      ]
     },
     "execution_count": 52,
     "metadata": {},
     "output_type": "execute_result"
    }
   ],
   "source": [
    "X_test.head(3)"
   ]
  },
  {
   "cell_type": "code",
   "execution_count": 53,
   "metadata": {},
   "outputs": [
    {
     "data": {
      "text/plain": [
       "array([0.03896044])"
      ]
     },
     "execution_count": 53,
     "metadata": {},
     "output_type": "execute_result"
    }
   ],
   "source": [
    "# manually extract the probability using intercept, weights and values from some record\n",
    "# this is predicted probability yes-debris-flow\n",
    "logistic.cdf(intercept + sum(w * v for w, v in zip(weights, X_test.iloc[0,:].values)))"
   ]
  },
  {
   "cell_type": "code",
   "execution_count": 54,
   "metadata": {
    "scrolled": true
   },
   "outputs": [
    {
     "data": {
      "text/plain": [
       "0.03896044356558881"
      ]
     },
     "execution_count": 54,
     "metadata": {},
     "output_type": "execute_result"
    }
   ],
   "source": [
    "# they match :)\n",
    "test_probas[0][1]"
   ]
  },
  {
   "cell_type": "code",
   "execution_count": 55,
   "metadata": {},
   "outputs": [
    {
     "data": {
      "text/plain": [
       "array([0.04833332])"
      ]
     },
     "execution_count": 55,
     "metadata": {},
     "output_type": "execute_result"
    }
   ],
   "source": [
    "# again with another record\n",
    "logistic.cdf(intercept + sum(w * v for w, v in zip(weights, X_test.iloc[1,:].values)))"
   ]
  },
  {
   "cell_type": "code",
   "execution_count": 56,
   "metadata": {},
   "outputs": [
    {
     "data": {
      "text/plain": [
       "0.048333319428451524"
      ]
     },
     "execution_count": 56,
     "metadata": {},
     "output_type": "execute_result"
    }
   ],
   "source": [
    "# again, they match :)\n",
    "test_probas[1][1]"
   ]
  },
  {
   "cell_type": "code",
   "execution_count": 57,
   "metadata": {},
   "outputs": [
    {
     "data": {
      "text/plain": [
       "0.4993233481259175"
      ]
     },
     "execution_count": 57,
     "metadata": {},
     "output_type": "execute_result"
    }
   ],
   "source": [
    "# what's the predicted risk on the other sites?\n",
    "st16_test_probas = fitted_model.predict_proba(st16_test_data[feat_cols])\n",
    "pd.DataFrame(st16_test_probas)[1].mean()"
   ]
  },
  {
   "cell_type": "code",
   "execution_count": null,
   "metadata": {},
   "outputs": [],
   "source": []
  }
 ],
 "metadata": {
  "kernelspec": {
   "display_name": "Python 3 (ipykernel)",
   "language": "python",
   "name": "python3"
  },
  "language_info": {
   "codemirror_mode": {
    "name": "ipython",
    "version": 3
   },
   "file_extension": ".py",
   "mimetype": "text/x-python",
   "name": "python",
   "nbconvert_exporter": "python",
   "pygments_lexer": "ipython3",
   "version": "3.9.12"
  }
 },
 "nbformat": 4,
 "nbformat_minor": 4
}
