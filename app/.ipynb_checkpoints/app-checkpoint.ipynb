{
 "cells": [
  {
   "cell_type": "code",
   "execution_count": 1,
   "id": "540864d5-67cf-439e-a368-0810ed7dae8a",
   "metadata": {},
   "outputs": [
    {
     "name": "stdout",
     "output_type": "stream",
     "text": [
      "loaded\n"
     ]
    }
   ],
   "source": [
    "# load in the model class\n",
    "import json\n",
    "from sys import path\n",
    "path.append(\"./model/\")\n",
    "import ModelNN as Net\n",
    "import torch\n",
    "import pandas as pd\n",
    "import pickle\n",
    "from sklearn.preprocessing import StandardScaler\n",
    "import geopandas as gpd\n",
    "import numpy as np\n",
    "\n",
    "#intialize values\n",
    "seed=27\n",
    "data_dir = './data/'\n",
    "model_dir = './model/'\n",
    "architecture = 'TwoLayer_750_epochs_optimized_roc_auc_score' # use whichever model name desired\n",
    "peak_mmh = 'peak_i15_mmh'\n",
    "\n",
    "\n",
    "# open the parameters json\n",
    "file_name = \"model_parameters.json\"\n",
    "with open(model_dir + file_name) as model_params:\n",
    "    model_params = json.load(model_params)\n",
    "# load in model parameters\n",
    "one_model = model_params[architecture]\n",
    "\n",
    "# should turn this into a function\n",
    "input_size = len(one_model['features'])\n",
    "hidden_size = one_model['hidden_size']\n",
    "dropout_rate = one_model['dropout_rate']\n",
    "output_size = 1\n",
    "\n",
    "# this is not programmatic\n",
    "model_class = one_model['model_class'] # it isn't getting passed in anywhere\n",
    "# load feature set\n",
    "features = one_model['features']\n",
    "# load trained model weights file_name\n",
    "weights = one_model['weights']\n",
    "\n",
    "# set device\n",
    "device = torch.device(\"cuda:0\" if torch.cuda.is_available() else \"cpu\")\n",
    "# instantiate model\n",
    "model = Net.TwoLayer(input_size, hidden_size, output_size, dropout_rate).to(device)\n",
    "# load weights/biases\n",
    "model.load_state_dict(torch.load(model_dir + weights, map_location=device))\n",
    "\n",
    "# LOAD IN DATA\n",
    "# needed to scale to training set\n",
    "X_train_df, X_test_df, y_train_df, y_test_df = pickle.load(open(data_dir + \"train_test_data.pkl\", \"rb\"))\n",
    "# delete the testing data, we don't need it\n",
    "del X_test_df, y_test_df\n",
    "X_train_df = X_train_df[features]\n",
    "\n",
    "# scale on the training set\n",
    "sc = StandardScaler()\n",
    "X_train_scaled = pd.DataFrame(sc.fit_transform(X_train_df))\n",
    "# we need to extract these for app runtime\n",
    "# these will be used to scale the input data\n",
    "rain_scaler_mean = X_train_df['peak_i15_mmh'].mean()\n",
    "rain_scaler_std = X_train_df['peak_i15_mmh'].std()\n",
    "### for example:\n",
    "#### but swap out \"rain\" with the input paramater\n",
    "#####rain_scaled = (rain - rain_scaler_mean) / rain_scaler_std\n",
    "\n",
    "# now load in all the data\n",
    "site_data = gpd.read_parquet(data_dir + \"sites_v02_plot_data.parquet\")\n",
    "# need for replacing data in scaled df at inference\n",
    "col_idx = site_data[features].columns.get_loc('peak_i15_mmh')\n",
    "\n",
    "# fit the data to the scaler\n",
    "X_scaled = pd.DataFrame(sc.transform(site_data[features]))\n",
    "# change to tensor\n",
    "# X_scaled_tensor = torch.tensor(X_scaled.values).float().to(device)\n",
    "# # make prediction\n",
    "# y_pred_tensor = model(X_scaled_tensor) # already sent to device when instantiated\n",
    "# # convert back dtype\n",
    "# y_pred_proba = y_pred_tensor.detach().cpu().numpy().astype(np.float16) # smaller dtype\n",
    "# y_pred_bool = np.round(y_pred_proba)\n",
    "print('loaded')"
   ]
  },
  {
   "cell_type": "code",
   "execution_count": 2,
   "id": "c812b6db-dd8d-4b81-8549-fff8e5f2e189",
   "metadata": {},
   "outputs": [
    {
     "data": {
      "text/plain": [
       "(693, 24)"
      ]
     },
     "execution_count": 2,
     "metadata": {},
     "output_type": "execute_result"
    }
   ],
   "source": [
    "site_data.shape"
   ]
  },
  {
   "cell_type": "code",
   "execution_count": 3,
   "id": "f3c77fb3-4510-49fc-927c-10e0521e1c04",
   "metadata": {},
   "outputs": [
    {
     "data": {
      "text/plain": [
       "<Geographic 2D CRS: EPSG:4326>\n",
       "Name: WGS 84\n",
       "Axis Info [ellipsoidal]:\n",
       "- Lat[north]: Geodetic latitude (degree)\n",
       "- Lon[east]: Geodetic longitude (degree)\n",
       "Area of Use:\n",
       "- name: World.\n",
       "- bounds: (-180.0, -90.0, 180.0, 90.0)\n",
       "Datum: World Geodetic System 1984 ensemble\n",
       "- Ellipsoid: WGS 84\n",
       "- Prime Meridian: Greenwich"
      ]
     },
     "execution_count": 3,
     "metadata": {},
     "output_type": "execute_result"
    }
   ],
   "source": [
    "site_data['geom'].crs"
   ]
  },
  {
   "cell_type": "code",
   "execution_count": 4,
   "id": "daa9344d-3ef9-4086-8ed7-398a573f8b6f",
   "metadata": {},
   "outputs": [
    {
     "data": {
      "text/plain": [
       "<Geographic 2D CRS: EPSG:4326>\n",
       "Name: WGS 84\n",
       "Axis Info [ellipsoidal]:\n",
       "- Lat[north]: Geodetic latitude (degree)\n",
       "- Lon[east]: Geodetic longitude (degree)\n",
       "Area of Use:\n",
       "- name: World.\n",
       "- bounds: (-180.0, -90.0, 180.0, 90.0)\n",
       "Datum: World Geodetic System 1984 ensemble\n",
       "- Ellipsoid: WGS 84\n",
       "- Prime Meridian: Greenwich"
      ]
     },
     "execution_count": 4,
     "metadata": {},
     "output_type": "execute_result"
    }
   ],
   "source": [
    "site_data['geometry_simple'].crs"
   ]
  },
  {
   "cell_type": "code",
   "execution_count": 5,
   "id": "553e4ebd-bd4e-42b6-a5a9-be7c40dba61f",
   "metadata": {},
   "outputs": [
    {
     "name": "stderr",
     "output_type": "stream",
     "text": [
      "/var/folders/p6/0v7dt7_x1p336nsn9fhywqq40000gn/T/ipykernel_7135/3368206389.py:4: UserWarning: Geometry is in a geographic CRS. Results from 'centroid' are likely incorrect. Use 'GeoSeries.to_crs()' to re-project geometries to a projected CRS before this operation.\n",
      "\n",
      "  \"lon\": site_data['geometry_simple'].centroid.x.median(),\n",
      "/var/folders/p6/0v7dt7_x1p336nsn9fhywqq40000gn/T/ipykernel_7135/3368206389.py:5: UserWarning: Geometry is in a geographic CRS. Results from 'centroid' are likely incorrect. Use 'GeoSeries.to_crs()' to re-project geometries to a projected CRS before this operation.\n",
      "\n",
      "  \"lat\": site_data['geometry_simple'].centroid.y.median(),\n"
     ]
    }
   ],
   "source": [
    "# calculate center of map for initializing to our data\n",
    "# ignore this warning\n",
    "map_center = {\n",
    "    \"lon\": site_data['geometry_simple'].centroid.x.median(),\n",
    "    \"lat\": site_data['geometry_simple'].centroid.y.median(),\n",
    "}"
   ]
  },
  {
   "cell_type": "markdown",
   "id": "f99afdc8-227d-4611-bb33-22469a2aa2c6",
   "metadata": {},
   "source": [
    "https://plotly.com/python/builtin-colorscales/"
   ]
  },
  {
   "cell_type": "code",
   "execution_count": 6,
   "id": "021d1e15-211c-4799-8abd-b41efb1ec4bb",
   "metadata": {},
   "outputs": [],
   "source": [
    "# site_data['proba'] = 0.00"
   ]
  },
  {
   "cell_type": "code",
   "execution_count": 7,
   "id": "9da92ad1-d82d-4550-929e-395a8b20f6f8",
   "metadata": {},
   "outputs": [],
   "source": [
    "def make_prediction(plot_df, rain_input):\n",
    "    rain = pd.to_numeric(np.repeat(rain_input, plot_df.shape[0]))\n",
    "    rain_scaled = (rain - rain_scaler_mean) / rain_scaler_std\n",
    "    # now replace with the scaled input\n",
    "    X_scaled.loc[:,col_idx] = rain_scaled\n",
    "    \n",
    "    # and make prediction with the new rain amount\n",
    "    X_scaled_tensor = torch.tensor(X_scaled.values).float().to(device)\n",
    "    y_pred_tensor = model(X_scaled_tensor) # already sent to device when instantiated\n",
    "    # predicted probability\n",
    "    y_pred_proba = y_pred_tensor.detach().cpu().numpy().astype(np.float16) # smaller dtype\n",
    "    # in case you want the binary output\n",
    "    #y_pred_bool = np.round(y_pred_proba)\n",
    "    \n",
    "    return y_pred_proba"
   ]
  },
  {
   "cell_type": "code",
   "execution_count": 8,
   "id": "7f5aee97-2f65-48dd-bc9c-6f1e360d4499",
   "metadata": {},
   "outputs": [],
   "source": [
    "examine = site_data.copy()"
   ]
  },
  {
   "cell_type": "code",
   "execution_count": 9,
   "id": "880dd177-372b-4ede-80de-c254081cda5f",
   "metadata": {},
   "outputs": [
    {
     "name": "stdout",
     "output_type": "stream",
     "text": [
      "mean proba:  0.01237\n"
     ]
    },
    {
     "data": {
      "image/png": "[encoded data removed]",
      "text/plain": [
       "<Figure size 640x480 with 1 Axes>"
      ]
     },
     "metadata": {},
     "output_type": "display_data"
    }
   ],
   "source": [
    "input_amt = 10\n",
    "\n",
    "examine['proba'] = make_prediction(site_data, input_amt)\n",
    "print('mean proba: ', examine['proba'].mean())\n",
    "examine['proba'].hist();"
   ]
  },
  {
   "cell_type": "code",
   "execution_count": 10,
   "id": "930f414e-76c7-4713-a4a5-3e81067c7ffa",
   "metadata": {},
   "outputs": [
    {
     "data": {
      "image/png": "[encoded data removed]",
      "text/plain": [
       "<Figure size 640x480 with 1 Axes>"
      ]
     },
     "metadata": {},
     "output_type": "display_data"
    }
   ],
   "source": [
    "pred_df = pd.DataFrame(columns=['proba'])\n",
    "for i in range(100):\n",
    "    pred_df.loc[i, 'proba'] = make_prediction(site_data, i).mean()\n",
    "\n",
    "pred_df.plot();"
   ]
  },
  {
   "cell_type": "code",
   "execution_count": 11,
   "id": "f2ef11c7-141c-4d6a-ba41-a5872307e6db",
   "metadata": {},
   "outputs": [
    {
     "name": "stdout",
     "output_type": "stream",
     "text": [
      "Dash is running on http://127.0.0.1:8050/\n",
      "\n"
     ]
    },
    {
     "name": "stderr",
     "output_type": "stream",
     "text": [
      "Address already in use\n",
      "Port 8050 is in use by another program. Either identify and stop that program, or start the server with a different port.\n"
     ]
    },
    {
     "ename": "OSError",
     "evalue": "Address 'http://127.0.0.1:8050' already in use.\n    Try passing a different port to run_server.",
     "output_type": "error",
     "traceback": [
      "\u001b[0;31m---------------------------------------------------------------------------\u001b[0m",
      "\u001b[0;31mOSError\u001b[0m                                   Traceback (most recent call last)",
      "Cell \u001b[0;32mIn[11], line 116\u001b[0m\n\u001b[1;32m    113\u001b[0m     \u001b[38;5;28;01mreturn\u001b[39;00m create_plot(site_data)\n\u001b[1;32m    115\u001b[0m \u001b[38;5;28;01mif\u001b[39;00m \u001b[38;5;18m__name__\u001b[39m \u001b[38;5;241m==\u001b[39m \u001b[38;5;124m'\u001b[39m\u001b[38;5;124m__main__\u001b[39m\u001b[38;5;124m'\u001b[39m:\n\u001b[0;32m--> 116\u001b[0m     \u001b[43mapp\u001b[49m\u001b[38;5;241;43m.\u001b[39;49m\u001b[43mrun_server\u001b[49m\u001b[43m(\u001b[49m\n\u001b[1;32m    117\u001b[0m \u001b[43m        \u001b[49m\u001b[43mdebug\u001b[49m\u001b[38;5;241;43m=\u001b[39;49m\u001b[38;5;28;43;01mTrue\u001b[39;49;00m\u001b[43m,\u001b[49m\n\u001b[1;32m    118\u001b[0m \u001b[43m        \u001b[49m\u001b[43mmode\u001b[49m\u001b[38;5;241;43m=\u001b[39;49m\u001b[38;5;124;43m'\u001b[39;49m\u001b[38;5;124;43minline\u001b[39;49m\u001b[38;5;124;43m'\u001b[39;49m\u001b[43m,\u001b[49m\n\u001b[1;32m    119\u001b[0m \u001b[43m        \u001b[49m\u001b[38;5;66;43;03m#host='localhost',\u001b[39;49;00m\n\u001b[1;32m    120\u001b[0m \u001b[43m        \u001b[49m\u001b[38;5;66;43;03m#port=8090,\u001b[39;49;00m\n\u001b[1;32m    121\u001b[0m \u001b[43m        \u001b[49m\u001b[38;5;66;43;03m#dev_tools_ui=True, \u001b[39;49;00m\n\u001b[1;32m    122\u001b[0m \u001b[43m        \u001b[49m\u001b[38;5;66;43;03m#dev_tools_hot_reload=True, \u001b[39;49;00m\n\u001b[1;32m    123\u001b[0m \u001b[43m        \u001b[49m\u001b[38;5;66;43;03m#threaded=True,\u001b[39;49;00m\n\u001b[1;32m    124\u001b[0m \u001b[43m    \u001b[49m\u001b[43m)\u001b[49m\n",
      "File \u001b[0;32m~/opt/anaconda3/envs/venv_debris_flow/lib/python3.10/site-packages/jupyter_dash/jupyter_app.py:339\u001b[0m, in \u001b[0;36mJupyterDash.run_server\u001b[0;34m(self, mode, width, height, inline_exceptions, **kwargs)\u001b[0m\n\u001b[1;32m    329\u001b[0m         url \u001b[38;5;241m=\u001b[39m \u001b[38;5;124m\"\u001b[39m\u001b[38;5;124mhttp://\u001b[39m\u001b[38;5;132;01m{host}\u001b[39;00m\u001b[38;5;124m:\u001b[39m\u001b[38;5;132;01m{port}\u001b[39;00m\u001b[38;5;124m\"\u001b[39m\u001b[38;5;241m.\u001b[39mformat(\n\u001b[1;32m    330\u001b[0m             host\u001b[38;5;241m=\u001b[39mhost, port\u001b[38;5;241m=\u001b[39mport, token\u001b[38;5;241m=\u001b[39mJupyterDash\u001b[38;5;241m.\u001b[39m_token\n\u001b[1;32m    331\u001b[0m         )\n\u001b[1;32m    332\u001b[0m         \u001b[38;5;28;01mraise\u001b[39;00m \u001b[38;5;167;01mOSError\u001b[39;00m(\n\u001b[1;32m    333\u001b[0m             \u001b[38;5;124m\"\u001b[39m\u001b[38;5;124mAddress \u001b[39m\u001b[38;5;124m'\u001b[39m\u001b[38;5;132;01m{url}\u001b[39;00m\u001b[38;5;124m'\u001b[39m\u001b[38;5;124m already in use.\u001b[39m\u001b[38;5;130;01m\\n\u001b[39;00m\u001b[38;5;124m\"\u001b[39m\n\u001b[1;32m    334\u001b[0m             \u001b[38;5;124m\"\u001b[39m\u001b[38;5;124m    Try passing a different port to run_server.\u001b[39m\u001b[38;5;124m\"\u001b[39m\u001b[38;5;241m.\u001b[39mformat(\n\u001b[1;32m    335\u001b[0m                 url\u001b[38;5;241m=\u001b[39murl\n\u001b[1;32m    336\u001b[0m             )\n\u001b[1;32m    337\u001b[0m         )\n\u001b[0;32m--> 339\u001b[0m \u001b[43mwait_for_app\u001b[49m\u001b[43m(\u001b[49m\u001b[43m)\u001b[49m\n\u001b[1;32m    341\u001b[0m \u001b[38;5;28;01mif\u001b[39;00m JupyterDash\u001b[38;5;241m.\u001b[39m_in_colab:\n\u001b[1;32m    342\u001b[0m     \u001b[38;5;28mself\u001b[39m\u001b[38;5;241m.\u001b[39m_display_in_colab(dashboard_url, port, mode, width, height)\n",
      "File \u001b[0;32m~/opt/anaconda3/envs/venv_debris_flow/lib/python3.10/site-packages/retrying.py:56\u001b[0m, in \u001b[0;36mretry.<locals>.wrap.<locals>.wrapped_f\u001b[0;34m(*args, **kw)\u001b[0m\n\u001b[1;32m     54\u001b[0m \u001b[38;5;129m@six\u001b[39m\u001b[38;5;241m.\u001b[39mwraps(f)\n\u001b[1;32m     55\u001b[0m \u001b[38;5;28;01mdef\u001b[39;00m \u001b[38;5;21mwrapped_f\u001b[39m(\u001b[38;5;241m*\u001b[39margs, \u001b[38;5;241m*\u001b[39m\u001b[38;5;241m*\u001b[39mkw):\n\u001b[0;32m---> 56\u001b[0m     \u001b[38;5;28;01mreturn\u001b[39;00m \u001b[43mRetrying\u001b[49m\u001b[43m(\u001b[49m\u001b[38;5;241;43m*\u001b[39;49m\u001b[43mdargs\u001b[49m\u001b[43m,\u001b[49m\u001b[43m \u001b[49m\u001b[38;5;241;43m*\u001b[39;49m\u001b[38;5;241;43m*\u001b[39;49m\u001b[43mdkw\u001b[49m\u001b[43m)\u001b[49m\u001b[38;5;241;43m.\u001b[39;49m\u001b[43mcall\u001b[49m\u001b[43m(\u001b[49m\u001b[43mf\u001b[49m\u001b[43m,\u001b[49m\u001b[43m \u001b[49m\u001b[38;5;241;43m*\u001b[39;49m\u001b[43margs\u001b[49m\u001b[43m,\u001b[49m\u001b[43m \u001b[49m\u001b[38;5;241;43m*\u001b[39;49m\u001b[38;5;241;43m*\u001b[39;49m\u001b[43mkw\u001b[49m\u001b[43m)\u001b[49m\n",
      "File \u001b[0;32m~/opt/anaconda3/envs/venv_debris_flow/lib/python3.10/site-packages/retrying.py:266\u001b[0m, in \u001b[0;36mRetrying.call\u001b[0;34m(self, fn, *args, **kwargs)\u001b[0m\n\u001b[1;32m    263\u001b[0m \u001b[38;5;28;01mif\u001b[39;00m \u001b[38;5;28mself\u001b[39m\u001b[38;5;241m.\u001b[39mstop(attempt_number, delay_since_first_attempt_ms):\n\u001b[1;32m    264\u001b[0m     \u001b[38;5;28;01mif\u001b[39;00m \u001b[38;5;129;01mnot\u001b[39;00m \u001b[38;5;28mself\u001b[39m\u001b[38;5;241m.\u001b[39m_wrap_exception \u001b[38;5;129;01mand\u001b[39;00m attempt\u001b[38;5;241m.\u001b[39mhas_exception:\n\u001b[1;32m    265\u001b[0m         \u001b[38;5;66;03m# get() on an attempt with an exception should cause it to be raised, but raise just in case\u001b[39;00m\n\u001b[0;32m--> 266\u001b[0m         \u001b[38;5;28;01mraise\u001b[39;00m \u001b[43mattempt\u001b[49m\u001b[38;5;241;43m.\u001b[39;49m\u001b[43mget\u001b[49m\u001b[43m(\u001b[49m\u001b[43m)\u001b[49m\n\u001b[1;32m    267\u001b[0m     \u001b[38;5;28;01melse\u001b[39;00m:\n\u001b[1;32m    268\u001b[0m         \u001b[38;5;28;01mraise\u001b[39;00m RetryError(attempt)\n",
      "File \u001b[0;32m~/opt/anaconda3/envs/venv_debris_flow/lib/python3.10/site-packages/retrying.py:301\u001b[0m, in \u001b[0;36mAttempt.get\u001b[0;34m(self, wrap_exception)\u001b[0m\n\u001b[1;32m    299\u001b[0m         \u001b[38;5;28;01mraise\u001b[39;00m RetryError(\u001b[38;5;28mself\u001b[39m)\n\u001b[1;32m    300\u001b[0m     \u001b[38;5;28;01melse\u001b[39;00m:\n\u001b[0;32m--> 301\u001b[0m         \u001b[43msix\u001b[49m\u001b[38;5;241;43m.\u001b[39;49m\u001b[43mreraise\u001b[49m\u001b[43m(\u001b[49m\u001b[38;5;28;43mself\u001b[39;49m\u001b[38;5;241;43m.\u001b[39;49m\u001b[43mvalue\u001b[49m\u001b[43m[\u001b[49m\u001b[38;5;241;43m0\u001b[39;49m\u001b[43m]\u001b[49m\u001b[43m,\u001b[49m\u001b[43m \u001b[49m\u001b[38;5;28;43mself\u001b[39;49m\u001b[38;5;241;43m.\u001b[39;49m\u001b[43mvalue\u001b[49m\u001b[43m[\u001b[49m\u001b[38;5;241;43m1\u001b[39;49m\u001b[43m]\u001b[49m\u001b[43m,\u001b[49m\u001b[43m \u001b[49m\u001b[38;5;28;43mself\u001b[39;49m\u001b[38;5;241;43m.\u001b[39;49m\u001b[43mvalue\u001b[49m\u001b[43m[\u001b[49m\u001b[38;5;241;43m2\u001b[39;49m\u001b[43m]\u001b[49m\u001b[43m)\u001b[49m\n\u001b[1;32m    302\u001b[0m \u001b[38;5;28;01melse\u001b[39;00m:\n\u001b[1;32m    303\u001b[0m     \u001b[38;5;28;01mreturn\u001b[39;00m \u001b[38;5;28mself\u001b[39m\u001b[38;5;241m.\u001b[39mvalue\n",
      "File \u001b[0;32m~/opt/anaconda3/envs/venv_debris_flow/lib/python3.10/site-packages/six.py:719\u001b[0m, in \u001b[0;36mreraise\u001b[0;34m(tp, value, tb)\u001b[0m\n\u001b[1;32m    717\u001b[0m     \u001b[38;5;28;01mif\u001b[39;00m value\u001b[38;5;241m.\u001b[39m__traceback__ \u001b[38;5;129;01mis\u001b[39;00m \u001b[38;5;129;01mnot\u001b[39;00m tb:\n\u001b[1;32m    718\u001b[0m         \u001b[38;5;28;01mraise\u001b[39;00m value\u001b[38;5;241m.\u001b[39mwith_traceback(tb)\n\u001b[0;32m--> 719\u001b[0m     \u001b[38;5;28;01mraise\u001b[39;00m value\n\u001b[1;32m    720\u001b[0m \u001b[38;5;28;01mfinally\u001b[39;00m:\n\u001b[1;32m    721\u001b[0m     value \u001b[38;5;241m=\u001b[39m \u001b[38;5;28;01mNone\u001b[39;00m\n",
      "File \u001b[0;32m~/opt/anaconda3/envs/venv_debris_flow/lib/python3.10/site-packages/retrying.py:251\u001b[0m, in \u001b[0;36mRetrying.call\u001b[0;34m(self, fn, *args, **kwargs)\u001b[0m\n\u001b[1;32m    248\u001b[0m     \u001b[38;5;28mself\u001b[39m\u001b[38;5;241m.\u001b[39m_before_attempts(attempt_number)\n\u001b[1;32m    250\u001b[0m \u001b[38;5;28;01mtry\u001b[39;00m:\n\u001b[0;32m--> 251\u001b[0m     attempt \u001b[38;5;241m=\u001b[39m Attempt(\u001b[43mfn\u001b[49m\u001b[43m(\u001b[49m\u001b[38;5;241;43m*\u001b[39;49m\u001b[43margs\u001b[49m\u001b[43m,\u001b[49m\u001b[43m \u001b[49m\u001b[38;5;241;43m*\u001b[39;49m\u001b[38;5;241;43m*\u001b[39;49m\u001b[43mkwargs\u001b[49m\u001b[43m)\u001b[49m, attempt_number, \u001b[38;5;28;01mFalse\u001b[39;00m)\n\u001b[1;32m    252\u001b[0m \u001b[38;5;28;01mexcept\u001b[39;00m:\n\u001b[1;32m    253\u001b[0m     tb \u001b[38;5;241m=\u001b[39m sys\u001b[38;5;241m.\u001b[39mexc_info()\n",
      "File \u001b[0;32m~/opt/anaconda3/envs/venv_debris_flow/lib/python3.10/site-packages/jupyter_dash/jupyter_app.py:332\u001b[0m, in \u001b[0;36mJupyterDash.run_server.<locals>.wait_for_app\u001b[0;34m()\u001b[0m\n\u001b[1;32m    328\u001b[0m \u001b[38;5;28;01mif\u001b[39;00m res \u001b[38;5;241m!=\u001b[39m \u001b[38;5;124m\"\u001b[39m\u001b[38;5;124mAlive\u001b[39m\u001b[38;5;124m\"\u001b[39m:\n\u001b[1;32m    329\u001b[0m     url \u001b[38;5;241m=\u001b[39m \u001b[38;5;124m\"\u001b[39m\u001b[38;5;124mhttp://\u001b[39m\u001b[38;5;132;01m{host}\u001b[39;00m\u001b[38;5;124m:\u001b[39m\u001b[38;5;132;01m{port}\u001b[39;00m\u001b[38;5;124m\"\u001b[39m\u001b[38;5;241m.\u001b[39mformat(\n\u001b[1;32m    330\u001b[0m         host\u001b[38;5;241m=\u001b[39mhost, port\u001b[38;5;241m=\u001b[39mport, token\u001b[38;5;241m=\u001b[39mJupyterDash\u001b[38;5;241m.\u001b[39m_token\n\u001b[1;32m    331\u001b[0m     )\n\u001b[0;32m--> 332\u001b[0m     \u001b[38;5;28;01mraise\u001b[39;00m \u001b[38;5;167;01mOSError\u001b[39;00m(\n\u001b[1;32m    333\u001b[0m         \u001b[38;5;124m\"\u001b[39m\u001b[38;5;124mAddress \u001b[39m\u001b[38;5;124m'\u001b[39m\u001b[38;5;132;01m{url}\u001b[39;00m\u001b[38;5;124m'\u001b[39m\u001b[38;5;124m already in use.\u001b[39m\u001b[38;5;130;01m\\n\u001b[39;00m\u001b[38;5;124m\"\u001b[39m\n\u001b[1;32m    334\u001b[0m         \u001b[38;5;124m\"\u001b[39m\u001b[38;5;124m    Try passing a different port to run_server.\u001b[39m\u001b[38;5;124m\"\u001b[39m\u001b[38;5;241m.\u001b[39mformat(\n\u001b[1;32m    335\u001b[0m             url\u001b[38;5;241m=\u001b[39murl\n\u001b[1;32m    336\u001b[0m         )\n\u001b[1;32m    337\u001b[0m     )\n",
      "\u001b[0;31mOSError\u001b[0m: Address 'http://127.0.0.1:8050' already in use.\n    Try passing a different port to run_server."
     ]
    }
   ],
   "source": [
    "# MVP\n",
    "\n",
    "from dash import Dash, dcc, html, Input, Output\n",
    "import plotly.express as px\n",
    "\n",
    "from jupyter_dash import JupyterDash # for dev\n",
    "app = JupyterDash(__name__) # for dev\n",
    "#app = Dash(__name__)\n",
    "\n",
    "app.layout = html.Div([\n",
    "    html.H1(\"Change the value in the text box to see updated probability of Debris Flow\"),\n",
    "    html.Div([\n",
    "        \"Input Upcoming Rain Forecase (mm/h): \",\n",
    "         dcc.Input(id='rain_input', value='10', type='number', step=\"1\", min=0)\n",
    "    ]),\n",
    "    html.Br(),\n",
    "    html.Div([\n",
    "        dcc.Graph(id='map_plot',\n",
    "        )\n",
    "    ]),\n",
    "])\n",
    "\n",
    "\n",
    "# define initial map function\n",
    "def create_plot(plot_df):\n",
    "       \n",
    "    # create the plot with our new proba\n",
    "    fig = px.choropleth_mapbox(\n",
    "        plot_df,\n",
    "        plot_df['geometry_simple'], # this is the area\n",
    "        locations=plot_df.index, # needed to match all data correctly\n",
    "        color='proba',\n",
    "        range_color=(0, 1),\n",
    "        color_continuous_scale='OrRd',\n",
    "        #color_continuous_scale='RdBu_r',\n",
    "        #color_continuous_scale='Blackbody_r',\n",
    "        hover_name='state',\n",
    "        # format what's displayed\n",
    "        # trouble disabling the index from displayinin hover\n",
    "        hover_data={\n",
    "            'proba':':,.0%',\n",
    "        },\n",
    "        center=map_center,\n",
    "        mapbox_style='stamen-terrain',\n",
    "        height=800,\n",
    "        zoom=7,\n",
    "        opacity=0.5,\n",
    "    )\n",
    "    \n",
    "    fig2 = px.scatter_mapbox(\n",
    "        plot_df,\n",
    "        lat='lat', # point data\n",
    "        lon='lon', # point data\n",
    "        #color_discrete_map={'Debris-Flow': 'orange'},\n",
    "        size_max=6,\n",
    "        hover_data=['flowdate'],\n",
    "        #mapbox_style='stamen-terrain', # not needed when adding traces\n",
    "    )\n",
    "    # combine plots\n",
    "    fig.add_traces(fig2.data)\n",
    "    #fig.show()\n",
    "    #return fig\n",
    "    \n",
    "    fig.update_coloraxes(\n",
    "        colorbar_title='probability',\n",
    "        #colorbar_tick0=0,\n",
    "        cmin=0,\n",
    "        cmax=1,\n",
    "        colorbar_tickformat='.0%',\n",
    "        #color_tickvals=[.0, .1, .2, .3, .4, .5, .6, .7, .8, .9, 1.0],\n",
    "        #colorbar_tickmode='array',# array supposedly default if tickvals works\n",
    "        #colorbar_nticks=10,\n",
    "        #colorbar_dticks=.10,\n",
    "    )\n",
    "    \n",
    "    fig.update_layout(\n",
    "        title='Debris Flow Prediction',\n",
    "        #uirevision='true',\n",
    "        uirevision=True, # sometimes buggy but keeps zoom from resetting when input changes\n",
    "        #coloraxis_colorbar_x=0.01, # move to left side of screen\n",
    "        hoverlabel=dict(\n",
    "            font_size=14,\n",
    "        ),\n",
    "    )\n",
    "    # fig.update_traces(\n",
    "    #     hovertemplate={\n",
    "    #         'proba':':,.0%',\n",
    "    # },)\n",
    "    return fig\n",
    "\n",
    "@app.callback(\n",
    "    #Output(component_id='my_output', component_property='children'),\n",
    "    Output(component_id='map_plot', component_property='figure'),\n",
    "    Input(component_id='rain_input', component_property='value')\n",
    ")\n",
    "\n",
    "def display_map(input_value):\n",
    "    # fit the scaler on the input\n",
    "    rain_arr = pd.to_numeric(np.repeat(input_value, site_data.shape[0]))\n",
    "    rain_arr_scaled = (rain_arr - rain_scaler_mean) / rain_scaler_std\n",
    "    # now replace with the scaled input\n",
    "    X_scaled.loc[:,col_idx] = rain_arr_scaled\n",
    "    # pass to tensor\n",
    "    X_scaled_tensor = torch.tensor(X_scaled.values).float().to(device)\n",
    "    # and make prediction with the new rain amount\n",
    "    y_pred_tensor = model(X_scaled_tensor) # already sent to device when instantiated\n",
    "    # predicted probability, passed back to numpy\n",
    "    y_pred_proba = y_pred_tensor.detach().cpu().numpy().astype(np.float16) # smaller dtype\n",
    "    # in case you want the binary output for something\n",
    "    #y_pred_bool = np.round(y_pred_proba)\n",
    "    site_data['proba'] = y_pred_proba\n",
    "    \n",
    "    return create_plot(site_data)\n",
    "\n",
    "if __name__ == '__main__':\n",
    "    app.run_server(\n",
    "        debug=True,\n",
    "        mode='inline',\n",
    "        #host='localhost',\n",
    "        #port=8090,\n",
    "        #dev_tools_ui=True, \n",
    "        #dev_tools_hot_reload=True, \n",
    "        #threaded=True,\n",
    "    )\n",
    "#webbrowser.open(\"http://127.0.0.1:8050/\") # can open automatically to save a click"
   ]
  },
  {
   "cell_type": "code",
   "execution_count": null,
   "id": "1054a81b-d16a-47b8-a19c-868f3169b2b1",
   "metadata": {},
   "outputs": [],
   "source": [
    "help(px.choropleth)"
   ]
  },
  {
   "cell_type": "code",
   "execution_count": 13,
   "id": "e7b8f983-ddcc-4e1c-8e98-d63b018df8ed",
   "metadata": {},
   "outputs": [
    {
     "data": {
      "text/plain": [
       "\u001b[0;31mSignature:\u001b[0m\n",
       "\u001b[0mapp\u001b[0m\u001b[0;34m.\u001b[0m\u001b[0mrun_server\u001b[0m\u001b[0;34m(\u001b[0m\u001b[0;34m\u001b[0m\n",
       "\u001b[0;34m\u001b[0m    \u001b[0mmode\u001b[0m\u001b[0;34m=\u001b[0m\u001b[0;32mNone\u001b[0m\u001b[0;34m,\u001b[0m\u001b[0;34m\u001b[0m\n",
       "\u001b[0;34m\u001b[0m    \u001b[0mwidth\u001b[0m\u001b[0;34m=\u001b[0m\u001b[0;34m'100%'\u001b[0m\u001b[0;34m,\u001b[0m\u001b[0;34m\u001b[0m\n",
       "\u001b[0;34m\u001b[0m    \u001b[0mheight\u001b[0m\u001b[0;34m=\u001b[0m\u001b[0;36m650\u001b[0m\u001b[0;34m,\u001b[0m\u001b[0;34m\u001b[0m\n",
       "\u001b[0;34m\u001b[0m    \u001b[0minline_exceptions\u001b[0m\u001b[0;34m=\u001b[0m\u001b[0;32mNone\u001b[0m\u001b[0;34m,\u001b[0m\u001b[0;34m\u001b[0m\n",
       "\u001b[0;34m\u001b[0m    \u001b[0;34m**\u001b[0m\u001b[0mkwargs\u001b[0m\u001b[0;34m,\u001b[0m\u001b[0;34m\u001b[0m\n",
       "\u001b[0;34m\u001b[0m\u001b[0;34m)\u001b[0m\u001b[0;34m\u001b[0m\u001b[0;34m\u001b[0m\u001b[0m\n",
       "\u001b[0;31mDocstring:\u001b[0m\n",
       "Serve the app using flask in a background thread. You should not run this on a\n",
       "production server, use gunicorn/waitress instead.\n",
       "\n",
       ":param mode: Display mode. One of:\n",
       "    ``\"external\"``: The URL of the app will be displayed in the notebook\n",
       "        output cell. Clicking this URL will open the app in the default\n",
       "        web browser.\n",
       "    ``\"inline\"``: The app will be displayed inline in the notebook output cell\n",
       "        in an iframe.\n",
       "    ``\"jupyterlab\"``: The app will be displayed in a dedicate tab in the\n",
       "        JupyterLab interface. Requires JupyterLab and the `jupyterlab-dash`\n",
       "        extension.\n",
       ":param width: Width of app when displayed using mode=\"inline\"\n",
       ":param height: Height of app when displayed using mode=\"inline\"\n",
       ":param inline_exceptions: If True, callback exceptions are displayed inline\n",
       "    in the the notebook output cell. Defaults to True if mode==\"inline\",\n",
       "    False otherwise.\n",
       ":param kwargs: Additional keyword arguments to pass to the superclass\n",
       "    ``Dash.run_server`` method.\n",
       "\u001b[0;31mFile:\u001b[0m      ~/opt/anaconda3/envs/venv_debris_flow/lib/python3.10/site-packages/jupyter_dash/jupyter_app.py\n",
       "\u001b[0;31mType:\u001b[0m      method"
      ]
     },
     "metadata": {},
     "output_type": "display_data"
    }
   ],
   "source": [
    "app.run_server?"
   ]
  }
 ],
 "metadata": {
  "kernelspec": {
   "display_name": "venv_debris_flow",
   "language": "python",
   "name": "venv_debris_flow"
  },
  "language_info": {
   "codemirror_mode": {
    "name": "ipython",
    "version": 3
   },
   "file_extension": ".py",
   "mimetype": "text/x-python",
   "name": "python",
   "nbconvert_exporter": "python",
   "pygments_lexer": "ipython3",
   "version": "3.10.10"
  }
 },
 "nbformat": 4,
 "nbformat_minor": 5
}
